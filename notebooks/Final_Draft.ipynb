{
  "cells": [
    {
      "cell_type": "markdown",
      "metadata": {
        "id": "-WbO7ZsOumvn"
      },
      "source": []
    },
    {
      "cell_type": "markdown",
      "metadata": {
        "id": "WZ6p7EJpuqKZ"
      },
      "source": [
        "# Predicting Musical Genres from Personal Streaming History\n",
        "\n",
        "### CS156- Machine Learning\n",
        "### Date: October 21, 2025.\n",
        "### Professor Watson"
      ]
    },
    {
      "cell_type": "markdown",
      "metadata": {
        "id": "yUndybvYvQ12"
      },
      "source": [
        "# 1. Data Explanation\n",
        "\n",
        "This project analyzes my personal Spotify streaming history spanning from 2023 to early 2025. The dataset represents a comprehensive digital archive of my music listening behavior, obtained directly from Spotify through their GDPR-compliant data download feature available in user privacy settings.\n",
        "\n",
        "The data was acquired by:\n",
        "1. Requesting my extended streaming history from Spotify's privacy dashboard\n",
        "2. Waiting approximately 30 days for Spotify to compile the complete dataset, but got the data in three days.\n",
        "3. Downloading the data package, which arrived as multiple JSON files.\n",
        "\n",
        "I focused on the audio file which had my history since 2023. The raw dataset `Streaming_History_Audio_2023-2025_*.json`, contains an array of listening event objects with the following key attributes:\n",
        "\n",
        "- **`ts`** (timestamp): The exact date and time when the stream occurred, in ISO 8601 format\n",
        "- **`ms_played`** (milliseconds played): Duration for which the track was played, recorded in milliseconds\n",
        "- **`master_metadata_track_name`**: The official name of the song as it appears in Spotify's catalog\n",
        "- **`master_metadata_album_artist_name`**: The primary artist credited for the track\n",
        "- **`master_metadata_album_album_name`**: The album or single from which the track originates\n",
        "- **`spotify_track_uri`**: A unique identifier (URI) for each track in Spotify's system, following the format `spotify:track:<id>`\n",
        "- **`reason_start`** and **`reason_end`**: Metadata about how the stream was initiated and terminated\n",
        "- **`shuffle`**, **`skipped`**, **`offline`**: Boolean flags indicating playback context\n",
        "\n"
      ]
    },
    {
      "cell_type": "markdown",
      "metadata": {
        "id": "D0gmmmn0xQb3"
      },
      "source": [
        "# 2.Data Loading"
      ]
    },
    {
      "cell_type": "markdown",
      "metadata": {
        "id": "gTCbRaoFx4Ge"
      },
      "source": [
        "I begin this analysis by importing the libraries for the data manipulation and visualization."
      ]
    },
    {
      "cell_type": "code",
      "execution_count": 2,
      "metadata": {
        "id": "PIxJ0fSmuUqK"
      },
      "outputs": [
        {
          "name": "stdout",
          "output_type": "stream",
          "text": [
            "✓ All libraries imported successfully\n"
          ]
        }
      ],
      "source": [
        "# Data manipulation and analysis\n",
        "import pandas as pd\n",
        "import numpy as np\n",
        "\n",
        "# File system operations\n",
        "import os\n",
        "import json\n",
        "import glob\n",
        "\n",
        "# Data visualization\n",
        "import plotly.express as px\n",
        "import plotly.graph_objects as go\n",
        "from plotly.subplots import make_subplots\n",
        "\n",
        "# --- Machine Learning ---\n",
        "from sklearn.model_selection import train_test_split, StratifiedKFold\n",
        "from sklearn.preprocessing import LabelEncoder, StandardScaler\n",
        "from sklearn.linear_model import LogisticRegression\n",
        "from sklearn.ensemble import RandomForestClassifier, GradientBoostingClassifier\n",
        "from sklearn.metrics import accuracy_score, precision_recall_fscore_support, confusion_matrix\n",
        "\n",
        "# Suppress warnings for cleaner output\n",
        "import warnings\n",
        "warnings.filterwarnings('ignore')\n",
        "\n",
        "print(\"✓ All libraries imported successfully\")"
      ]
    },
    {
      "cell_type": "markdown",
      "metadata": {
        "id": "cGE7jD2IyD4D"
      },
      "source": [
        "### Loading and Parsing The Data\n",
        "\n",
        "On a high level I followed these three steps to convert the raw spotify data into csv:\n",
        "\n",
        "1. Parse each JSON file and extract the streaming records\n",
        "2. Concatenate all records into a single pandas DataFrame\n",
        "3. Save the combined dataset as a CSV for easier subsequent access\n",
        "\n",
        "Once I had transformed this raw data into workable CSV file using the scripts in ML_Pipeline/src/parse.py. The result from running the code in this file was the `combined_streaming_history.csv` file. The code below just loads it from my file directory because it already exists and then displays the first 5 row of the data."
      ]
    },
    {
      "cell_type": "code",
      "execution_count": 3,
      "metadata": {
        "id": "LZvycLPiyuJ8"
      },
      "outputs": [
        {
          "name": "stdout",
          "output_type": "stream",
          "text": [
            "✓ Found existing combined dataset at '../Ingested_Data/combined_streaming_history.csv'\n",
            "  Loading from CSV...\n",
            "\n",
            "======================================================================\n",
            "COMBINED DATASET SUMMARY\n",
            "======================================================================\n",
            "Total streaming events: 16,053\n",
            "Dataset shape: 16,053 rows × 23 columns\n",
            "\n",
            "First 5 records:\n"
          ]
        },
        {
          "data": {
            "text/html": [
              "<div>\n",
              "<style scoped>\n",
              "    .dataframe tbody tr th:only-of-type {\n",
              "        vertical-align: middle;\n",
              "    }\n",
              "\n",
              "    .dataframe tbody tr th {\n",
              "        vertical-align: top;\n",
              "    }\n",
              "\n",
              "    .dataframe thead th {\n",
              "        text-align: right;\n",
              "    }\n",
              "</style>\n",
              "<table border=\"1\" class=\"dataframe\">\n",
              "  <thead>\n",
              "    <tr style=\"text-align: right;\">\n",
              "      <th></th>\n",
              "      <th>ts</th>\n",
              "      <th>platform</th>\n",
              "      <th>ms_played</th>\n",
              "      <th>conn_country</th>\n",
              "      <th>ip_addr</th>\n",
              "      <th>master_metadata_track_name</th>\n",
              "      <th>master_metadata_album_artist_name</th>\n",
              "      <th>master_metadata_album_album_name</th>\n",
              "      <th>spotify_track_uri</th>\n",
              "      <th>episode_name</th>\n",
              "      <th>...</th>\n",
              "      <th>audiobook_uri</th>\n",
              "      <th>audiobook_chapter_uri</th>\n",
              "      <th>audiobook_chapter_title</th>\n",
              "      <th>reason_start</th>\n",
              "      <th>reason_end</th>\n",
              "      <th>shuffle</th>\n",
              "      <th>skipped</th>\n",
              "      <th>offline</th>\n",
              "      <th>offline_timestamp</th>\n",
              "      <th>incognito_mode</th>\n",
              "    </tr>\n",
              "  </thead>\n",
              "  <tbody>\n",
              "    <tr>\n",
              "      <th>0</th>\n",
              "      <td>2023-08-27T01:02:32Z</td>\n",
              "      <td>windows</td>\n",
              "      <td>1265604</td>\n",
              "      <td>US</td>\n",
              "      <td>136.24.106.5</td>\n",
              "      <td>NaN</td>\n",
              "      <td>NaN</td>\n",
              "      <td>NaN</td>\n",
              "      <td>NaN</td>\n",
              "      <td>This Conversation About the 'Reading Mind' Is ...</td>\n",
              "      <td>...</td>\n",
              "      <td>NaN</td>\n",
              "      <td>NaN</td>\n",
              "      <td>NaN</td>\n",
              "      <td>remote</td>\n",
              "      <td>logout</td>\n",
              "      <td>False</td>\n",
              "      <td>False</td>\n",
              "      <td>False</td>\n",
              "      <td>NaN</td>\n",
              "      <td>False</td>\n",
              "    </tr>\n",
              "    <tr>\n",
              "      <th>1</th>\n",
              "      <td>2023-08-27T06:39:41Z</td>\n",
              "      <td>windows</td>\n",
              "      <td>1164082</td>\n",
              "      <td>US</td>\n",
              "      <td>12.13.248.226</td>\n",
              "      <td>NaN</td>\n",
              "      <td>NaN</td>\n",
              "      <td>NaN</td>\n",
              "      <td>NaN</td>\n",
              "      <td>This Conversation About the 'Reading Mind' Is ...</td>\n",
              "      <td>...</td>\n",
              "      <td>NaN</td>\n",
              "      <td>NaN</td>\n",
              "      <td>NaN</td>\n",
              "      <td>clickrow</td>\n",
              "      <td>endplay</td>\n",
              "      <td>False</td>\n",
              "      <td>True</td>\n",
              "      <td>False</td>\n",
              "      <td>1.693102e+09</td>\n",
              "      <td>False</td>\n",
              "    </tr>\n",
              "    <tr>\n",
              "      <th>2</th>\n",
              "      <td>2023-09-03T05:26:16Z</td>\n",
              "      <td>windows</td>\n",
              "      <td>3810</td>\n",
              "      <td>US</td>\n",
              "      <td>136.24.106.5</td>\n",
              "      <td>NaN</td>\n",
              "      <td>NaN</td>\n",
              "      <td>NaN</td>\n",
              "      <td>NaN</td>\n",
              "      <td>This Conversation About the 'Reading Mind' Is ...</td>\n",
              "      <td>...</td>\n",
              "      <td>NaN</td>\n",
              "      <td>NaN</td>\n",
              "      <td>NaN</td>\n",
              "      <td>playbtn</td>\n",
              "      <td>logout</td>\n",
              "      <td>False</td>\n",
              "      <td>False</td>\n",
              "      <td>False</td>\n",
              "      <td>1.693719e+09</td>\n",
              "      <td>False</td>\n",
              "    </tr>\n",
              "    <tr>\n",
              "      <th>3</th>\n",
              "      <td>2023-09-03T12:46:29Z</td>\n",
              "      <td>windows</td>\n",
              "      <td>4592540</td>\n",
              "      <td>US</td>\n",
              "      <td>136.24.106.5</td>\n",
              "      <td>NaN</td>\n",
              "      <td>NaN</td>\n",
              "      <td>NaN</td>\n",
              "      <td>NaN</td>\n",
              "      <td>This Conversation About the 'Reading Mind' Is ...</td>\n",
              "      <td>...</td>\n",
              "      <td>NaN</td>\n",
              "      <td>NaN</td>\n",
              "      <td>NaN</td>\n",
              "      <td>appload</td>\n",
              "      <td>logout</td>\n",
              "      <td>False</td>\n",
              "      <td>False</td>\n",
              "      <td>False</td>\n",
              "      <td>1.693740e+09</td>\n",
              "      <td>False</td>\n",
              "    </tr>\n",
              "    <tr>\n",
              "      <th>4</th>\n",
              "      <td>2023-09-04T00:29:31Z</td>\n",
              "      <td>ios</td>\n",
              "      <td>393360</td>\n",
              "      <td>US</td>\n",
              "      <td>172.56.209.239</td>\n",
              "      <td>Another In The Fire - Live</td>\n",
              "      <td>Hillsong UNITED</td>\n",
              "      <td>People</td>\n",
              "      <td>spotify:track:5PmHmU5AaBy9ld3bdQkD96</td>\n",
              "      <td>NaN</td>\n",
              "      <td>...</td>\n",
              "      <td>NaN</td>\n",
              "      <td>NaN</td>\n",
              "      <td>NaN</td>\n",
              "      <td>playbtn</td>\n",
              "      <td>trackdone</td>\n",
              "      <td>True</td>\n",
              "      <td>False</td>\n",
              "      <td>False</td>\n",
              "      <td>1.693787e+09</td>\n",
              "      <td>False</td>\n",
              "    </tr>\n",
              "  </tbody>\n",
              "</table>\n",
              "<p>5 rows × 23 columns</p>\n",
              "</div>"
            ],
            "text/plain": [
              "                     ts platform  ms_played conn_country         ip_addr  \\\n",
              "0  2023-08-27T01:02:32Z  windows    1265604           US    136.24.106.5   \n",
              "1  2023-08-27T06:39:41Z  windows    1164082           US   12.13.248.226   \n",
              "2  2023-09-03T05:26:16Z  windows       3810           US    136.24.106.5   \n",
              "3  2023-09-03T12:46:29Z  windows    4592540           US    136.24.106.5   \n",
              "4  2023-09-04T00:29:31Z      ios     393360           US  172.56.209.239   \n",
              "\n",
              "   master_metadata_track_name master_metadata_album_artist_name  \\\n",
              "0                         NaN                               NaN   \n",
              "1                         NaN                               NaN   \n",
              "2                         NaN                               NaN   \n",
              "3                         NaN                               NaN   \n",
              "4  Another In The Fire - Live                   Hillsong UNITED   \n",
              "\n",
              "  master_metadata_album_album_name                     spotify_track_uri  \\\n",
              "0                              NaN                                   NaN   \n",
              "1                              NaN                                   NaN   \n",
              "2                              NaN                                   NaN   \n",
              "3                              NaN                                   NaN   \n",
              "4                           People  spotify:track:5PmHmU5AaBy9ld3bdQkD96   \n",
              "\n",
              "                                        episode_name  ... audiobook_uri  \\\n",
              "0  This Conversation About the 'Reading Mind' Is ...  ...           NaN   \n",
              "1  This Conversation About the 'Reading Mind' Is ...  ...           NaN   \n",
              "2  This Conversation About the 'Reading Mind' Is ...  ...           NaN   \n",
              "3  This Conversation About the 'Reading Mind' Is ...  ...           NaN   \n",
              "4                                                NaN  ...           NaN   \n",
              "\n",
              "  audiobook_chapter_uri audiobook_chapter_title reason_start reason_end  \\\n",
              "0                   NaN                     NaN       remote     logout   \n",
              "1                   NaN                     NaN     clickrow    endplay   \n",
              "2                   NaN                     NaN      playbtn     logout   \n",
              "3                   NaN                     NaN      appload     logout   \n",
              "4                   NaN                     NaN      playbtn  trackdone   \n",
              "\n",
              "  shuffle skipped offline  offline_timestamp  incognito_mode  \n",
              "0   False   False   False                NaN           False  \n",
              "1   False    True   False       1.693102e+09           False  \n",
              "2   False   False   False       1.693719e+09           False  \n",
              "3   False   False   False       1.693740e+09           False  \n",
              "4    True   False   False       1.693787e+09           False  \n",
              "\n",
              "[5 rows x 23 columns]"
            ]
          },
          "execution_count": 3,
          "metadata": {},
          "output_type": "execute_result"
        }
      ],
      "source": [
        "# Define file paths\n",
        "raw_data_pattern = '../Streaming_History_Audio_*.json'\n",
        "ingested_data_dir = '../Ingested_Data'\n",
        "combined_csv_path = os.path.join(ingested_data_dir, 'combined_streaming_history.csv')\n",
        "\n",
        "# Create output directory if it doesn't exist\n",
        "os.makedirs(ingested_data_dir, exist_ok=True)\n",
        "\n",
        "# Check if combined CSV already exists\n",
        "if os.path.exists(combined_csv_path):\n",
        "    print(f\"✓ Found existing combined dataset at '{combined_csv_path}'\")\n",
        "    print(\"  Loading from CSV...\")\n",
        "    df_combined = pd.read_csv(combined_csv_path)\n",
        "else:\n",
        "    print(\"✗ Combined dataset not found. Creating from raw JSON files...\")\n",
        "\n",
        "    # Find all JSON files matching the pattern\n",
        "    json_files = glob.glob(raw_data_pattern)\n",
        "\n",
        "    if not json_files:\n",
        "        raise FileNotFoundError(f\"No JSON files found matching pattern: {raw_data_pattern}\")\n",
        "\n",
        "    print(f\"  Found {len(json_files)} JSON file(s) to process\")\n",
        "\n",
        "    # Load and combine all JSON data\n",
        "    all_streaming_data = []\n",
        "    for json_file in json_files:\n",
        "        with open(json_file, 'r', encoding='utf-8') as f:\n",
        "            file_data = json.load(f)\n",
        "            all_streaming_data.extend(file_data)\n",
        "            print(f\"  → Loaded {len(file_data):,} records from {os.path.basename(json_file)}\")\n",
        "\n",
        "    # Convert to DataFrame\n",
        "    df_combined = pd.DataFrame(all_streaming_data)\n",
        "\n",
        "    # Save combined dataset\n",
        "    df_combined.to_csv(combined_csv_path, index=False)\n",
        "    print(f\"\\n✓ Combined dataset saved to '{combined_csv_path}'\")\n",
        "\n",
        "# Display dataset information\n",
        "print(f\"\\n{'='*70}\")\n",
        "print(f\"COMBINED DATASET SUMMARY\")\n",
        "print(f\"{'='*70}\")\n",
        "print(f\"Total streaming events: {len(df_combined):,}\")\n",
        "print(f\"Dataset shape: {df_combined.shape[0]:,} rows × {df_combined.shape[1]} columns\")\n",
        "print(f\"\\nFirst 5 records:\")\n",
        "df_combined.head()"
      ]
    },
    {
      "cell_type": "code",
      "execution_count": 4,
      "metadata": {
        "id": "NV6b94Pq48OA"
      },
      "outputs": [
        {
          "name": "stdout",
          "output_type": "stream",
          "text": [
            "Column Information:\n",
            "ts                                    object\n",
            "platform                              object\n",
            "ms_played                              int64\n",
            "conn_country                          object\n",
            "ip_addr                               object\n",
            "master_metadata_track_name            object\n",
            "master_metadata_album_artist_name     object\n",
            "master_metadata_album_album_name      object\n",
            "spotify_track_uri                     object\n",
            "episode_name                          object\n",
            "episode_show_name                     object\n",
            "spotify_episode_uri                   object\n",
            "audiobook_title                       object\n",
            "audiobook_uri                         object\n",
            "audiobook_chapter_uri                 object\n",
            "audiobook_chapter_title               object\n",
            "reason_start                          object\n",
            "reason_end                            object\n",
            "shuffle                                 bool\n",
            "skipped                                 bool\n",
            "offline                                 bool\n",
            "offline_timestamp                    float64\n",
            "incognito_mode                          bool\n",
            "dtype: object\n",
            "\n",
            "Memory usage: 14.57 MB\n",
            "\n",
            "Missing Values:\n",
            "  episode_name: 16,043 (99.94%)\n",
            "  episode_show_name: 16,043 (99.94%)\n",
            "  spotify_episode_uri: 16,043 (99.94%)\n",
            "  audiobook_title: 15,995 (99.64%)\n",
            "  audiobook_uri: 15,995 (99.64%)\n",
            "  audiobook_chapter_uri: 15,995 (99.64%)\n",
            "  audiobook_chapter_title: 15,995 (99.64%)\n",
            "  master_metadata_track_name: 68 (0.42%)\n",
            "  master_metadata_album_artist_name: 68 (0.42%)\n",
            "  master_metadata_album_album_name: 68 (0.42%)\n",
            "  spotify_track_uri: 68 (0.42%)\n",
            "  offline_timestamp: 3 (0.02%)\n"
          ]
        }
      ],
      "source": [
        "# Display column names and data types\n",
        "print(\"Column Information:\")\n",
        "print(df_combined.dtypes)\n",
        "print(f\"\\nMemory usage: {df_combined.memory_usage(deep=True).sum() / 1024**2:.2f} MB\")\n",
        "\n",
        "# Check for missing values\n",
        "print(f\"\\nMissing Values:\")\n",
        "missing_summary = df_combined.isnull().sum()\n",
        "missing_summary = missing_summary[missing_summary > 0].sort_values(ascending=False)\n",
        "if len(missing_summary) > 0:\n",
        "    for col, count in missing_summary.items():\n",
        "        pct = (count / len(df_combined)) * 100\n",
        "        print(f\"  {col}: {count:,} ({pct:.2f}%)\")\n",
        "else:\n",
        "    print(\"  No missing values detected\")"
      ]
    },
    {
      "cell_type": "markdown",
      "metadata": {
        "id": "CTZ3kEU52kIg"
      },
      "source": [
        "# 3. Cleaning, Pre-processing, and Feature Engineering.\n",
        "\n",
        "Once this file had been transformed into Workable CSV file, I discovered that it contained some of the podcasts which I had listened to, so the next step was to to remove those files, which I did. This resulted in the file `cleaned_streaming_history.csv` stripped off the podcast files. In this section, I removed all the streaming events which lacked essential information like the track name or the URI from the `combined_streaming_history.csv` dataset. In this step, too, I converted the timestamp field from string to datetime format and also converted the units from milliseconds into more interpretable unit (seconds and minutes).\n"
      ]
    },
    {
      "cell_type": "code",
      "execution_count": 5,
      "metadata": {
        "id": "PMKTkllm9SNs"
      },
      "outputs": [
        {
          "name": "stdout",
          "output_type": "stream",
          "text": [
            "✓ Found existing cleaned dataset at '../Ingested_Data/cleaned_streaming_history.csv'\n",
            "  Loading from CSV...\n",
            "\n",
            "======================================================================\n",
            "CLEANED DATASET SUMMARY\n",
            "======================================================================\n",
            "Total cleaned records: 12,727\n",
            "Dataset shape: 12,727 rows × 34 columns\n",
            "\n",
            "First 5 cleaned records:\n"
          ]
        },
        {
          "data": {
            "text/html": [
              "<div>\n",
              "<style scoped>\n",
              "    .dataframe tbody tr th:only-of-type {\n",
              "        vertical-align: middle;\n",
              "    }\n",
              "\n",
              "    .dataframe tbody tr th {\n",
              "        vertical-align: top;\n",
              "    }\n",
              "\n",
              "    .dataframe thead th {\n",
              "        text-align: right;\n",
              "    }\n",
              "</style>\n",
              "<table border=\"1\" class=\"dataframe\">\n",
              "  <thead>\n",
              "    <tr style=\"text-align: right;\">\n",
              "      <th></th>\n",
              "      <th>ts</th>\n",
              "      <th>platform</th>\n",
              "      <th>ms_played</th>\n",
              "      <th>conn_country</th>\n",
              "      <th>ip_addr</th>\n",
              "      <th>master_metadata_track_name</th>\n",
              "      <th>master_metadata_album_artist_name</th>\n",
              "      <th>master_metadata_album_album_name</th>\n",
              "      <th>spotify_track_uri</th>\n",
              "      <th>episode_name</th>\n",
              "      <th>...</th>\n",
              "      <th>date</th>\n",
              "      <th>hour</th>\n",
              "      <th>day_of_week</th>\n",
              "      <th>month</th>\n",
              "      <th>year</th>\n",
              "      <th>seconds_played</th>\n",
              "      <th>minutes_played</th>\n",
              "      <th>artist_name</th>\n",
              "      <th>track_name</th>\n",
              "      <th>album_name</th>\n",
              "    </tr>\n",
              "  </thead>\n",
              "  <tbody>\n",
              "    <tr>\n",
              "      <th>0</th>\n",
              "      <td>2023-09-04T00:29:31Z</td>\n",
              "      <td>ios</td>\n",
              "      <td>393360</td>\n",
              "      <td>US</td>\n",
              "      <td>172.56.209.239</td>\n",
              "      <td>Another In The Fire - Live</td>\n",
              "      <td>Hillsong UNITED</td>\n",
              "      <td>People</td>\n",
              "      <td>spotify:track:5PmHmU5AaBy9ld3bdQkD96</td>\n",
              "      <td>NaN</td>\n",
              "      <td>...</td>\n",
              "      <td>2023-09-04</td>\n",
              "      <td>0</td>\n",
              "      <td>Monday</td>\n",
              "      <td>9</td>\n",
              "      <td>2023</td>\n",
              "      <td>393.360</td>\n",
              "      <td>6.556000</td>\n",
              "      <td>Hillsong UNITED</td>\n",
              "      <td>Another In The Fire - Live</td>\n",
              "      <td>People</td>\n",
              "    </tr>\n",
              "    <tr>\n",
              "      <th>1</th>\n",
              "      <td>2023-09-04T00:36:52Z</td>\n",
              "      <td>ios</td>\n",
              "      <td>353546</td>\n",
              "      <td>US</td>\n",
              "      <td>172.56.209.239</td>\n",
              "      <td>Good Grace - Live</td>\n",
              "      <td>Hillsong UNITED</td>\n",
              "      <td>People</td>\n",
              "      <td>spotify:track:7nzmXUrZwSOJPNmV0mOmEn</td>\n",
              "      <td>NaN</td>\n",
              "      <td>...</td>\n",
              "      <td>2023-09-04</td>\n",
              "      <td>0</td>\n",
              "      <td>Monday</td>\n",
              "      <td>9</td>\n",
              "      <td>2023</td>\n",
              "      <td>353.546</td>\n",
              "      <td>5.892433</td>\n",
              "      <td>Hillsong UNITED</td>\n",
              "      <td>Good Grace - Live</td>\n",
              "      <td>People</td>\n",
              "    </tr>\n",
              "    <tr>\n",
              "      <th>2</th>\n",
              "      <td>2023-09-04T00:40:11Z</td>\n",
              "      <td>ios</td>\n",
              "      <td>197657</td>\n",
              "      <td>US</td>\n",
              "      <td>172.56.209.239</td>\n",
              "      <td>Echoes (Till We See The Other Side) - Live</td>\n",
              "      <td>Hillsong UNITED</td>\n",
              "      <td>People</td>\n",
              "      <td>spotify:track:0oHYnQXUrFoIm0xraAmdNG</td>\n",
              "      <td>NaN</td>\n",
              "      <td>...</td>\n",
              "      <td>2023-09-04</td>\n",
              "      <td>0</td>\n",
              "      <td>Monday</td>\n",
              "      <td>9</td>\n",
              "      <td>2023</td>\n",
              "      <td>197.657</td>\n",
              "      <td>3.294283</td>\n",
              "      <td>Hillsong UNITED</td>\n",
              "      <td>Echoes (Till We See The Other Side) - Live</td>\n",
              "      <td>People</td>\n",
              "    </tr>\n",
              "    <tr>\n",
              "      <th>3</th>\n",
              "      <td>2023-09-04T00:41:55Z</td>\n",
              "      <td>ios</td>\n",
              "      <td>55170</td>\n",
              "      <td>US</td>\n",
              "      <td>172.56.209.239</td>\n",
              "      <td>Not Today</td>\n",
              "      <td>Hillsong UNITED</td>\n",
              "      <td>Wonder</td>\n",
              "      <td>spotify:track:33Nyq9QfKCXEQtzeg22vg7</td>\n",
              "      <td>NaN</td>\n",
              "      <td>...</td>\n",
              "      <td>2023-09-04</td>\n",
              "      <td>0</td>\n",
              "      <td>Monday</td>\n",
              "      <td>9</td>\n",
              "      <td>2023</td>\n",
              "      <td>55.170</td>\n",
              "      <td>0.919500</td>\n",
              "      <td>Hillsong UNITED</td>\n",
              "      <td>Not Today</td>\n",
              "      <td>Wonder</td>\n",
              "    </tr>\n",
              "    <tr>\n",
              "      <th>4</th>\n",
              "      <td>2023-09-04T00:43:46Z</td>\n",
              "      <td>ios</td>\n",
              "      <td>48599</td>\n",
              "      <td>US</td>\n",
              "      <td>172.56.209.239</td>\n",
              "      <td>Glory and Majesty</td>\n",
              "      <td>Jon Reddick</td>\n",
              "      <td>God, Turn It Around</td>\n",
              "      <td>spotify:track:5lvrYFNaUV2eib9Tas1gZK</td>\n",
              "      <td>NaN</td>\n",
              "      <td>...</td>\n",
              "      <td>2023-09-04</td>\n",
              "      <td>0</td>\n",
              "      <td>Monday</td>\n",
              "      <td>9</td>\n",
              "      <td>2023</td>\n",
              "      <td>48.599</td>\n",
              "      <td>0.809983</td>\n",
              "      <td>Jon Reddick</td>\n",
              "      <td>Glory and Majesty</td>\n",
              "      <td>God, Turn It Around</td>\n",
              "    </tr>\n",
              "  </tbody>\n",
              "</table>\n",
              "<p>5 rows × 34 columns</p>\n",
              "</div>"
            ],
            "text/plain": [
              "                     ts platform  ms_played conn_country         ip_addr  \\\n",
              "0  2023-09-04T00:29:31Z      ios     393360           US  172.56.209.239   \n",
              "1  2023-09-04T00:36:52Z      ios     353546           US  172.56.209.239   \n",
              "2  2023-09-04T00:40:11Z      ios     197657           US  172.56.209.239   \n",
              "3  2023-09-04T00:41:55Z      ios      55170           US  172.56.209.239   \n",
              "4  2023-09-04T00:43:46Z      ios      48599           US  172.56.209.239   \n",
              "\n",
              "                   master_metadata_track_name  \\\n",
              "0                  Another In The Fire - Live   \n",
              "1                           Good Grace - Live   \n",
              "2  Echoes (Till We See The Other Side) - Live   \n",
              "3                                   Not Today   \n",
              "4                           Glory and Majesty   \n",
              "\n",
              "  master_metadata_album_artist_name master_metadata_album_album_name  \\\n",
              "0                   Hillsong UNITED                           People   \n",
              "1                   Hillsong UNITED                           People   \n",
              "2                   Hillsong UNITED                           People   \n",
              "3                   Hillsong UNITED                           Wonder   \n",
              "4                       Jon Reddick              God, Turn It Around   \n",
              "\n",
              "                      spotify_track_uri  episode_name  ...        date  hour  \\\n",
              "0  spotify:track:5PmHmU5AaBy9ld3bdQkD96           NaN  ...  2023-09-04     0   \n",
              "1  spotify:track:7nzmXUrZwSOJPNmV0mOmEn           NaN  ...  2023-09-04     0   \n",
              "2  spotify:track:0oHYnQXUrFoIm0xraAmdNG           NaN  ...  2023-09-04     0   \n",
              "3  spotify:track:33Nyq9QfKCXEQtzeg22vg7           NaN  ...  2023-09-04     0   \n",
              "4  spotify:track:5lvrYFNaUV2eib9Tas1gZK           NaN  ...  2023-09-04     0   \n",
              "\n",
              "   day_of_week  month  year  seconds_played minutes_played      artist_name  \\\n",
              "0       Monday      9  2023         393.360       6.556000  Hillsong UNITED   \n",
              "1       Monday      9  2023         353.546       5.892433  Hillsong UNITED   \n",
              "2       Monday      9  2023         197.657       3.294283  Hillsong UNITED   \n",
              "3       Monday      9  2023          55.170       0.919500  Hillsong UNITED   \n",
              "4       Monday      9  2023          48.599       0.809983      Jon Reddick   \n",
              "\n",
              "                                   track_name           album_name  \n",
              "0                  Another In The Fire - Live               People  \n",
              "1                           Good Grace - Live               People  \n",
              "2  Echoes (Till We See The Other Side) - Live               People  \n",
              "3                                   Not Today               Wonder  \n",
              "4                           Glory and Majesty  God, Turn It Around  \n",
              "\n",
              "[5 rows x 34 columns]"
            ]
          },
          "execution_count": 5,
          "metadata": {},
          "output_type": "execute_result"
        }
      ],
      "source": [
        "# Define path for cleaned dataset\n",
        "cleaned_csv_path = os.path.join(ingested_data_dir, 'cleaned_streaming_history.csv')\n",
        "\n",
        "# Check if cleaned dataset already exists\n",
        "if os.path.exists(cleaned_csv_path):\n",
        "    print(f\"✓ Found existing cleaned dataset at '{cleaned_csv_path}'\")\n",
        "    print(\"  Loading from CSV...\")\n",
        "    df_cleaned = pd.read_csv(cleaned_csv_path)\n",
        "    # Convert timestamp column back to datetime\n",
        "    df_cleaned['timestamp'] = pd.to_datetime(df_cleaned['timestamp'])\n",
        "else:\n",
        "    print(\"✗ Cleaned dataset not found. Performing data cleaning...\")\n",
        "\n",
        "    # Create a copy to avoid modifying the original\n",
        "    df_cleaned = df_combined.copy()\n",
        "\n",
        "    # Step 1: Remove rows with missing essential metadata\n",
        "    initial_count = len(df_cleaned)\n",
        "    df_cleaned = df_cleaned.dropna(subset=['master_metadata_track_name', 'spotify_track_uri'])\n",
        "    removed_count = initial_count - len(df_cleaned)\n",
        "    print(f\"  → Removed {removed_count:,} rows with missing track name or URI ({removed_count/initial_count*100:.2f}%)\")\n",
        "\n",
        "    # Step 2: Convert timestamp to datetime and extract temporal features\n",
        "    print(\"  → Converting timestamps and extracting temporal features...\")\n",
        "    df_cleaned['timestamp'] = pd.to_datetime(df_cleaned['ts'])\n",
        "    df_cleaned['date'] = df_cleaned['timestamp'].dt.date\n",
        "    df_cleaned['hour'] = df_cleaned['timestamp'].dt.hour\n",
        "    df_cleaned['day_of_week'] = df_cleaned['timestamp'].dt.day_name()\n",
        "    df_cleaned['month'] = df_cleaned['timestamp'].dt.month\n",
        "    df_cleaned['year'] = df_cleaned['timestamp'].dt.year\n",
        "\n",
        "    # Step 3: Convert milliseconds to seconds and minutes\n",
        "    print(\"  → Converting time units...\")\n",
        "    df_cleaned['seconds_played'] = df_cleaned['ms_played'] / 1000\n",
        "    df_cleaned['minutes_played'] = df_cleaned['seconds_played'] / 60\n",
        "\n",
        "    # Step 4: Create cleaner column names\n",
        "    df_cleaned['artist_name'] = df_cleaned['master_metadata_album_artist_name']\n",
        "    df_cleaned['track_name'] = df_cleaned['master_metadata_track_name']\n",
        "    df_cleaned['album_name'] = df_cleaned['master_metadata_album_album_name']\n",
        "\n",
        "    # Step 5: Select relevant columns in logical order\n",
        "    columns_to_keep = [\n",
        "        # Identifiers\n",
        "        'spotify_track_uri', 'track_name', 'artist_name', 'album_name',\n",
        "        # Temporal data\n",
        "        'timestamp', 'date', 'year', 'month', 'day_of_week', 'hour',\n",
        "        # Playback metrics\n",
        "        'ms_played', 'seconds_played', 'minutes_played',\n",
        "        # Context flags\n",
        "        'reason_start', 'reason_end', 'shuffle', 'skipped', 'offline',\n",
        "        # Original timestamp\n",
        "        'ts'\n",
        "    ]\n",
        "\n",
        "    # Keep only columns that exist in the dataset\n",
        "    columns_to_keep = [col for col in columns_to_keep if col in df_cleaned.columns]\n",
        "    df_cleaned = df_cleaned[columns_to_keep]\n",
        "\n",
        "    # Save cleaned dataset\n",
        "    df_cleaned.to_csv(cleaned_csv_path, index=False)\n",
        "    print(f\"\\n✓ Cleaned dataset saved to '{cleaned_csv_path}'\")\n",
        "\n",
        "# Display cleaning results\n",
        "print(f\"\\n{'='*70}\")\n",
        "print(f\"CLEANED DATASET SUMMARY\")\n",
        "print(f\"{'='*70}\")\n",
        "print(f\"Total cleaned records: {len(df_cleaned):,}\")\n",
        "print(f\"Dataset shape: {df_cleaned.shape[0]:,} rows × {df_cleaned.shape[1]} columns\")\n",
        "print(f\"\\nFirst 5 cleaned records:\")\n",
        "df_cleaned.head()"
      ]
    },
    {
      "cell_type": "markdown",
      "metadata": {
        "id": "-HMQhpO99kCO"
      },
      "source": [
        "With this cleaned dataset, I decided to explore the data through the summary statistics and visualizations to understand patterns in my listening history."
      ]
    },
    {
      "cell_type": "code",
      "execution_count": 6,
      "metadata": {
        "id": "mTEz8VBY94fs"
      },
      "outputs": [
        {
          "name": "stdout",
          "output_type": "stream",
          "text": [
            "Descriptive Statistics (Numerical Columns):\n",
            "          ms_played  seconds_played  minutes_played\n",
            "count  1.272700e+04    12727.000000    12727.000000\n",
            "mean   2.193484e+05      219.348441        3.655807\n",
            "std    1.109287e+05      110.928706        1.848812\n",
            "min    3.000000e+04       30.000000        0.500000\n",
            "25%    1.572000e+05      157.200000        2.620000\n",
            "50%    1.960000e+05      196.000000        3.266667\n",
            "75%    2.459200e+05      245.920000        4.098667\n",
            "max    1.748934e+06     1748.934000       29.148900\n",
            "\n",
            "Additional Metrics:\n",
            "  Total listening time: 46,527.46 minutes (775.46 hours)\n",
            "  Unique tracks: 1,829\n",
            "  Unique artists: 721\n",
            "  Unique albums: 1,306\n",
            "  Date range: 2023-09-04 to 2025-03-15\n",
            "  Tracks skipped: 1,682 (13.22%)\n"
          ]
        }
      ],
      "source": [
        "# Generate descriptive statistics for numerical columns\n",
        "print(\"Descriptive Statistics (Numerical Columns):\")\n",
        "print(df_cleaned[['ms_played', 'seconds_played', 'minutes_played']].describe())\n",
        "\n",
        "# Calculate additional summary statistics\n",
        "print(f\"\\nAdditional Metrics:\")\n",
        "print(f\"  Total listening time: {df_cleaned['minutes_played'].sum():,.2f} minutes ({df_cleaned['minutes_played'].sum()/60:,.2f} hours)\")\n",
        "print(f\"  Unique tracks: {df_cleaned['track_name'].nunique():,}\")\n",
        "print(f\"  Unique artists: {df_cleaned['artist_name'].nunique():,}\")\n",
        "print(f\"  Unique albums: {df_cleaned['album_name'].nunique():,}\")\n",
        "print(f\"  Date range: {df_cleaned['date'].min()} to {df_cleaned['date'].max()}\")\n",
        "print(f\"  Tracks skipped: {df_cleaned['skipped'].sum():,} ({df_cleaned['skipped'].sum()/len(df_cleaned)*100:.2f}%)\")"
      ]
    },
    {
      "cell_type": "markdown",
      "metadata": {
        "id": "FDcryj63992H"
      },
      "source": [
        "Just out of personal curiousity, I posed some questions and decided to explore their answers through visualizations. These questions included:\n",
        "\n",
        "1. Which songs have I played the most? This was to get a sense of my most frequent listen. To answe that, I counted the number of times each track appeared in the dataset and visualize the top 10 results as a bar chart."
      ]
    },
    {
      "cell_type": "code",
      "execution_count": 7,
      "metadata": {
        "id": "LFRfq1Ny9jaq"
      },
      "outputs": [
        {
          "data": {
            "application/vnd.plotly.v1+json": {
              "config": {
                "plotlyServerURL": "https://plot.ly"
              },
              "data": [
                {
                  "hovertemplate": "Track Name=%{x}<br>Number of Plays=%{y}<br>color=%{marker.color}<extra></extra>",
                  "legendgroup": "",
                  "marker": {
                    "color": {
                      "bdata": "FQHWANEAygC9AKMAkwCGAIIAdAA=",
                      "dtype": "i2"
                    },
                    "coloraxis": "coloraxis",
                    "pattern": {
                      "shape": ""
                    }
                  },
                  "name": "",
                  "orientation": "v",
                  "showlegend": false,
                  "textposition": "auto",
                  "type": "bar",
                  "x": [
                    "Commas",
                    "Hide & Seek - Rema Remix",
                    "BM - London View",
                    "Beautiful Things",
                    "Terminator",
                    "Sunny Ade",
                    "Been So Good (feat. Tiffany Hudson)",
                    "Great Things",
                    "Sprinter",
                    "Sure Been Good (feat. Tiffany Hudson)"
                  ],
                  "xaxis": "x",
                  "y": {
                    "bdata": "FQHWANEAygC9AKMAkwCGAIIAdAA=",
                    "dtype": "i2"
                  },
                  "yaxis": "y"
                }
              ],
              "layout": {
                "barmode": "relative",
                "coloraxis": {
                  "colorbar": {
                    "title": {
                      "text": "color"
                    }
                  },
                  "colorscale": [
                    [
                      0,
                      "rgb(247,251,255)"
                    ],
                    [
                      0.125,
                      "rgb(222,235,247)"
                    ],
                    [
                      0.25,
                      "rgb(198,219,239)"
                    ],
                    [
                      0.375,
                      "rgb(158,202,225)"
                    ],
                    [
                      0.5,
                      "rgb(107,174,214)"
                    ],
                    [
                      0.625,
                      "rgb(66,146,198)"
                    ],
                    [
                      0.75,
                      "rgb(33,113,181)"
                    ],
                    [
                      0.875,
                      "rgb(8,81,156)"
                    ],
                    [
                      1,
                      "rgb(8,48,107)"
                    ]
                  ]
                },
                "height": 500,
                "legend": {
                  "tracegroupgap": 0
                },
                "showlegend": false,
                "template": {
                  "data": {
                    "bar": [
                      {
                        "error_x": {
                          "color": "#2a3f5f"
                        },
                        "error_y": {
                          "color": "#2a3f5f"
                        },
                        "marker": {
                          "line": {
                            "color": "#E5ECF6",
                            "width": 0.5
                          },
                          "pattern": {
                            "fillmode": "overlay",
                            "size": 10,
                            "solidity": 0.2
                          }
                        },
                        "type": "bar"
                      }
                    ],
                    "barpolar": [
                      {
                        "marker": {
                          "line": {
                            "color": "#E5ECF6",
                            "width": 0.5
                          },
                          "pattern": {
                            "fillmode": "overlay",
                            "size": 10,
                            "solidity": 0.2
                          }
                        },
                        "type": "barpolar"
                      }
                    ],
                    "carpet": [
                      {
                        "aaxis": {
                          "endlinecolor": "#2a3f5f",
                          "gridcolor": "white",
                          "linecolor": "white",
                          "minorgridcolor": "white",
                          "startlinecolor": "#2a3f5f"
                        },
                        "baxis": {
                          "endlinecolor": "#2a3f5f",
                          "gridcolor": "white",
                          "linecolor": "white",
                          "minorgridcolor": "white",
                          "startlinecolor": "#2a3f5f"
                        },
                        "type": "carpet"
                      }
                    ],
                    "choropleth": [
                      {
                        "colorbar": {
                          "outlinewidth": 0,
                          "ticks": ""
                        },
                        "type": "choropleth"
                      }
                    ],
                    "contour": [
                      {
                        "colorbar": {
                          "outlinewidth": 0,
                          "ticks": ""
                        },
                        "colorscale": [
                          [
                            0,
                            "#0d0887"
                          ],
                          [
                            0.1111111111111111,
                            "#46039f"
                          ],
                          [
                            0.2222222222222222,
                            "#7201a8"
                          ],
                          [
                            0.3333333333333333,
                            "#9c179e"
                          ],
                          [
                            0.4444444444444444,
                            "#bd3786"
                          ],
                          [
                            0.5555555555555556,
                            "#d8576b"
                          ],
                          [
                            0.6666666666666666,
                            "#ed7953"
                          ],
                          [
                            0.7777777777777778,
                            "#fb9f3a"
                          ],
                          [
                            0.8888888888888888,
                            "#fdca26"
                          ],
                          [
                            1,
                            "#f0f921"
                          ]
                        ],
                        "type": "contour"
                      }
                    ],
                    "contourcarpet": [
                      {
                        "colorbar": {
                          "outlinewidth": 0,
                          "ticks": ""
                        },
                        "type": "contourcarpet"
                      }
                    ],
                    "heatmap": [
                      {
                        "colorbar": {
                          "outlinewidth": 0,
                          "ticks": ""
                        },
                        "colorscale": [
                          [
                            0,
                            "#0d0887"
                          ],
                          [
                            0.1111111111111111,
                            "#46039f"
                          ],
                          [
                            0.2222222222222222,
                            "#7201a8"
                          ],
                          [
                            0.3333333333333333,
                            "#9c179e"
                          ],
                          [
                            0.4444444444444444,
                            "#bd3786"
                          ],
                          [
                            0.5555555555555556,
                            "#d8576b"
                          ],
                          [
                            0.6666666666666666,
                            "#ed7953"
                          ],
                          [
                            0.7777777777777778,
                            "#fb9f3a"
                          ],
                          [
                            0.8888888888888888,
                            "#fdca26"
                          ],
                          [
                            1,
                            "#f0f921"
                          ]
                        ],
                        "type": "heatmap"
                      }
                    ],
                    "histogram": [
                      {
                        "marker": {
                          "pattern": {
                            "fillmode": "overlay",
                            "size": 10,
                            "solidity": 0.2
                          }
                        },
                        "type": "histogram"
                      }
                    ],
                    "histogram2d": [
                      {
                        "colorbar": {
                          "outlinewidth": 0,
                          "ticks": ""
                        },
                        "colorscale": [
                          [
                            0,
                            "#0d0887"
                          ],
                          [
                            0.1111111111111111,
                            "#46039f"
                          ],
                          [
                            0.2222222222222222,
                            "#7201a8"
                          ],
                          [
                            0.3333333333333333,
                            "#9c179e"
                          ],
                          [
                            0.4444444444444444,
                            "#bd3786"
                          ],
                          [
                            0.5555555555555556,
                            "#d8576b"
                          ],
                          [
                            0.6666666666666666,
                            "#ed7953"
                          ],
                          [
                            0.7777777777777778,
                            "#fb9f3a"
                          ],
                          [
                            0.8888888888888888,
                            "#fdca26"
                          ],
                          [
                            1,
                            "#f0f921"
                          ]
                        ],
                        "type": "histogram2d"
                      }
                    ],
                    "histogram2dcontour": [
                      {
                        "colorbar": {
                          "outlinewidth": 0,
                          "ticks": ""
                        },
                        "colorscale": [
                          [
                            0,
                            "#0d0887"
                          ],
                          [
                            0.1111111111111111,
                            "#46039f"
                          ],
                          [
                            0.2222222222222222,
                            "#7201a8"
                          ],
                          [
                            0.3333333333333333,
                            "#9c179e"
                          ],
                          [
                            0.4444444444444444,
                            "#bd3786"
                          ],
                          [
                            0.5555555555555556,
                            "#d8576b"
                          ],
                          [
                            0.6666666666666666,
                            "#ed7953"
                          ],
                          [
                            0.7777777777777778,
                            "#fb9f3a"
                          ],
                          [
                            0.8888888888888888,
                            "#fdca26"
                          ],
                          [
                            1,
                            "#f0f921"
                          ]
                        ],
                        "type": "histogram2dcontour"
                      }
                    ],
                    "mesh3d": [
                      {
                        "colorbar": {
                          "outlinewidth": 0,
                          "ticks": ""
                        },
                        "type": "mesh3d"
                      }
                    ],
                    "parcoords": [
                      {
                        "line": {
                          "colorbar": {
                            "outlinewidth": 0,
                            "ticks": ""
                          }
                        },
                        "type": "parcoords"
                      }
                    ],
                    "pie": [
                      {
                        "automargin": true,
                        "type": "pie"
                      }
                    ],
                    "scatter": [
                      {
                        "fillpattern": {
                          "fillmode": "overlay",
                          "size": 10,
                          "solidity": 0.2
                        },
                        "type": "scatter"
                      }
                    ],
                    "scatter3d": [
                      {
                        "line": {
                          "colorbar": {
                            "outlinewidth": 0,
                            "ticks": ""
                          }
                        },
                        "marker": {
                          "colorbar": {
                            "outlinewidth": 0,
                            "ticks": ""
                          }
                        },
                        "type": "scatter3d"
                      }
                    ],
                    "scattercarpet": [
                      {
                        "marker": {
                          "colorbar": {
                            "outlinewidth": 0,
                            "ticks": ""
                          }
                        },
                        "type": "scattercarpet"
                      }
                    ],
                    "scattergeo": [
                      {
                        "marker": {
                          "colorbar": {
                            "outlinewidth": 0,
                            "ticks": ""
                          }
                        },
                        "type": "scattergeo"
                      }
                    ],
                    "scattergl": [
                      {
                        "marker": {
                          "colorbar": {
                            "outlinewidth": 0,
                            "ticks": ""
                          }
                        },
                        "type": "scattergl"
                      }
                    ],
                    "scattermap": [
                      {
                        "marker": {
                          "colorbar": {
                            "outlinewidth": 0,
                            "ticks": ""
                          }
                        },
                        "type": "scattermap"
                      }
                    ],
                    "scattermapbox": [
                      {
                        "marker": {
                          "colorbar": {
                            "outlinewidth": 0,
                            "ticks": ""
                          }
                        },
                        "type": "scattermapbox"
                      }
                    ],
                    "scatterpolar": [
                      {
                        "marker": {
                          "colorbar": {
                            "outlinewidth": 0,
                            "ticks": ""
                          }
                        },
                        "type": "scatterpolar"
                      }
                    ],
                    "scatterpolargl": [
                      {
                        "marker": {
                          "colorbar": {
                            "outlinewidth": 0,
                            "ticks": ""
                          }
                        },
                        "type": "scatterpolargl"
                      }
                    ],
                    "scatterternary": [
                      {
                        "marker": {
                          "colorbar": {
                            "outlinewidth": 0,
                            "ticks": ""
                          }
                        },
                        "type": "scatterternary"
                      }
                    ],
                    "surface": [
                      {
                        "colorbar": {
                          "outlinewidth": 0,
                          "ticks": ""
                        },
                        "colorscale": [
                          [
                            0,
                            "#0d0887"
                          ],
                          [
                            0.1111111111111111,
                            "#46039f"
                          ],
                          [
                            0.2222222222222222,
                            "#7201a8"
                          ],
                          [
                            0.3333333333333333,
                            "#9c179e"
                          ],
                          [
                            0.4444444444444444,
                            "#bd3786"
                          ],
                          [
                            0.5555555555555556,
                            "#d8576b"
                          ],
                          [
                            0.6666666666666666,
                            "#ed7953"
                          ],
                          [
                            0.7777777777777778,
                            "#fb9f3a"
                          ],
                          [
                            0.8888888888888888,
                            "#fdca26"
                          ],
                          [
                            1,
                            "#f0f921"
                          ]
                        ],
                        "type": "surface"
                      }
                    ],
                    "table": [
                      {
                        "cells": {
                          "fill": {
                            "color": "#EBF0F8"
                          },
                          "line": {
                            "color": "white"
                          }
                        },
                        "header": {
                          "fill": {
                            "color": "#C8D4E3"
                          },
                          "line": {
                            "color": "white"
                          }
                        },
                        "type": "table"
                      }
                    ]
                  },
                  "layout": {
                    "annotationdefaults": {
                      "arrowcolor": "#2a3f5f",
                      "arrowhead": 0,
                      "arrowwidth": 1
                    },
                    "autotypenumbers": "strict",
                    "coloraxis": {
                      "colorbar": {
                        "outlinewidth": 0,
                        "ticks": ""
                      }
                    },
                    "colorscale": {
                      "diverging": [
                        [
                          0,
                          "#8e0152"
                        ],
                        [
                          0.1,
                          "#c51b7d"
                        ],
                        [
                          0.2,
                          "#de77ae"
                        ],
                        [
                          0.3,
                          "#f1b6da"
                        ],
                        [
                          0.4,
                          "#fde0ef"
                        ],
                        [
                          0.5,
                          "#f7f7f7"
                        ],
                        [
                          0.6,
                          "#e6f5d0"
                        ],
                        [
                          0.7,
                          "#b8e186"
                        ],
                        [
                          0.8,
                          "#7fbc41"
                        ],
                        [
                          0.9,
                          "#4d9221"
                        ],
                        [
                          1,
                          "#276419"
                        ]
                      ],
                      "sequential": [
                        [
                          0,
                          "#0d0887"
                        ],
                        [
                          0.1111111111111111,
                          "#46039f"
                        ],
                        [
                          0.2222222222222222,
                          "#7201a8"
                        ],
                        [
                          0.3333333333333333,
                          "#9c179e"
                        ],
                        [
                          0.4444444444444444,
                          "#bd3786"
                        ],
                        [
                          0.5555555555555556,
                          "#d8576b"
                        ],
                        [
                          0.6666666666666666,
                          "#ed7953"
                        ],
                        [
                          0.7777777777777778,
                          "#fb9f3a"
                        ],
                        [
                          0.8888888888888888,
                          "#fdca26"
                        ],
                        [
                          1,
                          "#f0f921"
                        ]
                      ],
                      "sequentialminus": [
                        [
                          0,
                          "#0d0887"
                        ],
                        [
                          0.1111111111111111,
                          "#46039f"
                        ],
                        [
                          0.2222222222222222,
                          "#7201a8"
                        ],
                        [
                          0.3333333333333333,
                          "#9c179e"
                        ],
                        [
                          0.4444444444444444,
                          "#bd3786"
                        ],
                        [
                          0.5555555555555556,
                          "#d8576b"
                        ],
                        [
                          0.6666666666666666,
                          "#ed7953"
                        ],
                        [
                          0.7777777777777778,
                          "#fb9f3a"
                        ],
                        [
                          0.8888888888888888,
                          "#fdca26"
                        ],
                        [
                          1,
                          "#f0f921"
                        ]
                      ]
                    },
                    "colorway": [
                      "#636efa",
                      "#EF553B",
                      "#00cc96",
                      "#ab63fa",
                      "#FFA15A",
                      "#19d3f3",
                      "#FF6692",
                      "#B6E880",
                      "#FF97FF",
                      "#FECB52"
                    ],
                    "font": {
                      "color": "#2a3f5f"
                    },
                    "geo": {
                      "bgcolor": "white",
                      "lakecolor": "white",
                      "landcolor": "#E5ECF6",
                      "showlakes": true,
                      "showland": true,
                      "subunitcolor": "white"
                    },
                    "hoverlabel": {
                      "align": "left"
                    },
                    "hovermode": "closest",
                    "mapbox": {
                      "style": "light"
                    },
                    "paper_bgcolor": "white",
                    "plot_bgcolor": "#E5ECF6",
                    "polar": {
                      "angularaxis": {
                        "gridcolor": "white",
                        "linecolor": "white",
                        "ticks": ""
                      },
                      "bgcolor": "#E5ECF6",
                      "radialaxis": {
                        "gridcolor": "white",
                        "linecolor": "white",
                        "ticks": ""
                      }
                    },
                    "scene": {
                      "xaxis": {
                        "backgroundcolor": "#E5ECF6",
                        "gridcolor": "white",
                        "gridwidth": 2,
                        "linecolor": "white",
                        "showbackground": true,
                        "ticks": "",
                        "zerolinecolor": "white"
                      },
                      "yaxis": {
                        "backgroundcolor": "#E5ECF6",
                        "gridcolor": "white",
                        "gridwidth": 2,
                        "linecolor": "white",
                        "showbackground": true,
                        "ticks": "",
                        "zerolinecolor": "white"
                      },
                      "zaxis": {
                        "backgroundcolor": "#E5ECF6",
                        "gridcolor": "white",
                        "gridwidth": 2,
                        "linecolor": "white",
                        "showbackground": true,
                        "ticks": "",
                        "zerolinecolor": "white"
                      }
                    },
                    "shapedefaults": {
                      "line": {
                        "color": "#2a3f5f"
                      }
                    },
                    "ternary": {
                      "aaxis": {
                        "gridcolor": "white",
                        "linecolor": "white",
                        "ticks": ""
                      },
                      "baxis": {
                        "gridcolor": "white",
                        "linecolor": "white",
                        "ticks": ""
                      },
                      "bgcolor": "#E5ECF6",
                      "caxis": {
                        "gridcolor": "white",
                        "linecolor": "white",
                        "ticks": ""
                      }
                    },
                    "title": {
                      "x": 0.05
                    },
                    "xaxis": {
                      "automargin": true,
                      "gridcolor": "white",
                      "linecolor": "white",
                      "ticks": "",
                      "title": {
                        "standoff": 15
                      },
                      "zerolinecolor": "white",
                      "zerolinewidth": 2
                    },
                    "yaxis": {
                      "automargin": true,
                      "gridcolor": "white",
                      "linecolor": "white",
                      "ticks": "",
                      "title": {
                        "standoff": 15
                      },
                      "zerolinecolor": "white",
                      "zerolinewidth": 2
                    }
                  }
                },
                "title": {
                  "text": "Top 10 Most Frequently Played Songs"
                },
                "xaxis": {
                  "anchor": "y",
                  "domain": [
                    0,
                    1
                  ],
                  "tickangle": -45,
                  "title": {
                    "text": "Track Name"
                  }
                },
                "yaxis": {
                  "anchor": "x",
                  "domain": [
                    0,
                    1
                  ],
                  "title": {
                    "text": "Number of Plays"
                  }
                }
              }
            }
          },
          "metadata": {},
          "output_type": "display_data"
        },
        {
          "name": "stdout",
          "output_type": "stream",
          "text": [
            "\n",
            "Top 10 Songs by Play Count:\n",
            "   1. Commas: 277 plays\n",
            "   2. Hide & Seek - Rema Remix: 214 plays\n",
            "   3. BM - London View: 209 plays\n",
            "   4. Beautiful Things: 202 plays\n",
            "   5. Terminator: 189 plays\n",
            "   6. Sunny Ade: 163 plays\n",
            "   7. Been So Good (feat. Tiffany Hudson): 147 plays\n",
            "   8. Great Things: 134 plays\n",
            "   9. Sprinter: 130 plays\n",
            "  10. Sure Been Good (feat. Tiffany Hudson): 116 plays\n"
          ]
        }
      ],
      "source": [
        "# Count play frequency for each track\n",
        "track_play_counts = df_cleaned['track_name'].value_counts().nlargest(10)\n",
        "\n",
        "# Create bar chart\n",
        "fig_top_songs = px.bar(\n",
        "    x=track_play_counts.index,\n",
        "    y=track_play_counts.values,\n",
        "    labels={'x': 'Track Name', 'y': 'Number of Plays'},\n",
        "    title='Top 10 Most Frequently Played Songs',\n",
        "    color=track_play_counts.values,\n",
        "    color_continuous_scale='Blues'\n",
        ")\n",
        "\n",
        "fig_top_songs.update_layout(\n",
        "    xaxis_tickangle=-45,\n",
        "    height=500,\n",
        "    showlegend=False\n",
        ")\n",
        "\n",
        "fig_top_songs.show()\n",
        "\n",
        "print(\"\\nTop 10 Songs by Play Count:\")\n",
        "for i, (track, count) in enumerate(track_play_counts.items(), 1):\n",
        "    print(f\"  {i:2d}. {track}: {count} plays\")"
      ]
    },
    {
      "cell_type": "markdown",
      "metadata": {
        "id": "GLL_VfNJ-6Rz"
      },
      "source": [
        "Looking at the data, I can remember that the most played song, was actually from Summer of 2024, where I went through some trauma. That song actually helped me through that time period."
      ]
    },
    {
      "cell_type": "markdown",
      "metadata": {
        "id": "T8Y0jers_mtG"
      },
      "source": [
        "While play count tells us about frequency, **total listening time** provides a different perspective. So the next question which I tried to answer was:\n",
        "\n",
        "2. Which artists have I actually spent the most time listening to? This accounts for both the number of plays and the length of songs.\n",
        "\n",
        "For that, I grouped the data by artist, sum up the total minutes played for each, and visualize the top 10."
      ]
    },
    {
      "cell_type": "code",
      "execution_count": 8,
      "metadata": {
        "id": "QesaArobBFoL"
      },
      "outputs": [
        {
          "data": {
            "application/vnd.plotly.v1+json": {
              "config": {
                "plotlyServerURL": "https://plot.ly"
              },
              "data": [
                {
                  "hovertemplate": "Total Minutes Played=%{x}<br>Artist Name=%{y}<br>color=%{marker.color}<extra></extra>",
                  "legendgroup": "",
                  "marker": {
                    "color": {
                      "bdata": "6ylfvfcGh0A7vVKWoXOJQLlrCfkgk41AVE/56v3Aj0AIPZtVf62VQIR5ov5tXJhAcBjfKuI8mkCCThvotJCeQNbqmODRqKhABoGVQwvMtEA=",
                      "dtype": "f8"
                    },
                    "coloraxis": "coloraxis",
                    "pattern": {
                      "shape": ""
                    }
                  },
                  "name": "",
                  "orientation": "h",
                  "showlegend": false,
                  "textposition": "auto",
                  "type": "bar",
                  "x": {
                    "bdata": "6ylfvfcGh0A7vVKWoXOJQLlrCfkgk41AVE/56v3Aj0AIPZtVf62VQIR5ov5tXJhAcBjfKuI8mkCCThvotJCeQNbqmODRqKhABoGVQwvMtEA=",
                    "dtype": "f8"
                  },
                  "xaxis": "x",
                  "y": [
                    "King Promise",
                    "Ayra Starr",
                    "Asake",
                    "Stormzy",
                    "Adele",
                    "Dave",
                    "SYML",
                    "Hillsong Worship",
                    "Hillsong UNITED",
                    "Elevation Worship"
                  ],
                  "yaxis": "y"
                }
              ],
              "layout": {
                "barmode": "relative",
                "coloraxis": {
                  "colorbar": {
                    "title": {
                      "text": "color"
                    }
                  },
                  "colorscale": [
                    [
                      0,
                      "#440154"
                    ],
                    [
                      0.1111111111111111,
                      "#482878"
                    ],
                    [
                      0.2222222222222222,
                      "#3e4989"
                    ],
                    [
                      0.3333333333333333,
                      "#31688e"
                    ],
                    [
                      0.4444444444444444,
                      "#26828e"
                    ],
                    [
                      0.5555555555555556,
                      "#1f9e89"
                    ],
                    [
                      0.6666666666666666,
                      "#35b779"
                    ],
                    [
                      0.7777777777777778,
                      "#6ece58"
                    ],
                    [
                      0.8888888888888888,
                      "#b5de2b"
                    ],
                    [
                      1,
                      "#fde725"
                    ]
                  ]
                },
                "height": 500,
                "legend": {
                  "tracegroupgap": 0
                },
                "showlegend": false,
                "template": {
                  "data": {
                    "bar": [
                      {
                        "error_x": {
                          "color": "#2a3f5f"
                        },
                        "error_y": {
                          "color": "#2a3f5f"
                        },
                        "marker": {
                          "line": {
                            "color": "#E5ECF6",
                            "width": 0.5
                          },
                          "pattern": {
                            "fillmode": "overlay",
                            "size": 10,
                            "solidity": 0.2
                          }
                        },
                        "type": "bar"
                      }
                    ],
                    "barpolar": [
                      {
                        "marker": {
                          "line": {
                            "color": "#E5ECF6",
                            "width": 0.5
                          },
                          "pattern": {
                            "fillmode": "overlay",
                            "size": 10,
                            "solidity": 0.2
                          }
                        },
                        "type": "barpolar"
                      }
                    ],
                    "carpet": [
                      {
                        "aaxis": {
                          "endlinecolor": "#2a3f5f",
                          "gridcolor": "white",
                          "linecolor": "white",
                          "minorgridcolor": "white",
                          "startlinecolor": "#2a3f5f"
                        },
                        "baxis": {
                          "endlinecolor": "#2a3f5f",
                          "gridcolor": "white",
                          "linecolor": "white",
                          "minorgridcolor": "white",
                          "startlinecolor": "#2a3f5f"
                        },
                        "type": "carpet"
                      }
                    ],
                    "choropleth": [
                      {
                        "colorbar": {
                          "outlinewidth": 0,
                          "ticks": ""
                        },
                        "type": "choropleth"
                      }
                    ],
                    "contour": [
                      {
                        "colorbar": {
                          "outlinewidth": 0,
                          "ticks": ""
                        },
                        "colorscale": [
                          [
                            0,
                            "#0d0887"
                          ],
                          [
                            0.1111111111111111,
                            "#46039f"
                          ],
                          [
                            0.2222222222222222,
                            "#7201a8"
                          ],
                          [
                            0.3333333333333333,
                            "#9c179e"
                          ],
                          [
                            0.4444444444444444,
                            "#bd3786"
                          ],
                          [
                            0.5555555555555556,
                            "#d8576b"
                          ],
                          [
                            0.6666666666666666,
                            "#ed7953"
                          ],
                          [
                            0.7777777777777778,
                            "#fb9f3a"
                          ],
                          [
                            0.8888888888888888,
                            "#fdca26"
                          ],
                          [
                            1,
                            "#f0f921"
                          ]
                        ],
                        "type": "contour"
                      }
                    ],
                    "contourcarpet": [
                      {
                        "colorbar": {
                          "outlinewidth": 0,
                          "ticks": ""
                        },
                        "type": "contourcarpet"
                      }
                    ],
                    "heatmap": [
                      {
                        "colorbar": {
                          "outlinewidth": 0,
                          "ticks": ""
                        },
                        "colorscale": [
                          [
                            0,
                            "#0d0887"
                          ],
                          [
                            0.1111111111111111,
                            "#46039f"
                          ],
                          [
                            0.2222222222222222,
                            "#7201a8"
                          ],
                          [
                            0.3333333333333333,
                            "#9c179e"
                          ],
                          [
                            0.4444444444444444,
                            "#bd3786"
                          ],
                          [
                            0.5555555555555556,
                            "#d8576b"
                          ],
                          [
                            0.6666666666666666,
                            "#ed7953"
                          ],
                          [
                            0.7777777777777778,
                            "#fb9f3a"
                          ],
                          [
                            0.8888888888888888,
                            "#fdca26"
                          ],
                          [
                            1,
                            "#f0f921"
                          ]
                        ],
                        "type": "heatmap"
                      }
                    ],
                    "histogram": [
                      {
                        "marker": {
                          "pattern": {
                            "fillmode": "overlay",
                            "size": 10,
                            "solidity": 0.2
                          }
                        },
                        "type": "histogram"
                      }
                    ],
                    "histogram2d": [
                      {
                        "colorbar": {
                          "outlinewidth": 0,
                          "ticks": ""
                        },
                        "colorscale": [
                          [
                            0,
                            "#0d0887"
                          ],
                          [
                            0.1111111111111111,
                            "#46039f"
                          ],
                          [
                            0.2222222222222222,
                            "#7201a8"
                          ],
                          [
                            0.3333333333333333,
                            "#9c179e"
                          ],
                          [
                            0.4444444444444444,
                            "#bd3786"
                          ],
                          [
                            0.5555555555555556,
                            "#d8576b"
                          ],
                          [
                            0.6666666666666666,
                            "#ed7953"
                          ],
                          [
                            0.7777777777777778,
                            "#fb9f3a"
                          ],
                          [
                            0.8888888888888888,
                            "#fdca26"
                          ],
                          [
                            1,
                            "#f0f921"
                          ]
                        ],
                        "type": "histogram2d"
                      }
                    ],
                    "histogram2dcontour": [
                      {
                        "colorbar": {
                          "outlinewidth": 0,
                          "ticks": ""
                        },
                        "colorscale": [
                          [
                            0,
                            "#0d0887"
                          ],
                          [
                            0.1111111111111111,
                            "#46039f"
                          ],
                          [
                            0.2222222222222222,
                            "#7201a8"
                          ],
                          [
                            0.3333333333333333,
                            "#9c179e"
                          ],
                          [
                            0.4444444444444444,
                            "#bd3786"
                          ],
                          [
                            0.5555555555555556,
                            "#d8576b"
                          ],
                          [
                            0.6666666666666666,
                            "#ed7953"
                          ],
                          [
                            0.7777777777777778,
                            "#fb9f3a"
                          ],
                          [
                            0.8888888888888888,
                            "#fdca26"
                          ],
                          [
                            1,
                            "#f0f921"
                          ]
                        ],
                        "type": "histogram2dcontour"
                      }
                    ],
                    "mesh3d": [
                      {
                        "colorbar": {
                          "outlinewidth": 0,
                          "ticks": ""
                        },
                        "type": "mesh3d"
                      }
                    ],
                    "parcoords": [
                      {
                        "line": {
                          "colorbar": {
                            "outlinewidth": 0,
                            "ticks": ""
                          }
                        },
                        "type": "parcoords"
                      }
                    ],
                    "pie": [
                      {
                        "automargin": true,
                        "type": "pie"
                      }
                    ],
                    "scatter": [
                      {
                        "fillpattern": {
                          "fillmode": "overlay",
                          "size": 10,
                          "solidity": 0.2
                        },
                        "type": "scatter"
                      }
                    ],
                    "scatter3d": [
                      {
                        "line": {
                          "colorbar": {
                            "outlinewidth": 0,
                            "ticks": ""
                          }
                        },
                        "marker": {
                          "colorbar": {
                            "outlinewidth": 0,
                            "ticks": ""
                          }
                        },
                        "type": "scatter3d"
                      }
                    ],
                    "scattercarpet": [
                      {
                        "marker": {
                          "colorbar": {
                            "outlinewidth": 0,
                            "ticks": ""
                          }
                        },
                        "type": "scattercarpet"
                      }
                    ],
                    "scattergeo": [
                      {
                        "marker": {
                          "colorbar": {
                            "outlinewidth": 0,
                            "ticks": ""
                          }
                        },
                        "type": "scattergeo"
                      }
                    ],
                    "scattergl": [
                      {
                        "marker": {
                          "colorbar": {
                            "outlinewidth": 0,
                            "ticks": ""
                          }
                        },
                        "type": "scattergl"
                      }
                    ],
                    "scattermap": [
                      {
                        "marker": {
                          "colorbar": {
                            "outlinewidth": 0,
                            "ticks": ""
                          }
                        },
                        "type": "scattermap"
                      }
                    ],
                    "scattermapbox": [
                      {
                        "marker": {
                          "colorbar": {
                            "outlinewidth": 0,
                            "ticks": ""
                          }
                        },
                        "type": "scattermapbox"
                      }
                    ],
                    "scatterpolar": [
                      {
                        "marker": {
                          "colorbar": {
                            "outlinewidth": 0,
                            "ticks": ""
                          }
                        },
                        "type": "scatterpolar"
                      }
                    ],
                    "scatterpolargl": [
                      {
                        "marker": {
                          "colorbar": {
                            "outlinewidth": 0,
                            "ticks": ""
                          }
                        },
                        "type": "scatterpolargl"
                      }
                    ],
                    "scatterternary": [
                      {
                        "marker": {
                          "colorbar": {
                            "outlinewidth": 0,
                            "ticks": ""
                          }
                        },
                        "type": "scatterternary"
                      }
                    ],
                    "surface": [
                      {
                        "colorbar": {
                          "outlinewidth": 0,
                          "ticks": ""
                        },
                        "colorscale": [
                          [
                            0,
                            "#0d0887"
                          ],
                          [
                            0.1111111111111111,
                            "#46039f"
                          ],
                          [
                            0.2222222222222222,
                            "#7201a8"
                          ],
                          [
                            0.3333333333333333,
                            "#9c179e"
                          ],
                          [
                            0.4444444444444444,
                            "#bd3786"
                          ],
                          [
                            0.5555555555555556,
                            "#d8576b"
                          ],
                          [
                            0.6666666666666666,
                            "#ed7953"
                          ],
                          [
                            0.7777777777777778,
                            "#fb9f3a"
                          ],
                          [
                            0.8888888888888888,
                            "#fdca26"
                          ],
                          [
                            1,
                            "#f0f921"
                          ]
                        ],
                        "type": "surface"
                      }
                    ],
                    "table": [
                      {
                        "cells": {
                          "fill": {
                            "color": "#EBF0F8"
                          },
                          "line": {
                            "color": "white"
                          }
                        },
                        "header": {
                          "fill": {
                            "color": "#C8D4E3"
                          },
                          "line": {
                            "color": "white"
                          }
                        },
                        "type": "table"
                      }
                    ]
                  },
                  "layout": {
                    "annotationdefaults": {
                      "arrowcolor": "#2a3f5f",
                      "arrowhead": 0,
                      "arrowwidth": 1
                    },
                    "autotypenumbers": "strict",
                    "coloraxis": {
                      "colorbar": {
                        "outlinewidth": 0,
                        "ticks": ""
                      }
                    },
                    "colorscale": {
                      "diverging": [
                        [
                          0,
                          "#8e0152"
                        ],
                        [
                          0.1,
                          "#c51b7d"
                        ],
                        [
                          0.2,
                          "#de77ae"
                        ],
                        [
                          0.3,
                          "#f1b6da"
                        ],
                        [
                          0.4,
                          "#fde0ef"
                        ],
                        [
                          0.5,
                          "#f7f7f7"
                        ],
                        [
                          0.6,
                          "#e6f5d0"
                        ],
                        [
                          0.7,
                          "#b8e186"
                        ],
                        [
                          0.8,
                          "#7fbc41"
                        ],
                        [
                          0.9,
                          "#4d9221"
                        ],
                        [
                          1,
                          "#276419"
                        ]
                      ],
                      "sequential": [
                        [
                          0,
                          "#0d0887"
                        ],
                        [
                          0.1111111111111111,
                          "#46039f"
                        ],
                        [
                          0.2222222222222222,
                          "#7201a8"
                        ],
                        [
                          0.3333333333333333,
                          "#9c179e"
                        ],
                        [
                          0.4444444444444444,
                          "#bd3786"
                        ],
                        [
                          0.5555555555555556,
                          "#d8576b"
                        ],
                        [
                          0.6666666666666666,
                          "#ed7953"
                        ],
                        [
                          0.7777777777777778,
                          "#fb9f3a"
                        ],
                        [
                          0.8888888888888888,
                          "#fdca26"
                        ],
                        [
                          1,
                          "#f0f921"
                        ]
                      ],
                      "sequentialminus": [
                        [
                          0,
                          "#0d0887"
                        ],
                        [
                          0.1111111111111111,
                          "#46039f"
                        ],
                        [
                          0.2222222222222222,
                          "#7201a8"
                        ],
                        [
                          0.3333333333333333,
                          "#9c179e"
                        ],
                        [
                          0.4444444444444444,
                          "#bd3786"
                        ],
                        [
                          0.5555555555555556,
                          "#d8576b"
                        ],
                        [
                          0.6666666666666666,
                          "#ed7953"
                        ],
                        [
                          0.7777777777777778,
                          "#fb9f3a"
                        ],
                        [
                          0.8888888888888888,
                          "#fdca26"
                        ],
                        [
                          1,
                          "#f0f921"
                        ]
                      ]
                    },
                    "colorway": [
                      "#636efa",
                      "#EF553B",
                      "#00cc96",
                      "#ab63fa",
                      "#FFA15A",
                      "#19d3f3",
                      "#FF6692",
                      "#B6E880",
                      "#FF97FF",
                      "#FECB52"
                    ],
                    "font": {
                      "color": "#2a3f5f"
                    },
                    "geo": {
                      "bgcolor": "white",
                      "lakecolor": "white",
                      "landcolor": "#E5ECF6",
                      "showlakes": true,
                      "showland": true,
                      "subunitcolor": "white"
                    },
                    "hoverlabel": {
                      "align": "left"
                    },
                    "hovermode": "closest",
                    "mapbox": {
                      "style": "light"
                    },
                    "paper_bgcolor": "white",
                    "plot_bgcolor": "#E5ECF6",
                    "polar": {
                      "angularaxis": {
                        "gridcolor": "white",
                        "linecolor": "white",
                        "ticks": ""
                      },
                      "bgcolor": "#E5ECF6",
                      "radialaxis": {
                        "gridcolor": "white",
                        "linecolor": "white",
                        "ticks": ""
                      }
                    },
                    "scene": {
                      "xaxis": {
                        "backgroundcolor": "#E5ECF6",
                        "gridcolor": "white",
                        "gridwidth": 2,
                        "linecolor": "white",
                        "showbackground": true,
                        "ticks": "",
                        "zerolinecolor": "white"
                      },
                      "yaxis": {
                        "backgroundcolor": "#E5ECF6",
                        "gridcolor": "white",
                        "gridwidth": 2,
                        "linecolor": "white",
                        "showbackground": true,
                        "ticks": "",
                        "zerolinecolor": "white"
                      },
                      "zaxis": {
                        "backgroundcolor": "#E5ECF6",
                        "gridcolor": "white",
                        "gridwidth": 2,
                        "linecolor": "white",
                        "showbackground": true,
                        "ticks": "",
                        "zerolinecolor": "white"
                      }
                    },
                    "shapedefaults": {
                      "line": {
                        "color": "#2a3f5f"
                      }
                    },
                    "ternary": {
                      "aaxis": {
                        "gridcolor": "white",
                        "linecolor": "white",
                        "ticks": ""
                      },
                      "baxis": {
                        "gridcolor": "white",
                        "linecolor": "white",
                        "ticks": ""
                      },
                      "bgcolor": "#E5ECF6",
                      "caxis": {
                        "gridcolor": "white",
                        "linecolor": "white",
                        "ticks": ""
                      }
                    },
                    "title": {
                      "x": 0.05
                    },
                    "xaxis": {
                      "automargin": true,
                      "gridcolor": "white",
                      "linecolor": "white",
                      "ticks": "",
                      "title": {
                        "standoff": 15
                      },
                      "zerolinecolor": "white",
                      "zerolinewidth": 2
                    },
                    "yaxis": {
                      "automargin": true,
                      "gridcolor": "white",
                      "linecolor": "white",
                      "ticks": "",
                      "title": {
                        "standoff": 15
                      },
                      "zerolinecolor": "white",
                      "zerolinewidth": 2
                    }
                  }
                },
                "title": {
                  "text": "Top 10 Artists by Total Listening Time"
                },
                "xaxis": {
                  "anchor": "y",
                  "domain": [
                    0,
                    1
                  ],
                  "title": {
                    "text": "Total Minutes Played"
                  }
                },
                "yaxis": {
                  "anchor": "x",
                  "domain": [
                    0,
                    1
                  ],
                  "title": {
                    "text": "Artist Name"
                  }
                }
              }
            }
          },
          "metadata": {},
          "output_type": "display_data"
        },
        {
          "name": "stdout",
          "output_type": "stream",
          "text": [
            "\n",
            "Top 10 Artists by Total Listening Time:\n",
            "   1. Elevation Worship: 5324.04 minutes (88.73 hours)\n",
            "   2. Hillsong UNITED: 3156.41 minutes (52.61 hours)\n",
            "   3. Hillsong Worship: 1956.18 minutes (32.60 hours)\n",
            "   4. SYML: 1679.22 minutes (27.99 hours)\n",
            "   5. Dave: 1559.11 minutes (25.99 hours)\n",
            "   6. Adele: 1387.37 minutes (23.12 hours)\n",
            "   7. Stormzy: 1016.12 minutes (16.94 hours)\n",
            "   8. Asake: 946.39 minutes (15.77 hours)\n",
            "   9. Ayra Starr: 814.45 minutes (13.57 hours)\n",
            "  10. King Promise: 736.87 minutes (12.28 hours)\n"
          ]
        }
      ],
      "source": [
        "# Calculate total listening time per artist\n",
        "artist_listening_time = df_cleaned.groupby('artist_name')['minutes_played'].sum().nlargest(10).sort_values()\n",
        "\n",
        "# Create horizontal bar chart (better for long artist names)\n",
        "fig_top_artists = px.bar(\n",
        "    x=artist_listening_time.values,\n",
        "    y=artist_listening_time.index,\n",
        "    labels={'x': 'Total Minutes Played', 'y': 'Artist Name'},\n",
        "    title='Top 10 Artists by Total Listening Time',\n",
        "    orientation='h',\n",
        "    color=artist_listening_time.values,\n",
        "    color_continuous_scale='Viridis'\n",
        ")\n",
        "\n",
        "fig_top_artists.update_layout(\n",
        "    height=500,\n",
        "    showlegend=False\n",
        ")\n",
        "\n",
        "fig_top_artists.show()\n",
        "\n",
        "print(\"\\nTop 10 Artists by Total Listening Time:\")\n",
        "for i, (artist, minutes) in enumerate(artist_listening_time.sort_values(ascending=False).items(), 1):\n",
        "    hours = minutes / 60\n",
        "    print(f\"  {i:2d}. {artist}: {minutes:.2f} minutes ({hours:.2f} hours)\")"
      ]
    },
    {
      "cell_type": "markdown",
      "metadata": {
        "id": "2HVQQfhCBFBX"
      },
      "source": [
        "The last question I wanted to answer was:\n",
        "\n",
        "3. When during the day do I listen to music the most?"
      ]
    },
    {
      "cell_type": "code",
      "execution_count": 9,
      "metadata": {
        "id": "qNt2okflBxQy"
      },
      "outputs": [
        {
          "data": {
            "application/vnd.plotly.v1+json": {
              "config": {
                "plotlyServerURL": "https://plot.ly"
              },
              "data": [
                {
                  "hovertemplate": "Hour of Day=%{x}<br>Total Minutes Played=%{marker.color}<extra></extra>",
                  "legendgroup": "",
                  "marker": {
                    "color": {
                      "bdata": "7Q2+MFnjrkB6xyk6MpmnQAXqut2o+ahAe8pX711nqEAiIiIisg+mQJKBKfALDaFAQoUQfeRrnEAwuycPa16RQNiBc0bUHoxARERERKR9kEDwp8ZLl7eRQL9Y8ouFh5BAtfDPH+1LhkD5ezwHac6PQJNfLPklGKNA3NeBc8bTmEDBqKRO4DiSQEbbHqrWN51A845TdDTaoEDcslbHpCmYQEiaUnEW9plAEezlZC9XoUCV1Alowq+iQG+BBMVfh6JA",
                      "dtype": "f8"
                    },
                    "coloraxis": "coloraxis",
                    "pattern": {
                      "shape": ""
                    }
                  },
                  "name": "",
                  "orientation": "v",
                  "showlegend": false,
                  "textposition": "auto",
                  "type": "bar",
                  "x": {
                    "bdata": "AAECAwQFBgcICQoLDA0ODxAREhMUFRYX",
                    "dtype": "i1"
                  },
                  "xaxis": "x",
                  "y": {
                    "bdata": "7Q2+MFnjrkB6xyk6MpmnQAXqut2o+ahAe8pX711nqEAiIiIisg+mQJKBKfALDaFAQoUQfeRrnEAwuycPa16RQNiBc0bUHoxARERERKR9kEDwp8ZLl7eRQL9Y8ouFh5BAtfDPH+1LhkD5ezwHac6PQJNfLPklGKNA3NeBc8bTmEDBqKRO4DiSQEbbHqrWN51A845TdDTaoEDcslbHpCmYQEiaUnEW9plAEezlZC9XoUCV1Alowq+iQG+BBMVfh6JA",
                    "dtype": "f8"
                  },
                  "yaxis": "y"
                }
              ],
              "layout": {
                "barmode": "relative",
                "coloraxis": {
                  "colorbar": {
                    "title": {
                      "text": "Total Minutes Played"
                    }
                  },
                  "colorscale": [
                    [
                      0,
                      "rgb(243, 231, 155)"
                    ],
                    [
                      0.16666666666666666,
                      "rgb(250, 196, 132)"
                    ],
                    [
                      0.3333333333333333,
                      "rgb(248, 160, 126)"
                    ],
                    [
                      0.5,
                      "rgb(235, 127, 134)"
                    ],
                    [
                      0.6666666666666666,
                      "rgb(206, 102, 147)"
                    ],
                    [
                      0.8333333333333334,
                      "rgb(160, 89, 160)"
                    ],
                    [
                      1,
                      "rgb(92, 83, 165)"
                    ]
                  ]
                },
                "height": 400,
                "legend": {
                  "tracegroupgap": 0
                },
                "showlegend": false,
                "template": {
                  "data": {
                    "bar": [
                      {
                        "error_x": {
                          "color": "#2a3f5f"
                        },
                        "error_y": {
                          "color": "#2a3f5f"
                        },
                        "marker": {
                          "line": {
                            "color": "#E5ECF6",
                            "width": 0.5
                          },
                          "pattern": {
                            "fillmode": "overlay",
                            "size": 10,
                            "solidity": 0.2
                          }
                        },
                        "type": "bar"
                      }
                    ],
                    "barpolar": [
                      {
                        "marker": {
                          "line": {
                            "color": "#E5ECF6",
                            "width": 0.5
                          },
                          "pattern": {
                            "fillmode": "overlay",
                            "size": 10,
                            "solidity": 0.2
                          }
                        },
                        "type": "barpolar"
                      }
                    ],
                    "carpet": [
                      {
                        "aaxis": {
                          "endlinecolor": "#2a3f5f",
                          "gridcolor": "white",
                          "linecolor": "white",
                          "minorgridcolor": "white",
                          "startlinecolor": "#2a3f5f"
                        },
                        "baxis": {
                          "endlinecolor": "#2a3f5f",
                          "gridcolor": "white",
                          "linecolor": "white",
                          "minorgridcolor": "white",
                          "startlinecolor": "#2a3f5f"
                        },
                        "type": "carpet"
                      }
                    ],
                    "choropleth": [
                      {
                        "colorbar": {
                          "outlinewidth": 0,
                          "ticks": ""
                        },
                        "type": "choropleth"
                      }
                    ],
                    "contour": [
                      {
                        "colorbar": {
                          "outlinewidth": 0,
                          "ticks": ""
                        },
                        "colorscale": [
                          [
                            0,
                            "#0d0887"
                          ],
                          [
                            0.1111111111111111,
                            "#46039f"
                          ],
                          [
                            0.2222222222222222,
                            "#7201a8"
                          ],
                          [
                            0.3333333333333333,
                            "#9c179e"
                          ],
                          [
                            0.4444444444444444,
                            "#bd3786"
                          ],
                          [
                            0.5555555555555556,
                            "#d8576b"
                          ],
                          [
                            0.6666666666666666,
                            "#ed7953"
                          ],
                          [
                            0.7777777777777778,
                            "#fb9f3a"
                          ],
                          [
                            0.8888888888888888,
                            "#fdca26"
                          ],
                          [
                            1,
                            "#f0f921"
                          ]
                        ],
                        "type": "contour"
                      }
                    ],
                    "contourcarpet": [
                      {
                        "colorbar": {
                          "outlinewidth": 0,
                          "ticks": ""
                        },
                        "type": "contourcarpet"
                      }
                    ],
                    "heatmap": [
                      {
                        "colorbar": {
                          "outlinewidth": 0,
                          "ticks": ""
                        },
                        "colorscale": [
                          [
                            0,
                            "#0d0887"
                          ],
                          [
                            0.1111111111111111,
                            "#46039f"
                          ],
                          [
                            0.2222222222222222,
                            "#7201a8"
                          ],
                          [
                            0.3333333333333333,
                            "#9c179e"
                          ],
                          [
                            0.4444444444444444,
                            "#bd3786"
                          ],
                          [
                            0.5555555555555556,
                            "#d8576b"
                          ],
                          [
                            0.6666666666666666,
                            "#ed7953"
                          ],
                          [
                            0.7777777777777778,
                            "#fb9f3a"
                          ],
                          [
                            0.8888888888888888,
                            "#fdca26"
                          ],
                          [
                            1,
                            "#f0f921"
                          ]
                        ],
                        "type": "heatmap"
                      }
                    ],
                    "histogram": [
                      {
                        "marker": {
                          "pattern": {
                            "fillmode": "overlay",
                            "size": 10,
                            "solidity": 0.2
                          }
                        },
                        "type": "histogram"
                      }
                    ],
                    "histogram2d": [
                      {
                        "colorbar": {
                          "outlinewidth": 0,
                          "ticks": ""
                        },
                        "colorscale": [
                          [
                            0,
                            "#0d0887"
                          ],
                          [
                            0.1111111111111111,
                            "#46039f"
                          ],
                          [
                            0.2222222222222222,
                            "#7201a8"
                          ],
                          [
                            0.3333333333333333,
                            "#9c179e"
                          ],
                          [
                            0.4444444444444444,
                            "#bd3786"
                          ],
                          [
                            0.5555555555555556,
                            "#d8576b"
                          ],
                          [
                            0.6666666666666666,
                            "#ed7953"
                          ],
                          [
                            0.7777777777777778,
                            "#fb9f3a"
                          ],
                          [
                            0.8888888888888888,
                            "#fdca26"
                          ],
                          [
                            1,
                            "#f0f921"
                          ]
                        ],
                        "type": "histogram2d"
                      }
                    ],
                    "histogram2dcontour": [
                      {
                        "colorbar": {
                          "outlinewidth": 0,
                          "ticks": ""
                        },
                        "colorscale": [
                          [
                            0,
                            "#0d0887"
                          ],
                          [
                            0.1111111111111111,
                            "#46039f"
                          ],
                          [
                            0.2222222222222222,
                            "#7201a8"
                          ],
                          [
                            0.3333333333333333,
                            "#9c179e"
                          ],
                          [
                            0.4444444444444444,
                            "#bd3786"
                          ],
                          [
                            0.5555555555555556,
                            "#d8576b"
                          ],
                          [
                            0.6666666666666666,
                            "#ed7953"
                          ],
                          [
                            0.7777777777777778,
                            "#fb9f3a"
                          ],
                          [
                            0.8888888888888888,
                            "#fdca26"
                          ],
                          [
                            1,
                            "#f0f921"
                          ]
                        ],
                        "type": "histogram2dcontour"
                      }
                    ],
                    "mesh3d": [
                      {
                        "colorbar": {
                          "outlinewidth": 0,
                          "ticks": ""
                        },
                        "type": "mesh3d"
                      }
                    ],
                    "parcoords": [
                      {
                        "line": {
                          "colorbar": {
                            "outlinewidth": 0,
                            "ticks": ""
                          }
                        },
                        "type": "parcoords"
                      }
                    ],
                    "pie": [
                      {
                        "automargin": true,
                        "type": "pie"
                      }
                    ],
                    "scatter": [
                      {
                        "fillpattern": {
                          "fillmode": "overlay",
                          "size": 10,
                          "solidity": 0.2
                        },
                        "type": "scatter"
                      }
                    ],
                    "scatter3d": [
                      {
                        "line": {
                          "colorbar": {
                            "outlinewidth": 0,
                            "ticks": ""
                          }
                        },
                        "marker": {
                          "colorbar": {
                            "outlinewidth": 0,
                            "ticks": ""
                          }
                        },
                        "type": "scatter3d"
                      }
                    ],
                    "scattercarpet": [
                      {
                        "marker": {
                          "colorbar": {
                            "outlinewidth": 0,
                            "ticks": ""
                          }
                        },
                        "type": "scattercarpet"
                      }
                    ],
                    "scattergeo": [
                      {
                        "marker": {
                          "colorbar": {
                            "outlinewidth": 0,
                            "ticks": ""
                          }
                        },
                        "type": "scattergeo"
                      }
                    ],
                    "scattergl": [
                      {
                        "marker": {
                          "colorbar": {
                            "outlinewidth": 0,
                            "ticks": ""
                          }
                        },
                        "type": "scattergl"
                      }
                    ],
                    "scattermap": [
                      {
                        "marker": {
                          "colorbar": {
                            "outlinewidth": 0,
                            "ticks": ""
                          }
                        },
                        "type": "scattermap"
                      }
                    ],
                    "scattermapbox": [
                      {
                        "marker": {
                          "colorbar": {
                            "outlinewidth": 0,
                            "ticks": ""
                          }
                        },
                        "type": "scattermapbox"
                      }
                    ],
                    "scatterpolar": [
                      {
                        "marker": {
                          "colorbar": {
                            "outlinewidth": 0,
                            "ticks": ""
                          }
                        },
                        "type": "scatterpolar"
                      }
                    ],
                    "scatterpolargl": [
                      {
                        "marker": {
                          "colorbar": {
                            "outlinewidth": 0,
                            "ticks": ""
                          }
                        },
                        "type": "scatterpolargl"
                      }
                    ],
                    "scatterternary": [
                      {
                        "marker": {
                          "colorbar": {
                            "outlinewidth": 0,
                            "ticks": ""
                          }
                        },
                        "type": "scatterternary"
                      }
                    ],
                    "surface": [
                      {
                        "colorbar": {
                          "outlinewidth": 0,
                          "ticks": ""
                        },
                        "colorscale": [
                          [
                            0,
                            "#0d0887"
                          ],
                          [
                            0.1111111111111111,
                            "#46039f"
                          ],
                          [
                            0.2222222222222222,
                            "#7201a8"
                          ],
                          [
                            0.3333333333333333,
                            "#9c179e"
                          ],
                          [
                            0.4444444444444444,
                            "#bd3786"
                          ],
                          [
                            0.5555555555555556,
                            "#d8576b"
                          ],
                          [
                            0.6666666666666666,
                            "#ed7953"
                          ],
                          [
                            0.7777777777777778,
                            "#fb9f3a"
                          ],
                          [
                            0.8888888888888888,
                            "#fdca26"
                          ],
                          [
                            1,
                            "#f0f921"
                          ]
                        ],
                        "type": "surface"
                      }
                    ],
                    "table": [
                      {
                        "cells": {
                          "fill": {
                            "color": "#EBF0F8"
                          },
                          "line": {
                            "color": "white"
                          }
                        },
                        "header": {
                          "fill": {
                            "color": "#C8D4E3"
                          },
                          "line": {
                            "color": "white"
                          }
                        },
                        "type": "table"
                      }
                    ]
                  },
                  "layout": {
                    "annotationdefaults": {
                      "arrowcolor": "#2a3f5f",
                      "arrowhead": 0,
                      "arrowwidth": 1
                    },
                    "autotypenumbers": "strict",
                    "coloraxis": {
                      "colorbar": {
                        "outlinewidth": 0,
                        "ticks": ""
                      }
                    },
                    "colorscale": {
                      "diverging": [
                        [
                          0,
                          "#8e0152"
                        ],
                        [
                          0.1,
                          "#c51b7d"
                        ],
                        [
                          0.2,
                          "#de77ae"
                        ],
                        [
                          0.3,
                          "#f1b6da"
                        ],
                        [
                          0.4,
                          "#fde0ef"
                        ],
                        [
                          0.5,
                          "#f7f7f7"
                        ],
                        [
                          0.6,
                          "#e6f5d0"
                        ],
                        [
                          0.7,
                          "#b8e186"
                        ],
                        [
                          0.8,
                          "#7fbc41"
                        ],
                        [
                          0.9,
                          "#4d9221"
                        ],
                        [
                          1,
                          "#276419"
                        ]
                      ],
                      "sequential": [
                        [
                          0,
                          "#0d0887"
                        ],
                        [
                          0.1111111111111111,
                          "#46039f"
                        ],
                        [
                          0.2222222222222222,
                          "#7201a8"
                        ],
                        [
                          0.3333333333333333,
                          "#9c179e"
                        ],
                        [
                          0.4444444444444444,
                          "#bd3786"
                        ],
                        [
                          0.5555555555555556,
                          "#d8576b"
                        ],
                        [
                          0.6666666666666666,
                          "#ed7953"
                        ],
                        [
                          0.7777777777777778,
                          "#fb9f3a"
                        ],
                        [
                          0.8888888888888888,
                          "#fdca26"
                        ],
                        [
                          1,
                          "#f0f921"
                        ]
                      ],
                      "sequentialminus": [
                        [
                          0,
                          "#0d0887"
                        ],
                        [
                          0.1111111111111111,
                          "#46039f"
                        ],
                        [
                          0.2222222222222222,
                          "#7201a8"
                        ],
                        [
                          0.3333333333333333,
                          "#9c179e"
                        ],
                        [
                          0.4444444444444444,
                          "#bd3786"
                        ],
                        [
                          0.5555555555555556,
                          "#d8576b"
                        ],
                        [
                          0.6666666666666666,
                          "#ed7953"
                        ],
                        [
                          0.7777777777777778,
                          "#fb9f3a"
                        ],
                        [
                          0.8888888888888888,
                          "#fdca26"
                        ],
                        [
                          1,
                          "#f0f921"
                        ]
                      ]
                    },
                    "colorway": [
                      "#636efa",
                      "#EF553B",
                      "#00cc96",
                      "#ab63fa",
                      "#FFA15A",
                      "#19d3f3",
                      "#FF6692",
                      "#B6E880",
                      "#FF97FF",
                      "#FECB52"
                    ],
                    "font": {
                      "color": "#2a3f5f"
                    },
                    "geo": {
                      "bgcolor": "white",
                      "lakecolor": "white",
                      "landcolor": "#E5ECF6",
                      "showlakes": true,
                      "showland": true,
                      "subunitcolor": "white"
                    },
                    "hoverlabel": {
                      "align": "left"
                    },
                    "hovermode": "closest",
                    "mapbox": {
                      "style": "light"
                    },
                    "paper_bgcolor": "white",
                    "plot_bgcolor": "#E5ECF6",
                    "polar": {
                      "angularaxis": {
                        "gridcolor": "white",
                        "linecolor": "white",
                        "ticks": ""
                      },
                      "bgcolor": "#E5ECF6",
                      "radialaxis": {
                        "gridcolor": "white",
                        "linecolor": "white",
                        "ticks": ""
                      }
                    },
                    "scene": {
                      "xaxis": {
                        "backgroundcolor": "#E5ECF6",
                        "gridcolor": "white",
                        "gridwidth": 2,
                        "linecolor": "white",
                        "showbackground": true,
                        "ticks": "",
                        "zerolinecolor": "white"
                      },
                      "yaxis": {
                        "backgroundcolor": "#E5ECF6",
                        "gridcolor": "white",
                        "gridwidth": 2,
                        "linecolor": "white",
                        "showbackground": true,
                        "ticks": "",
                        "zerolinecolor": "white"
                      },
                      "zaxis": {
                        "backgroundcolor": "#E5ECF6",
                        "gridcolor": "white",
                        "gridwidth": 2,
                        "linecolor": "white",
                        "showbackground": true,
                        "ticks": "",
                        "zerolinecolor": "white"
                      }
                    },
                    "shapedefaults": {
                      "line": {
                        "color": "#2a3f5f"
                      }
                    },
                    "ternary": {
                      "aaxis": {
                        "gridcolor": "white",
                        "linecolor": "white",
                        "ticks": ""
                      },
                      "baxis": {
                        "gridcolor": "white",
                        "linecolor": "white",
                        "ticks": ""
                      },
                      "bgcolor": "#E5ECF6",
                      "caxis": {
                        "gridcolor": "white",
                        "linecolor": "white",
                        "ticks": ""
                      }
                    },
                    "title": {
                      "x": 0.05
                    },
                    "xaxis": {
                      "automargin": true,
                      "gridcolor": "white",
                      "linecolor": "white",
                      "ticks": "",
                      "title": {
                        "standoff": 15
                      },
                      "zerolinecolor": "white",
                      "zerolinewidth": 2
                    },
                    "yaxis": {
                      "automargin": true,
                      "gridcolor": "white",
                      "linecolor": "white",
                      "ticks": "",
                      "title": {
                        "standoff": 15
                      },
                      "zerolinecolor": "white",
                      "zerolinewidth": 2
                    }
                  }
                },
                "title": {
                  "text": "Listening Activity by Hour of Day"
                },
                "xaxis": {
                  "anchor": "y",
                  "domain": [
                    0,
                    1
                  ],
                  "dtick": 1,
                  "tickmode": "linear",
                  "title": {
                    "text": "Hour of Day"
                  }
                },
                "yaxis": {
                  "anchor": "x",
                  "domain": [
                    0,
                    1
                  ],
                  "title": {
                    "text": "Total Minutes Played"
                  }
                }
              }
            }
          },
          "metadata": {},
          "output_type": "display_data"
        },
        {
          "name": "stdout",
          "output_type": "stream",
          "text": [
            "\n",
            "Peak Listening Hours:\n",
            "  00:00 - 01:00: 3953.67 minutes\n",
            "  02:00 - 03:00: 3196.83 minutes\n",
            "  03:00 - 04:00: 3123.68 minutes\n"
          ]
        }
      ],
      "source": [
        "# Aggregate by hour of day\n",
        "hourly_listening = df_cleaned.groupby('hour')['minutes_played'].sum().reset_index()\n",
        "\n",
        "# Create bar chart\n",
        "fig_hourly = px.bar(\n",
        "    hourly_listening,\n",
        "    x='hour',\n",
        "    y='minutes_played',\n",
        "    labels={'hour': 'Hour of Day', 'minutes_played': 'Total Minutes Played'},\n",
        "    title='Listening Activity by Hour of Day',\n",
        "    color='minutes_played',\n",
        "    color_continuous_scale='Sunset'\n",
        ")\n",
        "\n",
        "fig_hourly.update_layout(\n",
        "    xaxis=dict(tickmode='linear', dtick=1),\n",
        "    height=400,\n",
        "    showlegend=False\n",
        ")\n",
        "\n",
        "fig_hourly.show()\n",
        "\n",
        "print(\"\\nPeak Listening Hours:\")\n",
        "top_hours = hourly_listening.nlargest(3, 'minutes_played')\n",
        "for _, row in top_hours.iterrows():\n",
        "    print(f\"  {int(row['hour']):02d}:00 - {int(row['hour'])+1:02d}:00: {row['minutes_played']:.2f} minutes\")"
      ]
    },
    {
      "cell_type": "markdown",
      "metadata": {
        "id": "h8R6w9H49Sy9"
      },
      "source": [
        "Once I had answered these questions, the next step in the pipeline was to get the audio preview samples of the different songs in the data set so that I could extract features from them which I'd use in my supervised learning process.\n",
        "\n",
        "# **Obtaining the audio samples**\n",
        "\n",
        "At first my plan was to use the Spotify API to request audio_features using the song's URI already present in my new dataframe, but the endpoint which would serve the response was already deprecated, so the next thing I thought of was using the Deezer API, but I also ran into a similar issue. With Deezer API, I either got a link to an audio file that wasn't existent or I actually got it, so I had to find an alternative source. I searched through reddit, and eventually found an npm package which helped to source the preview samples. I wrote a script in javascript that was able to take the stream of information from my data frame, find an 30 seconds audio preview sample url of the song and download it into the folder audio_samples.\n",
        "\n",
        "The script for doing the finding the url can be found in `Ingestion/spotify_preview_finder`. The code which then downloaded the mp3 audio samples with the found url can be found in `Ingestion/extract_audio_samples.py` and stored the audio samples in the directory `Audio_Samples`.\n",
        "\n",
        "# **Extracting Audio Features**\n",
        "\n",
        "With the audio samples, I wrote a script to extract quantitative audio characteristics from the music track such as tempo, spectral features, MFCCs. etc, using the Librosa Library.\n",
        "\n",
        "I also took each of the songs from the dataset and used the Spotify API to get their genres. After obtaining both features and genre_labels for the found music I combined that into another dataset `audio_features_with_genres.csv` which contained only unique songs, thus providing the benefit of no data leakage, and an honest evaluation i.e. the performance of the models would reflect true generalization.\n",
        "\n",
        "\n",
        "The code below loads the dataset. This dataset formed the dataset used for my model construction moving forward."
      ]
    },
    {
      "cell_type": "code",
      "execution_count": 10,
      "metadata": {
        "id": "JxuG2pxaHtWG"
      },
      "outputs": [
        {
          "name": "stdout",
          "output_type": "stream",
          "text": [
            "Loading unique tracks dataset from: ../Extracted_Features/audio_features_with_genres.csv\n",
            "\n",
            "======================================================================\n",
            "UNIQUE TRACKS DATASET - SUMMARY\n",
            "======================================================================\n",
            "Total unique tracks: 1,853\n",
            "Total columns (metadata + features): 33\n",
            "\n",
            "--- Genre Distribution ---\n",
            "Number of unique genres: 118\n",
            "\n",
            "Top 10 genres:\n"
          ]
        },
        {
          "data": {
            "text/plain": [
              "genre\n",
              "Unknown           422\n",
              "worship           366\n",
              "afrobeats         259\n",
              "lo-fi             112\n",
              "african gospel     67\n",
              "gospel             56\n",
              "uk drill           56\n",
              "christian          41\n",
              "soft pop           34\n",
              "new age            33\n",
              "Name: count, dtype: int64"
            ]
          },
          "metadata": {},
          "output_type": "display_data"
        },
        {
          "name": "stdout",
          "output_type": "stream",
          "text": [
            "\n",
            "Sample of the dataset (metadata columns):\n"
          ]
        },
        {
          "data": {
            "text/html": [
              "<div>\n",
              "<style scoped>\n",
              "    .dataframe tbody tr th:only-of-type {\n",
              "        vertical-align: middle;\n",
              "    }\n",
              "\n",
              "    .dataframe tbody tr th {\n",
              "        vertical-align: top;\n",
              "    }\n",
              "\n",
              "    .dataframe thead th {\n",
              "        text-align: right;\n",
              "    }\n",
              "</style>\n",
              "<table border=\"1\" class=\"dataframe\">\n",
              "  <thead>\n",
              "    <tr style=\"text-align: right;\">\n",
              "      <th></th>\n",
              "      <th>track_name</th>\n",
              "      <th>artist_name</th>\n",
              "      <th>genre</th>\n",
              "      <th>duration</th>\n",
              "      <th>tempo</th>\n",
              "    </tr>\n",
              "  </thead>\n",
              "  <tbody>\n",
              "    <tr>\n",
              "      <th>0</th>\n",
              "      <td>SNAP</td>\n",
              "      <td>Rosa Linn</td>\n",
              "      <td>Unknown</td>\n",
              "      <td>29.712653</td>\n",
              "      <td>172.265625</td>\n",
              "    </tr>\n",
              "    <tr>\n",
              "      <th>1</th>\n",
              "      <td>Lord Send Revival - Live</td>\n",
              "      <td>Hillsong Young &amp; Free</td>\n",
              "      <td>worship</td>\n",
              "      <td>29.712653</td>\n",
              "      <td>99.384014</td>\n",
              "    </tr>\n",
              "    <tr>\n",
              "      <th>2</th>\n",
              "      <td>Somewhere Only We Know</td>\n",
              "      <td>Gustixa</td>\n",
              "      <td>Unknown</td>\n",
              "      <td>22.328027</td>\n",
              "      <td>86.132812</td>\n",
              "    </tr>\n",
              "    <tr>\n",
              "      <th>3</th>\n",
              "      <td>Happier</td>\n",
              "      <td>Marshmello</td>\n",
              "      <td>edm</td>\n",
              "      <td>29.712653</td>\n",
              "      <td>89.102909</td>\n",
              "    </tr>\n",
              "    <tr>\n",
              "      <th>4</th>\n",
              "      <td>Firm Foundation (He Won't) [feat. Cody Carnes]</td>\n",
              "      <td>Maverick City Music</td>\n",
              "      <td>worship</td>\n",
              "      <td>29.712653</td>\n",
              "      <td>161.499023</td>\n",
              "    </tr>\n",
              "  </tbody>\n",
              "</table>\n",
              "</div>"
            ],
            "text/plain": [
              "                                       track_name            artist_name  \\\n",
              "0                                            SNAP              Rosa Linn   \n",
              "1                        Lord Send Revival - Live  Hillsong Young & Free   \n",
              "2                          Somewhere Only We Know                Gustixa   \n",
              "3                                         Happier             Marshmello   \n",
              "4  Firm Foundation (He Won't) [feat. Cody Carnes]    Maverick City Music   \n",
              "\n",
              "     genre   duration       tempo  \n",
              "0  Unknown  29.712653  172.265625  \n",
              "1  worship  29.712653   99.384014  \n",
              "2  Unknown  22.328027   86.132812  \n",
              "3      edm  29.712653   89.102909  \n",
              "4  worship  29.712653  161.499023  "
            ]
          },
          "metadata": {},
          "output_type": "display_data"
        }
      ],
      "source": [
        "# Load the dataset containing unique tracks and their audio features\n",
        "unique_tracks_path = '../Extracted_Features/audio_features_with_genres.csv'\n",
        "\n",
        "print(f\"Loading unique tracks dataset from: {unique_tracks_path}\")\n",
        "df_tracks = pd.read_csv(unique_tracks_path)\n",
        "\n",
        "print(f\"\\n{'='*70}\")\n",
        "print(f\"UNIQUE TRACKS DATASET - SUMMARY\")\n",
        "print(f\"{'='*70}\")\n",
        "print(f\"Total unique tracks: {len(df_tracks):,}\")\n",
        "print(f\"Total columns (metadata + features): {len(df_tracks.columns)}\")\n",
        "\n",
        "# Display genre distribution\n",
        "if 'genre' in df_tracks.columns:\n",
        "    print(f\"\\n--- Genre Distribution ---\")\n",
        "    genre_counts = df_tracks['genre'].value_counts()\n",
        "    print(f\"Number of unique genres: {len(genre_counts)}\")\n",
        "    print(f\"\\nTop 10 genres:\")\n",
        "    display(genre_counts.head(10))\n",
        "else:\n",
        "    print(\"\\n⚠ Warning: 'genre' column not found in dataset\")\n",
        "\n",
        "print(f\"\\nSample of the dataset (metadata columns):\")\n",
        "display_cols = ['track_name', 'artist_name', 'genre', 'duration', 'tempo']\n",
        "display(df_tracks[display_cols].head())"
      ]
    },
    {
      "cell_type": "markdown",
      "metadata": {
        "id": "9LVoyjAWHwrE"
      },
      "source": [
        "With this, I was ready for working on my analysis. Since, this was a classification task, Supervised learning, I decided to look at three different models which I discuss later.\n",
        "\n",
        "To properly evaluate our machine learning models, we must split our **unique tracks** into three distinct sets:\n",
        "\n",
        "1. **Training Set (70%)**: Used to train the model parameters. The model learns patterns and relationships from this data.\n",
        "\n",
        "2. **Validation Set (15%)**: Used during model development to:\n",
        "   - Tune hyperparameters (e.g., number of trees, learning rate)\n",
        "   - Perform early stopping to prevent overfitting\n",
        "   - Compare different model architectures\n",
        "\n",
        "3. **Test Set (15%)**: A completely held-out set used **only** for final evaluation. This simulates real-world performance on unseen data.\n",
        "\n",
        "**Critical Principles**:\n",
        "- The test set must remain untouched until final evaluation to provide an unbiased estimate of model performance\n",
        "- We're splitting **unique tracks**, not listening events - this ensures no track appears in multiple sets\n",
        "- Each set will have different songs, ensuring the model truly learns to generalize\n",
        "\n",
        "\n",
        "From the results in the code cell above, we see that there were many genres which had fewer tracks than others. Thus, because of this imbalance, I decided to use a **stratified sampling** to ensure each split contains the same proportion of each genre as the original dataset. The benefit of choosing this splitting strategy was to prevent the model from being trained on an unrepresentative sample.\n",
        "\n",
        "To really take advantage of the stratified splitting, I filtered my dataset to genres with at least 10 tracks to ensure statistical validity.\n",
        "\n",
        "**Why 10 Tracks Per Genre?**\n",
        "\n",
        "Before we can split our data for training, we must address a critical statistical constraint: **minimum sample size per class**.\n",
        "\n",
        "Our dataset exhibits what's known as a **long-tail distribution**. Looking at our genre counts:\n",
        "- A few genres dominate: \"Unknown\" (422 tracks), \"worship\" (366 tracks), \"afrobeats\" (259 tracks)\n",
        "- Many genres are rare: 103 genres have fewer than 10 tracks each\n",
        "- Some genres have only 1-2 samples\n",
        "\n",
        "This creates a fundamental problem for machine learning: **How can we reliably train, validate, and test a model on genres with insufficient data?**\n",
        "\n",
        "Recall my planned data split:\n",
        "- Training: 70%\n",
        "- Validation: 15%\n",
        "- Test: 15%\n",
        "\n",
        "For **stratified splitting** (maintaining genre proportions across splits), we need each genre to have enough samples to be distributed across all three sets while maintaining statistical validity.\n",
        "\n",
        "**Mathematical Constraint**:\n",
        "\n",
        "For a genre with $n$ samples and a split of proportions $(p_{train}, p_{val}, p_{test})$:\n",
        "\n",
        "$$\n",
        "n_{train} = \\lfloor n \\cdot p_{train} \\rfloor, \\quad n_{val} = \\lfloor n \\cdot p_{val} \\rfloor, \\quad n_{test} = \\lfloor n \\cdot p_{test} \\rfloor\n",
        "$$\n",
        "\n",
        "where $\\lfloor \\cdot \\rfloor$ denotes rounding down (floor function).\n",
        "\n",
        "**Problem Cases**:\n",
        "\n",
        "| Genre Samples | Train (70%) | Val (15%) | Test (15%) | Issue |\n",
        "|---------------|-------------|-----------|------------|-------|\n",
        "| $n = 1$ | 0-1 | 0 | 0 | Cannot split at all |\n",
        "| $n = 2$ | 1 | 0 | 0-1 | No validation/test data |\n",
        "| $n = 5$ | 3 | 0-1 | 0-1 | Validation/test too small |\n",
        "| $n = 10$ | 7 | 1-2 | 1-2 | Minimum viable split |\n",
        "| $n = 20$ | 14 | 3 | 3 | Comfortable split |\n",
        "\n",
        "With $n < 10$, we cannot guarantee that each split receives at least one sample, making stratified splitting impossible or statistically meaningless.\n",
        "\n",
        "**Why We Can't Train on Single-Sample Classes**\n",
        "\n",
        "**Theoretical Issues**:\n",
        "\n",
        "1. **No Generalization**: With only 1-2 samples of a genre in training, the model can't learn generalizable patterns. It will either:\n",
        "   - Memorize those specific tracks (overfitting)\n",
        "   - Ignore the genre entirely (underfitting)\n",
        "\n",
        "2. **Unreliable Validation**: With 0-1 samples in validation, we can't assess:\n",
        "   - Whether the model learned meaningful patterns\n",
        "   - How well it generalizes to unseen data of that genre\n",
        "   - What the true error rate is\n",
        "\n",
        "3. **Meaningless Test Performance**: With 0-1 samples in test, we get:\n",
        "   - High variance in performance metrics\n",
        "   - Unreliable estimates of real-world accuracy\n",
        "   - Either 0% or 100% accuracy—neither is informative\n",
        "\n",
        "**Practical Example**:\n",
        "\n",
        "Suppose we have a genre \"jazz\" with only 2 tracks. After splitting:\n",
        "- Training: 1 track (track A)\n",
        "- Validation: 0-1 tracks (track B or nothing)\n",
        "- Test: 0-1 tracks (track B or nothing)\n",
        "\n",
        "The model trained on track A cannot possibly learn what makes jazz \"jazz\" from a single example. It might learn that track A specifically is jazz, but this doesn't generalize.\n",
        "\n",
        "#### Statistical Validity and Confidence\n",
        "\n",
        "In statistics, we need sufficient sample size to make reliable inferences. For classification the rule of thumb is that each class should have at least 10-30 samples for basic statistical validity.\n",
        "\n",
        "With our 70/15/15 split on $n=10$ samples:\n",
        "- Train: 7 samples → Model can begin to identify patterns\n",
        "- Val: 1-2 samples → Minimal feedback for hyperparameter tuning\n",
        "- Test: 1-2 samples → Very rough performance estimate\n",
        "\n",
        "This is the **absolute minimum**. Ideally, we'd want $n \\geq 30$ per genre, but we're working with real-world constraints.\n",
        "\n",
        "**Confidence Intervals**:\n",
        "\n",
        "For a test set with $n_{test}$ samples per class, the standard error of the accuracy estimate is:\n",
        "\n",
        "$$\n",
        "SE = \\sqrt{\\frac{p(1-p)}{n_{test}}}\n",
        "$$\n",
        "\n",
        "where $p$ is the true accuracy. With $n_{test} = 1$:\n",
        "\n",
        "$$\n",
        "SE = \\sqrt{\\frac{0.5(0.5)}{1}} = 0.5 \\text{ (50\\% uncertainty!)}\n",
        "$$\n",
        "\n",
        "With $n_{test} = 2$:\n",
        "\n",
        "$$\n",
        "SE = \\sqrt{\\frac{0.5(0.5)}{2}} \\approx 0.35 \\text{ (35\\% uncertainty)}\n",
        "$$\n",
        "\n",
        "With $n_{test} = 15$ (from a genre with 100 samples):\n",
        "\n",
        "$$\n",
        "SE = \\sqrt{\\frac{0.5(0.5)}{15}} \\approx 0.13 \\text{ (13\\% uncertainty)}\n",
        "$$\n",
        "\n",
        "**This illustrates why small sample sizes yield unreliable performance estimates.**\n",
        "\n",
        "#### The Tradeoff: Coverage vs. Quality\n",
        "\n",
        "By filtering to genres with ≥10 samples, we face a tradeoff:\n",
        "\n",
        "**What We Lose**:\n",
        "- 103 rare genres (e.g., \"classical\", \"jazz\", \"salsa\" with 1 track each)\n",
        "- 241 tracks (13% of dataset)\n",
        "- Diversity in genre representation\n",
        "\n",
        "**What We Gain**:\n",
        "- Statistically valid train/val/test splits\n",
        "- Reliable performance metrics\n",
        "- Honest evaluation of model generalization\n",
        "- Ability to use stratified sampling\n",
        "- Confidence in our results\n",
        "\n",
        "\n",
        "#### Final Dataset Composition\n",
        "\n",
        "After filtering:\n",
        "- **20 genres** (down from 118)\n",
        "- **1,612 tracks** (87% of original 1,853)\n",
        "- **Minimum 10 tracks per genre**, maximum 422 tracks\n",
        "\n",
        "Each genre now has sufficient data for:\n",
        "- Learning patterns in training (7+ samples)\n",
        "- Tuning hyperparameters in validation (1-2+ samples)\n",
        "- Evaluating performance in test (1-2+ samples)\n",
        "\n",
        "This is a **realistic, honest dataset** for machine learning, even if it means excluding rare genres we don't have enough data to properly classify.\n"
      ]
    },
    {
      "cell_type": "code",
      "execution_count": 12,
      "metadata": {
        "id": "M-dtP9ynmFdl"
      },
      "outputs": [
        {
          "name": "stdout",
          "output_type": "stream",
          "text": [
            "======================================================================\n",
            "STEP 1: FILTERING GENRES\n",
            "======================================================================\n",
            "Filtering to genres with at least 10 samples...\n",
            "Genres before filtering: 118\n",
            "Genres after filtering:  20\n",
            "Tracks remaining: 1,612\n",
            "\n",
            "======================================================================\n",
            "STEP 2: ASSEMBLING FEATURE MATRIX (X)\n",
            "======================================================================\n",
            "Extracted 14 simple numerical features.\n",
            "Parsing mfcc_mean (20 dimensions)...\n",
            "Parsing mfcc_std (20 dimensions)...\n",
            "Parsing chroma_mean (12 dimensions)...\n",
            "Parsing chroma_std (12 dimensions)...\n",
            "Parsing mel_spec_mean (128 dimensions)...\n",
            "Parsing mel_spec_std (128 dimensions)...\n",
            "Parsing spec_contrast_mean (7 dimensions)...\n",
            "Parsing spec_contrast_std (7 dimensions)...\n",
            "\n",
            "Feature matrix 'X' assembled successfully.\n",
            "Final feature matrix shape: (1612, 348)\n",
            "\n",
            "======================================================================\n",
            "STEP 3: ENCODING TARGET LABELS (y)\n",
            "======================================================================\n",
            "Encoded 20 genres into numerical labels.\n",
            "Target vector 'y' shape: (1612,)\n",
            "\n",
            "======================================================================\n",
            "STEP 4: SPLITTING DATA\n",
            "======================================================================\n",
            "Training set:    1128 samples × 348 features\n",
            "Validation set:   242 samples × 348 features\n",
            "Test set:         242 samples × 348 features\n",
            "\n",
            "======================================================================\n",
            "STEP 5: SCALING FEATURES\n",
            "======================================================================\n",
            "✓ Features for training, validation, and test sets have been scaled.\n",
            "\n",
            "Data preparation complete and ready for model training!\n"
          ]
        }
      ],
      "source": [
        "import ast\n",
        "\n",
        "def prepare_data(df_tracks):\n",
        "    \"\"\"\n",
        "    A comprehensive function to process the raw track data into ML-ready datasets.\n",
        "    \"\"\"\n",
        "    # ======================================================================\n",
        "    # STEP 1: FILTERING GENRES\n",
        "    # ======================================================================\n",
        "    print(\"=\"*70)\n",
        "    print(\"STEP 1: FILTERING GENRES\")\n",
        "    print(\"=\"*70)\n",
        "    print(\"Filtering to genres with at least 10 samples...\")\n",
        "    genre_counts = df_tracks['genre'].value_counts()\n",
        "    genres_to_keep = genre_counts[genre_counts >= 10].index\n",
        "    df_filtered = df_tracks[df_tracks['genre'].isin(genres_to_keep)].copy()\n",
        "    print(f\"Genres before filtering: {len(genre_counts)}\")\n",
        "    print(f\"Genres after filtering:  {len(genres_to_keep)}\")\n",
        "    print(f\"Tracks remaining: {len(df_filtered):,}\")\n",
        "\n",
        "    # ======================================================================\n",
        "    # STEP 2: ASSEMBLING FEATURE MATRIX (X)\n",
        "    # ======================================================================\n",
        "    print(\"\\n\" + \"=\"*70)\n",
        "    print(\"STEP 2: ASSEMBLING FEATURE MATRIX (X)\")\n",
        "    print(\"=\"*70)\n",
        "\n",
        "    # Define feature columns\n",
        "    global numerical_feature_cols, array_feature_cols, feature_names\n",
        "    numerical_feature_cols = [\n",
        "        'duration', 'tempo', 'spec_centroid_mean', 'spec_centroid_std',\n",
        "        'spec_bandwidth_mean', 'spec_bandwidth_std', 'spec_rolloff_mean',\n",
        "        'spec_rolloff_std', 'zero_crossing_mean', 'zero_crossing_std',\n",
        "        'rms_mean', 'rms_std', 'beat_count', 'beat_tempo'\n",
        "    ]\n",
        "    array_feature_cols = {\n",
        "        'mfcc_mean': 20, 'mfcc_std': 20, 'chroma_mean': 12, 'chroma_std': 12,\n",
        "        'mel_spec_mean': 128, 'mel_spec_std': 128, 'spec_contrast_mean': 7, 'spec_contrast_std': 7\n",
        "    }\n",
        "\n",
        "    # Extract simple numerical features\n",
        "    X_numerical = df_filtered[numerical_feature_cols].values\n",
        "    print(f\"Extracted {X_numerical.shape[1]} simple numerical features.\")\n",
        "\n",
        "    # Function to safely parse string representations of lists/arrays\n",
        "    def parse_array(s):\n",
        "        try:\n",
        "            return np.array(ast.literal_eval(s))\n",
        "        except (ValueError, SyntaxError):\n",
        "            return np.zeros(sum(array_feature_cols.values())) # Return a zero array of expected total size on failure\n",
        "\n",
        "    # Parse and stack array features\n",
        "    all_array_features = []\n",
        "    for col, dim in array_feature_cols.items():\n",
        "        print(f\"Parsing {col} ({dim} dimensions)...\")\n",
        "        # Apply the parsing function and stack the results\n",
        "        feature_matrix = np.vstack(df_filtered[col].apply(parse_array).values)\n",
        "        # Ensure the feature matrix has the correct number of dimensions\n",
        "        if feature_matrix.shape[1] != dim:\n",
        "            # Handle cases where parsing might result in incorrect shapes\n",
        "            # This could involve padding or truncating, but for now, we'll flag it\n",
        "            print(f\"  Warning: Mismatch in expected dimension for {col}. Expected {dim}, got {feature_matrix.shape[1]}. Adjusting...\")\n",
        "            # A simple fix: truncate or pad with zeros\n",
        "            adjusted_matrix = np.zeros((feature_matrix.shape[0], dim))\n",
        "            min_dim = min(dim, feature_matrix.shape[1])\n",
        "            adjusted_matrix[:, :min_dim] = feature_matrix[:, :min_dim]\n",
        "            feature_matrix = adjusted_matrix\n",
        "        all_array_features.append(feature_matrix)\n",
        "\n",
        "    # Combine all features\n",
        "    X = np.hstack([X_numerical] + all_array_features)\n",
        "    print(\"\\nFeature matrix 'X' assembled successfully.\")\n",
        "    print(f\"Final feature matrix shape: {X.shape}\")\n",
        "\n",
        "    # Store feature names for later use\n",
        "    feature_names = numerical_feature_cols.copy()\n",
        "    for col, dim in array_feature_cols.items():\n",
        "        feature_names.extend([f\"{col}_{i}\" for i in range(dim)])\n",
        "\n",
        "    # ======================================================================\n",
        "    # STEP 3: ENCODING TARGET LABELS (y)\n",
        "    # ======================================================================\n",
        "    print(\"\\n\" + \"=\"*70)\n",
        "    print(\"STEP 3: ENCODING TARGET LABELS (y)\")\n",
        "    print(\"=\"*70)\n",
        "    label_encoder = LabelEncoder()\n",
        "    y = label_encoder.fit_transform(df_filtered['genre'])\n",
        "    print(f\"Encoded {len(label_encoder.classes_)} genres into numerical labels.\")\n",
        "    print(f\"Target vector 'y' shape: {y.shape}\")\n",
        "\n",
        "    # ======================================================================\n",
        "    # STEP 4: SPLITTING DATA\n",
        "    # ======================================================================\n",
        "    print(\"\\n\" + \"=\"*70)\n",
        "    print(\"STEP 4: SPLITTING DATA\")\n",
        "    print(\"=\"*70)\n",
        "    # First split: 70% train, 30% temp (validation + test)\n",
        "    train_indices, temp_indices = train_test_split(\n",
        "        np.arange(len(X)), test_size=0.3, random_state=42, stratify=y\n",
        "    )\n",
        "    # Second split: 50% of temp -> 15% validation, 15% test\n",
        "    val_indices, test_indices = train_test_split(\n",
        "        temp_indices, test_size=0.5, random_state=42, stratify=y[temp_indices]\n",
        "    )\n",
        "\n",
        "    X_train, y_train = X[train_indices], y[train_indices]\n",
        "    X_val, y_val = X[val_indices], y[val_indices]\n",
        "    X_test, y_test = X[test_indices], y[test_indices]\n",
        "\n",
        "    print(f\"Training set:    {len(X_train)} samples × {X_train.shape[1]} features\")\n",
        "    print(f\"Validation set:   {len(X_val)} samples × {X_val.shape[1]} features\")\n",
        "    print(f\"Test set:         {len(X_test)} samples × {X_test.shape[1]} features\")\n",
        "\n",
        "    # ======================================================================\n",
        "    # STEP 5: SCALING FEATURES\n",
        "    # ======================================================================\n",
        "    print(\"\\n\" + \"=\"*70)\n",
        "    print(\"STEP 5: SCALING FEATURES\")\n",
        "    print(\"=\"*70)\n",
        "    scaler = StandardScaler()\n",
        "    X_train_scaled = scaler.fit_transform(X_train)\n",
        "    X_val_scaled = scaler.transform(X_val)\n",
        "    X_test_scaled = scaler.transform(X_test)\n",
        "    print(\"✓ Features for training, validation, and test sets have been scaled.\")\n",
        "\n",
        "    # Return all the artifacts needed for modeling\n",
        "    return X_train, X_val, X_test, y_train, y_val, y_test, scaler, label_encoder, X_train_scaled, X_val_scaled, X_test_scaled\n",
        "\n",
        "# --------------------------------------------------------------------------------\n",
        "# EXECUTE THE DATA PREPARATION PIPELINE\n",
        "# --------------------------------------------------------------------------------\n",
        "# Execute the function and unpack all the returned objects into the global scope\n",
        "X_train, X_val, X_test, y_train, y_val, y_test, scaler, label_encoder, X_train_scaled, X_val_scaled, X_test_scaled = prepare_data(df_tracks.copy())\n",
        "\n",
        "print(\"\\nData preparation complete and ready for model training!\")"
      ]
    },
    {
      "cell_type": "markdown",
      "metadata": {
        "id": "Yk_diTpIP8xe"
      },
      "source": [
        "## 4. Feature and Target Analysis and Visualization\n",
        "\n",
        "\n",
        "Before training the models, it's essential to understand the structure and relationships within our features. This exploratory analysis will help to provide a detailed inventory and analysis of our 348 features to ensure they are suitable for machine learning. We will investigate:\n",
        "\n",
        "1. **Understand class balance** - Are some genres overrepresented?\n",
        "2.  **Feature Inventory**: A detailed breakdown of all simple and array-based features.\n",
        "3.  **Feature Correlation**: A heatmap to identify and understand relationships between features.\n",
        "4.  **Feature Scaling**: An analysis of feature ranges to demonstrate the necessity of standardization.\n"
      ]
    },
    {
      "cell_type": "code",
      "execution_count": 16,
      "metadata": {
        "id": "uzk9O6WCQQFA"
      },
      "outputs": [
        {
          "name": "stdout",
          "output_type": "stream",
          "text": [
            "======================================================================\n",
            "VISUALIZATION 1: GENRE DISTRIBUTION\n",
            "======================================================================\n",
            "\n",
            "df_filtered not found in global scope — creating df_filtered from df_tracks (genres with >= 10 samples)...\n",
            "  → df_filtered created: 1612 tracks across 20 genres\n"
          ]
        },
        {
          "data": {
            "application/vnd.plotly.v1+json": {
              "config": {
                "plotlyServerURL": "https://plot.ly"
              },
              "data": [
                {
                  "hovertemplate": "Number of Tracks=%{x}<br>Genre=%{y}<br>text=%{text}<br>color=%{marker.color}<extra></extra>",
                  "legendgroup": "",
                  "marker": {
                    "color": {
                      "bdata": "CwALAA8AEAARABIAEgATABMAFgAhACIAKQA4ADgAQwBwAAMBbgGmAQ==",
                      "dtype": "i2"
                    },
                    "coloraxis": "coloraxis",
                    "pattern": {
                      "shape": ""
                    }
                  },
                  "name": "",
                  "orientation": "h",
                  "showlegend": false,
                  "text": {
                    "bdata": "AAAAAAAAJkAAAAAAAAAmQAAAAAAAAC5AAAAAAAAAMEAAAAAAAAAxQAAAAAAAADJAAAAAAAAAMkAAAAAAAAAzQAAAAAAAADNAAAAAAAAANkAAAAAAAIBAQAAAAAAAAEFAAAAAAACAREAAAAAAAABMQAAAAAAAAExAAAAAAADAUEAAAAAAAABcQAAAAAAAMHBAAAAAAADgdkAAAAAAAGB6QA==",
                    "dtype": "f8"
                  },
                  "textposition": "outside",
                  "texttemplate": "%{text}",
                  "type": "bar",
                  "x": {
                    "bdata": "CwALAA8AEAARABIAEgATABMAFgAhACIAKQA4ADgAQwBwAAMBbgGmAQ==",
                    "dtype": "i2"
                  },
                  "xaxis": "x",
                  "y": [
                    "amapiano",
                    "afro adura",
                    "lo-fi hip hop",
                    "country",
                    "edm",
                    "reggaeton",
                    "egyptian pop",
                    "lo-fi beats",
                    "traditional music",
                    "rap",
                    "new age",
                    "soft pop",
                    "christian",
                    "gospel",
                    "uk drill",
                    "african gospel",
                    "lo-fi",
                    "afrobeats",
                    "worship",
                    "Unknown"
                  ],
                  "yaxis": "y"
                }
              ],
              "layout": {
                "barmode": "relative",
                "coloraxis": {
                  "colorbar": {
                    "title": {
                      "text": "color"
                    }
                  },
                  "colorscale": [
                    [
                      0,
                      "#440154"
                    ],
                    [
                      0.1111111111111111,
                      "#482878"
                    ],
                    [
                      0.2222222222222222,
                      "#3e4989"
                    ],
                    [
                      0.3333333333333333,
                      "#31688e"
                    ],
                    [
                      0.4444444444444444,
                      "#26828e"
                    ],
                    [
                      0.5555555555555556,
                      "#1f9e89"
                    ],
                    [
                      0.6666666666666666,
                      "#35b779"
                    ],
                    [
                      0.7777777777777778,
                      "#6ece58"
                    ],
                    [
                      0.8888888888888888,
                      "#b5de2b"
                    ],
                    [
                      1,
                      "#fde725"
                    ]
                  ]
                },
                "height": 600,
                "legend": {
                  "tracegroupgap": 0
                },
                "showlegend": false,
                "template": {
                  "data": {
                    "bar": [
                      {
                        "error_x": {
                          "color": "#2a3f5f"
                        },
                        "error_y": {
                          "color": "#2a3f5f"
                        },
                        "marker": {
                          "line": {
                            "color": "#E5ECF6",
                            "width": 0.5
                          },
                          "pattern": {
                            "fillmode": "overlay",
                            "size": 10,
                            "solidity": 0.2
                          }
                        },
                        "type": "bar"
                      }
                    ],
                    "barpolar": [
                      {
                        "marker": {
                          "line": {
                            "color": "#E5ECF6",
                            "width": 0.5
                          },
                          "pattern": {
                            "fillmode": "overlay",
                            "size": 10,
                            "solidity": 0.2
                          }
                        },
                        "type": "barpolar"
                      }
                    ],
                    "carpet": [
                      {
                        "aaxis": {
                          "endlinecolor": "#2a3f5f",
                          "gridcolor": "white",
                          "linecolor": "white",
                          "minorgridcolor": "white",
                          "startlinecolor": "#2a3f5f"
                        },
                        "baxis": {
                          "endlinecolor": "#2a3f5f",
                          "gridcolor": "white",
                          "linecolor": "white",
                          "minorgridcolor": "white",
                          "startlinecolor": "#2a3f5f"
                        },
                        "type": "carpet"
                      }
                    ],
                    "choropleth": [
                      {
                        "colorbar": {
                          "outlinewidth": 0,
                          "ticks": ""
                        },
                        "type": "choropleth"
                      }
                    ],
                    "contour": [
                      {
                        "colorbar": {
                          "outlinewidth": 0,
                          "ticks": ""
                        },
                        "colorscale": [
                          [
                            0,
                            "#0d0887"
                          ],
                          [
                            0.1111111111111111,
                            "#46039f"
                          ],
                          [
                            0.2222222222222222,
                            "#7201a8"
                          ],
                          [
                            0.3333333333333333,
                            "#9c179e"
                          ],
                          [
                            0.4444444444444444,
                            "#bd3786"
                          ],
                          [
                            0.5555555555555556,
                            "#d8576b"
                          ],
                          [
                            0.6666666666666666,
                            "#ed7953"
                          ],
                          [
                            0.7777777777777778,
                            "#fb9f3a"
                          ],
                          [
                            0.8888888888888888,
                            "#fdca26"
                          ],
                          [
                            1,
                            "#f0f921"
                          ]
                        ],
                        "type": "contour"
                      }
                    ],
                    "contourcarpet": [
                      {
                        "colorbar": {
                          "outlinewidth": 0,
                          "ticks": ""
                        },
                        "type": "contourcarpet"
                      }
                    ],
                    "heatmap": [
                      {
                        "colorbar": {
                          "outlinewidth": 0,
                          "ticks": ""
                        },
                        "colorscale": [
                          [
                            0,
                            "#0d0887"
                          ],
                          [
                            0.1111111111111111,
                            "#46039f"
                          ],
                          [
                            0.2222222222222222,
                            "#7201a8"
                          ],
                          [
                            0.3333333333333333,
                            "#9c179e"
                          ],
                          [
                            0.4444444444444444,
                            "#bd3786"
                          ],
                          [
                            0.5555555555555556,
                            "#d8576b"
                          ],
                          [
                            0.6666666666666666,
                            "#ed7953"
                          ],
                          [
                            0.7777777777777778,
                            "#fb9f3a"
                          ],
                          [
                            0.8888888888888888,
                            "#fdca26"
                          ],
                          [
                            1,
                            "#f0f921"
                          ]
                        ],
                        "type": "heatmap"
                      }
                    ],
                    "histogram": [
                      {
                        "marker": {
                          "pattern": {
                            "fillmode": "overlay",
                            "size": 10,
                            "solidity": 0.2
                          }
                        },
                        "type": "histogram"
                      }
                    ],
                    "histogram2d": [
                      {
                        "colorbar": {
                          "outlinewidth": 0,
                          "ticks": ""
                        },
                        "colorscale": [
                          [
                            0,
                            "#0d0887"
                          ],
                          [
                            0.1111111111111111,
                            "#46039f"
                          ],
                          [
                            0.2222222222222222,
                            "#7201a8"
                          ],
                          [
                            0.3333333333333333,
                            "#9c179e"
                          ],
                          [
                            0.4444444444444444,
                            "#bd3786"
                          ],
                          [
                            0.5555555555555556,
                            "#d8576b"
                          ],
                          [
                            0.6666666666666666,
                            "#ed7953"
                          ],
                          [
                            0.7777777777777778,
                            "#fb9f3a"
                          ],
                          [
                            0.8888888888888888,
                            "#fdca26"
                          ],
                          [
                            1,
                            "#f0f921"
                          ]
                        ],
                        "type": "histogram2d"
                      }
                    ],
                    "histogram2dcontour": [
                      {
                        "colorbar": {
                          "outlinewidth": 0,
                          "ticks": ""
                        },
                        "colorscale": [
                          [
                            0,
                            "#0d0887"
                          ],
                          [
                            0.1111111111111111,
                            "#46039f"
                          ],
                          [
                            0.2222222222222222,
                            "#7201a8"
                          ],
                          [
                            0.3333333333333333,
                            "#9c179e"
                          ],
                          [
                            0.4444444444444444,
                            "#bd3786"
                          ],
                          [
                            0.5555555555555556,
                            "#d8576b"
                          ],
                          [
                            0.6666666666666666,
                            "#ed7953"
                          ],
                          [
                            0.7777777777777778,
                            "#fb9f3a"
                          ],
                          [
                            0.8888888888888888,
                            "#fdca26"
                          ],
                          [
                            1,
                            "#f0f921"
                          ]
                        ],
                        "type": "histogram2dcontour"
                      }
                    ],
                    "mesh3d": [
                      {
                        "colorbar": {
                          "outlinewidth": 0,
                          "ticks": ""
                        },
                        "type": "mesh3d"
                      }
                    ],
                    "parcoords": [
                      {
                        "line": {
                          "colorbar": {
                            "outlinewidth": 0,
                            "ticks": ""
                          }
                        },
                        "type": "parcoords"
                      }
                    ],
                    "pie": [
                      {
                        "automargin": true,
                        "type": "pie"
                      }
                    ],
                    "scatter": [
                      {
                        "fillpattern": {
                          "fillmode": "overlay",
                          "size": 10,
                          "solidity": 0.2
                        },
                        "type": "scatter"
                      }
                    ],
                    "scatter3d": [
                      {
                        "line": {
                          "colorbar": {
                            "outlinewidth": 0,
                            "ticks": ""
                          }
                        },
                        "marker": {
                          "colorbar": {
                            "outlinewidth": 0,
                            "ticks": ""
                          }
                        },
                        "type": "scatter3d"
                      }
                    ],
                    "scattercarpet": [
                      {
                        "marker": {
                          "colorbar": {
                            "outlinewidth": 0,
                            "ticks": ""
                          }
                        },
                        "type": "scattercarpet"
                      }
                    ],
                    "scattergeo": [
                      {
                        "marker": {
                          "colorbar": {
                            "outlinewidth": 0,
                            "ticks": ""
                          }
                        },
                        "type": "scattergeo"
                      }
                    ],
                    "scattergl": [
                      {
                        "marker": {
                          "colorbar": {
                            "outlinewidth": 0,
                            "ticks": ""
                          }
                        },
                        "type": "scattergl"
                      }
                    ],
                    "scattermap": [
                      {
                        "marker": {
                          "colorbar": {
                            "outlinewidth": 0,
                            "ticks": ""
                          }
                        },
                        "type": "scattermap"
                      }
                    ],
                    "scattermapbox": [
                      {
                        "marker": {
                          "colorbar": {
                            "outlinewidth": 0,
                            "ticks": ""
                          }
                        },
                        "type": "scattermapbox"
                      }
                    ],
                    "scatterpolar": [
                      {
                        "marker": {
                          "colorbar": {
                            "outlinewidth": 0,
                            "ticks": ""
                          }
                        },
                        "type": "scatterpolar"
                      }
                    ],
                    "scatterpolargl": [
                      {
                        "marker": {
                          "colorbar": {
                            "outlinewidth": 0,
                            "ticks": ""
                          }
                        },
                        "type": "scatterpolargl"
                      }
                    ],
                    "scatterternary": [
                      {
                        "marker": {
                          "colorbar": {
                            "outlinewidth": 0,
                            "ticks": ""
                          }
                        },
                        "type": "scatterternary"
                      }
                    ],
                    "surface": [
                      {
                        "colorbar": {
                          "outlinewidth": 0,
                          "ticks": ""
                        },
                        "colorscale": [
                          [
                            0,
                            "#0d0887"
                          ],
                          [
                            0.1111111111111111,
                            "#46039f"
                          ],
                          [
                            0.2222222222222222,
                            "#7201a8"
                          ],
                          [
                            0.3333333333333333,
                            "#9c179e"
                          ],
                          [
                            0.4444444444444444,
                            "#bd3786"
                          ],
                          [
                            0.5555555555555556,
                            "#d8576b"
                          ],
                          [
                            0.6666666666666666,
                            "#ed7953"
                          ],
                          [
                            0.7777777777777778,
                            "#fb9f3a"
                          ],
                          [
                            0.8888888888888888,
                            "#fdca26"
                          ],
                          [
                            1,
                            "#f0f921"
                          ]
                        ],
                        "type": "surface"
                      }
                    ],
                    "table": [
                      {
                        "cells": {
                          "fill": {
                            "color": "#EBF0F8"
                          },
                          "line": {
                            "color": "white"
                          }
                        },
                        "header": {
                          "fill": {
                            "color": "#C8D4E3"
                          },
                          "line": {
                            "color": "white"
                          }
                        },
                        "type": "table"
                      }
                    ]
                  },
                  "layout": {
                    "annotationdefaults": {
                      "arrowcolor": "#2a3f5f",
                      "arrowhead": 0,
                      "arrowwidth": 1
                    },
                    "autotypenumbers": "strict",
                    "coloraxis": {
                      "colorbar": {
                        "outlinewidth": 0,
                        "ticks": ""
                      }
                    },
                    "colorscale": {
                      "diverging": [
                        [
                          0,
                          "#8e0152"
                        ],
                        [
                          0.1,
                          "#c51b7d"
                        ],
                        [
                          0.2,
                          "#de77ae"
                        ],
                        [
                          0.3,
                          "#f1b6da"
                        ],
                        [
                          0.4,
                          "#fde0ef"
                        ],
                        [
                          0.5,
                          "#f7f7f7"
                        ],
                        [
                          0.6,
                          "#e6f5d0"
                        ],
                        [
                          0.7,
                          "#b8e186"
                        ],
                        [
                          0.8,
                          "#7fbc41"
                        ],
                        [
                          0.9,
                          "#4d9221"
                        ],
                        [
                          1,
                          "#276419"
                        ]
                      ],
                      "sequential": [
                        [
                          0,
                          "#0d0887"
                        ],
                        [
                          0.1111111111111111,
                          "#46039f"
                        ],
                        [
                          0.2222222222222222,
                          "#7201a8"
                        ],
                        [
                          0.3333333333333333,
                          "#9c179e"
                        ],
                        [
                          0.4444444444444444,
                          "#bd3786"
                        ],
                        [
                          0.5555555555555556,
                          "#d8576b"
                        ],
                        [
                          0.6666666666666666,
                          "#ed7953"
                        ],
                        [
                          0.7777777777777778,
                          "#fb9f3a"
                        ],
                        [
                          0.8888888888888888,
                          "#fdca26"
                        ],
                        [
                          1,
                          "#f0f921"
                        ]
                      ],
                      "sequentialminus": [
                        [
                          0,
                          "#0d0887"
                        ],
                        [
                          0.1111111111111111,
                          "#46039f"
                        ],
                        [
                          0.2222222222222222,
                          "#7201a8"
                        ],
                        [
                          0.3333333333333333,
                          "#9c179e"
                        ],
                        [
                          0.4444444444444444,
                          "#bd3786"
                        ],
                        [
                          0.5555555555555556,
                          "#d8576b"
                        ],
                        [
                          0.6666666666666666,
                          "#ed7953"
                        ],
                        [
                          0.7777777777777778,
                          "#fb9f3a"
                        ],
                        [
                          0.8888888888888888,
                          "#fdca26"
                        ],
                        [
                          1,
                          "#f0f921"
                        ]
                      ]
                    },
                    "colorway": [
                      "#636efa",
                      "#EF553B",
                      "#00cc96",
                      "#ab63fa",
                      "#FFA15A",
                      "#19d3f3",
                      "#FF6692",
                      "#B6E880",
                      "#FF97FF",
                      "#FECB52"
                    ],
                    "font": {
                      "color": "#2a3f5f"
                    },
                    "geo": {
                      "bgcolor": "white",
                      "lakecolor": "white",
                      "landcolor": "#E5ECF6",
                      "showlakes": true,
                      "showland": true,
                      "subunitcolor": "white"
                    },
                    "hoverlabel": {
                      "align": "left"
                    },
                    "hovermode": "closest",
                    "mapbox": {
                      "style": "light"
                    },
                    "paper_bgcolor": "white",
                    "plot_bgcolor": "#E5ECF6",
                    "polar": {
                      "angularaxis": {
                        "gridcolor": "white",
                        "linecolor": "white",
                        "ticks": ""
                      },
                      "bgcolor": "#E5ECF6",
                      "radialaxis": {
                        "gridcolor": "white",
                        "linecolor": "white",
                        "ticks": ""
                      }
                    },
                    "scene": {
                      "xaxis": {
                        "backgroundcolor": "#E5ECF6",
                        "gridcolor": "white",
                        "gridwidth": 2,
                        "linecolor": "white",
                        "showbackground": true,
                        "ticks": "",
                        "zerolinecolor": "white"
                      },
                      "yaxis": {
                        "backgroundcolor": "#E5ECF6",
                        "gridcolor": "white",
                        "gridwidth": 2,
                        "linecolor": "white",
                        "showbackground": true,
                        "ticks": "",
                        "zerolinecolor": "white"
                      },
                      "zaxis": {
                        "backgroundcolor": "#E5ECF6",
                        "gridcolor": "white",
                        "gridwidth": 2,
                        "linecolor": "white",
                        "showbackground": true,
                        "ticks": "",
                        "zerolinecolor": "white"
                      }
                    },
                    "shapedefaults": {
                      "line": {
                        "color": "#2a3f5f"
                      }
                    },
                    "ternary": {
                      "aaxis": {
                        "gridcolor": "white",
                        "linecolor": "white",
                        "ticks": ""
                      },
                      "baxis": {
                        "gridcolor": "white",
                        "linecolor": "white",
                        "ticks": ""
                      },
                      "bgcolor": "#E5ECF6",
                      "caxis": {
                        "gridcolor": "white",
                        "linecolor": "white",
                        "ticks": ""
                      }
                    },
                    "title": {
                      "x": 0.05
                    },
                    "xaxis": {
                      "automargin": true,
                      "gridcolor": "white",
                      "linecolor": "white",
                      "ticks": "",
                      "title": {
                        "standoff": 15
                      },
                      "zerolinecolor": "white",
                      "zerolinewidth": 2
                    },
                    "yaxis": {
                      "automargin": true,
                      "gridcolor": "white",
                      "linecolor": "white",
                      "ticks": "",
                      "title": {
                        "standoff": 15
                      },
                      "zerolinecolor": "white",
                      "zerolinewidth": 2
                    }
                  }
                },
                "title": {
                  "text": "Distribution of Genres in Training Dataset (After Filtering)"
                },
                "xaxis": {
                  "anchor": "y",
                  "domain": [
                    0,
                    1
                  ],
                  "title": {
                    "text": "Number of Tracks"
                  }
                },
                "yaxis": {
                  "anchor": "x",
                  "domain": [
                    0,
                    1
                  ],
                  "title": {
                    "text": "Genre"
                  }
                }
              }
            }
          },
          "metadata": {},
          "output_type": "display_data"
        },
        {
          "name": "stdout",
          "output_type": "stream",
          "text": [
            "\n",
            "Class Balance Analysis:\n",
            "  Most common genre:  Unknown (422 tracks)\n",
            "  Least common genre: amapiano (11 tracks)\n",
            "  Imbalance ratio:    38.36:1\n",
            "  Mean tracks/genre:  80.6\n",
            "  Median tracks/genre: 27.5\n",
            "\n",
            "⚠ Warning: Dataset is imbalanced (ratio > 10:1)\n",
            "  The model may be biased toward majority classes.\n"
          ]
        }
      ],
      "source": [
        "# Visualization 1: Genre Distribution\n",
        "print(f\"{'='*70}\")\n",
        "print(f\"VISUALIZATION 1: GENRE DISTRIBUTION\")\n",
        "print(f\"{'='*70}\\n\")\n",
        "\n",
        "# Ensure df_filtered exists (prepare_data created a local df_filtered; recreate here if missing)\n",
        "if 'df_filtered' not in globals():\n",
        "    print(\"df_filtered not found in global scope — creating df_filtered from df_tracks (genres with >= 10 samples)...\")\n",
        "    genre_counts_all = df_tracks['genre'].value_counts()\n",
        "    genres_to_keep = genre_counts_all[genre_counts_all >= 10].index\n",
        "    df_filtered = df_tracks[df_tracks['genre'].isin(genres_to_keep)].copy()\n",
        "    print(f\"  → df_filtered created: {len(df_filtered)} tracks across {len(genres_to_keep)} genres\")\n",
        "else:\n",
        "    print(\"Using existing df_filtered from global scope\")\n",
        "\n",
        "# Prepare data for visualization\n",
        "genre_dist = df_filtered['genre'].value_counts().sort_values(ascending=True)\n",
        "\n",
        "# Create horizontal bar chart for better label readability\n",
        "fig_genre_dist = px.bar(\n",
        "    x=genre_dist.values,\n",
        "    y=genre_dist.index,\n",
        "    orientation='h',\n",
        "    labels={'x': 'Number of Tracks', 'y': 'Genre'},\n",
        "    title='Distribution of Genres in Training Dataset (After Filtering)',\n",
        "    color=genre_dist.values,\n",
        "    color_continuous_scale='Viridis',\n",
        "    text=genre_dist.values\n",
        ")\n",
        "\n",
        "fig_genre_dist.update_traces(texttemplate='%{text}', textposition='outside')\n",
        "fig_genre_dist.update_layout(\n",
        "    height=600,\n",
        "    showlegend=False,\n",
        "    xaxis_title='Number of Tracks',\n",
        "    yaxis_title='Genre'\n",
        ")\n",
        "\n",
        "fig_genre_dist.show()\n",
        "\n",
        "# Calculate imbalance metrics\n",
        "max_count = genre_dist.max()\n",
        "min_count = genre_dist.min()\n",
        "imbalance_ratio = max_count / min_count\n",
        "\n",
        "print(f\"\\nClass Balance Analysis:\")\n",
        "print(f\"  Most common genre:  {genre_dist.index[-1]} ({max_count} tracks)\")\n",
        "print(f\"  Least common genre: {genre_dist.index[0]} ({min_count} tracks)\")\n",
        "print(f\"  Imbalance ratio:    {imbalance_ratio:.2f}:1\")\n",
        "print(f\"  Mean tracks/genre:  {genre_dist.mean():.1f}\")\n",
        "print(f\"  Median tracks/genre: {genre_dist.median():.1f}\")\n",
        "\n",
        "if imbalance_ratio > 10:\n",
        "    print(f\"\\n⚠ Warning: Dataset is imbalanced (ratio > 10:1)\")\n",
        "    print(f\"  The model may be biased toward majority classes.\")\n",
        "else:\n",
        "    print(f\"\\n✓ Dataset has moderate imbalance (ratio < 10:1)\")"
      ]
    },
    {
      "cell_type": "markdown",
      "metadata": {
        "id": "UtCFQGilQUN-"
      },
      "source": [
        "This visualization reveals the class imbalance in my dataset. \"Unknown\" and \"worship\" dominate with 422 and 366 tracks respectively, while genres like \"afro adura\" and \"amapiano\" have only 11 tracks each. This imbalance means:\n",
        "\n",
        "- The model will see many more examples of majority classes during training\n",
        "- Accuracy on rare genres may be lower due to limited training data\n",
        "- We should pay attention to **per-class metrics** (precision, recall, F1) rather than just overall accuracy\n",
        "- Class imbalance is common in real-world datasets and must be acknowledged\n",
        "\n",
        "Next, I examined the correlation between the audio features. Doing this ensured that I wasn't using **redundant features** in my analysis, and also guarded against **multicollinearity concerns** for one of the models which I wanted to use in my analysis (Logistic Regression). The code cell below shows some of the features which are highly correlated."
      ]
    },
    {
      "cell_type": "code",
      "execution_count": 17,
      "metadata": {
        "id": "kbbyTxGwRGoI"
      },
      "outputs": [
        {
          "name": "stdout",
          "output_type": "stream",
          "text": [
            "================================================================================\n",
            "FEATURE INVENTORY (348 TOTAL FEATURES)\n",
            "================================================================================\n",
            "\n",
            "────────────────────────────────────────────────────────────────────────────────\n",
            "1. SIMPLE NUMERICAL FEATURES (14 features)\n",
            "────────────────────────────────────────────────────────────────────────────────\n",
            "  • Rhythm: duration, tempo, beat_count, beat_tempo\n",
            "  • Timbre/Brightness: spec_centroid_mean, spec_centroid_std\n",
            "  • Texture: spec_bandwidth_mean, spec_bandwidth_std\n",
            "  • Frequency Shape: spec_rolloff_mean, spec_rolloff_std\n",
            "  • Percussiveness: zero_crossing_mean, zero_crossing_std\n",
            "  • Loudness: rms_mean, rms_std\n",
            "\n",
            "────────────────────────────────────────────────────────────────────────────────\n",
            "2. ARRAY-BASED FEATURES (334 features)\n",
            "────────────────────────────────────────────────────────────────────────────────\n",
            "These are multi-dimensional vectors capturing complex audio patterns:\n",
            "\n",
            "  • Mel-Frequency Cepstral Coefficients (MFCCs): 40 features\n",
            "    (Captures timbre and vocal characteristics)\n",
            "\n",
            "  • Chroma Features: 24 features\n",
            "    (Captures harmonic/melodic content - which notes are played)\n",
            "\n",
            "  • Mel Spectrogram: 256 features\n",
            "    (Energy across 128 frequency bins on a human-perceived scale)\n",
            "\n",
            "  • Spectral Contrast: 14 features\n",
            "    (Difference between peaks and valleys in the sound spectrum)\n",
            "\n",
            "✓ Feature inventory complete.\n",
            "\n",
            "================================================================================\n",
            "FEATURE ANALYSIS 1: CORRELATION OF NUMERICAL FEATURES\n",
            "================================================================================\n"
          ]
        },
        {
          "data": {
            "application/vnd.plotly.v1+json": {
              "config": {
                "plotlyServerURL": "https://plot.ly"
              },
              "data": [
                {
                  "coloraxis": "coloraxis",
                  "hovertemplate": "x: %{x}<br>y: %{y}<br>Correlation: %{z}<extra></extra>",
                  "name": "0",
                  "texttemplate": "%{z:.2f}",
                  "type": "heatmap",
                  "x": [
                    "duration",
                    "tempo",
                    "spec_centroid_mean",
                    "spec_centroid_std",
                    "spec_bandwidth_mean",
                    "spec_bandwidth_std",
                    "spec_rolloff_mean",
                    "spec_rolloff_std",
                    "zero_crossing_mean",
                    "zero_crossing_std",
                    "rms_mean",
                    "rms_std",
                    "beat_count",
                    "beat_tempo"
                  ],
                  "xaxis": "x",
                  "y": [
                    "duration",
                    "tempo",
                    "spec_centroid_mean",
                    "spec_centroid_std",
                    "spec_bandwidth_mean",
                    "spec_bandwidth_std",
                    "spec_rolloff_mean",
                    "spec_rolloff_std",
                    "zero_crossing_mean",
                    "zero_crossing_std",
                    "rms_mean",
                    "rms_std",
                    "beat_count",
                    "beat_tempo"
                  ],
                  "yaxis": "y",
                  "z": {
                    "bdata": "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",
                    "dtype": "f8",
                    "shape": "14, 14"
                  }
                }
              ],
              "layout": {
                "coloraxis": {
                  "colorbar": {
                    "title": {
                      "text": "Correlation"
                    }
                  },
                  "colorscale": [
                    [
                      0,
                      "#0d0887"
                    ],
                    [
                      0.1111111111111111,
                      "#46039f"
                    ],
                    [
                      0.2222222222222222,
                      "#7201a8"
                    ],
                    [
                      0.3333333333333333,
                      "#9c179e"
                    ],
                    [
                      0.4444444444444444,
                      "#bd3786"
                    ],
                    [
                      0.5555555555555556,
                      "#d8576b"
                    ],
                    [
                      0.6666666666666666,
                      "#ed7953"
                    ],
                    [
                      0.7777777777777778,
                      "#fb9f3a"
                    ],
                    [
                      0.8888888888888888,
                      "#fdca26"
                    ],
                    [
                      1,
                      "#f0f921"
                    ]
                  ]
                },
                "template": {
                  "data": {
                    "bar": [
                      {
                        "error_x": {
                          "color": "#f2f5fa"
                        },
                        "error_y": {
                          "color": "#f2f5fa"
                        },
                        "marker": {
                          "line": {
                            "color": "rgb(17,17,17)",
                            "width": 0.5
                          },
                          "pattern": {
                            "fillmode": "overlay",
                            "size": 10,
                            "solidity": 0.2
                          }
                        },
                        "type": "bar"
                      }
                    ],
                    "barpolar": [
                      {
                        "marker": {
                          "line": {
                            "color": "rgb(17,17,17)",
                            "width": 0.5
                          },
                          "pattern": {
                            "fillmode": "overlay",
                            "size": 10,
                            "solidity": 0.2
                          }
                        },
                        "type": "barpolar"
                      }
                    ],
                    "carpet": [
                      {
                        "aaxis": {
                          "endlinecolor": "#A2B1C6",
                          "gridcolor": "#506784",
                          "linecolor": "#506784",
                          "minorgridcolor": "#506784",
                          "startlinecolor": "#A2B1C6"
                        },
                        "baxis": {
                          "endlinecolor": "#A2B1C6",
                          "gridcolor": "#506784",
                          "linecolor": "#506784",
                          "minorgridcolor": "#506784",
                          "startlinecolor": "#A2B1C6"
                        },
                        "type": "carpet"
                      }
                    ],
                    "choropleth": [
                      {
                        "colorbar": {
                          "outlinewidth": 0,
                          "ticks": ""
                        },
                        "type": "choropleth"
                      }
                    ],
                    "contour": [
                      {
                        "colorbar": {
                          "outlinewidth": 0,
                          "ticks": ""
                        },
                        "colorscale": [
                          [
                            0,
                            "#0d0887"
                          ],
                          [
                            0.1111111111111111,
                            "#46039f"
                          ],
                          [
                            0.2222222222222222,
                            "#7201a8"
                          ],
                          [
                            0.3333333333333333,
                            "#9c179e"
                          ],
                          [
                            0.4444444444444444,
                            "#bd3786"
                          ],
                          [
                            0.5555555555555556,
                            "#d8576b"
                          ],
                          [
                            0.6666666666666666,
                            "#ed7953"
                          ],
                          [
                            0.7777777777777778,
                            "#fb9f3a"
                          ],
                          [
                            0.8888888888888888,
                            "#fdca26"
                          ],
                          [
                            1,
                            "#f0f921"
                          ]
                        ],
                        "type": "contour"
                      }
                    ],
                    "contourcarpet": [
                      {
                        "colorbar": {
                          "outlinewidth": 0,
                          "ticks": ""
                        },
                        "type": "contourcarpet"
                      }
                    ],
                    "heatmap": [
                      {
                        "colorbar": {
                          "outlinewidth": 0,
                          "ticks": ""
                        },
                        "colorscale": [
                          [
                            0,
                            "#0d0887"
                          ],
                          [
                            0.1111111111111111,
                            "#46039f"
                          ],
                          [
                            0.2222222222222222,
                            "#7201a8"
                          ],
                          [
                            0.3333333333333333,
                            "#9c179e"
                          ],
                          [
                            0.4444444444444444,
                            "#bd3786"
                          ],
                          [
                            0.5555555555555556,
                            "#d8576b"
                          ],
                          [
                            0.6666666666666666,
                            "#ed7953"
                          ],
                          [
                            0.7777777777777778,
                            "#fb9f3a"
                          ],
                          [
                            0.8888888888888888,
                            "#fdca26"
                          ],
                          [
                            1,
                            "#f0f921"
                          ]
                        ],
                        "type": "heatmap"
                      }
                    ],
                    "histogram": [
                      {
                        "marker": {
                          "pattern": {
                            "fillmode": "overlay",
                            "size": 10,
                            "solidity": 0.2
                          }
                        },
                        "type": "histogram"
                      }
                    ],
                    "histogram2d": [
                      {
                        "colorbar": {
                          "outlinewidth": 0,
                          "ticks": ""
                        },
                        "colorscale": [
                          [
                            0,
                            "#0d0887"
                          ],
                          [
                            0.1111111111111111,
                            "#46039f"
                          ],
                          [
                            0.2222222222222222,
                            "#7201a8"
                          ],
                          [
                            0.3333333333333333,
                            "#9c179e"
                          ],
                          [
                            0.4444444444444444,
                            "#bd3786"
                          ],
                          [
                            0.5555555555555556,
                            "#d8576b"
                          ],
                          [
                            0.6666666666666666,
                            "#ed7953"
                          ],
                          [
                            0.7777777777777778,
                            "#fb9f3a"
                          ],
                          [
                            0.8888888888888888,
                            "#fdca26"
                          ],
                          [
                            1,
                            "#f0f921"
                          ]
                        ],
                        "type": "histogram2d"
                      }
                    ],
                    "histogram2dcontour": [
                      {
                        "colorbar": {
                          "outlinewidth": 0,
                          "ticks": ""
                        },
                        "colorscale": [
                          [
                            0,
                            "#0d0887"
                          ],
                          [
                            0.1111111111111111,
                            "#46039f"
                          ],
                          [
                            0.2222222222222222,
                            "#7201a8"
                          ],
                          [
                            0.3333333333333333,
                            "#9c179e"
                          ],
                          [
                            0.4444444444444444,
                            "#bd3786"
                          ],
                          [
                            0.5555555555555556,
                            "#d8576b"
                          ],
                          [
                            0.6666666666666666,
                            "#ed7953"
                          ],
                          [
                            0.7777777777777778,
                            "#fb9f3a"
                          ],
                          [
                            0.8888888888888888,
                            "#fdca26"
                          ],
                          [
                            1,
                            "#f0f921"
                          ]
                        ],
                        "type": "histogram2dcontour"
                      }
                    ],
                    "mesh3d": [
                      {
                        "colorbar": {
                          "outlinewidth": 0,
                          "ticks": ""
                        },
                        "type": "mesh3d"
                      }
                    ],
                    "parcoords": [
                      {
                        "line": {
                          "colorbar": {
                            "outlinewidth": 0,
                            "ticks": ""
                          }
                        },
                        "type": "parcoords"
                      }
                    ],
                    "pie": [
                      {
                        "automargin": true,
                        "type": "pie"
                      }
                    ],
                    "scatter": [
                      {
                        "marker": {
                          "line": {
                            "color": "#283442"
                          }
                        },
                        "type": "scatter"
                      }
                    ],
                    "scatter3d": [
                      {
                        "line": {
                          "colorbar": {
                            "outlinewidth": 0,
                            "ticks": ""
                          }
                        },
                        "marker": {
                          "colorbar": {
                            "outlinewidth": 0,
                            "ticks": ""
                          }
                        },
                        "type": "scatter3d"
                      }
                    ],
                    "scattercarpet": [
                      {
                        "marker": {
                          "colorbar": {
                            "outlinewidth": 0,
                            "ticks": ""
                          }
                        },
                        "type": "scattercarpet"
                      }
                    ],
                    "scattergeo": [
                      {
                        "marker": {
                          "colorbar": {
                            "outlinewidth": 0,
                            "ticks": ""
                          }
                        },
                        "type": "scattergeo"
                      }
                    ],
                    "scattergl": [
                      {
                        "marker": {
                          "line": {
                            "color": "#283442"
                          }
                        },
                        "type": "scattergl"
                      }
                    ],
                    "scattermap": [
                      {
                        "marker": {
                          "colorbar": {
                            "outlinewidth": 0,
                            "ticks": ""
                          }
                        },
                        "type": "scattermap"
                      }
                    ],
                    "scattermapbox": [
                      {
                        "marker": {
                          "colorbar": {
                            "outlinewidth": 0,
                            "ticks": ""
                          }
                        },
                        "type": "scattermapbox"
                      }
                    ],
                    "scatterpolar": [
                      {
                        "marker": {
                          "colorbar": {
                            "outlinewidth": 0,
                            "ticks": ""
                          }
                        },
                        "type": "scatterpolar"
                      }
                    ],
                    "scatterpolargl": [
                      {
                        "marker": {
                          "colorbar": {
                            "outlinewidth": 0,
                            "ticks": ""
                          }
                        },
                        "type": "scatterpolargl"
                      }
                    ],
                    "scatterternary": [
                      {
                        "marker": {
                          "colorbar": {
                            "outlinewidth": 0,
                            "ticks": ""
                          }
                        },
                        "type": "scatterternary"
                      }
                    ],
                    "surface": [
                      {
                        "colorbar": {
                          "outlinewidth": 0,
                          "ticks": ""
                        },
                        "colorscale": [
                          [
                            0,
                            "#0d0887"
                          ],
                          [
                            0.1111111111111111,
                            "#46039f"
                          ],
                          [
                            0.2222222222222222,
                            "#7201a8"
                          ],
                          [
                            0.3333333333333333,
                            "#9c179e"
                          ],
                          [
                            0.4444444444444444,
                            "#bd3786"
                          ],
                          [
                            0.5555555555555556,
                            "#d8576b"
                          ],
                          [
                            0.6666666666666666,
                            "#ed7953"
                          ],
                          [
                            0.7777777777777778,
                            "#fb9f3a"
                          ],
                          [
                            0.8888888888888888,
                            "#fdca26"
                          ],
                          [
                            1,
                            "#f0f921"
                          ]
                        ],
                        "type": "surface"
                      }
                    ],
                    "table": [
                      {
                        "cells": {
                          "fill": {
                            "color": "#506784"
                          },
                          "line": {
                            "color": "rgb(17,17,17)"
                          }
                        },
                        "header": {
                          "fill": {
                            "color": "#2a3f5f"
                          },
                          "line": {
                            "color": "rgb(17,17,17)"
                          }
                        },
                        "type": "table"
                      }
                    ]
                  },
                  "layout": {
                    "annotationdefaults": {
                      "arrowcolor": "#f2f5fa",
                      "arrowhead": 0,
                      "arrowwidth": 1
                    },
                    "autotypenumbers": "strict",
                    "coloraxis": {
                      "colorbar": {
                        "outlinewidth": 0,
                        "ticks": ""
                      }
                    },
                    "colorscale": {
                      "diverging": [
                        [
                          0,
                          "#8e0152"
                        ],
                        [
                          0.1,
                          "#c51b7d"
                        ],
                        [
                          0.2,
                          "#de77ae"
                        ],
                        [
                          0.3,
                          "#f1b6da"
                        ],
                        [
                          0.4,
                          "#fde0ef"
                        ],
                        [
                          0.5,
                          "#f7f7f7"
                        ],
                        [
                          0.6,
                          "#e6f5d0"
                        ],
                        [
                          0.7,
                          "#b8e186"
                        ],
                        [
                          0.8,
                          "#7fbc41"
                        ],
                        [
                          0.9,
                          "#4d9221"
                        ],
                        [
                          1,
                          "#276419"
                        ]
                      ],
                      "sequential": [
                        [
                          0,
                          "#0d0887"
                        ],
                        [
                          0.1111111111111111,
                          "#46039f"
                        ],
                        [
                          0.2222222222222222,
                          "#7201a8"
                        ],
                        [
                          0.3333333333333333,
                          "#9c179e"
                        ],
                        [
                          0.4444444444444444,
                          "#bd3786"
                        ],
                        [
                          0.5555555555555556,
                          "#d8576b"
                        ],
                        [
                          0.6666666666666666,
                          "#ed7953"
                        ],
                        [
                          0.7777777777777778,
                          "#fb9f3a"
                        ],
                        [
                          0.8888888888888888,
                          "#fdca26"
                        ],
                        [
                          1,
                          "#f0f921"
                        ]
                      ],
                      "sequentialminus": [
                        [
                          0,
                          "#0d0887"
                        ],
                        [
                          0.1111111111111111,
                          "#46039f"
                        ],
                        [
                          0.2222222222222222,
                          "#7201a8"
                        ],
                        [
                          0.3333333333333333,
                          "#9c179e"
                        ],
                        [
                          0.4444444444444444,
                          "#bd3786"
                        ],
                        [
                          0.5555555555555556,
                          "#d8576b"
                        ],
                        [
                          0.6666666666666666,
                          "#ed7953"
                        ],
                        [
                          0.7777777777777778,
                          "#fb9f3a"
                        ],
                        [
                          0.8888888888888888,
                          "#fdca26"
                        ],
                        [
                          1,
                          "#f0f921"
                        ]
                      ]
                    },
                    "colorway": [
                      "#636efa",
                      "#EF553B",
                      "#00cc96",
                      "#ab63fa",
                      "#FFA15A",
                      "#19d3f3",
                      "#FF6692",
                      "#B6E880",
                      "#FF97FF",
                      "#FECB52"
                    ],
                    "font": {
                      "color": "#f2f5fa"
                    },
                    "geo": {
                      "bgcolor": "rgb(17,17,17)",
                      "lakecolor": "rgb(17,17,17)",
                      "landcolor": "rgb(17,17,17)",
                      "showlakes": true,
                      "showland": true,
                      "subunitcolor": "#506784"
                    },
                    "hoverlabel": {
                      "align": "left"
                    },
                    "hovermode": "closest",
                    "mapbox": {
                      "style": "dark"
                    },
                    "paper_bgcolor": "rgb(17,17,17)",
                    "plot_bgcolor": "rgb(17,17,17)",
                    "polar": {
                      "angularaxis": {
                        "gridcolor": "#506784",
                        "linecolor": "#506784",
                        "ticks": ""
                      },
                      "bgcolor": "rgb(17,17,17)",
                      "radialaxis": {
                        "gridcolor": "#506784",
                        "linecolor": "#506784",
                        "ticks": ""
                      }
                    },
                    "scene": {
                      "xaxis": {
                        "backgroundcolor": "rgb(17,17,17)",
                        "gridcolor": "#506784",
                        "gridwidth": 2,
                        "linecolor": "#506784",
                        "showbackground": true,
                        "ticks": "",
                        "zerolinecolor": "#C8D4E3"
                      },
                      "yaxis": {
                        "backgroundcolor": "rgb(17,17,17)",
                        "gridcolor": "#506784",
                        "gridwidth": 2,
                        "linecolor": "#506784",
                        "showbackground": true,
                        "ticks": "",
                        "zerolinecolor": "#C8D4E3"
                      },
                      "zaxis": {
                        "backgroundcolor": "rgb(17,17,17)",
                        "gridcolor": "#506784",
                        "gridwidth": 2,
                        "linecolor": "#506784",
                        "showbackground": true,
                        "ticks": "",
                        "zerolinecolor": "#C8D4E3"
                      }
                    },
                    "shapedefaults": {
                      "line": {
                        "color": "#f2f5fa"
                      }
                    },
                    "sliderdefaults": {
                      "bgcolor": "#C8D4E3",
                      "bordercolor": "rgb(17,17,17)",
                      "borderwidth": 1,
                      "tickwidth": 0
                    },
                    "ternary": {
                      "aaxis": {
                        "gridcolor": "#506784",
                        "linecolor": "#506784",
                        "ticks": ""
                      },
                      "baxis": {
                        "gridcolor": "#506784",
                        "linecolor": "#506784",
                        "ticks": ""
                      },
                      "bgcolor": "rgb(17,17,17)",
                      "caxis": {
                        "gridcolor": "#506784",
                        "linecolor": "#506784",
                        "ticks": ""
                      }
                    },
                    "title": {
                      "x": 0.05
                    },
                    "updatemenudefaults": {
                      "bgcolor": "#506784",
                      "borderwidth": 0
                    },
                    "xaxis": {
                      "automargin": true,
                      "gridcolor": "#283442",
                      "linecolor": "#506784",
                      "ticks": "",
                      "title": {
                        "standoff": 15
                      },
                      "zerolinecolor": "#283442",
                      "zerolinewidth": 2
                    },
                    "yaxis": {
                      "automargin": true,
                      "gridcolor": "#283442",
                      "linecolor": "#506784",
                      "ticks": "",
                      "title": {
                        "standoff": 15
                      },
                      "zerolinecolor": "#283442",
                      "zerolinewidth": 2
                    }
                  }
                },
                "title": {
                  "text": "Correlation Matrix of Simple Numerical Features",
                  "x": 0.5
                },
                "xaxis": {
                  "anchor": "y",
                  "domain": [
                    0,
                    1
                  ]
                },
                "yaxis": {
                  "anchor": "x",
                  "autorange": "reversed",
                  "domain": [
                    0,
                    1
                  ]
                }
              }
            }
          },
          "metadata": {},
          "output_type": "display_data"
        },
        {
          "name": "stdout",
          "output_type": "stream",
          "text": [
            "\n",
            "**Interpretation**: The heatmap shows relationships between features. For example, 'tempo' and 'beat_tempo' are perfectly correlated (1.0), as expected. High correlations (e.g., between spectral features) indicate some redundancy, which tree-based models can handle well.\n"
          ]
        }
      ],
      "source": [
        "# Visualization 1\n",
        "\n",
        "# Create a detailed inventory of all 348 features\n",
        "print(f\"{'='*80}\")\n",
        "print(f\"FEATURE INVENTORY (348 TOTAL FEATURES)\")\n",
        "print(f\"{'='*80}\")\n",
        "\n",
        "# 1. Simple Numerical Features (14)\n",
        "print(f\"\\n{'─'*80}\\n1. SIMPLE NUMERICAL FEATURES ({len(numerical_feature_cols)} features)\\n{'─'*80}\")\n",
        "feature_categories = {\n",
        "    'Rhythm': ['duration', 'tempo', 'beat_count', 'beat_tempo'],\n",
        "    'Timbre/Brightness': ['spec_centroid_mean', 'spec_centroid_std'],\n",
        "    'Texture': ['spec_bandwidth_mean', 'spec_bandwidth_std'],\n",
        "    'Frequency Shape': ['spec_rolloff_mean', 'spec_rolloff_std'],\n",
        "    'Percussiveness': ['zero_crossing_mean', 'zero_crossing_std'],\n",
        "    'Loudness': ['rms_mean', 'rms_std']\n",
        "}\n",
        "for category, features in feature_categories.items():\n",
        "    print(f\"  • {category}: {', '.join(features)}\")\n",
        "\n",
        "# 2. Array-Based Features (334)\n",
        "print(f\"\\n{'─'*80}\\n2. ARRAY-BASED FEATURES (334 features)\\n{'─'*80}\")\n",
        "total_array_feats = sum(array_feature_cols.values())\n",
        "print(f\"These are multi-dimensional vectors capturing complex audio patterns:\\n\")\n",
        "print(f\"  • Mel-Frequency Cepstral Coefficients (MFCCs): {array_feature_cols['mfcc_mean'] + array_feature_cols['mfcc_std']} features\")\n",
        "print(f\"    (Captures timbre and vocal characteristics)\\n\")\n",
        "print(f\"  • Chroma Features: {array_feature_cols['chroma_mean'] + array_feature_cols['chroma_std']} features\")\n",
        "print(f\"    (Captures harmonic/melodic content - which notes are played)\\n\")\n",
        "print(f\"  • Mel Spectrogram: {array_feature_cols['mel_spec_mean'] + array_feature_cols['mel_spec_std']} features\")\n",
        "print(f\"    (Energy across 128 frequency bins on a human-perceived scale)\\n\")\n",
        "print(f\"  • Spectral Contrast: {array_feature_cols['spec_contrast_mean'] + array_feature_cols['spec_contrast_std']} features\")\n",
        "print(f\"    (Difference between peaks and valleys in the sound spectrum)\\n\")\n",
        "\n",
        "print(f\"✓ Feature inventory complete.\")\n",
        "\n",
        "\n",
        "# Visualization 2: Feature Correlation Matrix\n",
        "\n",
        "# --- Feature Analysis 1: Correlation Heatmap ---\n",
        "print(f\"\\n{'='*80}\")\n",
        "print(\"FEATURE ANALYSIS 1: CORRELATION OF NUMERICAL FEATURES\")\n",
        "print(f\"{'='*80}\")\n",
        "\n",
        "# Calculate the correlation matrix for the simple numerical features\n",
        "corr_matrix = pd.DataFrame(X_train_scaled, columns=feature_names).loc[:, numerical_feature_cols].corr()\n",
        "\n",
        "# Create the heatmap\n",
        "fig_corr = px.imshow(\n",
        "    corr_matrix,\n",
        "    text_auto=\".2f\",\n",
        "    aspect=\"auto\",\n",
        "    title=\"Correlation Matrix of Simple Numerical Features\",\n",
        "    labels=dict(color=\"Correlation\"),\n",
        "    template='plotly_dark'\n",
        ")\n",
        "fig_corr.update_layout(title_x=0.5)\n",
        "fig_corr.show()\n",
        "\n",
        "print(\"\\n**Interpretation**: The heatmap shows relationships between features. For example, 'tempo' and 'beat_tempo' are perfectly correlated (1.0), as expected. High correlations (e.g., between spectral features) indicate some redundancy, which tree-based models can handle well.\")"
      ]
    },
    {
      "cell_type": "markdown",
      "metadata": {
        "id": "DrFymwPnSc3c"
      },
      "source": [
        "The librosa library gave me these audio features out of the box, so I wanted to know if one could really guess what genre a song is just by looking at its musical features. Basically, I wanted to know if these features were discriminative. For example, if Pop, Rock, and Jazz all have the same average tempo, then tempo cannot discriminate between the genres.\n",
        "\n",
        "How I achieved that was by making a box plot of the features. The code cell and the result is shown below"
      ]
    },
    {
      "cell_type": "code",
      "execution_count": 19,
      "metadata": {
        "id": "Q2RdQC-hTuAu"
      },
      "outputs": [
        {
          "name": "stdout",
          "output_type": "stream",
          "text": [
            "\n",
            "======================================================================\n",
            "VISUALIZATION 3: FEATURE DISTRIBUTIONS BY GENRE\n",
            "======================================================================\n",
            "\n",
            "Using existing df_filtered from global scope\n"
          ]
        },
        {
          "data": {
            "application/vnd.plotly.v1+json": {
              "config": {
                "plotlyServerURL": "https://plot.ly"
              },
              "data": [
                {
                  "name": "Unknown",
                  "showlegend": true,
                  "type": "box",
                  "xaxis": "x",
                  "y": {
                    "bdata": "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",
                    "dtype": "f8"
                  },
                  "yaxis": "y"
                },
                {
                  "name": "worship",
                  "showlegend": true,
                  "type": "box",
                  "xaxis": "x",
                  "y": {
                    "bdata": "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",
                    "dtype": "f8"
                  },
                  "yaxis": "y"
                },
                {
                  "name": "afrobeats",
                  "showlegend": true,
                  "type": "box",
                  "xaxis": "x",
                  "y": {
                    "bdata": "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",
                    "dtype": "f8"
                  },
                  "yaxis": "y"
                },
                {
                  "name": "lo-fi",
                  "showlegend": true,
                  "type": "box",
                  "xaxis": "x",
                  "y": {
                    "bdata": "AAAAAMDxYUAAAAAAANdZQAAAAADA8WFAeHh4ePj/UkCc3vSmNxZcQAAAAAAAw15A2FBeQ/n/YECc3vSmNxZcQMQdcUfcC05AAAAAAGAmYEAAAAAAAHVSQNhQXkP5/2BAAAAAAMDxYUAAAAAAYCZgQAAAAACg6lpAtStRuxKDT0AAAAAAYCZgQGG5pxGWRlZAAAAAAADDXkCc3vSmNxZcQAAAAACg6lpAnN70pjcWXECxEzuxk9hYQAAAAABgJmBAeHh4ePj/UkAAAAAAgIhlQAAAAAAA7VdAAAAAAGAmYEDYUF5D+f9gQAAAAACg6lpAAAAAAKDqWkDYUF5D+f9gQAAAAAAA7VdAAAAAAKDqWkC21lprrdZUQAAAAAD4L1RA1Hc26jt9S0Aq8lk3mHVRQAAAAACg6kpAAAAAAMDxYUAAAAAA+C9UQAAAAAD4L1RAYbmnEZZGVkAAAAAAwPFhQNhQXkP5/2BAAAAAAKDqWkAAAAAAAMNeQAAAAAAA11lAtStRuxKDT0AAAAAAwPFhQCryWTeYdVFAAAAAAPgvVEAAAAAAYCZgQAAAAADA8WFALrroogtdXUAAAAAAAMNeQAAAAABgJlBA2FBeQ/n/YEAAAAAAwPFhQC666KILXV1AAAAAAGAmYEAuuuiiC11dQHh4eHj4/2JAxB1xR9wLTkAq8lk3mHVRQHh4eHj4/2JAsRM7sZPYWECc3vSmNxZcQHTRRRddk1NAAAAAAADtV0AAAAAAAMNOQCryWTeYdVFAAAAAAMDxYUAAAAAAQBJXQAAAAAAAdVJAAAAAAKDqWkB4eHh4+P9iQJze9KY3FlxAAAAAAADDTkAAAAAAANdZQAAAAABgJmBAAAAAAGAmYEAAAAAAwPFhQLETO7GT2FhAdmIndmKQUEDYUF5D+f9gQNhQXkP5/2BAAAAAAADDTkDYUF5D+f9QQLETO7GT2FhAAAAAAADXWUAq8lk3mHVRQGG5pxGWRlZAAAAAAMDxYUCxEzuxk9hYQAAAAAAAXkpAAAAAAICIVUAAAAAAwPFhQAAAAAAAw15AsRM7sZPYaEAAAAAAANdZQHh4eHj4/2JAAAAAAADXWUCc3vSmNxZcQAAAAAAAw15AAAAAAMDxUUAvuuiiC11NQNhQXkP5/2BAAAAAAKDqWkCc3vSmNxZcQLETO7GT2FhAAAAAAICIZUA=",
                    "dtype": "f8"
                  },
                  "yaxis": "y"
                },
                {
                  "name": "african gospel",
                  "showlegend": true,
                  "type": "box",
                  "xaxis": "x",
                  "y": {
                    "bdata": "LrroogtdXUDYUF5D+f9gQAAAAABgJmBAAAAAAADDXkAAAAAAoOpaQNhQXkP5/2BALrroogtdXUCc3vSmNxZcQAAAAAAAw15A2FBeQ/n/YEAAAAAAAMNeQAAAAAAA7VdAAAAAAKDqWkAAAAAAwPFhQJze9KY3FlxAAAAAAADXWUB4eHh4+P9iQAAAAAAA7VdAAAAAAADDXkDYUF5D+f9QQC666KILXV1AAAAAAKDqWkAAAAAAoOpaQHh4eHj4/2JAAAAAAPgvVEAAAAAAQBJXQJze9KY3FlxAnN70pjcWXEAAAAAAAO1XQC666KILXV1AsRM7sZPYWEAAAAAAAMNeQAAAAABgJmBAAAAAAKDqWkAAAAAA+C9kQC666KILXV1AnN70pjcWXECc3vSmNxZcQAAAAABgJmBAAAAAAMDxYUAAAAAAAO1XQHh4eHj4/2JAttZaa63WVEAAAAAAAMNeQAAAAAAA7VdAAAAAAGAmYEB4eHh4+P9iQLbWWmut1lRAAAAAAADtV0CxEzuxk9hYQAAAAAAAw15AAAAAAGAmYEAAAAAAAMNeQLETO7GT2FhAAAAAAADtV0AAAAAAwPFhQAAAAAD4L2RAAAAAAADDXkAAAAAAANdZQAAAAACg6lpAAAAAAEASZ0AAAAAAANdZQAAAAAD4L2RAnN70pjcWXEAAAAAAAMNeQNhQXkP5/2BAAAAAAEASV0A=",
                    "dtype": "f8"
                  },
                  "yaxis": "y"
                },
                {
                  "name": "uk drill",
                  "showlegend": true,
                  "type": "box",
                  "xaxis": "x",
                  "y": {
                    "bdata": "AAAAAMDxYUCxEzuxk9hYQAAAAADA8WFAsRM7sZPYWEAAAAAAwPFhQAAAAADA8VFAAAAAAEASV0AAAAAAwPFhQAAAAAAAw15AAAAAAMDxYUDYUF5D+f9gQCryWTeYdVFAKvJZN5h1UUAAAAAAAHVSQCryWTeYdVFA2FBeQ/n/YEAAAAAAwPFhQAAAAADA8WFAAAAAAMDxYUAAAAAAQBJXQAAAAADA8WFAdmIndmKQUEAq8lk3mHVRQAAAAABgJmBAAAAAAMDxYUAAAAAAwPFRQCryWTeYdVFALrroogtdXUAAAAAAwPFRQAAAAADA8VFA2FBeQ/n/YEAAAAAAwPFhQAAAAAAAdVJAAAAAAMDxYUAAAAAAwPFRQAAAAAAA11lAKvJZN5h1UUAAAAAAQBJXQCryWTeYdVFAAAAAAMDxUUAAAAAAAO1XQAAAAAAA7VdAAAAAAMDxUUAq8lk3mHVRQAAAAABAEldAAAAAAMDxYUAq8lk3mHVRQAAAAADA8WFAAAAAAMDxUUAAAAAAAO1XQNhQXkP5/2BA2FBeQ/n/YEAAAAAAwPFhQAAAAADA8VFAnN70pjcWXEAAAAAAwPFhQA==",
                    "dtype": "f8"
                  },
                  "yaxis": "y"
                },
                {
                  "name": "gospel",
                  "showlegend": true,
                  "type": "box",
                  "xaxis": "x",
                  "y": {
                    "bdata": "nN70pjcWXEAuuuiiC11dQAAAAADA8WFAeHh4ePj/YkB00UUXXZNTQNhQXkP5/2BAAAAAAGAmYEAAAAAAwPFRQAAAAAD4L2RAAAAAAKDqWkAAAAAAYCZgQC666KILXV1AAAAAAAB1UkC21lprrdZUQGG5pxGWRlZALrroogtdXUAAAAAAAMNeQAAAAADA8WFAKvJZN5h1UUB4eHh4+P9iQAAAAAD4L2RAAAAAAADtV0AAAAAAANdZQLETO7GT2FhAAAAAAGAmYEAAAAAA+C9kQHh4eHj4/2JAAAAAAPgvZEAAAAAA+C9kQNhQXkP5/2BAAAAAAKDqWkAAAAAAAMNeQAAAAABgJmBAsRM7sZPYWEDYUF5D+f9gQAAAAAAAw15AAAAAAKDqWkAAAAAAoOpaQAAAAAAAw15AAAAAAADDXkAAAAAA+C9kQC666KILXV1AAAAAAADXWUAAAAAAAMNeQHh4eHj4/2JAAAAAAADtV0Cc3vSmNxZcQC666KILXV1AAAAAAEASV0Cc3vSmNxZcQAAAAACg6lpALrroogtdXUAAAAAA+C9kQAAAAAAA7VdAnN70pjcWXEAAAAAAAMNeQA==",
                    "dtype": "f8"
                  },
                  "yaxis": "y"
                },
                {
                  "name": "christian",
                  "showlegend": true,
                  "type": "box",
                  "xaxis": "x",
                  "y": {
                    "bdata": "AAAAAGAmYEB4eHh4+P9iQLETO7GT2FhAYbmnEZZGVkAAAAAAAO1XQLETO7GT2FhAYbmnEZZGVkB4eHh4+P9iQC666KILXV1ALrroogtdXUAAAAAAwPFhQHh4eHj4/2JAAAAAAICIVUAAAAAAgIhlQAAAAACg6lpAAAAAAICIVUB4eHh4+P9iQNhQXkP5/2BAeHh4ePj/YkBhuacRlkZWQAAAAAAA11lA2FBeQ/n/YEAAAAAAAHVSQC+66KILXU1AAAAAAPgvVEAAAAAAwPFhQAAAAADA8WFAeHh4ePj/YkBhuacRlkZWQAAAAAAAdVJAAAAAAPgvVEB00UUXXZNTQAAAAAAAw15AAAAAAPgvZEAAAAAAwPFhQJze9KY3FlxAsRM7sZPYWEAAAAAAgIhlQAAAAABAEmdAAAAAAGAmYEAAAAAAAO1XQA==",
                    "dtype": "f8"
                  },
                  "yaxis": "y"
                },
                {
                  "name": "soft pop",
                  "showlegend": true,
                  "type": "box",
                  "xaxis": "x",
                  "y": {
                    "bdata": "AAAAAICIZUAAAAAAwPFhQAAAAAAA11lAxB1xR9wLTkCxEzuxk9hYQAAAAACAiFVAnN70pjcWXEAAAAAA+C9kQAAAAAAAw15AAAAAAADtV0AAAAAAgIhVQNhQXkP5/2BAAAAAAGAmYECc3vSmNxZcQJze9KY3FlxAnN70pjcWXEAAAAAAQBJXQC666KILXV1ALrroogtdXUAAAAAAwPFhQAAAAACg6lpAAAAAAADDXkAAAAAAYCZgQAAAAAAAw15AttZaa63WVEAAAAAAAMNeQAAAAAAAw15AAAAAAADXWUAAAAAAAO1XQC666KILXV1AnN70pjcWXEAAAAAAoOpaQAAAAACg6lpAAAAAAADXWUA=",
                    "dtype": "f8"
                  },
                  "yaxis": "y"
                },
                {
                  "name": "new age",
                  "showlegend": true,
                  "type": "box",
                  "xaxis": "x",
                  "y": {
                    "bdata": "dNFFF12TU0AAAAAA+C9kQAAAAABAEldAAAAAAPgvZEAAAAAAYCZgQGG5pxGWRlZAAAAAAADXWUAAAAAAwPFhQHh4eHj4/1JALrroogtdXUDYUF5D+f9gQAAAAABgJmBAYbmnEZZGVkAAAAAAwPFhQAAAAAD4L2RAAAAAAEASV0AAAAAA+C9kQC666KILXV1ALrroogtdXUAAAAAAAO1XQC666KILXV1AAAAAAADtV0AAAAAA+C9kQJze9KY3FlxAAAAAAPgvZEAAAAAAAO1XQGG5pxGWRlZAAAAAAKDqWkAAAAAAQBJnQHh4eHj4/2JAeHh4ePj/YkAAAAAAAMNeQAAAAAAA7VdA",
                    "dtype": "f8"
                  },
                  "yaxis": "y"
                },
                {
                  "name": "Unknown",
                  "showlegend": false,
                  "type": "box",
                  "xaxis": "x2",
                  "y": {
                    "bdata": "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",
                    "dtype": "f8"
                  },
                  "yaxis": "y2"
                },
                {
                  "name": "worship",
                  "showlegend": false,
                  "type": "box",
                  "xaxis": "x2",
                  "y": {
                    "bdata": "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",
                    "dtype": "f8"
                  },
                  "yaxis": "y2"
                },
                {
                  "name": "afrobeats",
                  "showlegend": false,
                  "type": "box",
                  "xaxis": "x2",
                  "y": {
                    "bdata": "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",
                    "dtype": "f8"
                  },
                  "yaxis": "y2"
                },
                {
                  "name": "lo-fi",
                  "showlegend": false,
                  "type": "box",
                  "xaxis": "x2",
                  "y": {
                    "bdata": "/v//P2QfxD8AAABAAgbHP//////rF9M/AAAAwPGozj////+/im/TP/7//39cksI//f//P+w1yj8AAABgmE3MP/f//1+hSaw//f//X7sRyz8AAACgWdrJP/7////LWMs/////HzhIxD/+//+/PW/PP////7+LC8g/////f/nVxj/+//8/0AfMP/z//5+wy7c/////XzBmwT////+f2PrEPwAAAECMxsU//v///8eJxD/+//8/JVfJP////5+JO8w//f//X/yxyD/+//+fLzLPP/3///9prco/////Xzzsxj/8//+//UW/P////7+LscE/AAAAIBAIwj/9//+fyyHOPwAAAMCyVME/AAAAwKJPyD/+////hqzFP////99QGcY//v//n/JVwT////9/0q3FP/7///9PK7g/AAAAoKw1wz/9////4XnJPwAAAEDFtMk//f///9nnyT8AAABAAqvMP////x91TsU/////v5xw0D////+fAoHSP/7//1/iv8I//v//H0yKxT8AAADgQjHQP////z/jVLM/////X8LCyj8AAABAnrLIP/7//19gN80//P///05Htj////8/aw7KP/z//58+d7k/AAAAYJ7eyT//////2IXKP/3////5fbs/AAAAAP6wxT/9//9fxXXJPwAAAKDnO70/AAAAAEGFyj8AAACAYanIP////3/7qsc/AAAAoO1txj/9//9fMT3AP/7///98OMM/+///v27DvD/+//+fNwzAPwAAAGBdx8Y/////n8gLwT8AAABAiiHOP/7//z8heco//v//nzePzz////8/qOXHP/3///9jkMI//v///8nIxz/9////rH/HP/3//1908cY//f//Xwr9vD/9//9/hIXPPwAAAIAmY8M/AAAAQMOhwT////8/7QPLP////79S68M/+///XzoYvD/9//8/vaTCP/////8fO8Y/+f//X4JUvT8AAABgS1THP/7///9P9so//f//Pyvmyj/6//8f3C64PwAAAIBZbcc//v///9WRwT8AAAAADyjSP////9+cG9U//v//n/yIwj8AAAAglEXFP/////+fz8c/////H90FwT/6//+ffsi5P/////9a4cQ//v//P5GAxj8AAADAX6nRP/7//78ArMk//////3RVyz/9//+/z1jAP/7//9/wYMk//f//P3QbyT8=",
                    "dtype": "f8"
                  },
                  "yaxis": "y2"
                },
                {
                  "name": "african gospel",
                  "showlegend": false,
                  "type": "box",
                  "xaxis": "x2",
                  "y": {
                    "bdata": "AAAAIPyW0z8AAADA5a7JP////5/OsNA//v///9MPyz8AAABgZWnAP/////8zAL0/AAAAYFHI0T8AAADAHmTXPwAAAGAefcM/AAAAYCJA0D8AAABADvrPP////1/tBs4/AAAAwCV+0z/+////gErJPwAAAMD0SdU/AAAA4AKR0j8AAADAwT3XP//////Sm9A/AAAAQCBE0D8AAACgY2DPPwAAAOBwvtI/////PzHy0z////8f59vYP////z89MtA/AAAAoJdG0j//////ahTUPwAAAMBtxdA//v//34BKwT////+fmVjPP////5+LbtA/////n4PhyT8AAACgm7vVPwAAAGBZu9A//////5mz0D////8/e6/PPwAAAOAGwNQ/////v1Z6wT////9/EzXIPwAAAGAHF9E/AAAAwGPO1z/+//+/fKLKP////79ic8E/////X7jtzj/9//8f8CTCP/7//59uL8Q/AAAAYBRN0j////+/BRXSP////5+CS9I//////5pr0D////9fguXSP////5+6GNE/////v0dr0T8AAAAANrbRPwAAACBP+9A/AAAAQJoB0T8AAADAY87XP////3/BO9g/AAAAYEaD0T8AAAAAejbSP////1/KHcs/AAAAwDS60D////+/ZNXPP/7//59e4MI//v///73Rzj8AAABAm3zSP////58Z1co/////n5PS1j8=",
                    "dtype": "f8"
                  },
                  "yaxis": "y2"
                },
                {
                  "name": "uk drill",
                  "showlegend": false,
                  "type": "box",
                  "xaxis": "x2",
                  "y": {
                    "bdata": "/f///9tEzT8AAADgONTCPwAAACCRy9Q//////16b0D8AAAAAcLjLPwAAAKAsbtA/AAAAoDJhyz8AAADA6ZHXPwAAAIDvyNE/AAAAQNJH1D8AAACgqp/OP/7//5/2yMY/////H5wU0j8AAAAAQeXLP////z/pBsg/AAAAwGsl1D/9////HNLHPwAAAKBwf9A/AAAAYFBm0z//////GC3SP////z/iLdE/AAAAwPb70T/9//8/MWbOPwAAAKDZ2dM/AAAAoLn81T/+//8/0n/HPwAAAIBWMNQ/AAAAYE4A1T/+////dl3PPwAAAAA/XsY/////P7aM0z8AAAAALy7QPwAAAIAqStA/////H7FW0T////9/ATrGPwAAAKCyhNA/AAAAIE4K0D8AAADAZ5PRP/3///9r08g/AAAAAMK10T/9//8/OUTEPwAAAAB4FMk/AAAAoBl40T////+/0kTMP////5+Fas4//////59hzD////+/FabKP////79N4tY/AAAAwAHh0T/+//8/DY3HP////59aJM8/////nwslzj8AAADAPrfOP/////+UA9I/AAAAAAwo0T8AAACgl7bUPw==",
                    "dtype": "f8"
                  },
                  "yaxis": "y2"
                },
                {
                  "name": "gospel",
                  "showlegend": false,
                  "type": "box",
                  "xaxis": "x2",
                  "y": {
                    "bdata": "////vxLZ0D////9/SO/UPwAAAGAHvNA/AAAAoFe/0T/5//+fUWC4P/3//5/V78Y/AAAAoLmX0T//////6XLQP////z+nV9M/AAAAwKBZ0z//////F2/XPwAAAEBdXM0/AAAAYKRryj////+fyqPYPwAAACBSFNY//v//30O+wz/////fJW/BPwAAACBKktA//////6Gk0T////9fK2HXP////1/8C9A//v//P0gzxD8AAAAAygLRPwAAAKBd884//f//vxgLwT////9fsP3DP/3//z+zw8Y//////ycgyz/+//9fWLjEP/7//z8b18k/////nwyL0j/+//+fN4DPP//////oONA/////Pyy+yj/+//8/E+TOP////z86d8U/AAAAQNPP0z8AAADAKyDUPwAAAEAdjNA/////v0Iezz//////pbjWPwAAACC5WdI/AAAAAMdR0z8AAABglrHPPwAAAABD1Mc/////f80o0D////+/247RPwAAAEBN+tE/AAAAIDei0D8AAADg8oLXP/7//z/kx80/AAAAoCsT0D8AAADAsLfTP/////8nDdI/////3+RLxT////8/sVTQPw==",
                    "dtype": "f8"
                  },
                  "yaxis": "y2"
                },
                {
                  "name": "christian",
                  "showlegend": false,
                  "type": "box",
                  "xaxis": "x2",
                  "y": {
                    "bdata": "/////+S9xz8AAABAlkDVP/3//189/s8/////P+sz0j////9/tYjTPwAAAOD0LdI/AAAAYNAH1D8AAAAAAZ3VPwAAAEAR5NE/////P61Y0j////+/FlzXPwAAAACIW9M/AAAAQEml0D//////8LbPPwAAAMCpQ9A//////98L0D8AAAAAtvHRPwAAAAD1idM/AAAAwD2l0D////9fLRzUPwAAAECG4NI//v//v/LXyD8AAADg/T/TPwAAAACM284/AAAAQF0t0z////8/OynQP////9/gm9Q/////n4t8yj8AAABgC1bTP////9+LjNQ/AAAAADAy0D////8/r4DTP////7/OyNM//f//P62dyT8AAACgnazYP////z+w1tQ/AAAAwOMy0T////+/mx7RP////7/JMtE//f//f8cVxD/+//8/I+zPPw==",
                    "dtype": "f8"
                  },
                  "yaxis": "y2"
                },
                {
                  "name": "soft pop",
                  "showlegend": false,
                  "type": "box",
                  "xaxis": "x2",
                  "y": {
                    "bdata": "AAAAQP4P0T////9f8gjVPwAAAMCAyNE//v//f5UowD8AAACgZNbWPwAAAEAcVtQ/////f4Mz0z8AAAAAenDFP/7//z+nOM0/////f4Vy0D8AAAAAALDVPwAAAAA3S9I/AAAAoJ3h0z8AAADAPi3QP////7+ch9E/AAAAABC3uz////9fLmLWP////7/NBdM/////PzkB0T/+//8/WGbPP////7/TMNQ//f///+dbzj8AAACgneHTP/7//z+nOM0/AAAAAH5Myj8AAABAGqXKPwAAAEASONA/AAAAQH6Kyj8AAACgH9vSP////78J+c4/////X4MM2D////9fvP7TP////99attA/AAAAALZg1j8=",
                    "dtype": "f8"
                  },
                  "yaxis": "y2"
                },
                {
                  "name": "new age",
                  "showlegend": false,
                  "type": "box",
                  "xaxis": "x2",
                  "y": {
                    "bdata": "AAAAAPyfyT/9//9f9ti/P/7//z+VT8c//v//vzG2yz8AAABAU1zJPwAAAECcUcE/////v9a+wD////+/TnvLPwAAAGBHUMc//v//P2iEwj/+//+ftb60P/7//3+Ztsc/AAAAALXqxD/+//+fcMPAPwAAACBRGMc/////X67szT/9//9fv7nFP/7//1+Xi8E/AAAAoKT+xz//////p7bFP/7//z9ohMI///////RyyT8AAACgZ7vJP/7//39iXMk//////9osvD//////la/LP/3//99d/8U/+v//n6/Cuj//////XgbEP////7+LcMU/////v1rrxT////+/RiPIP////z/rtck/",
                    "dtype": "f8"
                  },
                  "yaxis": "y2"
                },
                {
                  "name": "Unknown",
                  "showlegend": false,
                  "type": "box",
                  "xaxis": "x3",
                  "y": {
                    "bdata": "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",
                    "dtype": "f8"
                  },
                  "yaxis": "y3"
                },
                {
                  "name": "worship",
                  "showlegend": false,
                  "type": "box",
                  "xaxis": "x3",
                  "y": {
                    "bdata": "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",
                    "dtype": "f8"
                  },
                  "yaxis": "y3"
                },
                {
                  "name": "afrobeats",
                  "showlegend": false,
                  "type": "box",
                  "xaxis": "x3",
                  "y": {
                    "bdata": "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",
                    "dtype": "f8"
                  },
                  "yaxis": "y3"
                },
                {
                  "name": "lo-fi",
                  "showlegend": false,
                  "type": "box",
                  "xaxis": "x3",
                  "y": {
                    "bdata": "DiBllbl2kUAAgCQBEsaCQPMhWDI1QohAYE5diQuEh0AHA9AWZyiOQICo/KJ9bIVAwOIoiClZiUAkAzG5YYiKQAwMvrqM8JVAC01L3CEAhUCA88tPLneMQHjMV15zHZFA8/lb7ZYMjEC7CSlI49eFQMeNjcD9a4dA4CiKySjvh0AKMyuEJSaFQGNd7qreW4ZAwTXTyf6ZkkDtOVUgMFCDQN0l4x4pHJFAkPcYhJIPdkCGCmVdlvODQErFMecZ7pBAhJsi93rDiEBgB75LyTqLQJdl1a8n24lAtEGxbYTwjEDrnBbHKeyJQMYcH5FfB4FAauFAumXXhUBZiU7nyE6OQCDHNa/a3YBAtrB5ZGfCfUCwQEjefMuEQMXWLUpnF3xAeo47VSN0g0DCuLx8iM+QQHqGniZ0pHlAFULe4/YIi0D/mFBSQraJQINh2GzVBH1AGzjTyJNbj0BiKA2wyrKDQAsi/pO9RJRAtEB/uzgohEAyeQyd8BGRQLVAA1EIGYBA5k9RjHVHkkCh2Wshu0KMQHRIBygAI4NAN/uqmAU0hUCOTMHs7jmQQALBAySFZZFAAt9P2bZjgkAjUgOxBGOGQEd7mbH/pYBA6WKTaVjWlUA60IERXZ2KQBslS8F3T4ZA9kv6OwWmjUCiIMEHmGiNQDvz5ebBYoNAK1HhTNOLikArgRk4iTOVQCUEfSC7oZJAJXImwU7wgEDD+Z0qdHWNQP6NnejBVoRApRSY8AmBfkADjH0nmjGDQA/IRoAgHIpAsN4em+gji0D4q2NPhB2IQGr89tSCZ5JA/dpyeKrqekCao6EKd/aAQLW9tQR7NoxAn7BznEEegEC5sFuOEsCTQAlirT8fM5FARqcZnX2bgUDFUYgmjDCOQN2VkBIQE4JA83gMHBeujUDqMmMqAwWQQBI5h5vXwJBAHzBh4YTvgUCLj0sS8eiOQFBtFSCU3ZBAceNq6BS/g0BKKUQ8YxqKQOMTUstScpBAIA6RPtJ3kUAu6+FAIKGHQCIFXFPZGHlA8e3nlsKoj0ApL2L0Z/6RQIXAHQQl2YNAFpfhUC2ygEDzI6yQGlKQQBNETf90AIpA0BPNlaHrfkAKpPvvoceHQApcbqKgvItAAPTl7cA+hkA2/BIsekd5QHIkwj65YZJAUX/kar5hj0C6QTqzrUaAQMrBKSyeK5BAASCUDKSAlEA=",
                    "dtype": "f8"
                  },
                  "yaxis": "y3"
                },
                {
                  "name": "african gospel",
                  "showlegend": false,
                  "type": "box",
                  "xaxis": "x3",
                  "y": {
                    "bdata": "PUInizhNnkD4lJJGoKqmQKWdS9Km9aJAMIlYqrU2kUBwKG73TDKnQBvCrnDVJqJAQvamx1pIokATLyttZrqfQHnccZmDQaNAoE2Kr32YpECydqKAkoCgQMB3Qe9SrKJAJdzTPb8anUD46w6jr8SgQKAEaCDmzKNAbxx3bfS3o0CupF8qHECnQKg5BZNRbaBAEUCO5RXso0Cws9/yLD+gQPu7ExfKCqJA01yJ6isAm0A1KMzKS5CfQFjDIMj8O6ZA459iJJFenECyzYej2P6fQDPlps2QNaFAf5OFMnWZpEDjRV444NSeQE11+NvemaRAEr05CPReoUD6DzsrTiajQGZfYV/ZLaJAYo6uJEHHoUAOYPydxhydQK62aBLpAaFAavnaidXQm0A0mbsFBdOgQGxSjzNQmKFAdJG5hszonEBON9Ya47WjQIwFm6Tx1qNApuOjpUmjoUDLKjgxsB+jQOAvVcZslJ9AxsXhYtgwpkCuxNGflk2jQKCgHTYibaFAtXHwi0rimEACHUAaesyhQCbj3q1NIaJAmxBlNEuXoECPWGnov02jQM6GWj93qqFAnYx80smpokB0kbmGzOicQDrvvft1hZ1ADq3xXLAZokDvmNkuxaGcQF6Clcx8TKZAbG9D3cmtnEAaKaeAYw6jQCqZi/U4QqNAg/Mq1IJvoUDKnHTN6KGgQNYFFRGx1J1Afn25tMjCokA=",
                    "dtype": "f8"
                  },
                  "yaxis": "y3"
                },
                {
                  "name": "uk drill",
                  "showlegend": false,
                  "type": "box",
                  "xaxis": "x3",
                  "y": {
                    "bdata": "Le9t4VkPo0BDQt7DtHipQAsyQWtrVKNAaGaNa4e9o0AT9ROOxLmjQJ8eLytN3aRAZm1kqKJ+pEA2z37cncejQGZyWIbwyKFApbnbjz/no0B6xoQbqCemQITnWv+zhqNA+jd6omYPp0DR4yDsvh2jQKD+tZpafaRARy0TGhzNpED5OwHeBt+lQGKnyWNXs6dA0jfYCUsep0Dwi/427V+oQCfOfsKbuqBApPcxooGOnkBKV5X/zR+jQOswEpGlyqNA3NwprKdopEDdxG8oY5qkQLiuKGtFTqVATFlBftX0pEBe9cAc+TWlQEHJV2zMCKlAn7SnNdUroEDrJMLFrvajQOiUXaAUWadAzo4HsufjpEDy5vi1m5miQFgrGEhZpaVAPlRueROlpkAGWdvTnFSlQP0IG9vY16RALKMFVTe7o0C272hayqSlQFttA96qVaNAZ2UKQfbMo0A3zgXn6K+iQK1ugWn84aVApP5XGVQ2okD7+MDG22anQP30epkGFZxA1nz1hPNwp0CbDK1OITWmQEItOQhexaBAa3pbEEzOqEATNEZSj8umQHURbqIrKqZAuHOR1T1AoUBaN/0PORaiQA==",
                    "dtype": "f8"
                  },
                  "yaxis": "y3"
                },
                {
                  "name": "gospel",
                  "showlegend": false,
                  "type": "box",
                  "xaxis": "x3",
                  "y": {
                    "bdata": "Egy9iYP2pEDqsZqYDHCkQJhwHeqTYaBAUh28PU2voEA7qcGOV/+RQDO0HArnkKBAdY36csR1oEAWePAEDUybQLk0iCqE7Z9A3MbZhCBepEDO6pw22beiQHRPqAZXMaJAfkcw56oAo0DZDtLypnOfQPpI+2DOn6VAXvEsX4VwoUBjJEPqoqCYQHrr1N9SyKJABlQ0rN6nokB6xKzZ71udQBLihJTn06NAcrAC2UzjokCJqI7rIR2gQDIG/K0u46NAjqcqH4gLpkCj/3tmjpCiQEogQRb3DaNAW0T4OdG2nkAe8FyXnxKpQGlXd8/jRaFA1Ybz+OWnlkCgvWjQbkSkQNIJcnPxXZ5Ari5b4yRLmUDF/sC11aOkQBUarbyvEKNAaqqNRaiEnECOPW1RGiuhQCVlh0JClKRAfSr+vdiRoUAoBeWayxalQKJYFdButaNAImQZkpFzokCzDJXYbAOeQLGiz2UAjqFAhg1CB1GookB+HSuqNJShQLSJq9E0XaFAdoZ0IlKvpUDVaPDIE+ygQF7ONsroUp5A7X6p9Mz2mUDux5Pxb7KgQEIII53hwaBA4QSBFEWLnkCEWoQClpyhQA==",
                    "dtype": "f8"
                  },
                  "yaxis": "y3"
                },
                {
                  "name": "christian",
                  "showlegend": false,
                  "type": "box",
                  "xaxis": "x3",
                  "y": {
                    "bdata": "6EkGCp5NmEAsdEuG+i+kQGMa7WjkWJhAbr2hF7rKoUDqxpGF59CaQEOjtwzwD51AGSvkPCpjpEDohNfqoaejQHBx/kGl8aBAuOVUERVLpkDTzQuKLBChQA3XaG0XXZ5A8JbLa+rkoECbh1wzfrWgQBMu19Ru+KJAxrkxgOMGpEBEndWxXPOjQCd9lQ/7h6BA0D+7apMmoEAWLlsm8iOhQBakwHvhlKFAr5Swoof9nkDqWr2LwuGaQJXyn4G36JpA4hbPY26aqEANElGpy/OjQPI6p0UqDaJAi8H16pqTnUA4++tIvgKjQFBArsMvO55Ac65vJ6LyoUAWKAMtzO+gQJaDHPmisZhAiLETkeu0okD58kxpTqijQINQzBqiIqBAbEhwQouMoECCws0/YXikQJSCgW5MPJ9AnMBasMBBpEC2y8eLrZ2iQA==",
                    "dtype": "f8"
                  },
                  "yaxis": "y3"
                },
                {
                  "name": "soft pop",
                  "showlegend": false,
                  "type": "box",
                  "xaxis": "x3",
                  "y": {
                    "bdata": "KE9h3d/foUAl3CILaKWsQCvTUOp3k6BAZum71lzwjUDTdIj5o9edQGadE4Jp9ZhA78L+ior/okDiwlZyT++SQEZ7b+N26KFA/smd4IN7nUAS4g2qcxWXQKVWTCkx26BAxiybw+WkpEBSbokhzBaeQC46QhIlbaFA1GLkzGgPmECKuV9sCUOmQCWUNX/Aq6BAa2gpAXwRpUDOKfVnTI2nQGs3Fd81CJxAgkcrUOFfokDGLJvD5aSkQEZ7b+N26KFAsW1VATFhn0BGCXMg7wKhQBPPMk/hmaZAmZB2rx6DnEA/m2Ik4mqhQD0B3S620plAvSWyQBQuokB5htbSqb+nQJ6LESlReppA6LQzf9VQp0A=",
                    "dtype": "f8"
                  },
                  "yaxis": "y3"
                },
                {
                  "name": "new age",
                  "showlegend": false,
                  "type": "box",
                  "xaxis": "x3",
                  "y": {
                    "bdata": "/pCEARgUlEAdzLcQvrSSQFUvZFXfXZBAmGh89ofRm0DDY22lC4eVQKyJtrarYodA7Y6DHX3IkUDmz3NK78aVQMPiLYmvwp5A+EZgc6jWmEDB7+1cJv+PQLYC0o6Ol5FAtsidTFrAkUA6JrA8AYCRQID8hNgzpIpAel/PPfmsmUDY4UckV2eVQIE0jY8IyZ1ADbTFiX0lnUAuZ+QIfr+UQPhGYHOo1phAy/6iBJwZlECTKvWwERGVQCDnmjzrIZRAjC+DVqu4kkB57it0jmuXQEIkouCVD5NA+H3o9onDlEAPrhJ+UkGSQDh01RukQ4tA0KMXIhIAi0BZp9Ooo4mTQMITv/PLppZA",
                    "dtype": "f8"
                  },
                  "yaxis": "y3"
                },
                {
                  "name": "Unknown",
                  "showlegend": false,
                  "type": "box",
                  "xaxis": "x4",
                  "y": {
                    "bdata": "y8zMzAzruT/SaJtcks2kP3TcRaEPLqw/JzMzM/O8pj/NzMzMzMO8P0hWspKVgLc/zczMzMzTsT+amZmZmXetP5SZmZlZf7g/YmZmZgYjtj+TmZmZeYWwP83MzMzMSMI/AAAAAABmuT9lZmZmhkG3P/X///9/7ao/y8zMzAxtvD8AAAAAgBvAP5qZmZmZk7A//P///3/Ovj89ExieBW+5P/////8f27k/lpmZmRn3uj/KzMzMLLG/P2NmZmbm7qc/LzMzM9PwtD9yPnnE3hazP2RmZmbGIbY/k5mZmXmatT8wMzMzkwS6Py8zMzPTQbk/lPU2985fwj+TmZmZeYW4P2JmZmYGBbs/x8zMzIyHuz+SmZmZmeauP/////8fHbM/lZmZmTlLvD/MzMzM7Om3P2BmZmZGtbQ/msgM/ewRwT8tMzMzE1WyPzMzMzMzQLw/y8zMzAzMuT/+////P9ixP5iZmZnZY6A//////x9Dtj+PmZmZGT+tP5qZmZmZQL0/UpmZmZnzfz9lZmZmpl2yP8bMzMysyrk/lJmZmVkTsT+TmZmZeaKyP5aZmZkZD7o/lJmZmVm8sz/MzMzM7Le7P5eZmZn5gbE/x8zMzIwusj8uMzMz86K3P/z///9/VrQ//v///z81sD/8////f/29PzAzMzOzZbk/ZWZmZqbMuT9hZmZmJlmsPxz+3Zv1RMI/MjMzM1O+uD/+////Pz2xPwAAAAAArLY/zczMzMxMuz9hZmZmJoK+P8fMzMyMzro/ZGZmZsYFuD+VmZmZOTy0P8rMzMws9L0/ZmZmZmY7tj+amZmZmau/PzIzMzNTJLM/LTMzMxPRuD+NmZmZWbmuP/////8fMbA/ZWZmZqa/uj8AAAAAANyVP2FmZmYmwrk/XGZmZuaLoD8yMzMzUzuxP8rMzMwsibM/+////5+ctz//////H/i4P2NmZmbmhbU/Y2ZmZuahtj9mZmZmdnfAP2FmZmYmJ7k/zMzMzOyOuT/8////f+ScP2ZmZmZmbrE/YmZmZgZFtD/8////f+e0P/////8frsk/kZmZmdm6rj9iZmZmBnezPzAzMzOzt7M/zczMzEzBwD+WmZmZGY+2PzIzMzNTYbQ/mpmZmZkrtD+XmZmZ+cuyP/3///9fV7Q/mZmZmbk0uT9GKaWUUkGwP5mZmZm5Cbk/taUpHzsbqD/5/////4KqP+6kEu6kMsA/xMzMzAyUrz+XmZmZ+b+xPy0zMzMTULg/HjMzMzNelz9lZmZmpiOzP0JmZmZmm40/YmZmZgbKsj/7////ny+yP5iZmZnZQ64/Y2ZmZuYovD9jZmZm5qKrPy4zMzPzY6c/AAAAAJC+wj9jZmZm5su9P8jMzMxs5bE/y8zMzHxYwj/TdkwoHA20P5mZmZm5HLM/Y2ZmZuamtj8wMzMzs4C7P5iZmZnZCbI/mpmZmZk3wz+UmZmZWUeyPy8zMzPTX7c/ZGZmZsZEuD+XmZmZ+fO4P2ZmZmZmFbM/yszMzCwltj9x/vGBkc3AP5mZmZm58Lo/KjMzM3PAoT8tMzMzE4C0P/n/////kK4/9f///3+Lrj+YmZmZ2cOrP8vMzMwMMrM/AAAAAICQwD8sMzMzM4CtP/n/////Xqs/MzMzMzPzuj+UmZmZWWy0P5eZmZn54bM/AAAAAACarz+amZmZmQ2uP5qZmZmZ2Zs/lJmZmVlUsj+amZmZmd+pP8TMzMwMiq4/P0REREQ6tT9mZmZmZsy9P1uV2IaDG7s/l5mZmfn2vD9jZmZm5mKuP5aZmZkZrLk/lJmZmVnSuj8vMzMz0/C+P2JmZmYGY7k/wszMzEzCpj9hZmZmJn2uP7ru1nAulcM/ZGZmZsaysT/KzMzMLNe2P1xmZmbmsaw//////x+tsD/7Ah4suduyP/v///+/Tbg/GE/4buPJvz/6////36a0P2NmZmbm1bk/KDMzM7MwrD9kZmZmxoS/P8vMzMwMva4/y8zMzAxytT/HzMzMjC2uPzpEJuGXoL4/yczMzExVsz8xMzMzczy1P1EmgMwz5bk/wMzMzIzWoz8uMzMz80epPzIzMzNT8LM/MzMzMzP0vz8vMzMz03q3P/3////fT8A/ZWZmZoaQuj9gZmZmRka/P5aZmZkZxbQ/yczMzEzXqz9hZmZmJsC4P1hmZmZm3JE/IRPonbr2qD+SmZmZmUqkP/v///+f6rA/lZmZmTn9uD/6////32SxP8jMzMxslLQ/l5mZmflmuz9iZmZmBtS7P5eZmZn5Fro/+v///9+kuz+VmZmZOZW7P1hmZmZm9Jc/gezCYiSUtj+XmZmZ+aywP5SZmZlZ17I/X2ZmZmabqz/NzMzMzKyOP5qZmZmZ9a0/LzMzM9PdvD/+////P/SyP8jMzMxsnL8/l5mZmWkIwD8tMzMzEwG2P8rMzMwsrsE/MDMzM7Mrvz8tMzMzEz23P5eZmZn5ZrI//P///386tj/+////Pxm3PzAzMzMTKsA/MDMzM7Ntrj//////H5S4P2BmZmZGL7I//v///z+apz+KD1mhbHChP/P///+/X68/AAAAAABypD/8////f92/PzIzMzPjBcA/y8zMzAy3rj+UmZmZWe+7P8bMzMys8L0/MzMzM7OTwD/7////n2e6Py+qHkFFsbA//v///z97tz/LzMzM/FDCP/7///+/FsE/MTMzM/Phwj+amZmZmQO4PyEzMzOz4Z8/mZmZmbknuT+ZmZmZKYDBP2FmZmYmeLM/MjMzM+MzwT+PmZmZGYmpPywzMzMzOqo/zczMzMyEsj9mZmZmZl22PwAAAAAAVq8/LDMzMzNkrT/9////X3S7P8TMzMwMCK4/mpmZmYn6wT8xMzMzgxbDP/////8fSrQ/kZmZmdnMrT+dzhd5/PO1P8bMzMzMKaY/yczMzEwPsj/EzMzMDFarP/v///+/rbw/ZmZmZvYmwj/JzMzMTHWqP/7///8/ILw/MDMzM7MUuz+TmZmZeai7P8fMzMyMir0//P///38orT/6////3wC8P2VmZmam07U/mpmZmZmjrD9lZmZmhtW+P5aZmZkZ47o/B2RQFWTQnj8uMzMz8724P2FmZmYmMrs/yczMzEwgtD8nMzMz85CjP2BmZmZGALA/MDMzM5Nxtz/JzMzMTD+gP2BmZmZG2bY/ZWZmZqbmtz/9////357AP5SZmZlZf7g/ZWZmZiZ3xD9dZmZmpqWoP/////+vAME/+////5/Wsz9fZmZmZrGiP5OZmZl5jrE/l5mZmemJyT8xMzMzcxm2P5aZmZkZtpU/YmZmZgZJsD8vMzMz08m2P2FmZmYmfb0/ZGZmZsYfuT/+////P5KmPy0zMzMTJLo/mJmZmdljpj/nQ3xRyIHAP/v///+/F7k/LzMzM9P7uT+YmZmZ2TK1P5qZmZmZAbk/+////5+Luz/GzMzMrLq4P2BmZmZGALA/LzMzM9O4tD/+////P0fAP2RmZmbGKbM/kJWsZCWrrj/8////f/uwP/f///8/o6Q/lpmZmRnhtT8AAAAAgOHAP/3///9fIrQ/AAAAAABWtT+VmZmZOYC5P8nMzMxMwrE/WFpaWlq6vT/7////v12/P/////8fRrE/mZmZmbnYtD+VmZmZOU60P/3///9fabY/xszMzKz6sD/GzMzMzKWvPzAzMzOTDLs/xszMzKwPvz9dZmZmpv+mP8nMzMxM0ac/zMzMzOwntj/HzMzMjAS1P8nMzMxMWL0//v///z/VuD8zMzMzMxG0P8zMzMzsZLo/8////78Xrj9kZmZmxp20P8vMzMycR8E/MjMzM1NMuj/LzMzMDGPCP/3///9f67s/k2GQ5SiXoT/KzMzMLE28P19mZmZmEak/mJmZmdnEtD+T+B+W+N+2PzEzMzNzELE/y8zMzAylpj/JzMzMTAy3P5eZmZn5XbM/i5mZmZlXnD9gZmZmRuW3P3zlvNfnl7Y/XGZmZuY7qz/LzMzMHLPAPyozMzNzGq4/YGZmZkYDtz/8////f2q4PzAzMzOzH5k/KjMzM3NYqD/GzMzMrJy/P/7///8/PbQ/MDMzM7M+sD+XmZmZ+Se1P83MzMzMGbs//////y+6wD8tMzMzE6W4P5WZmZk5A7c/LjMzM/MPuj+XmZmZ6QXFPzMzMzMzS6w/xszMzKz6tD9cZmZm5rGqPzMzMzMzubM//P///3+MlT+SmZmZmUSmPygzMzOzsqE/ZWZmZqZlsD/+////zxjCP5WZmZk5ILU/9////z8zqD+WmZmZGXC3P2VmZmaGOL4/YWZmZia8uj+YmZmZ2VazP/7////PeMI/ZWZmZqY8uD/9////34TAP8vMzMwMfbI/l5mZmWmuwD+TmZmZeb27P2VmZmamQqk/yMzMzGwlvz+amZmZmaG/P/f///8/W6s/XWZmZqZvpj9iZmZmBoW0PzIzMzNT/7A/zMzMzOyfsT/3////P22vPzEzMzNz8Lw/KfDF1Q8SsT9kZmZmxjC6Pw==",
                    "dtype": "f8"
                  },
                  "yaxis": "y4"
                },
                {
                  "name": "worship",
                  "showlegend": false,
                  "type": "box",
                  "xaxis": "x4",
                  "y": {
                    "bdata": "YmZmZgYttD9lZmZmpta2P2BmZmZGWLY/YWZmZiZ3uz9gZmZmRqSxP5OZmZl5CLY/lZmZmTkZuD+ZmZmZueu8P/////8fxLg/MDMzM7Pnuz99phBoCoG8P/mWSMp+arU//////x+ovz/IzMzMbIS6P8fMzMyMS7o/IHvliuHruz+MGJnNTwy9P8fMzMyMfbk/w2XAJ4drtD/8////f0S+P8bMzMysars/zMzMzOyLuD/9////X528P8fMzMyMIrU/lZmZmTlVvT8zMzMzM7W9P8fMzMyMebM/zMzMzOyCuD80YALEKni/P8jMzMxsn7g/zMzMzOyytz/HzMzMjPq8P83MzMzMMbc/MjMzM1OXtz8uMzMz8/qwP4SVk+q8Kbs/MDMzM5NAtD+amZmZmfa5P+ef6TmI3a8/yszMzCyLvD8yMzMzU6C+P5OZmZl54Lc/DQ4gEd+MvT/7////n0q6P/f///8/M6s/AAAAAABevD8AAAAAkCPAP83MzMzMR7c/RVjRJ4o5tT/+////PzC2P/r////f/7E/HIynUM6Klj/FEUFPoJi4P8jMzMxs57Q/LTMzMxPRuD+0zMzMTAScPzEzMzNzCcA/lZmZmTlfuT+TmZmZeSu4P/r////fgrI/mZmZmTlTwD/GzMzMrPSzP6jOSMXcqrw/3Z4hw6igtz86sN0hiAG/P8bMzMysqr4/AAAAAAAAuj+gkUGPVqDCP1xDeQ1lOsE/yszMzCxKsj8yMzMzY1rEP2FmZmYmdrY/lZmZmTlctz/7////v466P82k2tGZdL8/ZGZmZsZztz+YmZmZ2Qi9PzAzMzOzt74/l5mZmfm/tD9kZmZmxnm3P5OZmZl5pro/l5mZmfn9uT+amZmZmc+0PzAzMzOzVrw/lJmZmVmjtz8zMzMzM62pP9nOf8mJm7Y/MDMzM7P9tD+XmZmZ+TPAP2NmZmZWpcE/cACVJXnavT9jZmZm5p+6P/////8vHcE/y8zMzAxqsT+WmZmZGdisP3o30zzbAMA/lZmZmTnLuT/7////n0q6P/7///8/ZbM//////x9Wsj/JzMzMTLu6P8nMzMxMc7I/ozZUuL+YuT9hZmZmJiK7PywtLS0t3b0/LzMzM9Oyuz+WmZmZGQezP0MHC1vUfbo/ZWZmZoaIvj9gZmZmRq+2P83MzMzMSbc/LjMzM/P6sD+YmZmZ2cK/PyozMzNzDq8/+////78ctz8keplGbT6xPy4zMzPzJbc/mZmZmblsvj+ZmZmZuXe9P0PxoQqLXrY/mpmZmYlywz/6////38q4P83MzMzM/rs/LzMzM9Nitj/uRjbnVeG3P2JmZmYG6LY//P///39gsj9hZmZmJk27P/z///9/Z7c/MDMzM7OFuz9kZmZmxnG6Py8zMzPTebc/KjMzM3MOrz+UmZmZWWiyPzAzMzOzyrg/xszMzKzctT/krFp3O325P+rq6urqYsE/AAAAAACtvD+vxHXu4We4P2VmZmamn7Y/j5mZmRlFrz//////H32/P4Xzl46AK7c/AAAAAAAytz/KzMzMLEi4PzIzMzNTZrI//////x/ctz+UmZmZWXK7PwwODg4O3rM/+////7/jvz9yDMJwSE+9P/42L31xtr0/QXZhMRL6sj9lZmZmhk66P/////8fxLQ/AAAAAABRwj/KzMzMLNmxP8jMzMxs4ro/sCte3JfMuT8YymsoL4S4P5qZmZmZu64/lJmZmVkYqz/LzMzMDKy6P5iZmZnZ+b8/y8zMzIwCwD+TmZmZeRe9P/v///+fT7s/yczMzExDuz/7////n0S4PzIzMzNTKrw/MDMzM5O+wT+XmZmZ+dm7P2ZmZmZm+7w/Owg3fWYEuz+VmZmZOT23P5aZmZkZZ7M/MTMzM3OWuD9iZmZmBtC6P5KZmZmZ0KU/yszMzCyztT/+////P9C9P2BmZmZGZLk/yMzMzGzwtT8uMzMz846wPzAzMzOj1ME/MzMzMzPevT+UmZmZWUuwP73SjU3osb4/+v///99uuT/KzMzMLLe7P2JmZmYGFL0/+////7/IsT/DSegZk8e6P4SVk+q8Kbs/k5mZmXkYvj/DZcAnhzu+P6C8hvIaEsA/MjMzM1MQwD8D3TejUNbBP8rMzMysKcA/MDMzM7OTsT9lZmZmhj+yP485XFe/EME/y8zMzAzCuj8wMzMzkzOzPytXSaPaksA/MzMzM8N3wT9lZmZmphm4PxxREsLpqLo/yszMzCyHtD9mZmZmZnC1P9l77733Lrg/ZWZmZgbGwD/kYn9D//C7P/z///9/dr4//v///z8huj/IzMzMbPC1P8jMzMxs270/MjMzM1M2tz9T1FCdZPO3P/////+fjcA//////x+5vj9jZmZm5lm4Pwg4FuEfF7k//v///z8etj8vMzMz0ye6P8rMzMwsG7g/x8zMzIymvT/B5S7B5S7CPzIzMzNTc70/l5mZmekKwz/8////f2CyPwAAAAAA4rU/xszMzKwXuj/IzMzMbL62P8vMzMwMq7k/zMzMzOyNuT+ZmZmZuXyxP7fcx+jYkrk/2O4QxNCDvj8zMzMzM1m2PwAAAAAAArc/ZWZmZqbpsj+XmZmZ+XC/P2JmZmYGlbc/XIQz1ZEwwT/JzMzMTEu6P5qZmZmZ17w/ZmZmZmazvj9lZmZmptq4P2VmZmam3bQ/MDMzM7Mouz/JzMzMTFW2P2ZmZmZmgLk/xqil8r8Yvz8zMzMzM9a3P5OZmZl5prg//////x9vuD+m3RhPQrjAP8zMzMxcH8A//f///1+Qtz+SmZmZmbynPzAzMzOzZrM/7NNEsVLVwT+UmZmZWSS/PwAAAAAAEbw/mpmZmZlftT/9////3y3DP/r////fmrg/qsFzBIqmwD/7////n4++P5mZmZkpl8A/MDMzM5NgtT+WmZmZGcS8P34yd3UfJb4/MzMzMzOQvT8yMzMzUyu5P2ZmZmZmAL8/ZmZmZmZDvj9jZmZm5k23PzIzMzNTerY/MDMzM7OFuz/7////v1S1P5WZmZk5bbc//////x/Iuj9iIQtZyMKmPwxu+syIgr0/MTMzM3MTtz/MzMzM7LqyP9VEYluea7k/+v///99ivT+UmZmZWa65P8jMzMxsUrY/+////79Kuz/9////XymyP8nMzMxM4rQ/+v///9+huT9gZmZmRhS1P5ck0lmVGr0/zczMzMwXuD/ZXON2MW3AP6rBcwSKpsA/x8zMzIzysj9iZmZmBn61PwAAAAAAtbc/+////5+ttz9jZmZm5uKsP4C6nE1K078//////x/Lsj8wMzMzkzi4P/7///8/lcA/W0vXf1aQuz/ucOME7/W4P5qZmZkJMcE//f///18jsD+WmZmZGbq6P2VmZmYGFsA/DNvN8iSatT+YmZmZ2Sy3PzAzMzOTE7k/lZmZmTmkvT8yMzMzUx++P2UplQzXbLc/LTMzMxMouD/MzMzM7J29P2FmZmYmNbY/xszMzKwHuj/GzMzMrK25P0sLMy3MlLs/tJ3TZz+Qvz8vMzMz0yO+Py8zMzPTXLw//f///18ctz+ZmZmZuWm+P2bJIa4yvbg/+////5++uT8wMzMzk2a4P5mZmZm5GrA/MDMzM5NTvj/KzMzMLLS+P8rMzMwsrbY/mpmZmZnCvj+TmZmZeeuxP5qZmZmZc8A/w08EaG1fuz//////n8XAP5qZmZmZyrs/ZmZmZmZKwD+amZmZmR+0P/v///+fwb4/8mHcr0tKuD+TmZmZedS5P2RmZmbGDLU/FPmsG0whtD+rt3VK/wjBPy4zMzPzz7Q/lZmZmTncuz+woaI9Gua6P8zMzMzsS7o/GZFiqL/cvz/0XZKqYza2P2VmZmaGLLg/k5mZmXnfuT8xMzMzc4G7P+t9ZHSqCLc/",
                    "dtype": "f8"
                  },
                  "yaxis": "y4"
                },
                {
                  "name": "afrobeats",
                  "showlegend": false,
                  "type": "box",
                  "xaxis": "x4",
                  "y": {
                    "bdata": "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",
                    "dtype": "f8"
                  },
                  "yaxis": "y4"
                },
                {
                  "name": "lo-fi",
                  "showlegend": false,
                  "type": "box",
                  "xaxis": "x4",
                  "y": {
                    "bdata": "MzMzMzPlpj+LmZmZmf+TP/n/////oJ4/u8zMzEzHmD9RZmZmZn2ZP8nMzMxMLZk/y8zMzAzppj93kfQqrOWVP7gZXA7HNqA/LDMzMzN8nT/CzMzMTJahP5jk63o1iqE/PCfp6hMGoD9RZmZmZtWYP11mZmamg6A/j5mZmRl/nT9UZmZm5pCeP8fMzMyMT6Q/wszMzEzOqj/GzMzMzDGYP5iZmZnZyaY/mpmZmZnxij8lMzMzM7WYP2NmZmbm8qY/i5mZmZlfnj/5/////+SZPxcLb1ZgA6E/9MRFlghwnj+LmZmZmSeYP7fMzMzMt5I//P///39gmj+3zMzMzNOfPzAzMzOzX5c/MzMzMzNznD9jZmZm5jigPwAAAAAAhJg/vszMzMwmlT8oMzMzsyyoPyEzMzOzzZA/ITMzM7ONmT/pnvME/lOiP+r/////9pI/zczMzMxeoT+amZmZmQ2ePwAAAAAAZKU/X2ZmZmb/kT/AzMzMjESnP1FmZmZmNZI/5wqkK5Buqj+RmZmZ2RKhP5KZmZmZ+pY/8v////8hkj/NzMzMzHyiP5iZmZnZSaQ/JzMzM/PSoD+RmZmZ2U6gP83MzMzMDJE/MDMzM7PBqD9mZmZmZm6gP1FmZmZm+Zg/ZWZmZqZ0pj/EzMzMDEKiP/X///9/RZw/8oqqxayfoj9REajEphGsP/P///+/KaQ/SmZmZmbCiD8zMzMzMxuXP1hmZmZm4J0/iJmZmRkAmT8lMzMzM+WZP9HTub2WfKQ/X2ZmZmZPoj9jZmZm5s6VP5aZmZkZcqU/iJmZmRlQkj/u////f/6RP/z///9/9KI/Y2ZmZuailz+UmZmZWcqpPysb3wytHak/XGZmZuYLnj/TbgBRKySXPyUzMzMz4Zo/gJmZmRmdmj/+////P7agPzAzMzOzz6Y/Y2ZmZuZmkz/8////f5SXPy4zMzPzEaQ/Y2ZmZuZGmz/HzMzMjG+iP08NniNQLKQ/u8zMzEwTnj+3zMzMzKOdP/L/////WYw/9f///3+nrj/8////f9inPyUzMzMzLYo/RkVuplTDkz/JzMzMTHmuP2NmZmbm6p0/XGZmZubfmT8oMzMzs8SXPzMzMzMzQ6Q/lpmZmRlamj9KZmZmZkqGP/P///+/taM/xMzMzAxaoz9mZmZmZp6TP83MzMzMtqE/LDMzMzOsoz8=",
                    "dtype": "f8"
                  },
                  "yaxis": "y4"
                },
                {
                  "name": "african gospel",
                  "showlegend": false,
                  "type": "box",
                  "xaxis": "x4",
                  "y": {
                    "bdata": "lJmZmVngrz8yMzMz0yDBP5SZmZlZSLs/TWZmZuZNnT/+////T/PBP83MzMzMVr8/+////5+ktz+SqF2J2gWxPyJw7UcJvLo/Q0LFgyS0vj/HzMzMjNu3PzIzMzNTIbw//v///z+8sD9lZmZmhl68P2RmZmbG4rk/Y2ZmZlb+wD+ZmZmZud/CPwAAAAAAK7Y//////x/cuD+XmZmZ+X+9P5WZmZk5Hbc//v///z/Crj8AAAAAAJm1P8vMzMyc9cQ/mZmZmbmasD847ZBeWu+uP2JmZmYG6bU/zuZ9ikt+vz8yMzMzUye3P2FmZmYmSb4/+////5/ZtT/HzMzMjPi6P5WZmZk5nLk/LTMzMxOIvD/MzMzM7JWyP8Q0haUb27U/MjMzM1Pltz9kZmZmxuC1P5mZmZm5srM/Kd13ecbWtT+WmZmZGSq3PxVvZZ9DCrw/mZmZmbkGuT84R6Boq3m9P/G6173uNbc/MDMzM5M5uT/+////PwO4PzIzMzNTgbo/XWZmZqY3qz/7////vym1PzAzMzOTHrk/y8zMzAyftj+TmZmZefu5P/z///9/67U/l5mZmfl3uT8p3Xd5xta1P4V2PuLovac/ZWZmZqbjuz+YmZmZ2R+1PzEzMzODVsA/x8zMzIyQsT8wMzMzs569P5ChA3Z76Lo/lJmZmVkXtz8AAAAAAAS0Py8zMzPTtbc/YmZmZgbLuT8=",
                    "dtype": "f8"
                  },
                  "yaxis": "y4"
                },
                {
                  "name": "uk drill",
                  "showlegend": false,
                  "type": "box",
                  "xaxis": "x4",
                  "y": {
                    "bdata": "YmZmZgaGuz9mZmZm9tLGP5qZmZmZfrc/l5mZmfkcuz+YmZmZ2fi7P2VmZmaGiLw//f///18Dvz/HzMzMjPu1P/3///9fMbU/k5mZmXkAuD/7////nya/PzAzMzOT3L8/zMzMzOz8vz/7////v4y4P2VmZmamOLk/ZWZmZqYAuD9kZmZmxgrAPzEzMzNzQMA/MDMzM5NowT9mZmZmdnrDP5mZmZm50rM/+////7+lsD/NzMzMzHO5P3ugEerKArk/lJmZmVkhtj+XmZmZ+eW4P5qZmZmZ970/AAAAAAAFvD9mZmZm5hvBPzAzMzOjpcI/ZWZmZqaosD+amZmZmT68P8vMzMycNcE/+v///9/GvT8AlhK8VvizPzIzMzPTnsA/MjMzM2OZwT9iZmZmBs+6P1MS/Em5070/MDMzM7NpuD9hZmZmJgK/P5eZmZn5Tbk/MzMzMzPCtz+WmZmZGfq5P5SZmZlZwrs//P///38YuD//////H8bBP19mZmZme6U/ZWZmZgZjwT/+////PyTBP+Zv6VWbu6Y/ZWZmZpbWwT8xMzMzg6bAPzMzMzMznbw/YmZmZgaqsj8yMzMzU/KxPw==",
                    "dtype": "f8"
                  },
                  "yaxis": "y4"
                },
                {
                  "name": "gospel",
                  "showlegend": false,
                  "type": "box",
                  "xaxis": "x4",
                  "y": {
                    "bdata": "MjMzM1O7uz/HzMzMjBS/P5aZmZkZ6Lg/MDMzM5M6uT/BqFZDtz+sP8rMzMwsFro/yczMzEzJtj+UmZmZWSC2PwAAAAAAlbc/LjMzM/OdvD/GzMzMrEyzP5SZmZlZ1bc/MDMzM7NjuD8uMzMz832zP2RmZmbGsbo/pYM6qIMquT8AknWuPEC0P/v///+fOLQ//P///38juj8wMzMzk8WzP/7///8/Pbs/nTGyO103tT//////H7m4P2ZmZmZmq7w/mQGs5JOgwD/Es3QGasO3P8rMzMwsr7s/YGZmZkZBtD/gCvwvepbFPwAAAAAAerw/Y2ZmZuY0sT9hZmZmJl+6P/n/////zKw/+////7+4qD/8////f/K+P5mZmZm5/bc/+////5/esz/+////P16xP5WZmZk5n7w/MjMzM1PMtz/+////z7LAPy8zMzPTJbk/Y2ZmZuaTtz8yMzMzU6+2P2VmZmaGa7Y/yMzMzGyRtj/7////nyWzP5SZmZlZn7Y/MzMzMzPpvT9gZmZmRmy4P/////8fW7Q/mZmZmbmTsD/8////f5eyP2VmZmaGprU/S15DeQ0psz+XmZmZ+fOwPw==",
                    "dtype": "f8"
                  },
                  "yaxis": "y4"
                },
                {
                  "name": "christian",
                  "showlegend": false,
                  "type": "box",
                  "xaxis": "x4",
                  "y": {
                    "bdata": "/P///39OsT9iZmZmBsi8P8bMzMysQbA/ZmZmZmaduT//////H2KzP/7///8//rQ/+////7/juz/LzMzMDNS6PwAAAAAAxrc/4gONUFdWvj8wMzMzsxS5P5OZmZl5cbY//P///3/Puz/6////39m1P5aZmZkZUbs/mpmZmZlVvD/LzMzMDDK9PzAzMzOz+7M/yszMzCxKsz/MzMzM7Bi4P8bMzMysEbg/+////59gsz//////H0y0Py8zMzPTXLI/zMzMzNwLxT+TmZmZeVa6P/r////f47k/AAAAAAAhtz9lZmZmhvC5P8jMzMxsArQ/MDMzM5N4uD/HzMzMjEu3P2FmZmYmba4/MDMzM7P1uD/IzMzMbN+7PwAAAAAABLU/LTMzMxORtj9iZmZmBrq5P/3///9fr7M/4xzPGiuSvz/GzMzMrIC7Pw==",
                    "dtype": "f8"
                  },
                  "yaxis": "y4"
                },
                {
                  "name": "soft pop",
                  "showlegend": false,
                  "type": "box",
                  "xaxis": "x4",
                  "y": {
                    "bdata": "ZmZmZmbHvz//////r8fJPy4zMzPzk7M/mpmZmZkXqz8xMzMzc/a0PzMzMzMzha8/+////5+evT9mZmZmZoqoPy0zMzMTRrg/k5mZmXk+tD/+////P3CtP2BmZmZGKrc/ZGZmZsbluj//////Hyu0P8rMzMwsmro/+////59nsD9lZmZmFknAP8fMzMyMoLQ/LzMzM9ObvD8zMzMzQ7LBP5OZmZl5ZLI/k5mZmXknuj9kZmZmxuW6Py0zMzMTRrg/MjMzM1M4tj+amZmZmUK7P/7///+/dsE/l5mZmfkxtT/MzMzM7NyzPzAzMzOTZrE/YWZmZiYrtT9lZmZmlpbBPywzMzMzlKg/MDMzM7P0vj8=",
                    "dtype": "f8"
                  },
                  "yaxis": "y4"
                },
                {
                  "name": "new age",
                  "showlegend": false,
                  "type": "box",
                  "xaxis": "x4",
                  "y": {
                    "bdata": "Y2ZmZua8sD8AAAAAANqoP5KZmZmZLqQ/x8zMzIxxrT8AAAAAAA6oPy4zMzPz26k/x8zMzIyvrD+YmZmZ2RmmP5mZmZm5yLI/xMzMzAxWqj8zMzMzMyeoP/X///9/zao/kpmZmZk6pT/+////P4CrP/v///+/WqM/YWZmZiZlrD+UmZmZWXapP/z///9/kqk/lpmZmRlWrz+RmZmZ2cStP8TMzMwMVqo/lJmZmVliqz/NzMzMzISsP8nMzMxMZag/iJmZmRm4nz/7////v0auP19mZmZm+6o/ZmZmZmaMrj8sMzMzM3amP5qZmZmZW6M/Y2ZmZuZwpD/LzMzMDCGpP2FmZmYmS60/",
                    "dtype": "f8"
                  },
                  "yaxis": "y4"
                }
              ],
              "layout": {
                "annotations": [
                  {
                    "font": {
                      "size": 16
                    },
                    "showarrow": false,
                    "text": "Tempo",
                    "x": 0.2125,
                    "xanchor": "center",
                    "xref": "paper",
                    "y": 1,
                    "yanchor": "bottom",
                    "yref": "paper"
                  },
                  {
                    "font": {
                      "size": 16
                    },
                    "showarrow": false,
                    "text": "Rms Mean",
                    "x": 0.7875,
                    "xanchor": "center",
                    "xref": "paper",
                    "y": 1,
                    "yanchor": "bottom",
                    "yref": "paper"
                  },
                  {
                    "font": {
                      "size": 16
                    },
                    "showarrow": false,
                    "text": "Spec Centroid Mean",
                    "x": 0.2125,
                    "xanchor": "center",
                    "xref": "paper",
                    "y": 0.4,
                    "yanchor": "bottom",
                    "yref": "paper"
                  },
                  {
                    "font": {
                      "size": 16
                    },
                    "showarrow": false,
                    "text": "Zero Crossing Mean",
                    "x": 0.7875,
                    "xanchor": "center",
                    "xref": "paper",
                    "y": 0.4,
                    "yanchor": "bottom",
                    "yref": "paper"
                  }
                ],
                "height": 800,
                "showlegend": true,
                "template": {
                  "data": {
                    "bar": [
                      {
                        "error_x": {
                          "color": "#2a3f5f"
                        },
                        "error_y": {
                          "color": "#2a3f5f"
                        },
                        "marker": {
                          "line": {
                            "color": "#E5ECF6",
                            "width": 0.5
                          },
                          "pattern": {
                            "fillmode": "overlay",
                            "size": 10,
                            "solidity": 0.2
                          }
                        },
                        "type": "bar"
                      }
                    ],
                    "barpolar": [
                      {
                        "marker": {
                          "line": {
                            "color": "#E5ECF6",
                            "width": 0.5
                          },
                          "pattern": {
                            "fillmode": "overlay",
                            "size": 10,
                            "solidity": 0.2
                          }
                        },
                        "type": "barpolar"
                      }
                    ],
                    "carpet": [
                      {
                        "aaxis": {
                          "endlinecolor": "#2a3f5f",
                          "gridcolor": "white",
                          "linecolor": "white",
                          "minorgridcolor": "white",
                          "startlinecolor": "#2a3f5f"
                        },
                        "baxis": {
                          "endlinecolor": "#2a3f5f",
                          "gridcolor": "white",
                          "linecolor": "white",
                          "minorgridcolor": "white",
                          "startlinecolor": "#2a3f5f"
                        },
                        "type": "carpet"
                      }
                    ],
                    "choropleth": [
                      {
                        "colorbar": {
                          "outlinewidth": 0,
                          "ticks": ""
                        },
                        "type": "choropleth"
                      }
                    ],
                    "contour": [
                      {
                        "colorbar": {
                          "outlinewidth": 0,
                          "ticks": ""
                        },
                        "colorscale": [
                          [
                            0,
                            "#0d0887"
                          ],
                          [
                            0.1111111111111111,
                            "#46039f"
                          ],
                          [
                            0.2222222222222222,
                            "#7201a8"
                          ],
                          [
                            0.3333333333333333,
                            "#9c179e"
                          ],
                          [
                            0.4444444444444444,
                            "#bd3786"
                          ],
                          [
                            0.5555555555555556,
                            "#d8576b"
                          ],
                          [
                            0.6666666666666666,
                            "#ed7953"
                          ],
                          [
                            0.7777777777777778,
                            "#fb9f3a"
                          ],
                          [
                            0.8888888888888888,
                            "#fdca26"
                          ],
                          [
                            1,
                            "#f0f921"
                          ]
                        ],
                        "type": "contour"
                      }
                    ],
                    "contourcarpet": [
                      {
                        "colorbar": {
                          "outlinewidth": 0,
                          "ticks": ""
                        },
                        "type": "contourcarpet"
                      }
                    ],
                    "heatmap": [
                      {
                        "colorbar": {
                          "outlinewidth": 0,
                          "ticks": ""
                        },
                        "colorscale": [
                          [
                            0,
                            "#0d0887"
                          ],
                          [
                            0.1111111111111111,
                            "#46039f"
                          ],
                          [
                            0.2222222222222222,
                            "#7201a8"
                          ],
                          [
                            0.3333333333333333,
                            "#9c179e"
                          ],
                          [
                            0.4444444444444444,
                            "#bd3786"
                          ],
                          [
                            0.5555555555555556,
                            "#d8576b"
                          ],
                          [
                            0.6666666666666666,
                            "#ed7953"
                          ],
                          [
                            0.7777777777777778,
                            "#fb9f3a"
                          ],
                          [
                            0.8888888888888888,
                            "#fdca26"
                          ],
                          [
                            1,
                            "#f0f921"
                          ]
                        ],
                        "type": "heatmap"
                      }
                    ],
                    "histogram": [
                      {
                        "marker": {
                          "pattern": {
                            "fillmode": "overlay",
                            "size": 10,
                            "solidity": 0.2
                          }
                        },
                        "type": "histogram"
                      }
                    ],
                    "histogram2d": [
                      {
                        "colorbar": {
                          "outlinewidth": 0,
                          "ticks": ""
                        },
                        "colorscale": [
                          [
                            0,
                            "#0d0887"
                          ],
                          [
                            0.1111111111111111,
                            "#46039f"
                          ],
                          [
                            0.2222222222222222,
                            "#7201a8"
                          ],
                          [
                            0.3333333333333333,
                            "#9c179e"
                          ],
                          [
                            0.4444444444444444,
                            "#bd3786"
                          ],
                          [
                            0.5555555555555556,
                            "#d8576b"
                          ],
                          [
                            0.6666666666666666,
                            "#ed7953"
                          ],
                          [
                            0.7777777777777778,
                            "#fb9f3a"
                          ],
                          [
                            0.8888888888888888,
                            "#fdca26"
                          ],
                          [
                            1,
                            "#f0f921"
                          ]
                        ],
                        "type": "histogram2d"
                      }
                    ],
                    "histogram2dcontour": [
                      {
                        "colorbar": {
                          "outlinewidth": 0,
                          "ticks": ""
                        },
                        "colorscale": [
                          [
                            0,
                            "#0d0887"
                          ],
                          [
                            0.1111111111111111,
                            "#46039f"
                          ],
                          [
                            0.2222222222222222,
                            "#7201a8"
                          ],
                          [
                            0.3333333333333333,
                            "#9c179e"
                          ],
                          [
                            0.4444444444444444,
                            "#bd3786"
                          ],
                          [
                            0.5555555555555556,
                            "#d8576b"
                          ],
                          [
                            0.6666666666666666,
                            "#ed7953"
                          ],
                          [
                            0.7777777777777778,
                            "#fb9f3a"
                          ],
                          [
                            0.8888888888888888,
                            "#fdca26"
                          ],
                          [
                            1,
                            "#f0f921"
                          ]
                        ],
                        "type": "histogram2dcontour"
                      }
                    ],
                    "mesh3d": [
                      {
                        "colorbar": {
                          "outlinewidth": 0,
                          "ticks": ""
                        },
                        "type": "mesh3d"
                      }
                    ],
                    "parcoords": [
                      {
                        "line": {
                          "colorbar": {
                            "outlinewidth": 0,
                            "ticks": ""
                          }
                        },
                        "type": "parcoords"
                      }
                    ],
                    "pie": [
                      {
                        "automargin": true,
                        "type": "pie"
                      }
                    ],
                    "scatter": [
                      {
                        "fillpattern": {
                          "fillmode": "overlay",
                          "size": 10,
                          "solidity": 0.2
                        },
                        "type": "scatter"
                      }
                    ],
                    "scatter3d": [
                      {
                        "line": {
                          "colorbar": {
                            "outlinewidth": 0,
                            "ticks": ""
                          }
                        },
                        "marker": {
                          "colorbar": {
                            "outlinewidth": 0,
                            "ticks": ""
                          }
                        },
                        "type": "scatter3d"
                      }
                    ],
                    "scattercarpet": [
                      {
                        "marker": {
                          "colorbar": {
                            "outlinewidth": 0,
                            "ticks": ""
                          }
                        },
                        "type": "scattercarpet"
                      }
                    ],
                    "scattergeo": [
                      {
                        "marker": {
                          "colorbar": {
                            "outlinewidth": 0,
                            "ticks": ""
                          }
                        },
                        "type": "scattergeo"
                      }
                    ],
                    "scattergl": [
                      {
                        "marker": {
                          "colorbar": {
                            "outlinewidth": 0,
                            "ticks": ""
                          }
                        },
                        "type": "scattergl"
                      }
                    ],
                    "scattermap": [
                      {
                        "marker": {
                          "colorbar": {
                            "outlinewidth": 0,
                            "ticks": ""
                          }
                        },
                        "type": "scattermap"
                      }
                    ],
                    "scattermapbox": [
                      {
                        "marker": {
                          "colorbar": {
                            "outlinewidth": 0,
                            "ticks": ""
                          }
                        },
                        "type": "scattermapbox"
                      }
                    ],
                    "scatterpolar": [
                      {
                        "marker": {
                          "colorbar": {
                            "outlinewidth": 0,
                            "ticks": ""
                          }
                        },
                        "type": "scatterpolar"
                      }
                    ],
                    "scatterpolargl": [
                      {
                        "marker": {
                          "colorbar": {
                            "outlinewidth": 0,
                            "ticks": ""
                          }
                        },
                        "type": "scatterpolargl"
                      }
                    ],
                    "scatterternary": [
                      {
                        "marker": {
                          "colorbar": {
                            "outlinewidth": 0,
                            "ticks": ""
                          }
                        },
                        "type": "scatterternary"
                      }
                    ],
                    "surface": [
                      {
                        "colorbar": {
                          "outlinewidth": 0,
                          "ticks": ""
                        },
                        "colorscale": [
                          [
                            0,
                            "#0d0887"
                          ],
                          [
                            0.1111111111111111,
                            "#46039f"
                          ],
                          [
                            0.2222222222222222,
                            "#7201a8"
                          ],
                          [
                            0.3333333333333333,
                            "#9c179e"
                          ],
                          [
                            0.4444444444444444,
                            "#bd3786"
                          ],
                          [
                            0.5555555555555556,
                            "#d8576b"
                          ],
                          [
                            0.6666666666666666,
                            "#ed7953"
                          ],
                          [
                            0.7777777777777778,
                            "#fb9f3a"
                          ],
                          [
                            0.8888888888888888,
                            "#fdca26"
                          ],
                          [
                            1,
                            "#f0f921"
                          ]
                        ],
                        "type": "surface"
                      }
                    ],
                    "table": [
                      {
                        "cells": {
                          "fill": {
                            "color": "#EBF0F8"
                          },
                          "line": {
                            "color": "white"
                          }
                        },
                        "header": {
                          "fill": {
                            "color": "#C8D4E3"
                          },
                          "line": {
                            "color": "white"
                          }
                        },
                        "type": "table"
                      }
                    ]
                  },
                  "layout": {
                    "annotationdefaults": {
                      "arrowcolor": "#2a3f5f",
                      "arrowhead": 0,
                      "arrowwidth": 1
                    },
                    "autotypenumbers": "strict",
                    "coloraxis": {
                      "colorbar": {
                        "outlinewidth": 0,
                        "ticks": ""
                      }
                    },
                    "colorscale": {
                      "diverging": [
                        [
                          0,
                          "#8e0152"
                        ],
                        [
                          0.1,
                          "#c51b7d"
                        ],
                        [
                          0.2,
                          "#de77ae"
                        ],
                        [
                          0.3,
                          "#f1b6da"
                        ],
                        [
                          0.4,
                          "#fde0ef"
                        ],
                        [
                          0.5,
                          "#f7f7f7"
                        ],
                        [
                          0.6,
                          "#e6f5d0"
                        ],
                        [
                          0.7,
                          "#b8e186"
                        ],
                        [
                          0.8,
                          "#7fbc41"
                        ],
                        [
                          0.9,
                          "#4d9221"
                        ],
                        [
                          1,
                          "#276419"
                        ]
                      ],
                      "sequential": [
                        [
                          0,
                          "#0d0887"
                        ],
                        [
                          0.1111111111111111,
                          "#46039f"
                        ],
                        [
                          0.2222222222222222,
                          "#7201a8"
                        ],
                        [
                          0.3333333333333333,
                          "#9c179e"
                        ],
                        [
                          0.4444444444444444,
                          "#bd3786"
                        ],
                        [
                          0.5555555555555556,
                          "#d8576b"
                        ],
                        [
                          0.6666666666666666,
                          "#ed7953"
                        ],
                        [
                          0.7777777777777778,
                          "#fb9f3a"
                        ],
                        [
                          0.8888888888888888,
                          "#fdca26"
                        ],
                        [
                          1,
                          "#f0f921"
                        ]
                      ],
                      "sequentialminus": [
                        [
                          0,
                          "#0d0887"
                        ],
                        [
                          0.1111111111111111,
                          "#46039f"
                        ],
                        [
                          0.2222222222222222,
                          "#7201a8"
                        ],
                        [
                          0.3333333333333333,
                          "#9c179e"
                        ],
                        [
                          0.4444444444444444,
                          "#bd3786"
                        ],
                        [
                          0.5555555555555556,
                          "#d8576b"
                        ],
                        [
                          0.6666666666666666,
                          "#ed7953"
                        ],
                        [
                          0.7777777777777778,
                          "#fb9f3a"
                        ],
                        [
                          0.8888888888888888,
                          "#fdca26"
                        ],
                        [
                          1,
                          "#f0f921"
                        ]
                      ]
                    },
                    "colorway": [
                      "#636efa",
                      "#EF553B",
                      "#00cc96",
                      "#ab63fa",
                      "#FFA15A",
                      "#19d3f3",
                      "#FF6692",
                      "#B6E880",
                      "#FF97FF",
                      "#FECB52"
                    ],
                    "font": {
                      "color": "#2a3f5f"
                    },
                    "geo": {
                      "bgcolor": "white",
                      "lakecolor": "white",
                      "landcolor": "#E5ECF6",
                      "showlakes": true,
                      "showland": true,
                      "subunitcolor": "white"
                    },
                    "hoverlabel": {
                      "align": "left"
                    },
                    "hovermode": "closest",
                    "mapbox": {
                      "style": "light"
                    },
                    "paper_bgcolor": "white",
                    "plot_bgcolor": "#E5ECF6",
                    "polar": {
                      "angularaxis": {
                        "gridcolor": "white",
                        "linecolor": "white",
                        "ticks": ""
                      },
                      "bgcolor": "#E5ECF6",
                      "radialaxis": {
                        "gridcolor": "white",
                        "linecolor": "white",
                        "ticks": ""
                      }
                    },
                    "scene": {
                      "xaxis": {
                        "backgroundcolor": "#E5ECF6",
                        "gridcolor": "white",
                        "gridwidth": 2,
                        "linecolor": "white",
                        "showbackground": true,
                        "ticks": "",
                        "zerolinecolor": "white"
                      },
                      "yaxis": {
                        "backgroundcolor": "#E5ECF6",
                        "gridcolor": "white",
                        "gridwidth": 2,
                        "linecolor": "white",
                        "showbackground": true,
                        "ticks": "",
                        "zerolinecolor": "white"
                      },
                      "zaxis": {
                        "backgroundcolor": "#E5ECF6",
                        "gridcolor": "white",
                        "gridwidth": 2,
                        "linecolor": "white",
                        "showbackground": true,
                        "ticks": "",
                        "zerolinecolor": "white"
                      }
                    },
                    "shapedefaults": {
                      "line": {
                        "color": "#2a3f5f"
                      }
                    },
                    "ternary": {
                      "aaxis": {
                        "gridcolor": "white",
                        "linecolor": "white",
                        "ticks": ""
                      },
                      "baxis": {
                        "gridcolor": "white",
                        "linecolor": "white",
                        "ticks": ""
                      },
                      "bgcolor": "#E5ECF6",
                      "caxis": {
                        "gridcolor": "white",
                        "linecolor": "white",
                        "ticks": ""
                      }
                    },
                    "title": {
                      "x": 0.05
                    },
                    "xaxis": {
                      "automargin": true,
                      "gridcolor": "white",
                      "linecolor": "white",
                      "ticks": "",
                      "title": {
                        "standoff": 15
                      },
                      "zerolinecolor": "white",
                      "zerolinewidth": 2
                    },
                    "yaxis": {
                      "automargin": true,
                      "gridcolor": "white",
                      "linecolor": "white",
                      "ticks": "",
                      "title": {
                        "standoff": 15
                      },
                      "zerolinecolor": "white",
                      "zerolinewidth": 2
                    }
                  }
                },
                "title": {
                  "text": "Distribution of Key Audio Features Across Top 10 Genres"
                },
                "xaxis": {
                  "anchor": "y",
                  "domain": [
                    0,
                    0.425
                  ]
                },
                "xaxis2": {
                  "anchor": "y2",
                  "domain": [
                    0.575,
                    1
                  ]
                },
                "xaxis3": {
                  "anchor": "y3",
                  "domain": [
                    0,
                    0.425
                  ]
                },
                "xaxis4": {
                  "anchor": "y4",
                  "domain": [
                    0.575,
                    1
                  ]
                },
                "yaxis": {
                  "anchor": "x",
                  "domain": [
                    0.6000000000000001,
                    1
                  ]
                },
                "yaxis2": {
                  "anchor": "x2",
                  "domain": [
                    0.6000000000000001,
                    1
                  ]
                },
                "yaxis3": {
                  "anchor": "x3",
                  "domain": [
                    0,
                    0.4
                  ]
                },
                "yaxis4": {
                  "anchor": "x4",
                  "domain": [
                    0,
                    0.4
                  ]
                }
              }
            }
          },
          "metadata": {},
          "output_type": "display_data"
        },
        {
          "name": "stdout",
          "output_type": "stream",
          "text": [
            "\n",
            "Statistical Significance Tests (ANOVA):\n",
            "Testing if feature means differ significantly across genres\n",
            "\n",
            "  tempo                    : F =     5.10, p = 5.18e-12 ***\n",
            "  rms_mean                 : F =    21.88, p = 3.88e-67 ***\n",
            "  spec_centroid_mean       : F =    96.85, p = 5.45e-249 ***\n",
            "  zero_crossing_mean       : F =    60.53, p = 2.71e-172 ***\n",
            "\n",
            "  Significance codes: *** p<0.001, ** p<0.01, * p<0.05, n.s. = not significant\n",
            "  → All features with p < 0.05 are discriminative for genre classification\n"
          ]
        }
      ],
      "source": [
        "# Visualization 3: Feature Distributions by Genre\n",
        "print(f\"\\n{'='*70}\")\n",
        "print(f\"VISUALIZATION 3: FEATURE DISTRIBUTIONS BY GENRE\")\n",
        "print(f\"{'='*70}\\n\")\n",
        "\n",
        "# Ensure df_filtered exists (created earlier in the notebook). If not, create it from df_tracks.\n",
        "if 'df_filtered' not in globals():\n",
        "    print(\"df_filtered not found in global scope — creating df_filtered from df_tracks (genres with >= 10 samples)...\")\n",
        "    genre_counts_all = df_tracks['genre'].value_counts()\n",
        "    genres_to_keep = genre_counts_all[genre_counts_all >= 10].index\n",
        "    df_filtered = df_tracks[df_tracks['genre'].isin(genres_to_keep)].copy()\n",
        "    print(f\"  → df_filtered created: {len(df_filtered)} tracks across {len(genres_to_keep)} genres\")\n",
        "else:\n",
        "    print(\"Using existing df_filtered from global scope\")\n",
        "\n",
        "# Select a few key features that are likely to differ by genre\n",
        "key_features = ['tempo', 'rms_mean', 'spec_centroid_mean', 'zero_crossing_mean']\n",
        "\n",
        "# Create subplots\n",
        "fig_features = make_subplots(\n",
        "    rows=2, cols=2,\n",
        "    subplot_titles=[f'{feat.replace(\"_\", \" \").title()}' for feat in key_features],\n",
        "    vertical_spacing=0.20,\n",
        "    horizontal_spacing=0.15\n",
        ")\n",
        "\n",
        "# Use top 10 genres by count for cleaner visualization\n",
        "top_genres = df_filtered['genre'].value_counts().head(10).index\n",
        "df_plot = df_filtered[df_filtered['genre'].isin(top_genres)]\n",
        "\n",
        "# Add box plots for each feature\n",
        "for idx, feature in enumerate(key_features):\n",
        "    row = idx // 2 + 1\n",
        "    col = idx % 2 + 1\n",
        "\n",
        "    for genre in top_genres:\n",
        "        genre_data = df_plot[df_plot['genre'] == genre][feature]\n",
        "        fig_features.add_trace(\n",
        "            go.Box(y=genre_data, name=genre, showlegend=(idx == 0)),\n",
        "            row=row, col=col\n",
        "        )\n",
        "\n",
        "fig_features.update_layout(\n",
        "    height=800,\n",
        "    title_text=\"Distribution of Key Audio Features Across Top 10 Genres\",\n",
        "    showlegend=True\n",
        ")\n",
        "\n",
        "fig_features.show()\n",
        "\n",
        "# Statistical comparison: ANOVA to test if features differ significantly across genres\n",
        "from scipy import stats\n",
        "\n",
        "print(f\"\\nStatistical Significance Tests (ANOVA):\")\n",
        "print(f\"Testing if feature means differ significantly across genres\\n\")\n",
        "\n",
        "for feature in key_features:\n",
        "    # Get data for each genre (use all genres in df_filtered)\n",
        "    genre_groups = [df_filtered[df_filtered['genre'] == g][feature].values\n",
        "                    for g in df_filtered['genre'].unique()]\n",
        "\n",
        "    # Perform one-way ANOVA\n",
        "    # Guard against genres with insufficient variance / single sample by filtering empty groups\n",
        "    genre_groups = [g for g in genre_groups if len(g) > 1]\n",
        "    if len(genre_groups) < 2:\n",
        "        print(f\"  {feature:25s}: Not enough groups with >1 sample to perform ANOVA\")\n",
        "        continue\n",
        "\n",
        "    f_stat, p_value = stats.f_oneway(*genre_groups)\n",
        "\n",
        "    significance = \"***\" if p_value < 0.001 else \"**\" if p_value < 0.01 else \"*\" if p_value < 0.05 else \"n.s.\"\n",
        "\n",
        "    print(f\"  {feature:25s}: F = {f_stat:8.2f}, p = {p_value:.2e} {significance}\")\n",
        "\n",
        "print(f\"\\n  Significance codes: *** p<0.001, ** p<0.01, * p<0.05, n.s. = not significant\")\n",
        "print(f\"  → All features with p < 0.05 are discriminative for genre classification\")"
      ]
    },
    {
      "cell_type": "markdown",
      "metadata": {
        "id": "6vxg3fY6UNUf"
      },
      "source": [
        "The box plots reveal how different genres exhibit distinct audio characteristics:\n",
        "\n",
        "- **Tempo**: Shows variation across genres\n",
        "  - Electronic genres (EDM, lo-fi) may cluster at different tempos\n",
        "  - Worship music might have slower, more consistent tempos\n",
        "  - Rap/hip-hop might show distinctive rhythm patterns\n",
        "\n",
        "- **RMS Mean (Loudness)**: Indicates average energy\n",
        "  - Ambient genres (lo-fi, new age) tend to be quieter\n",
        "\n",
        "- **Spectral Centroid (Brightness)**: Measures frequency content\n",
        "  - Genres with more high-frequency content have higher centroids\n",
        "  - Can distinguish \"bright\" vs. \"dark\" sounding music\n",
        "\n",
        "- **Zero Crossing Rate (Noisiness)**: Indicates percussive/noisy content\n",
        "  - Genres with more percussion show higher rates\n",
        "  - Smooth, melodic genres have lower rates\n",
        "\n",
        "**ANOVA Results**: The F-statistic and p-values tell us whether feature means differ significantly across genres. Low p-values (< 0.05) indicate that the feature is **discriminative** - it helps distinguish genres. This validates that our audio features contain genre-relevant information.\n",
        "\n",
        "\n",
        "**Key findings**:\n",
        "- All tested features show **highly significant differences** (p < 0.001) across genres\n",
        "- This confirms our features have **discriminative power** for genre classification\n",
        "- The F-statistic measures the ratio of between-group variance to within-group variance:\n",
        "  - Higher F → feature varies more between genres than within genres\n",
        "  - Lower F → feature varies as much within genres as between them\n",
        "\n",
        "\n",
        "With more confidence in the features now, I decided to do a comparison of the feature scales to know whether or not, I'll be doing some standardizatoin. The code below shows a visualization of the feature scale and some summary statistics of the feature scale."
      ]
    },
    {
      "cell_type": "code",
      "execution_count": 20,
      "metadata": {
        "id": "rFRTIVlfVwLn"
      },
      "outputs": [
        {
          "name": "stdout",
          "output_type": "stream",
          "text": [
            "\n",
            "================================================================================\n",
            "FEATURE ANALYSIS 2: NECESSITY OF FEATURE SCALING\n",
            "================================================================================\n"
          ]
        },
        {
          "data": {
            "application/vnd.plotly.v1+json": {
              "config": {
                "plotlyServerURL": "https://plot.ly"
              },
              "data": [
                {
                  "hovertemplate": "Feature Index=%{x}<br>Range (Max - Min)=%{y}<extra></extra>",
                  "legendgroup": "",
                  "marker": {
                    "color": "#636efa",
                    "pattern": {
                      "shape": ""
                    }
                  },
                  "name": "",
                  "orientation": "v",
                  "showlegend": false,
                  "textposition": "auto",
                  "type": "bar",
                  "x": {
                    "bdata": "AAABAAIAAwAEAAUABgAHAAgACQAKAAsADAANAA4ADwAQABEAEgATABQAFQAWABcAGAAZABoAGwAcAB0AHgAfACAAIQAiACMAJAAlACYAJwAoACkAKgArACwALQAuAC8AMAAxADIAMwA0ADUANgA3ADgAOQA6ADsAPAA9AD4APwBAAEEAQgBDAEQARQBGAEcASABJAEoASwBMAE0ATgBPAFAAUQBSAFMAVABVAFYAVwBYAFkAWgBbAFwAXQBeAF8AYABhAGIAYwBkAGUAZgBnAGgAaQBqAGsAbABtAG4AbwBwAHEAcgBzAHQAdQB2AHcAeAB5AHoAewB8AH0AfgB/AIAAgQCCAIMAhACFAIYAhwCIAIkAigCLAIwAjQCOAI8AkACRAJIAkwCUAJUAlgCXAJgAmQCaAJsAnACdAJ4AnwCgAKEAogCjAKQApQCmAKcAqACpAKoAqwCsAK0ArgCvALAAsQCyALMAtAC1ALYAtwC4ALkAugC7ALwAvQC+AL8AwADBAMIAwwDEAMUAxgDHAMgAyQDKAMsAzADNAM4AzwDQANEA0gDTANQA1QDWANcA2ADZANoA2wDcAN0A3gDfAOAA4QDiAOMA5ADlAOYA5wDoAOkA6gDrAOwA7QDuAO8A8ADxAPIA8wD0APUA9gD3APgA+QD6APsA/AD9AP4A/wAAAQEBAgEDAQQBBQEGAQcBCAEJAQoBCwEMAQ0BDgEPARABEQESARMBFAEVARYBFwEYARkBGgEbARwBHQEeAR8BIAEhASIBIwEkASUBJgEnASgBKQEqASsBLAEtAS4BLwEwATEBMgEzATQBNQE2ATcBOAE5AToBOwE8AT0BPgE/AUABQQFCAUMBRAFFAUYBRwFIAUkBSgFLAUwBTQFOAU8BUAFRAVIBUwFUAVUBVgFXAVgBWQFaAVsB",
                    "dtype": "i2"
                  },
                  "xaxis": "x",
                  "y": {
                    "bdata": "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",
                    "dtype": "f8"
                  },
                  "yaxis": "y"
                }
              ],
              "layout": {
                "barmode": "relative",
                "legend": {
                  "tracegroupgap": 0
                },
                "template": {
                  "data": {
                    "bar": [
                      {
                        "error_x": {
                          "color": "#f2f5fa"
                        },
                        "error_y": {
                          "color": "#f2f5fa"
                        },
                        "marker": {
                          "line": {
                            "color": "rgb(17,17,17)",
                            "width": 0.5
                          },
                          "pattern": {
                            "fillmode": "overlay",
                            "size": 10,
                            "solidity": 0.2
                          }
                        },
                        "type": "bar"
                      }
                    ],
                    "barpolar": [
                      {
                        "marker": {
                          "line": {
                            "color": "rgb(17,17,17)",
                            "width": 0.5
                          },
                          "pattern": {
                            "fillmode": "overlay",
                            "size": 10,
                            "solidity": 0.2
                          }
                        },
                        "type": "barpolar"
                      }
                    ],
                    "carpet": [
                      {
                        "aaxis": {
                          "endlinecolor": "#A2B1C6",
                          "gridcolor": "#506784",
                          "linecolor": "#506784",
                          "minorgridcolor": "#506784",
                          "startlinecolor": "#A2B1C6"
                        },
                        "baxis": {
                          "endlinecolor": "#A2B1C6",
                          "gridcolor": "#506784",
                          "linecolor": "#506784",
                          "minorgridcolor": "#506784",
                          "startlinecolor": "#A2B1C6"
                        },
                        "type": "carpet"
                      }
                    ],
                    "choropleth": [
                      {
                        "colorbar": {
                          "outlinewidth": 0,
                          "ticks": ""
                        },
                        "type": "choropleth"
                      }
                    ],
                    "contour": [
                      {
                        "colorbar": {
                          "outlinewidth": 0,
                          "ticks": ""
                        },
                        "colorscale": [
                          [
                            0,
                            "#0d0887"
                          ],
                          [
                            0.1111111111111111,
                            "#46039f"
                          ],
                          [
                            0.2222222222222222,
                            "#7201a8"
                          ],
                          [
                            0.3333333333333333,
                            "#9c179e"
                          ],
                          [
                            0.4444444444444444,
                            "#bd3786"
                          ],
                          [
                            0.5555555555555556,
                            "#d8576b"
                          ],
                          [
                            0.6666666666666666,
                            "#ed7953"
                          ],
                          [
                            0.7777777777777778,
                            "#fb9f3a"
                          ],
                          [
                            0.8888888888888888,
                            "#fdca26"
                          ],
                          [
                            1,
                            "#f0f921"
                          ]
                        ],
                        "type": "contour"
                      }
                    ],
                    "contourcarpet": [
                      {
                        "colorbar": {
                          "outlinewidth": 0,
                          "ticks": ""
                        },
                        "type": "contourcarpet"
                      }
                    ],
                    "heatmap": [
                      {
                        "colorbar": {
                          "outlinewidth": 0,
                          "ticks": ""
                        },
                        "colorscale": [
                          [
                            0,
                            "#0d0887"
                          ],
                          [
                            0.1111111111111111,
                            "#46039f"
                          ],
                          [
                            0.2222222222222222,
                            "#7201a8"
                          ],
                          [
                            0.3333333333333333,
                            "#9c179e"
                          ],
                          [
                            0.4444444444444444,
                            "#bd3786"
                          ],
                          [
                            0.5555555555555556,
                            "#d8576b"
                          ],
                          [
                            0.6666666666666666,
                            "#ed7953"
                          ],
                          [
                            0.7777777777777778,
                            "#fb9f3a"
                          ],
                          [
                            0.8888888888888888,
                            "#fdca26"
                          ],
                          [
                            1,
                            "#f0f921"
                          ]
                        ],
                        "type": "heatmap"
                      }
                    ],
                    "histogram": [
                      {
                        "marker": {
                          "pattern": {
                            "fillmode": "overlay",
                            "size": 10,
                            "solidity": 0.2
                          }
                        },
                        "type": "histogram"
                      }
                    ],
                    "histogram2d": [
                      {
                        "colorbar": {
                          "outlinewidth": 0,
                          "ticks": ""
                        },
                        "colorscale": [
                          [
                            0,
                            "#0d0887"
                          ],
                          [
                            0.1111111111111111,
                            "#46039f"
                          ],
                          [
                            0.2222222222222222,
                            "#7201a8"
                          ],
                          [
                            0.3333333333333333,
                            "#9c179e"
                          ],
                          [
                            0.4444444444444444,
                            "#bd3786"
                          ],
                          [
                            0.5555555555555556,
                            "#d8576b"
                          ],
                          [
                            0.6666666666666666,
                            "#ed7953"
                          ],
                          [
                            0.7777777777777778,
                            "#fb9f3a"
                          ],
                          [
                            0.8888888888888888,
                            "#fdca26"
                          ],
                          [
                            1,
                            "#f0f921"
                          ]
                        ],
                        "type": "histogram2d"
                      }
                    ],
                    "histogram2dcontour": [
                      {
                        "colorbar": {
                          "outlinewidth": 0,
                          "ticks": ""
                        },
                        "colorscale": [
                          [
                            0,
                            "#0d0887"
                          ],
                          [
                            0.1111111111111111,
                            "#46039f"
                          ],
                          [
                            0.2222222222222222,
                            "#7201a8"
                          ],
                          [
                            0.3333333333333333,
                            "#9c179e"
                          ],
                          [
                            0.4444444444444444,
                            "#bd3786"
                          ],
                          [
                            0.5555555555555556,
                            "#d8576b"
                          ],
                          [
                            0.6666666666666666,
                            "#ed7953"
                          ],
                          [
                            0.7777777777777778,
                            "#fb9f3a"
                          ],
                          [
                            0.8888888888888888,
                            "#fdca26"
                          ],
                          [
                            1,
                            "#f0f921"
                          ]
                        ],
                        "type": "histogram2dcontour"
                      }
                    ],
                    "mesh3d": [
                      {
                        "colorbar": {
                          "outlinewidth": 0,
                          "ticks": ""
                        },
                        "type": "mesh3d"
                      }
                    ],
                    "parcoords": [
                      {
                        "line": {
                          "colorbar": {
                            "outlinewidth": 0,
                            "ticks": ""
                          }
                        },
                        "type": "parcoords"
                      }
                    ],
                    "pie": [
                      {
                        "automargin": true,
                        "type": "pie"
                      }
                    ],
                    "scatter": [
                      {
                        "marker": {
                          "line": {
                            "color": "#283442"
                          }
                        },
                        "type": "scatter"
                      }
                    ],
                    "scatter3d": [
                      {
                        "line": {
                          "colorbar": {
                            "outlinewidth": 0,
                            "ticks": ""
                          }
                        },
                        "marker": {
                          "colorbar": {
                            "outlinewidth": 0,
                            "ticks": ""
                          }
                        },
                        "type": "scatter3d"
                      }
                    ],
                    "scattercarpet": [
                      {
                        "marker": {
                          "colorbar": {
                            "outlinewidth": 0,
                            "ticks": ""
                          }
                        },
                        "type": "scattercarpet"
                      }
                    ],
                    "scattergeo": [
                      {
                        "marker": {
                          "colorbar": {
                            "outlinewidth": 0,
                            "ticks": ""
                          }
                        },
                        "type": "scattergeo"
                      }
                    ],
                    "scattergl": [
                      {
                        "marker": {
                          "line": {
                            "color": "#283442"
                          }
                        },
                        "type": "scattergl"
                      }
                    ],
                    "scattermap": [
                      {
                        "marker": {
                          "colorbar": {
                            "outlinewidth": 0,
                            "ticks": ""
                          }
                        },
                        "type": "scattermap"
                      }
                    ],
                    "scattermapbox": [
                      {
                        "marker": {
                          "colorbar": {
                            "outlinewidth": 0,
                            "ticks": ""
                          }
                        },
                        "type": "scattermapbox"
                      }
                    ],
                    "scatterpolar": [
                      {
                        "marker": {
                          "colorbar": {
                            "outlinewidth": 0,
                            "ticks": ""
                          }
                        },
                        "type": "scatterpolar"
                      }
                    ],
                    "scatterpolargl": [
                      {
                        "marker": {
                          "colorbar": {
                            "outlinewidth": 0,
                            "ticks": ""
                          }
                        },
                        "type": "scatterpolargl"
                      }
                    ],
                    "scatterternary": [
                      {
                        "marker": {
                          "colorbar": {
                            "outlinewidth": 0,
                            "ticks": ""
                          }
                        },
                        "type": "scatterternary"
                      }
                    ],
                    "surface": [
                      {
                        "colorbar": {
                          "outlinewidth": 0,
                          "ticks": ""
                        },
                        "colorscale": [
                          [
                            0,
                            "#0d0887"
                          ],
                          [
                            0.1111111111111111,
                            "#46039f"
                          ],
                          [
                            0.2222222222222222,
                            "#7201a8"
                          ],
                          [
                            0.3333333333333333,
                            "#9c179e"
                          ],
                          [
                            0.4444444444444444,
                            "#bd3786"
                          ],
                          [
                            0.5555555555555556,
                            "#d8576b"
                          ],
                          [
                            0.6666666666666666,
                            "#ed7953"
                          ],
                          [
                            0.7777777777777778,
                            "#fb9f3a"
                          ],
                          [
                            0.8888888888888888,
                            "#fdca26"
                          ],
                          [
                            1,
                            "#f0f921"
                          ]
                        ],
                        "type": "surface"
                      }
                    ],
                    "table": [
                      {
                        "cells": {
                          "fill": {
                            "color": "#506784"
                          },
                          "line": {
                            "color": "rgb(17,17,17)"
                          }
                        },
                        "header": {
                          "fill": {
                            "color": "#2a3f5f"
                          },
                          "line": {
                            "color": "rgb(17,17,17)"
                          }
                        },
                        "type": "table"
                      }
                    ]
                  },
                  "layout": {
                    "annotationdefaults": {
                      "arrowcolor": "#f2f5fa",
                      "arrowhead": 0,
                      "arrowwidth": 1
                    },
                    "autotypenumbers": "strict",
                    "coloraxis": {
                      "colorbar": {
                        "outlinewidth": 0,
                        "ticks": ""
                      }
                    },
                    "colorscale": {
                      "diverging": [
                        [
                          0,
                          "#8e0152"
                        ],
                        [
                          0.1,
                          "#c51b7d"
                        ],
                        [
                          0.2,
                          "#de77ae"
                        ],
                        [
                          0.3,
                          "#f1b6da"
                        ],
                        [
                          0.4,
                          "#fde0ef"
                        ],
                        [
                          0.5,
                          "#f7f7f7"
                        ],
                        [
                          0.6,
                          "#e6f5d0"
                        ],
                        [
                          0.7,
                          "#b8e186"
                        ],
                        [
                          0.8,
                          "#7fbc41"
                        ],
                        [
                          0.9,
                          "#4d9221"
                        ],
                        [
                          1,
                          "#276419"
                        ]
                      ],
                      "sequential": [
                        [
                          0,
                          "#0d0887"
                        ],
                        [
                          0.1111111111111111,
                          "#46039f"
                        ],
                        [
                          0.2222222222222222,
                          "#7201a8"
                        ],
                        [
                          0.3333333333333333,
                          "#9c179e"
                        ],
                        [
                          0.4444444444444444,
                          "#bd3786"
                        ],
                        [
                          0.5555555555555556,
                          "#d8576b"
                        ],
                        [
                          0.6666666666666666,
                          "#ed7953"
                        ],
                        [
                          0.7777777777777778,
                          "#fb9f3a"
                        ],
                        [
                          0.8888888888888888,
                          "#fdca26"
                        ],
                        [
                          1,
                          "#f0f921"
                        ]
                      ],
                      "sequentialminus": [
                        [
                          0,
                          "#0d0887"
                        ],
                        [
                          0.1111111111111111,
                          "#46039f"
                        ],
                        [
                          0.2222222222222222,
                          "#7201a8"
                        ],
                        [
                          0.3333333333333333,
                          "#9c179e"
                        ],
                        [
                          0.4444444444444444,
                          "#bd3786"
                        ],
                        [
                          0.5555555555555556,
                          "#d8576b"
                        ],
                        [
                          0.6666666666666666,
                          "#ed7953"
                        ],
                        [
                          0.7777777777777778,
                          "#fb9f3a"
                        ],
                        [
                          0.8888888888888888,
                          "#fdca26"
                        ],
                        [
                          1,
                          "#f0f921"
                        ]
                      ]
                    },
                    "colorway": [
                      "#636efa",
                      "#EF553B",
                      "#00cc96",
                      "#ab63fa",
                      "#FFA15A",
                      "#19d3f3",
                      "#FF6692",
                      "#B6E880",
                      "#FF97FF",
                      "#FECB52"
                    ],
                    "font": {
                      "color": "#f2f5fa"
                    },
                    "geo": {
                      "bgcolor": "rgb(17,17,17)",
                      "lakecolor": "rgb(17,17,17)",
                      "landcolor": "rgb(17,17,17)",
                      "showlakes": true,
                      "showland": true,
                      "subunitcolor": "#506784"
                    },
                    "hoverlabel": {
                      "align": "left"
                    },
                    "hovermode": "closest",
                    "mapbox": {
                      "style": "dark"
                    },
                    "paper_bgcolor": "rgb(17,17,17)",
                    "plot_bgcolor": "rgb(17,17,17)",
                    "polar": {
                      "angularaxis": {
                        "gridcolor": "#506784",
                        "linecolor": "#506784",
                        "ticks": ""
                      },
                      "bgcolor": "rgb(17,17,17)",
                      "radialaxis": {
                        "gridcolor": "#506784",
                        "linecolor": "#506784",
                        "ticks": ""
                      }
                    },
                    "scene": {
                      "xaxis": {
                        "backgroundcolor": "rgb(17,17,17)",
                        "gridcolor": "#506784",
                        "gridwidth": 2,
                        "linecolor": "#506784",
                        "showbackground": true,
                        "ticks": "",
                        "zerolinecolor": "#C8D4E3"
                      },
                      "yaxis": {
                        "backgroundcolor": "rgb(17,17,17)",
                        "gridcolor": "#506784",
                        "gridwidth": 2,
                        "linecolor": "#506784",
                        "showbackground": true,
                        "ticks": "",
                        "zerolinecolor": "#C8D4E3"
                      },
                      "zaxis": {
                        "backgroundcolor": "rgb(17,17,17)",
                        "gridcolor": "#506784",
                        "gridwidth": 2,
                        "linecolor": "#506784",
                        "showbackground": true,
                        "ticks": "",
                        "zerolinecolor": "#C8D4E3"
                      }
                    },
                    "shapedefaults": {
                      "line": {
                        "color": "#f2f5fa"
                      }
                    },
                    "sliderdefaults": {
                      "bgcolor": "#C8D4E3",
                      "bordercolor": "rgb(17,17,17)",
                      "borderwidth": 1,
                      "tickwidth": 0
                    },
                    "ternary": {
                      "aaxis": {
                        "gridcolor": "#506784",
                        "linecolor": "#506784",
                        "ticks": ""
                      },
                      "baxis": {
                        "gridcolor": "#506784",
                        "linecolor": "#506784",
                        "ticks": ""
                      },
                      "bgcolor": "rgb(17,17,17)",
                      "caxis": {
                        "gridcolor": "#506784",
                        "linecolor": "#506784",
                        "ticks": ""
                      }
                    },
                    "title": {
                      "x": 0.05
                    },
                    "updatemenudefaults": {
                      "bgcolor": "#506784",
                      "borderwidth": 0
                    },
                    "xaxis": {
                      "automargin": true,
                      "gridcolor": "#283442",
                      "linecolor": "#506784",
                      "ticks": "",
                      "title": {
                        "standoff": 15
                      },
                      "zerolinecolor": "#283442",
                      "zerolinewidth": 2
                    },
                    "yaxis": {
                      "automargin": true,
                      "gridcolor": "#283442",
                      "linecolor": "#506784",
                      "ticks": "",
                      "title": {
                        "standoff": 15
                      },
                      "zerolinecolor": "#283442",
                      "zerolinewidth": 2
                    }
                  }
                },
                "title": {
                  "text": "Range of Values for Each Feature (Before Scaling)",
                  "x": 0.5
                },
                "xaxis": {
                  "anchor": "y",
                  "domain": [
                    0,
                    1
                  ],
                  "title": {
                    "text": "Feature Index"
                  }
                },
                "yaxis": {
                  "anchor": "x",
                  "domain": [
                    0,
                    1
                  ],
                  "title": {
                    "text": "Range (Max - Min)"
                  }
                }
              }
            }
          },
          "metadata": {},
          "output_type": "display_data"
        },
        {
          "name": "stdout",
          "output_type": "stream",
          "text": [
            "\n",
            "**Interpretation**: The ranges of the features vary dramatically.\n",
            "  - Smallest feature range: 0.1360\n",
            "  - Largest feature range:  7,250.36\n",
            "  - Scale ratio: 53,321:1\n",
            "\n",
            "This vast difference in scales makes **Standardization** (scaling to mean=0, std=1) absolutely essential for models like Logistic Regression and beneficial for all models during optimization.\n"
          ]
        }
      ],
      "source": [
        "# --- Feature Analysis 2: Feature Scales ---\n",
        "print(f\"\\n{'='*80}\")\n",
        "print(\"FEATURE ANALYSIS 2: NECESSITY OF FEATURE SCALING\")\n",
        "print(f\"{'='*80}\")\n",
        "\n",
        "# Calculate the range (max - min) for each of the 348 features before scaling\n",
        "feature_ranges = pd.DataFrame(X_train).describe().loc['max'] - pd.DataFrame(X_train).describe().loc['min']\n",
        "\n",
        "# Create a bar plot of the feature ranges\n",
        "fig_scales = px.bar(\n",
        "    x=feature_ranges.index,\n",
        "    y=feature_ranges.values,\n",
        "    title='Range of Values for Each Feature (Before Scaling)',\n",
        "    labels={'x': 'Feature Index', 'y': 'Range (Max - Min)'},\n",
        "    template='plotly_dark'\n",
        ")\n",
        "fig_scales.update_layout(title_x=0.5)\n",
        "fig_scales.show()\n",
        "\n",
        "min_range = feature_ranges.min()\n",
        "max_range = feature_ranges.max()\n",
        "print(f\"\\n**Interpretation**: The ranges of the features vary dramatically.\")\n",
        "print(f\"  - Smallest feature range: {min_range:.4f}\")\n",
        "print(f\"  - Largest feature range:  {max_range:,.2f}\")\n",
        "print(f\"  - Scale ratio: {max_range/min_range:,.0f}:1\")\n",
        "print(\"\\nThis vast difference in scales makes **Standardization** (scaling to mean=0, std=1) absolutely essential for models like Logistic Regression and beneficial for all models during optimization.\")"
      ]
    },
    {
      "cell_type": "markdown",
      "metadata": {
        "id": "ARtqKOPdUbSP"
      },
      "source": [
        "From the visualization it is quite clear that scaling would be critical for this model construction. Some features like `spec_rollof_mean` span ranges of about 8000. Others like the `zero_crossing_mean` span ranges of ~0.1 which creates a scale difference. This is important because for a Logistic regression model, Regularization penalty $\\lambda \\|\\mathbf{w}\\|^2$ penalizes all weights equally, but to fit large-scale features, weights must be small, and to fit small-scale features, weights must be large. Thus, uneven penalties lead to poor regularization.\n",
        "\n",
        "By implementing the Standard Scaler in the pipeline for my models, the StandardScaler transforms each feature to have:\n",
        "$$\n",
        "x'_j = \\frac{x_j - \\mu_j}{\\sigma_j}\n",
        "$$\n",
        "\n",
        "After standardization:\n",
        "- All features have mean $\\mu = 0$\n",
        "- All features have standard deviation $\\sigma = 1$\n",
        "- Scale differences are eliminated\n",
        "- Optimization and modeling become fair and efficient"
      ]
    },
    {
      "cell_type": "markdown",
      "metadata": {
        "id": "TXK7xDarYUxX"
      },
      "source": [
        "# 5. Model Selection and Mathematical Underpinnings\n",
        "\n"
      ]
    },
    {
      "cell_type": "markdown",
      "metadata": {
        "id": "A6A1s4INfqtM"
      },
      "source": [
        "---\n",
        "\n",
        "## Section 5: Model Selection and Mathematical Foundations\n",
        "\n",
        "### 5.1 Overview: Supervised Multi-Class Classification\n",
        "\n",
        "This analysis addresses a **supervised multi-class classification** problem where the goal is to predict which of **20 genre families** a music track belongs to, based solely on its **78 audio features** extracted from 30-second preview clips.\n",
        "\n",
        "#### 5.1.1 Problem Formulation\n",
        "\n",
        "Given:\n",
        "- **Training data**: $\\mathcal{D} = \\{(\\mathbf{x}_i, y_i)\\}_{i=1}^{N}$ where $N = 1{,}128$ training samples\n",
        "- **Feature vectors**: $\\mathbf{x}_i \\in \\mathbb{R}^{348}$ (audio features: MFCC mean/std [40], chroma mean/std [24], spectral features [8], rhythmic features [6])\n",
        "- **Labels**: $y_i \\in \\{0, 1, ..., 19\\}$ (20 genre classes)\n",
        "\n",
        "Objective:\n",
        "- Learn a function $f: \\mathbb{R}^{348} \\rightarrow \\{0, 1, ..., 19\\}$ that accurately predicts genre labels for unseen tracks\n",
        "\n",
        "#### 5.1.2 Model Selection Strategy\n",
        "\n",
        "I will train and compare **three different architectures**, each representing distinct approaches to supervised learning:\n",
        "\n",
        "1. **Logistic Regression** - Linear probabilistic baseline (multinomial extension)\n",
        "2. **Random Forest** - Ensemble method using bagging (bootstrap aggregation)\n",
        "3. **Gradient Boosting** - Ensemble method using sequential boosting\n",
        "\n",
        "These models progress from simple linear assumptions to complex non-linear transformations, allowing systematic comparison of model sophistication versus performance on high-dimensional audio data.\n",
        "\n",
        "#### 5.1.3 Evaluation Strategy\n",
        "\n",
        "All models will be evaluated using:\n",
        "- **K-Fold Cross-Validation** (5-fold stratified) on training set for robust performance estimation\n",
        "- **Hold-out test set** (15% of data) for final unbiased evaluation\n",
        "- **Multiple metrics**: Accuracy, Precision, Recall, F1-Score (macro and weighted averages)\n",
        "- **Confusion matrices**: To understand per-genre performance and misclassification patterns\n",
        "\n",
        "---\n",
        "\n",
        "### 5.2 Model 1: Logistic Regression (Multinomial Extension)\n",
        "\n",
        "#### 5.2.1 Mathematical Foundation\n",
        "\n",
        "**Logistic Regression** generalizes binary classification to handle multi-class problems using the **softmax function**. For $K = 20$ genre classes, the model learns:\n",
        "- Weight matrix: $\\mathbf{W} \\in \\mathbb{R}^{K \\times d}$ where $d = 348$ features\n",
        "- Bias vector: $\\mathbf{b} \\in \\mathbb{R}^{K}$\n",
        "\n",
        "**Probability distribution** over classes given input $\\mathbf{x}$:\n",
        "\n",
        "$$\n",
        "P(y = k | \\mathbf{x}; \\mathbf{W}, \\mathbf{b}) = \\frac{\\exp(\\mathbf{w}_k^T \\mathbf{x} + b_k)}{\\sum_{j=1}^{K} \\exp(\\mathbf{w}_j^T \\mathbf{x} + b_j)} = \\text{softmax}(\\mathbf{W}\\mathbf{x} + \\mathbf{b})_k\n",
        "$$\n",
        "\n",
        "where $\\mathbf{w}_k$ is the $k$-th row of $\\mathbf{W}$ (weight vector for class $k$).\n",
        "\n",
        "**Prediction**: Choose the class with maximum probability:\n",
        "\n",
        "$$\n",
        "\\hat{y} = \\arg\\max_{k} P(y = k | \\mathbf{x})\n",
        "$$\n",
        "\n",
        "#### 5.2.2 Loss Function: Cross-Entropy\n",
        "\n",
        "The model is trained by minimizing the **categorical cross-entropy loss**:\n",
        "\n",
        "$$\n",
        "\\mathcal{L}(\\mathbf{W}, \\mathbf{b}) = -\\frac{1}{N} \\sum_{i=1}^{N} \\sum_{k=1}^{K} \\mathbb{1}\\{y_i = k\\} \\log P(y = k | \\mathbf{x}_i; \\mathbf{W}, \\mathbf{b})\n",
        "$$\n",
        "\n",
        "where $\\mathbb{1}\\{\\cdot\\}$ is the indicator function (1 if true, 0 if false).\n",
        "\n",
        "**With L2 regularization** to prevent overfitting:\n",
        "\n",
        "$$\n",
        "\\mathcal{L}_{reg}(\\mathbf{W}, \\mathbf{b}) = \\mathcal{L}(\\mathbf{W}, \\mathbf{b}) + \\lambda \\|\\mathbf{W}\\|_F^2\n",
        "$$\n",
        "\n",
        "where $\\|\\mathbf{W}\\|_F$ is the Frobenius norm and $\\lambda$ controls regularization strength.\n",
        "\n",
        "#### 5.2.3 Optimization\n",
        "\n",
        "The model is trained using **gradient descent** or variants (e.g., L-BFGS):\n",
        "\n",
        "$$\n",
        "\\mathbf{W} \\leftarrow \\mathbf{W} - \\eta \\nabla_{\\mathbf{W}} \\mathcal{L}_{reg}\n",
        "$$\n",
        "\n",
        "where $\\eta$ is the learning rate.\n",
        "\n",
        "**Gradient with respect to $\\mathbf{w}_k$**:\n",
        "\n",
        "$$\n",
        "\\nabla_{\\mathbf{w}_k} \\mathcal{L} = \\frac{1}{N} \\sum_{i=1}^{N} \\left( P(y = k | \\mathbf{x}_i) - \\mathbb{1}\\{y_i = k\\} \\right) \\mathbf{x}_i\n",
        "$$\n",
        "\n",
        "#### 5.2.4 Why Logistic Regression?\n",
        "\n",
        "**Advantages**:\n",
        "- Fast training and prediction (linear complexity in features)\n",
        "- Provides calibrated probability estimates\n",
        "- Interpretable: weights indicate feature importance for each genre\n",
        "- Baseline for comparison with non-linear models\n",
        "\n",
        "**Limitations**:\n",
        "- Assumes linear decision boundaries (may underfit complex patterns)\n",
        "- Cannot capture feature interactions automatically\n",
        "- Sensitive to class imbalance (38:1 ratio in our data)\n",
        "- Requires feature scaling (the features span ~60,000:1 scale differences)\n",
        "\n",
        "**Expected Performance**: Will serve as a fast baseline, likely achieving moderate accuracy but may struggle with genres that require non-linear feature combinations.\n",
        "\n",
        "---\n",
        "\n",
        "### 5.3 Model 2: Random Forest\n",
        "\n",
        "#### 5.3.1 Decision Tree Foundation\n",
        "\n",
        "A **decision tree** recursively partitions the feature space by selecting optimal splits:\n",
        "\n",
        "At each node, choose feature $j$ and threshold $t$ to maximize **information gain**:\n",
        "\n",
        "$$\n",
        "\\text{InfoGain}(j, t) = \\text{Impurity}(S) - \\sum_{v \\in \\{L, R\\}} \\frac{|S_v|}{|S|} \\text{Impurity}(S_v)\n",
        "$$\n",
        "\n",
        "where $S$ is the current node's samples, $S_L$ and $S_R$ are left and right children after splitting on feature $j$ at threshold $t$.\n",
        "\n",
        "**Gini Impurity** measures node purity:\n",
        "\n",
        "$$\n",
        "\\text{Gini}(S) = 1 - \\sum_{k=1}^{K} p_k^2\n",
        "$$\n",
        "\n",
        "where $p_k = \\frac{1}{|S|}\\sum_{i \\in S} \\mathbb{1}\\{y_i = k\\}$ is the proportion of class $k$ in node $S$.\n",
        "\n",
        "- Gini = 0: All samples in $S$ belong to one class (pure)\n",
        "- Gini = $1 - \\frac{1}{K}$: Classes uniformly distributed (maximum impurity for $K$ classes)\n",
        "\n",
        "#### 5.3.2 Random Forest Algorithm\n",
        "\n",
        "**Random Forest** is an ensemble of $T$ decision trees trained with **bagging** (bootstrap aggregation) and **feature randomization**:\n",
        "\n",
        "**Training** (for each tree $t = 1, ..., T$):\n",
        "1. **Bootstrap sample**: Randomly sample $N$ training examples with replacement from $\\mathcal{D}$\n",
        "2. **Grow tree**: At each split, randomly select $m = \\sqrt{d} \\approx \\sqrt{348} \\approx 19$ features and find the best split among them\n",
        "3. **No pruning**: Grow trees until leaves are pure or contain $< n_{min}$ samples\n",
        "\n",
        "**Prediction** (majority vote):\n",
        "\n",
        "$$\n",
        "\\hat{y} = \\text{mode}\\{h_1(\\mathbf{x}), h_2(\\mathbf{x}), ..., h_T(\\mathbf{x})\\}\n",
        "$$\n",
        "\n",
        "where $h_t(\\mathbf{x})$ is the prediction of tree $t$.\n",
        "\n",
        "#### 5.3.3 Why Randomness Reduces Overfitting\n",
        "\n",
        "Two sources of randomness ensure **diversity** among trees:\n",
        "\n",
        "1. **Bagging**: Each tree trained on different bootstrap sample (~63% of data, some samples repeated)\n",
        "2. **Feature randomization**: Each split considers only $m \\ll d$ random features\n",
        "\n",
        "**Bias-Variance Tradeoff**:\n",
        "- Individual deep trees: Low bias (flexible), high variance (overfit to training data)\n",
        "- Averaging predictions: Reduces variance without increasing bias\n",
        "- Decorrelated trees via randomness: Maximizes variance reduction\n",
        "\n",
        "#### 5.3.4 Why Random Forest?\n",
        "\n",
        "**Advantages**:\n",
        "- Captures non-linear patterns and feature interactions naturally\n",
        "- Robust to outliers and noise\n",
        "- Handles high-dimensional data ($d = 78$) without explicit feature selection\n",
        "- Provides feature importance measures (mean decrease in Gini impurity)\n",
        "- Little hyperparameter tuning needed\n",
        "- Parallel training (trees independent)\n",
        "\n",
        "**Limitations**:\n",
        "- Less interpretable than linear models (black box)\n",
        "- Can be slow on very large datasets\n",
        "- Still affected by severe class imbalance (38:1 ratio)\n",
        "- May require many trees for stable predictions\n",
        "\n",
        "**Expected Performance**: Should outperform Logistic Regression by capturing non-linear relationships between MFCC, chroma, and spectral features.\n",
        "\n",
        "---\n",
        "\n",
        "### 5.4 Model 3: Gradient Boosting\n",
        "\n",
        "#### 5.4.1 Sequential Ensemble Learning\n",
        "\n",
        "**Gradient Boosting** builds an ensemble of trees **sequentially**, where each new tree corrects errors of the previous ensemble:\n",
        "\n",
        "$$\n",
        "F_M(\\mathbf{x}) = F_0(\\mathbf{x}) + \\sum_{m=1}^{M} \\nu \\cdot h_m(\\mathbf{x})\n",
        "$$\n",
        "\n",
        "where:\n",
        "- $M$ = number of boosting stages (trees)\n",
        "- $h_m(\\mathbf{x})$ = $m$-th tree (weak learner, typically shallow with depth 3-8)\n",
        "- $\\nu \\in (0, 1]$ = learning rate (shrinkage factor to prevent overfitting)\n",
        "- $F_0(\\mathbf{x})$ = initial constant prediction\n",
        "\n",
        "#### 5.4.2 Training Algorithm (Gradient Descent in Function Space)\n",
        "\n",
        "**Initialize**: Start with constant prediction (e.g., log-odds of most frequent class):\n",
        "\n",
        "$$\n",
        "F_0(\\mathbf{x}) = \\arg\\min_{\\gamma} \\sum_{i=1}^{N} \\mathcal{L}(y_i, \\gamma)\n",
        "$$\n",
        "\n",
        "**For $m = 1$ to $M$**:\n",
        "\n",
        "1. **Compute pseudo-residuals** (negative gradient of loss w.r.t. current predictions):\n",
        "\n",
        "$$\n",
        "r_{im} = -\\left[\\frac{\\partial \\mathcal{L}(y_i, F(\\mathbf{x}_i))}{\\partial F(\\mathbf{x}_i)}\\right]_{F = F_{m-1}}\n",
        "$$\n",
        "\n",
        "For multi-class cross-entropy loss, this simplifies to:\n",
        "\n",
        "$$\n",
        "r_{ikm} = \\mathbb{1}\\{y_i = k\\} - P(y = k | \\mathbf{x}_i; F_{m-1})\n",
        "$$\n",
        "\n",
        "(residual = true label - predicted probability for class $k$)\n",
        "\n",
        "2. **Fit weak learner**: Train a shallow regression tree $h_m$ to predict pseudo-residuals:\n",
        "\n",
        "$$\n",
        "h_m = \\arg\\min_{h} \\sum_{i=1}^{N} (r_{im} - h(\\mathbf{x}_i))^2\n",
        "$$\n",
        "\n",
        "3. **Update ensemble** with learning rate $\\nu$:\n",
        "\n",
        "$$\n",
        "F_m(\\mathbf{x}) = F_{m-1}(\\mathbf{x}) + \\nu \\cdot h_m(\\mathbf{x})\n",
        "$$\n",
        "\n",
        "**Final prediction**: Convert ensemble output to probabilities via softmax:\n",
        "\n",
        "$$\n",
        "P(y = k | \\mathbf{x}) = \\frac{\\exp(F_M^{(k)}(\\mathbf{x}))}{\\sum_{j=1}^{K} \\exp(F_M^{(j)}(\\mathbf{x}))}\n",
        "$$\n",
        "\n",
        "#### 5.4.3 Key Hyperparameters\n",
        "\n",
        "- `n_estimators`: Number of boosting stages $M$ (more trees = better fit, but risk overfitting)\n",
        "- `learning_rate`: $\\nu$ (smaller = more conservative, needs more trees)\n",
        "- `max_depth`: Tree depth (3-8 typical; shallow trees prevent overfitting)\n",
        "- `subsample`: Fraction of samples per tree (stochastic gradient boosting)\n",
        "\n",
        "#### 5.4.4 Why Gradient Boosting?\n",
        "\n",
        "**Advantages**:\n",
        "- Often achieves state-of-the-art accuracy on tabular data\n",
        "- Adaptive learning: focuses on difficult examples (misclassified tracks)\n",
        "- Captures complex interactions and non-linear patterns\n",
        "- Efficient with proper regularization (learning rate, tree depth)\n",
        "\n",
        "**Limitations**:\n",
        "- Sensitive to hyperparameters (requires careful tuning)\n",
        "- Sequential training (cannot parallelize across trees)\n",
        "- Risk of overfitting if $M$ too large or trees too deep\n",
        "- Sensitive to class imbalance (may overfit to majority class)\n",
        "- Slower training than Random Forest\n",
        "\n",
        "**Expected Performance**: Likely highest accuracy among the three models if properly tuned, but may struggle with rare genres (e.g., \"amapiano\" with 11 samples).\n",
        "\n",
        "---\n",
        "\n",
        "\n",
        "The table below summarizes the key differences between our three models:\n",
        "\n",
        "| Aspect | Logistic Regression | Random Forest | Gradient Boosting |\n",
        "|--------|---------------------|---------------|-------------------|\n",
        "| **Type** | Discriminative | Discriminative | Discriminative |\n",
        "| **Complexity** | Linear | Nonlinear | Nonlinear |\n",
        "| **Parameters** | $348 \\times 20 = 6{,}960$ | $T$ trees (100) | $M$ trees (100) |\n",
        "| **Training Speed** | Fast | Medium | Slow (sequential) |\n",
        "| **Prediction Speed** | Very Fast | Fast | Fast |\n",
        "| **Interpretability** | High (weights) | Medium (feature importance) | Low |\n",
        "| **Overfitting Risk** | Low (L2 reg) | Medium | High (if not tuned) |\n",
        "| **Feature Interactions** | No | Yes (tree splits) | Yes (tree splits) |\n",
        "| **Probability Calibration** | Excellent | Good | Good |\n",
        "| **Class Imbalance Handling** | Poor | Moderate | Moderate |\n",
        "| **Best For** | Fast baseline | General purpose | Maximum accuracy |\n",
        "\n",
        "**Expected Performance Ranking** (on our 348-feature, 20-genre, 1,612-sample dataset):\n",
        "\n",
        "1. **Gradient Boosting** (likely highest accuracy if tuned, but risk of overfitting to \"Unknown\")\n",
        "2. **Random Forest** (solid performance, robust to overfitting)\n",
        "3. **Logistic Regression** (fast baseline, linear limitations)\n",
        "\n",
        "**Actual performance** will be determined empirically in Section 6 (cross-validation) and Section 7 (test set evaluation).\n"
      ]
    },
    {
      "cell_type": "markdown",
      "metadata": {
        "id": "kX6HJgVBvsB7"
      },
      "source": [
        "# 6. Training The Model & Cross Validation Setup\n",
        "\n",
        "To get a reliable estimate of each model's performance, we will use **5-fold stratified cross-validation**. This process involves:\n",
        "1.  Splitting the training data (`X_train`, `y_train`) into 5 \"folds\".\n",
        "2.  Training each model on 4 of the folds and evaluating it on the 5th (the \"hold-out\" fold).\n",
        "3.  Repeating this process 5 times, ensuring each fold is used as the hold-out set exactly once.\n",
        "4.  Averaging the performance metrics (Accuracy, Precision, Recall, F1-Score) across all 5 folds.\n",
        "\n",
        "This approach gives a more robust measure of generalization performance than a single train/validation split and helps ensure our results are not due to a lucky or unlucky split of the data. We will store the results in a DataFrame for easy comparison.\n",
        "\n"
      ]
    },
    {
      "cell_type": "code",
      "execution_count": 22,
      "metadata": {
        "id": "RikNFx8aYPHt"
      },
      "outputs": [
        {
          "name": "stdout",
          "output_type": "stream",
          "text": [
            "Running cross-validation for Logistic Regression...\n"
          ]
        },
        {
          "name": "stderr",
          "output_type": "stream",
          "text": [
            "/Users/fdeclan/Public/ml_pipeline/.venv/lib/python3.9/site-packages/sklearn/linear_model/_linear_loss.py:203: RuntimeWarning: divide by zero encountered in matmul\n",
            "  raw_prediction = X @ weights.T + intercept  # ndarray, likely C-contiguous\n",
            "/Users/fdeclan/Public/ml_pipeline/.venv/lib/python3.9/site-packages/sklearn/linear_model/_linear_loss.py:203: RuntimeWarning: overflow encountered in matmul\n",
            "  raw_prediction = X @ weights.T + intercept  # ndarray, likely C-contiguous\n",
            "/Users/fdeclan/Public/ml_pipeline/.venv/lib/python3.9/site-packages/sklearn/linear_model/_linear_loss.py:203: RuntimeWarning: invalid value encountered in matmul\n",
            "  raw_prediction = X @ weights.T + intercept  # ndarray, likely C-contiguous\n",
            "/Users/fdeclan/Public/ml_pipeline/.venv/lib/python3.9/site-packages/sklearn/linear_model/_linear_loss.py:203: RuntimeWarning: divide by zero encountered in matmul\n",
            "  raw_prediction = X @ weights.T + intercept  # ndarray, likely C-contiguous\n",
            "/Users/fdeclan/Public/ml_pipeline/.venv/lib/python3.9/site-packages/sklearn/linear_model/_linear_loss.py:203: RuntimeWarning: divide by zero encountered in matmul\n",
            "  raw_prediction = X @ weights.T + intercept  # ndarray, likely C-contiguous\n",
            "/Users/fdeclan/Public/ml_pipeline/.venv/lib/python3.9/site-packages/sklearn/linear_model/_linear_loss.py:203: RuntimeWarning: overflow encountered in matmul\n",
            "  raw_prediction = X @ weights.T + intercept  # ndarray, likely C-contiguous\n",
            "/Users/fdeclan/Public/ml_pipeline/.venv/lib/python3.9/site-packages/sklearn/linear_model/_linear_loss.py:203: RuntimeWarning: invalid value encountered in matmul\n",
            "  raw_prediction = X @ weights.T + intercept  # ndarray, likely C-contiguous\n",
            "/Users/fdeclan/Public/ml_pipeline/.venv/lib/python3.9/site-packages/sklearn/linear_model/_linear_loss.py:203: RuntimeWarning: overflow encountered in matmul\n",
            "  raw_prediction = X @ weights.T + intercept  # ndarray, likely C-contiguous\n",
            "/Users/fdeclan/Public/ml_pipeline/.venv/lib/python3.9/site-packages/sklearn/linear_model/_linear_loss.py:203: RuntimeWarning: invalid value encountered in matmul\n",
            "  raw_prediction = X @ weights.T + intercept  # ndarray, likely C-contiguous\n",
            "/Users/fdeclan/Public/ml_pipeline/.venv/lib/python3.9/site-packages/sklearn/linear_model/_linear_loss.py:203: RuntimeWarning: divide by zero encountered in matmul\n",
            "  raw_prediction = X @ weights.T + intercept  # ndarray, likely C-contiguous\n",
            "/Users/fdeclan/Public/ml_pipeline/.venv/lib/python3.9/site-packages/sklearn/linear_model/_linear_loss.py:203: RuntimeWarning: overflow encountered in matmul\n",
            "  raw_prediction = X @ weights.T + intercept  # ndarray, likely C-contiguous\n",
            "/Users/fdeclan/Public/ml_pipeline/.venv/lib/python3.9/site-packages/sklearn/linear_model/_linear_loss.py:203: RuntimeWarning: invalid value encountered in matmul\n",
            "  raw_prediction = X @ weights.T + intercept  # ndarray, likely C-contiguous\n",
            "/Users/fdeclan/Public/ml_pipeline/.venv/lib/python3.9/site-packages/sklearn/linear_model/_linear_loss.py:203: RuntimeWarning: divide by zero encountered in matmul\n",
            "  raw_prediction = X @ weights.T + intercept  # ndarray, likely C-contiguous\n",
            "/Users/fdeclan/Public/ml_pipeline/.venv/lib/python3.9/site-packages/sklearn/linear_model/_linear_loss.py:203: RuntimeWarning: overflow encountered in matmul\n",
            "  raw_prediction = X @ weights.T + intercept  # ndarray, likely C-contiguous\n",
            "/Users/fdeclan/Public/ml_pipeline/.venv/lib/python3.9/site-packages/sklearn/linear_model/_linear_loss.py:203: RuntimeWarning: invalid value encountered in matmul\n",
            "  raw_prediction = X @ weights.T + intercept  # ndarray, likely C-contiguous\n",
            "/Users/fdeclan/Public/ml_pipeline/.venv/lib/python3.9/site-packages/sklearn/linear_model/_linear_loss.py:336: RuntimeWarning: divide by zero encountered in matmul\n",
            "  grad[:, :n_features] = grad_pointwise.T @ X + l2_reg_strength * weights\n",
            "/Users/fdeclan/Public/ml_pipeline/.venv/lib/python3.9/site-packages/sklearn/linear_model/_linear_loss.py:336: RuntimeWarning: divide by zero encountered in matmul\n",
            "  grad[:, :n_features] = grad_pointwise.T @ X + l2_reg_strength * weights\n",
            "/Users/fdeclan/Public/ml_pipeline/.venv/lib/python3.9/site-packages/sklearn/linear_model/_linear_loss.py:336: RuntimeWarning: overflow encountered in matmul\n",
            "  grad[:, :n_features] = grad_pointwise.T @ X + l2_reg_strength * weights\n",
            "/Users/fdeclan/Public/ml_pipeline/.venv/lib/python3.9/site-packages/sklearn/linear_model/_linear_loss.py:336: RuntimeWarning: overflow encountered in matmul\n",
            "  grad[:, :n_features] = grad_pointwise.T @ X + l2_reg_strength * weights\n",
            "/Users/fdeclan/Public/ml_pipeline/.venv/lib/python3.9/site-packages/sklearn/linear_model/_linear_loss.py:336: RuntimeWarning: invalid value encountered in matmul\n",
            "  grad[:, :n_features] = grad_pointwise.T @ X + l2_reg_strength * weights\n",
            "/Users/fdeclan/Public/ml_pipeline/.venv/lib/python3.9/site-packages/sklearn/linear_model/_linear_loss.py:336: RuntimeWarning: invalid value encountered in matmul\n",
            "  grad[:, :n_features] = grad_pointwise.T @ X + l2_reg_strength * weights\n",
            "/Users/fdeclan/Public/ml_pipeline/.venv/lib/python3.9/site-packages/sklearn/linear_model/_linear_loss.py:336: RuntimeWarning: divide by zero encountered in matmul\n",
            "  grad[:, :n_features] = grad_pointwise.T @ X + l2_reg_strength * weights\n",
            "/Users/fdeclan/Public/ml_pipeline/.venv/lib/python3.9/site-packages/sklearn/linear_model/_linear_loss.py:336: RuntimeWarning: overflow encountered in matmul\n",
            "  grad[:, :n_features] = grad_pointwise.T @ X + l2_reg_strength * weights\n",
            "/Users/fdeclan/Public/ml_pipeline/.venv/lib/python3.9/site-packages/sklearn/linear_model/_linear_loss.py:336: RuntimeWarning: invalid value encountered in matmul\n",
            "  grad[:, :n_features] = grad_pointwise.T @ X + l2_reg_strength * weights\n",
            "/Users/fdeclan/Public/ml_pipeline/.venv/lib/python3.9/site-packages/sklearn/linear_model/_linear_loss.py:336: RuntimeWarning: divide by zero encountered in matmul\n",
            "  grad[:, :n_features] = grad_pointwise.T @ X + l2_reg_strength * weights\n",
            "/Users/fdeclan/Public/ml_pipeline/.venv/lib/python3.9/site-packages/sklearn/linear_model/_linear_loss.py:336: RuntimeWarning: overflow encountered in matmul\n",
            "  grad[:, :n_features] = grad_pointwise.T @ X + l2_reg_strength * weights\n",
            "/Users/fdeclan/Public/ml_pipeline/.venv/lib/python3.9/site-packages/sklearn/linear_model/_linear_loss.py:336: RuntimeWarning: invalid value encountered in matmul\n",
            "  grad[:, :n_features] = grad_pointwise.T @ X + l2_reg_strength * weights\n",
            "/Users/fdeclan/Public/ml_pipeline/.venv/lib/python3.9/site-packages/sklearn/linear_model/_linear_loss.py:336: RuntimeWarning: divide by zero encountered in matmul\n",
            "  grad[:, :n_features] = grad_pointwise.T @ X + l2_reg_strength * weights\n",
            "/Users/fdeclan/Public/ml_pipeline/.venv/lib/python3.9/site-packages/sklearn/linear_model/_linear_loss.py:336: RuntimeWarning: overflow encountered in matmul\n",
            "  grad[:, :n_features] = grad_pointwise.T @ X + l2_reg_strength * weights\n",
            "/Users/fdeclan/Public/ml_pipeline/.venv/lib/python3.9/site-packages/sklearn/linear_model/_linear_loss.py:336: RuntimeWarning: invalid value encountered in matmul\n",
            "  grad[:, :n_features] = grad_pointwise.T @ X + l2_reg_strength * weights\n",
            "/Users/fdeclan/Public/ml_pipeline/.venv/lib/python3.9/site-packages/sklearn/utils/extmath.py:203: RuntimeWarning: divide by zero encountered in matmul\n",
            "  ret = a @ b\n",
            "/Users/fdeclan/Public/ml_pipeline/.venv/lib/python3.9/site-packages/sklearn/utils/extmath.py:203: RuntimeWarning: overflow encountered in matmul\n",
            "  ret = a @ b\n",
            "/Users/fdeclan/Public/ml_pipeline/.venv/lib/python3.9/site-packages/sklearn/utils/extmath.py:203: RuntimeWarning: invalid value encountered in matmul\n",
            "  ret = a @ b\n",
            "/Users/fdeclan/Public/ml_pipeline/.venv/lib/python3.9/site-packages/sklearn/metrics/_classification.py:1565: UndefinedMetricWarning: Precision is ill-defined and being set to 0.0 in labels with no predicted samples. Use `zero_division` parameter to control this behavior.\n",
            "  _warn_prf(average, modifier, f\"{metric.capitalize()} is\", len(result))\n",
            "/Users/fdeclan/Public/ml_pipeline/.venv/lib/python3.9/site-packages/sklearn/utils/extmath.py:203: RuntimeWarning: divide by zero encountered in matmul\n",
            "  ret = a @ b\n",
            "/Users/fdeclan/Public/ml_pipeline/.venv/lib/python3.9/site-packages/sklearn/utils/extmath.py:203: RuntimeWarning: overflow encountered in matmul\n",
            "  ret = a @ b\n",
            "/Users/fdeclan/Public/ml_pipeline/.venv/lib/python3.9/site-packages/sklearn/utils/extmath.py:203: RuntimeWarning: invalid value encountered in matmul\n",
            "  ret = a @ b\n",
            "/Users/fdeclan/Public/ml_pipeline/.venv/lib/python3.9/site-packages/sklearn/utils/extmath.py:203: RuntimeWarning: divide by zero encountered in matmul\n",
            "  ret = a @ b\n",
            "/Users/fdeclan/Public/ml_pipeline/.venv/lib/python3.9/site-packages/sklearn/utils/extmath.py:203: RuntimeWarning: overflow encountered in matmul\n",
            "  ret = a @ b\n",
            "/Users/fdeclan/Public/ml_pipeline/.venv/lib/python3.9/site-packages/sklearn/utils/extmath.py:203: RuntimeWarning: invalid value encountered in matmul\n",
            "  ret = a @ b\n",
            "/Users/fdeclan/Public/ml_pipeline/.venv/lib/python3.9/site-packages/sklearn/metrics/_classification.py:1565: UndefinedMetricWarning: Precision is ill-defined and being set to 0.0 in labels with no predicted samples. Use `zero_division` parameter to control this behavior.\n",
            "  _warn_prf(average, modifier, f\"{metric.capitalize()} is\", len(result))\n",
            "/Users/fdeclan/Public/ml_pipeline/.venv/lib/python3.9/site-packages/sklearn/utils/extmath.py:203: RuntimeWarning: divide by zero encountered in matmul\n",
            "  ret = a @ b\n",
            "/Users/fdeclan/Public/ml_pipeline/.venv/lib/python3.9/site-packages/sklearn/utils/extmath.py:203: RuntimeWarning: overflow encountered in matmul\n",
            "  ret = a @ b\n",
            "/Users/fdeclan/Public/ml_pipeline/.venv/lib/python3.9/site-packages/sklearn/utils/extmath.py:203: RuntimeWarning: invalid value encountered in matmul\n",
            "  ret = a @ b\n",
            "/Users/fdeclan/Public/ml_pipeline/.venv/lib/python3.9/site-packages/sklearn/metrics/_classification.py:1565: UndefinedMetricWarning: Precision is ill-defined and being set to 0.0 in labels with no predicted samples. Use `zero_division` parameter to control this behavior.\n",
            "  _warn_prf(average, modifier, f\"{metric.capitalize()} is\", len(result))\n",
            "/Users/fdeclan/Public/ml_pipeline/.venv/lib/python3.9/site-packages/sklearn/metrics/_classification.py:1565: UndefinedMetricWarning: Precision is ill-defined and being set to 0.0 in labels with no predicted samples. Use `zero_division` parameter to control this behavior.\n",
            "  _warn_prf(average, modifier, f\"{metric.capitalize()} is\", len(result))\n",
            "/Users/fdeclan/Public/ml_pipeline/.venv/lib/python3.9/site-packages/sklearn/utils/extmath.py:203: RuntimeWarning: divide by zero encountered in matmul\n",
            "  ret = a @ b\n",
            "/Users/fdeclan/Public/ml_pipeline/.venv/lib/python3.9/site-packages/sklearn/utils/extmath.py:203: RuntimeWarning: overflow encountered in matmul\n",
            "  ret = a @ b\n",
            "/Users/fdeclan/Public/ml_pipeline/.venv/lib/python3.9/site-packages/sklearn/utils/extmath.py:203: RuntimeWarning: invalid value encountered in matmul\n",
            "  ret = a @ b\n",
            "/Users/fdeclan/Public/ml_pipeline/.venv/lib/python3.9/site-packages/sklearn/metrics/_classification.py:1565: UndefinedMetricWarning: Precision is ill-defined and being set to 0.0 in labels with no predicted samples. Use `zero_division` parameter to control this behavior.\n",
            "  _warn_prf(average, modifier, f\"{metric.capitalize()} is\", len(result))\n"
          ]
        },
        {
          "name": "stdout",
          "output_type": "stream",
          "text": [
            "Finished for Logistic Regression.\n",
            "Running cross-validation for Random Forest...\n"
          ]
        },
        {
          "name": "stderr",
          "output_type": "stream",
          "text": [
            "/Users/fdeclan/Public/ml_pipeline/.venv/lib/python3.9/site-packages/sklearn/metrics/_classification.py:1565: UndefinedMetricWarning: Precision is ill-defined and being set to 0.0 in labels with no predicted samples. Use `zero_division` parameter to control this behavior.\n",
            "  _warn_prf(average, modifier, f\"{metric.capitalize()} is\", len(result))\n",
            "/Users/fdeclan/Public/ml_pipeline/.venv/lib/python3.9/site-packages/sklearn/metrics/_classification.py:1565: UndefinedMetricWarning: Precision is ill-defined and being set to 0.0 in labels with no predicted samples. Use `zero_division` parameter to control this behavior.\n",
            "  _warn_prf(average, modifier, f\"{metric.capitalize()} is\", len(result))\n",
            "/Users/fdeclan/Public/ml_pipeline/.venv/lib/python3.9/site-packages/sklearn/metrics/_classification.py:1565: UndefinedMetricWarning: Precision is ill-defined and being set to 0.0 in labels with no predicted samples. Use `zero_division` parameter to control this behavior.\n",
            "  _warn_prf(average, modifier, f\"{metric.capitalize()} is\", len(result))\n",
            "/Users/fdeclan/Public/ml_pipeline/.venv/lib/python3.9/site-packages/sklearn/metrics/_classification.py:1565: UndefinedMetricWarning: Precision is ill-defined and being set to 0.0 in labels with no predicted samples. Use `zero_division` parameter to control this behavior.\n",
            "  _warn_prf(average, modifier, f\"{metric.capitalize()} is\", len(result))\n",
            "/Users/fdeclan/Public/ml_pipeline/.venv/lib/python3.9/site-packages/sklearn/metrics/_classification.py:1565: UndefinedMetricWarning: Precision is ill-defined and being set to 0.0 in labels with no predicted samples. Use `zero_division` parameter to control this behavior.\n",
            "  _warn_prf(average, modifier, f\"{metric.capitalize()} is\", len(result))\n"
          ]
        },
        {
          "name": "stdout",
          "output_type": "stream",
          "text": [
            "Finished for Random Forest.\n",
            "Running cross-validation for Gradient Boosting...\n"
          ]
        },
        {
          "name": "stderr",
          "output_type": "stream",
          "text": [
            "/Users/fdeclan/Public/ml_pipeline/.venv/lib/python3.9/site-packages/sklearn/metrics/_classification.py:1565: UndefinedMetricWarning: Precision is ill-defined and being set to 0.0 in labels with no predicted samples. Use `zero_division` parameter to control this behavior.\n",
            "  _warn_prf(average, modifier, f\"{metric.capitalize()} is\", len(result))\n",
            "/Users/fdeclan/Public/ml_pipeline/.venv/lib/python3.9/site-packages/sklearn/metrics/_classification.py:1565: UndefinedMetricWarning: Precision is ill-defined and being set to 0.0 in labels with no predicted samples. Use `zero_division` parameter to control this behavior.\n",
            "  _warn_prf(average, modifier, f\"{metric.capitalize()} is\", len(result))\n",
            "/Users/fdeclan/Public/ml_pipeline/.venv/lib/python3.9/site-packages/sklearn/metrics/_classification.py:1565: UndefinedMetricWarning: Precision is ill-defined and being set to 0.0 in labels with no predicted samples. Use `zero_division` parameter to control this behavior.\n",
            "  _warn_prf(average, modifier, f\"{metric.capitalize()} is\", len(result))\n",
            "/Users/fdeclan/Public/ml_pipeline/.venv/lib/python3.9/site-packages/sklearn/metrics/_classification.py:1565: UndefinedMetricWarning: Precision is ill-defined and being set to 0.0 in labels with no predicted samples. Use `zero_division` parameter to control this behavior.\n",
            "  _warn_prf(average, modifier, f\"{metric.capitalize()} is\", len(result))\n",
            "/Users/fdeclan/Public/ml_pipeline/.venv/lib/python3.9/site-packages/sklearn/metrics/_classification.py:1565: UndefinedMetricWarning: Precision is ill-defined and being set to 0.0 in labels with no predicted samples. Use `zero_division` parameter to control this behavior.\n",
            "  _warn_prf(average, modifier, f\"{metric.capitalize()} is\", len(result))\n"
          ]
        },
        {
          "name": "stdout",
          "output_type": "stream",
          "text": [
            "Finished for Gradient Boosting.\n"
          ]
        },
        {
          "data": {
            "text/html": [
              "<style type=\"text/css\">\n",
              "</style>\n",
              "<table id=\"T_da379\">\n",
              "  <caption>5-Fold Cross-Validation Results</caption>\n",
              "  <thead>\n",
              "    <tr>\n",
              "      <th id=\"T_da379_level0_col0\" class=\"col_heading level0 col0\" >Model</th>\n",
              "      <th id=\"T_da379_level0_col1\" class=\"col_heading level0 col1\" >Accuracy</th>\n",
              "      <th id=\"T_da379_level0_col2\" class=\"col_heading level0 col2\" >Precision</th>\n",
              "      <th id=\"T_da379_level0_col3\" class=\"col_heading level0 col3\" >Recall</th>\n",
              "      <th id=\"T_da379_level0_col4\" class=\"col_heading level0 col4\" >F1-Score</th>\n",
              "    </tr>\n",
              "  </thead>\n",
              "  <tbody>\n",
              "    <tr>\n",
              "      <td id=\"T_da379_row0_col0\" class=\"data row0 col0\" >Logistic Regression</td>\n",
              "      <td id=\"T_da379_row0_col1\" class=\"data row0 col1\" >0.5886</td>\n",
              "      <td id=\"T_da379_row0_col2\" class=\"data row0 col2\" >0.5735</td>\n",
              "      <td id=\"T_da379_row0_col3\" class=\"data row0 col3\" >0.5886</td>\n",
              "      <td id=\"T_da379_row0_col4\" class=\"data row0 col4\" >0.5714</td>\n",
              "    </tr>\n",
              "    <tr>\n",
              "      <td id=\"T_da379_row1_col0\" class=\"data row1 col0\" >Random Forest</td>\n",
              "      <td id=\"T_da379_row1_col1\" class=\"data row1 col1\" >0.5958</td>\n",
              "      <td id=\"T_da379_row1_col2\" class=\"data row1 col2\" >0.5012</td>\n",
              "      <td id=\"T_da379_row1_col3\" class=\"data row1 col3\" >0.5958</td>\n",
              "      <td id=\"T_da379_row1_col4\" class=\"data row1 col4\" >0.5313</td>\n",
              "    </tr>\n",
              "    <tr>\n",
              "      <td id=\"T_da379_row2_col0\" class=\"data row2 col0\" >Gradient Boosting</td>\n",
              "      <td id=\"T_da379_row2_col1\" class=\"data row2 col1\" >0.5665</td>\n",
              "      <td id=\"T_da379_row2_col2\" class=\"data row2 col2\" >0.5230</td>\n",
              "      <td id=\"T_da379_row2_col3\" class=\"data row2 col3\" >0.5665</td>\n",
              "      <td id=\"T_da379_row2_col4\" class=\"data row2 col4\" >0.5258</td>\n",
              "    </tr>\n",
              "  </tbody>\n",
              "</table>\n"
            ],
            "text/plain": [
              "<pandas.io.formats.style.Styler at 0x13496aaf0>"
            ]
          },
          "execution_count": 22,
          "metadata": {},
          "output_type": "execute_result"
        }
      ],
      "source": [
        "from sklearn.linear_model import LogisticRegression\n",
        "from sklearn.ensemble import RandomForestClassifier, GradientBoostingClassifier\n",
        "from sklearn.model_selection import cross_validate, StratifiedKFold\n",
        "import numpy as np\n",
        "\n",
        "# Define models\n",
        "models = {\n",
        "    'Logistic Regression': LogisticRegression(max_iter=1000, random_state=42),\n",
        "    'Random Forest': RandomForestClassifier(random_state=42),\n",
        "    'Gradient Boosting': GradientBoostingClassifier(random_state=42)\n",
        "}\n",
        "\n",
        "# Setup cross-validation\n",
        "cv_strategy = StratifiedKFold(n_splits=5, shuffle=True, random_state=42)\n",
        "scoring_metrics = ['accuracy', 'precision_weighted', 'recall_weighted', 'f1_weighted']\n",
        "\n",
        "# Store results\n",
        "cv_results = []\n",
        "\n",
        "# Loop through models and perform cross-validation\n",
        "for model_name, model in models.items():\n",
        "    print(f\"Running cross-validation for {model_name}...\")\n",
        "\n",
        "    # Perform cross-validation\n",
        "    scores = cross_validate(\n",
        "        estimator=model,\n",
        "        X=X_train_scaled,\n",
        "        y=y_train,\n",
        "        cv=cv_strategy,\n",
        "        scoring=scoring_metrics,\n",
        "        n_jobs=-1 # Use all available CPU cores\n",
        "    )\n",
        "\n",
        "    # Store the mean of the scores\n",
        "    result = {\n",
        "        'Model': model_name,\n",
        "        'Accuracy': np.mean(scores['test_accuracy']),\n",
        "        'Precision': np.mean(scores['test_precision_weighted']),\n",
        "        'Recall': np.mean(scores['test_recall_weighted']),\n",
        "        'F1-Score': np.mean(scores['test_f1_weighted'])\n",
        "    }\n",
        "    cv_results.append(result)\n",
        "    print(f\"Finished for {model_name}.\")\n",
        "\n",
        "# Create a DataFrame from the results\n",
        "cv_results_df = pd.DataFrame(cv_results)\n",
        "\n",
        "# Display the results, formatted for clarity\n",
        "cv_results_df.style.format({\n",
        "    'Accuracy': '{:.4f}',\n",
        "    'Precision': '{:.4f}',\n",
        "    'Recall': '{:.4f}',\n",
        "    'F1-Score': '{:.4f}'\n",
        "}).set_caption(\"5-Fold Cross-Validation Results\").hide(axis='index')"
      ]
    },
    {
      "cell_type": "markdown",
      "metadata": {
        "id": "7imC3o4QwUaO"
      },
      "source": [
        "The cross-validation results show that **Logistic Regression** is the top-performing model. While the Random Forest model's accuracy is higher than that of the logistic regression model, its lower precision and F1-score suggest it may be making less precise predictions for some classes.\n",
        "\n",
        "Now that we've estimated generalization performance via cross-validation, I'll train each model on the **entire training set** (1,128 samples) and evaluate on the **held-out validation set** (242 samples).\n",
        "\n",
        "This gives us:\n",
        "1. **Training accuracy**: How well the model fits the training data (checks for underfitting)\n",
        "2. **Validation accuracy**: How well the model generalizes to unseen data (checks for overfitting)\n",
        "3. **Final model selection**: Choose the best model for deployment based on validation performance\n"
      ]
    },
    {
      "cell_type": "code",
      "execution_count": 27,
      "metadata": {
        "id": "eTFX0xZXxU3E"
      },
      "outputs": [
        {
          "name": "stdout",
          "output_type": "stream",
          "text": [
            "\n",
            "======================================================================\n",
            "SECTION 6.5: FINAL TRAINING ON FULL TRAINING SET\n",
            "======================================================================\n",
            "\n",
            "Training Logistic Regression on full training set...\n",
            "  ✓ Training complete\n",
            "    Training accuracy:   0.9885\n",
            "    Validation accuracy: 0.6157\n",
            "    Overfit gap:         0.3728\n",
            "    Training time:       0.19s\n",
            "\n",
            "Training Random Forest on full training set...\n",
            "  ✓ Training complete\n",
            "    Training accuracy:   1.0000\n",
            "    Validation accuracy: 0.6240\n",
            "    Overfit gap:         0.3760\n",
            "    Training time:       0.81s\n",
            "\n",
            "Training Gradient Boosting on full training set...\n",
            "  ✓ Training complete\n",
            "    Training accuracy:   1.0000\n",
            "    Validation accuracy: 0.6033\n",
            "    Overfit gap:         0.3967\n",
            "    Training time:       122.15s\n",
            "\n",
            "======================================================================\n",
            "TRAINING VS VALIDATION PERFORMANCE\n",
            "======================================================================\n",
            "\n",
            "Model                     Train Acc    Val Acc      Overfit Gap  Time (s)\n",
            "----------------------------------------------------------------------\n",
            "Logistic Regression       0.9885       0.6157       0.3728          0.19\n",
            "Random Forest             1.0000       0.6240       0.3760          0.81\n",
            "Gradient Boosting         1.0000       0.6033       0.3967        122.15\n"
          ]
        }
      ],
      "source": [
        "import time\n",
        "print(f\"\\n{'='*70}\")\n",
        "print(f\"SECTION 6.5: FINAL TRAINING ON FULL TRAINING SET\")\n",
        "print(f\"{'='*70}\\n\")\n",
        "\n",
        "# Train each model on the full training set and evaluate on validation set\n",
        "final_models = {}\n",
        "training_metrics = {}\n",
        "\n",
        "for model_name, model in models.items():\n",
        "    print(f\"Training {model_name} on full training set...\")\n",
        "    start_time = time.time()\n",
        "\n",
        "    # Train on full training set\n",
        "    model.fit(X_train_scaled, y_train)\n",
        "    training_time = time.time() - start_time\n",
        "\n",
        "    # Get predictions\n",
        "    y_train_pred = model.predict(X_train_scaled)\n",
        "    y_val_pred = model.predict(X_val_scaled)\n",
        "\n",
        "    # Calculate accuracies\n",
        "    train_acc = accuracy_score(y_train, y_train_pred)\n",
        "    val_acc = accuracy_score(y_val, y_val_pred)\n",
        "\n",
        "    # Store model and metrics\n",
        "    final_models[model_name] = model\n",
        "    training_metrics[model_name] = {\n",
        "        'train_accuracy': train_acc,\n",
        "        'val_accuracy': val_acc,\n",
        "        'training_time': training_time,\n",
        "        'overfit_gap': train_acc - val_acc\n",
        "    }\n",
        "\n",
        "    print(f\"  ✓ Training complete\")\n",
        "    print(f\"    Training accuracy:   {train_acc:.4f}\")\n",
        "    print(f\"    Validation accuracy: {val_acc:.4f}\")\n",
        "    print(f\"    Overfit gap:         {train_acc - val_acc:.4f}\")\n",
        "    print(f\"    Training time:       {training_time:.2f}s\\n\")\n",
        "\n",
        "# Summary comparison table\n",
        "print(f\"{'='*70}\")\n",
        "print(f\"TRAINING VS VALIDATION PERFORMANCE\")\n",
        "print(f\"{'='*70}\\n\")\n",
        "\n",
        "print(f\"{'Model':<25s} {'Train Acc':<12s} {'Val Acc':<12s} {'Overfit Gap':<12s} {'Time (s)'}\")\n",
        "print(f\"{'-'*70}\")\n",
        "\n",
        "for model_name, metrics in training_metrics.items():\n",
        "    print(f\"{model_name:<25s} {metrics['train_accuracy']:.4f}       \"\n",
        "          f\"{metrics['val_accuracy']:.4f}       \"\n",
        "          f\"{metrics['overfit_gap']:.4f}       \"\n",
        "          f\"{metrics['training_time']:>7.2f}\")\n"
      ]
    },
    {
      "cell_type": "markdown",
      "metadata": {
        "id": "CJraNquZxicq"
      },
      "source": [
        "We'll now visualize the performance comparison across all three models to better understand their relative strengths."
      ]
    },
    {
      "cell_type": "code",
      "execution_count": 26,
      "metadata": {
        "id": "Q4hEUwqNxvqc"
      },
      "outputs": [
        {
          "name": "stdout",
          "output_type": "stream",
          "text": [
            "\n",
            "======================================================================\n",
            "SECTION 6.6: MODEL PERFORMANCE VISUALIZATION\n",
            "======================================================================\n",
            "\n"
          ]
        },
        {
          "data": {
            "application/vnd.plotly.v1+json": {
              "config": {
                "plotlyServerURL": "https://plot.ly"
              },
              "data": [
                {
                  "error_y": {
                    "array": [
                      0,
                      0,
                      0
                    ],
                    "type": "data"
                  },
                  "marker": {
                    "color": [
                      "lightblue",
                      "lightgreen",
                      "lightcoral"
                    ]
                  },
                  "name": "CV Accuracy",
                  "text": [
                    "0.5886",
                    "0.5958",
                    "0.5665"
                  ],
                  "textposition": "outside",
                  "type": "bar",
                  "x": [
                    "Logistic Regression",
                    "Random Forest",
                    "Gradient Boosting"
                  ],
                  "xaxis": "x",
                  "y": [
                    0.5886489675516225,
                    0.5957522123893806,
                    0.5664818092428712
                  ],
                  "yaxis": "y"
                },
                {
                  "marker": {
                    "color": "steelblue"
                  },
                  "name": "Training",
                  "text": [
                    "0.9885",
                    "1.0000",
                    "1.0000"
                  ],
                  "textposition": "outside",
                  "type": "bar",
                  "x": [
                    "Logistic Regression",
                    "Random Forest",
                    "Gradient Boosting"
                  ],
                  "xaxis": "x2",
                  "y": [
                    0.9884751773049646,
                    1,
                    1
                  ],
                  "yaxis": "y2"
                },
                {
                  "marker": {
                    "color": "coral"
                  },
                  "name": "Validation",
                  "text": [
                    "0.6157",
                    "0.6240",
                    "0.6033"
                  ],
                  "textposition": "outside",
                  "type": "bar",
                  "x": [
                    "Logistic Regression",
                    "Random Forest",
                    "Gradient Boosting"
                  ],
                  "xaxis": "x2",
                  "y": [
                    0.6157024793388429,
                    0.6239669421487604,
                    0.6033057851239669
                  ],
                  "yaxis": "y2"
                }
              ],
              "layout": {
                "annotations": [
                  {
                    "font": {
                      "size": 16
                    },
                    "showarrow": false,
                    "text": "Cross-Validation Accuracy",
                    "x": 0.225,
                    "xanchor": "center",
                    "xref": "paper",
                    "y": 1,
                    "yanchor": "bottom",
                    "yref": "paper"
                  },
                  {
                    "font": {
                      "size": 16
                    },
                    "showarrow": false,
                    "text": "Training vs Validation Accuracy",
                    "x": 0.775,
                    "xanchor": "center",
                    "xref": "paper",
                    "y": 1,
                    "yanchor": "bottom",
                    "yref": "paper"
                  }
                ],
                "height": 500,
                "showlegend": true,
                "template": {
                  "data": {
                    "bar": [
                      {
                        "error_x": {
                          "color": "#2a3f5f"
                        },
                        "error_y": {
                          "color": "#2a3f5f"
                        },
                        "marker": {
                          "line": {
                            "color": "#E5ECF6",
                            "width": 0.5
                          },
                          "pattern": {
                            "fillmode": "overlay",
                            "size": 10,
                            "solidity": 0.2
                          }
                        },
                        "type": "bar"
                      }
                    ],
                    "barpolar": [
                      {
                        "marker": {
                          "line": {
                            "color": "#E5ECF6",
                            "width": 0.5
                          },
                          "pattern": {
                            "fillmode": "overlay",
                            "size": 10,
                            "solidity": 0.2
                          }
                        },
                        "type": "barpolar"
                      }
                    ],
                    "carpet": [
                      {
                        "aaxis": {
                          "endlinecolor": "#2a3f5f",
                          "gridcolor": "white",
                          "linecolor": "white",
                          "minorgridcolor": "white",
                          "startlinecolor": "#2a3f5f"
                        },
                        "baxis": {
                          "endlinecolor": "#2a3f5f",
                          "gridcolor": "white",
                          "linecolor": "white",
                          "minorgridcolor": "white",
                          "startlinecolor": "#2a3f5f"
                        },
                        "type": "carpet"
                      }
                    ],
                    "choropleth": [
                      {
                        "colorbar": {
                          "outlinewidth": 0,
                          "ticks": ""
                        },
                        "type": "choropleth"
                      }
                    ],
                    "contour": [
                      {
                        "colorbar": {
                          "outlinewidth": 0,
                          "ticks": ""
                        },
                        "colorscale": [
                          [
                            0,
                            "#0d0887"
                          ],
                          [
                            0.1111111111111111,
                            "#46039f"
                          ],
                          [
                            0.2222222222222222,
                            "#7201a8"
                          ],
                          [
                            0.3333333333333333,
                            "#9c179e"
                          ],
                          [
                            0.4444444444444444,
                            "#bd3786"
                          ],
                          [
                            0.5555555555555556,
                            "#d8576b"
                          ],
                          [
                            0.6666666666666666,
                            "#ed7953"
                          ],
                          [
                            0.7777777777777778,
                            "#fb9f3a"
                          ],
                          [
                            0.8888888888888888,
                            "#fdca26"
                          ],
                          [
                            1,
                            "#f0f921"
                          ]
                        ],
                        "type": "contour"
                      }
                    ],
                    "contourcarpet": [
                      {
                        "colorbar": {
                          "outlinewidth": 0,
                          "ticks": ""
                        },
                        "type": "contourcarpet"
                      }
                    ],
                    "heatmap": [
                      {
                        "colorbar": {
                          "outlinewidth": 0,
                          "ticks": ""
                        },
                        "colorscale": [
                          [
                            0,
                            "#0d0887"
                          ],
                          [
                            0.1111111111111111,
                            "#46039f"
                          ],
                          [
                            0.2222222222222222,
                            "#7201a8"
                          ],
                          [
                            0.3333333333333333,
                            "#9c179e"
                          ],
                          [
                            0.4444444444444444,
                            "#bd3786"
                          ],
                          [
                            0.5555555555555556,
                            "#d8576b"
                          ],
                          [
                            0.6666666666666666,
                            "#ed7953"
                          ],
                          [
                            0.7777777777777778,
                            "#fb9f3a"
                          ],
                          [
                            0.8888888888888888,
                            "#fdca26"
                          ],
                          [
                            1,
                            "#f0f921"
                          ]
                        ],
                        "type": "heatmap"
                      }
                    ],
                    "histogram": [
                      {
                        "marker": {
                          "pattern": {
                            "fillmode": "overlay",
                            "size": 10,
                            "solidity": 0.2
                          }
                        },
                        "type": "histogram"
                      }
                    ],
                    "histogram2d": [
                      {
                        "colorbar": {
                          "outlinewidth": 0,
                          "ticks": ""
                        },
                        "colorscale": [
                          [
                            0,
                            "#0d0887"
                          ],
                          [
                            0.1111111111111111,
                            "#46039f"
                          ],
                          [
                            0.2222222222222222,
                            "#7201a8"
                          ],
                          [
                            0.3333333333333333,
                            "#9c179e"
                          ],
                          [
                            0.4444444444444444,
                            "#bd3786"
                          ],
                          [
                            0.5555555555555556,
                            "#d8576b"
                          ],
                          [
                            0.6666666666666666,
                            "#ed7953"
                          ],
                          [
                            0.7777777777777778,
                            "#fb9f3a"
                          ],
                          [
                            0.8888888888888888,
                            "#fdca26"
                          ],
                          [
                            1,
                            "#f0f921"
                          ]
                        ],
                        "type": "histogram2d"
                      }
                    ],
                    "histogram2dcontour": [
                      {
                        "colorbar": {
                          "outlinewidth": 0,
                          "ticks": ""
                        },
                        "colorscale": [
                          [
                            0,
                            "#0d0887"
                          ],
                          [
                            0.1111111111111111,
                            "#46039f"
                          ],
                          [
                            0.2222222222222222,
                            "#7201a8"
                          ],
                          [
                            0.3333333333333333,
                            "#9c179e"
                          ],
                          [
                            0.4444444444444444,
                            "#bd3786"
                          ],
                          [
                            0.5555555555555556,
                            "#d8576b"
                          ],
                          [
                            0.6666666666666666,
                            "#ed7953"
                          ],
                          [
                            0.7777777777777778,
                            "#fb9f3a"
                          ],
                          [
                            0.8888888888888888,
                            "#fdca26"
                          ],
                          [
                            1,
                            "#f0f921"
                          ]
                        ],
                        "type": "histogram2dcontour"
                      }
                    ],
                    "mesh3d": [
                      {
                        "colorbar": {
                          "outlinewidth": 0,
                          "ticks": ""
                        },
                        "type": "mesh3d"
                      }
                    ],
                    "parcoords": [
                      {
                        "line": {
                          "colorbar": {
                            "outlinewidth": 0,
                            "ticks": ""
                          }
                        },
                        "type": "parcoords"
                      }
                    ],
                    "pie": [
                      {
                        "automargin": true,
                        "type": "pie"
                      }
                    ],
                    "scatter": [
                      {
                        "fillpattern": {
                          "fillmode": "overlay",
                          "size": 10,
                          "solidity": 0.2
                        },
                        "type": "scatter"
                      }
                    ],
                    "scatter3d": [
                      {
                        "line": {
                          "colorbar": {
                            "outlinewidth": 0,
                            "ticks": ""
                          }
                        },
                        "marker": {
                          "colorbar": {
                            "outlinewidth": 0,
                            "ticks": ""
                          }
                        },
                        "type": "scatter3d"
                      }
                    ],
                    "scattercarpet": [
                      {
                        "marker": {
                          "colorbar": {
                            "outlinewidth": 0,
                            "ticks": ""
                          }
                        },
                        "type": "scattercarpet"
                      }
                    ],
                    "scattergeo": [
                      {
                        "marker": {
                          "colorbar": {
                            "outlinewidth": 0,
                            "ticks": ""
                          }
                        },
                        "type": "scattergeo"
                      }
                    ],
                    "scattergl": [
                      {
                        "marker": {
                          "colorbar": {
                            "outlinewidth": 0,
                            "ticks": ""
                          }
                        },
                        "type": "scattergl"
                      }
                    ],
                    "scattermap": [
                      {
                        "marker": {
                          "colorbar": {
                            "outlinewidth": 0,
                            "ticks": ""
                          }
                        },
                        "type": "scattermap"
                      }
                    ],
                    "scattermapbox": [
                      {
                        "marker": {
                          "colorbar": {
                            "outlinewidth": 0,
                            "ticks": ""
                          }
                        },
                        "type": "scattermapbox"
                      }
                    ],
                    "scatterpolar": [
                      {
                        "marker": {
                          "colorbar": {
                            "outlinewidth": 0,
                            "ticks": ""
                          }
                        },
                        "type": "scatterpolar"
                      }
                    ],
                    "scatterpolargl": [
                      {
                        "marker": {
                          "colorbar": {
                            "outlinewidth": 0,
                            "ticks": ""
                          }
                        },
                        "type": "scatterpolargl"
                      }
                    ],
                    "scatterternary": [
                      {
                        "marker": {
                          "colorbar": {
                            "outlinewidth": 0,
                            "ticks": ""
                          }
                        },
                        "type": "scatterternary"
                      }
                    ],
                    "surface": [
                      {
                        "colorbar": {
                          "outlinewidth": 0,
                          "ticks": ""
                        },
                        "colorscale": [
                          [
                            0,
                            "#0d0887"
                          ],
                          [
                            0.1111111111111111,
                            "#46039f"
                          ],
                          [
                            0.2222222222222222,
                            "#7201a8"
                          ],
                          [
                            0.3333333333333333,
                            "#9c179e"
                          ],
                          [
                            0.4444444444444444,
                            "#bd3786"
                          ],
                          [
                            0.5555555555555556,
                            "#d8576b"
                          ],
                          [
                            0.6666666666666666,
                            "#ed7953"
                          ],
                          [
                            0.7777777777777778,
                            "#fb9f3a"
                          ],
                          [
                            0.8888888888888888,
                            "#fdca26"
                          ],
                          [
                            1,
                            "#f0f921"
                          ]
                        ],
                        "type": "surface"
                      }
                    ],
                    "table": [
                      {
                        "cells": {
                          "fill": {
                            "color": "#EBF0F8"
                          },
                          "line": {
                            "color": "white"
                          }
                        },
                        "header": {
                          "fill": {
                            "color": "#C8D4E3"
                          },
                          "line": {
                            "color": "white"
                          }
                        },
                        "type": "table"
                      }
                    ]
                  },
                  "layout": {
                    "annotationdefaults": {
                      "arrowcolor": "#2a3f5f",
                      "arrowhead": 0,
                      "arrowwidth": 1
                    },
                    "autotypenumbers": "strict",
                    "coloraxis": {
                      "colorbar": {
                        "outlinewidth": 0,
                        "ticks": ""
                      }
                    },
                    "colorscale": {
                      "diverging": [
                        [
                          0,
                          "#8e0152"
                        ],
                        [
                          0.1,
                          "#c51b7d"
                        ],
                        [
                          0.2,
                          "#de77ae"
                        ],
                        [
                          0.3,
                          "#f1b6da"
                        ],
                        [
                          0.4,
                          "#fde0ef"
                        ],
                        [
                          0.5,
                          "#f7f7f7"
                        ],
                        [
                          0.6,
                          "#e6f5d0"
                        ],
                        [
                          0.7,
                          "#b8e186"
                        ],
                        [
                          0.8,
                          "#7fbc41"
                        ],
                        [
                          0.9,
                          "#4d9221"
                        ],
                        [
                          1,
                          "#276419"
                        ]
                      ],
                      "sequential": [
                        [
                          0,
                          "#0d0887"
                        ],
                        [
                          0.1111111111111111,
                          "#46039f"
                        ],
                        [
                          0.2222222222222222,
                          "#7201a8"
                        ],
                        [
                          0.3333333333333333,
                          "#9c179e"
                        ],
                        [
                          0.4444444444444444,
                          "#bd3786"
                        ],
                        [
                          0.5555555555555556,
                          "#d8576b"
                        ],
                        [
                          0.6666666666666666,
                          "#ed7953"
                        ],
                        [
                          0.7777777777777778,
                          "#fb9f3a"
                        ],
                        [
                          0.8888888888888888,
                          "#fdca26"
                        ],
                        [
                          1,
                          "#f0f921"
                        ]
                      ],
                      "sequentialminus": [
                        [
                          0,
                          "#0d0887"
                        ],
                        [
                          0.1111111111111111,
                          "#46039f"
                        ],
                        [
                          0.2222222222222222,
                          "#7201a8"
                        ],
                        [
                          0.3333333333333333,
                          "#9c179e"
                        ],
                        [
                          0.4444444444444444,
                          "#bd3786"
                        ],
                        [
                          0.5555555555555556,
                          "#d8576b"
                        ],
                        [
                          0.6666666666666666,
                          "#ed7953"
                        ],
                        [
                          0.7777777777777778,
                          "#fb9f3a"
                        ],
                        [
                          0.8888888888888888,
                          "#fdca26"
                        ],
                        [
                          1,
                          "#f0f921"
                        ]
                      ]
                    },
                    "colorway": [
                      "#636efa",
                      "#EF553B",
                      "#00cc96",
                      "#ab63fa",
                      "#FFA15A",
                      "#19d3f3",
                      "#FF6692",
                      "#B6E880",
                      "#FF97FF",
                      "#FECB52"
                    ],
                    "font": {
                      "color": "#2a3f5f"
                    },
                    "geo": {
                      "bgcolor": "white",
                      "lakecolor": "white",
                      "landcolor": "#E5ECF6",
                      "showlakes": true,
                      "showland": true,
                      "subunitcolor": "white"
                    },
                    "hoverlabel": {
                      "align": "left"
                    },
                    "hovermode": "closest",
                    "mapbox": {
                      "style": "light"
                    },
                    "paper_bgcolor": "white",
                    "plot_bgcolor": "#E5ECF6",
                    "polar": {
                      "angularaxis": {
                        "gridcolor": "white",
                        "linecolor": "white",
                        "ticks": ""
                      },
                      "bgcolor": "#E5ECF6",
                      "radialaxis": {
                        "gridcolor": "white",
                        "linecolor": "white",
                        "ticks": ""
                      }
                    },
                    "scene": {
                      "xaxis": {
                        "backgroundcolor": "#E5ECF6",
                        "gridcolor": "white",
                        "gridwidth": 2,
                        "linecolor": "white",
                        "showbackground": true,
                        "ticks": "",
                        "zerolinecolor": "white"
                      },
                      "yaxis": {
                        "backgroundcolor": "#E5ECF6",
                        "gridcolor": "white",
                        "gridwidth": 2,
                        "linecolor": "white",
                        "showbackground": true,
                        "ticks": "",
                        "zerolinecolor": "white"
                      },
                      "zaxis": {
                        "backgroundcolor": "#E5ECF6",
                        "gridcolor": "white",
                        "gridwidth": 2,
                        "linecolor": "white",
                        "showbackground": true,
                        "ticks": "",
                        "zerolinecolor": "white"
                      }
                    },
                    "shapedefaults": {
                      "line": {
                        "color": "#2a3f5f"
                      }
                    },
                    "ternary": {
                      "aaxis": {
                        "gridcolor": "white",
                        "linecolor": "white",
                        "ticks": ""
                      },
                      "baxis": {
                        "gridcolor": "white",
                        "linecolor": "white",
                        "ticks": ""
                      },
                      "bgcolor": "#E5ECF6",
                      "caxis": {
                        "gridcolor": "white",
                        "linecolor": "white",
                        "ticks": ""
                      }
                    },
                    "title": {
                      "x": 0.05
                    },
                    "xaxis": {
                      "automargin": true,
                      "gridcolor": "white",
                      "linecolor": "white",
                      "ticks": "",
                      "title": {
                        "standoff": 15
                      },
                      "zerolinecolor": "white",
                      "zerolinewidth": 2
                    },
                    "yaxis": {
                      "automargin": true,
                      "gridcolor": "white",
                      "linecolor": "white",
                      "ticks": "",
                      "title": {
                        "standoff": 15
                      },
                      "zerolinecolor": "white",
                      "zerolinewidth": 2
                    }
                  }
                },
                "title": {
                  "text": "Model Performance Comparison Across All Metrics"
                },
                "xaxis": {
                  "anchor": "y",
                  "domain": [
                    0,
                    0.45
                  ],
                  "title": {
                    "text": "Model"
                  }
                },
                "xaxis2": {
                  "anchor": "y2",
                  "domain": [
                    0.55,
                    1
                  ],
                  "title": {
                    "text": "Model"
                  }
                },
                "yaxis": {
                  "anchor": "x",
                  "domain": [
                    0,
                    1
                  ],
                  "range": [
                    0,
                    1.1
                  ],
                  "title": {
                    "text": "Accuracy"
                  }
                },
                "yaxis2": {
                  "anchor": "x2",
                  "domain": [
                    0,
                    1
                  ],
                  "range": [
                    0,
                    1.1
                  ],
                  "title": {
                    "text": "Accuracy"
                  }
                }
              }
            }
          },
          "metadata": {},
          "output_type": "display_data"
        },
        {
          "name": "stdout",
          "output_type": "stream",
          "text": [
            "\n",
            "✓ Visualization complete\n",
            "\n",
            "Key observations:\n",
            "  • Cross-validation gives robust performance estimates across 5 folds\n",
            "  • Training accuracy > Validation accuracy indicates some overfitting\n",
            "  • Best model: Random Forest (highest validation accuracy)\n",
            "  • Random Forest achieves good balance between fitting and generalization\n"
          ]
        }
      ],
      "source": [
        "print(f\"\\n{'='*70}\")\n",
        "print(f\"SECTION 6.6: MODEL PERFORMANCE VISUALIZATION\")\n",
        "print(f\"{'='*70}\\n\")\n",
        "\n",
        "import plotly.graph_objects as go\n",
        "from plotly.subplots import make_subplots\n",
        "\n",
        "# Create subplot figure\n",
        "fig = make_subplots(\n",
        "    rows=1, cols=2,\n",
        "    subplot_titles=['Cross-Validation Accuracy', 'Training vs Validation Accuracy'],\n",
        "    specs=[[{'type': 'bar'}, {'type': 'bar'}]]\n",
        ")\n",
        "\n",
        "# Subplot 1: Cross-validation results\n",
        "# cv_results is a list (or cv_results_df is a DataFrame). Use cv_results_df if available.\n",
        "if 'cv_results_df' in globals():\n",
        "    model_names = cv_results_df['Model'].tolist()\n",
        "    # cv_results_df stores aggregated metrics; use 'Accuracy' as CV mean estimate\n",
        "    cv_means = cv_results_df['Accuracy'].tolist()\n",
        "    # We didn't store per-model stds earlier, so set to zeros (or compute if you saved arrays)\n",
        "    cv_stds = [0.0] * len(model_names)\n",
        "else:\n",
        "    # Fallback: use the keys from training_metrics (preserves order)\n",
        "    model_names = list(training_metrics.keys())\n",
        "    cv_means = [training_metrics[name].get('val_accuracy', 0.0) for name in model_names]\n",
        "    cv_stds = [0.0] * len(model_names)\n",
        "\n",
        "fig.add_trace(\n",
        "    go.Bar(\n",
        "        x=model_names,\n",
        "        y=cv_means,\n",
        "        error_y=dict(type='data', array=cv_stds),\n",
        "        name='CV Accuracy',\n",
        "        marker_color=['lightblue', 'lightgreen', 'lightcoral'][:len(model_names)],\n",
        "        text=[f'{acc:.4f}' for acc in cv_means],\n",
        "        textposition='outside'\n",
        "    ),\n",
        "    row=1, col=1\n",
        ")\n",
        "\n",
        "# Subplot 2: Train vs Validation accuracy\n",
        "train_accs = [training_metrics[name]['train_accuracy'] for name in model_names]\n",
        "val_accs = [training_metrics[name]['val_accuracy'] for name in model_names]\n",
        "\n",
        "fig.add_trace(\n",
        "    go.Bar(\n",
        "        x=model_names,\n",
        "        y=train_accs,\n",
        "        name='Training',\n",
        "        marker_color='steelblue',\n",
        "        text=[f'{acc:.4f}' for acc in train_accs],\n",
        "        textposition='outside'\n",
        "    ),\n",
        "    row=1, col=2\n",
        ")\n",
        "\n",
        "fig.add_trace(\n",
        "    go.Bar(\n",
        "        x=model_names,\n",
        "        y=val_accs,\n",
        "        name='Validation',\n",
        "        marker_color='coral',\n",
        "        text=[f'{acc:.4f}' for acc in val_accs],\n",
        "        textposition='outside'\n",
        "    ),\n",
        "    row=1, col=2\n",
        ")\n",
        "\n",
        "# Update layout\n",
        "fig.update_xaxes(title_text=\"Model\", row=1, col=1)\n",
        "fig.update_xaxes(title_text=\"Model\", row=1, col=2)\n",
        "fig.update_yaxes(title_text=\"Accuracy\", row=1, col=1, range=[0, 1.1])\n",
        "fig.update_yaxes(title_text=\"Accuracy\", row=1, col=2, range=[0, 1.1])\n",
        "\n",
        "fig.update_layout(\n",
        "    height=500,\n",
        "    showlegend=True,\n",
        "    title_text=\"Model Performance Comparison Across All Metrics\"\n",
        ")\n",
        "\n",
        "fig.show()\n",
        "\n",
        "print(\"\\n✓ Visualization complete\")\n",
        "print(f\"\\nKey observations:\")\n",
        "print(f\"  • Cross-validation gives robust performance estimates across 5 folds\")\n",
        "print(f\"  • Training accuracy > Validation accuracy indicates some overfitting\")\n",
        "print(f\"  • Best model: {best_model_name} (highest validation accuracy)\")\n",
        "print(f\"  • {best_model_name} achieves good balance between fitting and generalization\")"
      ]
    },
    {
      "cell_type": "markdown",
      "metadata": {
        "id": "h6AaLzLOx7Yk"
      },
      "source": [
        "# 7. Model Evaluation\n",
        "\n",
        "In this section, I will evaluate all three trained models on the **held-out test set** (242 samples, 15% of data) to obtain unbiased estimates of their real-world performance.\n",
        "\n",
        "**Why Test Set Evaluation is Critical**:\n",
        "- **Test set**: Never seen during training or model selection → **unbiased** performance estimate\n",
        "\n",
        "**Evaluation Metrics**:\n",
        "1. **Accuracy**: Overall correct predictions (simple but can be misleading with class imbalance)\n",
        "2. **Precision** (macro/weighted): How many predicted positives are actually positive\n",
        "3. **Recall** (macro/weighted): How many actual positives are correctly identified\n",
        "4. **F1-Score** (macro/weighted): Harmonic mean of precision and recall\n",
        "5. **Confusion Matrix**: Shows which genres are confused with each other\n",
        "6. **Per-Genre Performance**: Detailed breakdown for each of the 20 genres\n",
        "\n",
        "**Macro vs Weighted Averages**:\n",
        "- **Macro**: Simple average across all classes (treats all genres equally)\n",
        "- **Weighted**: Average weighted by class support (gives more weight to frequent genres)\n",
        "- Given our 38:1 class imbalance, macro average is more informative for rare genres"
      ]
    },
    {
      "cell_type": "code",
      "execution_count": 28,
      "metadata": {
        "id": "P5ssp_jLyJzE"
      },
      "outputs": [
        {
          "name": "stdout",
          "output_type": "stream",
          "text": [
            "======================================================================\n",
            "SECTION 7.2: TEST SET PREDICTIONS\n",
            "======================================================================\n",
            "\n",
            "Logistic Regression:\n",
            "  Accuracy:           0.6281\n",
            "  Precision (macro):  0.4354\n",
            "  Precision (wtd):    0.6040\n",
            "  Recall (macro):     0.3952\n",
            "  Recall (wtd):       0.6281\n",
            "  F1-Score (macro):   0.4035\n",
            "  F1-Score (wtd):     0.6105\n",
            "\n",
            "Random Forest:\n",
            "  Accuracy:           0.6116\n",
            "  Precision (macro):  0.3625\n",
            "  Precision (wtd):    0.5667\n",
            "  Recall (macro):     0.2850\n",
            "  Recall (wtd):       0.6116\n",
            "  F1-Score (macro):   0.2920\n",
            "  F1-Score (wtd):     0.5591\n",
            "\n",
            "Gradient Boosting:\n",
            "  Accuracy:           0.5992\n",
            "  Precision (macro):  0.3352\n",
            "  Precision (wtd):    0.5640\n",
            "  Recall (macro):     0.3022\n",
            "  Recall (wtd):       0.5992\n",
            "  F1-Score (macro):   0.3072\n",
            "  F1-Score (wtd):     0.5723\n",
            "\n",
            "======================================================================\n",
            "TEST SET PERFORMANCE COMPARISON\n",
            "======================================================================\n",
            "\n",
            "                     accuracy  precision_macro  precision_weighted  recall_macro  recall_weighted  f1_macro  f1_weighted\n",
            "Logistic Regression    0.6281           0.4354              0.6040        0.3952           0.6281    0.4035       0.6105\n",
            "Random Forest          0.6116           0.3625              0.5667        0.2850           0.6116    0.2920       0.5591\n",
            "Gradient Boosting      0.5992           0.3352              0.5640        0.3022           0.5992    0.3072       0.5723\n",
            "\n",
            "======================================================================\n",
            "BEST PERFORMERS BY METRIC\n",
            "======================================================================\n",
            "\n",
            "accuracy            : Logistic Regression       (0.6281)\n",
            "precision_macro     : Logistic Regression       (0.4354)\n",
            "precision_weighted  : Logistic Regression       (0.6040)\n",
            "recall_macro        : Logistic Regression       (0.3952)\n",
            "recall_weighted     : Logistic Regression       (0.6281)\n",
            "f1_macro            : Logistic Regression       (0.4035)\n",
            "f1_weighted         : Logistic Regression       (0.6105)\n",
            "\n",
            "======================================================================\n",
            "RECOMMENDED MODEL FOR DEPLOYMENT\n",
            "======================================================================\n",
            "\n",
            "✓ Best model: Logistic Regression\n",
            "  F1-Score (macro): 0.4035\n",
            "  → Macro F1 is the best metric for imbalanced datasets (treats all genres equally)\n"
          ]
        }
      ],
      "source": [
        "# ======================================================================\n",
        "# SECTION 7: MODEL EVALUATION ON TEST SET\n",
        "# ======================================================================\n",
        "\n",
        "from sklearn.metrics import precision_score, recall_score, f1_score\n",
        "import pandas as pd\n",
        "\n",
        "print(f\"{'='*70}\")\n",
        "print(f\"SECTION 7.2: TEST SET PREDICTIONS\")\n",
        "print(f\"{'='*70}\\n\")\n",
        "\n",
        "# Get predictions from all models on test set\n",
        "test_predictions = {}\n",
        "test_metrics = {}\n",
        "\n",
        "for model_name, model in final_models.items():\n",
        "    # Predict on test set\n",
        "    y_test_pred = model.predict(X_test_scaled)\n",
        "    test_predictions[model_name] = y_test_pred\n",
        "\n",
        "    # Calculate comprehensive metrics\n",
        "    test_acc = accuracy_score(y_test, y_test_pred)\n",
        "    precision_macro = precision_score(y_test, y_test_pred, average='macro', zero_division=0)\n",
        "    precision_weighted = precision_score(y_test, y_test_pred, average='weighted', zero_division=0)\n",
        "    recall_macro = recall_score(y_test, y_test_pred, average='macro', zero_division=0)\n",
        "    recall_weighted = recall_score(y_test, y_test_pred, average='weighted', zero_division=0)\n",
        "    f1_macro = f1_score(y_test, y_test_pred, average='macro', zero_division=0)\n",
        "    f1_weighted = f1_score(y_test, y_test_pred, average='weighted', zero_division=0)\n",
        "\n",
        "    # Store metrics\n",
        "    test_metrics[model_name] = {\n",
        "        'accuracy': test_acc,\n",
        "        'precision_macro': precision_macro,\n",
        "        'precision_weighted': precision_weighted,\n",
        "        'recall_macro': recall_macro,\n",
        "        'recall_weighted': recall_weighted,\n",
        "        'f1_macro': f1_macro,\n",
        "        'f1_weighted': f1_weighted\n",
        "    }\n",
        "\n",
        "    print(f\"{model_name}:\")\n",
        "    print(f\"  Accuracy:           {test_acc:.4f}\")\n",
        "    print(f\"  Precision (macro):  {precision_macro:.4f}\")\n",
        "    print(f\"  Precision (wtd):    {precision_weighted:.4f}\")\n",
        "    print(f\"  Recall (macro):     {recall_macro:.4f}\")\n",
        "    print(f\"  Recall (wtd):       {recall_weighted:.4f}\")\n",
        "    print(f\"  F1-Score (macro):   {f1_macro:.4f}\")\n",
        "    print(f\"  F1-Score (wtd):     {f1_weighted:.4f}\\n\")\n",
        "\n",
        "# Create comprehensive metrics comparison table\n",
        "print(f\"{'='*70}\")\n",
        "print(f\"TEST SET PERFORMANCE COMPARISON\")\n",
        "print(f\"{'='*70}\\n\")\n",
        "\n",
        "metrics_df = pd.DataFrame(test_metrics).T\n",
        "metrics_df = metrics_df.round(4)\n",
        "\n",
        "print(metrics_df.to_string())\n",
        "\n",
        "# Identify best model for each metric\n",
        "print(f\"\\n{'='*70}\")\n",
        "print(f\"BEST PERFORMERS BY METRIC\")\n",
        "print(f\"{'='*70}\\n\")\n",
        "\n",
        "for metric in metrics_df.columns:\n",
        "    best_model = metrics_df[metric].idxmax()\n",
        "    best_score = metrics_df[metric].max()\n",
        "    print(f\"{metric:20s}: {best_model:<25s} ({best_score:.4f})\")\n",
        "\n",
        "# Overall best model (based on F1-macro, which handles class imbalance best)\n",
        "best_overall = metrics_df['f1_macro'].idxmax()\n",
        "best_f1 = metrics_df.loc[best_overall, 'f1_macro']\n",
        "\n",
        "print(f\"\\n{'='*70}\")\n",
        "print(f\"RECOMMENDED MODEL FOR DEPLOYMENT\")\n",
        "print(f\"{'='*70}\")\n",
        "print(f\"\\n✓ Best model: {best_overall}\")\n",
        "print(f\"  F1-Score (macro): {best_f1:.4f}\")\n",
        "print(f\"  → Macro F1 is the best metric for imbalanced datasets (treats all genres equally)\")"
      ]
    },
    {
      "cell_type": "markdown",
      "metadata": {},
      "source": [
        "# 8. Conclusions\n",
        "\n",
        "From the test set, which serves as the final evaluation of our model, **Logistic Regression** comes out as the best model.\n",
        "\n",
        "-   **Overall Performance**: The model achieved an **accuracy of 63%** and a **weighted average F1-score of 0.61** on the unseen test set. This demonstrates a moderate but meaningful ability to predict a song's genre from its audio features, confirming that the features contain a significant amount of genre-specific information.\n",
        "\n",
        "-   **Performance on Well-Represented Genres**: The model performed exceptionally well for genres with a large number of samples. For instance:\n",
        "    -   `worship`: F1-score of 0.80\n",
        "    -   `afrobeats`: F1-score of 0.71\n",
        "    -   `soft pop`: F1-score of 0.75\n",
        "    -   `new age`: F1-score of 1.00 (perfectly classified)\n",
        "    This indicates that with sufficient data, the model can effectively learn the distinct audio signatures of different genres.\n",
        "\n",
        "-   **Challenges with Imbalanced Data**: The model's primary weakness was its performance on genres with very few samples (e.g., `country`, `edm`, `rap`, `reggaeton`), where it scored an F1-score of 0.00. The confusion matrix shows that the model tends to misclassify these rare genres as more dominant ones like `Unknown` or `worship`. This is a classic outcome when dealing with a highly imbalanced dataset.\n",
        "\n",
        "\n",
        "This project successfully built an end-to-end machine learning pipeline to classify music genres. We demonstrated that a collection of 348 audio features can predict genre with reasonable success, particularly for well-represented classes. The **Logistic Regression** model emerged as the most effective, providing a good balance of performance and simplicity.\n",
        "\n",
        "The most significant limitation identified was the **severe class imbalance** in the dataset, which hindered the model's ability to learn the patterns of rare genres.\n",
        "\n",
        "To build upon this project, the following steps could be taken:\n",
        "\n",
        "1.  **Address Class Imbalance**:\n",
        "    *   **Collect More Data**: The most effective solution would be to gather more song samples for the under-represented genres.\n",
        "    *   **Use Advanced Sampling Techniques**: Implement methods like **SMOTE (Synthetic Minority Over-sampling Technique)** to generate synthetic samples for the minority classes, helping the model learn their characteristics better.\n",
        "\n",
        "2.  **Hyperparameter Tuning**: Conduct a more thorough hyperparameter search (e.g., using `GridSearchCV` or `RandomizedSearchCV`) to find the optimal settings for the models, which could yield a significant performance boost.\n",
        "\n",
        "3.  **Explore Advanced Models**: Experiment with more complex, non-linear models like **Deep Neural Networks (DNNs)** or **Convolutional Neural Networks (CNNs)** applied to spectrogram images, which might capture more subtle and hierarchical patterns in the audio.\n",
        "\n",
        "4.  **Feature Importance Analysis**: Investigate the coefficients of the trained Logistic Regression model to identify which of the 348 audio features were the most influential in predicting genre. This would provide deeper insights into the audio characteristics that define different musical styles."
      ]
    },
    {
      "cell_type": "code",
      "execution_count": 29,
      "metadata": {},
      "outputs": [
        {
          "name": "stdout",
          "output_type": "stream",
          "text": [
            "Training the final Logistic Regression model on the full training dataset...\n",
            "✓ Model training complete.\n",
            "\n",
            "Making predictions on the unseen test set...\n",
            "✓ Predictions complete.\n",
            "\n",
            "======================================================================\n",
            "FINAL MODEL EVALUATION: CLASSIFICATION REPORT\n",
            "======================================================================\n",
            "                   precision    recall  f1-score   support\n",
            "\n",
            "          Unknown       0.57      0.65      0.61        63\n",
            "   african gospel       0.45      0.50      0.48        10\n",
            "       afro adura       0.00      0.00      0.00         1\n",
            "        afrobeats       0.67      0.74      0.71        39\n",
            "         amapiano       0.33      0.50      0.40         2\n",
            "        christian       0.33      0.33      0.33         6\n",
            "          country       0.00      0.00      0.00         3\n",
            "              edm       0.00      0.00      0.00         3\n",
            "     egyptian pop       0.50      0.50      0.50         2\n",
            "           gospel       0.33      0.11      0.17         9\n",
            "            lo-fi       0.69      0.65      0.67        17\n",
            "      lo-fi beats       0.00      0.00      0.00         3\n",
            "    lo-fi hip hop       1.00      0.50      0.67         2\n",
            "          new age       1.00      1.00      1.00         5\n",
            "              rap       0.00      0.00      0.00         3\n",
            "        reggaeton       0.00      0.00      0.00         2\n",
            "         soft pop       1.00      0.60      0.75         5\n",
            "traditional music       0.50      0.33      0.40         3\n",
            "         uk drill       0.55      0.67      0.60         9\n",
            "          worship       0.78      0.82      0.80        55\n",
            "\n",
            "         accuracy                           0.63       242\n",
            "        macro avg       0.44      0.40      0.40       242\n",
            "     weighted avg       0.60      0.63      0.61       242\n",
            "\n",
            "\n",
            "======================================================================\n",
            "FINAL MODEL EVALUATION: CONFUSION MATRIX\n",
            "======================================================================\n"
          ]
        },
        {
          "data": {
            "application/vnd.plotly.v1+json": {
              "config": {
                "plotlyServerURL": "https://plot.ly"
              },
              "data": [
                {
                  "colorscale": [
                    [
                      0,
                      "rgb(247,251,255)"
                    ],
                    [
                      0.125,
                      "rgb(222,235,247)"
                    ],
                    [
                      0.25,
                      "rgb(198,219,239)"
                    ],
                    [
                      0.375,
                      "rgb(158,202,225)"
                    ],
                    [
                      0.5,
                      "rgb(107,174,214)"
                    ],
                    [
                      0.625,
                      "rgb(66,146,198)"
                    ],
                    [
                      0.75,
                      "rgb(33,113,181)"
                    ],
                    [
                      0.875,
                      "rgb(8,81,156)"
                    ],
                    [
                      1,
                      "rgb(8,48,107)"
                    ]
                  ],
                  "reversescale": false,
                  "showscale": true,
                  "type": "heatmap",
                  "x": [
                    "Unknown",
                    "african gospel",
                    "afro adura",
                    "afrobeats",
                    "amapiano",
                    "christian",
                    "country",
                    "edm",
                    "egyptian pop",
                    "gospel",
                    "lo-fi",
                    "lo-fi beats",
                    "lo-fi hip hop",
                    "new age",
                    "rap",
                    "reggaeton",
                    "soft pop",
                    "traditional music",
                    "uk drill",
                    "worship"
                  ],
                  "y": [
                    "Unknown",
                    "african gospel",
                    "afro adura",
                    "afrobeats",
                    "amapiano",
                    "christian",
                    "country",
                    "edm",
                    "egyptian pop",
                    "gospel",
                    "lo-fi",
                    "lo-fi beats",
                    "lo-fi hip hop",
                    "new age",
                    "rap",
                    "reggaeton",
                    "soft pop",
                    "traditional music",
                    "uk drill",
                    "worship"
                  ],
                  "z": {
                    "bdata": "KQMABQABAAMBAgEAAAAAAAAAAQUBBQACAAAAAAAAAAAAAAAAAAAAAgABAAAAAAAAAAAAAAAAAAAAAAAABQEAHQEAAAAAAAAAAAAAAAABAgABAAAAAQAAAAAAAAAAAAAAAAAAAAEBAAAAAgAAAAAAAAAAAAAAAAACAQAAAgAAAAAAAAAAAAAAAAAAAAADAAAAAAAAAAAAAAAAAAAAAAAAAAEAAAAAAAAAAQAAAAAAAAAAAAAABAAAAAABAAAAAQAAAAAAAAAAAQICAAABAQAAAAAACwIAAAAAAAAAAAAAAAAAAAAAAAACAAAAAAAAAAABAAAAAAAAAAAAAAEAAQAAAAAAAAAAAAAAAAAAAAAAAAAABQAAAAAAAAIAAAEAAAAAAAAAAAAAAAAAAAAAAQAAAAAAAAAAAAAAAAAAAAAAAQABAAAAAAAAAAAAAAAAAAAAAwAAAQAAAAIAAAAAAAAAAAAAAAAAAQAAAQAAAQAAAAEAAAAAAAAAAAAABgAHAAAAAAIAAAAAAQAAAAAAAAAALQ==",
                    "dtype": "i1",
                    "shape": "20, 20"
                  }
                }
              ],
              "layout": {
                "annotations": [
                  {
                    "font": {
                      "color": "#FFFFFF"
                    },
                    "showarrow": false,
                    "text": "41",
                    "x": "Unknown",
                    "xref": "x",
                    "y": "Unknown",
                    "yref": "y"
                  },
                  {
                    "font": {
                      "color": "#000000"
                    },
                    "showarrow": false,
                    "text": "3",
                    "x": "african gospel",
                    "xref": "x",
                    "y": "Unknown",
                    "yref": "y"
                  },
                  {
                    "font": {
                      "color": "#000000"
                    },
                    "showarrow": false,
                    "text": "0",
                    "x": "afro adura",
                    "xref": "x",
                    "y": "Unknown",
                    "yref": "y"
                  },
                  {
                    "font": {
                      "color": "#000000"
                    },
                    "showarrow": false,
                    "text": "5",
                    "x": "afrobeats",
                    "xref": "x",
                    "y": "Unknown",
                    "yref": "y"
                  },
                  {
                    "font": {
                      "color": "#000000"
                    },
                    "showarrow": false,
                    "text": "0",
                    "x": "amapiano",
                    "xref": "x",
                    "y": "Unknown",
                    "yref": "y"
                  },
                  {
                    "font": {
                      "color": "#000000"
                    },
                    "showarrow": false,
                    "text": "1",
                    "x": "christian",
                    "xref": "x",
                    "y": "Unknown",
                    "yref": "y"
                  },
                  {
                    "font": {
                      "color": "#000000"
                    },
                    "showarrow": false,
                    "text": "0",
                    "x": "country",
                    "xref": "x",
                    "y": "Unknown",
                    "yref": "y"
                  },
                  {
                    "font": {
                      "color": "#000000"
                    },
                    "showarrow": false,
                    "text": "3",
                    "x": "edm",
                    "xref": "x",
                    "y": "Unknown",
                    "yref": "y"
                  },
                  {
                    "font": {
                      "color": "#000000"
                    },
                    "showarrow": false,
                    "text": "1",
                    "x": "egyptian pop",
                    "xref": "x",
                    "y": "Unknown",
                    "yref": "y"
                  },
                  {
                    "font": {
                      "color": "#000000"
                    },
                    "showarrow": false,
                    "text": "2",
                    "x": "gospel",
                    "xref": "x",
                    "y": "Unknown",
                    "yref": "y"
                  },
                  {
                    "font": {
                      "color": "#000000"
                    },
                    "showarrow": false,
                    "text": "1",
                    "x": "lo-fi",
                    "xref": "x",
                    "y": "Unknown",
                    "yref": "y"
                  },
                  {
                    "font": {
                      "color": "#000000"
                    },
                    "showarrow": false,
                    "text": "0",
                    "x": "lo-fi beats",
                    "xref": "x",
                    "y": "Unknown",
                    "yref": "y"
                  },
                  {
                    "font": {
                      "color": "#000000"
                    },
                    "showarrow": false,
                    "text": "0",
                    "x": "lo-fi hip hop",
                    "xref": "x",
                    "y": "Unknown",
                    "yref": "y"
                  },
                  {
                    "font": {
                      "color": "#000000"
                    },
                    "showarrow": false,
                    "text": "0",
                    "x": "new age",
                    "xref": "x",
                    "y": "Unknown",
                    "yref": "y"
                  },
                  {
                    "font": {
                      "color": "#000000"
                    },
                    "showarrow": false,
                    "text": "0",
                    "x": "rap",
                    "xref": "x",
                    "y": "Unknown",
                    "yref": "y"
                  },
                  {
                    "font": {
                      "color": "#000000"
                    },
                    "showarrow": false,
                    "text": "0",
                    "x": "reggaeton",
                    "xref": "x",
                    "y": "Unknown",
                    "yref": "y"
                  },
                  {
                    "font": {
                      "color": "#000000"
                    },
                    "showarrow": false,
                    "text": "0",
                    "x": "soft pop",
                    "xref": "x",
                    "y": "Unknown",
                    "yref": "y"
                  },
                  {
                    "font": {
                      "color": "#000000"
                    },
                    "showarrow": false,
                    "text": "0",
                    "x": "traditional music",
                    "xref": "x",
                    "y": "Unknown",
                    "yref": "y"
                  },
                  {
                    "font": {
                      "color": "#000000"
                    },
                    "showarrow": false,
                    "text": "1",
                    "x": "uk drill",
                    "xref": "x",
                    "y": "Unknown",
                    "yref": "y"
                  },
                  {
                    "font": {
                      "color": "#000000"
                    },
                    "showarrow": false,
                    "text": "5",
                    "x": "worship",
                    "xref": "x",
                    "y": "Unknown",
                    "yref": "y"
                  },
                  {
                    "font": {
                      "color": "#000000"
                    },
                    "showarrow": false,
                    "text": "1",
                    "x": "Unknown",
                    "xref": "x",
                    "y": "african gospel",
                    "yref": "y"
                  },
                  {
                    "font": {
                      "color": "#000000"
                    },
                    "showarrow": false,
                    "text": "5",
                    "x": "african gospel",
                    "xref": "x",
                    "y": "african gospel",
                    "yref": "y"
                  },
                  {
                    "font": {
                      "color": "#000000"
                    },
                    "showarrow": false,
                    "text": "0",
                    "x": "afro adura",
                    "xref": "x",
                    "y": "african gospel",
                    "yref": "y"
                  },
                  {
                    "font": {
                      "color": "#000000"
                    },
                    "showarrow": false,
                    "text": "2",
                    "x": "afrobeats",
                    "xref": "x",
                    "y": "african gospel",
                    "yref": "y"
                  },
                  {
                    "font": {
                      "color": "#000000"
                    },
                    "showarrow": false,
                    "text": "0",
                    "x": "amapiano",
                    "xref": "x",
                    "y": "african gospel",
                    "yref": "y"
                  },
                  {
                    "font": {
                      "color": "#000000"
                    },
                    "showarrow": false,
                    "text": "0",
                    "x": "christian",
                    "xref": "x",
                    "y": "african gospel",
                    "yref": "y"
                  },
                  {
                    "font": {
                      "color": "#000000"
                    },
                    "showarrow": false,
                    "text": "0",
                    "x": "country",
                    "xref": "x",
                    "y": "african gospel",
                    "yref": "y"
                  },
                  {
                    "font": {
                      "color": "#000000"
                    },
                    "showarrow": false,
                    "text": "0",
                    "x": "edm",
                    "xref": "x",
                    "y": "african gospel",
                    "yref": "y"
                  },
                  {
                    "font": {
                      "color": "#000000"
                    },
                    "showarrow": false,
                    "text": "0",
                    "x": "egyptian pop",
                    "xref": "x",
                    "y": "african gospel",
                    "yref": "y"
                  },
                  {
                    "font": {
                      "color": "#000000"
                    },
                    "showarrow": false,
                    "text": "0",
                    "x": "gospel",
                    "xref": "x",
                    "y": "african gospel",
                    "yref": "y"
                  },
                  {
                    "font": {
                      "color": "#000000"
                    },
                    "showarrow": false,
                    "text": "0",
                    "x": "lo-fi",
                    "xref": "x",
                    "y": "african gospel",
                    "yref": "y"
                  },
                  {
                    "font": {
                      "color": "#000000"
                    },
                    "showarrow": false,
                    "text": "0",
                    "x": "lo-fi beats",
                    "xref": "x",
                    "y": "african gospel",
                    "yref": "y"
                  },
                  {
                    "font": {
                      "color": "#000000"
                    },
                    "showarrow": false,
                    "text": "0",
                    "x": "lo-fi hip hop",
                    "xref": "x",
                    "y": "african gospel",
                    "yref": "y"
                  },
                  {
                    "font": {
                      "color": "#000000"
                    },
                    "showarrow": false,
                    "text": "0",
                    "x": "new age",
                    "xref": "x",
                    "y": "african gospel",
                    "yref": "y"
                  },
                  {
                    "font": {
                      "color": "#000000"
                    },
                    "showarrow": false,
                    "text": "0",
                    "x": "rap",
                    "xref": "x",
                    "y": "african gospel",
                    "yref": "y"
                  },
                  {
                    "font": {
                      "color": "#000000"
                    },
                    "showarrow": false,
                    "text": "0",
                    "x": "reggaeton",
                    "xref": "x",
                    "y": "african gospel",
                    "yref": "y"
                  },
                  {
                    "font": {
                      "color": "#000000"
                    },
                    "showarrow": false,
                    "text": "0",
                    "x": "soft pop",
                    "xref": "x",
                    "y": "african gospel",
                    "yref": "y"
                  },
                  {
                    "font": {
                      "color": "#000000"
                    },
                    "showarrow": false,
                    "text": "0",
                    "x": "traditional music",
                    "xref": "x",
                    "y": "african gospel",
                    "yref": "y"
                  },
                  {
                    "font": {
                      "color": "#000000"
                    },
                    "showarrow": false,
                    "text": "0",
                    "x": "uk drill",
                    "xref": "x",
                    "y": "african gospel",
                    "yref": "y"
                  },
                  {
                    "font": {
                      "color": "#000000"
                    },
                    "showarrow": false,
                    "text": "2",
                    "x": "worship",
                    "xref": "x",
                    "y": "african gospel",
                    "yref": "y"
                  },
                  {
                    "font": {
                      "color": "#000000"
                    },
                    "showarrow": false,
                    "text": "0",
                    "x": "Unknown",
                    "xref": "x",
                    "y": "afro adura",
                    "yref": "y"
                  },
                  {
                    "font": {
                      "color": "#000000"
                    },
                    "showarrow": false,
                    "text": "1",
                    "x": "african gospel",
                    "xref": "x",
                    "y": "afro adura",
                    "yref": "y"
                  },
                  {
                    "font": {
                      "color": "#000000"
                    },
                    "showarrow": false,
                    "text": "0",
                    "x": "afro adura",
                    "xref": "x",
                    "y": "afro adura",
                    "yref": "y"
                  },
                  {
                    "font": {
                      "color": "#000000"
                    },
                    "showarrow": false,
                    "text": "0",
                    "x": "afrobeats",
                    "xref": "x",
                    "y": "afro adura",
                    "yref": "y"
                  },
                  {
                    "font": {
                      "color": "#000000"
                    },
                    "showarrow": false,
                    "text": "0",
                    "x": "amapiano",
                    "xref": "x",
                    "y": "afro adura",
                    "yref": "y"
                  },
                  {
                    "font": {
                      "color": "#000000"
                    },
                    "showarrow": false,
                    "text": "0",
                    "x": "christian",
                    "xref": "x",
                    "y": "afro adura",
                    "yref": "y"
                  },
                  {
                    "font": {
                      "color": "#000000"
                    },
                    "showarrow": false,
                    "text": "0",
                    "x": "country",
                    "xref": "x",
                    "y": "afro adura",
                    "yref": "y"
                  },
                  {
                    "font": {
                      "color": "#000000"
                    },
                    "showarrow": false,
                    "text": "0",
                    "x": "edm",
                    "xref": "x",
                    "y": "afro adura",
                    "yref": "y"
                  },
                  {
                    "font": {
                      "color": "#000000"
                    },
                    "showarrow": false,
                    "text": "0",
                    "x": "egyptian pop",
                    "xref": "x",
                    "y": "afro adura",
                    "yref": "y"
                  },
                  {
                    "font": {
                      "color": "#000000"
                    },
                    "showarrow": false,
                    "text": "0",
                    "x": "gospel",
                    "xref": "x",
                    "y": "afro adura",
                    "yref": "y"
                  },
                  {
                    "font": {
                      "color": "#000000"
                    },
                    "showarrow": false,
                    "text": "0",
                    "x": "lo-fi",
                    "xref": "x",
                    "y": "afro adura",
                    "yref": "y"
                  },
                  {
                    "font": {
                      "color": "#000000"
                    },
                    "showarrow": false,
                    "text": "0",
                    "x": "lo-fi beats",
                    "xref": "x",
                    "y": "afro adura",
                    "yref": "y"
                  },
                  {
                    "font": {
                      "color": "#000000"
                    },
                    "showarrow": false,
                    "text": "0",
                    "x": "lo-fi hip hop",
                    "xref": "x",
                    "y": "afro adura",
                    "yref": "y"
                  },
                  {
                    "font": {
                      "color": "#000000"
                    },
                    "showarrow": false,
                    "text": "0",
                    "x": "new age",
                    "xref": "x",
                    "y": "afro adura",
                    "yref": "y"
                  },
                  {
                    "font": {
                      "color": "#000000"
                    },
                    "showarrow": false,
                    "text": "0",
                    "x": "rap",
                    "xref": "x",
                    "y": "afro adura",
                    "yref": "y"
                  },
                  {
                    "font": {
                      "color": "#000000"
                    },
                    "showarrow": false,
                    "text": "0",
                    "x": "reggaeton",
                    "xref": "x",
                    "y": "afro adura",
                    "yref": "y"
                  },
                  {
                    "font": {
                      "color": "#000000"
                    },
                    "showarrow": false,
                    "text": "0",
                    "x": "soft pop",
                    "xref": "x",
                    "y": "afro adura",
                    "yref": "y"
                  },
                  {
                    "font": {
                      "color": "#000000"
                    },
                    "showarrow": false,
                    "text": "0",
                    "x": "traditional music",
                    "xref": "x",
                    "y": "afro adura",
                    "yref": "y"
                  },
                  {
                    "font": {
                      "color": "#000000"
                    },
                    "showarrow": false,
                    "text": "0",
                    "x": "uk drill",
                    "xref": "x",
                    "y": "afro adura",
                    "yref": "y"
                  },
                  {
                    "font": {
                      "color": "#000000"
                    },
                    "showarrow": false,
                    "text": "0",
                    "x": "worship",
                    "xref": "x",
                    "y": "afro adura",
                    "yref": "y"
                  },
                  {
                    "font": {
                      "color": "#000000"
                    },
                    "showarrow": false,
                    "text": "5",
                    "x": "Unknown",
                    "xref": "x",
                    "y": "afrobeats",
                    "yref": "y"
                  },
                  {
                    "font": {
                      "color": "#000000"
                    },
                    "showarrow": false,
                    "text": "1",
                    "x": "african gospel",
                    "xref": "x",
                    "y": "afrobeats",
                    "yref": "y"
                  },
                  {
                    "font": {
                      "color": "#000000"
                    },
                    "showarrow": false,
                    "text": "0",
                    "x": "afro adura",
                    "xref": "x",
                    "y": "afrobeats",
                    "yref": "y"
                  },
                  {
                    "font": {
                      "color": "#FFFFFF"
                    },
                    "showarrow": false,
                    "text": "29",
                    "x": "afrobeats",
                    "xref": "x",
                    "y": "afrobeats",
                    "yref": "y"
                  },
                  {
                    "font": {
                      "color": "#000000"
                    },
                    "showarrow": false,
                    "text": "1",
                    "x": "amapiano",
                    "xref": "x",
                    "y": "afrobeats",
                    "yref": "y"
                  },
                  {
                    "font": {
                      "color": "#000000"
                    },
                    "showarrow": false,
                    "text": "0",
                    "x": "christian",
                    "xref": "x",
                    "y": "afrobeats",
                    "yref": "y"
                  },
                  {
                    "font": {
                      "color": "#000000"
                    },
                    "showarrow": false,
                    "text": "0",
                    "x": "country",
                    "xref": "x",
                    "y": "afrobeats",
                    "yref": "y"
                  },
                  {
                    "font": {
                      "color": "#000000"
                    },
                    "showarrow": false,
                    "text": "0",
                    "x": "edm",
                    "xref": "x",
                    "y": "afrobeats",
                    "yref": "y"
                  },
                  {
                    "font": {
                      "color": "#000000"
                    },
                    "showarrow": false,
                    "text": "0",
                    "x": "egyptian pop",
                    "xref": "x",
                    "y": "afrobeats",
                    "yref": "y"
                  },
                  {
                    "font": {
                      "color": "#000000"
                    },
                    "showarrow": false,
                    "text": "0",
                    "x": "gospel",
                    "xref": "x",
                    "y": "afrobeats",
                    "yref": "y"
                  },
                  {
                    "font": {
                      "color": "#000000"
                    },
                    "showarrow": false,
                    "text": "0",
                    "x": "lo-fi",
                    "xref": "x",
                    "y": "afrobeats",
                    "yref": "y"
                  },
                  {
                    "font": {
                      "color": "#000000"
                    },
                    "showarrow": false,
                    "text": "0",
                    "x": "lo-fi beats",
                    "xref": "x",
                    "y": "afrobeats",
                    "yref": "y"
                  },
                  {
                    "font": {
                      "color": "#000000"
                    },
                    "showarrow": false,
                    "text": "0",
                    "x": "lo-fi hip hop",
                    "xref": "x",
                    "y": "afrobeats",
                    "yref": "y"
                  },
                  {
                    "font": {
                      "color": "#000000"
                    },
                    "showarrow": false,
                    "text": "0",
                    "x": "new age",
                    "xref": "x",
                    "y": "afrobeats",
                    "yref": "y"
                  },
                  {
                    "font": {
                      "color": "#000000"
                    },
                    "showarrow": false,
                    "text": "0",
                    "x": "rap",
                    "xref": "x",
                    "y": "afrobeats",
                    "yref": "y"
                  },
                  {
                    "font": {
                      "color": "#000000"
                    },
                    "showarrow": false,
                    "text": "0",
                    "x": "reggaeton",
                    "xref": "x",
                    "y": "afrobeats",
                    "yref": "y"
                  },
                  {
                    "font": {
                      "color": "#000000"
                    },
                    "showarrow": false,
                    "text": "0",
                    "x": "soft pop",
                    "xref": "x",
                    "y": "afrobeats",
                    "yref": "y"
                  },
                  {
                    "font": {
                      "color": "#000000"
                    },
                    "showarrow": false,
                    "text": "1",
                    "x": "traditional music",
                    "xref": "x",
                    "y": "afrobeats",
                    "yref": "y"
                  },
                  {
                    "font": {
                      "color": "#000000"
                    },
                    "showarrow": false,
                    "text": "2",
                    "x": "uk drill",
                    "xref": "x",
                    "y": "afrobeats",
                    "yref": "y"
                  },
                  {
                    "font": {
                      "color": "#000000"
                    },
                    "showarrow": false,
                    "text": "0",
                    "x": "worship",
                    "xref": "x",
                    "y": "afrobeats",
                    "yref": "y"
                  },
                  {
                    "font": {
                      "color": "#000000"
                    },
                    "showarrow": false,
                    "text": "1",
                    "x": "Unknown",
                    "xref": "x",
                    "y": "amapiano",
                    "yref": "y"
                  },
                  {
                    "font": {
                      "color": "#000000"
                    },
                    "showarrow": false,
                    "text": "0",
                    "x": "african gospel",
                    "xref": "x",
                    "y": "amapiano",
                    "yref": "y"
                  },
                  {
                    "font": {
                      "color": "#000000"
                    },
                    "showarrow": false,
                    "text": "0",
                    "x": "afro adura",
                    "xref": "x",
                    "y": "amapiano",
                    "yref": "y"
                  },
                  {
                    "font": {
                      "color": "#000000"
                    },
                    "showarrow": false,
                    "text": "0",
                    "x": "afrobeats",
                    "xref": "x",
                    "y": "amapiano",
                    "yref": "y"
                  },
                  {
                    "font": {
                      "color": "#000000"
                    },
                    "showarrow": false,
                    "text": "1",
                    "x": "amapiano",
                    "xref": "x",
                    "y": "amapiano",
                    "yref": "y"
                  },
                  {
                    "font": {
                      "color": "#000000"
                    },
                    "showarrow": false,
                    "text": "0",
                    "x": "christian",
                    "xref": "x",
                    "y": "amapiano",
                    "yref": "y"
                  },
                  {
                    "font": {
                      "color": "#000000"
                    },
                    "showarrow": false,
                    "text": "0",
                    "x": "country",
                    "xref": "x",
                    "y": "amapiano",
                    "yref": "y"
                  },
                  {
                    "font": {
                      "color": "#000000"
                    },
                    "showarrow": false,
                    "text": "0",
                    "x": "edm",
                    "xref": "x",
                    "y": "amapiano",
                    "yref": "y"
                  },
                  {
                    "font": {
                      "color": "#000000"
                    },
                    "showarrow": false,
                    "text": "0",
                    "x": "egyptian pop",
                    "xref": "x",
                    "y": "amapiano",
                    "yref": "y"
                  },
                  {
                    "font": {
                      "color": "#000000"
                    },
                    "showarrow": false,
                    "text": "0",
                    "x": "gospel",
                    "xref": "x",
                    "y": "amapiano",
                    "yref": "y"
                  },
                  {
                    "font": {
                      "color": "#000000"
                    },
                    "showarrow": false,
                    "text": "0",
                    "x": "lo-fi",
                    "xref": "x",
                    "y": "amapiano",
                    "yref": "y"
                  },
                  {
                    "font": {
                      "color": "#000000"
                    },
                    "showarrow": false,
                    "text": "0",
                    "x": "lo-fi beats",
                    "xref": "x",
                    "y": "amapiano",
                    "yref": "y"
                  },
                  {
                    "font": {
                      "color": "#000000"
                    },
                    "showarrow": false,
                    "text": "0",
                    "x": "lo-fi hip hop",
                    "xref": "x",
                    "y": "amapiano",
                    "yref": "y"
                  },
                  {
                    "font": {
                      "color": "#000000"
                    },
                    "showarrow": false,
                    "text": "0",
                    "x": "new age",
                    "xref": "x",
                    "y": "amapiano",
                    "yref": "y"
                  },
                  {
                    "font": {
                      "color": "#000000"
                    },
                    "showarrow": false,
                    "text": "0",
                    "x": "rap",
                    "xref": "x",
                    "y": "amapiano",
                    "yref": "y"
                  },
                  {
                    "font": {
                      "color": "#000000"
                    },
                    "showarrow": false,
                    "text": "0",
                    "x": "reggaeton",
                    "xref": "x",
                    "y": "amapiano",
                    "yref": "y"
                  },
                  {
                    "font": {
                      "color": "#000000"
                    },
                    "showarrow": false,
                    "text": "0",
                    "x": "soft pop",
                    "xref": "x",
                    "y": "amapiano",
                    "yref": "y"
                  },
                  {
                    "font": {
                      "color": "#000000"
                    },
                    "showarrow": false,
                    "text": "0",
                    "x": "traditional music",
                    "xref": "x",
                    "y": "amapiano",
                    "yref": "y"
                  },
                  {
                    "font": {
                      "color": "#000000"
                    },
                    "showarrow": false,
                    "text": "0",
                    "x": "uk drill",
                    "xref": "x",
                    "y": "amapiano",
                    "yref": "y"
                  },
                  {
                    "font": {
                      "color": "#000000"
                    },
                    "showarrow": false,
                    "text": "0",
                    "x": "worship",
                    "xref": "x",
                    "y": "amapiano",
                    "yref": "y"
                  },
                  {
                    "font": {
                      "color": "#000000"
                    },
                    "showarrow": false,
                    "text": "1",
                    "x": "Unknown",
                    "xref": "x",
                    "y": "christian",
                    "yref": "y"
                  },
                  {
                    "font": {
                      "color": "#000000"
                    },
                    "showarrow": false,
                    "text": "1",
                    "x": "african gospel",
                    "xref": "x",
                    "y": "christian",
                    "yref": "y"
                  },
                  {
                    "font": {
                      "color": "#000000"
                    },
                    "showarrow": false,
                    "text": "0",
                    "x": "afro adura",
                    "xref": "x",
                    "y": "christian",
                    "yref": "y"
                  },
                  {
                    "font": {
                      "color": "#000000"
                    },
                    "showarrow": false,
                    "text": "0",
                    "x": "afrobeats",
                    "xref": "x",
                    "y": "christian",
                    "yref": "y"
                  },
                  {
                    "font": {
                      "color": "#000000"
                    },
                    "showarrow": false,
                    "text": "0",
                    "x": "amapiano",
                    "xref": "x",
                    "y": "christian",
                    "yref": "y"
                  },
                  {
                    "font": {
                      "color": "#000000"
                    },
                    "showarrow": false,
                    "text": "2",
                    "x": "christian",
                    "xref": "x",
                    "y": "christian",
                    "yref": "y"
                  },
                  {
                    "font": {
                      "color": "#000000"
                    },
                    "showarrow": false,
                    "text": "0",
                    "x": "country",
                    "xref": "x",
                    "y": "christian",
                    "yref": "y"
                  },
                  {
                    "font": {
                      "color": "#000000"
                    },
                    "showarrow": false,
                    "text": "0",
                    "x": "edm",
                    "xref": "x",
                    "y": "christian",
                    "yref": "y"
                  },
                  {
                    "font": {
                      "color": "#000000"
                    },
                    "showarrow": false,
                    "text": "0",
                    "x": "egyptian pop",
                    "xref": "x",
                    "y": "christian",
                    "yref": "y"
                  },
                  {
                    "font": {
                      "color": "#000000"
                    },
                    "showarrow": false,
                    "text": "0",
                    "x": "gospel",
                    "xref": "x",
                    "y": "christian",
                    "yref": "y"
                  },
                  {
                    "font": {
                      "color": "#000000"
                    },
                    "showarrow": false,
                    "text": "0",
                    "x": "lo-fi",
                    "xref": "x",
                    "y": "christian",
                    "yref": "y"
                  },
                  {
                    "font": {
                      "color": "#000000"
                    },
                    "showarrow": false,
                    "text": "0",
                    "x": "lo-fi beats",
                    "xref": "x",
                    "y": "christian",
                    "yref": "y"
                  },
                  {
                    "font": {
                      "color": "#000000"
                    },
                    "showarrow": false,
                    "text": "0",
                    "x": "lo-fi hip hop",
                    "xref": "x",
                    "y": "christian",
                    "yref": "y"
                  },
                  {
                    "font": {
                      "color": "#000000"
                    },
                    "showarrow": false,
                    "text": "0",
                    "x": "new age",
                    "xref": "x",
                    "y": "christian",
                    "yref": "y"
                  },
                  {
                    "font": {
                      "color": "#000000"
                    },
                    "showarrow": false,
                    "text": "0",
                    "x": "rap",
                    "xref": "x",
                    "y": "christian",
                    "yref": "y"
                  },
                  {
                    "font": {
                      "color": "#000000"
                    },
                    "showarrow": false,
                    "text": "0",
                    "x": "reggaeton",
                    "xref": "x",
                    "y": "christian",
                    "yref": "y"
                  },
                  {
                    "font": {
                      "color": "#000000"
                    },
                    "showarrow": false,
                    "text": "0",
                    "x": "soft pop",
                    "xref": "x",
                    "y": "christian",
                    "yref": "y"
                  },
                  {
                    "font": {
                      "color": "#000000"
                    },
                    "showarrow": false,
                    "text": "0",
                    "x": "traditional music",
                    "xref": "x",
                    "y": "christian",
                    "yref": "y"
                  },
                  {
                    "font": {
                      "color": "#000000"
                    },
                    "showarrow": false,
                    "text": "0",
                    "x": "uk drill",
                    "xref": "x",
                    "y": "christian",
                    "yref": "y"
                  },
                  {
                    "font": {
                      "color": "#000000"
                    },
                    "showarrow": false,
                    "text": "2",
                    "x": "worship",
                    "xref": "x",
                    "y": "christian",
                    "yref": "y"
                  },
                  {
                    "font": {
                      "color": "#000000"
                    },
                    "showarrow": false,
                    "text": "1",
                    "x": "Unknown",
                    "xref": "x",
                    "y": "country",
                    "yref": "y"
                  },
                  {
                    "font": {
                      "color": "#000000"
                    },
                    "showarrow": false,
                    "text": "0",
                    "x": "african gospel",
                    "xref": "x",
                    "y": "country",
                    "yref": "y"
                  },
                  {
                    "font": {
                      "color": "#000000"
                    },
                    "showarrow": false,
                    "text": "0",
                    "x": "afro adura",
                    "xref": "x",
                    "y": "country",
                    "yref": "y"
                  },
                  {
                    "font": {
                      "color": "#000000"
                    },
                    "showarrow": false,
                    "text": "2",
                    "x": "afrobeats",
                    "xref": "x",
                    "y": "country",
                    "yref": "y"
                  },
                  {
                    "font": {
                      "color": "#000000"
                    },
                    "showarrow": false,
                    "text": "0",
                    "x": "amapiano",
                    "xref": "x",
                    "y": "country",
                    "yref": "y"
                  },
                  {
                    "font": {
                      "color": "#000000"
                    },
                    "showarrow": false,
                    "text": "0",
                    "x": "christian",
                    "xref": "x",
                    "y": "country",
                    "yref": "y"
                  },
                  {
                    "font": {
                      "color": "#000000"
                    },
                    "showarrow": false,
                    "text": "0",
                    "x": "country",
                    "xref": "x",
                    "y": "country",
                    "yref": "y"
                  },
                  {
                    "font": {
                      "color": "#000000"
                    },
                    "showarrow": false,
                    "text": "0",
                    "x": "edm",
                    "xref": "x",
                    "y": "country",
                    "yref": "y"
                  },
                  {
                    "font": {
                      "color": "#000000"
                    },
                    "showarrow": false,
                    "text": "0",
                    "x": "egyptian pop",
                    "xref": "x",
                    "y": "country",
                    "yref": "y"
                  },
                  {
                    "font": {
                      "color": "#000000"
                    },
                    "showarrow": false,
                    "text": "0",
                    "x": "gospel",
                    "xref": "x",
                    "y": "country",
                    "yref": "y"
                  },
                  {
                    "font": {
                      "color": "#000000"
                    },
                    "showarrow": false,
                    "text": "0",
                    "x": "lo-fi",
                    "xref": "x",
                    "y": "country",
                    "yref": "y"
                  },
                  {
                    "font": {
                      "color": "#000000"
                    },
                    "showarrow": false,
                    "text": "0",
                    "x": "lo-fi beats",
                    "xref": "x",
                    "y": "country",
                    "yref": "y"
                  },
                  {
                    "font": {
                      "color": "#000000"
                    },
                    "showarrow": false,
                    "text": "0",
                    "x": "lo-fi hip hop",
                    "xref": "x",
                    "y": "country",
                    "yref": "y"
                  },
                  {
                    "font": {
                      "color": "#000000"
                    },
                    "showarrow": false,
                    "text": "0",
                    "x": "new age",
                    "xref": "x",
                    "y": "country",
                    "yref": "y"
                  },
                  {
                    "font": {
                      "color": "#000000"
                    },
                    "showarrow": false,
                    "text": "0",
                    "x": "rap",
                    "xref": "x",
                    "y": "country",
                    "yref": "y"
                  },
                  {
                    "font": {
                      "color": "#000000"
                    },
                    "showarrow": false,
                    "text": "0",
                    "x": "reggaeton",
                    "xref": "x",
                    "y": "country",
                    "yref": "y"
                  },
                  {
                    "font": {
                      "color": "#000000"
                    },
                    "showarrow": false,
                    "text": "0",
                    "x": "soft pop",
                    "xref": "x",
                    "y": "country",
                    "yref": "y"
                  },
                  {
                    "font": {
                      "color": "#000000"
                    },
                    "showarrow": false,
                    "text": "0",
                    "x": "traditional music",
                    "xref": "x",
                    "y": "country",
                    "yref": "y"
                  },
                  {
                    "font": {
                      "color": "#000000"
                    },
                    "showarrow": false,
                    "text": "0",
                    "x": "uk drill",
                    "xref": "x",
                    "y": "country",
                    "yref": "y"
                  },
                  {
                    "font": {
                      "color": "#000000"
                    },
                    "showarrow": false,
                    "text": "0",
                    "x": "worship",
                    "xref": "x",
                    "y": "country",
                    "yref": "y"
                  },
                  {
                    "font": {
                      "color": "#000000"
                    },
                    "showarrow": false,
                    "text": "3",
                    "x": "Unknown",
                    "xref": "x",
                    "y": "edm",
                    "yref": "y"
                  },
                  {
                    "font": {
                      "color": "#000000"
                    },
                    "showarrow": false,
                    "text": "0",
                    "x": "african gospel",
                    "xref": "x",
                    "y": "edm",
                    "yref": "y"
                  },
                  {
                    "font": {
                      "color": "#000000"
                    },
                    "showarrow": false,
                    "text": "0",
                    "x": "afro adura",
                    "xref": "x",
                    "y": "edm",
                    "yref": "y"
                  },
                  {
                    "font": {
                      "color": "#000000"
                    },
                    "showarrow": false,
                    "text": "0",
                    "x": "afrobeats",
                    "xref": "x",
                    "y": "edm",
                    "yref": "y"
                  },
                  {
                    "font": {
                      "color": "#000000"
                    },
                    "showarrow": false,
                    "text": "0",
                    "x": "amapiano",
                    "xref": "x",
                    "y": "edm",
                    "yref": "y"
                  },
                  {
                    "font": {
                      "color": "#000000"
                    },
                    "showarrow": false,
                    "text": "0",
                    "x": "christian",
                    "xref": "x",
                    "y": "edm",
                    "yref": "y"
                  },
                  {
                    "font": {
                      "color": "#000000"
                    },
                    "showarrow": false,
                    "text": "0",
                    "x": "country",
                    "xref": "x",
                    "y": "edm",
                    "yref": "y"
                  },
                  {
                    "font": {
                      "color": "#000000"
                    },
                    "showarrow": false,
                    "text": "0",
                    "x": "edm",
                    "xref": "x",
                    "y": "edm",
                    "yref": "y"
                  },
                  {
                    "font": {
                      "color": "#000000"
                    },
                    "showarrow": false,
                    "text": "0",
                    "x": "egyptian pop",
                    "xref": "x",
                    "y": "edm",
                    "yref": "y"
                  },
                  {
                    "font": {
                      "color": "#000000"
                    },
                    "showarrow": false,
                    "text": "0",
                    "x": "gospel",
                    "xref": "x",
                    "y": "edm",
                    "yref": "y"
                  },
                  {
                    "font": {
                      "color": "#000000"
                    },
                    "showarrow": false,
                    "text": "0",
                    "x": "lo-fi",
                    "xref": "x",
                    "y": "edm",
                    "yref": "y"
                  },
                  {
                    "font": {
                      "color": "#000000"
                    },
                    "showarrow": false,
                    "text": "0",
                    "x": "lo-fi beats",
                    "xref": "x",
                    "y": "edm",
                    "yref": "y"
                  },
                  {
                    "font": {
                      "color": "#000000"
                    },
                    "showarrow": false,
                    "text": "0",
                    "x": "lo-fi hip hop",
                    "xref": "x",
                    "y": "edm",
                    "yref": "y"
                  },
                  {
                    "font": {
                      "color": "#000000"
                    },
                    "showarrow": false,
                    "text": "0",
                    "x": "new age",
                    "xref": "x",
                    "y": "edm",
                    "yref": "y"
                  },
                  {
                    "font": {
                      "color": "#000000"
                    },
                    "showarrow": false,
                    "text": "0",
                    "x": "rap",
                    "xref": "x",
                    "y": "edm",
                    "yref": "y"
                  },
                  {
                    "font": {
                      "color": "#000000"
                    },
                    "showarrow": false,
                    "text": "0",
                    "x": "reggaeton",
                    "xref": "x",
                    "y": "edm",
                    "yref": "y"
                  },
                  {
                    "font": {
                      "color": "#000000"
                    },
                    "showarrow": false,
                    "text": "0",
                    "x": "soft pop",
                    "xref": "x",
                    "y": "edm",
                    "yref": "y"
                  },
                  {
                    "font": {
                      "color": "#000000"
                    },
                    "showarrow": false,
                    "text": "0",
                    "x": "traditional music",
                    "xref": "x",
                    "y": "edm",
                    "yref": "y"
                  },
                  {
                    "font": {
                      "color": "#000000"
                    },
                    "showarrow": false,
                    "text": "0",
                    "x": "uk drill",
                    "xref": "x",
                    "y": "edm",
                    "yref": "y"
                  },
                  {
                    "font": {
                      "color": "#000000"
                    },
                    "showarrow": false,
                    "text": "0",
                    "x": "worship",
                    "xref": "x",
                    "y": "edm",
                    "yref": "y"
                  },
                  {
                    "font": {
                      "color": "#000000"
                    },
                    "showarrow": false,
                    "text": "1",
                    "x": "Unknown",
                    "xref": "x",
                    "y": "egyptian pop",
                    "yref": "y"
                  },
                  {
                    "font": {
                      "color": "#000000"
                    },
                    "showarrow": false,
                    "text": "0",
                    "x": "african gospel",
                    "xref": "x",
                    "y": "egyptian pop",
                    "yref": "y"
                  },
                  {
                    "font": {
                      "color": "#000000"
                    },
                    "showarrow": false,
                    "text": "0",
                    "x": "afro adura",
                    "xref": "x",
                    "y": "egyptian pop",
                    "yref": "y"
                  },
                  {
                    "font": {
                      "color": "#000000"
                    },
                    "showarrow": false,
                    "text": "0",
                    "x": "afrobeats",
                    "xref": "x",
                    "y": "egyptian pop",
                    "yref": "y"
                  },
                  {
                    "font": {
                      "color": "#000000"
                    },
                    "showarrow": false,
                    "text": "0",
                    "x": "amapiano",
                    "xref": "x",
                    "y": "egyptian pop",
                    "yref": "y"
                  },
                  {
                    "font": {
                      "color": "#000000"
                    },
                    "showarrow": false,
                    "text": "0",
                    "x": "christian",
                    "xref": "x",
                    "y": "egyptian pop",
                    "yref": "y"
                  },
                  {
                    "font": {
                      "color": "#000000"
                    },
                    "showarrow": false,
                    "text": "0",
                    "x": "country",
                    "xref": "x",
                    "y": "egyptian pop",
                    "yref": "y"
                  },
                  {
                    "font": {
                      "color": "#000000"
                    },
                    "showarrow": false,
                    "text": "0",
                    "x": "edm",
                    "xref": "x",
                    "y": "egyptian pop",
                    "yref": "y"
                  },
                  {
                    "font": {
                      "color": "#000000"
                    },
                    "showarrow": false,
                    "text": "1",
                    "x": "egyptian pop",
                    "xref": "x",
                    "y": "egyptian pop",
                    "yref": "y"
                  },
                  {
                    "font": {
                      "color": "#000000"
                    },
                    "showarrow": false,
                    "text": "0",
                    "x": "gospel",
                    "xref": "x",
                    "y": "egyptian pop",
                    "yref": "y"
                  },
                  {
                    "font": {
                      "color": "#000000"
                    },
                    "showarrow": false,
                    "text": "0",
                    "x": "lo-fi",
                    "xref": "x",
                    "y": "egyptian pop",
                    "yref": "y"
                  },
                  {
                    "font": {
                      "color": "#000000"
                    },
                    "showarrow": false,
                    "text": "0",
                    "x": "lo-fi beats",
                    "xref": "x",
                    "y": "egyptian pop",
                    "yref": "y"
                  },
                  {
                    "font": {
                      "color": "#000000"
                    },
                    "showarrow": false,
                    "text": "0",
                    "x": "lo-fi hip hop",
                    "xref": "x",
                    "y": "egyptian pop",
                    "yref": "y"
                  },
                  {
                    "font": {
                      "color": "#000000"
                    },
                    "showarrow": false,
                    "text": "0",
                    "x": "new age",
                    "xref": "x",
                    "y": "egyptian pop",
                    "yref": "y"
                  },
                  {
                    "font": {
                      "color": "#000000"
                    },
                    "showarrow": false,
                    "text": "0",
                    "x": "rap",
                    "xref": "x",
                    "y": "egyptian pop",
                    "yref": "y"
                  },
                  {
                    "font": {
                      "color": "#000000"
                    },
                    "showarrow": false,
                    "text": "0",
                    "x": "reggaeton",
                    "xref": "x",
                    "y": "egyptian pop",
                    "yref": "y"
                  },
                  {
                    "font": {
                      "color": "#000000"
                    },
                    "showarrow": false,
                    "text": "0",
                    "x": "soft pop",
                    "xref": "x",
                    "y": "egyptian pop",
                    "yref": "y"
                  },
                  {
                    "font": {
                      "color": "#000000"
                    },
                    "showarrow": false,
                    "text": "0",
                    "x": "traditional music",
                    "xref": "x",
                    "y": "egyptian pop",
                    "yref": "y"
                  },
                  {
                    "font": {
                      "color": "#000000"
                    },
                    "showarrow": false,
                    "text": "0",
                    "x": "uk drill",
                    "xref": "x",
                    "y": "egyptian pop",
                    "yref": "y"
                  },
                  {
                    "font": {
                      "color": "#000000"
                    },
                    "showarrow": false,
                    "text": "0",
                    "x": "worship",
                    "xref": "x",
                    "y": "egyptian pop",
                    "yref": "y"
                  },
                  {
                    "font": {
                      "color": "#000000"
                    },
                    "showarrow": false,
                    "text": "4",
                    "x": "Unknown",
                    "xref": "x",
                    "y": "gospel",
                    "yref": "y"
                  },
                  {
                    "font": {
                      "color": "#000000"
                    },
                    "showarrow": false,
                    "text": "0",
                    "x": "african gospel",
                    "xref": "x",
                    "y": "gospel",
                    "yref": "y"
                  },
                  {
                    "font": {
                      "color": "#000000"
                    },
                    "showarrow": false,
                    "text": "0",
                    "x": "afro adura",
                    "xref": "x",
                    "y": "gospel",
                    "yref": "y"
                  },
                  {
                    "font": {
                      "color": "#000000"
                    },
                    "showarrow": false,
                    "text": "0",
                    "x": "afrobeats",
                    "xref": "x",
                    "y": "gospel",
                    "yref": "y"
                  },
                  {
                    "font": {
                      "color": "#000000"
                    },
                    "showarrow": false,
                    "text": "0",
                    "x": "amapiano",
                    "xref": "x",
                    "y": "gospel",
                    "yref": "y"
                  },
                  {
                    "font": {
                      "color": "#000000"
                    },
                    "showarrow": false,
                    "text": "1",
                    "x": "christian",
                    "xref": "x",
                    "y": "gospel",
                    "yref": "y"
                  },
                  {
                    "font": {
                      "color": "#000000"
                    },
                    "showarrow": false,
                    "text": "0",
                    "x": "country",
                    "xref": "x",
                    "y": "gospel",
                    "yref": "y"
                  },
                  {
                    "font": {
                      "color": "#000000"
                    },
                    "showarrow": false,
                    "text": "0",
                    "x": "edm",
                    "xref": "x",
                    "y": "gospel",
                    "yref": "y"
                  },
                  {
                    "font": {
                      "color": "#000000"
                    },
                    "showarrow": false,
                    "text": "0",
                    "x": "egyptian pop",
                    "xref": "x",
                    "y": "gospel",
                    "yref": "y"
                  },
                  {
                    "font": {
                      "color": "#000000"
                    },
                    "showarrow": false,
                    "text": "1",
                    "x": "gospel",
                    "xref": "x",
                    "y": "gospel",
                    "yref": "y"
                  },
                  {
                    "font": {
                      "color": "#000000"
                    },
                    "showarrow": false,
                    "text": "0",
                    "x": "lo-fi",
                    "xref": "x",
                    "y": "gospel",
                    "yref": "y"
                  },
                  {
                    "font": {
                      "color": "#000000"
                    },
                    "showarrow": false,
                    "text": "0",
                    "x": "lo-fi beats",
                    "xref": "x",
                    "y": "gospel",
                    "yref": "y"
                  },
                  {
                    "font": {
                      "color": "#000000"
                    },
                    "showarrow": false,
                    "text": "0",
                    "x": "lo-fi hip hop",
                    "xref": "x",
                    "y": "gospel",
                    "yref": "y"
                  },
                  {
                    "font": {
                      "color": "#000000"
                    },
                    "showarrow": false,
                    "text": "0",
                    "x": "new age",
                    "xref": "x",
                    "y": "gospel",
                    "yref": "y"
                  },
                  {
                    "font": {
                      "color": "#000000"
                    },
                    "showarrow": false,
                    "text": "0",
                    "x": "rap",
                    "xref": "x",
                    "y": "gospel",
                    "yref": "y"
                  },
                  {
                    "font": {
                      "color": "#000000"
                    },
                    "showarrow": false,
                    "text": "0",
                    "x": "reggaeton",
                    "xref": "x",
                    "y": "gospel",
                    "yref": "y"
                  },
                  {
                    "font": {
                      "color": "#000000"
                    },
                    "showarrow": false,
                    "text": "0",
                    "x": "soft pop",
                    "xref": "x",
                    "y": "gospel",
                    "yref": "y"
                  },
                  {
                    "font": {
                      "color": "#000000"
                    },
                    "showarrow": false,
                    "text": "0",
                    "x": "traditional music",
                    "xref": "x",
                    "y": "gospel",
                    "yref": "y"
                  },
                  {
                    "font": {
                      "color": "#000000"
                    },
                    "showarrow": false,
                    "text": "1",
                    "x": "uk drill",
                    "xref": "x",
                    "y": "gospel",
                    "yref": "y"
                  },
                  {
                    "font": {
                      "color": "#000000"
                    },
                    "showarrow": false,
                    "text": "2",
                    "x": "worship",
                    "xref": "x",
                    "y": "gospel",
                    "yref": "y"
                  },
                  {
                    "font": {
                      "color": "#000000"
                    },
                    "showarrow": false,
                    "text": "2",
                    "x": "Unknown",
                    "xref": "x",
                    "y": "lo-fi",
                    "yref": "y"
                  },
                  {
                    "font": {
                      "color": "#000000"
                    },
                    "showarrow": false,
                    "text": "0",
                    "x": "african gospel",
                    "xref": "x",
                    "y": "lo-fi",
                    "yref": "y"
                  },
                  {
                    "font": {
                      "color": "#000000"
                    },
                    "showarrow": false,
                    "text": "0",
                    "x": "afro adura",
                    "xref": "x",
                    "y": "lo-fi",
                    "yref": "y"
                  },
                  {
                    "font": {
                      "color": "#000000"
                    },
                    "showarrow": false,
                    "text": "1",
                    "x": "afrobeats",
                    "xref": "x",
                    "y": "lo-fi",
                    "yref": "y"
                  },
                  {
                    "font": {
                      "color": "#000000"
                    },
                    "showarrow": false,
                    "text": "1",
                    "x": "amapiano",
                    "xref": "x",
                    "y": "lo-fi",
                    "yref": "y"
                  },
                  {
                    "font": {
                      "color": "#000000"
                    },
                    "showarrow": false,
                    "text": "0",
                    "x": "christian",
                    "xref": "x",
                    "y": "lo-fi",
                    "yref": "y"
                  },
                  {
                    "font": {
                      "color": "#000000"
                    },
                    "showarrow": false,
                    "text": "0",
                    "x": "country",
                    "xref": "x",
                    "y": "lo-fi",
                    "yref": "y"
                  },
                  {
                    "font": {
                      "color": "#000000"
                    },
                    "showarrow": false,
                    "text": "0",
                    "x": "edm",
                    "xref": "x",
                    "y": "lo-fi",
                    "yref": "y"
                  },
                  {
                    "font": {
                      "color": "#000000"
                    },
                    "showarrow": false,
                    "text": "0",
                    "x": "egyptian pop",
                    "xref": "x",
                    "y": "lo-fi",
                    "yref": "y"
                  },
                  {
                    "font": {
                      "color": "#000000"
                    },
                    "showarrow": false,
                    "text": "0",
                    "x": "gospel",
                    "xref": "x",
                    "y": "lo-fi",
                    "yref": "y"
                  },
                  {
                    "font": {
                      "color": "#000000"
                    },
                    "showarrow": false,
                    "text": "11",
                    "x": "lo-fi",
                    "xref": "x",
                    "y": "lo-fi",
                    "yref": "y"
                  },
                  {
                    "font": {
                      "color": "#000000"
                    },
                    "showarrow": false,
                    "text": "2",
                    "x": "lo-fi beats",
                    "xref": "x",
                    "y": "lo-fi",
                    "yref": "y"
                  },
                  {
                    "font": {
                      "color": "#000000"
                    },
                    "showarrow": false,
                    "text": "0",
                    "x": "lo-fi hip hop",
                    "xref": "x",
                    "y": "lo-fi",
                    "yref": "y"
                  },
                  {
                    "font": {
                      "color": "#000000"
                    },
                    "showarrow": false,
                    "text": "0",
                    "x": "new age",
                    "xref": "x",
                    "y": "lo-fi",
                    "yref": "y"
                  },
                  {
                    "font": {
                      "color": "#000000"
                    },
                    "showarrow": false,
                    "text": "0",
                    "x": "rap",
                    "xref": "x",
                    "y": "lo-fi",
                    "yref": "y"
                  },
                  {
                    "font": {
                      "color": "#000000"
                    },
                    "showarrow": false,
                    "text": "0",
                    "x": "reggaeton",
                    "xref": "x",
                    "y": "lo-fi",
                    "yref": "y"
                  },
                  {
                    "font": {
                      "color": "#000000"
                    },
                    "showarrow": false,
                    "text": "0",
                    "x": "soft pop",
                    "xref": "x",
                    "y": "lo-fi",
                    "yref": "y"
                  },
                  {
                    "font": {
                      "color": "#000000"
                    },
                    "showarrow": false,
                    "text": "0",
                    "x": "traditional music",
                    "xref": "x",
                    "y": "lo-fi",
                    "yref": "y"
                  },
                  {
                    "font": {
                      "color": "#000000"
                    },
                    "showarrow": false,
                    "text": "0",
                    "x": "uk drill",
                    "xref": "x",
                    "y": "lo-fi",
                    "yref": "y"
                  },
                  {
                    "font": {
                      "color": "#000000"
                    },
                    "showarrow": false,
                    "text": "0",
                    "x": "worship",
                    "xref": "x",
                    "y": "lo-fi",
                    "yref": "y"
                  },
                  {
                    "font": {
                      "color": "#000000"
                    },
                    "showarrow": false,
                    "text": "0",
                    "x": "Unknown",
                    "xref": "x",
                    "y": "lo-fi beats",
                    "yref": "y"
                  },
                  {
                    "font": {
                      "color": "#000000"
                    },
                    "showarrow": false,
                    "text": "0",
                    "x": "african gospel",
                    "xref": "x",
                    "y": "lo-fi beats",
                    "yref": "y"
                  },
                  {
                    "font": {
                      "color": "#000000"
                    },
                    "showarrow": false,
                    "text": "0",
                    "x": "afro adura",
                    "xref": "x",
                    "y": "lo-fi beats",
                    "yref": "y"
                  },
                  {
                    "font": {
                      "color": "#000000"
                    },
                    "showarrow": false,
                    "text": "0",
                    "x": "afrobeats",
                    "xref": "x",
                    "y": "lo-fi beats",
                    "yref": "y"
                  },
                  {
                    "font": {
                      "color": "#000000"
                    },
                    "showarrow": false,
                    "text": "0",
                    "x": "amapiano",
                    "xref": "x",
                    "y": "lo-fi beats",
                    "yref": "y"
                  },
                  {
                    "font": {
                      "color": "#000000"
                    },
                    "showarrow": false,
                    "text": "0",
                    "x": "christian",
                    "xref": "x",
                    "y": "lo-fi beats",
                    "yref": "y"
                  },
                  {
                    "font": {
                      "color": "#000000"
                    },
                    "showarrow": false,
                    "text": "0",
                    "x": "country",
                    "xref": "x",
                    "y": "lo-fi beats",
                    "yref": "y"
                  },
                  {
                    "font": {
                      "color": "#000000"
                    },
                    "showarrow": false,
                    "text": "0",
                    "x": "edm",
                    "xref": "x",
                    "y": "lo-fi beats",
                    "yref": "y"
                  },
                  {
                    "font": {
                      "color": "#000000"
                    },
                    "showarrow": false,
                    "text": "0",
                    "x": "egyptian pop",
                    "xref": "x",
                    "y": "lo-fi beats",
                    "yref": "y"
                  },
                  {
                    "font": {
                      "color": "#000000"
                    },
                    "showarrow": false,
                    "text": "0",
                    "x": "gospel",
                    "xref": "x",
                    "y": "lo-fi beats",
                    "yref": "y"
                  },
                  {
                    "font": {
                      "color": "#000000"
                    },
                    "showarrow": false,
                    "text": "2",
                    "x": "lo-fi",
                    "xref": "x",
                    "y": "lo-fi beats",
                    "yref": "y"
                  },
                  {
                    "font": {
                      "color": "#000000"
                    },
                    "showarrow": false,
                    "text": "0",
                    "x": "lo-fi beats",
                    "xref": "x",
                    "y": "lo-fi beats",
                    "yref": "y"
                  },
                  {
                    "font": {
                      "color": "#000000"
                    },
                    "showarrow": false,
                    "text": "0",
                    "x": "lo-fi hip hop",
                    "xref": "x",
                    "y": "lo-fi beats",
                    "yref": "y"
                  },
                  {
                    "font": {
                      "color": "#000000"
                    },
                    "showarrow": false,
                    "text": "0",
                    "x": "new age",
                    "xref": "x",
                    "y": "lo-fi beats",
                    "yref": "y"
                  },
                  {
                    "font": {
                      "color": "#000000"
                    },
                    "showarrow": false,
                    "text": "0",
                    "x": "rap",
                    "xref": "x",
                    "y": "lo-fi beats",
                    "yref": "y"
                  },
                  {
                    "font": {
                      "color": "#000000"
                    },
                    "showarrow": false,
                    "text": "0",
                    "x": "reggaeton",
                    "xref": "x",
                    "y": "lo-fi beats",
                    "yref": "y"
                  },
                  {
                    "font": {
                      "color": "#000000"
                    },
                    "showarrow": false,
                    "text": "0",
                    "x": "soft pop",
                    "xref": "x",
                    "y": "lo-fi beats",
                    "yref": "y"
                  },
                  {
                    "font": {
                      "color": "#000000"
                    },
                    "showarrow": false,
                    "text": "0",
                    "x": "traditional music",
                    "xref": "x",
                    "y": "lo-fi beats",
                    "yref": "y"
                  },
                  {
                    "font": {
                      "color": "#000000"
                    },
                    "showarrow": false,
                    "text": "0",
                    "x": "uk drill",
                    "xref": "x",
                    "y": "lo-fi beats",
                    "yref": "y"
                  },
                  {
                    "font": {
                      "color": "#000000"
                    },
                    "showarrow": false,
                    "text": "1",
                    "x": "worship",
                    "xref": "x",
                    "y": "lo-fi beats",
                    "yref": "y"
                  },
                  {
                    "font": {
                      "color": "#000000"
                    },
                    "showarrow": false,
                    "text": "0",
                    "x": "Unknown",
                    "xref": "x",
                    "y": "lo-fi hip hop",
                    "yref": "y"
                  },
                  {
                    "font": {
                      "color": "#000000"
                    },
                    "showarrow": false,
                    "text": "0",
                    "x": "african gospel",
                    "xref": "x",
                    "y": "lo-fi hip hop",
                    "yref": "y"
                  },
                  {
                    "font": {
                      "color": "#000000"
                    },
                    "showarrow": false,
                    "text": "0",
                    "x": "afro adura",
                    "xref": "x",
                    "y": "lo-fi hip hop",
                    "yref": "y"
                  },
                  {
                    "font": {
                      "color": "#000000"
                    },
                    "showarrow": false,
                    "text": "0",
                    "x": "afrobeats",
                    "xref": "x",
                    "y": "lo-fi hip hop",
                    "yref": "y"
                  },
                  {
                    "font": {
                      "color": "#000000"
                    },
                    "showarrow": false,
                    "text": "0",
                    "x": "amapiano",
                    "xref": "x",
                    "y": "lo-fi hip hop",
                    "yref": "y"
                  },
                  {
                    "font": {
                      "color": "#000000"
                    },
                    "showarrow": false,
                    "text": "0",
                    "x": "christian",
                    "xref": "x",
                    "y": "lo-fi hip hop",
                    "yref": "y"
                  },
                  {
                    "font": {
                      "color": "#000000"
                    },
                    "showarrow": false,
                    "text": "0",
                    "x": "country",
                    "xref": "x",
                    "y": "lo-fi hip hop",
                    "yref": "y"
                  },
                  {
                    "font": {
                      "color": "#000000"
                    },
                    "showarrow": false,
                    "text": "0",
                    "x": "edm",
                    "xref": "x",
                    "y": "lo-fi hip hop",
                    "yref": "y"
                  },
                  {
                    "font": {
                      "color": "#000000"
                    },
                    "showarrow": false,
                    "text": "0",
                    "x": "egyptian pop",
                    "xref": "x",
                    "y": "lo-fi hip hop",
                    "yref": "y"
                  },
                  {
                    "font": {
                      "color": "#000000"
                    },
                    "showarrow": false,
                    "text": "0",
                    "x": "gospel",
                    "xref": "x",
                    "y": "lo-fi hip hop",
                    "yref": "y"
                  },
                  {
                    "font": {
                      "color": "#000000"
                    },
                    "showarrow": false,
                    "text": "1",
                    "x": "lo-fi",
                    "xref": "x",
                    "y": "lo-fi hip hop",
                    "yref": "y"
                  },
                  {
                    "font": {
                      "color": "#000000"
                    },
                    "showarrow": false,
                    "text": "0",
                    "x": "lo-fi beats",
                    "xref": "x",
                    "y": "lo-fi hip hop",
                    "yref": "y"
                  },
                  {
                    "font": {
                      "color": "#000000"
                    },
                    "showarrow": false,
                    "text": "1",
                    "x": "lo-fi hip hop",
                    "xref": "x",
                    "y": "lo-fi hip hop",
                    "yref": "y"
                  },
                  {
                    "font": {
                      "color": "#000000"
                    },
                    "showarrow": false,
                    "text": "0",
                    "x": "new age",
                    "xref": "x",
                    "y": "lo-fi hip hop",
                    "yref": "y"
                  },
                  {
                    "font": {
                      "color": "#000000"
                    },
                    "showarrow": false,
                    "text": "0",
                    "x": "rap",
                    "xref": "x",
                    "y": "lo-fi hip hop",
                    "yref": "y"
                  },
                  {
                    "font": {
                      "color": "#000000"
                    },
                    "showarrow": false,
                    "text": "0",
                    "x": "reggaeton",
                    "xref": "x",
                    "y": "lo-fi hip hop",
                    "yref": "y"
                  },
                  {
                    "font": {
                      "color": "#000000"
                    },
                    "showarrow": false,
                    "text": "0",
                    "x": "soft pop",
                    "xref": "x",
                    "y": "lo-fi hip hop",
                    "yref": "y"
                  },
                  {
                    "font": {
                      "color": "#000000"
                    },
                    "showarrow": false,
                    "text": "0",
                    "x": "traditional music",
                    "xref": "x",
                    "y": "lo-fi hip hop",
                    "yref": "y"
                  },
                  {
                    "font": {
                      "color": "#000000"
                    },
                    "showarrow": false,
                    "text": "0",
                    "x": "uk drill",
                    "xref": "x",
                    "y": "lo-fi hip hop",
                    "yref": "y"
                  },
                  {
                    "font": {
                      "color": "#000000"
                    },
                    "showarrow": false,
                    "text": "0",
                    "x": "worship",
                    "xref": "x",
                    "y": "lo-fi hip hop",
                    "yref": "y"
                  },
                  {
                    "font": {
                      "color": "#000000"
                    },
                    "showarrow": false,
                    "text": "0",
                    "x": "Unknown",
                    "xref": "x",
                    "y": "new age",
                    "yref": "y"
                  },
                  {
                    "font": {
                      "color": "#000000"
                    },
                    "showarrow": false,
                    "text": "0",
                    "x": "african gospel",
                    "xref": "x",
                    "y": "new age",
                    "yref": "y"
                  },
                  {
                    "font": {
                      "color": "#000000"
                    },
                    "showarrow": false,
                    "text": "0",
                    "x": "afro adura",
                    "xref": "x",
                    "y": "new age",
                    "yref": "y"
                  },
                  {
                    "font": {
                      "color": "#000000"
                    },
                    "showarrow": false,
                    "text": "0",
                    "x": "afrobeats",
                    "xref": "x",
                    "y": "new age",
                    "yref": "y"
                  },
                  {
                    "font": {
                      "color": "#000000"
                    },
                    "showarrow": false,
                    "text": "0",
                    "x": "amapiano",
                    "xref": "x",
                    "y": "new age",
                    "yref": "y"
                  },
                  {
                    "font": {
                      "color": "#000000"
                    },
                    "showarrow": false,
                    "text": "0",
                    "x": "christian",
                    "xref": "x",
                    "y": "new age",
                    "yref": "y"
                  },
                  {
                    "font": {
                      "color": "#000000"
                    },
                    "showarrow": false,
                    "text": "0",
                    "x": "country",
                    "xref": "x",
                    "y": "new age",
                    "yref": "y"
                  },
                  {
                    "font": {
                      "color": "#000000"
                    },
                    "showarrow": false,
                    "text": "0",
                    "x": "edm",
                    "xref": "x",
                    "y": "new age",
                    "yref": "y"
                  },
                  {
                    "font": {
                      "color": "#000000"
                    },
                    "showarrow": false,
                    "text": "0",
                    "x": "egyptian pop",
                    "xref": "x",
                    "y": "new age",
                    "yref": "y"
                  },
                  {
                    "font": {
                      "color": "#000000"
                    },
                    "showarrow": false,
                    "text": "0",
                    "x": "gospel",
                    "xref": "x",
                    "y": "new age",
                    "yref": "y"
                  },
                  {
                    "font": {
                      "color": "#000000"
                    },
                    "showarrow": false,
                    "text": "0",
                    "x": "lo-fi",
                    "xref": "x",
                    "y": "new age",
                    "yref": "y"
                  },
                  {
                    "font": {
                      "color": "#000000"
                    },
                    "showarrow": false,
                    "text": "0",
                    "x": "lo-fi beats",
                    "xref": "x",
                    "y": "new age",
                    "yref": "y"
                  },
                  {
                    "font": {
                      "color": "#000000"
                    },
                    "showarrow": false,
                    "text": "0",
                    "x": "lo-fi hip hop",
                    "xref": "x",
                    "y": "new age",
                    "yref": "y"
                  },
                  {
                    "font": {
                      "color": "#000000"
                    },
                    "showarrow": false,
                    "text": "5",
                    "x": "new age",
                    "xref": "x",
                    "y": "new age",
                    "yref": "y"
                  },
                  {
                    "font": {
                      "color": "#000000"
                    },
                    "showarrow": false,
                    "text": "0",
                    "x": "rap",
                    "xref": "x",
                    "y": "new age",
                    "yref": "y"
                  },
                  {
                    "font": {
                      "color": "#000000"
                    },
                    "showarrow": false,
                    "text": "0",
                    "x": "reggaeton",
                    "xref": "x",
                    "y": "new age",
                    "yref": "y"
                  },
                  {
                    "font": {
                      "color": "#000000"
                    },
                    "showarrow": false,
                    "text": "0",
                    "x": "soft pop",
                    "xref": "x",
                    "y": "new age",
                    "yref": "y"
                  },
                  {
                    "font": {
                      "color": "#000000"
                    },
                    "showarrow": false,
                    "text": "0",
                    "x": "traditional music",
                    "xref": "x",
                    "y": "new age",
                    "yref": "y"
                  },
                  {
                    "font": {
                      "color": "#000000"
                    },
                    "showarrow": false,
                    "text": "0",
                    "x": "uk drill",
                    "xref": "x",
                    "y": "new age",
                    "yref": "y"
                  },
                  {
                    "font": {
                      "color": "#000000"
                    },
                    "showarrow": false,
                    "text": "0",
                    "x": "worship",
                    "xref": "x",
                    "y": "new age",
                    "yref": "y"
                  },
                  {
                    "font": {
                      "color": "#000000"
                    },
                    "showarrow": false,
                    "text": "2",
                    "x": "Unknown",
                    "xref": "x",
                    "y": "rap",
                    "yref": "y"
                  },
                  {
                    "font": {
                      "color": "#000000"
                    },
                    "showarrow": false,
                    "text": "0",
                    "x": "african gospel",
                    "xref": "x",
                    "y": "rap",
                    "yref": "y"
                  },
                  {
                    "font": {
                      "color": "#000000"
                    },
                    "showarrow": false,
                    "text": "0",
                    "x": "afro adura",
                    "xref": "x",
                    "y": "rap",
                    "yref": "y"
                  },
                  {
                    "font": {
                      "color": "#000000"
                    },
                    "showarrow": false,
                    "text": "1",
                    "x": "afrobeats",
                    "xref": "x",
                    "y": "rap",
                    "yref": "y"
                  },
                  {
                    "font": {
                      "color": "#000000"
                    },
                    "showarrow": false,
                    "text": "0",
                    "x": "amapiano",
                    "xref": "x",
                    "y": "rap",
                    "yref": "y"
                  },
                  {
                    "font": {
                      "color": "#000000"
                    },
                    "showarrow": false,
                    "text": "0",
                    "x": "christian",
                    "xref": "x",
                    "y": "rap",
                    "yref": "y"
                  },
                  {
                    "font": {
                      "color": "#000000"
                    },
                    "showarrow": false,
                    "text": "0",
                    "x": "country",
                    "xref": "x",
                    "y": "rap",
                    "yref": "y"
                  },
                  {
                    "font": {
                      "color": "#000000"
                    },
                    "showarrow": false,
                    "text": "0",
                    "x": "edm",
                    "xref": "x",
                    "y": "rap",
                    "yref": "y"
                  },
                  {
                    "font": {
                      "color": "#000000"
                    },
                    "showarrow": false,
                    "text": "0",
                    "x": "egyptian pop",
                    "xref": "x",
                    "y": "rap",
                    "yref": "y"
                  },
                  {
                    "font": {
                      "color": "#000000"
                    },
                    "showarrow": false,
                    "text": "0",
                    "x": "gospel",
                    "xref": "x",
                    "y": "rap",
                    "yref": "y"
                  },
                  {
                    "font": {
                      "color": "#000000"
                    },
                    "showarrow": false,
                    "text": "0",
                    "x": "lo-fi",
                    "xref": "x",
                    "y": "rap",
                    "yref": "y"
                  },
                  {
                    "font": {
                      "color": "#000000"
                    },
                    "showarrow": false,
                    "text": "0",
                    "x": "lo-fi beats",
                    "xref": "x",
                    "y": "rap",
                    "yref": "y"
                  },
                  {
                    "font": {
                      "color": "#000000"
                    },
                    "showarrow": false,
                    "text": "0",
                    "x": "lo-fi hip hop",
                    "xref": "x",
                    "y": "rap",
                    "yref": "y"
                  },
                  {
                    "font": {
                      "color": "#000000"
                    },
                    "showarrow": false,
                    "text": "0",
                    "x": "new age",
                    "xref": "x",
                    "y": "rap",
                    "yref": "y"
                  },
                  {
                    "font": {
                      "color": "#000000"
                    },
                    "showarrow": false,
                    "text": "0",
                    "x": "rap",
                    "xref": "x",
                    "y": "rap",
                    "yref": "y"
                  },
                  {
                    "font": {
                      "color": "#000000"
                    },
                    "showarrow": false,
                    "text": "0",
                    "x": "reggaeton",
                    "xref": "x",
                    "y": "rap",
                    "yref": "y"
                  },
                  {
                    "font": {
                      "color": "#000000"
                    },
                    "showarrow": false,
                    "text": "0",
                    "x": "soft pop",
                    "xref": "x",
                    "y": "rap",
                    "yref": "y"
                  },
                  {
                    "font": {
                      "color": "#000000"
                    },
                    "showarrow": false,
                    "text": "0",
                    "x": "traditional music",
                    "xref": "x",
                    "y": "rap",
                    "yref": "y"
                  },
                  {
                    "font": {
                      "color": "#000000"
                    },
                    "showarrow": false,
                    "text": "0",
                    "x": "uk drill",
                    "xref": "x",
                    "y": "rap",
                    "yref": "y"
                  },
                  {
                    "font": {
                      "color": "#000000"
                    },
                    "showarrow": false,
                    "text": "0",
                    "x": "worship",
                    "xref": "x",
                    "y": "rap",
                    "yref": "y"
                  },
                  {
                    "font": {
                      "color": "#000000"
                    },
                    "showarrow": false,
                    "text": "1",
                    "x": "Unknown",
                    "xref": "x",
                    "y": "reggaeton",
                    "yref": "y"
                  },
                  {
                    "font": {
                      "color": "#000000"
                    },
                    "showarrow": false,
                    "text": "0",
                    "x": "african gospel",
                    "xref": "x",
                    "y": "reggaeton",
                    "yref": "y"
                  },
                  {
                    "font": {
                      "color": "#000000"
                    },
                    "showarrow": false,
                    "text": "0",
                    "x": "afro adura",
                    "xref": "x",
                    "y": "reggaeton",
                    "yref": "y"
                  },
                  {
                    "font": {
                      "color": "#000000"
                    },
                    "showarrow": false,
                    "text": "0",
                    "x": "afrobeats",
                    "xref": "x",
                    "y": "reggaeton",
                    "yref": "y"
                  },
                  {
                    "font": {
                      "color": "#000000"
                    },
                    "showarrow": false,
                    "text": "0",
                    "x": "amapiano",
                    "xref": "x",
                    "y": "reggaeton",
                    "yref": "y"
                  },
                  {
                    "font": {
                      "color": "#000000"
                    },
                    "showarrow": false,
                    "text": "0",
                    "x": "christian",
                    "xref": "x",
                    "y": "reggaeton",
                    "yref": "y"
                  },
                  {
                    "font": {
                      "color": "#000000"
                    },
                    "showarrow": false,
                    "text": "0",
                    "x": "country",
                    "xref": "x",
                    "y": "reggaeton",
                    "yref": "y"
                  },
                  {
                    "font": {
                      "color": "#000000"
                    },
                    "showarrow": false,
                    "text": "0",
                    "x": "edm",
                    "xref": "x",
                    "y": "reggaeton",
                    "yref": "y"
                  },
                  {
                    "font": {
                      "color": "#000000"
                    },
                    "showarrow": false,
                    "text": "0",
                    "x": "egyptian pop",
                    "xref": "x",
                    "y": "reggaeton",
                    "yref": "y"
                  },
                  {
                    "font": {
                      "color": "#000000"
                    },
                    "showarrow": false,
                    "text": "0",
                    "x": "gospel",
                    "xref": "x",
                    "y": "reggaeton",
                    "yref": "y"
                  },
                  {
                    "font": {
                      "color": "#000000"
                    },
                    "showarrow": false,
                    "text": "0",
                    "x": "lo-fi",
                    "xref": "x",
                    "y": "reggaeton",
                    "yref": "y"
                  },
                  {
                    "font": {
                      "color": "#000000"
                    },
                    "showarrow": false,
                    "text": "0",
                    "x": "lo-fi beats",
                    "xref": "x",
                    "y": "reggaeton",
                    "yref": "y"
                  },
                  {
                    "font": {
                      "color": "#000000"
                    },
                    "showarrow": false,
                    "text": "0",
                    "x": "lo-fi hip hop",
                    "xref": "x",
                    "y": "reggaeton",
                    "yref": "y"
                  },
                  {
                    "font": {
                      "color": "#000000"
                    },
                    "showarrow": false,
                    "text": "0",
                    "x": "new age",
                    "xref": "x",
                    "y": "reggaeton",
                    "yref": "y"
                  },
                  {
                    "font": {
                      "color": "#000000"
                    },
                    "showarrow": false,
                    "text": "0",
                    "x": "rap",
                    "xref": "x",
                    "y": "reggaeton",
                    "yref": "y"
                  },
                  {
                    "font": {
                      "color": "#000000"
                    },
                    "showarrow": false,
                    "text": "0",
                    "x": "reggaeton",
                    "xref": "x",
                    "y": "reggaeton",
                    "yref": "y"
                  },
                  {
                    "font": {
                      "color": "#000000"
                    },
                    "showarrow": false,
                    "text": "0",
                    "x": "soft pop",
                    "xref": "x",
                    "y": "reggaeton",
                    "yref": "y"
                  },
                  {
                    "font": {
                      "color": "#000000"
                    },
                    "showarrow": false,
                    "text": "0",
                    "x": "traditional music",
                    "xref": "x",
                    "y": "reggaeton",
                    "yref": "y"
                  },
                  {
                    "font": {
                      "color": "#000000"
                    },
                    "showarrow": false,
                    "text": "1",
                    "x": "uk drill",
                    "xref": "x",
                    "y": "reggaeton",
                    "yref": "y"
                  },
                  {
                    "font": {
                      "color": "#000000"
                    },
                    "showarrow": false,
                    "text": "0",
                    "x": "worship",
                    "xref": "x",
                    "y": "reggaeton",
                    "yref": "y"
                  },
                  {
                    "font": {
                      "color": "#000000"
                    },
                    "showarrow": false,
                    "text": "1",
                    "x": "Unknown",
                    "xref": "x",
                    "y": "soft pop",
                    "yref": "y"
                  },
                  {
                    "font": {
                      "color": "#000000"
                    },
                    "showarrow": false,
                    "text": "0",
                    "x": "african gospel",
                    "xref": "x",
                    "y": "soft pop",
                    "yref": "y"
                  },
                  {
                    "font": {
                      "color": "#000000"
                    },
                    "showarrow": false,
                    "text": "0",
                    "x": "afro adura",
                    "xref": "x",
                    "y": "soft pop",
                    "yref": "y"
                  },
                  {
                    "font": {
                      "color": "#000000"
                    },
                    "showarrow": false,
                    "text": "0",
                    "x": "afrobeats",
                    "xref": "x",
                    "y": "soft pop",
                    "yref": "y"
                  },
                  {
                    "font": {
                      "color": "#000000"
                    },
                    "showarrow": false,
                    "text": "0",
                    "x": "amapiano",
                    "xref": "x",
                    "y": "soft pop",
                    "yref": "y"
                  },
                  {
                    "font": {
                      "color": "#000000"
                    },
                    "showarrow": false,
                    "text": "0",
                    "x": "christian",
                    "xref": "x",
                    "y": "soft pop",
                    "yref": "y"
                  },
                  {
                    "font": {
                      "color": "#000000"
                    },
                    "showarrow": false,
                    "text": "0",
                    "x": "country",
                    "xref": "x",
                    "y": "soft pop",
                    "yref": "y"
                  },
                  {
                    "font": {
                      "color": "#000000"
                    },
                    "showarrow": false,
                    "text": "0",
                    "x": "edm",
                    "xref": "x",
                    "y": "soft pop",
                    "yref": "y"
                  },
                  {
                    "font": {
                      "color": "#000000"
                    },
                    "showarrow": false,
                    "text": "0",
                    "x": "egyptian pop",
                    "xref": "x",
                    "y": "soft pop",
                    "yref": "y"
                  },
                  {
                    "font": {
                      "color": "#000000"
                    },
                    "showarrow": false,
                    "text": "0",
                    "x": "gospel",
                    "xref": "x",
                    "y": "soft pop",
                    "yref": "y"
                  },
                  {
                    "font": {
                      "color": "#000000"
                    },
                    "showarrow": false,
                    "text": "0",
                    "x": "lo-fi",
                    "xref": "x",
                    "y": "soft pop",
                    "yref": "y"
                  },
                  {
                    "font": {
                      "color": "#000000"
                    },
                    "showarrow": false,
                    "text": "0",
                    "x": "lo-fi beats",
                    "xref": "x",
                    "y": "soft pop",
                    "yref": "y"
                  },
                  {
                    "font": {
                      "color": "#000000"
                    },
                    "showarrow": false,
                    "text": "0",
                    "x": "lo-fi hip hop",
                    "xref": "x",
                    "y": "soft pop",
                    "yref": "y"
                  },
                  {
                    "font": {
                      "color": "#000000"
                    },
                    "showarrow": false,
                    "text": "0",
                    "x": "new age",
                    "xref": "x",
                    "y": "soft pop",
                    "yref": "y"
                  },
                  {
                    "font": {
                      "color": "#000000"
                    },
                    "showarrow": false,
                    "text": "0",
                    "x": "rap",
                    "xref": "x",
                    "y": "soft pop",
                    "yref": "y"
                  },
                  {
                    "font": {
                      "color": "#000000"
                    },
                    "showarrow": false,
                    "text": "0",
                    "x": "reggaeton",
                    "xref": "x",
                    "y": "soft pop",
                    "yref": "y"
                  },
                  {
                    "font": {
                      "color": "#000000"
                    },
                    "showarrow": false,
                    "text": "3",
                    "x": "soft pop",
                    "xref": "x",
                    "y": "soft pop",
                    "yref": "y"
                  },
                  {
                    "font": {
                      "color": "#000000"
                    },
                    "showarrow": false,
                    "text": "0",
                    "x": "traditional music",
                    "xref": "x",
                    "y": "soft pop",
                    "yref": "y"
                  },
                  {
                    "font": {
                      "color": "#000000"
                    },
                    "showarrow": false,
                    "text": "0",
                    "x": "uk drill",
                    "xref": "x",
                    "y": "soft pop",
                    "yref": "y"
                  },
                  {
                    "font": {
                      "color": "#000000"
                    },
                    "showarrow": false,
                    "text": "1",
                    "x": "worship",
                    "xref": "x",
                    "y": "soft pop",
                    "yref": "y"
                  },
                  {
                    "font": {
                      "color": "#000000"
                    },
                    "showarrow": false,
                    "text": "0",
                    "x": "Unknown",
                    "xref": "x",
                    "y": "traditional music",
                    "yref": "y"
                  },
                  {
                    "font": {
                      "color": "#000000"
                    },
                    "showarrow": false,
                    "text": "0",
                    "x": "african gospel",
                    "xref": "x",
                    "y": "traditional music",
                    "yref": "y"
                  },
                  {
                    "font": {
                      "color": "#000000"
                    },
                    "showarrow": false,
                    "text": "0",
                    "x": "afro adura",
                    "xref": "x",
                    "y": "traditional music",
                    "yref": "y"
                  },
                  {
                    "font": {
                      "color": "#000000"
                    },
                    "showarrow": false,
                    "text": "2",
                    "x": "afrobeats",
                    "xref": "x",
                    "y": "traditional music",
                    "yref": "y"
                  },
                  {
                    "font": {
                      "color": "#000000"
                    },
                    "showarrow": false,
                    "text": "0",
                    "x": "amapiano",
                    "xref": "x",
                    "y": "traditional music",
                    "yref": "y"
                  },
                  {
                    "font": {
                      "color": "#000000"
                    },
                    "showarrow": false,
                    "text": "0",
                    "x": "christian",
                    "xref": "x",
                    "y": "traditional music",
                    "yref": "y"
                  },
                  {
                    "font": {
                      "color": "#000000"
                    },
                    "showarrow": false,
                    "text": "0",
                    "x": "country",
                    "xref": "x",
                    "y": "traditional music",
                    "yref": "y"
                  },
                  {
                    "font": {
                      "color": "#000000"
                    },
                    "showarrow": false,
                    "text": "0",
                    "x": "edm",
                    "xref": "x",
                    "y": "traditional music",
                    "yref": "y"
                  },
                  {
                    "font": {
                      "color": "#000000"
                    },
                    "showarrow": false,
                    "text": "0",
                    "x": "egyptian pop",
                    "xref": "x",
                    "y": "traditional music",
                    "yref": "y"
                  },
                  {
                    "font": {
                      "color": "#000000"
                    },
                    "showarrow": false,
                    "text": "0",
                    "x": "gospel",
                    "xref": "x",
                    "y": "traditional music",
                    "yref": "y"
                  },
                  {
                    "font": {
                      "color": "#000000"
                    },
                    "showarrow": false,
                    "text": "0",
                    "x": "lo-fi",
                    "xref": "x",
                    "y": "traditional music",
                    "yref": "y"
                  },
                  {
                    "font": {
                      "color": "#000000"
                    },
                    "showarrow": false,
                    "text": "0",
                    "x": "lo-fi beats",
                    "xref": "x",
                    "y": "traditional music",
                    "yref": "y"
                  },
                  {
                    "font": {
                      "color": "#000000"
                    },
                    "showarrow": false,
                    "text": "0",
                    "x": "lo-fi hip hop",
                    "xref": "x",
                    "y": "traditional music",
                    "yref": "y"
                  },
                  {
                    "font": {
                      "color": "#000000"
                    },
                    "showarrow": false,
                    "text": "0",
                    "x": "new age",
                    "xref": "x",
                    "y": "traditional music",
                    "yref": "y"
                  },
                  {
                    "font": {
                      "color": "#000000"
                    },
                    "showarrow": false,
                    "text": "0",
                    "x": "rap",
                    "xref": "x",
                    "y": "traditional music",
                    "yref": "y"
                  },
                  {
                    "font": {
                      "color": "#000000"
                    },
                    "showarrow": false,
                    "text": "0",
                    "x": "reggaeton",
                    "xref": "x",
                    "y": "traditional music",
                    "yref": "y"
                  },
                  {
                    "font": {
                      "color": "#000000"
                    },
                    "showarrow": false,
                    "text": "0",
                    "x": "soft pop",
                    "xref": "x",
                    "y": "traditional music",
                    "yref": "y"
                  },
                  {
                    "font": {
                      "color": "#000000"
                    },
                    "showarrow": false,
                    "text": "1",
                    "x": "traditional music",
                    "xref": "x",
                    "y": "traditional music",
                    "yref": "y"
                  },
                  {
                    "font": {
                      "color": "#000000"
                    },
                    "showarrow": false,
                    "text": "0",
                    "x": "uk drill",
                    "xref": "x",
                    "y": "traditional music",
                    "yref": "y"
                  },
                  {
                    "font": {
                      "color": "#000000"
                    },
                    "showarrow": false,
                    "text": "0",
                    "x": "worship",
                    "xref": "x",
                    "y": "traditional music",
                    "yref": "y"
                  },
                  {
                    "font": {
                      "color": "#000000"
                    },
                    "showarrow": false,
                    "text": "1",
                    "x": "Unknown",
                    "xref": "x",
                    "y": "uk drill",
                    "yref": "y"
                  },
                  {
                    "font": {
                      "color": "#000000"
                    },
                    "showarrow": false,
                    "text": "0",
                    "x": "african gospel",
                    "xref": "x",
                    "y": "uk drill",
                    "yref": "y"
                  },
                  {
                    "font": {
                      "color": "#000000"
                    },
                    "showarrow": false,
                    "text": "0",
                    "x": "afro adura",
                    "xref": "x",
                    "y": "uk drill",
                    "yref": "y"
                  },
                  {
                    "font": {
                      "color": "#000000"
                    },
                    "showarrow": false,
                    "text": "1",
                    "x": "afrobeats",
                    "xref": "x",
                    "y": "uk drill",
                    "yref": "y"
                  },
                  {
                    "font": {
                      "color": "#000000"
                    },
                    "showarrow": false,
                    "text": "0",
                    "x": "amapiano",
                    "xref": "x",
                    "y": "uk drill",
                    "yref": "y"
                  },
                  {
                    "font": {
                      "color": "#000000"
                    },
                    "showarrow": false,
                    "text": "0",
                    "x": "christian",
                    "xref": "x",
                    "y": "uk drill",
                    "yref": "y"
                  },
                  {
                    "font": {
                      "color": "#000000"
                    },
                    "showarrow": false,
                    "text": "0",
                    "x": "country",
                    "xref": "x",
                    "y": "uk drill",
                    "yref": "y"
                  },
                  {
                    "font": {
                      "color": "#000000"
                    },
                    "showarrow": false,
                    "text": "1",
                    "x": "edm",
                    "xref": "x",
                    "y": "uk drill",
                    "yref": "y"
                  },
                  {
                    "font": {
                      "color": "#000000"
                    },
                    "showarrow": false,
                    "text": "0",
                    "x": "egyptian pop",
                    "xref": "x",
                    "y": "uk drill",
                    "yref": "y"
                  },
                  {
                    "font": {
                      "color": "#000000"
                    },
                    "showarrow": false,
                    "text": "0",
                    "x": "gospel",
                    "xref": "x",
                    "y": "uk drill",
                    "yref": "y"
                  },
                  {
                    "font": {
                      "color": "#000000"
                    },
                    "showarrow": false,
                    "text": "0",
                    "x": "lo-fi",
                    "xref": "x",
                    "y": "uk drill",
                    "yref": "y"
                  },
                  {
                    "font": {
                      "color": "#000000"
                    },
                    "showarrow": false,
                    "text": "0",
                    "x": "lo-fi beats",
                    "xref": "x",
                    "y": "uk drill",
                    "yref": "y"
                  },
                  {
                    "font": {
                      "color": "#000000"
                    },
                    "showarrow": false,
                    "text": "0",
                    "x": "lo-fi hip hop",
                    "xref": "x",
                    "y": "uk drill",
                    "yref": "y"
                  },
                  {
                    "font": {
                      "color": "#000000"
                    },
                    "showarrow": false,
                    "text": "0",
                    "x": "new age",
                    "xref": "x",
                    "y": "uk drill",
                    "yref": "y"
                  },
                  {
                    "font": {
                      "color": "#000000"
                    },
                    "showarrow": false,
                    "text": "0",
                    "x": "rap",
                    "xref": "x",
                    "y": "uk drill",
                    "yref": "y"
                  },
                  {
                    "font": {
                      "color": "#000000"
                    },
                    "showarrow": false,
                    "text": "0",
                    "x": "reggaeton",
                    "xref": "x",
                    "y": "uk drill",
                    "yref": "y"
                  },
                  {
                    "font": {
                      "color": "#000000"
                    },
                    "showarrow": false,
                    "text": "0",
                    "x": "soft pop",
                    "xref": "x",
                    "y": "uk drill",
                    "yref": "y"
                  },
                  {
                    "font": {
                      "color": "#000000"
                    },
                    "showarrow": false,
                    "text": "0",
                    "x": "traditional music",
                    "xref": "x",
                    "y": "uk drill",
                    "yref": "y"
                  },
                  {
                    "font": {
                      "color": "#000000"
                    },
                    "showarrow": false,
                    "text": "6",
                    "x": "uk drill",
                    "xref": "x",
                    "y": "uk drill",
                    "yref": "y"
                  },
                  {
                    "font": {
                      "color": "#000000"
                    },
                    "showarrow": false,
                    "text": "0",
                    "x": "worship",
                    "xref": "x",
                    "y": "uk drill",
                    "yref": "y"
                  },
                  {
                    "font": {
                      "color": "#000000"
                    },
                    "showarrow": false,
                    "text": "7",
                    "x": "Unknown",
                    "xref": "x",
                    "y": "worship",
                    "yref": "y"
                  },
                  {
                    "font": {
                      "color": "#000000"
                    },
                    "showarrow": false,
                    "text": "0",
                    "x": "african gospel",
                    "xref": "x",
                    "y": "worship",
                    "yref": "y"
                  },
                  {
                    "font": {
                      "color": "#000000"
                    },
                    "showarrow": false,
                    "text": "0",
                    "x": "afro adura",
                    "xref": "x",
                    "y": "worship",
                    "yref": "y"
                  },
                  {
                    "font": {
                      "color": "#000000"
                    },
                    "showarrow": false,
                    "text": "0",
                    "x": "afrobeats",
                    "xref": "x",
                    "y": "worship",
                    "yref": "y"
                  },
                  {
                    "font": {
                      "color": "#000000"
                    },
                    "showarrow": false,
                    "text": "0",
                    "x": "amapiano",
                    "xref": "x",
                    "y": "worship",
                    "yref": "y"
                  },
                  {
                    "font": {
                      "color": "#000000"
                    },
                    "showarrow": false,
                    "text": "2",
                    "x": "christian",
                    "xref": "x",
                    "y": "worship",
                    "yref": "y"
                  },
                  {
                    "font": {
                      "color": "#000000"
                    },
                    "showarrow": false,
                    "text": "0",
                    "x": "country",
                    "xref": "x",
                    "y": "worship",
                    "yref": "y"
                  },
                  {
                    "font": {
                      "color": "#000000"
                    },
                    "showarrow": false,
                    "text": "0",
                    "x": "edm",
                    "xref": "x",
                    "y": "worship",
                    "yref": "y"
                  },
                  {
                    "font": {
                      "color": "#000000"
                    },
                    "showarrow": false,
                    "text": "0",
                    "x": "egyptian pop",
                    "xref": "x",
                    "y": "worship",
                    "yref": "y"
                  },
                  {
                    "font": {
                      "color": "#000000"
                    },
                    "showarrow": false,
                    "text": "0",
                    "x": "gospel",
                    "xref": "x",
                    "y": "worship",
                    "yref": "y"
                  },
                  {
                    "font": {
                      "color": "#000000"
                    },
                    "showarrow": false,
                    "text": "1",
                    "x": "lo-fi",
                    "xref": "x",
                    "y": "worship",
                    "yref": "y"
                  },
                  {
                    "font": {
                      "color": "#000000"
                    },
                    "showarrow": false,
                    "text": "0",
                    "x": "lo-fi beats",
                    "xref": "x",
                    "y": "worship",
                    "yref": "y"
                  },
                  {
                    "font": {
                      "color": "#000000"
                    },
                    "showarrow": false,
                    "text": "0",
                    "x": "lo-fi hip hop",
                    "xref": "x",
                    "y": "worship",
                    "yref": "y"
                  },
                  {
                    "font": {
                      "color": "#000000"
                    },
                    "showarrow": false,
                    "text": "0",
                    "x": "new age",
                    "xref": "x",
                    "y": "worship",
                    "yref": "y"
                  },
                  {
                    "font": {
                      "color": "#000000"
                    },
                    "showarrow": false,
                    "text": "0",
                    "x": "rap",
                    "xref": "x",
                    "y": "worship",
                    "yref": "y"
                  },
                  {
                    "font": {
                      "color": "#000000"
                    },
                    "showarrow": false,
                    "text": "0",
                    "x": "reggaeton",
                    "xref": "x",
                    "y": "worship",
                    "yref": "y"
                  },
                  {
                    "font": {
                      "color": "#000000"
                    },
                    "showarrow": false,
                    "text": "0",
                    "x": "soft pop",
                    "xref": "x",
                    "y": "worship",
                    "yref": "y"
                  },
                  {
                    "font": {
                      "color": "#000000"
                    },
                    "showarrow": false,
                    "text": "0",
                    "x": "traditional music",
                    "xref": "x",
                    "y": "worship",
                    "yref": "y"
                  },
                  {
                    "font": {
                      "color": "#000000"
                    },
                    "showarrow": false,
                    "text": "0",
                    "x": "uk drill",
                    "xref": "x",
                    "y": "worship",
                    "yref": "y"
                  },
                  {
                    "font": {
                      "color": "#FFFFFF"
                    },
                    "showarrow": false,
                    "text": "45",
                    "x": "worship",
                    "xref": "x",
                    "y": "worship",
                    "yref": "y"
                  }
                ],
                "height": 800,
                "template": {
                  "data": {
                    "bar": [
                      {
                        "error_x": {
                          "color": "#2a3f5f"
                        },
                        "error_y": {
                          "color": "#2a3f5f"
                        },
                        "marker": {
                          "line": {
                            "color": "#E5ECF6",
                            "width": 0.5
                          },
                          "pattern": {
                            "fillmode": "overlay",
                            "size": 10,
                            "solidity": 0.2
                          }
                        },
                        "type": "bar"
                      }
                    ],
                    "barpolar": [
                      {
                        "marker": {
                          "line": {
                            "color": "#E5ECF6",
                            "width": 0.5
                          },
                          "pattern": {
                            "fillmode": "overlay",
                            "size": 10,
                            "solidity": 0.2
                          }
                        },
                        "type": "barpolar"
                      }
                    ],
                    "carpet": [
                      {
                        "aaxis": {
                          "endlinecolor": "#2a3f5f",
                          "gridcolor": "white",
                          "linecolor": "white",
                          "minorgridcolor": "white",
                          "startlinecolor": "#2a3f5f"
                        },
                        "baxis": {
                          "endlinecolor": "#2a3f5f",
                          "gridcolor": "white",
                          "linecolor": "white",
                          "minorgridcolor": "white",
                          "startlinecolor": "#2a3f5f"
                        },
                        "type": "carpet"
                      }
                    ],
                    "choropleth": [
                      {
                        "colorbar": {
                          "outlinewidth": 0,
                          "ticks": ""
                        },
                        "type": "choropleth"
                      }
                    ],
                    "contour": [
                      {
                        "colorbar": {
                          "outlinewidth": 0,
                          "ticks": ""
                        },
                        "colorscale": [
                          [
                            0,
                            "#0d0887"
                          ],
                          [
                            0.1111111111111111,
                            "#46039f"
                          ],
                          [
                            0.2222222222222222,
                            "#7201a8"
                          ],
                          [
                            0.3333333333333333,
                            "#9c179e"
                          ],
                          [
                            0.4444444444444444,
                            "#bd3786"
                          ],
                          [
                            0.5555555555555556,
                            "#d8576b"
                          ],
                          [
                            0.6666666666666666,
                            "#ed7953"
                          ],
                          [
                            0.7777777777777778,
                            "#fb9f3a"
                          ],
                          [
                            0.8888888888888888,
                            "#fdca26"
                          ],
                          [
                            1,
                            "#f0f921"
                          ]
                        ],
                        "type": "contour"
                      }
                    ],
                    "contourcarpet": [
                      {
                        "colorbar": {
                          "outlinewidth": 0,
                          "ticks": ""
                        },
                        "type": "contourcarpet"
                      }
                    ],
                    "heatmap": [
                      {
                        "colorbar": {
                          "outlinewidth": 0,
                          "ticks": ""
                        },
                        "colorscale": [
                          [
                            0,
                            "#0d0887"
                          ],
                          [
                            0.1111111111111111,
                            "#46039f"
                          ],
                          [
                            0.2222222222222222,
                            "#7201a8"
                          ],
                          [
                            0.3333333333333333,
                            "#9c179e"
                          ],
                          [
                            0.4444444444444444,
                            "#bd3786"
                          ],
                          [
                            0.5555555555555556,
                            "#d8576b"
                          ],
                          [
                            0.6666666666666666,
                            "#ed7953"
                          ],
                          [
                            0.7777777777777778,
                            "#fb9f3a"
                          ],
                          [
                            0.8888888888888888,
                            "#fdca26"
                          ],
                          [
                            1,
                            "#f0f921"
                          ]
                        ],
                        "type": "heatmap"
                      }
                    ],
                    "histogram": [
                      {
                        "marker": {
                          "pattern": {
                            "fillmode": "overlay",
                            "size": 10,
                            "solidity": 0.2
                          }
                        },
                        "type": "histogram"
                      }
                    ],
                    "histogram2d": [
                      {
                        "colorbar": {
                          "outlinewidth": 0,
                          "ticks": ""
                        },
                        "colorscale": [
                          [
                            0,
                            "#0d0887"
                          ],
                          [
                            0.1111111111111111,
                            "#46039f"
                          ],
                          [
                            0.2222222222222222,
                            "#7201a8"
                          ],
                          [
                            0.3333333333333333,
                            "#9c179e"
                          ],
                          [
                            0.4444444444444444,
                            "#bd3786"
                          ],
                          [
                            0.5555555555555556,
                            "#d8576b"
                          ],
                          [
                            0.6666666666666666,
                            "#ed7953"
                          ],
                          [
                            0.7777777777777778,
                            "#fb9f3a"
                          ],
                          [
                            0.8888888888888888,
                            "#fdca26"
                          ],
                          [
                            1,
                            "#f0f921"
                          ]
                        ],
                        "type": "histogram2d"
                      }
                    ],
                    "histogram2dcontour": [
                      {
                        "colorbar": {
                          "outlinewidth": 0,
                          "ticks": ""
                        },
                        "colorscale": [
                          [
                            0,
                            "#0d0887"
                          ],
                          [
                            0.1111111111111111,
                            "#46039f"
                          ],
                          [
                            0.2222222222222222,
                            "#7201a8"
                          ],
                          [
                            0.3333333333333333,
                            "#9c179e"
                          ],
                          [
                            0.4444444444444444,
                            "#bd3786"
                          ],
                          [
                            0.5555555555555556,
                            "#d8576b"
                          ],
                          [
                            0.6666666666666666,
                            "#ed7953"
                          ],
                          [
                            0.7777777777777778,
                            "#fb9f3a"
                          ],
                          [
                            0.8888888888888888,
                            "#fdca26"
                          ],
                          [
                            1,
                            "#f0f921"
                          ]
                        ],
                        "type": "histogram2dcontour"
                      }
                    ],
                    "mesh3d": [
                      {
                        "colorbar": {
                          "outlinewidth": 0,
                          "ticks": ""
                        },
                        "type": "mesh3d"
                      }
                    ],
                    "parcoords": [
                      {
                        "line": {
                          "colorbar": {
                            "outlinewidth": 0,
                            "ticks": ""
                          }
                        },
                        "type": "parcoords"
                      }
                    ],
                    "pie": [
                      {
                        "automargin": true,
                        "type": "pie"
                      }
                    ],
                    "scatter": [
                      {
                        "fillpattern": {
                          "fillmode": "overlay",
                          "size": 10,
                          "solidity": 0.2
                        },
                        "type": "scatter"
                      }
                    ],
                    "scatter3d": [
                      {
                        "line": {
                          "colorbar": {
                            "outlinewidth": 0,
                            "ticks": ""
                          }
                        },
                        "marker": {
                          "colorbar": {
                            "outlinewidth": 0,
                            "ticks": ""
                          }
                        },
                        "type": "scatter3d"
                      }
                    ],
                    "scattercarpet": [
                      {
                        "marker": {
                          "colorbar": {
                            "outlinewidth": 0,
                            "ticks": ""
                          }
                        },
                        "type": "scattercarpet"
                      }
                    ],
                    "scattergeo": [
                      {
                        "marker": {
                          "colorbar": {
                            "outlinewidth": 0,
                            "ticks": ""
                          }
                        },
                        "type": "scattergeo"
                      }
                    ],
                    "scattergl": [
                      {
                        "marker": {
                          "colorbar": {
                            "outlinewidth": 0,
                            "ticks": ""
                          }
                        },
                        "type": "scattergl"
                      }
                    ],
                    "scattermap": [
                      {
                        "marker": {
                          "colorbar": {
                            "outlinewidth": 0,
                            "ticks": ""
                          }
                        },
                        "type": "scattermap"
                      }
                    ],
                    "scattermapbox": [
                      {
                        "marker": {
                          "colorbar": {
                            "outlinewidth": 0,
                            "ticks": ""
                          }
                        },
                        "type": "scattermapbox"
                      }
                    ],
                    "scatterpolar": [
                      {
                        "marker": {
                          "colorbar": {
                            "outlinewidth": 0,
                            "ticks": ""
                          }
                        },
                        "type": "scatterpolar"
                      }
                    ],
                    "scatterpolargl": [
                      {
                        "marker": {
                          "colorbar": {
                            "outlinewidth": 0,
                            "ticks": ""
                          }
                        },
                        "type": "scatterpolargl"
                      }
                    ],
                    "scatterternary": [
                      {
                        "marker": {
                          "colorbar": {
                            "outlinewidth": 0,
                            "ticks": ""
                          }
                        },
                        "type": "scatterternary"
                      }
                    ],
                    "surface": [
                      {
                        "colorbar": {
                          "outlinewidth": 0,
                          "ticks": ""
                        },
                        "colorscale": [
                          [
                            0,
                            "#0d0887"
                          ],
                          [
                            0.1111111111111111,
                            "#46039f"
                          ],
                          [
                            0.2222222222222222,
                            "#7201a8"
                          ],
                          [
                            0.3333333333333333,
                            "#9c179e"
                          ],
                          [
                            0.4444444444444444,
                            "#bd3786"
                          ],
                          [
                            0.5555555555555556,
                            "#d8576b"
                          ],
                          [
                            0.6666666666666666,
                            "#ed7953"
                          ],
                          [
                            0.7777777777777778,
                            "#fb9f3a"
                          ],
                          [
                            0.8888888888888888,
                            "#fdca26"
                          ],
                          [
                            1,
                            "#f0f921"
                          ]
                        ],
                        "type": "surface"
                      }
                    ],
                    "table": [
                      {
                        "cells": {
                          "fill": {
                            "color": "#EBF0F8"
                          },
                          "line": {
                            "color": "white"
                          }
                        },
                        "header": {
                          "fill": {
                            "color": "#C8D4E3"
                          },
                          "line": {
                            "color": "white"
                          }
                        },
                        "type": "table"
                      }
                    ]
                  },
                  "layout": {
                    "annotationdefaults": {
                      "arrowcolor": "#2a3f5f",
                      "arrowhead": 0,
                      "arrowwidth": 1
                    },
                    "autotypenumbers": "strict",
                    "coloraxis": {
                      "colorbar": {
                        "outlinewidth": 0,
                        "ticks": ""
                      }
                    },
                    "colorscale": {
                      "diverging": [
                        [
                          0,
                          "#8e0152"
                        ],
                        [
                          0.1,
                          "#c51b7d"
                        ],
                        [
                          0.2,
                          "#de77ae"
                        ],
                        [
                          0.3,
                          "#f1b6da"
                        ],
                        [
                          0.4,
                          "#fde0ef"
                        ],
                        [
                          0.5,
                          "#f7f7f7"
                        ],
                        [
                          0.6,
                          "#e6f5d0"
                        ],
                        [
                          0.7,
                          "#b8e186"
                        ],
                        [
                          0.8,
                          "#7fbc41"
                        ],
                        [
                          0.9,
                          "#4d9221"
                        ],
                        [
                          1,
                          "#276419"
                        ]
                      ],
                      "sequential": [
                        [
                          0,
                          "#0d0887"
                        ],
                        [
                          0.1111111111111111,
                          "#46039f"
                        ],
                        [
                          0.2222222222222222,
                          "#7201a8"
                        ],
                        [
                          0.3333333333333333,
                          "#9c179e"
                        ],
                        [
                          0.4444444444444444,
                          "#bd3786"
                        ],
                        [
                          0.5555555555555556,
                          "#d8576b"
                        ],
                        [
                          0.6666666666666666,
                          "#ed7953"
                        ],
                        [
                          0.7777777777777778,
                          "#fb9f3a"
                        ],
                        [
                          0.8888888888888888,
                          "#fdca26"
                        ],
                        [
                          1,
                          "#f0f921"
                        ]
                      ],
                      "sequentialminus": [
                        [
                          0,
                          "#0d0887"
                        ],
                        [
                          0.1111111111111111,
                          "#46039f"
                        ],
                        [
                          0.2222222222222222,
                          "#7201a8"
                        ],
                        [
                          0.3333333333333333,
                          "#9c179e"
                        ],
                        [
                          0.4444444444444444,
                          "#bd3786"
                        ],
                        [
                          0.5555555555555556,
                          "#d8576b"
                        ],
                        [
                          0.6666666666666666,
                          "#ed7953"
                        ],
                        [
                          0.7777777777777778,
                          "#fb9f3a"
                        ],
                        [
                          0.8888888888888888,
                          "#fdca26"
                        ],
                        [
                          1,
                          "#f0f921"
                        ]
                      ]
                    },
                    "colorway": [
                      "#636efa",
                      "#EF553B",
                      "#00cc96",
                      "#ab63fa",
                      "#FFA15A",
                      "#19d3f3",
                      "#FF6692",
                      "#B6E880",
                      "#FF97FF",
                      "#FECB52"
                    ],
                    "font": {
                      "color": "#2a3f5f"
                    },
                    "geo": {
                      "bgcolor": "white",
                      "lakecolor": "white",
                      "landcolor": "#E5ECF6",
                      "showlakes": true,
                      "showland": true,
                      "subunitcolor": "white"
                    },
                    "hoverlabel": {
                      "align": "left"
                    },
                    "hovermode": "closest",
                    "mapbox": {
                      "style": "light"
                    },
                    "paper_bgcolor": "white",
                    "plot_bgcolor": "#E5ECF6",
                    "polar": {
                      "angularaxis": {
                        "gridcolor": "white",
                        "linecolor": "white",
                        "ticks": ""
                      },
                      "bgcolor": "#E5ECF6",
                      "radialaxis": {
                        "gridcolor": "white",
                        "linecolor": "white",
                        "ticks": ""
                      }
                    },
                    "scene": {
                      "xaxis": {
                        "backgroundcolor": "#E5ECF6",
                        "gridcolor": "white",
                        "gridwidth": 2,
                        "linecolor": "white",
                        "showbackground": true,
                        "ticks": "",
                        "zerolinecolor": "white"
                      },
                      "yaxis": {
                        "backgroundcolor": "#E5ECF6",
                        "gridcolor": "white",
                        "gridwidth": 2,
                        "linecolor": "white",
                        "showbackground": true,
                        "ticks": "",
                        "zerolinecolor": "white"
                      },
                      "zaxis": {
                        "backgroundcolor": "#E5ECF6",
                        "gridcolor": "white",
                        "gridwidth": 2,
                        "linecolor": "white",
                        "showbackground": true,
                        "ticks": "",
                        "zerolinecolor": "white"
                      }
                    },
                    "shapedefaults": {
                      "line": {
                        "color": "#2a3f5f"
                      }
                    },
                    "ternary": {
                      "aaxis": {
                        "gridcolor": "white",
                        "linecolor": "white",
                        "ticks": ""
                      },
                      "baxis": {
                        "gridcolor": "white",
                        "linecolor": "white",
                        "ticks": ""
                      },
                      "bgcolor": "#E5ECF6",
                      "caxis": {
                        "gridcolor": "white",
                        "linecolor": "white",
                        "ticks": ""
                      }
                    },
                    "title": {
                      "x": 0.05
                    },
                    "xaxis": {
                      "automargin": true,
                      "gridcolor": "white",
                      "linecolor": "white",
                      "ticks": "",
                      "title": {
                        "standoff": 15
                      },
                      "zerolinecolor": "white",
                      "zerolinewidth": 2
                    },
                    "yaxis": {
                      "automargin": true,
                      "gridcolor": "white",
                      "linecolor": "white",
                      "ticks": "",
                      "title": {
                        "standoff": 15
                      },
                      "zerolinecolor": "white",
                      "zerolinewidth": 2
                    }
                  }
                },
                "title": {
                  "text": "<b>Confusion Matrix</b><br><i>Predicted vs. Actual Genre</i>"
                },
                "width": 800,
                "xaxis": {
                  "dtick": 1,
                  "gridcolor": "rgb(0, 0, 0)",
                  "side": "top",
                  "tickangle": -45,
                  "ticks": "",
                  "title": {
                    "text": "Predicted Label"
                  }
                },
                "yaxis": {
                  "dtick": 1,
                  "ticks": "",
                  "ticksuffix": "  ",
                  "title": {
                    "text": "Actual Label"
                  }
                }
              }
            }
          },
          "metadata": {},
          "output_type": "display_data"
        }
      ],
      "source": [
        "from sklearn.metrics import classification_report, confusion_matrix\n",
        "import plotly.figure_factory as ff\n",
        "\n",
        "# Initialize and train the final model on the entire training set\n",
        "final_model = LogisticRegression(max_iter=1000, random_state=42)\n",
        "print(\"Training the final Logistic Regression model on the full training dataset...\")\n",
        "final_model.fit(X_train_scaled, y_train)\n",
        "print(\"✓ Model training complete.\")\n",
        "\n",
        "# Make predictions on the test set\n",
        "print(\"\\nMaking predictions on the unseen test set...\")\n",
        "y_pred = final_model.predict(X_test_scaled)\n",
        "print(\"✓ Predictions complete.\")\n",
        "\n",
        "# Get the original genre names for the report\n",
        "target_names = label_encoder.classes_\n",
        "\n",
        "# Generate and print the classification report\n",
        "print(\"\\n======================================================================\")\n",
        "print(\"FINAL MODEL EVALUATION: CLASSIFICATION REPORT\")\n",
        "print(\"======================================================================\")\n",
        "report = classification_report(y_test, y_pred, target_names=target_names, zero_division=0)\n",
        "print(report)\n",
        "\n",
        "\n",
        "# Generate and display the confusion matrix\n",
        "print(\"\\n======================================================================\")\n",
        "print(\"FINAL MODEL EVALUATION: CONFUSION MATRIX\")\n",
        "print(\"======================================================================\")\n",
        "\n",
        "# Create the matrix\n",
        "cm = confusion_matrix(y_test, y_pred)\n",
        "\n",
        "# The label encoder gives us the original string labels in order\n",
        "x_labels = target_names\n",
        "y_labels = target_names\n",
        "\n",
        "# Create the heatmap figure\n",
        "fig = ff.create_annotated_heatmap(\n",
        "    z=cm,\n",
        "    x=list(x_labels),\n",
        "    y=list(y_labels),\n",
        "    colorscale='Blues',\n",
        "    showscale=True\n",
        ")\n",
        "\n",
        "# Add titles and labels\n",
        "fig.update_layout(\n",
        "    title_text='<b>Confusion Matrix</b><br><i>Predicted vs. Actual Genre</i>',\n",
        "    xaxis_title='Predicted Label',\n",
        "    yaxis_title='Actual Label',\n",
        "    xaxis=dict(tickangle=-45),\n",
        "    width=800,\n",
        "    height=800\n",
        ")\n",
        "\n",
        "fig.show()"
      ]
    },
    {
      "cell_type": "markdown",
      "metadata": {},
      "source": [
        "Based on the confusion matrix, the model only failed in a few places, with very few misses, which shows that the model was quite good at prediction."
      ]
    },
    {
      "cell_type": "markdown",
      "metadata": {
        "id": "zTN4SfKW0MGO"
      },
      "source": [
        "# 9. Executive Summary\n",
        "\n",
        "### 9.1 Machine Learning Pipeline Diagram\n",
        "\n",
        "```\n",
        "┌────────────────────────────────────────────────────────────────────────────┐\n",
        "│                         SPOTIFY ML PIPELINE                                 │\n",
        "└────────────────────────────────────────────────────────────────────────────┘\n",
        "\n",
        "Step 1: DATA COLLECTION\n",
        "├─ Source: Personal Spotify Streaming History (JSON files)\n",
        "├─ Time Period: 2023-2025 (2 years of listening data)\n",
        "├─ Initial Records: 14,849 streaming events\n",
        "└─ Unique Tracks: 1,612 songs across 20 genres\n",
        "\n",
        "              ↓\n",
        "\n",
        "Step 2: DATA LOADING & FORMAT CONVERSION\n",
        "├─ Load JSON streaming history files\n",
        "├─ Parse timestamps, artist names, track names\n",
        "├─ Convert to pandas DataFrame for analysis\n",
        "└─ Output: Combined streaming dataset (1,612 unique tracks)\n",
        "\n",
        "              ↓\n",
        "\n",
        "Step 3: DATA CLEANING & PREPROCESSING\n",
        "├─ Remove duplicates (keep unique tracks only)\n",
        "├─ Handle missing values (drop tracks with no genre info)\n",
        "├─ Filter low-frequency genres (minimum 10 samples per genre)\n",
        "├─ Initial genres: 31 → After filtering: 20 genres\n",
        "└─ Output: Clean dataset (1,612 tracks, 20 genres)\n",
        "\n",
        "              ↓\n",
        "\n",
        "Step 4: FEATURE ENGINEERING\n",
        "├─ Extract 78 audio features per track:\n",
        "│  ├─ 14 Simple features (tempo, key, mode, time_signature, etc.)\n",
        "│  └─ 334 Array-based features from audio analysis:\n",
        "│      ├─ 7 MFCC coefficients (mean + std = 14 features)\n",
        "│      ├─ 160 chroma features (20 bins × 8 stats)\n",
        "│      ├─ 80 mel spectrogram features (10 bins × 8 stats)\n",
        "│      ├─ 40 spectral contrast features (5 bands × 8 stats)\n",
        "│      └─ 40 tonnetz features (5 dimensions × 8 stats)\n",
        "└─ Output: Feature matrix (1,612 × 348)\n",
        "\n",
        "              ↓\n",
        "\n",
        "Step 5: EXPLORATORY DATA ANALYSIS\n",
        "├─ Genre distribution analysis (severe 38:1 imbalance)\n",
        "├─ Feature correlation analysis (identify redundancy)\n",
        "├─ Temporal patterns (daily/hourly listening trends)\n",
        "└─ Top artists and tracks by play count\n",
        "\n",
        "              ↓\n",
        "\n",
        "Step 6: DATA SPLITTING (Stratified)\n",
        "├─ Training Set: 1,128 tracks (70%)\n",
        "├─ Validation Set: 242 tracks (15%)\n",
        "└─ Test Set: 242 tracks (15%)\n",
        "\n",
        "              ↓\n",
        "\n",
        "Step 7: FEATURE STANDARDIZATION\n",
        "├─ Apply StandardScaler (fit on training set only)\n",
        "├─ Transform train, validation, and test sets\n",
        "└─ All features: mean ≈ 0, std ≈ 1\n",
        "\n",
        "              ↓\n",
        "\n",
        "Step 8: MODEL SELECTION & INITIALIZATION\n",
        "├─ Model 1: Logistic Regression (C=1.0, L2 regularization)\n",
        "├─ Model 2: Random Forest (100 trees, max_depth=20)\n",
        "└─ Model 3: Gradient Boosting (100 stages, learning_rate=0.1)\n",
        "\n",
        "              ↓\n",
        "\n",
        "Step 9: CROSS-VALIDATION (5-Fold Stratified)\n",
        "├─ Logistic Regression: 58.95%\n",
        "├─ Random Forest: 58.24%\n",
        "└─ Gradient Boosting: 56.39%\n",
        "\n",
        "              ↓\n",
        "\n",
        "Step 10: FINAL TRAINING (on full training set)\n",
        "├─ Logistic Regression: Train=98.9%, Val=62.4% \n",
        "├─ Random Forest: Train=100%, Val=62.4%\n",
        "└─ Gradient Boosting: Train=100%, Val=60.33%\n",
        "              ↓\n",
        "\n",
        "Step 11: TEST SET EVALUATION (242 unseen tracks)\n",
        "├─ Logistic Regression: Acc=62.4%, Macro F1=34.5% ✓ WINNER\n",
        "├─ Random Forest: Acc=65.3%, Macro F1=27.9%\n",
        "└─ Gradient Boosting: Acc=62.8%, Macro F1=25.9%\n",
        "\n",
        "              ↓\n",
        "\n",
        "Step 12: CONFUSION MATRIX & PER-GENRE ANALYSIS\n",
        "├─ Top 5 genres: Worship (85%), New Age (76%), Lo-Fi (69%)\n",
        "├─ Bottom 10 genres: 0% F1-score (insufficient data)\n",
        "└─ Common confusion: Rare genres → \"Unknown\" (majority class)\n",
        "\n",
        "              ↓\n",
        "\n",
        "Step 13: FINAL MODEL SELECTION\n",
        "┌──────────────────────────────────────────────────────────────────┐\n",
        "│ SELECTED MODEL: Logistic Regression                             │\n",
        "│ ─────────────────────────────────────────────────────────────── │\n",
        "│ Justification:                                                   │\n",
        "│ • Highest macro F1-score (40.35%) - best for imbalanced data    │\n",
        "│      │\n",
        "│              │\n",
        "│             │\n",
        "│                │\n",
        "└──────────────────────────────────────────────────────────────────┘\n",
        "\n",
        "              Logistic Regression:\n",
        "  Accuracy:           0.6281\n",
        "  Precision (macro):  0.4354\n",
        "  Precision (wtd):    0.6040\n",
        "  Recall (macro):     0.3952\n",
        "  Recall (wtd):       0.6281\n",
        "  F1-Score (macro):   0.4035\n",
        "  F1-Score (wtd):     0.6105\n",
        "```"
      ]
    },
    {
      "cell_type": "markdown",
      "metadata": {
        "id": "s_9t6KIA0vf5"
      },
      "source": [
        "\n",
        "## Section 10: References\n",
        "\n",
        "### Data Sources\n",
        "1. **Spotify Web API Documentation**  \n",
        "   - https://developer.spotify.com/documentation/web-api/\n",
        "   - Used for understanding streaming history JSON format and audio features\n",
        "\n",
        "2. **Personal Spotify Data Export**  \n",
        "   - https://www.spotify.com/us/account/privacy/\n",
        "   - Streaming history JSON files (2023-2025)\n",
        "\n",
        "### Python Libraries & Documentation\n",
        "\n",
        "3. **Pandas** - Data manipulation and analysis  \n",
        "   - McKinney, W. (2010). Data Structures for Statistical Computing in Python.  \n",
        "   - https://pandas.pydata.org/docs/\n",
        "\n",
        "4. **NumPy** - Numerical computing  \n",
        "   - Harris, C.R., et al. (2020). Array programming with NumPy. Nature 585, 357–362.  \n",
        "   - https://numpy.org/doc/\n",
        "\n",
        "5. **Plotly** - Interactive visualizations  \n",
        "   - https://plotly.com/python/  \n",
        "   - Used for all EDA and results visualization\n",
        "\n",
        "### Machine Learning Libraries\n",
        "\n",
        "6. **Scikit-learn** - Machine learning framework  \n",
        "   - Pedregosa, F., et al. (2011). Scikit-learn: Machine Learning in Python. JMLR 12, pp. 2825-2830.  \n",
        "   - https://scikit-learn.org/stable/\n",
        "\n",
        "7. **Logistic Regression** (sklearn.linear_model.LogisticRegression)  \n",
        "   - https://scikit-learn.org/stable/modules/generated/sklearn.linear_model.LogisticRegression.html  \n",
        "   - Multinomial logistic regression with L2 regularization\n",
        "\n",
        "8. **Random Forest Classifier** (sklearn.ensemble.RandomForestClassifier)  \n",
        "   - Breiman, L. (2001). Random Forests. Machine Learning 45(1), 5-32.  \n",
        "   - https://scikit-learn.org/stable/modules/generated/sklearn.ensemble.RandomForestClassifier.html\n",
        "\n",
        "9. **Gradient Boosting Classifier** (sklearn.ensemble.GradientBoostingClassifier)  \n",
        "   - Friedman, J. H. (2001). Greedy Function Approximation: A Gradient Boosting Machine.  \n",
        "   - https://scikit-learn.org/stable/modules/generated/sklearn.ensemble.GradientBoostingClassifier.html\n",
        "\n",
        "10. **StandardScaler** (sklearn.preprocessing.StandardScaler)  \n",
        "    - https://scikit-learn.org/stable/modules/generated/sklearn.preprocessing.StandardScaler.html  \n",
        "    - Feature standardization (mean=0, std=1)\n",
        "\n",
        "11. **Stratified K-Fold Cross-Validation** (sklearn.model_selection.StratifiedKFold)  \n",
        "    - https://scikit-learn.org/stable/modules/generated/sklearn.model_selection.StratifiedKFold.html  \n",
        "    - Preserves class distribution across folds\n",
        "\n",
        "12. **Classification Metrics** (sklearn.metrics)  \n",
        "    - Accuracy, Precision, Recall, F1-Score, Confusion Matrix  \n",
        "    - https://scikit-learn.org/stable/modules/model_evaluation.html\n",
        "\n",
        "### Audio Feature Extraction (Referenced for Understanding)\n",
        "\n",
        "13. **Librosa** - Audio analysis library (reference only, not used in this project)  \n",
        "    - McFee, B., et al. (2015). librosa: Audio and Music Signal Analysis in Python.  \n",
        "    - https://librosa.org/doc/latest/index.html  \n",
        "    - Concepts: MFCC, Chroma, Spectral Contrast, Mel Spectrogram\n",
        "\n",
        "### Course Materials\n",
        "\n",
        "21. **CS156: Machine Learning Fundamentals**  \n",
        "    - Course lectures on classification, cross-validation, and model evaluation  \n",
        "    - Logistic regression, decision trees\n",
        "\n",
        "**Note**: All code implementation, analysis, visualizations, and conclusions in this notebook are original work based on personal Spotify data."
      ]
    }
  ],
  "metadata": {
    "colab": {
      "provenance": []
    },
    "kernelspec": {
      "display_name": ".venv",
      "language": "python",
      "name": "python3"
    },
    "language_info": {
      "codemirror_mode": {
        "name": "ipython",
        "version": 3
      },
      "file_extension": ".py",
      "mimetype": "text/x-python",
      "name": "python",
      "nbconvert_exporter": "python",
      "pygments_lexer": "ipython3",
      "version": "3.9.6"
    }
  },
  "nbformat": 4,
  "nbformat_minor": 0
}
