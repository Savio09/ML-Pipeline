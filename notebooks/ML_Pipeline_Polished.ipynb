{
 "cells": [
  {
   "cell_type": "markdown",
   "id": "52cee4a3",
   "metadata": {},
   "source": [
    "# Genre Classification of Spotify Music\n",
    "\n",
    "**A Machine Learning Pipeline for Predicting Song Genre from Audio Features**\n",
    "\n",
    "**Student:** F. Declan  \n",
    "**Course:** CS156 - Machine Learning  \n",
    "**Date:** October 21, 2025  \n",
    "**Institution:** Harvey Mudd College\n",
    "\n",
    "---\n",
    "\n",
    "### Project Overview\n",
    "\n",
    "This project implements a complete machine learning pipeline to answer a fundamental question in music information retrieval: **Can a song's genre be predicted solely from its quantitative audio features?**\n",
    "\n",
    "Starting with a raw dataset of personal Spotify streaming history, this notebook documents the end-to-end process of:\n",
    "1.  **Data Ingestion and Cleaning**: Parsing and cleaning two years of streaming data.\n",
    "2.  **Exploratory Data Analysis (EDA)**: Uncovering personal listening habits and patterns.\n",
    "3.  **Feature Engineering and Preparation**: Loading a dataset of unique tracks with pre-extracted audio features, preparing it for modeling, and performing a detailed feature analysis.\n",
    "4.  **Model Training and Selection**: Training and evaluating three distinct classification models (Logistic Regression, Random Forest, and Gradient Boosting) using a rigorous cross-validation strategy.\n",
    "5.  **Final Evaluation and Interpretation**: Analyzing the best model's performance on a held-out test set to understand its predictive power and limitations.\n",
    "\n",
    "The final result is a well-documented and robust classification model, complete with insights into which audio characteristics are most discriminative of musical genre."
   ]
  },
  {
   "cell_type": "markdown",
   "id": "d6e23016",
   "metadata": {},
   "source": [
    "---\n",
    "\n",
    "## Section 1: Setup and Data Ingestion\n",
    "\n",
    "This section handles the initial setup, including importing necessary libraries and loading the raw streaming history data. This dataset forms the basis for our initial exploratory analysis."
   ]
  },
  {
   "cell_type": "code",
   "execution_count": 2,
   "id": "48acf2f0",
   "metadata": {},
   "outputs": [
    {
     "name": "stdout",
     "output_type": "stream",
     "text": [
      "✓ All libraries imported successfully.\n"
     ]
    }
   ],
   "source": [
    "# --- Core Libraries ---\n",
    "import pandas as pd\n",
    "import numpy as np\n",
    "import os\n",
    "import json\n",
    "import glob\n",
    "import ast\n",
    "import time\n",
    "import warnings\n",
    "\n",
    "# --- Visualization ---\n",
    "import plotly.express as px\n",
    "import plotly.graph_objects as go\n",
    "from plotly.subplots import make_subplots\n",
    "\n",
    "# --- Machine Learning ---\n",
    "from sklearn.model_selection import train_test_split, StratifiedKFold\n",
    "from sklearn.preprocessing import LabelEncoder, StandardScaler\n",
    "from sklearn.linear_model import LogisticRegression\n",
    "from sklearn.ensemble import RandomForestClassifier, GradientBoostingClassifier\n",
    "from sklearn.metrics import accuracy_score, precision_recall_fscore_support, confusion_matrix\n",
    "\n",
    "# --- Configuration ---\n",
    "warnings.filterwarnings('ignore')\n",
    "pd.set_option('display.max_columns', 100)\n",
    "\n",
    "print(\"✓ All libraries imported successfully.\")"
   ]
  },
  {
   "cell_type": "markdown",
   "id": "7ad98248",
   "metadata": {},
   "source": [
    "### 1.1 Load and Combine Raw Streaming Data\n",
    "\n",
    "The raw data from Spotify consists of multiple JSON files containing streaming history. The first step is to locate these files, parse them, and combine them into a single pandas DataFrame. This combined dataset will be saved as a CSV file to streamline future analysis."
   ]
  },
  {
   "cell_type": "code",
   "execution_count": 3,
   "id": "03328c69",
   "metadata": {},
   "outputs": [
    {
     "name": "stdout",
     "output_type": "stream",
     "text": [
      "✓ Found existing combined dataset at '../Ingested_Data/combined_streaming_history.csv'. Loading from CSV...\n",
      "\n",
      "======================================================================\n",
      "COMBINED STREAMING HISTORY - SUMMARY\n",
      "======================================================================\n",
      "Total streaming events: 16,053\n",
      "Dataset shape: 16,053 rows × 23 columns\n",
      "\n",
      "First 5 records:\n"
     ]
    },
    {
     "data": {
      "text/html": [
       "<div>\n",
       "<style scoped>\n",
       "    .dataframe tbody tr th:only-of-type {\n",
       "        vertical-align: middle;\n",
       "    }\n",
       "\n",
       "    .dataframe tbody tr th {\n",
       "        vertical-align: top;\n",
       "    }\n",
       "\n",
       "    .dataframe thead th {\n",
       "        text-align: right;\n",
       "    }\n",
       "</style>\n",
       "<table border=\"1\" class=\"dataframe\">\n",
       "  <thead>\n",
       "    <tr style=\"text-align: right;\">\n",
       "      <th></th>\n",
       "      <th>ts</th>\n",
       "      <th>platform</th>\n",
       "      <th>ms_played</th>\n",
       "      <th>conn_country</th>\n",
       "      <th>ip_addr</th>\n",
       "      <th>master_metadata_track_name</th>\n",
       "      <th>master_metadata_album_artist_name</th>\n",
       "      <th>master_metadata_album_album_name</th>\n",
       "      <th>spotify_track_uri</th>\n",
       "      <th>episode_name</th>\n",
       "      <th>episode_show_name</th>\n",
       "      <th>spotify_episode_uri</th>\n",
       "      <th>audiobook_title</th>\n",
       "      <th>audiobook_uri</th>\n",
       "      <th>audiobook_chapter_uri</th>\n",
       "      <th>audiobook_chapter_title</th>\n",
       "      <th>reason_start</th>\n",
       "      <th>reason_end</th>\n",
       "      <th>shuffle</th>\n",
       "      <th>skipped</th>\n",
       "      <th>offline</th>\n",
       "      <th>offline_timestamp</th>\n",
       "      <th>incognito_mode</th>\n",
       "    </tr>\n",
       "  </thead>\n",
       "  <tbody>\n",
       "    <tr>\n",
       "      <th>0</th>\n",
       "      <td>2023-08-27T01:02:32Z</td>\n",
       "      <td>windows</td>\n",
       "      <td>1265604</td>\n",
       "      <td>US</td>\n",
       "      <td>136.24.106.5</td>\n",
       "      <td>NaN</td>\n",
       "      <td>NaN</td>\n",
       "      <td>NaN</td>\n",
       "      <td>NaN</td>\n",
       "      <td>This Conversation About the 'Reading Mind' Is ...</td>\n",
       "      <td>The Ezra Klein Show</td>\n",
       "      <td>spotify:episode:5ess4DnMyD2YTmjgU5cggh</td>\n",
       "      <td>NaN</td>\n",
       "      <td>NaN</td>\n",
       "      <td>NaN</td>\n",
       "      <td>NaN</td>\n",
       "      <td>remote</td>\n",
       "      <td>logout</td>\n",
       "      <td>False</td>\n",
       "      <td>False</td>\n",
       "      <td>False</td>\n",
       "      <td>NaN</td>\n",
       "      <td>False</td>\n",
       "    </tr>\n",
       "    <tr>\n",
       "      <th>1</th>\n",
       "      <td>2023-08-27T06:39:41Z</td>\n",
       "      <td>windows</td>\n",
       "      <td>1164082</td>\n",
       "      <td>US</td>\n",
       "      <td>12.13.248.226</td>\n",
       "      <td>NaN</td>\n",
       "      <td>NaN</td>\n",
       "      <td>NaN</td>\n",
       "      <td>NaN</td>\n",
       "      <td>This Conversation About the 'Reading Mind' Is ...</td>\n",
       "      <td>The Ezra Klein Show</td>\n",
       "      <td>spotify:episode:5ess4DnMyD2YTmjgU5cggh</td>\n",
       "      <td>NaN</td>\n",
       "      <td>NaN</td>\n",
       "      <td>NaN</td>\n",
       "      <td>NaN</td>\n",
       "      <td>clickrow</td>\n",
       "      <td>endplay</td>\n",
       "      <td>False</td>\n",
       "      <td>True</td>\n",
       "      <td>False</td>\n",
       "      <td>1.693102e+09</td>\n",
       "      <td>False</td>\n",
       "    </tr>\n",
       "    <tr>\n",
       "      <th>2</th>\n",
       "      <td>2023-09-03T05:26:16Z</td>\n",
       "      <td>windows</td>\n",
       "      <td>3810</td>\n",
       "      <td>US</td>\n",
       "      <td>136.24.106.5</td>\n",
       "      <td>NaN</td>\n",
       "      <td>NaN</td>\n",
       "      <td>NaN</td>\n",
       "      <td>NaN</td>\n",
       "      <td>This Conversation About the 'Reading Mind' Is ...</td>\n",
       "      <td>The Ezra Klein Show</td>\n",
       "      <td>spotify:episode:5ess4DnMyD2YTmjgU5cggh</td>\n",
       "      <td>NaN</td>\n",
       "      <td>NaN</td>\n",
       "      <td>NaN</td>\n",
       "      <td>NaN</td>\n",
       "      <td>playbtn</td>\n",
       "      <td>logout</td>\n",
       "      <td>False</td>\n",
       "      <td>False</td>\n",
       "      <td>False</td>\n",
       "      <td>1.693719e+09</td>\n",
       "      <td>False</td>\n",
       "    </tr>\n",
       "    <tr>\n",
       "      <th>3</th>\n",
       "      <td>2023-09-03T12:46:29Z</td>\n",
       "      <td>windows</td>\n",
       "      <td>4592540</td>\n",
       "      <td>US</td>\n",
       "      <td>136.24.106.5</td>\n",
       "      <td>NaN</td>\n",
       "      <td>NaN</td>\n",
       "      <td>NaN</td>\n",
       "      <td>NaN</td>\n",
       "      <td>This Conversation About the 'Reading Mind' Is ...</td>\n",
       "      <td>The Ezra Klein Show</td>\n",
       "      <td>spotify:episode:5ess4DnMyD2YTmjgU5cggh</td>\n",
       "      <td>NaN</td>\n",
       "      <td>NaN</td>\n",
       "      <td>NaN</td>\n",
       "      <td>NaN</td>\n",
       "      <td>appload</td>\n",
       "      <td>logout</td>\n",
       "      <td>False</td>\n",
       "      <td>False</td>\n",
       "      <td>False</td>\n",
       "      <td>1.693740e+09</td>\n",
       "      <td>False</td>\n",
       "    </tr>\n",
       "    <tr>\n",
       "      <th>4</th>\n",
       "      <td>2023-09-04T00:29:31Z</td>\n",
       "      <td>ios</td>\n",
       "      <td>393360</td>\n",
       "      <td>US</td>\n",
       "      <td>172.56.209.239</td>\n",
       "      <td>Another In The Fire - Live</td>\n",
       "      <td>Hillsong UNITED</td>\n",
       "      <td>People</td>\n",
       "      <td>spotify:track:5PmHmU5AaBy9ld3bdQkD96</td>\n",
       "      <td>NaN</td>\n",
       "      <td>NaN</td>\n",
       "      <td>NaN</td>\n",
       "      <td>NaN</td>\n",
       "      <td>NaN</td>\n",
       "      <td>NaN</td>\n",
       "      <td>NaN</td>\n",
       "      <td>playbtn</td>\n",
       "      <td>trackdone</td>\n",
       "      <td>True</td>\n",
       "      <td>False</td>\n",
       "      <td>False</td>\n",
       "      <td>1.693787e+09</td>\n",
       "      <td>False</td>\n",
       "    </tr>\n",
       "  </tbody>\n",
       "</table>\n",
       "</div>"
      ],
      "text/plain": [
       "                     ts platform  ms_played conn_country         ip_addr  \\\n",
       "0  2023-08-27T01:02:32Z  windows    1265604           US    136.24.106.5   \n",
       "1  2023-08-27T06:39:41Z  windows    1164082           US   12.13.248.226   \n",
       "2  2023-09-03T05:26:16Z  windows       3810           US    136.24.106.5   \n",
       "3  2023-09-03T12:46:29Z  windows    4592540           US    136.24.106.5   \n",
       "4  2023-09-04T00:29:31Z      ios     393360           US  172.56.209.239   \n",
       "\n",
       "   master_metadata_track_name master_metadata_album_artist_name  \\\n",
       "0                         NaN                               NaN   \n",
       "1                         NaN                               NaN   \n",
       "2                         NaN                               NaN   \n",
       "3                         NaN                               NaN   \n",
       "4  Another In The Fire - Live                   Hillsong UNITED   \n",
       "\n",
       "  master_metadata_album_album_name                     spotify_track_uri  \\\n",
       "0                              NaN                                   NaN   \n",
       "1                              NaN                                   NaN   \n",
       "2                              NaN                                   NaN   \n",
       "3                              NaN                                   NaN   \n",
       "4                           People  spotify:track:5PmHmU5AaBy9ld3bdQkD96   \n",
       "\n",
       "                                        episode_name    episode_show_name  \\\n",
       "0  This Conversation About the 'Reading Mind' Is ...  The Ezra Klein Show   \n",
       "1  This Conversation About the 'Reading Mind' Is ...  The Ezra Klein Show   \n",
       "2  This Conversation About the 'Reading Mind' Is ...  The Ezra Klein Show   \n",
       "3  This Conversation About the 'Reading Mind' Is ...  The Ezra Klein Show   \n",
       "4                                                NaN                  NaN   \n",
       "\n",
       "                      spotify_episode_uri audiobook_title audiobook_uri  \\\n",
       "0  spotify:episode:5ess4DnMyD2YTmjgU5cggh             NaN           NaN   \n",
       "1  spotify:episode:5ess4DnMyD2YTmjgU5cggh             NaN           NaN   \n",
       "2  spotify:episode:5ess4DnMyD2YTmjgU5cggh             NaN           NaN   \n",
       "3  spotify:episode:5ess4DnMyD2YTmjgU5cggh             NaN           NaN   \n",
       "4                                     NaN             NaN           NaN   \n",
       "\n",
       "  audiobook_chapter_uri audiobook_chapter_title reason_start reason_end  \\\n",
       "0                   NaN                     NaN       remote     logout   \n",
       "1                   NaN                     NaN     clickrow    endplay   \n",
       "2                   NaN                     NaN      playbtn     logout   \n",
       "3                   NaN                     NaN      appload     logout   \n",
       "4                   NaN                     NaN      playbtn  trackdone   \n",
       "\n",
       "   shuffle  skipped  offline  offline_timestamp  incognito_mode  \n",
       "0    False    False    False                NaN           False  \n",
       "1    False     True    False       1.693102e+09           False  \n",
       "2    False    False    False       1.693719e+09           False  \n",
       "3    False    False    False       1.693740e+09           False  \n",
       "4     True    False    False       1.693787e+09           False  "
      ]
     },
     "metadata": {},
     "output_type": "display_data"
    }
   ],
   "source": [
    "# Define file paths for raw and ingested data\n",
    "raw_data_pattern = '../Streaming_History_Audio_*.json'\n",
    "ingested_data_dir = '../Ingested_Data'\n",
    "combined_csv_path = os.path.join(ingested_data_dir, 'combined_streaming_history.csv')\n",
    "\n",
    "# Create the output directory if it doesn't exist\n",
    "os.makedirs(ingested_data_dir, exist_ok=True)\n",
    "\n",
    "# Check if the combined CSV already exists to avoid reprocessing\n",
    "if os.path.exists(combined_csv_path):\n",
    "    print(f\"✓ Found existing combined dataset at '{combined_csv_path}'. Loading from CSV...\")\n",
    "    df_combined = pd.read_csv(combined_csv_path)\n",
    "else:\n",
    "    print(\"✗ Combined dataset not found. Creating from raw JSON files...\")\n",
    "    \n",
    "    # Find all JSON files matching the specified pattern\n",
    "    json_files = glob.glob(raw_data_pattern)\n",
    "    \n",
    "    if not json_files:\n",
    "        raise FileNotFoundError(f\"No JSON files found matching pattern: {raw_data_pattern}\")\n",
    "    \n",
    "    print(f\"  Found {len(json_files)} JSON file(s) to process.\")\n",
    "    \n",
    "    # Load and concatenate data from all found JSON files\n",
    "    all_streaming_data = []\n",
    "    for json_file in json_files:\n",
    "        with open(json_file, 'r', encoding='utf-8') as f:\n",
    "            file_data = json.load(f)\n",
    "            all_streaming_data.extend(file_data)\n",
    "            print(f\"  → Loaded {len(file_data):,} records from {os.path.basename(json_file)}\")\n",
    "    \n",
    "    # Convert the list of records into a pandas DataFrame\n",
    "    df_combined = pd.DataFrame(all_streaming_data)\n",
    "    \n",
    "    # Save the combined DataFrame to a CSV file for easy access\n",
    "    df_combined.to_csv(combined_csv_path, index=False)\n",
    "    print(f\"\\n✓ Combined dataset saved to '{combined_csv_path}'\")\n",
    "\n",
    "# Display a summary of the loaded dataset\n",
    "print(f\"\\n{'='*70}\")\n",
    "print(f\"COMBINED STREAMING HISTORY - SUMMARY\")\n",
    "print(f\"{'='*70}\")\n",
    "print(f\"Total streaming events: {len(df_combined):,}\")\n",
    "print(f\"Dataset shape: {df_combined.shape[0]:,} rows × {df_combined.shape[1]} columns\")\n",
    "print(f\"\\nFirst 5 records:\")\n",
    "display(df_combined.head())"
   ]
  },
  {
   "cell_type": "markdown",
   "id": "73e581ac",
   "metadata": {},
   "source": [
    "---\n",
    "\n",
    "## Section 2: Data Cleaning and Exploratory Data Analysis (EDA)\n",
    "\n",
    "With the raw data loaded, the next step is to clean and preprocess it. This involves handling missing values, converting data types, and extracting useful information from existing columns. Afterward, we will perform an exploratory data analysis to uncover trends and patterns in my listening history."
   ]
  },
  {
   "cell_type": "markdown",
   "id": "1df55c13",
   "metadata": {},
   "source": [
    "### 2.1 Clean and Preprocess Streaming Data\n",
    "\n",
    "The raw data requires several cleaning steps to be useful for analysis:\n",
    "1.  **Drop irrelevant columns** that are not needed for this analysis.\n",
    "2.  **Handle missing values**, particularly for track and artist names.\n",
    "3.  **Convert timestamp (`ts`)** from string to a proper datetime object.\n",
    "4.  **Create new time-based features** like `year`, `month`, `day_of_week`, and `hour`.\n",
    "5.  **Filter out non-music streams**, such as podcasts or other audio types.\n",
    "6.  **Save the cleaned data** to a new CSV file."
   ]
  },
  {
   "cell_type": "code",
   "execution_count": 4,
   "id": "3ea3b799",
   "metadata": {},
   "outputs": [
    {
     "name": "stdout",
     "output_type": "stream",
     "text": [
      "✓ Found existing cleaned dataset at '../Ingested_Data/cleaned_streaming_history.csv'. Loading from CSV...\n",
      "\n",
      "======================================================================\n",
      "CLEANED STREAMING HISTORY - SUMMARY\n",
      "======================================================================\n",
      "Total valid music streams: 12,727\n",
      "Dataset shape: 12,727 rows × 34 columns\n",
      "\n",
      "Columns and Data Types:\n",
      "<class 'pandas.core.frame.DataFrame'>\n",
      "RangeIndex: 12727 entries, 0 to 12726\n",
      "Data columns (total 34 columns):\n",
      " #   Column                             Non-Null Count  Dtype              \n",
      "---  ------                             --------------  -----              \n",
      " 0   ts                                 12727 non-null  datetime64[ns, UTC]\n",
      " 1   platform                           12727 non-null  object             \n",
      " 2   ms_played                          12727 non-null  int64              \n",
      " 3   conn_country                       12727 non-null  object             \n",
      " 4   ip_addr                            12727 non-null  object             \n",
      " 5   master_metadata_track_name         12727 non-null  object             \n",
      " 6   master_metadata_album_artist_name  12727 non-null  object             \n",
      " 7   master_metadata_album_album_name   12727 non-null  object             \n",
      " 8   spotify_track_uri                  12727 non-null  object             \n",
      " 9   episode_name                       0 non-null      float64            \n",
      " 10  episode_show_name                  0 non-null      float64            \n",
      " 11  spotify_episode_uri                0 non-null      float64            \n",
      " 12  audiobook_title                    0 non-null      float64            \n",
      " 13  audiobook_uri                      0 non-null      float64            \n",
      " 14  audiobook_chapter_uri              0 non-null      float64            \n",
      " 15  audiobook_chapter_title            0 non-null      float64            \n",
      " 16  reason_start                       12727 non-null  object             \n",
      " 17  reason_end                         12727 non-null  object             \n",
      " 18  shuffle                            12727 non-null  bool               \n",
      " 19  skipped                            12727 non-null  bool               \n",
      " 20  offline                            12727 non-null  bool               \n",
      " 21  offline_timestamp                  12727 non-null  float64            \n",
      " 22  incognito_mode                     12727 non-null  bool               \n",
      " 23  timestamp                          12727 non-null  object             \n",
      " 24  date                               12727 non-null  object             \n",
      " 25  hour                               12727 non-null  int64              \n",
      " 26  day_of_week                        12727 non-null  object             \n",
      " 27  month                              12727 non-null  int64              \n",
      " 28  year                               12727 non-null  int64              \n",
      " 29  seconds_played                     12727 non-null  float64            \n",
      " 30  minutes_played                     12727 non-null  float64            \n",
      " 31  artist_name                        12727 non-null  object             \n",
      " 32  track_name                         12727 non-null  object             \n",
      " 33  album_name                         12727 non-null  object             \n",
      "dtypes: bool(4), datetime64[ns, UTC](1), float64(10), int64(4), object(15)\n",
      "memory usage: 3.0+ MB\n",
      "\n",
      "Sample of cleaned data:\n"
     ]
    },
    {
     "data": {
      "text/html": [
       "<div>\n",
       "<style scoped>\n",
       "    .dataframe tbody tr th:only-of-type {\n",
       "        vertical-align: middle;\n",
       "    }\n",
       "\n",
       "    .dataframe tbody tr th {\n",
       "        vertical-align: top;\n",
       "    }\n",
       "\n",
       "    .dataframe thead th {\n",
       "        text-align: right;\n",
       "    }\n",
       "</style>\n",
       "<table border=\"1\" class=\"dataframe\">\n",
       "  <thead>\n",
       "    <tr style=\"text-align: right;\">\n",
       "      <th></th>\n",
       "      <th>ts</th>\n",
       "      <th>platform</th>\n",
       "      <th>ms_played</th>\n",
       "      <th>conn_country</th>\n",
       "      <th>ip_addr</th>\n",
       "      <th>master_metadata_track_name</th>\n",
       "      <th>master_metadata_album_artist_name</th>\n",
       "      <th>master_metadata_album_album_name</th>\n",
       "      <th>spotify_track_uri</th>\n",
       "      <th>episode_name</th>\n",
       "      <th>episode_show_name</th>\n",
       "      <th>spotify_episode_uri</th>\n",
       "      <th>audiobook_title</th>\n",
       "      <th>audiobook_uri</th>\n",
       "      <th>audiobook_chapter_uri</th>\n",
       "      <th>audiobook_chapter_title</th>\n",
       "      <th>reason_start</th>\n",
       "      <th>reason_end</th>\n",
       "      <th>shuffle</th>\n",
       "      <th>skipped</th>\n",
       "      <th>offline</th>\n",
       "      <th>offline_timestamp</th>\n",
       "      <th>incognito_mode</th>\n",
       "      <th>timestamp</th>\n",
       "      <th>date</th>\n",
       "      <th>hour</th>\n",
       "      <th>day_of_week</th>\n",
       "      <th>month</th>\n",
       "      <th>year</th>\n",
       "      <th>seconds_played</th>\n",
       "      <th>minutes_played</th>\n",
       "      <th>artist_name</th>\n",
       "      <th>track_name</th>\n",
       "      <th>album_name</th>\n",
       "    </tr>\n",
       "  </thead>\n",
       "  <tbody>\n",
       "    <tr>\n",
       "      <th>0</th>\n",
       "      <td>2023-09-04 00:29:31+00:00</td>\n",
       "      <td>ios</td>\n",
       "      <td>393360</td>\n",
       "      <td>US</td>\n",
       "      <td>172.56.209.239</td>\n",
       "      <td>Another In The Fire - Live</td>\n",
       "      <td>Hillsong UNITED</td>\n",
       "      <td>People</td>\n",
       "      <td>spotify:track:5PmHmU5AaBy9ld3bdQkD96</td>\n",
       "      <td>NaN</td>\n",
       "      <td>NaN</td>\n",
       "      <td>NaN</td>\n",
       "      <td>NaN</td>\n",
       "      <td>NaN</td>\n",
       "      <td>NaN</td>\n",
       "      <td>NaN</td>\n",
       "      <td>playbtn</td>\n",
       "      <td>trackdone</td>\n",
       "      <td>True</td>\n",
       "      <td>False</td>\n",
       "      <td>False</td>\n",
       "      <td>1.693787e+09</td>\n",
       "      <td>False</td>\n",
       "      <td>2023-09-04 00:29:31+00:00</td>\n",
       "      <td>2023-09-04</td>\n",
       "      <td>0</td>\n",
       "      <td>Monday</td>\n",
       "      <td>9</td>\n",
       "      <td>2023</td>\n",
       "      <td>393.360</td>\n",
       "      <td>6.556000</td>\n",
       "      <td>Hillsong UNITED</td>\n",
       "      <td>Another In The Fire - Live</td>\n",
       "      <td>People</td>\n",
       "    </tr>\n",
       "    <tr>\n",
       "      <th>1</th>\n",
       "      <td>2023-09-04 00:36:52+00:00</td>\n",
       "      <td>ios</td>\n",
       "      <td>353546</td>\n",
       "      <td>US</td>\n",
       "      <td>172.56.209.239</td>\n",
       "      <td>Good Grace - Live</td>\n",
       "      <td>Hillsong UNITED</td>\n",
       "      <td>People</td>\n",
       "      <td>spotify:track:7nzmXUrZwSOJPNmV0mOmEn</td>\n",
       "      <td>NaN</td>\n",
       "      <td>NaN</td>\n",
       "      <td>NaN</td>\n",
       "      <td>NaN</td>\n",
       "      <td>NaN</td>\n",
       "      <td>NaN</td>\n",
       "      <td>NaN</td>\n",
       "      <td>trackdone</td>\n",
       "      <td>trackdone</td>\n",
       "      <td>True</td>\n",
       "      <td>False</td>\n",
       "      <td>False</td>\n",
       "      <td>1.693787e+09</td>\n",
       "      <td>False</td>\n",
       "      <td>2023-09-04 00:36:52+00:00</td>\n",
       "      <td>2023-09-04</td>\n",
       "      <td>0</td>\n",
       "      <td>Monday</td>\n",
       "      <td>9</td>\n",
       "      <td>2023</td>\n",
       "      <td>353.546</td>\n",
       "      <td>5.892433</td>\n",
       "      <td>Hillsong UNITED</td>\n",
       "      <td>Good Grace - Live</td>\n",
       "      <td>People</td>\n",
       "    </tr>\n",
       "    <tr>\n",
       "      <th>2</th>\n",
       "      <td>2023-09-04 00:40:11+00:00</td>\n",
       "      <td>ios</td>\n",
       "      <td>197657</td>\n",
       "      <td>US</td>\n",
       "      <td>172.56.209.239</td>\n",
       "      <td>Echoes (Till We See The Other Side) - Live</td>\n",
       "      <td>Hillsong UNITED</td>\n",
       "      <td>People</td>\n",
       "      <td>spotify:track:0oHYnQXUrFoIm0xraAmdNG</td>\n",
       "      <td>NaN</td>\n",
       "      <td>NaN</td>\n",
       "      <td>NaN</td>\n",
       "      <td>NaN</td>\n",
       "      <td>NaN</td>\n",
       "      <td>NaN</td>\n",
       "      <td>NaN</td>\n",
       "      <td>trackdone</td>\n",
       "      <td>endplay</td>\n",
       "      <td>True</td>\n",
       "      <td>True</td>\n",
       "      <td>False</td>\n",
       "      <td>1.693788e+09</td>\n",
       "      <td>False</td>\n",
       "      <td>2023-09-04 00:40:11+00:00</td>\n",
       "      <td>2023-09-04</td>\n",
       "      <td>0</td>\n",
       "      <td>Monday</td>\n",
       "      <td>9</td>\n",
       "      <td>2023</td>\n",
       "      <td>197.657</td>\n",
       "      <td>3.294283</td>\n",
       "      <td>Hillsong UNITED</td>\n",
       "      <td>Echoes (Till We See The Other Side) - Live</td>\n",
       "      <td>People</td>\n",
       "    </tr>\n",
       "    <tr>\n",
       "      <th>3</th>\n",
       "      <td>2023-09-04 00:41:55+00:00</td>\n",
       "      <td>ios</td>\n",
       "      <td>55170</td>\n",
       "      <td>US</td>\n",
       "      <td>172.56.209.239</td>\n",
       "      <td>Not Today</td>\n",
       "      <td>Hillsong UNITED</td>\n",
       "      <td>Wonder</td>\n",
       "      <td>spotify:track:33Nyq9QfKCXEQtzeg22vg7</td>\n",
       "      <td>NaN</td>\n",
       "      <td>NaN</td>\n",
       "      <td>NaN</td>\n",
       "      <td>NaN</td>\n",
       "      <td>NaN</td>\n",
       "      <td>NaN</td>\n",
       "      <td>NaN</td>\n",
       "      <td>fwdbtn</td>\n",
       "      <td>endplay</td>\n",
       "      <td>True</td>\n",
       "      <td>True</td>\n",
       "      <td>False</td>\n",
       "      <td>1.693788e+09</td>\n",
       "      <td>False</td>\n",
       "      <td>2023-09-04 00:41:55+00:00</td>\n",
       "      <td>2023-09-04</td>\n",
       "      <td>0</td>\n",
       "      <td>Monday</td>\n",
       "      <td>9</td>\n",
       "      <td>2023</td>\n",
       "      <td>55.170</td>\n",
       "      <td>0.919500</td>\n",
       "      <td>Hillsong UNITED</td>\n",
       "      <td>Not Today</td>\n",
       "      <td>Wonder</td>\n",
       "    </tr>\n",
       "    <tr>\n",
       "      <th>4</th>\n",
       "      <td>2023-09-04 00:43:46+00:00</td>\n",
       "      <td>ios</td>\n",
       "      <td>48599</td>\n",
       "      <td>US</td>\n",
       "      <td>172.56.209.239</td>\n",
       "      <td>Glory and Majesty</td>\n",
       "      <td>Jon Reddick</td>\n",
       "      <td>God, Turn It Around</td>\n",
       "      <td>spotify:track:5lvrYFNaUV2eib9Tas1gZK</td>\n",
       "      <td>NaN</td>\n",
       "      <td>NaN</td>\n",
       "      <td>NaN</td>\n",
       "      <td>NaN</td>\n",
       "      <td>NaN</td>\n",
       "      <td>NaN</td>\n",
       "      <td>NaN</td>\n",
       "      <td>playbtn</td>\n",
       "      <td>endplay</td>\n",
       "      <td>True</td>\n",
       "      <td>True</td>\n",
       "      <td>False</td>\n",
       "      <td>1.693788e+09</td>\n",
       "      <td>False</td>\n",
       "      <td>2023-09-04 00:43:46+00:00</td>\n",
       "      <td>2023-09-04</td>\n",
       "      <td>0</td>\n",
       "      <td>Monday</td>\n",
       "      <td>9</td>\n",
       "      <td>2023</td>\n",
       "      <td>48.599</td>\n",
       "      <td>0.809983</td>\n",
       "      <td>Jon Reddick</td>\n",
       "      <td>Glory and Majesty</td>\n",
       "      <td>God, Turn It Around</td>\n",
       "    </tr>\n",
       "  </tbody>\n",
       "</table>\n",
       "</div>"
      ],
      "text/plain": [
       "                         ts platform  ms_played conn_country         ip_addr  \\\n",
       "0 2023-09-04 00:29:31+00:00      ios     393360           US  172.56.209.239   \n",
       "1 2023-09-04 00:36:52+00:00      ios     353546           US  172.56.209.239   \n",
       "2 2023-09-04 00:40:11+00:00      ios     197657           US  172.56.209.239   \n",
       "3 2023-09-04 00:41:55+00:00      ios      55170           US  172.56.209.239   \n",
       "4 2023-09-04 00:43:46+00:00      ios      48599           US  172.56.209.239   \n",
       "\n",
       "                   master_metadata_track_name  \\\n",
       "0                  Another In The Fire - Live   \n",
       "1                           Good Grace - Live   \n",
       "2  Echoes (Till We See The Other Side) - Live   \n",
       "3                                   Not Today   \n",
       "4                           Glory and Majesty   \n",
       "\n",
       "  master_metadata_album_artist_name master_metadata_album_album_name  \\\n",
       "0                   Hillsong UNITED                           People   \n",
       "1                   Hillsong UNITED                           People   \n",
       "2                   Hillsong UNITED                           People   \n",
       "3                   Hillsong UNITED                           Wonder   \n",
       "4                       Jon Reddick              God, Turn It Around   \n",
       "\n",
       "                      spotify_track_uri  episode_name  episode_show_name  \\\n",
       "0  spotify:track:5PmHmU5AaBy9ld3bdQkD96           NaN                NaN   \n",
       "1  spotify:track:7nzmXUrZwSOJPNmV0mOmEn           NaN                NaN   \n",
       "2  spotify:track:0oHYnQXUrFoIm0xraAmdNG           NaN                NaN   \n",
       "3  spotify:track:33Nyq9QfKCXEQtzeg22vg7           NaN                NaN   \n",
       "4  spotify:track:5lvrYFNaUV2eib9Tas1gZK           NaN                NaN   \n",
       "\n",
       "   spotify_episode_uri  audiobook_title  audiobook_uri  audiobook_chapter_uri  \\\n",
       "0                  NaN              NaN            NaN                    NaN   \n",
       "1                  NaN              NaN            NaN                    NaN   \n",
       "2                  NaN              NaN            NaN                    NaN   \n",
       "3                  NaN              NaN            NaN                    NaN   \n",
       "4                  NaN              NaN            NaN                    NaN   \n",
       "\n",
       "   audiobook_chapter_title reason_start reason_end  shuffle  skipped  offline  \\\n",
       "0                      NaN      playbtn  trackdone     True    False    False   \n",
       "1                      NaN    trackdone  trackdone     True    False    False   \n",
       "2                      NaN    trackdone    endplay     True     True    False   \n",
       "3                      NaN       fwdbtn    endplay     True     True    False   \n",
       "4                      NaN      playbtn    endplay     True     True    False   \n",
       "\n",
       "   offline_timestamp  incognito_mode                  timestamp        date  \\\n",
       "0       1.693787e+09           False  2023-09-04 00:29:31+00:00  2023-09-04   \n",
       "1       1.693787e+09           False  2023-09-04 00:36:52+00:00  2023-09-04   \n",
       "2       1.693788e+09           False  2023-09-04 00:40:11+00:00  2023-09-04   \n",
       "3       1.693788e+09           False  2023-09-04 00:41:55+00:00  2023-09-04   \n",
       "4       1.693788e+09           False  2023-09-04 00:43:46+00:00  2023-09-04   \n",
       "\n",
       "   hour day_of_week  month  year  seconds_played  minutes_played  \\\n",
       "0     0      Monday      9  2023         393.360        6.556000   \n",
       "1     0      Monday      9  2023         353.546        5.892433   \n",
       "2     0      Monday      9  2023         197.657        3.294283   \n",
       "3     0      Monday      9  2023          55.170        0.919500   \n",
       "4     0      Monday      9  2023          48.599        0.809983   \n",
       "\n",
       "       artist_name                                  track_name  \\\n",
       "0  Hillsong UNITED                  Another In The Fire - Live   \n",
       "1  Hillsong UNITED                           Good Grace - Live   \n",
       "2  Hillsong UNITED  Echoes (Till We See The Other Side) - Live   \n",
       "3  Hillsong UNITED                                   Not Today   \n",
       "4      Jon Reddick                           Glory and Majesty   \n",
       "\n",
       "            album_name  \n",
       "0               People  \n",
       "1               People  \n",
       "2               People  \n",
       "3               Wonder  \n",
       "4  God, Turn It Around  "
      ]
     },
     "metadata": {},
     "output_type": "display_data"
    }
   ],
   "source": [
    "# Define path for the cleaned dataset\n",
    "cleaned_csv_path = os.path.join(ingested_data_dir, 'cleaned_streaming_history.csv')\n",
    "\n",
    "# Check if cleaned dataset already exists\n",
    "if os.path.exists(cleaned_csv_path):\n",
    "    print(f\"✓ Found existing cleaned dataset at '{cleaned_csv_path}'. Loading from CSV...\")\n",
    "    df_cleaned = pd.read_csv(cleaned_csv_path)\n",
    "    # Ensure 'ts' is parsed as datetime when loading from CSV\n",
    "    df_cleaned['ts'] = pd.to_datetime(df_cleaned['ts'])\n",
    "else:\n",
    "    print(\"✗ Cleaned dataset not found. Processing raw data...\")\n",
    "    df_cleaned = df_combined.copy()\n",
    "\n",
    "    # 1. Drop irrelevant columns\n",
    "    cols_to_drop = [\n",
    "        'username', 'platform', 'conn_country', 'ip_addr_decrypted', \n",
    "        'user_agent_decrypted', 'episode_name', 'episode_show_name', \n",
    "        'spotify_episode_uri', 'incognito_mode'\n",
    "    ]\n",
    "    df_cleaned.drop(columns=cols_to_drop, inplace=True, errors='ignore')\n",
    "\n",
    "    # 2. Handle missing values\n",
    "    df_cleaned.dropna(subset=['master_metadata_track_name', 'master_metadata_album_artist_name'], inplace=True)\n",
    "\n",
    "    # 3. Convert timestamp to datetime\n",
    "    df_cleaned['ts'] = pd.to_datetime(df_cleaned['ts'])\n",
    "\n",
    "    # 4. Create time-based features\n",
    "    df_cleaned['year'] = df_cleaned['ts'].dt.year\n",
    "    df_cleaned['month'] = df_cleaned['ts'].dt.month_name()\n",
    "    df_cleaned['day_of_week'] = df_cleaned['ts'].dt.day_name()\n",
    "    df_cleaned['hour'] = df_cleaned['ts'].dt.hour\n",
    "\n",
    "    # 5. Filter out non-music (where spotify_track_uri is null)\n",
    "    df_cleaned = df_cleaned[df_cleaned['spotify_track_uri'].notna()]\n",
    "    \n",
    "    # 6. Save the cleaned data\n",
    "    df_cleaned.to_csv(cleaned_csv_path, index=False)\n",
    "    print(f\"\\n✓ Cleaned dataset saved to '{cleaned_csv_path}'\")\n",
    "\n",
    "# Display a summary of the cleaned dataset\n",
    "print(f\"\\n{'='*70}\")\n",
    "print(f\"CLEANED STREAMING HISTORY - SUMMARY\")\n",
    "print(f\"{'='*70}\")\n",
    "print(f\"Total valid music streams: {len(df_cleaned):,}\")\n",
    "print(f\"Dataset shape: {df_cleaned.shape[0]:,} rows × {df_cleaned.shape[1]} columns\")\n",
    "print(\"\\nColumns and Data Types:\")\n",
    "df_cleaned.info()\n",
    "print(\"\\nSample of cleaned data:\")\n",
    "display(df_cleaned.head())"
   ]
  },
  {
   "cell_type": "markdown",
   "id": "b4622d70",
   "metadata": {},
   "source": [
    "### 2.2 Exploratory Data Analysis (EDA)\n",
    "\n",
    "Now, let's visualize the cleaned data to understand listening habits. We will explore:\n",
    "-   **Listening Time Over Time**: A timeline of total listening minutes per month.\n",
    "-   **Hourly Listening Patterns**: A heatmap showing listening activity by day of the week and hour.\n",
    "-   **Top Artists and Songs**: Bar charts of the most frequently played artists and tracks."
   ]
  },
  {
   "cell_type": "code",
   "execution_count": 5,
   "id": "0338cb87",
   "metadata": {},
   "outputs": [
    {
     "name": "stdout",
     "output_type": "stream",
     "text": [
      "======================================================================\n",
      "EDA 1: LISTENING TIMELINE\n",
      "======================================================================\n"
     ]
    },
    {
     "data": {
      "application/vnd.plotly.v1+json": {
       "config": {
        "plotlyServerURL": "https://plot.ly"
       },
       "data": [
        {
         "hovertemplate": "Month=%{x}<br>Total Listening Hours=%{y}<extra></extra>",
         "legendgroup": "",
         "line": {
          "color": "#636efa",
          "dash": "solid"
         },
         "marker": {
          "symbol": "circle"
         },
         "mode": "lines+markers",
         "name": "",
         "orientation": "v",
         "showlegend": false,
         "type": "scatter",
         "x": [
          "2023-09-01T00:00:00.000000000",
          "2023-10-01T00:00:00.000000000",
          "2023-11-01T00:00:00.000000000",
          "2023-12-01T00:00:00.000000000",
          "2024-01-01T00:00:00.000000000",
          "2024-02-01T00:00:00.000000000",
          "2024-03-01T00:00:00.000000000",
          "2024-04-01T00:00:00.000000000",
          "2024-05-01T00:00:00.000000000",
          "2024-06-01T00:00:00.000000000",
          "2024-07-01T00:00:00.000000000",
          "2024-08-01T00:00:00.000000000",
          "2024-09-01T00:00:00.000000000",
          "2024-10-01T00:00:00.000000000",
          "2024-11-01T00:00:00.000000000",
          "2024-12-01T00:00:00.000000000",
          "2025-01-01T00:00:00.000000000",
          "2025-02-01T00:00:00.000000000",
          "2025-03-01T00:00:00.000000000"
         ],
         "xaxis": "x",
         "y": {
          "bdata": "mlhCszqfKUDzz6pag4USQODlrWtSNfs/JahD49jANEA3rmwMJ4o0QNcBru90pQBAPcCAS+3S/z+khd71rAo2QBIiVWPrq1RAkRHuWYgxXkAE79EIIzBYQK7Dvop5oVNAp6wIcwo0KUAV6c0KgTdDQDT6IC0KKURACbymGtAdQ0By0yqrB3tRQExFn97uQFJAhPwKXTrTQkA=",
          "dtype": "f8"
         },
         "yaxis": "y"
        }
       ],
       "layout": {
        "legend": {
         "tracegroupgap": 0
        },
        "template": {
         "data": {
          "bar": [
           {
            "error_x": {
             "color": "#f2f5fa"
            },
            "error_y": {
             "color": "#f2f5fa"
            },
            "marker": {
             "line": {
              "color": "rgb(17,17,17)",
              "width": 0.5
             },
             "pattern": {
              "fillmode": "overlay",
              "size": 10,
              "solidity": 0.2
             }
            },
            "type": "bar"
           }
          ],
          "barpolar": [
           {
            "marker": {
             "line": {
              "color": "rgb(17,17,17)",
              "width": 0.5
             },
             "pattern": {
              "fillmode": "overlay",
              "size": 10,
              "solidity": 0.2
             }
            },
            "type": "barpolar"
           }
          ],
          "carpet": [
           {
            "aaxis": {
             "endlinecolor": "#A2B1C6",
             "gridcolor": "#506784",
             "linecolor": "#506784",
             "minorgridcolor": "#506784",
             "startlinecolor": "#A2B1C6"
            },
            "baxis": {
             "endlinecolor": "#A2B1C6",
             "gridcolor": "#506784",
             "linecolor": "#506784",
             "minorgridcolor": "#506784",
             "startlinecolor": "#A2B1C6"
            },
            "type": "carpet"
           }
          ],
          "choropleth": [
           {
            "colorbar": {
             "outlinewidth": 0,
             "ticks": ""
            },
            "type": "choropleth"
           }
          ],
          "contour": [
           {
            "colorbar": {
             "outlinewidth": 0,
             "ticks": ""
            },
            "colorscale": [
             [
              0,
              "#0d0887"
             ],
             [
              0.1111111111111111,
              "#46039f"
             ],
             [
              0.2222222222222222,
              "#7201a8"
             ],
             [
              0.3333333333333333,
              "#9c179e"
             ],
             [
              0.4444444444444444,
              "#bd3786"
             ],
             [
              0.5555555555555556,
              "#d8576b"
             ],
             [
              0.6666666666666666,
              "#ed7953"
             ],
             [
              0.7777777777777778,
              "#fb9f3a"
             ],
             [
              0.8888888888888888,
              "#fdca26"
             ],
             [
              1,
              "#f0f921"
             ]
            ],
            "type": "contour"
           }
          ],
          "contourcarpet": [
           {
            "colorbar": {
             "outlinewidth": 0,
             "ticks": ""
            },
            "type": "contourcarpet"
           }
          ],
          "heatmap": [
           {
            "colorbar": {
             "outlinewidth": 0,
             "ticks": ""
            },
            "colorscale": [
             [
              0,
              "#0d0887"
             ],
             [
              0.1111111111111111,
              "#46039f"
             ],
             [
              0.2222222222222222,
              "#7201a8"
             ],
             [
              0.3333333333333333,
              "#9c179e"
             ],
             [
              0.4444444444444444,
              "#bd3786"
             ],
             [
              0.5555555555555556,
              "#d8576b"
             ],
             [
              0.6666666666666666,
              "#ed7953"
             ],
             [
              0.7777777777777778,
              "#fb9f3a"
             ],
             [
              0.8888888888888888,
              "#fdca26"
             ],
             [
              1,
              "#f0f921"
             ]
            ],
            "type": "heatmap"
           }
          ],
          "histogram": [
           {
            "marker": {
             "pattern": {
              "fillmode": "overlay",
              "size": 10,
              "solidity": 0.2
             }
            },
            "type": "histogram"
           }
          ],
          "histogram2d": [
           {
            "colorbar": {
             "outlinewidth": 0,
             "ticks": ""
            },
            "colorscale": [
             [
              0,
              "#0d0887"
             ],
             [
              0.1111111111111111,
              "#46039f"
             ],
             [
              0.2222222222222222,
              "#7201a8"
             ],
             [
              0.3333333333333333,
              "#9c179e"
             ],
             [
              0.4444444444444444,
              "#bd3786"
             ],
             [
              0.5555555555555556,
              "#d8576b"
             ],
             [
              0.6666666666666666,
              "#ed7953"
             ],
             [
              0.7777777777777778,
              "#fb9f3a"
             ],
             [
              0.8888888888888888,
              "#fdca26"
             ],
             [
              1,
              "#f0f921"
             ]
            ],
            "type": "histogram2d"
           }
          ],
          "histogram2dcontour": [
           {
            "colorbar": {
             "outlinewidth": 0,
             "ticks": ""
            },
            "colorscale": [
             [
              0,
              "#0d0887"
             ],
             [
              0.1111111111111111,
              "#46039f"
             ],
             [
              0.2222222222222222,
              "#7201a8"
             ],
             [
              0.3333333333333333,
              "#9c179e"
             ],
             [
              0.4444444444444444,
              "#bd3786"
             ],
             [
              0.5555555555555556,
              "#d8576b"
             ],
             [
              0.6666666666666666,
              "#ed7953"
             ],
             [
              0.7777777777777778,
              "#fb9f3a"
             ],
             [
              0.8888888888888888,
              "#fdca26"
             ],
             [
              1,
              "#f0f921"
             ]
            ],
            "type": "histogram2dcontour"
           }
          ],
          "mesh3d": [
           {
            "colorbar": {
             "outlinewidth": 0,
             "ticks": ""
            },
            "type": "mesh3d"
           }
          ],
          "parcoords": [
           {
            "line": {
             "colorbar": {
              "outlinewidth": 0,
              "ticks": ""
             }
            },
            "type": "parcoords"
           }
          ],
          "pie": [
           {
            "automargin": true,
            "type": "pie"
           }
          ],
          "scatter": [
           {
            "marker": {
             "line": {
              "color": "#283442"
             }
            },
            "type": "scatter"
           }
          ],
          "scatter3d": [
           {
            "line": {
             "colorbar": {
              "outlinewidth": 0,
              "ticks": ""
             }
            },
            "marker": {
             "colorbar": {
              "outlinewidth": 0,
              "ticks": ""
             }
            },
            "type": "scatter3d"
           }
          ],
          "scattercarpet": [
           {
            "marker": {
             "colorbar": {
              "outlinewidth": 0,
              "ticks": ""
             }
            },
            "type": "scattercarpet"
           }
          ],
          "scattergeo": [
           {
            "marker": {
             "colorbar": {
              "outlinewidth": 0,
              "ticks": ""
             }
            },
            "type": "scattergeo"
           }
          ],
          "scattergl": [
           {
            "marker": {
             "line": {
              "color": "#283442"
             }
            },
            "type": "scattergl"
           }
          ],
          "scattermap": [
           {
            "marker": {
             "colorbar": {
              "outlinewidth": 0,
              "ticks": ""
             }
            },
            "type": "scattermap"
           }
          ],
          "scattermapbox": [
           {
            "marker": {
             "colorbar": {
              "outlinewidth": 0,
              "ticks": ""
             }
            },
            "type": "scattermapbox"
           }
          ],
          "scatterpolar": [
           {
            "marker": {
             "colorbar": {
              "outlinewidth": 0,
              "ticks": ""
             }
            },
            "type": "scatterpolar"
           }
          ],
          "scatterpolargl": [
           {
            "marker": {
             "colorbar": {
              "outlinewidth": 0,
              "ticks": ""
             }
            },
            "type": "scatterpolargl"
           }
          ],
          "scatterternary": [
           {
            "marker": {
             "colorbar": {
              "outlinewidth": 0,
              "ticks": ""
             }
            },
            "type": "scatterternary"
           }
          ],
          "surface": [
           {
            "colorbar": {
             "outlinewidth": 0,
             "ticks": ""
            },
            "colorscale": [
             [
              0,
              "#0d0887"
             ],
             [
              0.1111111111111111,
              "#46039f"
             ],
             [
              0.2222222222222222,
              "#7201a8"
             ],
             [
              0.3333333333333333,
              "#9c179e"
             ],
             [
              0.4444444444444444,
              "#bd3786"
             ],
             [
              0.5555555555555556,
              "#d8576b"
             ],
             [
              0.6666666666666666,
              "#ed7953"
             ],
             [
              0.7777777777777778,
              "#fb9f3a"
             ],
             [
              0.8888888888888888,
              "#fdca26"
             ],
             [
              1,
              "#f0f921"
             ]
            ],
            "type": "surface"
           }
          ],
          "table": [
           {
            "cells": {
             "fill": {
              "color": "#506784"
             },
             "line": {
              "color": "rgb(17,17,17)"
             }
            },
            "header": {
             "fill": {
              "color": "#2a3f5f"
             },
             "line": {
              "color": "rgb(17,17,17)"
             }
            },
            "type": "table"
           }
          ]
         },
         "layout": {
          "annotationdefaults": {
           "arrowcolor": "#f2f5fa",
           "arrowhead": 0,
           "arrowwidth": 1
          },
          "autotypenumbers": "strict",
          "coloraxis": {
           "colorbar": {
            "outlinewidth": 0,
            "ticks": ""
           }
          },
          "colorscale": {
           "diverging": [
            [
             0,
             "#8e0152"
            ],
            [
             0.1,
             "#c51b7d"
            ],
            [
             0.2,
             "#de77ae"
            ],
            [
             0.3,
             "#f1b6da"
            ],
            [
             0.4,
             "#fde0ef"
            ],
            [
             0.5,
             "#f7f7f7"
            ],
            [
             0.6,
             "#e6f5d0"
            ],
            [
             0.7,
             "#b8e186"
            ],
            [
             0.8,
             "#7fbc41"
            ],
            [
             0.9,
             "#4d9221"
            ],
            [
             1,
             "#276419"
            ]
           ],
           "sequential": [
            [
             0,
             "#0d0887"
            ],
            [
             0.1111111111111111,
             "#46039f"
            ],
            [
             0.2222222222222222,
             "#7201a8"
            ],
            [
             0.3333333333333333,
             "#9c179e"
            ],
            [
             0.4444444444444444,
             "#bd3786"
            ],
            [
             0.5555555555555556,
             "#d8576b"
            ],
            [
             0.6666666666666666,
             "#ed7953"
            ],
            [
             0.7777777777777778,
             "#fb9f3a"
            ],
            [
             0.8888888888888888,
             "#fdca26"
            ],
            [
             1,
             "#f0f921"
            ]
           ],
           "sequentialminus": [
            [
             0,
             "#0d0887"
            ],
            [
             0.1111111111111111,
             "#46039f"
            ],
            [
             0.2222222222222222,
             "#7201a8"
            ],
            [
             0.3333333333333333,
             "#9c179e"
            ],
            [
             0.4444444444444444,
             "#bd3786"
            ],
            [
             0.5555555555555556,
             "#d8576b"
            ],
            [
             0.6666666666666666,
             "#ed7953"
            ],
            [
             0.7777777777777778,
             "#fb9f3a"
            ],
            [
             0.8888888888888888,
             "#fdca26"
            ],
            [
             1,
             "#f0f921"
            ]
           ]
          },
          "colorway": [
           "#636efa",
           "#EF553B",
           "#00cc96",
           "#ab63fa",
           "#FFA15A",
           "#19d3f3",
           "#FF6692",
           "#B6E880",
           "#FF97FF",
           "#FECB52"
          ],
          "font": {
           "color": "#f2f5fa"
          },
          "geo": {
           "bgcolor": "rgb(17,17,17)",
           "lakecolor": "rgb(17,17,17)",
           "landcolor": "rgb(17,17,17)",
           "showlakes": true,
           "showland": true,
           "subunitcolor": "#506784"
          },
          "hoverlabel": {
           "align": "left"
          },
          "hovermode": "closest",
          "mapbox": {
           "style": "dark"
          },
          "paper_bgcolor": "rgb(17,17,17)",
          "plot_bgcolor": "rgb(17,17,17)",
          "polar": {
           "angularaxis": {
            "gridcolor": "#506784",
            "linecolor": "#506784",
            "ticks": ""
           },
           "bgcolor": "rgb(17,17,17)",
           "radialaxis": {
            "gridcolor": "#506784",
            "linecolor": "#506784",
            "ticks": ""
           }
          },
          "scene": {
           "xaxis": {
            "backgroundcolor": "rgb(17,17,17)",
            "gridcolor": "#506784",
            "gridwidth": 2,
            "linecolor": "#506784",
            "showbackground": true,
            "ticks": "",
            "zerolinecolor": "#C8D4E3"
           },
           "yaxis": {
            "backgroundcolor": "rgb(17,17,17)",
            "gridcolor": "#506784",
            "gridwidth": 2,
            "linecolor": "#506784",
            "showbackground": true,
            "ticks": "",
            "zerolinecolor": "#C8D4E3"
           },
           "zaxis": {
            "backgroundcolor": "rgb(17,17,17)",
            "gridcolor": "#506784",
            "gridwidth": 2,
            "linecolor": "#506784",
            "showbackground": true,
            "ticks": "",
            "zerolinecolor": "#C8D4E3"
           }
          },
          "shapedefaults": {
           "line": {
            "color": "#f2f5fa"
           }
          },
          "sliderdefaults": {
           "bgcolor": "#C8D4E3",
           "bordercolor": "rgb(17,17,17)",
           "borderwidth": 1,
           "tickwidth": 0
          },
          "ternary": {
           "aaxis": {
            "gridcolor": "#506784",
            "linecolor": "#506784",
            "ticks": ""
           },
           "baxis": {
            "gridcolor": "#506784",
            "linecolor": "#506784",
            "ticks": ""
           },
           "bgcolor": "rgb(17,17,17)",
           "caxis": {
            "gridcolor": "#506784",
            "linecolor": "#506784",
            "ticks": ""
           }
          },
          "title": {
           "x": 0.05
          },
          "updatemenudefaults": {
           "bgcolor": "#506784",
           "borderwidth": 0
          },
          "xaxis": {
           "automargin": true,
           "gridcolor": "#283442",
           "linecolor": "#506784",
           "ticks": "",
           "title": {
            "standoff": 15
           },
           "zerolinecolor": "#283442",
           "zerolinewidth": 2
          },
          "yaxis": {
           "automargin": true,
           "gridcolor": "#283442",
           "linecolor": "#506784",
           "ticks": "",
           "title": {
            "standoff": 15
           },
           "zerolinecolor": "#283442",
           "zerolinewidth": 2
          }
         }
        },
        "title": {
         "text": "Total Monthly Listening Time (Hours)",
         "x": 0.5
        },
        "xaxis": {
         "anchor": "y",
         "domain": [
          0,
          1
         ],
         "title": {
          "text": "Month"
         }
        },
        "yaxis": {
         "anchor": "x",
         "domain": [
          0,
          1
         ],
         "title": {
          "text": "Total Listening Hours"
         }
        }
       }
      }
     },
     "metadata": {},
     "output_type": "display_data"
    }
   ],
   "source": [
    "# --- Visualization 1: Listening Time Over Time ---\n",
    "print(f\"{'='*70}\")\n",
    "print(\"EDA 1: LISTENING TIMELINE\")\n",
    "print(f\"{'='*70}\")\n",
    "\n",
    "# Resample data by month and sum the listening time\n",
    "df_cleaned['ts_month'] = df_cleaned['ts'].dt.to_period('M').dt.to_timestamp()\n",
    "monthly_listening = df_cleaned.groupby('ts_month')['ms_played'].sum().reset_index()\n",
    "monthly_listening['hours_played'] = monthly_listening['ms_played'] / (1000 * 60 * 60)\n",
    "\n",
    "# Create the timeline plot\n",
    "fig_timeline = px.line(\n",
    "    monthly_listening,\n",
    "    x='ts_month',\n",
    "    y='hours_played',\n",
    "    title='Total Monthly Listening Time (Hours)',\n",
    "    labels={'ts_month': 'Month', 'hours_played': 'Total Listening Hours'},\n",
    "    markers=True,\n",
    "    template='plotly_dark'\n",
    ")\n",
    "fig_timeline.update_layout(title_x=0.5)\n",
    "fig_timeline.show()"
   ]
  },
  {
   "cell_type": "code",
   "execution_count": 6,
   "id": "157fded9",
   "metadata": {},
   "outputs": [
    {
     "name": "stdout",
     "output_type": "stream",
     "text": [
      "\n",
      "======================================================================\n",
      "EDA 2: HOURLY LISTENING HEATMAP\n",
      "======================================================================\n"
     ]
    },
    {
     "data": {
      "application/vnd.plotly.v1+json": {
       "config": {
        "plotlyServerURL": "https://plot.ly"
       },
       "data": [
        {
         "coloraxis": "coloraxis",
         "hovertemplate": "Hour of Day: %{x}<br>Day of Week: %{y}<br>Total Streams: %{z}<extra></extra>",
         "name": "0",
         "type": "heatmap",
         "x": {
          "bdata": "AAECAwQFBgcICQoLDA0ODxAREhMUFRYX",
          "dtype": "i1"
         },
         "xaxis": "x",
         "y": [
          "Monday",
          "Tuesday",
          "Wednesday",
          "Thursday",
          "Friday",
          "Saturday",
          "Sunday"
         ],
         "yaxis": "y",
         "z": {
          "bdata": "TQCAAIUAjgBAAEwAOQA9ABgAGwAdADAAKQANAEoAPQAzADEAMgAqADYASABJAGkAiwBSAG8AaACZAGsAWQAmAAoAFQANAAYAFQBGAKAAWgApAEMAVABBAEEARwBLAE0ApgBqAFIASwBQAEsAMAASAC4AOAAyAC0AHgA5AG8AOQApADIAYQBOAEMAaQBvAGgAuQCXAG4AhAB8AEQAPQATABUAEgAiABQADgA7AFcALgAcAD4ANQAwACYAPQBgAG0AqABgAJMAfgA5AFYAbgBSABIAMwAmABAAGgAlAHcASgBDAFgAXAA9AEwAiQCMADcA6ACiALgAhACXAIQAZwA4AFUAPgBOAEcAMwAsAEsARQA0AD0AagBaAFgAbwBdAHcAigB3AG4AewCPAFYARQA4ADAAKgA0AFYAHwAbAAwAFgATAF8AYwA4AC8AOgAuADwA",
          "dtype": "i2",
          "shape": "7, 24"
         }
        }
       ],
       "layout": {
        "coloraxis": {
         "colorbar": {
          "title": {
           "text": "Total Streams"
          }
         },
         "colorscale": [
          [
           0,
           "#0d0887"
          ],
          [
           0.1111111111111111,
           "#46039f"
          ],
          [
           0.2222222222222222,
           "#7201a8"
          ],
          [
           0.3333333333333333,
           "#9c179e"
          ],
          [
           0.4444444444444444,
           "#bd3786"
          ],
          [
           0.5555555555555556,
           "#d8576b"
          ],
          [
           0.6666666666666666,
           "#ed7953"
          ],
          [
           0.7777777777777778,
           "#fb9f3a"
          ],
          [
           0.8888888888888888,
           "#fdca26"
          ],
          [
           1,
           "#f0f921"
          ]
         ]
        },
        "template": {
         "data": {
          "bar": [
           {
            "error_x": {
             "color": "#f2f5fa"
            },
            "error_y": {
             "color": "#f2f5fa"
            },
            "marker": {
             "line": {
              "color": "rgb(17,17,17)",
              "width": 0.5
             },
             "pattern": {
              "fillmode": "overlay",
              "size": 10,
              "solidity": 0.2
             }
            },
            "type": "bar"
           }
          ],
          "barpolar": [
           {
            "marker": {
             "line": {
              "color": "rgb(17,17,17)",
              "width": 0.5
             },
             "pattern": {
              "fillmode": "overlay",
              "size": 10,
              "solidity": 0.2
             }
            },
            "type": "barpolar"
           }
          ],
          "carpet": [
           {
            "aaxis": {
             "endlinecolor": "#A2B1C6",
             "gridcolor": "#506784",
             "linecolor": "#506784",
             "minorgridcolor": "#506784",
             "startlinecolor": "#A2B1C6"
            },
            "baxis": {
             "endlinecolor": "#A2B1C6",
             "gridcolor": "#506784",
             "linecolor": "#506784",
             "minorgridcolor": "#506784",
             "startlinecolor": "#A2B1C6"
            },
            "type": "carpet"
           }
          ],
          "choropleth": [
           {
            "colorbar": {
             "outlinewidth": 0,
             "ticks": ""
            },
            "type": "choropleth"
           }
          ],
          "contour": [
           {
            "colorbar": {
             "outlinewidth": 0,
             "ticks": ""
            },
            "colorscale": [
             [
              0,
              "#0d0887"
             ],
             [
              0.1111111111111111,
              "#46039f"
             ],
             [
              0.2222222222222222,
              "#7201a8"
             ],
             [
              0.3333333333333333,
              "#9c179e"
             ],
             [
              0.4444444444444444,
              "#bd3786"
             ],
             [
              0.5555555555555556,
              "#d8576b"
             ],
             [
              0.6666666666666666,
              "#ed7953"
             ],
             [
              0.7777777777777778,
              "#fb9f3a"
             ],
             [
              0.8888888888888888,
              "#fdca26"
             ],
             [
              1,
              "#f0f921"
             ]
            ],
            "type": "contour"
           }
          ],
          "contourcarpet": [
           {
            "colorbar": {
             "outlinewidth": 0,
             "ticks": ""
            },
            "type": "contourcarpet"
           }
          ],
          "heatmap": [
           {
            "colorbar": {
             "outlinewidth": 0,
             "ticks": ""
            },
            "colorscale": [
             [
              0,
              "#0d0887"
             ],
             [
              0.1111111111111111,
              "#46039f"
             ],
             [
              0.2222222222222222,
              "#7201a8"
             ],
             [
              0.3333333333333333,
              "#9c179e"
             ],
             [
              0.4444444444444444,
              "#bd3786"
             ],
             [
              0.5555555555555556,
              "#d8576b"
             ],
             [
              0.6666666666666666,
              "#ed7953"
             ],
             [
              0.7777777777777778,
              "#fb9f3a"
             ],
             [
              0.8888888888888888,
              "#fdca26"
             ],
             [
              1,
              "#f0f921"
             ]
            ],
            "type": "heatmap"
           }
          ],
          "histogram": [
           {
            "marker": {
             "pattern": {
              "fillmode": "overlay",
              "size": 10,
              "solidity": 0.2
             }
            },
            "type": "histogram"
           }
          ],
          "histogram2d": [
           {
            "colorbar": {
             "outlinewidth": 0,
             "ticks": ""
            },
            "colorscale": [
             [
              0,
              "#0d0887"
             ],
             [
              0.1111111111111111,
              "#46039f"
             ],
             [
              0.2222222222222222,
              "#7201a8"
             ],
             [
              0.3333333333333333,
              "#9c179e"
             ],
             [
              0.4444444444444444,
              "#bd3786"
             ],
             [
              0.5555555555555556,
              "#d8576b"
             ],
             [
              0.6666666666666666,
              "#ed7953"
             ],
             [
              0.7777777777777778,
              "#fb9f3a"
             ],
             [
              0.8888888888888888,
              "#fdca26"
             ],
             [
              1,
              "#f0f921"
             ]
            ],
            "type": "histogram2d"
           }
          ],
          "histogram2dcontour": [
           {
            "colorbar": {
             "outlinewidth": 0,
             "ticks": ""
            },
            "colorscale": [
             [
              0,
              "#0d0887"
             ],
             [
              0.1111111111111111,
              "#46039f"
             ],
             [
              0.2222222222222222,
              "#7201a8"
             ],
             [
              0.3333333333333333,
              "#9c179e"
             ],
             [
              0.4444444444444444,
              "#bd3786"
             ],
             [
              0.5555555555555556,
              "#d8576b"
             ],
             [
              0.6666666666666666,
              "#ed7953"
             ],
             [
              0.7777777777777778,
              "#fb9f3a"
             ],
             [
              0.8888888888888888,
              "#fdca26"
             ],
             [
              1,
              "#f0f921"
             ]
            ],
            "type": "histogram2dcontour"
           }
          ],
          "mesh3d": [
           {
            "colorbar": {
             "outlinewidth": 0,
             "ticks": ""
            },
            "type": "mesh3d"
           }
          ],
          "parcoords": [
           {
            "line": {
             "colorbar": {
              "outlinewidth": 0,
              "ticks": ""
             }
            },
            "type": "parcoords"
           }
          ],
          "pie": [
           {
            "automargin": true,
            "type": "pie"
           }
          ],
          "scatter": [
           {
            "marker": {
             "line": {
              "color": "#283442"
             }
            },
            "type": "scatter"
           }
          ],
          "scatter3d": [
           {
            "line": {
             "colorbar": {
              "outlinewidth": 0,
              "ticks": ""
             }
            },
            "marker": {
             "colorbar": {
              "outlinewidth": 0,
              "ticks": ""
             }
            },
            "type": "scatter3d"
           }
          ],
          "scattercarpet": [
           {
            "marker": {
             "colorbar": {
              "outlinewidth": 0,
              "ticks": ""
             }
            },
            "type": "scattercarpet"
           }
          ],
          "scattergeo": [
           {
            "marker": {
             "colorbar": {
              "outlinewidth": 0,
              "ticks": ""
             }
            },
            "type": "scattergeo"
           }
          ],
          "scattergl": [
           {
            "marker": {
             "line": {
              "color": "#283442"
             }
            },
            "type": "scattergl"
           }
          ],
          "scattermap": [
           {
            "marker": {
             "colorbar": {
              "outlinewidth": 0,
              "ticks": ""
             }
            },
            "type": "scattermap"
           }
          ],
          "scattermapbox": [
           {
            "marker": {
             "colorbar": {
              "outlinewidth": 0,
              "ticks": ""
             }
            },
            "type": "scattermapbox"
           }
          ],
          "scatterpolar": [
           {
            "marker": {
             "colorbar": {
              "outlinewidth": 0,
              "ticks": ""
             }
            },
            "type": "scatterpolar"
           }
          ],
          "scatterpolargl": [
           {
            "marker": {
             "colorbar": {
              "outlinewidth": 0,
              "ticks": ""
             }
            },
            "type": "scatterpolargl"
           }
          ],
          "scatterternary": [
           {
            "marker": {
             "colorbar": {
              "outlinewidth": 0,
              "ticks": ""
             }
            },
            "type": "scatterternary"
           }
          ],
          "surface": [
           {
            "colorbar": {
             "outlinewidth": 0,
             "ticks": ""
            },
            "colorscale": [
             [
              0,
              "#0d0887"
             ],
             [
              0.1111111111111111,
              "#46039f"
             ],
             [
              0.2222222222222222,
              "#7201a8"
             ],
             [
              0.3333333333333333,
              "#9c179e"
             ],
             [
              0.4444444444444444,
              "#bd3786"
             ],
             [
              0.5555555555555556,
              "#d8576b"
             ],
             [
              0.6666666666666666,
              "#ed7953"
             ],
             [
              0.7777777777777778,
              "#fb9f3a"
             ],
             [
              0.8888888888888888,
              "#fdca26"
             ],
             [
              1,
              "#f0f921"
             ]
            ],
            "type": "surface"
           }
          ],
          "table": [
           {
            "cells": {
             "fill": {
              "color": "#506784"
             },
             "line": {
              "color": "rgb(17,17,17)"
             }
            },
            "header": {
             "fill": {
              "color": "#2a3f5f"
             },
             "line": {
              "color": "rgb(17,17,17)"
             }
            },
            "type": "table"
           }
          ]
         },
         "layout": {
          "annotationdefaults": {
           "arrowcolor": "#f2f5fa",
           "arrowhead": 0,
           "arrowwidth": 1
          },
          "autotypenumbers": "strict",
          "coloraxis": {
           "colorbar": {
            "outlinewidth": 0,
            "ticks": ""
           }
          },
          "colorscale": {
           "diverging": [
            [
             0,
             "#8e0152"
            ],
            [
             0.1,
             "#c51b7d"
            ],
            [
             0.2,
             "#de77ae"
            ],
            [
             0.3,
             "#f1b6da"
            ],
            [
             0.4,
             "#fde0ef"
            ],
            [
             0.5,
             "#f7f7f7"
            ],
            [
             0.6,
             "#e6f5d0"
            ],
            [
             0.7,
             "#b8e186"
            ],
            [
             0.8,
             "#7fbc41"
            ],
            [
             0.9,
             "#4d9221"
            ],
            [
             1,
             "#276419"
            ]
           ],
           "sequential": [
            [
             0,
             "#0d0887"
            ],
            [
             0.1111111111111111,
             "#46039f"
            ],
            [
             0.2222222222222222,
             "#7201a8"
            ],
            [
             0.3333333333333333,
             "#9c179e"
            ],
            [
             0.4444444444444444,
             "#bd3786"
            ],
            [
             0.5555555555555556,
             "#d8576b"
            ],
            [
             0.6666666666666666,
             "#ed7953"
            ],
            [
             0.7777777777777778,
             "#fb9f3a"
            ],
            [
             0.8888888888888888,
             "#fdca26"
            ],
            [
             1,
             "#f0f921"
            ]
           ],
           "sequentialminus": [
            [
             0,
             "#0d0887"
            ],
            [
             0.1111111111111111,
             "#46039f"
            ],
            [
             0.2222222222222222,
             "#7201a8"
            ],
            [
             0.3333333333333333,
             "#9c179e"
            ],
            [
             0.4444444444444444,
             "#bd3786"
            ],
            [
             0.5555555555555556,
             "#d8576b"
            ],
            [
             0.6666666666666666,
             "#ed7953"
            ],
            [
             0.7777777777777778,
             "#fb9f3a"
            ],
            [
             0.8888888888888888,
             "#fdca26"
            ],
            [
             1,
             "#f0f921"
            ]
           ]
          },
          "colorway": [
           "#636efa",
           "#EF553B",
           "#00cc96",
           "#ab63fa",
           "#FFA15A",
           "#19d3f3",
           "#FF6692",
           "#B6E880",
           "#FF97FF",
           "#FECB52"
          ],
          "font": {
           "color": "#f2f5fa"
          },
          "geo": {
           "bgcolor": "rgb(17,17,17)",
           "lakecolor": "rgb(17,17,17)",
           "landcolor": "rgb(17,17,17)",
           "showlakes": true,
           "showland": true,
           "subunitcolor": "#506784"
          },
          "hoverlabel": {
           "align": "left"
          },
          "hovermode": "closest",
          "mapbox": {
           "style": "dark"
          },
          "paper_bgcolor": "rgb(17,17,17)",
          "plot_bgcolor": "rgb(17,17,17)",
          "polar": {
           "angularaxis": {
            "gridcolor": "#506784",
            "linecolor": "#506784",
            "ticks": ""
           },
           "bgcolor": "rgb(17,17,17)",
           "radialaxis": {
            "gridcolor": "#506784",
            "linecolor": "#506784",
            "ticks": ""
           }
          },
          "scene": {
           "xaxis": {
            "backgroundcolor": "rgb(17,17,17)",
            "gridcolor": "#506784",
            "gridwidth": 2,
            "linecolor": "#506784",
            "showbackground": true,
            "ticks": "",
            "zerolinecolor": "#C8D4E3"
           },
           "yaxis": {
            "backgroundcolor": "rgb(17,17,17)",
            "gridcolor": "#506784",
            "gridwidth": 2,
            "linecolor": "#506784",
            "showbackground": true,
            "ticks": "",
            "zerolinecolor": "#C8D4E3"
           },
           "zaxis": {
            "backgroundcolor": "rgb(17,17,17)",
            "gridcolor": "#506784",
            "gridwidth": 2,
            "linecolor": "#506784",
            "showbackground": true,
            "ticks": "",
            "zerolinecolor": "#C8D4E3"
           }
          },
          "shapedefaults": {
           "line": {
            "color": "#f2f5fa"
           }
          },
          "sliderdefaults": {
           "bgcolor": "#C8D4E3",
           "bordercolor": "rgb(17,17,17)",
           "borderwidth": 1,
           "tickwidth": 0
          },
          "ternary": {
           "aaxis": {
            "gridcolor": "#506784",
            "linecolor": "#506784",
            "ticks": ""
           },
           "baxis": {
            "gridcolor": "#506784",
            "linecolor": "#506784",
            "ticks": ""
           },
           "bgcolor": "rgb(17,17,17)",
           "caxis": {
            "gridcolor": "#506784",
            "linecolor": "#506784",
            "ticks": ""
           }
          },
          "title": {
           "x": 0.05
          },
          "updatemenudefaults": {
           "bgcolor": "#506784",
           "borderwidth": 0
          },
          "xaxis": {
           "automargin": true,
           "gridcolor": "#283442",
           "linecolor": "#506784",
           "ticks": "",
           "title": {
            "standoff": 15
           },
           "zerolinecolor": "#283442",
           "zerolinewidth": 2
          },
          "yaxis": {
           "automargin": true,
           "gridcolor": "#283442",
           "linecolor": "#506784",
           "ticks": "",
           "title": {
            "standoff": 15
           },
           "zerolinecolor": "#283442",
           "zerolinewidth": 2
          }
         }
        },
        "title": {
         "text": "Listening Habits: Heatmap of Streams by Day and Hour",
         "x": 0.5
        },
        "xaxis": {
         "anchor": "y",
         "constrain": "domain",
         "domain": [
          0,
          1
         ],
         "scaleanchor": "y",
         "title": {
          "text": "Hour of Day"
         }
        },
        "yaxis": {
         "anchor": "x",
         "autorange": "reversed",
         "constrain": "domain",
         "domain": [
          0,
          1
         ],
         "title": {
          "text": "Day of Week"
         }
        }
       }
      }
     },
     "metadata": {},
     "output_type": "display_data"
    }
   ],
   "source": [
    "# --- Visualization 2: Hourly Listening Patterns ---\n",
    "print(f\"\\n{'='*70}\")\n",
    "print(\"EDA 2: HOURLY LISTENING HEATMAP\")\n",
    "print(f\"{'='*70}\")\n",
    "\n",
    "# Create a pivot table of listening counts by day and hour\n",
    "hourly_listening = df_cleaned.pivot_table(\n",
    "    index='day_of_week',\n",
    "    columns='hour',\n",
    "    values='ts',\n",
    "    aggfunc='count'\n",
    ").fillna(0)\n",
    "\n",
    "# Order the days of the week correctly\n",
    "days_order = ['Monday', 'Tuesday', 'Wednesday', 'Thursday', 'Friday', 'Saturday', 'Sunday']\n",
    "hourly_listening = hourly_listening.reindex(days_order)\n",
    "\n",
    "# Create the heatmap\n",
    "fig_hourly = px.imshow(\n",
    "    hourly_listening,\n",
    "    title='Listening Habits: Heatmap of Streams by Day and Hour',\n",
    "    labels={'x': 'Hour of Day', 'y': 'Day of Week', 'color': 'Total Streams'},\n",
    "    template='plotly_dark'\n",
    ")\n",
    "fig_hourly.update_layout(title_x=0.5)\n",
    "fig_hourly.show()"
   ]
  },
  {
   "cell_type": "code",
   "execution_count": 7,
   "id": "5b9b8d71",
   "metadata": {},
   "outputs": [
    {
     "name": "stdout",
     "output_type": "stream",
     "text": [
      "\n",
      "======================================================================\n",
      "EDA 3: TOP ARTISTS AND SONGS\n",
      "======================================================================\n"
     ]
    },
    {
     "data": {
      "application/vnd.plotly.v1+json": {
       "config": {
        "plotlyServerURL": "https://plot.ly"
       },
       "data": [
        {
         "marker": {
          "color": "lightgreen"
         },
         "orientation": "h",
         "type": "bar",
         "x": {
          "bdata": "BoGVQwvMtEDW6pjg0aioQIJOG+i0kJ5AcRjfKuI8mkCEeaL+bVyYQAg9m1V/rZVAU0/56v3Aj0C6awn5IJONQDy9Upahc4lA6ilfvfcGh0DTvOMUne+FQFVVVVXVRIVAO5X5NJTXg0COmpzHzpyDQBM8mCfqb4FA",
          "dtype": "f8"
         },
         "xaxis": "x",
         "y": [
          "Elevation Worship",
          "Hillsong UNITED",
          "Hillsong Worship",
          "SYML",
          "Dave",
          "Adele",
          "Stormzy",
          "Asake",
          "Ayra Starr",
          "King Promise",
          "TAYA",
          "Phil Wickham",
          "Tion Wayne",
          "Benson Boone",
          "OTP"
         ],
         "yaxis": "y"
        },
        {
         "marker": {
          "color": "lightblue"
         },
         "orientation": "h",
         "type": "bar",
         "x": {
          "bdata": "FQHWANEAygC9AKMAkwCGAIIAdAByAG0AaQBiAFcA",
          "dtype": "i2"
         },
         "xaxis": "x2",
         "y": [
          "Commas",
          "Hide & Seek - Rema Remix",
          "BM - London View",
          "Beautiful Things",
          "Terminator",
          "Sunny Ade",
          "Been So Good (feat. Tiffany Hudson)",
          "Great Things",
          "Sprinter",
          "Sure Been Good (feat. Tiffany Hudson)",
          "Canticle",
          "Kilimanjaro",
          "Mogbe",
          "a thousand years",
          "Clash (feat. Stormzy)"
         ],
         "yaxis": "y2"
        }
       ],
       "layout": {
        "annotations": [
         {
          "font": {
           "size": 16
          },
          "showarrow": false,
          "text": "Top 15 Artists by Listening Time (Minutes)",
          "x": 0.2125,
          "xanchor": "center",
          "xref": "paper",
          "y": 1,
          "yanchor": "bottom",
          "yref": "paper"
         },
         {
          "font": {
           "size": 16
          },
          "showarrow": false,
          "text": "Top 15 Most Played Songs",
          "x": 0.7875,
          "xanchor": "center",
          "xref": "paper",
          "y": 1,
          "yanchor": "bottom",
          "yref": "paper"
         }
        ],
        "height": 500,
        "showlegend": false,
        "template": {
         "data": {
          "bar": [
           {
            "error_x": {
             "color": "#f2f5fa"
            },
            "error_y": {
             "color": "#f2f5fa"
            },
            "marker": {
             "line": {
              "color": "rgb(17,17,17)",
              "width": 0.5
             },
             "pattern": {
              "fillmode": "overlay",
              "size": 10,
              "solidity": 0.2
             }
            },
            "type": "bar"
           }
          ],
          "barpolar": [
           {
            "marker": {
             "line": {
              "color": "rgb(17,17,17)",
              "width": 0.5
             },
             "pattern": {
              "fillmode": "overlay",
              "size": 10,
              "solidity": 0.2
             }
            },
            "type": "barpolar"
           }
          ],
          "carpet": [
           {
            "aaxis": {
             "endlinecolor": "#A2B1C6",
             "gridcolor": "#506784",
             "linecolor": "#506784",
             "minorgridcolor": "#506784",
             "startlinecolor": "#A2B1C6"
            },
            "baxis": {
             "endlinecolor": "#A2B1C6",
             "gridcolor": "#506784",
             "linecolor": "#506784",
             "minorgridcolor": "#506784",
             "startlinecolor": "#A2B1C6"
            },
            "type": "carpet"
           }
          ],
          "choropleth": [
           {
            "colorbar": {
             "outlinewidth": 0,
             "ticks": ""
            },
            "type": "choropleth"
           }
          ],
          "contour": [
           {
            "colorbar": {
             "outlinewidth": 0,
             "ticks": ""
            },
            "colorscale": [
             [
              0,
              "#0d0887"
             ],
             [
              0.1111111111111111,
              "#46039f"
             ],
             [
              0.2222222222222222,
              "#7201a8"
             ],
             [
              0.3333333333333333,
              "#9c179e"
             ],
             [
              0.4444444444444444,
              "#bd3786"
             ],
             [
              0.5555555555555556,
              "#d8576b"
             ],
             [
              0.6666666666666666,
              "#ed7953"
             ],
             [
              0.7777777777777778,
              "#fb9f3a"
             ],
             [
              0.8888888888888888,
              "#fdca26"
             ],
             [
              1,
              "#f0f921"
             ]
            ],
            "type": "contour"
           }
          ],
          "contourcarpet": [
           {
            "colorbar": {
             "outlinewidth": 0,
             "ticks": ""
            },
            "type": "contourcarpet"
           }
          ],
          "heatmap": [
           {
            "colorbar": {
             "outlinewidth": 0,
             "ticks": ""
            },
            "colorscale": [
             [
              0,
              "#0d0887"
             ],
             [
              0.1111111111111111,
              "#46039f"
             ],
             [
              0.2222222222222222,
              "#7201a8"
             ],
             [
              0.3333333333333333,
              "#9c179e"
             ],
             [
              0.4444444444444444,
              "#bd3786"
             ],
             [
              0.5555555555555556,
              "#d8576b"
             ],
             [
              0.6666666666666666,
              "#ed7953"
             ],
             [
              0.7777777777777778,
              "#fb9f3a"
             ],
             [
              0.8888888888888888,
              "#fdca26"
             ],
             [
              1,
              "#f0f921"
             ]
            ],
            "type": "heatmap"
           }
          ],
          "histogram": [
           {
            "marker": {
             "pattern": {
              "fillmode": "overlay",
              "size": 10,
              "solidity": 0.2
             }
            },
            "type": "histogram"
           }
          ],
          "histogram2d": [
           {
            "colorbar": {
             "outlinewidth": 0,
             "ticks": ""
            },
            "colorscale": [
             [
              0,
              "#0d0887"
             ],
             [
              0.1111111111111111,
              "#46039f"
             ],
             [
              0.2222222222222222,
              "#7201a8"
             ],
             [
              0.3333333333333333,
              "#9c179e"
             ],
             [
              0.4444444444444444,
              "#bd3786"
             ],
             [
              0.5555555555555556,
              "#d8576b"
             ],
             [
              0.6666666666666666,
              "#ed7953"
             ],
             [
              0.7777777777777778,
              "#fb9f3a"
             ],
             [
              0.8888888888888888,
              "#fdca26"
             ],
             [
              1,
              "#f0f921"
             ]
            ],
            "type": "histogram2d"
           }
          ],
          "histogram2dcontour": [
           {
            "colorbar": {
             "outlinewidth": 0,
             "ticks": ""
            },
            "colorscale": [
             [
              0,
              "#0d0887"
             ],
             [
              0.1111111111111111,
              "#46039f"
             ],
             [
              0.2222222222222222,
              "#7201a8"
             ],
             [
              0.3333333333333333,
              "#9c179e"
             ],
             [
              0.4444444444444444,
              "#bd3786"
             ],
             [
              0.5555555555555556,
              "#d8576b"
             ],
             [
              0.6666666666666666,
              "#ed7953"
             ],
             [
              0.7777777777777778,
              "#fb9f3a"
             ],
             [
              0.8888888888888888,
              "#fdca26"
             ],
             [
              1,
              "#f0f921"
             ]
            ],
            "type": "histogram2dcontour"
           }
          ],
          "mesh3d": [
           {
            "colorbar": {
             "outlinewidth": 0,
             "ticks": ""
            },
            "type": "mesh3d"
           }
          ],
          "parcoords": [
           {
            "line": {
             "colorbar": {
              "outlinewidth": 0,
              "ticks": ""
             }
            },
            "type": "parcoords"
           }
          ],
          "pie": [
           {
            "automargin": true,
            "type": "pie"
           }
          ],
          "scatter": [
           {
            "marker": {
             "line": {
              "color": "#283442"
             }
            },
            "type": "scatter"
           }
          ],
          "scatter3d": [
           {
            "line": {
             "colorbar": {
              "outlinewidth": 0,
              "ticks": ""
             }
            },
            "marker": {
             "colorbar": {
              "outlinewidth": 0,
              "ticks": ""
             }
            },
            "type": "scatter3d"
           }
          ],
          "scattercarpet": [
           {
            "marker": {
             "colorbar": {
              "outlinewidth": 0,
              "ticks": ""
             }
            },
            "type": "scattercarpet"
           }
          ],
          "scattergeo": [
           {
            "marker": {
             "colorbar": {
              "outlinewidth": 0,
              "ticks": ""
             }
            },
            "type": "scattergeo"
           }
          ],
          "scattergl": [
           {
            "marker": {
             "line": {
              "color": "#283442"
             }
            },
            "type": "scattergl"
           }
          ],
          "scattermap": [
           {
            "marker": {
             "colorbar": {
              "outlinewidth": 0,
              "ticks": ""
             }
            },
            "type": "scattermap"
           }
          ],
          "scattermapbox": [
           {
            "marker": {
             "colorbar": {
              "outlinewidth": 0,
              "ticks": ""
             }
            },
            "type": "scattermapbox"
           }
          ],
          "scatterpolar": [
           {
            "marker": {
             "colorbar": {
              "outlinewidth": 0,
              "ticks": ""
             }
            },
            "type": "scatterpolar"
           }
          ],
          "scatterpolargl": [
           {
            "marker": {
             "colorbar": {
              "outlinewidth": 0,
              "ticks": ""
             }
            },
            "type": "scatterpolargl"
           }
          ],
          "scatterternary": [
           {
            "marker": {
             "colorbar": {
              "outlinewidth": 0,
              "ticks": ""
             }
            },
            "type": "scatterternary"
           }
          ],
          "surface": [
           {
            "colorbar": {
             "outlinewidth": 0,
             "ticks": ""
            },
            "colorscale": [
             [
              0,
              "#0d0887"
             ],
             [
              0.1111111111111111,
              "#46039f"
             ],
             [
              0.2222222222222222,
              "#7201a8"
             ],
             [
              0.3333333333333333,
              "#9c179e"
             ],
             [
              0.4444444444444444,
              "#bd3786"
             ],
             [
              0.5555555555555556,
              "#d8576b"
             ],
             [
              0.6666666666666666,
              "#ed7953"
             ],
             [
              0.7777777777777778,
              "#fb9f3a"
             ],
             [
              0.8888888888888888,
              "#fdca26"
             ],
             [
              1,
              "#f0f921"
             ]
            ],
            "type": "surface"
           }
          ],
          "table": [
           {
            "cells": {
             "fill": {
              "color": "#506784"
             },
             "line": {
              "color": "rgb(17,17,17)"
             }
            },
            "header": {
             "fill": {
              "color": "#2a3f5f"
             },
             "line": {
              "color": "rgb(17,17,17)"
             }
            },
            "type": "table"
           }
          ]
         },
         "layout": {
          "annotationdefaults": {
           "arrowcolor": "#f2f5fa",
           "arrowhead": 0,
           "arrowwidth": 1
          },
          "autotypenumbers": "strict",
          "coloraxis": {
           "colorbar": {
            "outlinewidth": 0,
            "ticks": ""
           }
          },
          "colorscale": {
           "diverging": [
            [
             0,
             "#8e0152"
            ],
            [
             0.1,
             "#c51b7d"
            ],
            [
             0.2,
             "#de77ae"
            ],
            [
             0.3,
             "#f1b6da"
            ],
            [
             0.4,
             "#fde0ef"
            ],
            [
             0.5,
             "#f7f7f7"
            ],
            [
             0.6,
             "#e6f5d0"
            ],
            [
             0.7,
             "#b8e186"
            ],
            [
             0.8,
             "#7fbc41"
            ],
            [
             0.9,
             "#4d9221"
            ],
            [
             1,
             "#276419"
            ]
           ],
           "sequential": [
            [
             0,
             "#0d0887"
            ],
            [
             0.1111111111111111,
             "#46039f"
            ],
            [
             0.2222222222222222,
             "#7201a8"
            ],
            [
             0.3333333333333333,
             "#9c179e"
            ],
            [
             0.4444444444444444,
             "#bd3786"
            ],
            [
             0.5555555555555556,
             "#d8576b"
            ],
            [
             0.6666666666666666,
             "#ed7953"
            ],
            [
             0.7777777777777778,
             "#fb9f3a"
            ],
            [
             0.8888888888888888,
             "#fdca26"
            ],
            [
             1,
             "#f0f921"
            ]
           ],
           "sequentialminus": [
            [
             0,
             "#0d0887"
            ],
            [
             0.1111111111111111,
             "#46039f"
            ],
            [
             0.2222222222222222,
             "#7201a8"
            ],
            [
             0.3333333333333333,
             "#9c179e"
            ],
            [
             0.4444444444444444,
             "#bd3786"
            ],
            [
             0.5555555555555556,
             "#d8576b"
            ],
            [
             0.6666666666666666,
             "#ed7953"
            ],
            [
             0.7777777777777778,
             "#fb9f3a"
            ],
            [
             0.8888888888888888,
             "#fdca26"
            ],
            [
             1,
             "#f0f921"
            ]
           ]
          },
          "colorway": [
           "#636efa",
           "#EF553B",
           "#00cc96",
           "#ab63fa",
           "#FFA15A",
           "#19d3f3",
           "#FF6692",
           "#B6E880",
           "#FF97FF",
           "#FECB52"
          ],
          "font": {
           "color": "#f2f5fa"
          },
          "geo": {
           "bgcolor": "rgb(17,17,17)",
           "lakecolor": "rgb(17,17,17)",
           "landcolor": "rgb(17,17,17)",
           "showlakes": true,
           "showland": true,
           "subunitcolor": "#506784"
          },
          "hoverlabel": {
           "align": "left"
          },
          "hovermode": "closest",
          "mapbox": {
           "style": "dark"
          },
          "paper_bgcolor": "rgb(17,17,17)",
          "plot_bgcolor": "rgb(17,17,17)",
          "polar": {
           "angularaxis": {
            "gridcolor": "#506784",
            "linecolor": "#506784",
            "ticks": ""
           },
           "bgcolor": "rgb(17,17,17)",
           "radialaxis": {
            "gridcolor": "#506784",
            "linecolor": "#506784",
            "ticks": ""
           }
          },
          "scene": {
           "xaxis": {
            "backgroundcolor": "rgb(17,17,17)",
            "gridcolor": "#506784",
            "gridwidth": 2,
            "linecolor": "#506784",
            "showbackground": true,
            "ticks": "",
            "zerolinecolor": "#C8D4E3"
           },
           "yaxis": {
            "backgroundcolor": "rgb(17,17,17)",
            "gridcolor": "#506784",
            "gridwidth": 2,
            "linecolor": "#506784",
            "showbackground": true,
            "ticks": "",
            "zerolinecolor": "#C8D4E3"
           },
           "zaxis": {
            "backgroundcolor": "rgb(17,17,17)",
            "gridcolor": "#506784",
            "gridwidth": 2,
            "linecolor": "#506784",
            "showbackground": true,
            "ticks": "",
            "zerolinecolor": "#C8D4E3"
           }
          },
          "shapedefaults": {
           "line": {
            "color": "#f2f5fa"
           }
          },
          "sliderdefaults": {
           "bgcolor": "#C8D4E3",
           "bordercolor": "rgb(17,17,17)",
           "borderwidth": 1,
           "tickwidth": 0
          },
          "ternary": {
           "aaxis": {
            "gridcolor": "#506784",
            "linecolor": "#506784",
            "ticks": ""
           },
           "baxis": {
            "gridcolor": "#506784",
            "linecolor": "#506784",
            "ticks": ""
           },
           "bgcolor": "rgb(17,17,17)",
           "caxis": {
            "gridcolor": "#506784",
            "linecolor": "#506784",
            "ticks": ""
           }
          },
          "title": {
           "x": 0.05
          },
          "updatemenudefaults": {
           "bgcolor": "#506784",
           "borderwidth": 0
          },
          "xaxis": {
           "automargin": true,
           "gridcolor": "#283442",
           "linecolor": "#506784",
           "ticks": "",
           "title": {
            "standoff": 15
           },
           "zerolinecolor": "#283442",
           "zerolinewidth": 2
          },
          "yaxis": {
           "automargin": true,
           "gridcolor": "#283442",
           "linecolor": "#506784",
           "ticks": "",
           "title": {
            "standoff": 15
           },
           "zerolinecolor": "#283442",
           "zerolinewidth": 2
          }
         }
        },
        "title": {
         "text": "Top Artists and Songs",
         "x": 0.5
        },
        "xaxis": {
         "anchor": "y",
         "domain": [
          0,
          0.425
         ]
        },
        "xaxis2": {
         "anchor": "y2",
         "domain": [
          0.575,
          1
         ]
        },
        "yaxis": {
         "anchor": "x",
         "autorange": "reversed",
         "domain": [
          0,
          1
         ]
        },
        "yaxis2": {
         "anchor": "x2",
         "autorange": "reversed",
         "domain": [
          0,
          1
         ]
        }
       }
      }
     },
     "metadata": {},
     "output_type": "display_data"
    }
   ],
   "source": [
    "# --- Visualization 3: Top Artists and Songs ---\n",
    "print(f\"\\n{'='*70}\")\n",
    "print(\"EDA 3: TOP ARTISTS AND SONGS\")\n",
    "print(f\"{'='*70}\")\n",
    "\n",
    "# Calculate top artists by listening time\n",
    "artist_listening_time = df_cleaned.groupby('master_metadata_album_artist_name')['ms_played'].sum() / (1000 * 60)\n",
    "top_artists = artist_listening_time.sort_values(ascending=False).head(15)\n",
    "\n",
    "# Calculate top songs by play count\n",
    "track_play_counts = df_cleaned['master_metadata_track_name'].value_counts().head(15)\n",
    "\n",
    "# Create subplots\n",
    "fig_top = make_subplots(\n",
    "    rows=1, cols=2,\n",
    "    subplot_titles=('Top 15 Artists by Listening Time (Minutes)', 'Top 15 Most Played Songs'),\n",
    "    horizontal_spacing=0.15\n",
    ")\n",
    "\n",
    "# Top Artists Bar Chart\n",
    "fig_top.add_trace(\n",
    "    go.Bar(y=top_artists.index, x=top_artists.values, orientation='h', marker_color='lightgreen'),\n",
    "    row=1, col=1\n",
    ")\n",
    "\n",
    "# Top Songs Bar Chart\n",
    "fig_top.add_trace(\n",
    "    go.Bar(y=track_play_counts.index, x=track_play_counts.values, orientation='h', marker_color='lightblue'),\n",
    "    row=1, col=2\n",
    ")\n",
    "\n",
    "fig_top.update_layout(\n",
    "    title_text='Top Artists and Songs',\n",
    "    showlegend=False,\n",
    "    template='plotly_dark',\n",
    "    title_x=0.5,\n",
    "    height=500\n",
    ")\n",
    "fig_top.update_yaxes(autorange=\"reversed\")\n",
    "fig_top.show()"
   ]
  },
  {
   "cell_type": "markdown",
   "id": "a38d0956",
   "metadata": {},
   "source": [
    "---\n",
    "\n",
    "## Section 3: Feature Engineering and Data Preparation\n",
    "\n",
    "This is the most critical phase of the pipeline. Here, we transition from analyzing streaming history to preparing a dataset for machine learning. This involves:\n",
    "1.  **Loading the Feature Dataset**: A pre-processed CSV containing unique tracks and their **348 audio features**.\n",
    "2.  **Data Filtering**: Selecting genres with sufficient samples for robust model training.\n",
    "3.  **Feature Extraction and Assembly**: Parsing and combining all 348 features into a single feature matrix (`X`).\n",
    "4.  **Label Encoding**: Converting genre names into numerical labels (`y`).\n",
    "5.  **Data Splitting**: Dividing the data into training, validation, and test sets.\n",
    "6.  **Feature Scaling**: Standardizing features to ensure fair model training."
   ]
  },
  {
   "cell_type": "markdown",
   "id": "ea2c0a7e",
   "metadata": {},
   "source": [
    "### 3.1 Loading the Machine Learning Dataset\n",
    "\n",
    "For genre classification, we must use a dataset of **unique tracks**, not streaming events. Using the streaming history would cause **data leakage**, as the same song could appear in both the training and test sets, leading to an artificially inflated and misleading accuracy score.\n",
    "\n",
    "We will now load `audio_features_with_genres.csv`, where each row represents one unique song and its corresponding audio features."
   ]
  },
  {
   "cell_type": "code",
   "execution_count": 8,
   "id": "968230d3",
   "metadata": {},
   "outputs": [
    {
     "name": "stdout",
     "output_type": "stream",
     "text": [
      "Loading unique tracks dataset from: ../Extracted_Features/audio_features_with_genres.csv\n",
      "\n",
      "======================================================================\n",
      "UNIQUE TRACKS DATASET - SUMMARY\n",
      "======================================================================\n",
      "Total unique tracks: 1,853\n",
      "Total columns (metadata + features): 33\n",
      "\n",
      "--- Genre Distribution ---\n",
      "Number of unique genres: 118\n",
      "\n",
      "Top 10 genres:\n"
     ]
    },
    {
     "data": {
      "text/plain": [
       "genre\n",
       "Unknown           422\n",
       "worship           366\n",
       "afrobeats         259\n",
       "lo-fi             112\n",
       "african gospel     67\n",
       "gospel             56\n",
       "uk drill           56\n",
       "christian          41\n",
       "soft pop           34\n",
       "new age            33\n",
       "Name: count, dtype: int64"
      ]
     },
     "metadata": {},
     "output_type": "display_data"
    },
    {
     "name": "stdout",
     "output_type": "stream",
     "text": [
      "\n",
      "Sample of the dataset (metadata columns):\n"
     ]
    },
    {
     "data": {
      "text/html": [
       "<div>\n",
       "<style scoped>\n",
       "    .dataframe tbody tr th:only-of-type {\n",
       "        vertical-align: middle;\n",
       "    }\n",
       "\n",
       "    .dataframe tbody tr th {\n",
       "        vertical-align: top;\n",
       "    }\n",
       "\n",
       "    .dataframe thead th {\n",
       "        text-align: right;\n",
       "    }\n",
       "</style>\n",
       "<table border=\"1\" class=\"dataframe\">\n",
       "  <thead>\n",
       "    <tr style=\"text-align: right;\">\n",
       "      <th></th>\n",
       "      <th>track_name</th>\n",
       "      <th>artist_name</th>\n",
       "      <th>genre</th>\n",
       "      <th>duration</th>\n",
       "      <th>tempo</th>\n",
       "    </tr>\n",
       "  </thead>\n",
       "  <tbody>\n",
       "    <tr>\n",
       "      <th>0</th>\n",
       "      <td>SNAP</td>\n",
       "      <td>Rosa Linn</td>\n",
       "      <td>Unknown</td>\n",
       "      <td>29.712653</td>\n",
       "      <td>172.265625</td>\n",
       "    </tr>\n",
       "    <tr>\n",
       "      <th>1</th>\n",
       "      <td>Lord Send Revival - Live</td>\n",
       "      <td>Hillsong Young &amp; Free</td>\n",
       "      <td>worship</td>\n",
       "      <td>29.712653</td>\n",
       "      <td>99.384014</td>\n",
       "    </tr>\n",
       "    <tr>\n",
       "      <th>2</th>\n",
       "      <td>Somewhere Only We Know</td>\n",
       "      <td>Gustixa</td>\n",
       "      <td>Unknown</td>\n",
       "      <td>22.328027</td>\n",
       "      <td>86.132812</td>\n",
       "    </tr>\n",
       "    <tr>\n",
       "      <th>3</th>\n",
       "      <td>Happier</td>\n",
       "      <td>Marshmello</td>\n",
       "      <td>edm</td>\n",
       "      <td>29.712653</td>\n",
       "      <td>89.102909</td>\n",
       "    </tr>\n",
       "    <tr>\n",
       "      <th>4</th>\n",
       "      <td>Firm Foundation (He Won't) [feat. Cody Carnes]</td>\n",
       "      <td>Maverick City Music</td>\n",
       "      <td>worship</td>\n",
       "      <td>29.712653</td>\n",
       "      <td>161.499023</td>\n",
       "    </tr>\n",
       "  </tbody>\n",
       "</table>\n",
       "</div>"
      ],
      "text/plain": [
       "                                       track_name            artist_name  \\\n",
       "0                                            SNAP              Rosa Linn   \n",
       "1                        Lord Send Revival - Live  Hillsong Young & Free   \n",
       "2                          Somewhere Only We Know                Gustixa   \n",
       "3                                         Happier             Marshmello   \n",
       "4  Firm Foundation (He Won't) [feat. Cody Carnes]    Maverick City Music   \n",
       "\n",
       "     genre   duration       tempo  \n",
       "0  Unknown  29.712653  172.265625  \n",
       "1  worship  29.712653   99.384014  \n",
       "2  Unknown  22.328027   86.132812  \n",
       "3      edm  29.712653   89.102909  \n",
       "4  worship  29.712653  161.499023  "
      ]
     },
     "metadata": {},
     "output_type": "display_data"
    }
   ],
   "source": [
    "# Load the dataset containing unique tracks and their audio features\n",
    "unique_tracks_path = '../Extracted_Features/audio_features_with_genres.csv'\n",
    "\n",
    "print(f\"Loading unique tracks dataset from: {unique_tracks_path}\")\n",
    "df_tracks = pd.read_csv(unique_tracks_path)\n",
    "\n",
    "print(f\"\\n{'='*70}\")\n",
    "print(f\"UNIQUE TRACKS DATASET - SUMMARY\")\n",
    "print(f\"{'='*70}\")\n",
    "print(f\"Total unique tracks: {len(df_tracks):,}\")\n",
    "print(f\"Total columns (metadata + features): {len(df_tracks.columns)}\")\n",
    "\n",
    "# Display genre distribution\n",
    "if 'genre' in df_tracks.columns:\n",
    "    print(f\"\\n--- Genre Distribution ---\")\n",
    "    genre_counts = df_tracks['genre'].value_counts()\n",
    "    print(f\"Number of unique genres: {len(genre_counts)}\")\n",
    "    print(f\"\\nTop 10 genres:\")\n",
    "    display(genre_counts.head(10))\n",
    "else:\n",
    "    print(\"\\n⚠ Warning: 'genre' column not found in dataset\")\n",
    "\n",
    "print(f\"\\nSample of the dataset (metadata columns):\")\n",
    "display_cols = ['track_name', 'artist_name', 'genre', 'duration', 'tempo']\n",
    "display(df_tracks[display_cols].head())"
   ]
  },
  {
   "cell_type": "markdown",
   "id": "6c04c500",
   "metadata": {},
   "source": [
    "### 3.2 Data Preparation for Modeling\n",
    "\n",
    "This single, comprehensive code cell performs all the necessary steps to prepare the data for machine learning:\n",
    "1.  **Filter Genres**: Removes genres with fewer than 10 samples to ensure statistical validity.\n",
    "2.  **Assemble Feature Matrix (X)**:\n",
    "    *   Extracts 14 simple numerical features.\n",
    "    *   Parses and flattens 334 array-based features (MFCC, Chroma, etc.).\n",
    "    *   Combines them into a final feature matrix `X` of shape `(n_samples, 348)`.\n",
    "3.  **Encode Target Labels (y)**: Converts the 20 genre strings into integer labels.\n",
    "4.  **Split Data**: Performs a stratified 70/15/15 split for training, validation, and test sets.\n",
    "5.  **Scale Features**: Applies `StandardScaler` to the feature sets to normalize their ranges."
   ]
  },
  {
   "cell_type": "code",
   "execution_count": 13,
   "id": "b4d6d23c",
   "metadata": {},
   "outputs": [
    {
     "name": "stdout",
     "output_type": "stream",
     "text": [
      "======================================================================\n",
      "STEP 1: FILTERING GENRES\n",
      "======================================================================\n",
      "Filtering to genres with at least 10 samples...\n",
      "Genres before filtering: 118\n",
      "Genres after filtering:  20\n",
      "Tracks remaining: 1,612\n",
      "\n",
      "======================================================================\n",
      "STEP 2: ASSEMBLING FEATURE MATRIX (X)\n",
      "======================================================================\n",
      "Extracted 14 simple numerical features.\n",
      "Parsing mfcc_mean (20 dimensions)...\n",
      "Parsing mfcc_std (20 dimensions)...\n",
      "Parsing chroma_mean (12 dimensions)...\n",
      "Parsing chroma_std (12 dimensions)...\n",
      "Parsing mel_spec_mean (128 dimensions)...\n",
      "Parsing mel_spec_std (128 dimensions)...\n",
      "Parsing spec_contrast_mean (7 dimensions)...\n",
      "Parsing spec_contrast_std (7 dimensions)...\n",
      "\n",
      "Feature matrix 'X' assembled successfully.\n",
      "Final feature matrix shape: (1612, 348)\n",
      "\n",
      "======================================================================\n",
      "STEP 3: ENCODING TARGET LABELS (y)\n",
      "======================================================================\n",
      "Encoded 20 genres into numerical labels.\n",
      "Target vector 'y' shape: (1612,)\n",
      "\n",
      "======================================================================\n",
      "STEP 4: SPLITTING DATA\n",
      "======================================================================\n",
      "Training set:    1128 samples × 348 features\n",
      "Validation set:   242 samples × 348 features\n",
      "Test set:         242 samples × 348 features\n",
      "\n",
      "======================================================================\n",
      "STEP 5: SCALING FEATURES\n",
      "======================================================================\n",
      "✓ Features for training, validation, and test sets have been scaled.\n",
      "\n",
      "Data preparation complete and ready for model training!\n"
     ]
    }
   ],
   "source": [
    "def prepare_data(df_tracks):\n",
    "    \"\"\"\n",
    "    A comprehensive function to process the raw track data into ML-ready datasets.\n",
    "    \"\"\"\n",
    "    # ======================================================================\n",
    "    # STEP 1: FILTERING GENRES\n",
    "    # ======================================================================\n",
    "    print(\"=\"*70)\n",
    "    print(\"STEP 1: FILTERING GENRES\")\n",
    "    print(\"=\"*70)\n",
    "    print(\"Filtering to genres with at least 10 samples...\")\n",
    "    genre_counts = df_tracks['genre'].value_counts()\n",
    "    genres_to_keep = genre_counts[genre_counts >= 10].index\n",
    "    df_filtered = df_tracks[df_tracks['genre'].isin(genres_to_keep)].copy()\n",
    "    print(f\"Genres before filtering: {len(genre_counts)}\")\n",
    "    print(f\"Genres after filtering:  {len(genres_to_keep)}\")\n",
    "    print(f\"Tracks remaining: {len(df_filtered):,}\")\n",
    "\n",
    "    # ======================================================================\n",
    "    # STEP 2: ASSEMBLING FEATURE MATRIX (X)\n",
    "    # ======================================================================\n",
    "    print(\"\\n\" + \"=\"*70)\n",
    "    print(\"STEP 2: ASSEMBLING FEATURE MATRIX (X)\")\n",
    "    print(\"=\"*70)\n",
    "    \n",
    "    # Define feature columns\n",
    "    global numerical_feature_cols, array_feature_cols, feature_names\n",
    "    numerical_feature_cols = [\n",
    "        'duration', 'tempo', 'spec_centroid_mean', 'spec_centroid_std',\n",
    "        'spec_bandwidth_mean', 'spec_bandwidth_std', 'spec_rolloff_mean',\n",
    "        'spec_rolloff_std', 'zero_crossing_mean', 'zero_crossing_std',\n",
    "        'rms_mean', 'rms_std', 'beat_count', 'beat_tempo'\n",
    "    ]\n",
    "    array_feature_cols = {\n",
    "        'mfcc_mean': 20, 'mfcc_std': 20, 'chroma_mean': 12, 'chroma_std': 12,\n",
    "        'mel_spec_mean': 128, 'mel_spec_std': 128, 'spec_contrast_mean': 7, 'spec_contrast_std': 7\n",
    "    }\n",
    "    \n",
    "    # Extract simple numerical features\n",
    "    X_numerical = df_filtered[numerical_feature_cols].values\n",
    "    print(f\"Extracted {X_numerical.shape[1]} simple numerical features.\")\n",
    "\n",
    "    # Function to safely parse string representations of lists/arrays\n",
    "    def parse_array(s):\n",
    "        try:\n",
    "            return np.array(ast.literal_eval(s))\n",
    "        except (ValueError, SyntaxError):\n",
    "            return np.zeros(sum(array_feature_cols.values())) # Return a zero array of expected total size on failure\n",
    "\n",
    "    # Parse and stack array features\n",
    "    all_array_features = []\n",
    "    for col, dim in array_feature_cols.items():\n",
    "        print(f\"Parsing {col} ({dim} dimensions)...\")\n",
    "        # Apply the parsing function and stack the results\n",
    "        feature_matrix = np.vstack(df_filtered[col].apply(parse_array).values)\n",
    "        # Ensure the feature matrix has the correct number of dimensions\n",
    "        if feature_matrix.shape[1] != dim:\n",
    "            # Handle cases where parsing might result in incorrect shapes\n",
    "            # This could involve padding or truncating, but for now, we'll flag it\n",
    "            print(f\"  Warning: Mismatch in expected dimension for {col}. Expected {dim}, got {feature_matrix.shape[1]}. Adjusting...\")\n",
    "            # A simple fix: truncate or pad with zeros\n",
    "            adjusted_matrix = np.zeros((feature_matrix.shape[0], dim))\n",
    "            min_dim = min(dim, feature_matrix.shape[1])\n",
    "            adjusted_matrix[:, :min_dim] = feature_matrix[:, :min_dim]\n",
    "            feature_matrix = adjusted_matrix\n",
    "        all_array_features.append(feature_matrix)\n",
    "\n",
    "    # Combine all features\n",
    "    X = np.hstack([X_numerical] + all_array_features)\n",
    "    print(\"\\nFeature matrix 'X' assembled successfully.\")\n",
    "    print(f\"Final feature matrix shape: {X.shape}\")\n",
    "    \n",
    "    # Store feature names for later use\n",
    "    feature_names = numerical_feature_cols.copy()\n",
    "    for col, dim in array_feature_cols.items():\n",
    "        feature_names.extend([f\"{col}_{i}\" for i in range(dim)])\n",
    "\n",
    "    # ======================================================================\n",
    "    # STEP 3: ENCODING TARGET LABELS (y)\n",
    "    # ======================================================================\n",
    "    print(\"\\n\" + \"=\"*70)\n",
    "    print(\"STEP 3: ENCODING TARGET LABELS (y)\")\n",
    "    print(\"=\"*70)\n",
    "    label_encoder = LabelEncoder()\n",
    "    y = label_encoder.fit_transform(df_filtered['genre'])\n",
    "    print(f\"Encoded {len(label_encoder.classes_)} genres into numerical labels.\")\n",
    "    print(f\"Target vector 'y' shape: {y.shape}\")\n",
    "\n",
    "    # ======================================================================\n",
    "    # STEP 4: SPLITTING DATA\n",
    "    # ======================================================================\n",
    "    print(\"\\n\" + \"=\"*70)\n",
    "    print(\"STEP 4: SPLITTING DATA\")\n",
    "    print(\"=\"*70)\n",
    "    # First split: 70% train, 30% temp (validation + test)\n",
    "    train_indices, temp_indices = train_test_split(\n",
    "        np.arange(len(X)), test_size=0.3, random_state=42, stratify=y\n",
    "    )\n",
    "    # Second split: 50% of temp -> 15% validation, 15% test\n",
    "    val_indices, test_indices = train_test_split(\n",
    "        temp_indices, test_size=0.5, random_state=42, stratify=y[temp_indices]\n",
    "    )\n",
    "    \n",
    "    X_train, y_train = X[train_indices], y[train_indices]\n",
    "    X_val, y_val = X[val_indices], y[val_indices]\n",
    "    X_test, y_test = X[test_indices], y[test_indices]\n",
    "    \n",
    "    print(f\"Training set:    {len(X_train)} samples × {X_train.shape[1]} features\")\n",
    "    print(f\"Validation set:   {len(X_val)} samples × {X_val.shape[1]} features\")\n",
    "    print(f\"Test set:         {len(X_test)} samples × {X_test.shape[1]} features\")\n",
    "\n",
    "    # ======================================================================\n",
    "    # STEP 5: SCALING FEATURES\n",
    "    # ======================================================================\n",
    "    print(\"\\n\" + \"=\"*70)\n",
    "    print(\"STEP 5: SCALING FEATURES\")\n",
    "    print(\"=\"*70)\n",
    "    scaler = StandardScaler()\n",
    "    X_train_scaled = scaler.fit_transform(X_train)\n",
    "    X_val_scaled = scaler.transform(X_val)\n",
    "    X_test_scaled = scaler.transform(X_test)\n",
    "    print(\"✓ Features for training, validation, and test sets have been scaled.\")\n",
    "    \n",
    "    # Return all the artifacts needed for modeling\n",
    "    return X_train, X_val, X_test, y_train, y_val, y_test, scaler, label_encoder, X_train_scaled, X_val_scaled, X_test_scaled\n",
    "\n",
    "# --------------------------------------------------------------------------------\n",
    "# EXECUTE THE DATA PREPARATION PIPELINE\n",
    "# --------------------------------------------------------------------------------\n",
    "# Execute the function and unpack all the returned objects into the global scope\n",
    "X_train, X_val, X_test, y_train, y_val, y_test, scaler, label_encoder, X_train_scaled, X_val_scaled, X_test_scaled = prepare_data(df_tracks.copy())\n",
    "\n",
    "print(\"\\nData preparation complete and ready for model training!\")"
   ]
  },
  {
   "cell_type": "markdown",
   "id": "e7ba739d",
   "metadata": {},
   "source": [
    "---\n",
    "\n",
    "## Section 4: Feature Analysis\n",
    "\n",
    "Before training models, it's crucial to understand the features we've engineered. This section provides a detailed inventory and analysis of our 348 features to ensure they are suitable for machine learning. We will investigate:\n",
    "1.  **Feature Inventory**: A detailed breakdown of all simple and array-based features.\n",
    "2.  **Feature Correlation**: A heatmap to identify and understand relationships between features.\n",
    "3.  **Feature Scaling**: An analysis of feature ranges to demonstrate the necessity of standardization."
   ]
  },
  {
   "cell_type": "code",
   "execution_count": 15,
   "id": "65e0322f",
   "metadata": {},
   "outputs": [
    {
     "name": "stdout",
     "output_type": "stream",
     "text": [
      "================================================================================\n",
      "FEATURE INVENTORY (348 TOTAL FEATURES)\n",
      "================================================================================\n",
      "\n",
      "────────────────────────────────────────────────────────────────────────────────\n",
      "1. SIMPLE NUMERICAL FEATURES (14 features)\n",
      "────────────────────────────────────────────────────────────────────────────────\n",
      "  • Rhythm: duration, tempo, beat_count, beat_tempo\n",
      "  • Timbre/Brightness: spec_centroid_mean, spec_centroid_std\n",
      "  • Texture: spec_bandwidth_mean, spec_bandwidth_std\n",
      "  • Frequency Shape: spec_rolloff_mean, spec_rolloff_std\n",
      "  • Percussiveness: zero_crossing_mean, zero_crossing_std\n",
      "  • Loudness: rms_mean, rms_std\n",
      "\n",
      "────────────────────────────────────────────────────────────────────────────────\n",
      "2. ARRAY-BASED FEATURES (334 features)\n",
      "────────────────────────────────────────────────────────────────────────────────\n",
      "These are multi-dimensional vectors capturing complex audio patterns:\n",
      "\n",
      "  • Mel-Frequency Cepstral Coefficients (MFCCs): 40 features\n",
      "    (Captures timbre and vocal characteristics)\n",
      "\n",
      "  • Chroma Features: 24 features\n",
      "    (Captures harmonic/melodic content - which notes are played)\n",
      "\n",
      "  • Mel Spectrogram: 256 features\n",
      "    (Energy across 128 frequency bins on a human-perceived scale)\n",
      "\n",
      "  • Spectral Contrast: 14 features\n",
      "    (Difference between peaks and valleys in the sound spectrum)\n",
      "\n",
      "✓ Feature inventory complete.\n"
     ]
    }
   ],
   "source": [
    "# Create a detailed inventory of all 348 features\n",
    "print(f\"{'='*80}\")\n",
    "print(f\"FEATURE INVENTORY (348 TOTAL FEATURES)\")\n",
    "print(f\"{'='*80}\")\n",
    "\n",
    "# 1. Simple Numerical Features (14)\n",
    "print(f\"\\n{'─'*80}\\n1. SIMPLE NUMERICAL FEATURES ({len(numerical_feature_cols)} features)\\n{'─'*80}\")\n",
    "feature_categories = {\n",
    "    'Rhythm': ['duration', 'tempo', 'beat_count', 'beat_tempo'],\n",
    "    'Timbre/Brightness': ['spec_centroid_mean', 'spec_centroid_std'],\n",
    "    'Texture': ['spec_bandwidth_mean', 'spec_bandwidth_std'],\n",
    "    'Frequency Shape': ['spec_rolloff_mean', 'spec_rolloff_std'],\n",
    "    'Percussiveness': ['zero_crossing_mean', 'zero_crossing_std'],\n",
    "    'Loudness': ['rms_mean', 'rms_std']\n",
    "}\n",
    "for category, features in feature_categories.items():\n",
    "    print(f\"  • {category}: {', '.join(features)}\")\n",
    "\n",
    "# 2. Array-Based Features (334)\n",
    "print(f\"\\n{'─'*80}\\n2. ARRAY-BASED FEATURES (334 features)\\n{'─'*80}\")\n",
    "total_array_feats = sum(array_feature_cols.values())\n",
    "print(f\"These are multi-dimensional vectors capturing complex audio patterns:\\n\")\n",
    "print(f\"  • Mel-Frequency Cepstral Coefficients (MFCCs): {array_feature_cols['mfcc_mean'] + array_feature_cols['mfcc_std']} features\")\n",
    "print(f\"    (Captures timbre and vocal characteristics)\\n\")\n",
    "print(f\"  • Chroma Features: {array_feature_cols['chroma_mean'] + array_feature_cols['chroma_std']} features\")\n",
    "print(f\"    (Captures harmonic/melodic content - which notes are played)\\n\")\n",
    "print(f\"  • Mel Spectrogram: {array_feature_cols['mel_spec_mean'] + array_feature_cols['mel_spec_std']} features\")\n",
    "print(f\"    (Energy across 128 frequency bins on a human-perceived scale)\\n\")\n",
    "print(f\"  • Spectral Contrast: {array_feature_cols['spec_contrast_mean'] + array_feature_cols['spec_contrast_std']} features\")\n",
    "print(f\"    (Difference between peaks and valleys in the sound spectrum)\\n\")\n",
    "\n",
    "print(f\"✓ Feature inventory complete.\")"
   ]
  },
  {
   "cell_type": "code",
   "execution_count": 16,
   "id": "d7d23560",
   "metadata": {},
   "outputs": [
    {
     "name": "stdout",
     "output_type": "stream",
     "text": [
      "\n",
      "================================================================================\n",
      "FEATURE ANALYSIS 1: CORRELATION OF NUMERICAL FEATURES\n",
      "================================================================================\n"
     ]
    },
    {
     "data": {
      "application/vnd.plotly.v1+json": {
       "config": {
        "plotlyServerURL": "https://plot.ly"
       },
       "data": [
        {
         "coloraxis": "coloraxis",
         "hovertemplate": "x: %{x}<br>y: %{y}<br>Correlation: %{z}<extra></extra>",
         "name": "0",
         "texttemplate": "%{z:.2f}",
         "type": "heatmap",
         "x": [
          "duration",
          "tempo",
          "spec_centroid_mean",
          "spec_centroid_std",
          "spec_bandwidth_mean",
          "spec_bandwidth_std",
          "spec_rolloff_mean",
          "spec_rolloff_std",
          "zero_crossing_mean",
          "zero_crossing_std",
          "rms_mean",
          "rms_std",
          "beat_count",
          "beat_tempo"
         ],
         "xaxis": "x",
         "y": [
          "duration",
          "tempo",
          "spec_centroid_mean",
          "spec_centroid_std",
          "spec_bandwidth_mean",
          "spec_bandwidth_std",
          "spec_rolloff_mean",
          "spec_rolloff_std",
          "zero_crossing_mean",
          "zero_crossing_std",
          "rms_mean",
          "rms_std",
          "beat_count",
          "beat_tempo"
         ],
         "yaxis": "y",
         "z": {
          "bdata": "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",
          "dtype": "f8",
          "shape": "14, 14"
         }
        }
       ],
       "layout": {
        "coloraxis": {
         "colorbar": {
          "title": {
           "text": "Correlation"
          }
         },
         "colorscale": [
          [
           0,
           "#0d0887"
          ],
          [
           0.1111111111111111,
           "#46039f"
          ],
          [
           0.2222222222222222,
           "#7201a8"
          ],
          [
           0.3333333333333333,
           "#9c179e"
          ],
          [
           0.4444444444444444,
           "#bd3786"
          ],
          [
           0.5555555555555556,
           "#d8576b"
          ],
          [
           0.6666666666666666,
           "#ed7953"
          ],
          [
           0.7777777777777778,
           "#fb9f3a"
          ],
          [
           0.8888888888888888,
           "#fdca26"
          ],
          [
           1,
           "#f0f921"
          ]
         ]
        },
        "template": {
         "data": {
          "bar": [
           {
            "error_x": {
             "color": "#f2f5fa"
            },
            "error_y": {
             "color": "#f2f5fa"
            },
            "marker": {
             "line": {
              "color": "rgb(17,17,17)",
              "width": 0.5
             },
             "pattern": {
              "fillmode": "overlay",
              "size": 10,
              "solidity": 0.2
             }
            },
            "type": "bar"
           }
          ],
          "barpolar": [
           {
            "marker": {
             "line": {
              "color": "rgb(17,17,17)",
              "width": 0.5
             },
             "pattern": {
              "fillmode": "overlay",
              "size": 10,
              "solidity": 0.2
             }
            },
            "type": "barpolar"
           }
          ],
          "carpet": [
           {
            "aaxis": {
             "endlinecolor": "#A2B1C6",
             "gridcolor": "#506784",
             "linecolor": "#506784",
             "minorgridcolor": "#506784",
             "startlinecolor": "#A2B1C6"
            },
            "baxis": {
             "endlinecolor": "#A2B1C6",
             "gridcolor": "#506784",
             "linecolor": "#506784",
             "minorgridcolor": "#506784",
             "startlinecolor": "#A2B1C6"
            },
            "type": "carpet"
           }
          ],
          "choropleth": [
           {
            "colorbar": {
             "outlinewidth": 0,
             "ticks": ""
            },
            "type": "choropleth"
           }
          ],
          "contour": [
           {
            "colorbar": {
             "outlinewidth": 0,
             "ticks": ""
            },
            "colorscale": [
             [
              0,
              "#0d0887"
             ],
             [
              0.1111111111111111,
              "#46039f"
             ],
             [
              0.2222222222222222,
              "#7201a8"
             ],
             [
              0.3333333333333333,
              "#9c179e"
             ],
             [
              0.4444444444444444,
              "#bd3786"
             ],
             [
              0.5555555555555556,
              "#d8576b"
             ],
             [
              0.6666666666666666,
              "#ed7953"
             ],
             [
              0.7777777777777778,
              "#fb9f3a"
             ],
             [
              0.8888888888888888,
              "#fdca26"
             ],
             [
              1,
              "#f0f921"
             ]
            ],
            "type": "contour"
           }
          ],
          "contourcarpet": [
           {
            "colorbar": {
             "outlinewidth": 0,
             "ticks": ""
            },
            "type": "contourcarpet"
           }
          ],
          "heatmap": [
           {
            "colorbar": {
             "outlinewidth": 0,
             "ticks": ""
            },
            "colorscale": [
             [
              0,
              "#0d0887"
             ],
             [
              0.1111111111111111,
              "#46039f"
             ],
             [
              0.2222222222222222,
              "#7201a8"
             ],
             [
              0.3333333333333333,
              "#9c179e"
             ],
             [
              0.4444444444444444,
              "#bd3786"
             ],
             [
              0.5555555555555556,
              "#d8576b"
             ],
             [
              0.6666666666666666,
              "#ed7953"
             ],
             [
              0.7777777777777778,
              "#fb9f3a"
             ],
             [
              0.8888888888888888,
              "#fdca26"
             ],
             [
              1,
              "#f0f921"
             ]
            ],
            "type": "heatmap"
           }
          ],
          "histogram": [
           {
            "marker": {
             "pattern": {
              "fillmode": "overlay",
              "size": 10,
              "solidity": 0.2
             }
            },
            "type": "histogram"
           }
          ],
          "histogram2d": [
           {
            "colorbar": {
             "outlinewidth": 0,
             "ticks": ""
            },
            "colorscale": [
             [
              0,
              "#0d0887"
             ],
             [
              0.1111111111111111,
              "#46039f"
             ],
             [
              0.2222222222222222,
              "#7201a8"
             ],
             [
              0.3333333333333333,
              "#9c179e"
             ],
             [
              0.4444444444444444,
              "#bd3786"
             ],
             [
              0.5555555555555556,
              "#d8576b"
             ],
             [
              0.6666666666666666,
              "#ed7953"
             ],
             [
              0.7777777777777778,
              "#fb9f3a"
             ],
             [
              0.8888888888888888,
              "#fdca26"
             ],
             [
              1,
              "#f0f921"
             ]
            ],
            "type": "histogram2d"
           }
          ],
          "histogram2dcontour": [
           {
            "colorbar": {
             "outlinewidth": 0,
             "ticks": ""
            },
            "colorscale": [
             [
              0,
              "#0d0887"
             ],
             [
              0.1111111111111111,
              "#46039f"
             ],
             [
              0.2222222222222222,
              "#7201a8"
             ],
             [
              0.3333333333333333,
              "#9c179e"
             ],
             [
              0.4444444444444444,
              "#bd3786"
             ],
             [
              0.5555555555555556,
              "#d8576b"
             ],
             [
              0.6666666666666666,
              "#ed7953"
             ],
             [
              0.7777777777777778,
              "#fb9f3a"
             ],
             [
              0.8888888888888888,
              "#fdca26"
             ],
             [
              1,
              "#f0f921"
             ]
            ],
            "type": "histogram2dcontour"
           }
          ],
          "mesh3d": [
           {
            "colorbar": {
             "outlinewidth": 0,
             "ticks": ""
            },
            "type": "mesh3d"
           }
          ],
          "parcoords": [
           {
            "line": {
             "colorbar": {
              "outlinewidth": 0,
              "ticks": ""
             }
            },
            "type": "parcoords"
           }
          ],
          "pie": [
           {
            "automargin": true,
            "type": "pie"
           }
          ],
          "scatter": [
           {
            "marker": {
             "line": {
              "color": "#283442"
             }
            },
            "type": "scatter"
           }
          ],
          "scatter3d": [
           {
            "line": {
             "colorbar": {
              "outlinewidth": 0,
              "ticks": ""
             }
            },
            "marker": {
             "colorbar": {
              "outlinewidth": 0,
              "ticks": ""
             }
            },
            "type": "scatter3d"
           }
          ],
          "scattercarpet": [
           {
            "marker": {
             "colorbar": {
              "outlinewidth": 0,
              "ticks": ""
             }
            },
            "type": "scattercarpet"
           }
          ],
          "scattergeo": [
           {
            "marker": {
             "colorbar": {
              "outlinewidth": 0,
              "ticks": ""
             }
            },
            "type": "scattergeo"
           }
          ],
          "scattergl": [
           {
            "marker": {
             "line": {
              "color": "#283442"
             }
            },
            "type": "scattergl"
           }
          ],
          "scattermap": [
           {
            "marker": {
             "colorbar": {
              "outlinewidth": 0,
              "ticks": ""
             }
            },
            "type": "scattermap"
           }
          ],
          "scattermapbox": [
           {
            "marker": {
             "colorbar": {
              "outlinewidth": 0,
              "ticks": ""
             }
            },
            "type": "scattermapbox"
           }
          ],
          "scatterpolar": [
           {
            "marker": {
             "colorbar": {
              "outlinewidth": 0,
              "ticks": ""
             }
            },
            "type": "scatterpolar"
           }
          ],
          "scatterpolargl": [
           {
            "marker": {
             "colorbar": {
              "outlinewidth": 0,
              "ticks": ""
             }
            },
            "type": "scatterpolargl"
           }
          ],
          "scatterternary": [
           {
            "marker": {
             "colorbar": {
              "outlinewidth": 0,
              "ticks": ""
             }
            },
            "type": "scatterternary"
           }
          ],
          "surface": [
           {
            "colorbar": {
             "outlinewidth": 0,
             "ticks": ""
            },
            "colorscale": [
             [
              0,
              "#0d0887"
             ],
             [
              0.1111111111111111,
              "#46039f"
             ],
             [
              0.2222222222222222,
              "#7201a8"
             ],
             [
              0.3333333333333333,
              "#9c179e"
             ],
             [
              0.4444444444444444,
              "#bd3786"
             ],
             [
              0.5555555555555556,
              "#d8576b"
             ],
             [
              0.6666666666666666,
              "#ed7953"
             ],
             [
              0.7777777777777778,
              "#fb9f3a"
             ],
             [
              0.8888888888888888,
              "#fdca26"
             ],
             [
              1,
              "#f0f921"
             ]
            ],
            "type": "surface"
           }
          ],
          "table": [
           {
            "cells": {
             "fill": {
              "color": "#506784"
             },
             "line": {
              "color": "rgb(17,17,17)"
             }
            },
            "header": {
             "fill": {
              "color": "#2a3f5f"
             },
             "line": {
              "color": "rgb(17,17,17)"
             }
            },
            "type": "table"
           }
          ]
         },
         "layout": {
          "annotationdefaults": {
           "arrowcolor": "#f2f5fa",
           "arrowhead": 0,
           "arrowwidth": 1
          },
          "autotypenumbers": "strict",
          "coloraxis": {
           "colorbar": {
            "outlinewidth": 0,
            "ticks": ""
           }
          },
          "colorscale": {
           "diverging": [
            [
             0,
             "#8e0152"
            ],
            [
             0.1,
             "#c51b7d"
            ],
            [
             0.2,
             "#de77ae"
            ],
            [
             0.3,
             "#f1b6da"
            ],
            [
             0.4,
             "#fde0ef"
            ],
            [
             0.5,
             "#f7f7f7"
            ],
            [
             0.6,
             "#e6f5d0"
            ],
            [
             0.7,
             "#b8e186"
            ],
            [
             0.8,
             "#7fbc41"
            ],
            [
             0.9,
             "#4d9221"
            ],
            [
             1,
             "#276419"
            ]
           ],
           "sequential": [
            [
             0,
             "#0d0887"
            ],
            [
             0.1111111111111111,
             "#46039f"
            ],
            [
             0.2222222222222222,
             "#7201a8"
            ],
            [
             0.3333333333333333,
             "#9c179e"
            ],
            [
             0.4444444444444444,
             "#bd3786"
            ],
            [
             0.5555555555555556,
             "#d8576b"
            ],
            [
             0.6666666666666666,
             "#ed7953"
            ],
            [
             0.7777777777777778,
             "#fb9f3a"
            ],
            [
             0.8888888888888888,
             "#fdca26"
            ],
            [
             1,
             "#f0f921"
            ]
           ],
           "sequentialminus": [
            [
             0,
             "#0d0887"
            ],
            [
             0.1111111111111111,
             "#46039f"
            ],
            [
             0.2222222222222222,
             "#7201a8"
            ],
            [
             0.3333333333333333,
             "#9c179e"
            ],
            [
             0.4444444444444444,
             "#bd3786"
            ],
            [
             0.5555555555555556,
             "#d8576b"
            ],
            [
             0.6666666666666666,
             "#ed7953"
            ],
            [
             0.7777777777777778,
             "#fb9f3a"
            ],
            [
             0.8888888888888888,
             "#fdca26"
            ],
            [
             1,
             "#f0f921"
            ]
           ]
          },
          "colorway": [
           "#636efa",
           "#EF553B",
           "#00cc96",
           "#ab63fa",
           "#FFA15A",
           "#19d3f3",
           "#FF6692",
           "#B6E880",
           "#FF97FF",
           "#FECB52"
          ],
          "font": {
           "color": "#f2f5fa"
          },
          "geo": {
           "bgcolor": "rgb(17,17,17)",
           "lakecolor": "rgb(17,17,17)",
           "landcolor": "rgb(17,17,17)",
           "showlakes": true,
           "showland": true,
           "subunitcolor": "#506784"
          },
          "hoverlabel": {
           "align": "left"
          },
          "hovermode": "closest",
          "mapbox": {
           "style": "dark"
          },
          "paper_bgcolor": "rgb(17,17,17)",
          "plot_bgcolor": "rgb(17,17,17)",
          "polar": {
           "angularaxis": {
            "gridcolor": "#506784",
            "linecolor": "#506784",
            "ticks": ""
           },
           "bgcolor": "rgb(17,17,17)",
           "radialaxis": {
            "gridcolor": "#506784",
            "linecolor": "#506784",
            "ticks": ""
           }
          },
          "scene": {
           "xaxis": {
            "backgroundcolor": "rgb(17,17,17)",
            "gridcolor": "#506784",
            "gridwidth": 2,
            "linecolor": "#506784",
            "showbackground": true,
            "ticks": "",
            "zerolinecolor": "#C8D4E3"
           },
           "yaxis": {
            "backgroundcolor": "rgb(17,17,17)",
            "gridcolor": "#506784",
            "gridwidth": 2,
            "linecolor": "#506784",
            "showbackground": true,
            "ticks": "",
            "zerolinecolor": "#C8D4E3"
           },
           "zaxis": {
            "backgroundcolor": "rgb(17,17,17)",
            "gridcolor": "#506784",
            "gridwidth": 2,
            "linecolor": "#506784",
            "showbackground": true,
            "ticks": "",
            "zerolinecolor": "#C8D4E3"
           }
          },
          "shapedefaults": {
           "line": {
            "color": "#f2f5fa"
           }
          },
          "sliderdefaults": {
           "bgcolor": "#C8D4E3",
           "bordercolor": "rgb(17,17,17)",
           "borderwidth": 1,
           "tickwidth": 0
          },
          "ternary": {
           "aaxis": {
            "gridcolor": "#506784",
            "linecolor": "#506784",
            "ticks": ""
           },
           "baxis": {
            "gridcolor": "#506784",
            "linecolor": "#506784",
            "ticks": ""
           },
           "bgcolor": "rgb(17,17,17)",
           "caxis": {
            "gridcolor": "#506784",
            "linecolor": "#506784",
            "ticks": ""
           }
          },
          "title": {
           "x": 0.05
          },
          "updatemenudefaults": {
           "bgcolor": "#506784",
           "borderwidth": 0
          },
          "xaxis": {
           "automargin": true,
           "gridcolor": "#283442",
           "linecolor": "#506784",
           "ticks": "",
           "title": {
            "standoff": 15
           },
           "zerolinecolor": "#283442",
           "zerolinewidth": 2
          },
          "yaxis": {
           "automargin": true,
           "gridcolor": "#283442",
           "linecolor": "#506784",
           "ticks": "",
           "title": {
            "standoff": 15
           },
           "zerolinecolor": "#283442",
           "zerolinewidth": 2
          }
         }
        },
        "title": {
         "text": "Correlation Matrix of Simple Numerical Features",
         "x": 0.5
        },
        "xaxis": {
         "anchor": "y",
         "domain": [
          0,
          1
         ]
        },
        "yaxis": {
         "anchor": "x",
         "autorange": "reversed",
         "domain": [
          0,
          1
         ]
        }
       }
      }
     },
     "metadata": {},
     "output_type": "display_data"
    },
    {
     "name": "stdout",
     "output_type": "stream",
     "text": [
      "\n",
      "**Interpretation**: The heatmap shows relationships between features. For example, 'tempo' and 'beat_tempo' are perfectly correlated (1.0), as expected. High correlations (e.g., between spectral features) indicate some redundancy, which tree-based models can handle well.\n"
     ]
    }
   ],
   "source": [
    "# --- Feature Analysis 1: Correlation Heatmap ---\n",
    "print(f\"\\n{'='*80}\")\n",
    "print(\"FEATURE ANALYSIS 1: CORRELATION OF NUMERICAL FEATURES\")\n",
    "print(f\"{'='*80}\")\n",
    "\n",
    "# Calculate the correlation matrix for the simple numerical features\n",
    "corr_matrix = pd.DataFrame(X_train_scaled, columns=feature_names).loc[:, numerical_feature_cols].corr()\n",
    "\n",
    "# Create the heatmap\n",
    "fig_corr = px.imshow(\n",
    "    corr_matrix,\n",
    "    text_auto=\".2f\",\n",
    "    aspect=\"auto\",\n",
    "    title=\"Correlation Matrix of Simple Numerical Features\",\n",
    "    labels=dict(color=\"Correlation\"),\n",
    "    template='plotly_dark'\n",
    ")\n",
    "fig_corr.update_layout(title_x=0.5)\n",
    "fig_corr.show()\n",
    "\n",
    "print(\"\\n**Interpretation**: The heatmap shows relationships between features. For example, 'tempo' and 'beat_tempo' are perfectly correlated (1.0), as expected. High correlations (e.g., between spectral features) indicate some redundancy, which tree-based models can handle well.\")"
   ]
  },
  {
   "cell_type": "code",
   "execution_count": 17,
   "id": "d69c4ed8",
   "metadata": {},
   "outputs": [
    {
     "name": "stdout",
     "output_type": "stream",
     "text": [
      "\n",
      "================================================================================\n",
      "FEATURE ANALYSIS 2: NECESSITY OF FEATURE SCALING\n",
      "================================================================================\n"
     ]
    },
    {
     "data": {
      "application/vnd.plotly.v1+json": {
       "config": {
        "plotlyServerURL": "https://plot.ly"
       },
       "data": [
        {
         "hovertemplate": "Feature Index=%{x}<br>Range (Max - Min)=%{y}<extra></extra>",
         "legendgroup": "",
         "marker": {
          "color": "#636efa",
          "pattern": {
           "shape": ""
          }
         },
         "name": "",
         "orientation": "v",
         "showlegend": false,
         "textposition": "auto",
         "type": "bar",
         "x": {
          "bdata": "AAABAAIAAwAEAAUABgAHAAgACQAKAAsADAANAA4ADwAQABEAEgATABQAFQAWABcAGAAZABoAGwAcAB0AHgAfACAAIQAiACMAJAAlACYAJwAoACkAKgArACwALQAuAC8AMAAxADIAMwA0ADUANgA3ADgAOQA6ADsAPAA9AD4APwBAAEEAQgBDAEQARQBGAEcASABJAEoASwBMAE0ATgBPAFAAUQBSAFMAVABVAFYAVwBYAFkAWgBbAFwAXQBeAF8AYABhAGIAYwBkAGUAZgBnAGgAaQBqAGsAbABtAG4AbwBwAHEAcgBzAHQAdQB2AHcAeAB5AHoAewB8AH0AfgB/AIAAgQCCAIMAhACFAIYAhwCIAIkAigCLAIwAjQCOAI8AkACRAJIAkwCUAJUAlgCXAJgAmQCaAJsAnACdAJ4AnwCgAKEAogCjAKQApQCmAKcAqACpAKoAqwCsAK0ArgCvALAAsQCyALMAtAC1ALYAtwC4ALkAugC7ALwAvQC+AL8AwADBAMIAwwDEAMUAxgDHAMgAyQDKAMsAzADNAM4AzwDQANEA0gDTANQA1QDWANcA2ADZANoA2wDcAN0A3gDfAOAA4QDiAOMA5ADlAOYA5wDoAOkA6gDrAOwA7QDuAO8A8ADxAPIA8wD0APUA9gD3APgA+QD6APsA/AD9AP4A/wAAAQEBAgEDAQQBBQEGAQcBCAEJAQoBCwEMAQ0BDgEPARABEQESARMBFAEVARYBFwEYARkBGgEbARwBHQEeAR8BIAEhASIBIwEkASUBJgEnASgBKQEqASsBLAEtAS4BLwEwATEBMgEzATQBNQE2ATcBOAE5AToBOwE8AT0BPgE/AUABQQFCAUMBRAFFAUYBRwFIAUkBSgFLAUwBTQFOAU8BUAFRAVIBUwFUAVUBVgFXAVgBWQFaAVsB",
          "dtype": "i2"
         },
         "xaxis": "x",
         "y": {
          "bdata": "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",
          "dtype": "f8"
         },
         "yaxis": "y"
        }
       ],
       "layout": {
        "barmode": "relative",
        "legend": {
         "tracegroupgap": 0
        },
        "template": {
         "data": {
          "bar": [
           {
            "error_x": {
             "color": "#f2f5fa"
            },
            "error_y": {
             "color": "#f2f5fa"
            },
            "marker": {
             "line": {
              "color": "rgb(17,17,17)",
              "width": 0.5
             },
             "pattern": {
              "fillmode": "overlay",
              "size": 10,
              "solidity": 0.2
             }
            },
            "type": "bar"
           }
          ],
          "barpolar": [
           {
            "marker": {
             "line": {
              "color": "rgb(17,17,17)",
              "width": 0.5
             },
             "pattern": {
              "fillmode": "overlay",
              "size": 10,
              "solidity": 0.2
             }
            },
            "type": "barpolar"
           }
          ],
          "carpet": [
           {
            "aaxis": {
             "endlinecolor": "#A2B1C6",
             "gridcolor": "#506784",
             "linecolor": "#506784",
             "minorgridcolor": "#506784",
             "startlinecolor": "#A2B1C6"
            },
            "baxis": {
             "endlinecolor": "#A2B1C6",
             "gridcolor": "#506784",
             "linecolor": "#506784",
             "minorgridcolor": "#506784",
             "startlinecolor": "#A2B1C6"
            },
            "type": "carpet"
           }
          ],
          "choropleth": [
           {
            "colorbar": {
             "outlinewidth": 0,
             "ticks": ""
            },
            "type": "choropleth"
           }
          ],
          "contour": [
           {
            "colorbar": {
             "outlinewidth": 0,
             "ticks": ""
            },
            "colorscale": [
             [
              0,
              "#0d0887"
             ],
             [
              0.1111111111111111,
              "#46039f"
             ],
             [
              0.2222222222222222,
              "#7201a8"
             ],
             [
              0.3333333333333333,
              "#9c179e"
             ],
             [
              0.4444444444444444,
              "#bd3786"
             ],
             [
              0.5555555555555556,
              "#d8576b"
             ],
             [
              0.6666666666666666,
              "#ed7953"
             ],
             [
              0.7777777777777778,
              "#fb9f3a"
             ],
             [
              0.8888888888888888,
              "#fdca26"
             ],
             [
              1,
              "#f0f921"
             ]
            ],
            "type": "contour"
           }
          ],
          "contourcarpet": [
           {
            "colorbar": {
             "outlinewidth": 0,
             "ticks": ""
            },
            "type": "contourcarpet"
           }
          ],
          "heatmap": [
           {
            "colorbar": {
             "outlinewidth": 0,
             "ticks": ""
            },
            "colorscale": [
             [
              0,
              "#0d0887"
             ],
             [
              0.1111111111111111,
              "#46039f"
             ],
             [
              0.2222222222222222,
              "#7201a8"
             ],
             [
              0.3333333333333333,
              "#9c179e"
             ],
             [
              0.4444444444444444,
              "#bd3786"
             ],
             [
              0.5555555555555556,
              "#d8576b"
             ],
             [
              0.6666666666666666,
              "#ed7953"
             ],
             [
              0.7777777777777778,
              "#fb9f3a"
             ],
             [
              0.8888888888888888,
              "#fdca26"
             ],
             [
              1,
              "#f0f921"
             ]
            ],
            "type": "heatmap"
           }
          ],
          "histogram": [
           {
            "marker": {
             "pattern": {
              "fillmode": "overlay",
              "size": 10,
              "solidity": 0.2
             }
            },
            "type": "histogram"
           }
          ],
          "histogram2d": [
           {
            "colorbar": {
             "outlinewidth": 0,
             "ticks": ""
            },
            "colorscale": [
             [
              0,
              "#0d0887"
             ],
             [
              0.1111111111111111,
              "#46039f"
             ],
             [
              0.2222222222222222,
              "#7201a8"
             ],
             [
              0.3333333333333333,
              "#9c179e"
             ],
             [
              0.4444444444444444,
              "#bd3786"
             ],
             [
              0.5555555555555556,
              "#d8576b"
             ],
             [
              0.6666666666666666,
              "#ed7953"
             ],
             [
              0.7777777777777778,
              "#fb9f3a"
             ],
             [
              0.8888888888888888,
              "#fdca26"
             ],
             [
              1,
              "#f0f921"
             ]
            ],
            "type": "histogram2d"
           }
          ],
          "histogram2dcontour": [
           {
            "colorbar": {
             "outlinewidth": 0,
             "ticks": ""
            },
            "colorscale": [
             [
              0,
              "#0d0887"
             ],
             [
              0.1111111111111111,
              "#46039f"
             ],
             [
              0.2222222222222222,
              "#7201a8"
             ],
             [
              0.3333333333333333,
              "#9c179e"
             ],
             [
              0.4444444444444444,
              "#bd3786"
             ],
             [
              0.5555555555555556,
              "#d8576b"
             ],
             [
              0.6666666666666666,
              "#ed7953"
             ],
             [
              0.7777777777777778,
              "#fb9f3a"
             ],
             [
              0.8888888888888888,
              "#fdca26"
             ],
             [
              1,
              "#f0f921"
             ]
            ],
            "type": "histogram2dcontour"
           }
          ],
          "mesh3d": [
           {
            "colorbar": {
             "outlinewidth": 0,
             "ticks": ""
            },
            "type": "mesh3d"
           }
          ],
          "parcoords": [
           {
            "line": {
             "colorbar": {
              "outlinewidth": 0,
              "ticks": ""
             }
            },
            "type": "parcoords"
           }
          ],
          "pie": [
           {
            "automargin": true,
            "type": "pie"
           }
          ],
          "scatter": [
           {
            "marker": {
             "line": {
              "color": "#283442"
             }
            },
            "type": "scatter"
           }
          ],
          "scatter3d": [
           {
            "line": {
             "colorbar": {
              "outlinewidth": 0,
              "ticks": ""
             }
            },
            "marker": {
             "colorbar": {
              "outlinewidth": 0,
              "ticks": ""
             }
            },
            "type": "scatter3d"
           }
          ],
          "scattercarpet": [
           {
            "marker": {
             "colorbar": {
              "outlinewidth": 0,
              "ticks": ""
             }
            },
            "type": "scattercarpet"
           }
          ],
          "scattergeo": [
           {
            "marker": {
             "colorbar": {
              "outlinewidth": 0,
              "ticks": ""
             }
            },
            "type": "scattergeo"
           }
          ],
          "scattergl": [
           {
            "marker": {
             "line": {
              "color": "#283442"
             }
            },
            "type": "scattergl"
           }
          ],
          "scattermap": [
           {
            "marker": {
             "colorbar": {
              "outlinewidth": 0,
              "ticks": ""
             }
            },
            "type": "scattermap"
           }
          ],
          "scattermapbox": [
           {
            "marker": {
             "colorbar": {
              "outlinewidth": 0,
              "ticks": ""
             }
            },
            "type": "scattermapbox"
           }
          ],
          "scatterpolar": [
           {
            "marker": {
             "colorbar": {
              "outlinewidth": 0,
              "ticks": ""
             }
            },
            "type": "scatterpolar"
           }
          ],
          "scatterpolargl": [
           {
            "marker": {
             "colorbar": {
              "outlinewidth": 0,
              "ticks": ""
             }
            },
            "type": "scatterpolargl"
           }
          ],
          "scatterternary": [
           {
            "marker": {
             "colorbar": {
              "outlinewidth": 0,
              "ticks": ""
             }
            },
            "type": "scatterternary"
           }
          ],
          "surface": [
           {
            "colorbar": {
             "outlinewidth": 0,
             "ticks": ""
            },
            "colorscale": [
             [
              0,
              "#0d0887"
             ],
             [
              0.1111111111111111,
              "#46039f"
             ],
             [
              0.2222222222222222,
              "#7201a8"
             ],
             [
              0.3333333333333333,
              "#9c179e"
             ],
             [
              0.4444444444444444,
              "#bd3786"
             ],
             [
              0.5555555555555556,
              "#d8576b"
             ],
             [
              0.6666666666666666,
              "#ed7953"
             ],
             [
              0.7777777777777778,
              "#fb9f3a"
             ],
             [
              0.8888888888888888,
              "#fdca26"
             ],
             [
              1,
              "#f0f921"
             ]
            ],
            "type": "surface"
           }
          ],
          "table": [
           {
            "cells": {
             "fill": {
              "color": "#506784"
             },
             "line": {
              "color": "rgb(17,17,17)"
             }
            },
            "header": {
             "fill": {
              "color": "#2a3f5f"
             },
             "line": {
              "color": "rgb(17,17,17)"
             }
            },
            "type": "table"
           }
          ]
         },
         "layout": {
          "annotationdefaults": {
           "arrowcolor": "#f2f5fa",
           "arrowhead": 0,
           "arrowwidth": 1
          },
          "autotypenumbers": "strict",
          "coloraxis": {
           "colorbar": {
            "outlinewidth": 0,
            "ticks": ""
           }
          },
          "colorscale": {
           "diverging": [
            [
             0,
             "#8e0152"
            ],
            [
             0.1,
             "#c51b7d"
            ],
            [
             0.2,
             "#de77ae"
            ],
            [
             0.3,
             "#f1b6da"
            ],
            [
             0.4,
             "#fde0ef"
            ],
            [
             0.5,
             "#f7f7f7"
            ],
            [
             0.6,
             "#e6f5d0"
            ],
            [
             0.7,
             "#b8e186"
            ],
            [
             0.8,
             "#7fbc41"
            ],
            [
             0.9,
             "#4d9221"
            ],
            [
             1,
             "#276419"
            ]
           ],
           "sequential": [
            [
             0,
             "#0d0887"
            ],
            [
             0.1111111111111111,
             "#46039f"
            ],
            [
             0.2222222222222222,
             "#7201a8"
            ],
            [
             0.3333333333333333,
             "#9c179e"
            ],
            [
             0.4444444444444444,
             "#bd3786"
            ],
            [
             0.5555555555555556,
             "#d8576b"
            ],
            [
             0.6666666666666666,
             "#ed7953"
            ],
            [
             0.7777777777777778,
             "#fb9f3a"
            ],
            [
             0.8888888888888888,
             "#fdca26"
            ],
            [
             1,
             "#f0f921"
            ]
           ],
           "sequentialminus": [
            [
             0,
             "#0d0887"
            ],
            [
             0.1111111111111111,
             "#46039f"
            ],
            [
             0.2222222222222222,
             "#7201a8"
            ],
            [
             0.3333333333333333,
             "#9c179e"
            ],
            [
             0.4444444444444444,
             "#bd3786"
            ],
            [
             0.5555555555555556,
             "#d8576b"
            ],
            [
             0.6666666666666666,
             "#ed7953"
            ],
            [
             0.7777777777777778,
             "#fb9f3a"
            ],
            [
             0.8888888888888888,
             "#fdca26"
            ],
            [
             1,
             "#f0f921"
            ]
           ]
          },
          "colorway": [
           "#636efa",
           "#EF553B",
           "#00cc96",
           "#ab63fa",
           "#FFA15A",
           "#19d3f3",
           "#FF6692",
           "#B6E880",
           "#FF97FF",
           "#FECB52"
          ],
          "font": {
           "color": "#f2f5fa"
          },
          "geo": {
           "bgcolor": "rgb(17,17,17)",
           "lakecolor": "rgb(17,17,17)",
           "landcolor": "rgb(17,17,17)",
           "showlakes": true,
           "showland": true,
           "subunitcolor": "#506784"
          },
          "hoverlabel": {
           "align": "left"
          },
          "hovermode": "closest",
          "mapbox": {
           "style": "dark"
          },
          "paper_bgcolor": "rgb(17,17,17)",
          "plot_bgcolor": "rgb(17,17,17)",
          "polar": {
           "angularaxis": {
            "gridcolor": "#506784",
            "linecolor": "#506784",
            "ticks": ""
           },
           "bgcolor": "rgb(17,17,17)",
           "radialaxis": {
            "gridcolor": "#506784",
            "linecolor": "#506784",
            "ticks": ""
           }
          },
          "scene": {
           "xaxis": {
            "backgroundcolor": "rgb(17,17,17)",
            "gridcolor": "#506784",
            "gridwidth": 2,
            "linecolor": "#506784",
            "showbackground": true,
            "ticks": "",
            "zerolinecolor": "#C8D4E3"
           },
           "yaxis": {
            "backgroundcolor": "rgb(17,17,17)",
            "gridcolor": "#506784",
            "gridwidth": 2,
            "linecolor": "#506784",
            "showbackground": true,
            "ticks": "",
            "zerolinecolor": "#C8D4E3"
           },
           "zaxis": {
            "backgroundcolor": "rgb(17,17,17)",
            "gridcolor": "#506784",
            "gridwidth": 2,
            "linecolor": "#506784",
            "showbackground": true,
            "ticks": "",
            "zerolinecolor": "#C8D4E3"
           }
          },
          "shapedefaults": {
           "line": {
            "color": "#f2f5fa"
           }
          },
          "sliderdefaults": {
           "bgcolor": "#C8D4E3",
           "bordercolor": "rgb(17,17,17)",
           "borderwidth": 1,
           "tickwidth": 0
          },
          "ternary": {
           "aaxis": {
            "gridcolor": "#506784",
            "linecolor": "#506784",
            "ticks": ""
           },
           "baxis": {
            "gridcolor": "#506784",
            "linecolor": "#506784",
            "ticks": ""
           },
           "bgcolor": "rgb(17,17,17)",
           "caxis": {
            "gridcolor": "#506784",
            "linecolor": "#506784",
            "ticks": ""
           }
          },
          "title": {
           "x": 0.05
          },
          "updatemenudefaults": {
           "bgcolor": "#506784",
           "borderwidth": 0
          },
          "xaxis": {
           "automargin": true,
           "gridcolor": "#283442",
           "linecolor": "#506784",
           "ticks": "",
           "title": {
            "standoff": 15
           },
           "zerolinecolor": "#283442",
           "zerolinewidth": 2
          },
          "yaxis": {
           "automargin": true,
           "gridcolor": "#283442",
           "linecolor": "#506784",
           "ticks": "",
           "title": {
            "standoff": 15
           },
           "zerolinecolor": "#283442",
           "zerolinewidth": 2
          }
         }
        },
        "title": {
         "text": "Range of Values for Each Feature (Before Scaling)",
         "x": 0.5
        },
        "xaxis": {
         "anchor": "y",
         "domain": [
          0,
          1
         ],
         "title": {
          "text": "Feature Index"
         }
        },
        "yaxis": {
         "anchor": "x",
         "domain": [
          0,
          1
         ],
         "title": {
          "text": "Range (Max - Min)"
         }
        }
       }
      }
     },
     "metadata": {},
     "output_type": "display_data"
    },
    {
     "name": "stdout",
     "output_type": "stream",
     "text": [
      "\n",
      "**Interpretation**: The ranges of the features vary dramatically.\n",
      "  - Smallest feature range: 0.1360\n",
      "  - Largest feature range:  7,250.36\n",
      "  - Scale ratio: 53,321:1\n",
      "\n",
      "This vast difference in scales makes **Standardization** (scaling to mean=0, std=1) absolutely essential for models like Logistic Regression and beneficial for all models during optimization.\n"
     ]
    }
   ],
   "source": [
    "# --- Feature Analysis 2: Feature Scales ---\n",
    "print(f\"\\n{'='*80}\")\n",
    "print(\"FEATURE ANALYSIS 2: NECESSITY OF FEATURE SCALING\")\n",
    "print(f\"{'='*80}\")\n",
    "\n",
    "# Calculate the range (max - min) for each of the 348 features before scaling\n",
    "feature_ranges = pd.DataFrame(X_train).describe().loc['max'] - pd.DataFrame(X_train).describe().loc['min']\n",
    "\n",
    "# Create a bar plot of the feature ranges\n",
    "fig_scales = px.bar(\n",
    "    x=feature_ranges.index,\n",
    "    y=feature_ranges.values,\n",
    "    title='Range of Values for Each Feature (Before Scaling)',\n",
    "    labels={'x': 'Feature Index', 'y': 'Range (Max - Min)'},\n",
    "    template='plotly_dark'\n",
    ")\n",
    "fig_scales.update_layout(title_x=0.5)\n",
    "fig_scales.show()\n",
    "\n",
    "min_range = feature_ranges.min()\n",
    "max_range = feature_ranges.max()\n",
    "print(f\"\\n**Interpretation**: The ranges of the features vary dramatically.\")\n",
    "print(f\"  - Smallest feature range: {min_range:.4f}\")\n",
    "print(f\"  - Largest feature range:  {max_range:,.2f}\")\n",
    "print(f\"  - Scale ratio: {max_range/min_range:,.0f}:1\")\n",
    "print(\"\\nThis vast difference in scales makes **Standardization** (scaling to mean=0, std=1) absolutely essential for models like Logistic Regression and beneficial for all models during optimization.\")"
   ]
  },
  {
   "cell_type": "markdown",
   "id": "9f93e52b",
   "metadata": {},
   "source": [
    "---\n",
    "\n",
    "## Section 5: Model Training and Cross-Validation\n",
    "\n",
    "With the data prepared and analyzed, we can now train our classification models. This section covers:\n",
    "1.  **Model Selection**: An overview of the three models chosen for this task.\n",
    "2.  **Cross-Validation Strategy**: A robust 5-fold stratified cross-validation to evaluate each model's performance on the training data.\n",
    "3.  **Training and Evaluation Loop**: A systematic process to train each model, record its performance metrics (accuracy, F1-score, etc.), and measure its training time.\n",
    "4.  **Results Comparison**: A summary table and visualization comparing the cross-validation results to identify the best-performing model."
   ]
  },
  {
   "cell_type": "markdown",
   "id": "9fe79fa5",
   "metadata": {},
   "source": [
    "### 5.1 Model Selection\n",
    "\n",
    "We will train and compare three distinct classification models, each representing a different approach to learning from the data:\n",
    "\n",
    "1.  **Logistic Regression**: A fast, linear model that serves as a strong baseline. It's great for understanding feature importance but assumes a linear relationship between features and the target.\n",
    "2.  **Random Forest**: An ensemble of decision trees. It's a powerful non-linear model that can capture complex interactions between features and is robust to overfitting.\n",
    "3.  **Gradient Boosting**: Another tree-based ensemble model that builds trees sequentially, with each new tree correcting the errors of the previous one. It is often a top-performing model in classification tasks."
   ]
  },
  {
   "cell_type": "markdown",
   "id": "cfcca13f",
   "metadata": {},
   "source": [
    "### 5.2 Cross-Validation Setup\n",
    "\n",
    "To get a reliable estimate of each model's performance, we will use **5-fold stratified cross-validation**. This process involves:\n",
    "1.  Splitting the training data (`X_train`, `y_train`) into 5 \"folds\".\n",
    "2.  Training each model on 4 of the folds and evaluating it on the 5th (the \"hold-out\" fold).\n",
    "3.  Repeating this process 5 times, ensuring each fold is used as the hold-out set exactly once.\n",
    "4.  Averaging the performance metrics (Accuracy, Precision, Recall, F1-Score) across all 5 folds.\n",
    "\n",
    "This approach gives a more robust measure of generalization performance than a single train/validation split and helps ensure our results are not due to a lucky or unlucky split of the data. We will store the results in a DataFrame for easy comparison."
   ]
  },
  {
   "cell_type": "code",
   "execution_count": 10,
   "id": "ed8537b0",
   "metadata": {},
   "outputs": [
    {
     "name": "stdout",
     "output_type": "stream",
     "text": [
      "Running cross-validation for Logistic Regression...\n"
     ]
    },
    {
     "name": "stderr",
     "output_type": "stream",
     "text": [
      "/Users/fdeclan/Public/ml_pipeline/.venv/lib/python3.9/site-packages/sklearn/linear_model/_linear_loss.py:203: RuntimeWarning: divide by zero encountered in matmul\n",
      "  raw_prediction = X @ weights.T + intercept  # ndarray, likely C-contiguous\n",
      "/Users/fdeclan/Public/ml_pipeline/.venv/lib/python3.9/site-packages/sklearn/linear_model/_linear_loss.py:203: RuntimeWarning: divide by zero encountered in matmul\n",
      "  raw_prediction = X @ weights.T + intercept  # ndarray, likely C-contiguous\n",
      "/Users/fdeclan/Public/ml_pipeline/.venv/lib/python3.9/site-packages/sklearn/linear_model/_linear_loss.py:203: RuntimeWarning: divide by zero encountered in matmul\n",
      "  raw_prediction = X @ weights.T + intercept  # ndarray, likely C-contiguous\n",
      "/Users/fdeclan/Public/ml_pipeline/.venv/lib/python3.9/site-packages/sklearn/linear_model/_linear_loss.py:203: RuntimeWarning: divide by zero encountered in matmul\n",
      "  raw_prediction = X @ weights.T + intercept  # ndarray, likely C-contiguous\n",
      "/Users/fdeclan/Public/ml_pipeline/.venv/lib/python3.9/site-packages/sklearn/linear_model/_linear_loss.py:203: RuntimeWarning: overflow encountered in matmul\n",
      "  raw_prediction = X @ weights.T + intercept  # ndarray, likely C-contiguous\n",
      "/Users/fdeclan/Public/ml_pipeline/.venv/lib/python3.9/site-packages/sklearn/linear_model/_linear_loss.py:203: RuntimeWarning: invalid value encountered in matmul\n",
      "  raw_prediction = X @ weights.T + intercept  # ndarray, likely C-contiguous\n",
      "/Users/fdeclan/Public/ml_pipeline/.venv/lib/python3.9/site-packages/sklearn/linear_model/_linear_loss.py:203: RuntimeWarning: overflow encountered in matmul\n",
      "  raw_prediction = X @ weights.T + intercept  # ndarray, likely C-contiguous\n",
      "/Users/fdeclan/Public/ml_pipeline/.venv/lib/python3.9/site-packages/sklearn/linear_model/_linear_loss.py:203: RuntimeWarning: overflow encountered in matmul\n",
      "  raw_prediction = X @ weights.T + intercept  # ndarray, likely C-contiguous\n",
      "/Users/fdeclan/Public/ml_pipeline/.venv/lib/python3.9/site-packages/sklearn/linear_model/_linear_loss.py:203: RuntimeWarning: invalid value encountered in matmul\n",
      "  raw_prediction = X @ weights.T + intercept  # ndarray, likely C-contiguous\n",
      "/Users/fdeclan/Public/ml_pipeline/.venv/lib/python3.9/site-packages/sklearn/linear_model/_linear_loss.py:203: RuntimeWarning: invalid value encountered in matmul\n",
      "  raw_prediction = X @ weights.T + intercept  # ndarray, likely C-contiguous\n",
      "/Users/fdeclan/Public/ml_pipeline/.venv/lib/python3.9/site-packages/sklearn/linear_model/_linear_loss.py:203: RuntimeWarning: overflow encountered in matmul\n",
      "  raw_prediction = X @ weights.T + intercept  # ndarray, likely C-contiguous\n",
      "/Users/fdeclan/Public/ml_pipeline/.venv/lib/python3.9/site-packages/sklearn/linear_model/_linear_loss.py:203: RuntimeWarning: invalid value encountered in matmul\n",
      "  raw_prediction = X @ weights.T + intercept  # ndarray, likely C-contiguous\n",
      "/Users/fdeclan/Public/ml_pipeline/.venv/lib/python3.9/site-packages/sklearn/linear_model/_linear_loss.py:203: RuntimeWarning: divide by zero encountered in matmul\n",
      "  raw_prediction = X @ weights.T + intercept  # ndarray, likely C-contiguous\n",
      "/Users/fdeclan/Public/ml_pipeline/.venv/lib/python3.9/site-packages/sklearn/linear_model/_linear_loss.py:203: RuntimeWarning: overflow encountered in matmul\n",
      "  raw_prediction = X @ weights.T + intercept  # ndarray, likely C-contiguous\n",
      "/Users/fdeclan/Public/ml_pipeline/.venv/lib/python3.9/site-packages/sklearn/linear_model/_linear_loss.py:203: RuntimeWarning: invalid value encountered in matmul\n",
      "  raw_prediction = X @ weights.T + intercept  # ndarray, likely C-contiguous\n",
      "/Users/fdeclan/Public/ml_pipeline/.venv/lib/python3.9/site-packages/sklearn/linear_model/_linear_loss.py:336: RuntimeWarning: divide by zero encountered in matmul\n",
      "  grad[:, :n_features] = grad_pointwise.T @ X + l2_reg_strength * weights\n",
      "/Users/fdeclan/Public/ml_pipeline/.venv/lib/python3.9/site-packages/sklearn/linear_model/_linear_loss.py:336: RuntimeWarning: overflow encountered in matmul\n",
      "  grad[:, :n_features] = grad_pointwise.T @ X + l2_reg_strength * weights\n",
      "/Users/fdeclan/Public/ml_pipeline/.venv/lib/python3.9/site-packages/sklearn/linear_model/_linear_loss.py:336: RuntimeWarning: invalid value encountered in matmul\n",
      "  grad[:, :n_features] = grad_pointwise.T @ X + l2_reg_strength * weights\n",
      "/Users/fdeclan/Public/ml_pipeline/.venv/lib/python3.9/site-packages/sklearn/linear_model/_linear_loss.py:336: RuntimeWarning: divide by zero encountered in matmul\n",
      "  grad[:, :n_features] = grad_pointwise.T @ X + l2_reg_strength * weights\n",
      "/Users/fdeclan/Public/ml_pipeline/.venv/lib/python3.9/site-packages/sklearn/linear_model/_linear_loss.py:336: RuntimeWarning: divide by zero encountered in matmul\n",
      "  grad[:, :n_features] = grad_pointwise.T @ X + l2_reg_strength * weights\n",
      "/Users/fdeclan/Public/ml_pipeline/.venv/lib/python3.9/site-packages/sklearn/linear_model/_linear_loss.py:336: RuntimeWarning: divide by zero encountered in matmul\n",
      "  grad[:, :n_features] = grad_pointwise.T @ X + l2_reg_strength * weights\n",
      "/Users/fdeclan/Public/ml_pipeline/.venv/lib/python3.9/site-packages/sklearn/linear_model/_linear_loss.py:336: RuntimeWarning: overflow encountered in matmul\n",
      "  grad[:, :n_features] = grad_pointwise.T @ X + l2_reg_strength * weights\n",
      "/Users/fdeclan/Public/ml_pipeline/.venv/lib/python3.9/site-packages/sklearn/linear_model/_linear_loss.py:336: RuntimeWarning: overflow encountered in matmul\n",
      "  grad[:, :n_features] = grad_pointwise.T @ X + l2_reg_strength * weights\n",
      "/Users/fdeclan/Public/ml_pipeline/.venv/lib/python3.9/site-packages/sklearn/linear_model/_linear_loss.py:336: RuntimeWarning: divide by zero encountered in matmul\n",
      "  grad[:, :n_features] = grad_pointwise.T @ X + l2_reg_strength * weights\n",
      "/Users/fdeclan/Public/ml_pipeline/.venv/lib/python3.9/site-packages/sklearn/linear_model/_linear_loss.py:336: RuntimeWarning: invalid value encountered in matmul\n",
      "  grad[:, :n_features] = grad_pointwise.T @ X + l2_reg_strength * weights\n",
      "/Users/fdeclan/Public/ml_pipeline/.venv/lib/python3.9/site-packages/sklearn/linear_model/_linear_loss.py:336: RuntimeWarning: overflow encountered in matmul\n",
      "  grad[:, :n_features] = grad_pointwise.T @ X + l2_reg_strength * weights\n",
      "/Users/fdeclan/Public/ml_pipeline/.venv/lib/python3.9/site-packages/sklearn/linear_model/_linear_loss.py:336: RuntimeWarning: invalid value encountered in matmul\n",
      "  grad[:, :n_features] = grad_pointwise.T @ X + l2_reg_strength * weights\n",
      "/Users/fdeclan/Public/ml_pipeline/.venv/lib/python3.9/site-packages/sklearn/linear_model/_linear_loss.py:336: RuntimeWarning: overflow encountered in matmul\n",
      "  grad[:, :n_features] = grad_pointwise.T @ X + l2_reg_strength * weights\n",
      "/Users/fdeclan/Public/ml_pipeline/.venv/lib/python3.9/site-packages/sklearn/linear_model/_linear_loss.py:336: RuntimeWarning: invalid value encountered in matmul\n",
      "  grad[:, :n_features] = grad_pointwise.T @ X + l2_reg_strength * weights\n",
      "/Users/fdeclan/Public/ml_pipeline/.venv/lib/python3.9/site-packages/sklearn/linear_model/_linear_loss.py:336: RuntimeWarning: invalid value encountered in matmul\n",
      "  grad[:, :n_features] = grad_pointwise.T @ X + l2_reg_strength * weights\n",
      "/Users/fdeclan/Public/ml_pipeline/.venv/lib/python3.9/site-packages/sklearn/utils/extmath.py:203: RuntimeWarning: divide by zero encountered in matmul\n",
      "  ret = a @ b\n",
      "/Users/fdeclan/Public/ml_pipeline/.venv/lib/python3.9/site-packages/sklearn/utils/extmath.py:203: RuntimeWarning: overflow encountered in matmul\n",
      "  ret = a @ b\n",
      "/Users/fdeclan/Public/ml_pipeline/.venv/lib/python3.9/site-packages/sklearn/utils/extmath.py:203: RuntimeWarning: invalid value encountered in matmul\n",
      "  ret = a @ b\n",
      "/Users/fdeclan/Public/ml_pipeline/.venv/lib/python3.9/site-packages/sklearn/utils/extmath.py:203: RuntimeWarning: divide by zero encountered in matmul\n",
      "  ret = a @ b\n",
      "/Users/fdeclan/Public/ml_pipeline/.venv/lib/python3.9/site-packages/sklearn/utils/extmath.py:203: RuntimeWarning: overflow encountered in matmul\n",
      "  ret = a @ b\n",
      "/Users/fdeclan/Public/ml_pipeline/.venv/lib/python3.9/site-packages/sklearn/utils/extmath.py:203: RuntimeWarning: invalid value encountered in matmul\n",
      "  ret = a @ b\n",
      "/Users/fdeclan/Public/ml_pipeline/.venv/lib/python3.9/site-packages/sklearn/metrics/_classification.py:1565: UndefinedMetricWarning: Precision is ill-defined and being set to 0.0 in labels with no predicted samples. Use `zero_division` parameter to control this behavior.\n",
      "  _warn_prf(average, modifier, f\"{metric.capitalize()} is\", len(result))\n",
      "/Users/fdeclan/Public/ml_pipeline/.venv/lib/python3.9/site-packages/sklearn/metrics/_classification.py:1565: UndefinedMetricWarning: Precision is ill-defined and being set to 0.0 in labels with no predicted samples. Use `zero_division` parameter to control this behavior.\n",
      "  _warn_prf(average, modifier, f\"{metric.capitalize()} is\", len(result))\n",
      "/Users/fdeclan/Public/ml_pipeline/.venv/lib/python3.9/site-packages/sklearn/utils/extmath.py:203: RuntimeWarning: divide by zero encountered in matmul\n",
      "  ret = a @ b\n",
      "/Users/fdeclan/Public/ml_pipeline/.venv/lib/python3.9/site-packages/sklearn/utils/extmath.py:203: RuntimeWarning: overflow encountered in matmul\n",
      "  ret = a @ b\n",
      "/Users/fdeclan/Public/ml_pipeline/.venv/lib/python3.9/site-packages/sklearn/utils/extmath.py:203: RuntimeWarning: invalid value encountered in matmul\n",
      "  ret = a @ b\n",
      "/Users/fdeclan/Public/ml_pipeline/.venv/lib/python3.9/site-packages/sklearn/utils/extmath.py:203: RuntimeWarning: divide by zero encountered in matmul\n",
      "  ret = a @ b\n",
      "/Users/fdeclan/Public/ml_pipeline/.venv/lib/python3.9/site-packages/sklearn/utils/extmath.py:203: RuntimeWarning: overflow encountered in matmul\n",
      "  ret = a @ b\n",
      "/Users/fdeclan/Public/ml_pipeline/.venv/lib/python3.9/site-packages/sklearn/utils/extmath.py:203: RuntimeWarning: invalid value encountered in matmul\n",
      "  ret = a @ b\n",
      "/Users/fdeclan/Public/ml_pipeline/.venv/lib/python3.9/site-packages/sklearn/metrics/_classification.py:1565: UndefinedMetricWarning: Precision is ill-defined and being set to 0.0 in labels with no predicted samples. Use `zero_division` parameter to control this behavior.\n",
      "  _warn_prf(average, modifier, f\"{metric.capitalize()} is\", len(result))\n",
      "/Users/fdeclan/Public/ml_pipeline/.venv/lib/python3.9/site-packages/sklearn/metrics/_classification.py:1565: UndefinedMetricWarning: Precision is ill-defined and being set to 0.0 in labels with no predicted samples. Use `zero_division` parameter to control this behavior.\n",
      "  _warn_prf(average, modifier, f\"{metric.capitalize()} is\", len(result))\n",
      "/Users/fdeclan/Public/ml_pipeline/.venv/lib/python3.9/site-packages/sklearn/utils/extmath.py:203: RuntimeWarning: divide by zero encountered in matmul\n",
      "  ret = a @ b\n",
      "/Users/fdeclan/Public/ml_pipeline/.venv/lib/python3.9/site-packages/sklearn/utils/extmath.py:203: RuntimeWarning: overflow encountered in matmul\n",
      "  ret = a @ b\n",
      "/Users/fdeclan/Public/ml_pipeline/.venv/lib/python3.9/site-packages/sklearn/utils/extmath.py:203: RuntimeWarning: invalid value encountered in matmul\n",
      "  ret = a @ b\n",
      "/Users/fdeclan/Public/ml_pipeline/.venv/lib/python3.9/site-packages/sklearn/metrics/_classification.py:1565: UndefinedMetricWarning: Precision is ill-defined and being set to 0.0 in labels with no predicted samples. Use `zero_division` parameter to control this behavior.\n",
      "  _warn_prf(average, modifier, f\"{metric.capitalize()} is\", len(result))\n"
     ]
    },
    {
     "name": "stdout",
     "output_type": "stream",
     "text": [
      "Finished for Logistic Regression.\n",
      "Running cross-validation for Random Forest...\n"
     ]
    },
    {
     "name": "stderr",
     "output_type": "stream",
     "text": [
      "/Users/fdeclan/Public/ml_pipeline/.venv/lib/python3.9/site-packages/sklearn/metrics/_classification.py:1565: UndefinedMetricWarning: Precision is ill-defined and being set to 0.0 in labels with no predicted samples. Use `zero_division` parameter to control this behavior.\n",
      "  _warn_prf(average, modifier, f\"{metric.capitalize()} is\", len(result))\n",
      "/Users/fdeclan/Public/ml_pipeline/.venv/lib/python3.9/site-packages/sklearn/metrics/_classification.py:1565: UndefinedMetricWarning: Precision is ill-defined and being set to 0.0 in labels with no predicted samples. Use `zero_division` parameter to control this behavior.\n",
      "  _warn_prf(average, modifier, f\"{metric.capitalize()} is\", len(result))\n",
      "/Users/fdeclan/Public/ml_pipeline/.venv/lib/python3.9/site-packages/sklearn/metrics/_classification.py:1565: UndefinedMetricWarning: Precision is ill-defined and being set to 0.0 in labels with no predicted samples. Use `zero_division` parameter to control this behavior.\n",
      "  _warn_prf(average, modifier, f\"{metric.capitalize()} is\", len(result))\n",
      "/Users/fdeclan/Public/ml_pipeline/.venv/lib/python3.9/site-packages/sklearn/metrics/_classification.py:1565: UndefinedMetricWarning: Precision is ill-defined and being set to 0.0 in labels with no predicted samples. Use `zero_division` parameter to control this behavior.\n",
      "  _warn_prf(average, modifier, f\"{metric.capitalize()} is\", len(result))\n",
      "/Users/fdeclan/Public/ml_pipeline/.venv/lib/python3.9/site-packages/sklearn/metrics/_classification.py:1565: UndefinedMetricWarning: Precision is ill-defined and being set to 0.0 in labels with no predicted samples. Use `zero_division` parameter to control this behavior.\n",
      "  _warn_prf(average, modifier, f\"{metric.capitalize()} is\", len(result))\n"
     ]
    },
    {
     "name": "stdout",
     "output_type": "stream",
     "text": [
      "Finished for Random Forest.\n",
      "Running cross-validation for Gradient Boosting...\n"
     ]
    },
    {
     "name": "stderr",
     "output_type": "stream",
     "text": [
      "/Users/fdeclan/Public/ml_pipeline/.venv/lib/python3.9/site-packages/sklearn/metrics/_classification.py:1565: UndefinedMetricWarning: Precision is ill-defined and being set to 0.0 in labels with no predicted samples. Use `zero_division` parameter to control this behavior.\n",
      "  _warn_prf(average, modifier, f\"{metric.capitalize()} is\", len(result))\n",
      "/Users/fdeclan/Public/ml_pipeline/.venv/lib/python3.9/site-packages/sklearn/metrics/_classification.py:1565: UndefinedMetricWarning: Precision is ill-defined and being set to 0.0 in labels with no predicted samples. Use `zero_division` parameter to control this behavior.\n",
      "  _warn_prf(average, modifier, f\"{metric.capitalize()} is\", len(result))\n",
      "/Users/fdeclan/Public/ml_pipeline/.venv/lib/python3.9/site-packages/sklearn/metrics/_classification.py:1565: UndefinedMetricWarning: Precision is ill-defined and being set to 0.0 in labels with no predicted samples. Use `zero_division` parameter to control this behavior.\n",
      "  _warn_prf(average, modifier, f\"{metric.capitalize()} is\", len(result))\n",
      "/Users/fdeclan/Public/ml_pipeline/.venv/lib/python3.9/site-packages/sklearn/metrics/_classification.py:1565: UndefinedMetricWarning: Precision is ill-defined and being set to 0.0 in labels with no predicted samples. Use `zero_division` parameter to control this behavior.\n",
      "  _warn_prf(average, modifier, f\"{metric.capitalize()} is\", len(result))\n",
      "/Users/fdeclan/Public/ml_pipeline/.venv/lib/python3.9/site-packages/sklearn/metrics/_classification.py:1565: UndefinedMetricWarning: Precision is ill-defined and being set to 0.0 in labels with no predicted samples. Use `zero_division` parameter to control this behavior.\n",
      "  _warn_prf(average, modifier, f\"{metric.capitalize()} is\", len(result))\n"
     ]
    },
    {
     "name": "stdout",
     "output_type": "stream",
     "text": [
      "Finished for Gradient Boosting.\n"
     ]
    },
    {
     "name": "stderr",
     "output_type": "stream",
     "text": [
      "Matplotlib is building the font cache; this may take a moment.\n"
     ]
    },
    {
     "data": {
      "text/html": [
       "<style type=\"text/css\">\n",
       "</style>\n",
       "<table id=\"T_a4505\">\n",
       "  <caption>5-Fold Cross-Validation Results</caption>\n",
       "  <thead>\n",
       "    <tr>\n",
       "      <th id=\"T_a4505_level0_col0\" class=\"col_heading level0 col0\" >Model</th>\n",
       "      <th id=\"T_a4505_level0_col1\" class=\"col_heading level0 col1\" >Accuracy</th>\n",
       "      <th id=\"T_a4505_level0_col2\" class=\"col_heading level0 col2\" >Precision</th>\n",
       "      <th id=\"T_a4505_level0_col3\" class=\"col_heading level0 col3\" >Recall</th>\n",
       "      <th id=\"T_a4505_level0_col4\" class=\"col_heading level0 col4\" >F1-Score</th>\n",
       "    </tr>\n",
       "  </thead>\n",
       "  <tbody>\n",
       "    <tr>\n",
       "      <td id=\"T_a4505_row0_col0\" class=\"data row0 col0\" >Logistic Regression</td>\n",
       "      <td id=\"T_a4505_row0_col1\" class=\"data row0 col1\" >0.5895</td>\n",
       "      <td id=\"T_a4505_row0_col2\" class=\"data row0 col2\" >0.5587</td>\n",
       "      <td id=\"T_a4505_row0_col3\" class=\"data row0 col3\" >0.5895</td>\n",
       "      <td id=\"T_a4505_row0_col4\" class=\"data row0 col4\" >0.5659</td>\n",
       "    </tr>\n",
       "    <tr>\n",
       "      <td id=\"T_a4505_row1_col0\" class=\"data row1 col0\" >Random Forest</td>\n",
       "      <td id=\"T_a4505_row1_col1\" class=\"data row1 col1\" >0.5824</td>\n",
       "      <td id=\"T_a4505_row1_col2\" class=\"data row1 col2\" >0.5185</td>\n",
       "      <td id=\"T_a4505_row1_col3\" class=\"data row1 col3\" >0.5824</td>\n",
       "      <td id=\"T_a4505_row1_col4\" class=\"data row1 col4\" >0.5237</td>\n",
       "    </tr>\n",
       "    <tr>\n",
       "      <td id=\"T_a4505_row2_col0\" class=\"data row2 col0\" >Gradient Boosting</td>\n",
       "      <td id=\"T_a4505_row2_col1\" class=\"data row2 col1\" >0.5639</td>\n",
       "      <td id=\"T_a4505_row2_col2\" class=\"data row2 col2\" >0.5317</td>\n",
       "      <td id=\"T_a4505_row2_col3\" class=\"data row2 col3\" >0.5639</td>\n",
       "      <td id=\"T_a4505_row2_col4\" class=\"data row2 col4\" >0.5244</td>\n",
       "    </tr>\n",
       "  </tbody>\n",
       "</table>\n"
      ],
      "text/plain": [
       "<pandas.io.formats.style.Styler at 0x135a8e3a0>"
      ]
     },
     "execution_count": 10,
     "metadata": {},
     "output_type": "execute_result"
    }
   ],
   "source": [
    "from sklearn.linear_model import LogisticRegression\n",
    "from sklearn.ensemble import RandomForestClassifier, GradientBoostingClassifier\n",
    "from sklearn.model_selection import cross_validate, StratifiedKFold\n",
    "import numpy as np\n",
    "\n",
    "# Define models\n",
    "models = {\n",
    "    'Logistic Regression': LogisticRegression(max_iter=1000, random_state=42),\n",
    "    'Random Forest': RandomForestClassifier(random_state=42),\n",
    "    'Gradient Boosting': GradientBoostingClassifier(random_state=42)\n",
    "}\n",
    "\n",
    "# Setup cross-validation\n",
    "cv_strategy = StratifiedKFold(n_splits=5, shuffle=True, random_state=42)\n",
    "scoring_metrics = ['accuracy', 'precision_weighted', 'recall_weighted', 'f1_weighted']\n",
    "\n",
    "# Store results\n",
    "cv_results = []\n",
    "\n",
    "# Loop through models and perform cross-validation\n",
    "for model_name, model in models.items():\n",
    "    print(f\"Running cross-validation for {model_name}...\")\n",
    "    \n",
    "    # Perform cross-validation\n",
    "    scores = cross_validate(\n",
    "        estimator=model,\n",
    "        X=X_train_scaled,\n",
    "        y=y_train,\n",
    "        cv=cv_strategy,\n",
    "        scoring=scoring_metrics,\n",
    "        n_jobs=-1 # Use all available CPU cores\n",
    "    )\n",
    "    \n",
    "    # Store the mean of the scores\n",
    "    result = {\n",
    "        'Model': model_name,\n",
    "        'Accuracy': np.mean(scores['test_accuracy']),\n",
    "        'Precision': np.mean(scores['test_precision_weighted']),\n",
    "        'Recall': np.mean(scores['test_recall_weighted']),\n",
    "        'F1-Score': np.mean(scores['test_f1_weighted'])\n",
    "    }\n",
    "    cv_results.append(result)\n",
    "    print(f\"Finished for {model_name}.\")\n",
    "\n",
    "# Create a DataFrame from the results\n",
    "cv_results_df = pd.DataFrame(cv_results)\n",
    "\n",
    "# Display the results, formatted for clarity\n",
    "cv_results_df.style.format({\n",
    "    'Accuracy': '{:.4f}',\n",
    "    'Precision': '{:.4f}',\n",
    "    'Recall': '{:.4f}',\n",
    "    'F1-Score': '{:.4f}'\n",
    "}).set_caption(\"5-Fold Cross-Validation Results\").hide(axis='index')"
   ]
  },
  {
   "cell_type": "markdown",
   "id": "d99705fb",
   "metadata": {},
   "source": [
    "### 5.3 Results and Model Selection\n",
    "\n",
    "The cross-validation results show that **Logistic Regression** is the top-performing model, achieving the highest scores in Accuracy, Precision, and F1-Score. While the Random Forest model's accuracy is close, its lower precision and F1-score suggest it may be making less precise predictions for some classes.\n",
    "\n",
    "Given its strong performance, simplicity, and interpretability, we will select **Logistic Regression** as our final model to evaluate on the unseen test set."
   ]
  },
  {
   "cell_type": "markdown",
   "id": "a536052d",
   "metadata": {},
   "source": [
    "---\n",
    "## Section 6: Final Model Evaluation on Test Set"
   ]
  },
  {
   "cell_type": "markdown",
   "id": "84dac491",
   "metadata": {},
   "source": [
    "Now that we have selected our best model based on cross-validation, it's time for the final performance assessment. We will train the Logistic Regression model on the **entire training set** (`X_train_scaled` and `y_train`) and then evaluate its performance on the **unseen test set** (`X_test_scaled` and `y_test`).\n",
    "\n",
    "This is the most critical evaluation, as the model has never been exposed to the test data during training or model selection. The results here will give us the best estimate of how the model would perform on new, real-world data. We will generate:\n",
    "1.  A **Classification Report**, showing detailed metrics (Precision, Recall, F1-Score) for each genre.\n",
    "2.  A **Confusion Matrix**, to visualize which genres the model is classifying correctly and where it is getting confused."
   ]
  },
  {
   "cell_type": "code",
   "execution_count": 14,
   "id": "9703e6cc",
   "metadata": {},
   "outputs": [
    {
     "name": "stdout",
     "output_type": "stream",
     "text": [
      "Training the final Logistic Regression model on the full training dataset...\n",
      "✓ Model training complete.\n",
      "\n",
      "Making predictions on the unseen test set...\n",
      "✓ Predictions complete.\n",
      "\n",
      "======================================================================\n",
      "FINAL MODEL EVALUATION: CLASSIFICATION REPORT\n",
      "======================================================================\n",
      "                   precision    recall  f1-score   support\n",
      "\n",
      "          Unknown       0.57      0.65      0.61        63\n",
      "   african gospel       0.45      0.50      0.48        10\n",
      "       afro adura       0.00      0.00      0.00         1\n",
      "        afrobeats       0.67      0.74      0.71        39\n",
      "         amapiano       0.33      0.50      0.40         2\n",
      "        christian       0.33      0.33      0.33         6\n",
      "          country       0.00      0.00      0.00         3\n",
      "              edm       0.00      0.00      0.00         3\n",
      "     egyptian pop       0.50      0.50      0.50         2\n",
      "           gospel       0.33      0.11      0.17         9\n",
      "            lo-fi       0.69      0.65      0.67        17\n",
      "      lo-fi beats       0.00      0.00      0.00         3\n",
      "    lo-fi hip hop       1.00      0.50      0.67         2\n",
      "          new age       1.00      1.00      1.00         5\n",
      "              rap       0.00      0.00      0.00         3\n",
      "        reggaeton       0.00      0.00      0.00         2\n",
      "         soft pop       1.00      0.60      0.75         5\n",
      "traditional music       0.50      0.33      0.40         3\n",
      "         uk drill       0.55      0.67      0.60         9\n",
      "          worship       0.78      0.82      0.80        55\n",
      "\n",
      "         accuracy                           0.63       242\n",
      "        macro avg       0.44      0.40      0.40       242\n",
      "     weighted avg       0.60      0.63      0.61       242\n",
      "\n",
      "\n",
      "======================================================================\n",
      "FINAL MODEL EVALUATION: CONFUSION MATRIX\n",
      "======================================================================\n"
     ]
    },
    {
     "data": {
      "application/vnd.plotly.v1+json": {
       "config": {
        "plotlyServerURL": "https://plot.ly"
       },
       "data": [
        {
         "colorscale": [
          [
           0,
           "rgb(247,251,255)"
          ],
          [
           0.125,
           "rgb(222,235,247)"
          ],
          [
           0.25,
           "rgb(198,219,239)"
          ],
          [
           0.375,
           "rgb(158,202,225)"
          ],
          [
           0.5,
           "rgb(107,174,214)"
          ],
          [
           0.625,
           "rgb(66,146,198)"
          ],
          [
           0.75,
           "rgb(33,113,181)"
          ],
          [
           0.875,
           "rgb(8,81,156)"
          ],
          [
           1,
           "rgb(8,48,107)"
          ]
         ],
         "reversescale": false,
         "showscale": true,
         "type": "heatmap",
         "x": [
          "Unknown",
          "african gospel",
          "afro adura",
          "afrobeats",
          "amapiano",
          "christian",
          "country",
          "edm",
          "egyptian pop",
          "gospel",
          "lo-fi",
          "lo-fi beats",
          "lo-fi hip hop",
          "new age",
          "rap",
          "reggaeton",
          "soft pop",
          "traditional music",
          "uk drill",
          "worship"
         ],
         "y": [
          "Unknown",
          "african gospel",
          "afro adura",
          "afrobeats",
          "amapiano",
          "christian",
          "country",
          "edm",
          "egyptian pop",
          "gospel",
          "lo-fi",
          "lo-fi beats",
          "lo-fi hip hop",
          "new age",
          "rap",
          "reggaeton",
          "soft pop",
          "traditional music",
          "uk drill",
          "worship"
         ],
         "z": {
          "bdata": "KQMABQABAAMBAgEAAAAAAAAAAQUBBQACAAAAAAAAAAAAAAAAAAAAAgABAAAAAAAAAAAAAAAAAAAAAAAABQEAHQEAAAAAAAAAAAAAAAABAgABAAAAAQAAAAAAAAAAAAAAAAAAAAEBAAAAAgAAAAAAAAAAAAAAAAACAQAAAgAAAAAAAAAAAAAAAAAAAAADAAAAAAAAAAAAAAAAAAAAAAAAAAEAAAAAAAAAAQAAAAAAAAAAAAAABAAAAAABAAAAAQAAAAAAAAAAAQICAAABAQAAAAAACwIAAAAAAAAAAAAAAAAAAAAAAAACAAAAAAAAAAABAAAAAAAAAAAAAAEAAQAAAAAAAAAAAAAAAAAAAAAAAAAABQAAAAAAAAIAAAEAAAAAAAAAAAAAAAAAAAAAAQAAAAAAAAAAAAAAAAAAAAAAAQABAAAAAAAAAAAAAAAAAAAAAwAAAQAAAAIAAAAAAAAAAAAAAAAAAQAAAQAAAQAAAAEAAAAAAAAAAAAABgAHAAAAAAIAAAAAAQAAAAAAAAAALQ==",
          "dtype": "i1",
          "shape": "20, 20"
         }
        }
       ],
       "layout": {
        "annotations": [
         {
          "font": {
           "color": "#FFFFFF"
          },
          "showarrow": false,
          "text": "41",
          "x": "Unknown",
          "xref": "x",
          "y": "Unknown",
          "yref": "y"
         },
         {
          "font": {
           "color": "#000000"
          },
          "showarrow": false,
          "text": "3",
          "x": "african gospel",
          "xref": "x",
          "y": "Unknown",
          "yref": "y"
         },
         {
          "font": {
           "color": "#000000"
          },
          "showarrow": false,
          "text": "0",
          "x": "afro adura",
          "xref": "x",
          "y": "Unknown",
          "yref": "y"
         },
         {
          "font": {
           "color": "#000000"
          },
          "showarrow": false,
          "text": "5",
          "x": "afrobeats",
          "xref": "x",
          "y": "Unknown",
          "yref": "y"
         },
         {
          "font": {
           "color": "#000000"
          },
          "showarrow": false,
          "text": "0",
          "x": "amapiano",
          "xref": "x",
          "y": "Unknown",
          "yref": "y"
         },
         {
          "font": {
           "color": "#000000"
          },
          "showarrow": false,
          "text": "1",
          "x": "christian",
          "xref": "x",
          "y": "Unknown",
          "yref": "y"
         },
         {
          "font": {
           "color": "#000000"
          },
          "showarrow": false,
          "text": "0",
          "x": "country",
          "xref": "x",
          "y": "Unknown",
          "yref": "y"
         },
         {
          "font": {
           "color": "#000000"
          },
          "showarrow": false,
          "text": "3",
          "x": "edm",
          "xref": "x",
          "y": "Unknown",
          "yref": "y"
         },
         {
          "font": {
           "color": "#000000"
          },
          "showarrow": false,
          "text": "1",
          "x": "egyptian pop",
          "xref": "x",
          "y": "Unknown",
          "yref": "y"
         },
         {
          "font": {
           "color": "#000000"
          },
          "showarrow": false,
          "text": "2",
          "x": "gospel",
          "xref": "x",
          "y": "Unknown",
          "yref": "y"
         },
         {
          "font": {
           "color": "#000000"
          },
          "showarrow": false,
          "text": "1",
          "x": "lo-fi",
          "xref": "x",
          "y": "Unknown",
          "yref": "y"
         },
         {
          "font": {
           "color": "#000000"
          },
          "showarrow": false,
          "text": "0",
          "x": "lo-fi beats",
          "xref": "x",
          "y": "Unknown",
          "yref": "y"
         },
         {
          "font": {
           "color": "#000000"
          },
          "showarrow": false,
          "text": "0",
          "x": "lo-fi hip hop",
          "xref": "x",
          "y": "Unknown",
          "yref": "y"
         },
         {
          "font": {
           "color": "#000000"
          },
          "showarrow": false,
          "text": "0",
          "x": "new age",
          "xref": "x",
          "y": "Unknown",
          "yref": "y"
         },
         {
          "font": {
           "color": "#000000"
          },
          "showarrow": false,
          "text": "0",
          "x": "rap",
          "xref": "x",
          "y": "Unknown",
          "yref": "y"
         },
         {
          "font": {
           "color": "#000000"
          },
          "showarrow": false,
          "text": "0",
          "x": "reggaeton",
          "xref": "x",
          "y": "Unknown",
          "yref": "y"
         },
         {
          "font": {
           "color": "#000000"
          },
          "showarrow": false,
          "text": "0",
          "x": "soft pop",
          "xref": "x",
          "y": "Unknown",
          "yref": "y"
         },
         {
          "font": {
           "color": "#000000"
          },
          "showarrow": false,
          "text": "0",
          "x": "traditional music",
          "xref": "x",
          "y": "Unknown",
          "yref": "y"
         },
         {
          "font": {
           "color": "#000000"
          },
          "showarrow": false,
          "text": "1",
          "x": "uk drill",
          "xref": "x",
          "y": "Unknown",
          "yref": "y"
         },
         {
          "font": {
           "color": "#000000"
          },
          "showarrow": false,
          "text": "5",
          "x": "worship",
          "xref": "x",
          "y": "Unknown",
          "yref": "y"
         },
         {
          "font": {
           "color": "#000000"
          },
          "showarrow": false,
          "text": "1",
          "x": "Unknown",
          "xref": "x",
          "y": "african gospel",
          "yref": "y"
         },
         {
          "font": {
           "color": "#000000"
          },
          "showarrow": false,
          "text": "5",
          "x": "african gospel",
          "xref": "x",
          "y": "african gospel",
          "yref": "y"
         },
         {
          "font": {
           "color": "#000000"
          },
          "showarrow": false,
          "text": "0",
          "x": "afro adura",
          "xref": "x",
          "y": "african gospel",
          "yref": "y"
         },
         {
          "font": {
           "color": "#000000"
          },
          "showarrow": false,
          "text": "2",
          "x": "afrobeats",
          "xref": "x",
          "y": "african gospel",
          "yref": "y"
         },
         {
          "font": {
           "color": "#000000"
          },
          "showarrow": false,
          "text": "0",
          "x": "amapiano",
          "xref": "x",
          "y": "african gospel",
          "yref": "y"
         },
         {
          "font": {
           "color": "#000000"
          },
          "showarrow": false,
          "text": "0",
          "x": "christian",
          "xref": "x",
          "y": "african gospel",
          "yref": "y"
         },
         {
          "font": {
           "color": "#000000"
          },
          "showarrow": false,
          "text": "0",
          "x": "country",
          "xref": "x",
          "y": "african gospel",
          "yref": "y"
         },
         {
          "font": {
           "color": "#000000"
          },
          "showarrow": false,
          "text": "0",
          "x": "edm",
          "xref": "x",
          "y": "african gospel",
          "yref": "y"
         },
         {
          "font": {
           "color": "#000000"
          },
          "showarrow": false,
          "text": "0",
          "x": "egyptian pop",
          "xref": "x",
          "y": "african gospel",
          "yref": "y"
         },
         {
          "font": {
           "color": "#000000"
          },
          "showarrow": false,
          "text": "0",
          "x": "gospel",
          "xref": "x",
          "y": "african gospel",
          "yref": "y"
         },
         {
          "font": {
           "color": "#000000"
          },
          "showarrow": false,
          "text": "0",
          "x": "lo-fi",
          "xref": "x",
          "y": "african gospel",
          "yref": "y"
         },
         {
          "font": {
           "color": "#000000"
          },
          "showarrow": false,
          "text": "0",
          "x": "lo-fi beats",
          "xref": "x",
          "y": "african gospel",
          "yref": "y"
         },
         {
          "font": {
           "color": "#000000"
          },
          "showarrow": false,
          "text": "0",
          "x": "lo-fi hip hop",
          "xref": "x",
          "y": "african gospel",
          "yref": "y"
         },
         {
          "font": {
           "color": "#000000"
          },
          "showarrow": false,
          "text": "0",
          "x": "new age",
          "xref": "x",
          "y": "african gospel",
          "yref": "y"
         },
         {
          "font": {
           "color": "#000000"
          },
          "showarrow": false,
          "text": "0",
          "x": "rap",
          "xref": "x",
          "y": "african gospel",
          "yref": "y"
         },
         {
          "font": {
           "color": "#000000"
          },
          "showarrow": false,
          "text": "0",
          "x": "reggaeton",
          "xref": "x",
          "y": "african gospel",
          "yref": "y"
         },
         {
          "font": {
           "color": "#000000"
          },
          "showarrow": false,
          "text": "0",
          "x": "soft pop",
          "xref": "x",
          "y": "african gospel",
          "yref": "y"
         },
         {
          "font": {
           "color": "#000000"
          },
          "showarrow": false,
          "text": "0",
          "x": "traditional music",
          "xref": "x",
          "y": "african gospel",
          "yref": "y"
         },
         {
          "font": {
           "color": "#000000"
          },
          "showarrow": false,
          "text": "0",
          "x": "uk drill",
          "xref": "x",
          "y": "african gospel",
          "yref": "y"
         },
         {
          "font": {
           "color": "#000000"
          },
          "showarrow": false,
          "text": "2",
          "x": "worship",
          "xref": "x",
          "y": "african gospel",
          "yref": "y"
         },
         {
          "font": {
           "color": "#000000"
          },
          "showarrow": false,
          "text": "0",
          "x": "Unknown",
          "xref": "x",
          "y": "afro adura",
          "yref": "y"
         },
         {
          "font": {
           "color": "#000000"
          },
          "showarrow": false,
          "text": "1",
          "x": "african gospel",
          "xref": "x",
          "y": "afro adura",
          "yref": "y"
         },
         {
          "font": {
           "color": "#000000"
          },
          "showarrow": false,
          "text": "0",
          "x": "afro adura",
          "xref": "x",
          "y": "afro adura",
          "yref": "y"
         },
         {
          "font": {
           "color": "#000000"
          },
          "showarrow": false,
          "text": "0",
          "x": "afrobeats",
          "xref": "x",
          "y": "afro adura",
          "yref": "y"
         },
         {
          "font": {
           "color": "#000000"
          },
          "showarrow": false,
          "text": "0",
          "x": "amapiano",
          "xref": "x",
          "y": "afro adura",
          "yref": "y"
         },
         {
          "font": {
           "color": "#000000"
          },
          "showarrow": false,
          "text": "0",
          "x": "christian",
          "xref": "x",
          "y": "afro adura",
          "yref": "y"
         },
         {
          "font": {
           "color": "#000000"
          },
          "showarrow": false,
          "text": "0",
          "x": "country",
          "xref": "x",
          "y": "afro adura",
          "yref": "y"
         },
         {
          "font": {
           "color": "#000000"
          },
          "showarrow": false,
          "text": "0",
          "x": "edm",
          "xref": "x",
          "y": "afro adura",
          "yref": "y"
         },
         {
          "font": {
           "color": "#000000"
          },
          "showarrow": false,
          "text": "0",
          "x": "egyptian pop",
          "xref": "x",
          "y": "afro adura",
          "yref": "y"
         },
         {
          "font": {
           "color": "#000000"
          },
          "showarrow": false,
          "text": "0",
          "x": "gospel",
          "xref": "x",
          "y": "afro adura",
          "yref": "y"
         },
         {
          "font": {
           "color": "#000000"
          },
          "showarrow": false,
          "text": "0",
          "x": "lo-fi",
          "xref": "x",
          "y": "afro adura",
          "yref": "y"
         },
         {
          "font": {
           "color": "#000000"
          },
          "showarrow": false,
          "text": "0",
          "x": "lo-fi beats",
          "xref": "x",
          "y": "afro adura",
          "yref": "y"
         },
         {
          "font": {
           "color": "#000000"
          },
          "showarrow": false,
          "text": "0",
          "x": "lo-fi hip hop",
          "xref": "x",
          "y": "afro adura",
          "yref": "y"
         },
         {
          "font": {
           "color": "#000000"
          },
          "showarrow": false,
          "text": "0",
          "x": "new age",
          "xref": "x",
          "y": "afro adura",
          "yref": "y"
         },
         {
          "font": {
           "color": "#000000"
          },
          "showarrow": false,
          "text": "0",
          "x": "rap",
          "xref": "x",
          "y": "afro adura",
          "yref": "y"
         },
         {
          "font": {
           "color": "#000000"
          },
          "showarrow": false,
          "text": "0",
          "x": "reggaeton",
          "xref": "x",
          "y": "afro adura",
          "yref": "y"
         },
         {
          "font": {
           "color": "#000000"
          },
          "showarrow": false,
          "text": "0",
          "x": "soft pop",
          "xref": "x",
          "y": "afro adura",
          "yref": "y"
         },
         {
          "font": {
           "color": "#000000"
          },
          "showarrow": false,
          "text": "0",
          "x": "traditional music",
          "xref": "x",
          "y": "afro adura",
          "yref": "y"
         },
         {
          "font": {
           "color": "#000000"
          },
          "showarrow": false,
          "text": "0",
          "x": "uk drill",
          "xref": "x",
          "y": "afro adura",
          "yref": "y"
         },
         {
          "font": {
           "color": "#000000"
          },
          "showarrow": false,
          "text": "0",
          "x": "worship",
          "xref": "x",
          "y": "afro adura",
          "yref": "y"
         },
         {
          "font": {
           "color": "#000000"
          },
          "showarrow": false,
          "text": "5",
          "x": "Unknown",
          "xref": "x",
          "y": "afrobeats",
          "yref": "y"
         },
         {
          "font": {
           "color": "#000000"
          },
          "showarrow": false,
          "text": "1",
          "x": "african gospel",
          "xref": "x",
          "y": "afrobeats",
          "yref": "y"
         },
         {
          "font": {
           "color": "#000000"
          },
          "showarrow": false,
          "text": "0",
          "x": "afro adura",
          "xref": "x",
          "y": "afrobeats",
          "yref": "y"
         },
         {
          "font": {
           "color": "#FFFFFF"
          },
          "showarrow": false,
          "text": "29",
          "x": "afrobeats",
          "xref": "x",
          "y": "afrobeats",
          "yref": "y"
         },
         {
          "font": {
           "color": "#000000"
          },
          "showarrow": false,
          "text": "1",
          "x": "amapiano",
          "xref": "x",
          "y": "afrobeats",
          "yref": "y"
         },
         {
          "font": {
           "color": "#000000"
          },
          "showarrow": false,
          "text": "0",
          "x": "christian",
          "xref": "x",
          "y": "afrobeats",
          "yref": "y"
         },
         {
          "font": {
           "color": "#000000"
          },
          "showarrow": false,
          "text": "0",
          "x": "country",
          "xref": "x",
          "y": "afrobeats",
          "yref": "y"
         },
         {
          "font": {
           "color": "#000000"
          },
          "showarrow": false,
          "text": "0",
          "x": "edm",
          "xref": "x",
          "y": "afrobeats",
          "yref": "y"
         },
         {
          "font": {
           "color": "#000000"
          },
          "showarrow": false,
          "text": "0",
          "x": "egyptian pop",
          "xref": "x",
          "y": "afrobeats",
          "yref": "y"
         },
         {
          "font": {
           "color": "#000000"
          },
          "showarrow": false,
          "text": "0",
          "x": "gospel",
          "xref": "x",
          "y": "afrobeats",
          "yref": "y"
         },
         {
          "font": {
           "color": "#000000"
          },
          "showarrow": false,
          "text": "0",
          "x": "lo-fi",
          "xref": "x",
          "y": "afrobeats",
          "yref": "y"
         },
         {
          "font": {
           "color": "#000000"
          },
          "showarrow": false,
          "text": "0",
          "x": "lo-fi beats",
          "xref": "x",
          "y": "afrobeats",
          "yref": "y"
         },
         {
          "font": {
           "color": "#000000"
          },
          "showarrow": false,
          "text": "0",
          "x": "lo-fi hip hop",
          "xref": "x",
          "y": "afrobeats",
          "yref": "y"
         },
         {
          "font": {
           "color": "#000000"
          },
          "showarrow": false,
          "text": "0",
          "x": "new age",
          "xref": "x",
          "y": "afrobeats",
          "yref": "y"
         },
         {
          "font": {
           "color": "#000000"
          },
          "showarrow": false,
          "text": "0",
          "x": "rap",
          "xref": "x",
          "y": "afrobeats",
          "yref": "y"
         },
         {
          "font": {
           "color": "#000000"
          },
          "showarrow": false,
          "text": "0",
          "x": "reggaeton",
          "xref": "x",
          "y": "afrobeats",
          "yref": "y"
         },
         {
          "font": {
           "color": "#000000"
          },
          "showarrow": false,
          "text": "0",
          "x": "soft pop",
          "xref": "x",
          "y": "afrobeats",
          "yref": "y"
         },
         {
          "font": {
           "color": "#000000"
          },
          "showarrow": false,
          "text": "1",
          "x": "traditional music",
          "xref": "x",
          "y": "afrobeats",
          "yref": "y"
         },
         {
          "font": {
           "color": "#000000"
          },
          "showarrow": false,
          "text": "2",
          "x": "uk drill",
          "xref": "x",
          "y": "afrobeats",
          "yref": "y"
         },
         {
          "font": {
           "color": "#000000"
          },
          "showarrow": false,
          "text": "0",
          "x": "worship",
          "xref": "x",
          "y": "afrobeats",
          "yref": "y"
         },
         {
          "font": {
           "color": "#000000"
          },
          "showarrow": false,
          "text": "1",
          "x": "Unknown",
          "xref": "x",
          "y": "amapiano",
          "yref": "y"
         },
         {
          "font": {
           "color": "#000000"
          },
          "showarrow": false,
          "text": "0",
          "x": "african gospel",
          "xref": "x",
          "y": "amapiano",
          "yref": "y"
         },
         {
          "font": {
           "color": "#000000"
          },
          "showarrow": false,
          "text": "0",
          "x": "afro adura",
          "xref": "x",
          "y": "amapiano",
          "yref": "y"
         },
         {
          "font": {
           "color": "#000000"
          },
          "showarrow": false,
          "text": "0",
          "x": "afrobeats",
          "xref": "x",
          "y": "amapiano",
          "yref": "y"
         },
         {
          "font": {
           "color": "#000000"
          },
          "showarrow": false,
          "text": "1",
          "x": "amapiano",
          "xref": "x",
          "y": "amapiano",
          "yref": "y"
         },
         {
          "font": {
           "color": "#000000"
          },
          "showarrow": false,
          "text": "0",
          "x": "christian",
          "xref": "x",
          "y": "amapiano",
          "yref": "y"
         },
         {
          "font": {
           "color": "#000000"
          },
          "showarrow": false,
          "text": "0",
          "x": "country",
          "xref": "x",
          "y": "amapiano",
          "yref": "y"
         },
         {
          "font": {
           "color": "#000000"
          },
          "showarrow": false,
          "text": "0",
          "x": "edm",
          "xref": "x",
          "y": "amapiano",
          "yref": "y"
         },
         {
          "font": {
           "color": "#000000"
          },
          "showarrow": false,
          "text": "0",
          "x": "egyptian pop",
          "xref": "x",
          "y": "amapiano",
          "yref": "y"
         },
         {
          "font": {
           "color": "#000000"
          },
          "showarrow": false,
          "text": "0",
          "x": "gospel",
          "xref": "x",
          "y": "amapiano",
          "yref": "y"
         },
         {
          "font": {
           "color": "#000000"
          },
          "showarrow": false,
          "text": "0",
          "x": "lo-fi",
          "xref": "x",
          "y": "amapiano",
          "yref": "y"
         },
         {
          "font": {
           "color": "#000000"
          },
          "showarrow": false,
          "text": "0",
          "x": "lo-fi beats",
          "xref": "x",
          "y": "amapiano",
          "yref": "y"
         },
         {
          "font": {
           "color": "#000000"
          },
          "showarrow": false,
          "text": "0",
          "x": "lo-fi hip hop",
          "xref": "x",
          "y": "amapiano",
          "yref": "y"
         },
         {
          "font": {
           "color": "#000000"
          },
          "showarrow": false,
          "text": "0",
          "x": "new age",
          "xref": "x",
          "y": "amapiano",
          "yref": "y"
         },
         {
          "font": {
           "color": "#000000"
          },
          "showarrow": false,
          "text": "0",
          "x": "rap",
          "xref": "x",
          "y": "amapiano",
          "yref": "y"
         },
         {
          "font": {
           "color": "#000000"
          },
          "showarrow": false,
          "text": "0",
          "x": "reggaeton",
          "xref": "x",
          "y": "amapiano",
          "yref": "y"
         },
         {
          "font": {
           "color": "#000000"
          },
          "showarrow": false,
          "text": "0",
          "x": "soft pop",
          "xref": "x",
          "y": "amapiano",
          "yref": "y"
         },
         {
          "font": {
           "color": "#000000"
          },
          "showarrow": false,
          "text": "0",
          "x": "traditional music",
          "xref": "x",
          "y": "amapiano",
          "yref": "y"
         },
         {
          "font": {
           "color": "#000000"
          },
          "showarrow": false,
          "text": "0",
          "x": "uk drill",
          "xref": "x",
          "y": "amapiano",
          "yref": "y"
         },
         {
          "font": {
           "color": "#000000"
          },
          "showarrow": false,
          "text": "0",
          "x": "worship",
          "xref": "x",
          "y": "amapiano",
          "yref": "y"
         },
         {
          "font": {
           "color": "#000000"
          },
          "showarrow": false,
          "text": "1",
          "x": "Unknown",
          "xref": "x",
          "y": "christian",
          "yref": "y"
         },
         {
          "font": {
           "color": "#000000"
          },
          "showarrow": false,
          "text": "1",
          "x": "african gospel",
          "xref": "x",
          "y": "christian",
          "yref": "y"
         },
         {
          "font": {
           "color": "#000000"
          },
          "showarrow": false,
          "text": "0",
          "x": "afro adura",
          "xref": "x",
          "y": "christian",
          "yref": "y"
         },
         {
          "font": {
           "color": "#000000"
          },
          "showarrow": false,
          "text": "0",
          "x": "afrobeats",
          "xref": "x",
          "y": "christian",
          "yref": "y"
         },
         {
          "font": {
           "color": "#000000"
          },
          "showarrow": false,
          "text": "0",
          "x": "amapiano",
          "xref": "x",
          "y": "christian",
          "yref": "y"
         },
         {
          "font": {
           "color": "#000000"
          },
          "showarrow": false,
          "text": "2",
          "x": "christian",
          "xref": "x",
          "y": "christian",
          "yref": "y"
         },
         {
          "font": {
           "color": "#000000"
          },
          "showarrow": false,
          "text": "0",
          "x": "country",
          "xref": "x",
          "y": "christian",
          "yref": "y"
         },
         {
          "font": {
           "color": "#000000"
          },
          "showarrow": false,
          "text": "0",
          "x": "edm",
          "xref": "x",
          "y": "christian",
          "yref": "y"
         },
         {
          "font": {
           "color": "#000000"
          },
          "showarrow": false,
          "text": "0",
          "x": "egyptian pop",
          "xref": "x",
          "y": "christian",
          "yref": "y"
         },
         {
          "font": {
           "color": "#000000"
          },
          "showarrow": false,
          "text": "0",
          "x": "gospel",
          "xref": "x",
          "y": "christian",
          "yref": "y"
         },
         {
          "font": {
           "color": "#000000"
          },
          "showarrow": false,
          "text": "0",
          "x": "lo-fi",
          "xref": "x",
          "y": "christian",
          "yref": "y"
         },
         {
          "font": {
           "color": "#000000"
          },
          "showarrow": false,
          "text": "0",
          "x": "lo-fi beats",
          "xref": "x",
          "y": "christian",
          "yref": "y"
         },
         {
          "font": {
           "color": "#000000"
          },
          "showarrow": false,
          "text": "0",
          "x": "lo-fi hip hop",
          "xref": "x",
          "y": "christian",
          "yref": "y"
         },
         {
          "font": {
           "color": "#000000"
          },
          "showarrow": false,
          "text": "0",
          "x": "new age",
          "xref": "x",
          "y": "christian",
          "yref": "y"
         },
         {
          "font": {
           "color": "#000000"
          },
          "showarrow": false,
          "text": "0",
          "x": "rap",
          "xref": "x",
          "y": "christian",
          "yref": "y"
         },
         {
          "font": {
           "color": "#000000"
          },
          "showarrow": false,
          "text": "0",
          "x": "reggaeton",
          "xref": "x",
          "y": "christian",
          "yref": "y"
         },
         {
          "font": {
           "color": "#000000"
          },
          "showarrow": false,
          "text": "0",
          "x": "soft pop",
          "xref": "x",
          "y": "christian",
          "yref": "y"
         },
         {
          "font": {
           "color": "#000000"
          },
          "showarrow": false,
          "text": "0",
          "x": "traditional music",
          "xref": "x",
          "y": "christian",
          "yref": "y"
         },
         {
          "font": {
           "color": "#000000"
          },
          "showarrow": false,
          "text": "0",
          "x": "uk drill",
          "xref": "x",
          "y": "christian",
          "yref": "y"
         },
         {
          "font": {
           "color": "#000000"
          },
          "showarrow": false,
          "text": "2",
          "x": "worship",
          "xref": "x",
          "y": "christian",
          "yref": "y"
         },
         {
          "font": {
           "color": "#000000"
          },
          "showarrow": false,
          "text": "1",
          "x": "Unknown",
          "xref": "x",
          "y": "country",
          "yref": "y"
         },
         {
          "font": {
           "color": "#000000"
          },
          "showarrow": false,
          "text": "0",
          "x": "african gospel",
          "xref": "x",
          "y": "country",
          "yref": "y"
         },
         {
          "font": {
           "color": "#000000"
          },
          "showarrow": false,
          "text": "0",
          "x": "afro adura",
          "xref": "x",
          "y": "country",
          "yref": "y"
         },
         {
          "font": {
           "color": "#000000"
          },
          "showarrow": false,
          "text": "2",
          "x": "afrobeats",
          "xref": "x",
          "y": "country",
          "yref": "y"
         },
         {
          "font": {
           "color": "#000000"
          },
          "showarrow": false,
          "text": "0",
          "x": "amapiano",
          "xref": "x",
          "y": "country",
          "yref": "y"
         },
         {
          "font": {
           "color": "#000000"
          },
          "showarrow": false,
          "text": "0",
          "x": "christian",
          "xref": "x",
          "y": "country",
          "yref": "y"
         },
         {
          "font": {
           "color": "#000000"
          },
          "showarrow": false,
          "text": "0",
          "x": "country",
          "xref": "x",
          "y": "country",
          "yref": "y"
         },
         {
          "font": {
           "color": "#000000"
          },
          "showarrow": false,
          "text": "0",
          "x": "edm",
          "xref": "x",
          "y": "country",
          "yref": "y"
         },
         {
          "font": {
           "color": "#000000"
          },
          "showarrow": false,
          "text": "0",
          "x": "egyptian pop",
          "xref": "x",
          "y": "country",
          "yref": "y"
         },
         {
          "font": {
           "color": "#000000"
          },
          "showarrow": false,
          "text": "0",
          "x": "gospel",
          "xref": "x",
          "y": "country",
          "yref": "y"
         },
         {
          "font": {
           "color": "#000000"
          },
          "showarrow": false,
          "text": "0",
          "x": "lo-fi",
          "xref": "x",
          "y": "country",
          "yref": "y"
         },
         {
          "font": {
           "color": "#000000"
          },
          "showarrow": false,
          "text": "0",
          "x": "lo-fi beats",
          "xref": "x",
          "y": "country",
          "yref": "y"
         },
         {
          "font": {
           "color": "#000000"
          },
          "showarrow": false,
          "text": "0",
          "x": "lo-fi hip hop",
          "xref": "x",
          "y": "country",
          "yref": "y"
         },
         {
          "font": {
           "color": "#000000"
          },
          "showarrow": false,
          "text": "0",
          "x": "new age",
          "xref": "x",
          "y": "country",
          "yref": "y"
         },
         {
          "font": {
           "color": "#000000"
          },
          "showarrow": false,
          "text": "0",
          "x": "rap",
          "xref": "x",
          "y": "country",
          "yref": "y"
         },
         {
          "font": {
           "color": "#000000"
          },
          "showarrow": false,
          "text": "0",
          "x": "reggaeton",
          "xref": "x",
          "y": "country",
          "yref": "y"
         },
         {
          "font": {
           "color": "#000000"
          },
          "showarrow": false,
          "text": "0",
          "x": "soft pop",
          "xref": "x",
          "y": "country",
          "yref": "y"
         },
         {
          "font": {
           "color": "#000000"
          },
          "showarrow": false,
          "text": "0",
          "x": "traditional music",
          "xref": "x",
          "y": "country",
          "yref": "y"
         },
         {
          "font": {
           "color": "#000000"
          },
          "showarrow": false,
          "text": "0",
          "x": "uk drill",
          "xref": "x",
          "y": "country",
          "yref": "y"
         },
         {
          "font": {
           "color": "#000000"
          },
          "showarrow": false,
          "text": "0",
          "x": "worship",
          "xref": "x",
          "y": "country",
          "yref": "y"
         },
         {
          "font": {
           "color": "#000000"
          },
          "showarrow": false,
          "text": "3",
          "x": "Unknown",
          "xref": "x",
          "y": "edm",
          "yref": "y"
         },
         {
          "font": {
           "color": "#000000"
          },
          "showarrow": false,
          "text": "0",
          "x": "african gospel",
          "xref": "x",
          "y": "edm",
          "yref": "y"
         },
         {
          "font": {
           "color": "#000000"
          },
          "showarrow": false,
          "text": "0",
          "x": "afro adura",
          "xref": "x",
          "y": "edm",
          "yref": "y"
         },
         {
          "font": {
           "color": "#000000"
          },
          "showarrow": false,
          "text": "0",
          "x": "afrobeats",
          "xref": "x",
          "y": "edm",
          "yref": "y"
         },
         {
          "font": {
           "color": "#000000"
          },
          "showarrow": false,
          "text": "0",
          "x": "amapiano",
          "xref": "x",
          "y": "edm",
          "yref": "y"
         },
         {
          "font": {
           "color": "#000000"
          },
          "showarrow": false,
          "text": "0",
          "x": "christian",
          "xref": "x",
          "y": "edm",
          "yref": "y"
         },
         {
          "font": {
           "color": "#000000"
          },
          "showarrow": false,
          "text": "0",
          "x": "country",
          "xref": "x",
          "y": "edm",
          "yref": "y"
         },
         {
          "font": {
           "color": "#000000"
          },
          "showarrow": false,
          "text": "0",
          "x": "edm",
          "xref": "x",
          "y": "edm",
          "yref": "y"
         },
         {
          "font": {
           "color": "#000000"
          },
          "showarrow": false,
          "text": "0",
          "x": "egyptian pop",
          "xref": "x",
          "y": "edm",
          "yref": "y"
         },
         {
          "font": {
           "color": "#000000"
          },
          "showarrow": false,
          "text": "0",
          "x": "gospel",
          "xref": "x",
          "y": "edm",
          "yref": "y"
         },
         {
          "font": {
           "color": "#000000"
          },
          "showarrow": false,
          "text": "0",
          "x": "lo-fi",
          "xref": "x",
          "y": "edm",
          "yref": "y"
         },
         {
          "font": {
           "color": "#000000"
          },
          "showarrow": false,
          "text": "0",
          "x": "lo-fi beats",
          "xref": "x",
          "y": "edm",
          "yref": "y"
         },
         {
          "font": {
           "color": "#000000"
          },
          "showarrow": false,
          "text": "0",
          "x": "lo-fi hip hop",
          "xref": "x",
          "y": "edm",
          "yref": "y"
         },
         {
          "font": {
           "color": "#000000"
          },
          "showarrow": false,
          "text": "0",
          "x": "new age",
          "xref": "x",
          "y": "edm",
          "yref": "y"
         },
         {
          "font": {
           "color": "#000000"
          },
          "showarrow": false,
          "text": "0",
          "x": "rap",
          "xref": "x",
          "y": "edm",
          "yref": "y"
         },
         {
          "font": {
           "color": "#000000"
          },
          "showarrow": false,
          "text": "0",
          "x": "reggaeton",
          "xref": "x",
          "y": "edm",
          "yref": "y"
         },
         {
          "font": {
           "color": "#000000"
          },
          "showarrow": false,
          "text": "0",
          "x": "soft pop",
          "xref": "x",
          "y": "edm",
          "yref": "y"
         },
         {
          "font": {
           "color": "#000000"
          },
          "showarrow": false,
          "text": "0",
          "x": "traditional music",
          "xref": "x",
          "y": "edm",
          "yref": "y"
         },
         {
          "font": {
           "color": "#000000"
          },
          "showarrow": false,
          "text": "0",
          "x": "uk drill",
          "xref": "x",
          "y": "edm",
          "yref": "y"
         },
         {
          "font": {
           "color": "#000000"
          },
          "showarrow": false,
          "text": "0",
          "x": "worship",
          "xref": "x",
          "y": "edm",
          "yref": "y"
         },
         {
          "font": {
           "color": "#000000"
          },
          "showarrow": false,
          "text": "1",
          "x": "Unknown",
          "xref": "x",
          "y": "egyptian pop",
          "yref": "y"
         },
         {
          "font": {
           "color": "#000000"
          },
          "showarrow": false,
          "text": "0",
          "x": "african gospel",
          "xref": "x",
          "y": "egyptian pop",
          "yref": "y"
         },
         {
          "font": {
           "color": "#000000"
          },
          "showarrow": false,
          "text": "0",
          "x": "afro adura",
          "xref": "x",
          "y": "egyptian pop",
          "yref": "y"
         },
         {
          "font": {
           "color": "#000000"
          },
          "showarrow": false,
          "text": "0",
          "x": "afrobeats",
          "xref": "x",
          "y": "egyptian pop",
          "yref": "y"
         },
         {
          "font": {
           "color": "#000000"
          },
          "showarrow": false,
          "text": "0",
          "x": "amapiano",
          "xref": "x",
          "y": "egyptian pop",
          "yref": "y"
         },
         {
          "font": {
           "color": "#000000"
          },
          "showarrow": false,
          "text": "0",
          "x": "christian",
          "xref": "x",
          "y": "egyptian pop",
          "yref": "y"
         },
         {
          "font": {
           "color": "#000000"
          },
          "showarrow": false,
          "text": "0",
          "x": "country",
          "xref": "x",
          "y": "egyptian pop",
          "yref": "y"
         },
         {
          "font": {
           "color": "#000000"
          },
          "showarrow": false,
          "text": "0",
          "x": "edm",
          "xref": "x",
          "y": "egyptian pop",
          "yref": "y"
         },
         {
          "font": {
           "color": "#000000"
          },
          "showarrow": false,
          "text": "1",
          "x": "egyptian pop",
          "xref": "x",
          "y": "egyptian pop",
          "yref": "y"
         },
         {
          "font": {
           "color": "#000000"
          },
          "showarrow": false,
          "text": "0",
          "x": "gospel",
          "xref": "x",
          "y": "egyptian pop",
          "yref": "y"
         },
         {
          "font": {
           "color": "#000000"
          },
          "showarrow": false,
          "text": "0",
          "x": "lo-fi",
          "xref": "x",
          "y": "egyptian pop",
          "yref": "y"
         },
         {
          "font": {
           "color": "#000000"
          },
          "showarrow": false,
          "text": "0",
          "x": "lo-fi beats",
          "xref": "x",
          "y": "egyptian pop",
          "yref": "y"
         },
         {
          "font": {
           "color": "#000000"
          },
          "showarrow": false,
          "text": "0",
          "x": "lo-fi hip hop",
          "xref": "x",
          "y": "egyptian pop",
          "yref": "y"
         },
         {
          "font": {
           "color": "#000000"
          },
          "showarrow": false,
          "text": "0",
          "x": "new age",
          "xref": "x",
          "y": "egyptian pop",
          "yref": "y"
         },
         {
          "font": {
           "color": "#000000"
          },
          "showarrow": false,
          "text": "0",
          "x": "rap",
          "xref": "x",
          "y": "egyptian pop",
          "yref": "y"
         },
         {
          "font": {
           "color": "#000000"
          },
          "showarrow": false,
          "text": "0",
          "x": "reggaeton",
          "xref": "x",
          "y": "egyptian pop",
          "yref": "y"
         },
         {
          "font": {
           "color": "#000000"
          },
          "showarrow": false,
          "text": "0",
          "x": "soft pop",
          "xref": "x",
          "y": "egyptian pop",
          "yref": "y"
         },
         {
          "font": {
           "color": "#000000"
          },
          "showarrow": false,
          "text": "0",
          "x": "traditional music",
          "xref": "x",
          "y": "egyptian pop",
          "yref": "y"
         },
         {
          "font": {
           "color": "#000000"
          },
          "showarrow": false,
          "text": "0",
          "x": "uk drill",
          "xref": "x",
          "y": "egyptian pop",
          "yref": "y"
         },
         {
          "font": {
           "color": "#000000"
          },
          "showarrow": false,
          "text": "0",
          "x": "worship",
          "xref": "x",
          "y": "egyptian pop",
          "yref": "y"
         },
         {
          "font": {
           "color": "#000000"
          },
          "showarrow": false,
          "text": "4",
          "x": "Unknown",
          "xref": "x",
          "y": "gospel",
          "yref": "y"
         },
         {
          "font": {
           "color": "#000000"
          },
          "showarrow": false,
          "text": "0",
          "x": "african gospel",
          "xref": "x",
          "y": "gospel",
          "yref": "y"
         },
         {
          "font": {
           "color": "#000000"
          },
          "showarrow": false,
          "text": "0",
          "x": "afro adura",
          "xref": "x",
          "y": "gospel",
          "yref": "y"
         },
         {
          "font": {
           "color": "#000000"
          },
          "showarrow": false,
          "text": "0",
          "x": "afrobeats",
          "xref": "x",
          "y": "gospel",
          "yref": "y"
         },
         {
          "font": {
           "color": "#000000"
          },
          "showarrow": false,
          "text": "0",
          "x": "amapiano",
          "xref": "x",
          "y": "gospel",
          "yref": "y"
         },
         {
          "font": {
           "color": "#000000"
          },
          "showarrow": false,
          "text": "1",
          "x": "christian",
          "xref": "x",
          "y": "gospel",
          "yref": "y"
         },
         {
          "font": {
           "color": "#000000"
          },
          "showarrow": false,
          "text": "0",
          "x": "country",
          "xref": "x",
          "y": "gospel",
          "yref": "y"
         },
         {
          "font": {
           "color": "#000000"
          },
          "showarrow": false,
          "text": "0",
          "x": "edm",
          "xref": "x",
          "y": "gospel",
          "yref": "y"
         },
         {
          "font": {
           "color": "#000000"
          },
          "showarrow": false,
          "text": "0",
          "x": "egyptian pop",
          "xref": "x",
          "y": "gospel",
          "yref": "y"
         },
         {
          "font": {
           "color": "#000000"
          },
          "showarrow": false,
          "text": "1",
          "x": "gospel",
          "xref": "x",
          "y": "gospel",
          "yref": "y"
         },
         {
          "font": {
           "color": "#000000"
          },
          "showarrow": false,
          "text": "0",
          "x": "lo-fi",
          "xref": "x",
          "y": "gospel",
          "yref": "y"
         },
         {
          "font": {
           "color": "#000000"
          },
          "showarrow": false,
          "text": "0",
          "x": "lo-fi beats",
          "xref": "x",
          "y": "gospel",
          "yref": "y"
         },
         {
          "font": {
           "color": "#000000"
          },
          "showarrow": false,
          "text": "0",
          "x": "lo-fi hip hop",
          "xref": "x",
          "y": "gospel",
          "yref": "y"
         },
         {
          "font": {
           "color": "#000000"
          },
          "showarrow": false,
          "text": "0",
          "x": "new age",
          "xref": "x",
          "y": "gospel",
          "yref": "y"
         },
         {
          "font": {
           "color": "#000000"
          },
          "showarrow": false,
          "text": "0",
          "x": "rap",
          "xref": "x",
          "y": "gospel",
          "yref": "y"
         },
         {
          "font": {
           "color": "#000000"
          },
          "showarrow": false,
          "text": "0",
          "x": "reggaeton",
          "xref": "x",
          "y": "gospel",
          "yref": "y"
         },
         {
          "font": {
           "color": "#000000"
          },
          "showarrow": false,
          "text": "0",
          "x": "soft pop",
          "xref": "x",
          "y": "gospel",
          "yref": "y"
         },
         {
          "font": {
           "color": "#000000"
          },
          "showarrow": false,
          "text": "0",
          "x": "traditional music",
          "xref": "x",
          "y": "gospel",
          "yref": "y"
         },
         {
          "font": {
           "color": "#000000"
          },
          "showarrow": false,
          "text": "1",
          "x": "uk drill",
          "xref": "x",
          "y": "gospel",
          "yref": "y"
         },
         {
          "font": {
           "color": "#000000"
          },
          "showarrow": false,
          "text": "2",
          "x": "worship",
          "xref": "x",
          "y": "gospel",
          "yref": "y"
         },
         {
          "font": {
           "color": "#000000"
          },
          "showarrow": false,
          "text": "2",
          "x": "Unknown",
          "xref": "x",
          "y": "lo-fi",
          "yref": "y"
         },
         {
          "font": {
           "color": "#000000"
          },
          "showarrow": false,
          "text": "0",
          "x": "african gospel",
          "xref": "x",
          "y": "lo-fi",
          "yref": "y"
         },
         {
          "font": {
           "color": "#000000"
          },
          "showarrow": false,
          "text": "0",
          "x": "afro adura",
          "xref": "x",
          "y": "lo-fi",
          "yref": "y"
         },
         {
          "font": {
           "color": "#000000"
          },
          "showarrow": false,
          "text": "1",
          "x": "afrobeats",
          "xref": "x",
          "y": "lo-fi",
          "yref": "y"
         },
         {
          "font": {
           "color": "#000000"
          },
          "showarrow": false,
          "text": "1",
          "x": "amapiano",
          "xref": "x",
          "y": "lo-fi",
          "yref": "y"
         },
         {
          "font": {
           "color": "#000000"
          },
          "showarrow": false,
          "text": "0",
          "x": "christian",
          "xref": "x",
          "y": "lo-fi",
          "yref": "y"
         },
         {
          "font": {
           "color": "#000000"
          },
          "showarrow": false,
          "text": "0",
          "x": "country",
          "xref": "x",
          "y": "lo-fi",
          "yref": "y"
         },
         {
          "font": {
           "color": "#000000"
          },
          "showarrow": false,
          "text": "0",
          "x": "edm",
          "xref": "x",
          "y": "lo-fi",
          "yref": "y"
         },
         {
          "font": {
           "color": "#000000"
          },
          "showarrow": false,
          "text": "0",
          "x": "egyptian pop",
          "xref": "x",
          "y": "lo-fi",
          "yref": "y"
         },
         {
          "font": {
           "color": "#000000"
          },
          "showarrow": false,
          "text": "0",
          "x": "gospel",
          "xref": "x",
          "y": "lo-fi",
          "yref": "y"
         },
         {
          "font": {
           "color": "#000000"
          },
          "showarrow": false,
          "text": "11",
          "x": "lo-fi",
          "xref": "x",
          "y": "lo-fi",
          "yref": "y"
         },
         {
          "font": {
           "color": "#000000"
          },
          "showarrow": false,
          "text": "2",
          "x": "lo-fi beats",
          "xref": "x",
          "y": "lo-fi",
          "yref": "y"
         },
         {
          "font": {
           "color": "#000000"
          },
          "showarrow": false,
          "text": "0",
          "x": "lo-fi hip hop",
          "xref": "x",
          "y": "lo-fi",
          "yref": "y"
         },
         {
          "font": {
           "color": "#000000"
          },
          "showarrow": false,
          "text": "0",
          "x": "new age",
          "xref": "x",
          "y": "lo-fi",
          "yref": "y"
         },
         {
          "font": {
           "color": "#000000"
          },
          "showarrow": false,
          "text": "0",
          "x": "rap",
          "xref": "x",
          "y": "lo-fi",
          "yref": "y"
         },
         {
          "font": {
           "color": "#000000"
          },
          "showarrow": false,
          "text": "0",
          "x": "reggaeton",
          "xref": "x",
          "y": "lo-fi",
          "yref": "y"
         },
         {
          "font": {
           "color": "#000000"
          },
          "showarrow": false,
          "text": "0",
          "x": "soft pop",
          "xref": "x",
          "y": "lo-fi",
          "yref": "y"
         },
         {
          "font": {
           "color": "#000000"
          },
          "showarrow": false,
          "text": "0",
          "x": "traditional music",
          "xref": "x",
          "y": "lo-fi",
          "yref": "y"
         },
         {
          "font": {
           "color": "#000000"
          },
          "showarrow": false,
          "text": "0",
          "x": "uk drill",
          "xref": "x",
          "y": "lo-fi",
          "yref": "y"
         },
         {
          "font": {
           "color": "#000000"
          },
          "showarrow": false,
          "text": "0",
          "x": "worship",
          "xref": "x",
          "y": "lo-fi",
          "yref": "y"
         },
         {
          "font": {
           "color": "#000000"
          },
          "showarrow": false,
          "text": "0",
          "x": "Unknown",
          "xref": "x",
          "y": "lo-fi beats",
          "yref": "y"
         },
         {
          "font": {
           "color": "#000000"
          },
          "showarrow": false,
          "text": "0",
          "x": "african gospel",
          "xref": "x",
          "y": "lo-fi beats",
          "yref": "y"
         },
         {
          "font": {
           "color": "#000000"
          },
          "showarrow": false,
          "text": "0",
          "x": "afro adura",
          "xref": "x",
          "y": "lo-fi beats",
          "yref": "y"
         },
         {
          "font": {
           "color": "#000000"
          },
          "showarrow": false,
          "text": "0",
          "x": "afrobeats",
          "xref": "x",
          "y": "lo-fi beats",
          "yref": "y"
         },
         {
          "font": {
           "color": "#000000"
          },
          "showarrow": false,
          "text": "0",
          "x": "amapiano",
          "xref": "x",
          "y": "lo-fi beats",
          "yref": "y"
         },
         {
          "font": {
           "color": "#000000"
          },
          "showarrow": false,
          "text": "0",
          "x": "christian",
          "xref": "x",
          "y": "lo-fi beats",
          "yref": "y"
         },
         {
          "font": {
           "color": "#000000"
          },
          "showarrow": false,
          "text": "0",
          "x": "country",
          "xref": "x",
          "y": "lo-fi beats",
          "yref": "y"
         },
         {
          "font": {
           "color": "#000000"
          },
          "showarrow": false,
          "text": "0",
          "x": "edm",
          "xref": "x",
          "y": "lo-fi beats",
          "yref": "y"
         },
         {
          "font": {
           "color": "#000000"
          },
          "showarrow": false,
          "text": "0",
          "x": "egyptian pop",
          "xref": "x",
          "y": "lo-fi beats",
          "yref": "y"
         },
         {
          "font": {
           "color": "#000000"
          },
          "showarrow": false,
          "text": "0",
          "x": "gospel",
          "xref": "x",
          "y": "lo-fi beats",
          "yref": "y"
         },
         {
          "font": {
           "color": "#000000"
          },
          "showarrow": false,
          "text": "2",
          "x": "lo-fi",
          "xref": "x",
          "y": "lo-fi beats",
          "yref": "y"
         },
         {
          "font": {
           "color": "#000000"
          },
          "showarrow": false,
          "text": "0",
          "x": "lo-fi beats",
          "xref": "x",
          "y": "lo-fi beats",
          "yref": "y"
         },
         {
          "font": {
           "color": "#000000"
          },
          "showarrow": false,
          "text": "0",
          "x": "lo-fi hip hop",
          "xref": "x",
          "y": "lo-fi beats",
          "yref": "y"
         },
         {
          "font": {
           "color": "#000000"
          },
          "showarrow": false,
          "text": "0",
          "x": "new age",
          "xref": "x",
          "y": "lo-fi beats",
          "yref": "y"
         },
         {
          "font": {
           "color": "#000000"
          },
          "showarrow": false,
          "text": "0",
          "x": "rap",
          "xref": "x",
          "y": "lo-fi beats",
          "yref": "y"
         },
         {
          "font": {
           "color": "#000000"
          },
          "showarrow": false,
          "text": "0",
          "x": "reggaeton",
          "xref": "x",
          "y": "lo-fi beats",
          "yref": "y"
         },
         {
          "font": {
           "color": "#000000"
          },
          "showarrow": false,
          "text": "0",
          "x": "soft pop",
          "xref": "x",
          "y": "lo-fi beats",
          "yref": "y"
         },
         {
          "font": {
           "color": "#000000"
          },
          "showarrow": false,
          "text": "0",
          "x": "traditional music",
          "xref": "x",
          "y": "lo-fi beats",
          "yref": "y"
         },
         {
          "font": {
           "color": "#000000"
          },
          "showarrow": false,
          "text": "0",
          "x": "uk drill",
          "xref": "x",
          "y": "lo-fi beats",
          "yref": "y"
         },
         {
          "font": {
           "color": "#000000"
          },
          "showarrow": false,
          "text": "1",
          "x": "worship",
          "xref": "x",
          "y": "lo-fi beats",
          "yref": "y"
         },
         {
          "font": {
           "color": "#000000"
          },
          "showarrow": false,
          "text": "0",
          "x": "Unknown",
          "xref": "x",
          "y": "lo-fi hip hop",
          "yref": "y"
         },
         {
          "font": {
           "color": "#000000"
          },
          "showarrow": false,
          "text": "0",
          "x": "african gospel",
          "xref": "x",
          "y": "lo-fi hip hop",
          "yref": "y"
         },
         {
          "font": {
           "color": "#000000"
          },
          "showarrow": false,
          "text": "0",
          "x": "afro adura",
          "xref": "x",
          "y": "lo-fi hip hop",
          "yref": "y"
         },
         {
          "font": {
           "color": "#000000"
          },
          "showarrow": false,
          "text": "0",
          "x": "afrobeats",
          "xref": "x",
          "y": "lo-fi hip hop",
          "yref": "y"
         },
         {
          "font": {
           "color": "#000000"
          },
          "showarrow": false,
          "text": "0",
          "x": "amapiano",
          "xref": "x",
          "y": "lo-fi hip hop",
          "yref": "y"
         },
         {
          "font": {
           "color": "#000000"
          },
          "showarrow": false,
          "text": "0",
          "x": "christian",
          "xref": "x",
          "y": "lo-fi hip hop",
          "yref": "y"
         },
         {
          "font": {
           "color": "#000000"
          },
          "showarrow": false,
          "text": "0",
          "x": "country",
          "xref": "x",
          "y": "lo-fi hip hop",
          "yref": "y"
         },
         {
          "font": {
           "color": "#000000"
          },
          "showarrow": false,
          "text": "0",
          "x": "edm",
          "xref": "x",
          "y": "lo-fi hip hop",
          "yref": "y"
         },
         {
          "font": {
           "color": "#000000"
          },
          "showarrow": false,
          "text": "0",
          "x": "egyptian pop",
          "xref": "x",
          "y": "lo-fi hip hop",
          "yref": "y"
         },
         {
          "font": {
           "color": "#000000"
          },
          "showarrow": false,
          "text": "0",
          "x": "gospel",
          "xref": "x",
          "y": "lo-fi hip hop",
          "yref": "y"
         },
         {
          "font": {
           "color": "#000000"
          },
          "showarrow": false,
          "text": "1",
          "x": "lo-fi",
          "xref": "x",
          "y": "lo-fi hip hop",
          "yref": "y"
         },
         {
          "font": {
           "color": "#000000"
          },
          "showarrow": false,
          "text": "0",
          "x": "lo-fi beats",
          "xref": "x",
          "y": "lo-fi hip hop",
          "yref": "y"
         },
         {
          "font": {
           "color": "#000000"
          },
          "showarrow": false,
          "text": "1",
          "x": "lo-fi hip hop",
          "xref": "x",
          "y": "lo-fi hip hop",
          "yref": "y"
         },
         {
          "font": {
           "color": "#000000"
          },
          "showarrow": false,
          "text": "0",
          "x": "new age",
          "xref": "x",
          "y": "lo-fi hip hop",
          "yref": "y"
         },
         {
          "font": {
           "color": "#000000"
          },
          "showarrow": false,
          "text": "0",
          "x": "rap",
          "xref": "x",
          "y": "lo-fi hip hop",
          "yref": "y"
         },
         {
          "font": {
           "color": "#000000"
          },
          "showarrow": false,
          "text": "0",
          "x": "reggaeton",
          "xref": "x",
          "y": "lo-fi hip hop",
          "yref": "y"
         },
         {
          "font": {
           "color": "#000000"
          },
          "showarrow": false,
          "text": "0",
          "x": "soft pop",
          "xref": "x",
          "y": "lo-fi hip hop",
          "yref": "y"
         },
         {
          "font": {
           "color": "#000000"
          },
          "showarrow": false,
          "text": "0",
          "x": "traditional music",
          "xref": "x",
          "y": "lo-fi hip hop",
          "yref": "y"
         },
         {
          "font": {
           "color": "#000000"
          },
          "showarrow": false,
          "text": "0",
          "x": "uk drill",
          "xref": "x",
          "y": "lo-fi hip hop",
          "yref": "y"
         },
         {
          "font": {
           "color": "#000000"
          },
          "showarrow": false,
          "text": "0",
          "x": "worship",
          "xref": "x",
          "y": "lo-fi hip hop",
          "yref": "y"
         },
         {
          "font": {
           "color": "#000000"
          },
          "showarrow": false,
          "text": "0",
          "x": "Unknown",
          "xref": "x",
          "y": "new age",
          "yref": "y"
         },
         {
          "font": {
           "color": "#000000"
          },
          "showarrow": false,
          "text": "0",
          "x": "african gospel",
          "xref": "x",
          "y": "new age",
          "yref": "y"
         },
         {
          "font": {
           "color": "#000000"
          },
          "showarrow": false,
          "text": "0",
          "x": "afro adura",
          "xref": "x",
          "y": "new age",
          "yref": "y"
         },
         {
          "font": {
           "color": "#000000"
          },
          "showarrow": false,
          "text": "0",
          "x": "afrobeats",
          "xref": "x",
          "y": "new age",
          "yref": "y"
         },
         {
          "font": {
           "color": "#000000"
          },
          "showarrow": false,
          "text": "0",
          "x": "amapiano",
          "xref": "x",
          "y": "new age",
          "yref": "y"
         },
         {
          "font": {
           "color": "#000000"
          },
          "showarrow": false,
          "text": "0",
          "x": "christian",
          "xref": "x",
          "y": "new age",
          "yref": "y"
         },
         {
          "font": {
           "color": "#000000"
          },
          "showarrow": false,
          "text": "0",
          "x": "country",
          "xref": "x",
          "y": "new age",
          "yref": "y"
         },
         {
          "font": {
           "color": "#000000"
          },
          "showarrow": false,
          "text": "0",
          "x": "edm",
          "xref": "x",
          "y": "new age",
          "yref": "y"
         },
         {
          "font": {
           "color": "#000000"
          },
          "showarrow": false,
          "text": "0",
          "x": "egyptian pop",
          "xref": "x",
          "y": "new age",
          "yref": "y"
         },
         {
          "font": {
           "color": "#000000"
          },
          "showarrow": false,
          "text": "0",
          "x": "gospel",
          "xref": "x",
          "y": "new age",
          "yref": "y"
         },
         {
          "font": {
           "color": "#000000"
          },
          "showarrow": false,
          "text": "0",
          "x": "lo-fi",
          "xref": "x",
          "y": "new age",
          "yref": "y"
         },
         {
          "font": {
           "color": "#000000"
          },
          "showarrow": false,
          "text": "0",
          "x": "lo-fi beats",
          "xref": "x",
          "y": "new age",
          "yref": "y"
         },
         {
          "font": {
           "color": "#000000"
          },
          "showarrow": false,
          "text": "0",
          "x": "lo-fi hip hop",
          "xref": "x",
          "y": "new age",
          "yref": "y"
         },
         {
          "font": {
           "color": "#000000"
          },
          "showarrow": false,
          "text": "5",
          "x": "new age",
          "xref": "x",
          "y": "new age",
          "yref": "y"
         },
         {
          "font": {
           "color": "#000000"
          },
          "showarrow": false,
          "text": "0",
          "x": "rap",
          "xref": "x",
          "y": "new age",
          "yref": "y"
         },
         {
          "font": {
           "color": "#000000"
          },
          "showarrow": false,
          "text": "0",
          "x": "reggaeton",
          "xref": "x",
          "y": "new age",
          "yref": "y"
         },
         {
          "font": {
           "color": "#000000"
          },
          "showarrow": false,
          "text": "0",
          "x": "soft pop",
          "xref": "x",
          "y": "new age",
          "yref": "y"
         },
         {
          "font": {
           "color": "#000000"
          },
          "showarrow": false,
          "text": "0",
          "x": "traditional music",
          "xref": "x",
          "y": "new age",
          "yref": "y"
         },
         {
          "font": {
           "color": "#000000"
          },
          "showarrow": false,
          "text": "0",
          "x": "uk drill",
          "xref": "x",
          "y": "new age",
          "yref": "y"
         },
         {
          "font": {
           "color": "#000000"
          },
          "showarrow": false,
          "text": "0",
          "x": "worship",
          "xref": "x",
          "y": "new age",
          "yref": "y"
         },
         {
          "font": {
           "color": "#000000"
          },
          "showarrow": false,
          "text": "2",
          "x": "Unknown",
          "xref": "x",
          "y": "rap",
          "yref": "y"
         },
         {
          "font": {
           "color": "#000000"
          },
          "showarrow": false,
          "text": "0",
          "x": "african gospel",
          "xref": "x",
          "y": "rap",
          "yref": "y"
         },
         {
          "font": {
           "color": "#000000"
          },
          "showarrow": false,
          "text": "0",
          "x": "afro adura",
          "xref": "x",
          "y": "rap",
          "yref": "y"
         },
         {
          "font": {
           "color": "#000000"
          },
          "showarrow": false,
          "text": "1",
          "x": "afrobeats",
          "xref": "x",
          "y": "rap",
          "yref": "y"
         },
         {
          "font": {
           "color": "#000000"
          },
          "showarrow": false,
          "text": "0",
          "x": "amapiano",
          "xref": "x",
          "y": "rap",
          "yref": "y"
         },
         {
          "font": {
           "color": "#000000"
          },
          "showarrow": false,
          "text": "0",
          "x": "christian",
          "xref": "x",
          "y": "rap",
          "yref": "y"
         },
         {
          "font": {
           "color": "#000000"
          },
          "showarrow": false,
          "text": "0",
          "x": "country",
          "xref": "x",
          "y": "rap",
          "yref": "y"
         },
         {
          "font": {
           "color": "#000000"
          },
          "showarrow": false,
          "text": "0",
          "x": "edm",
          "xref": "x",
          "y": "rap",
          "yref": "y"
         },
         {
          "font": {
           "color": "#000000"
          },
          "showarrow": false,
          "text": "0",
          "x": "egyptian pop",
          "xref": "x",
          "y": "rap",
          "yref": "y"
         },
         {
          "font": {
           "color": "#000000"
          },
          "showarrow": false,
          "text": "0",
          "x": "gospel",
          "xref": "x",
          "y": "rap",
          "yref": "y"
         },
         {
          "font": {
           "color": "#000000"
          },
          "showarrow": false,
          "text": "0",
          "x": "lo-fi",
          "xref": "x",
          "y": "rap",
          "yref": "y"
         },
         {
          "font": {
           "color": "#000000"
          },
          "showarrow": false,
          "text": "0",
          "x": "lo-fi beats",
          "xref": "x",
          "y": "rap",
          "yref": "y"
         },
         {
          "font": {
           "color": "#000000"
          },
          "showarrow": false,
          "text": "0",
          "x": "lo-fi hip hop",
          "xref": "x",
          "y": "rap",
          "yref": "y"
         },
         {
          "font": {
           "color": "#000000"
          },
          "showarrow": false,
          "text": "0",
          "x": "new age",
          "xref": "x",
          "y": "rap",
          "yref": "y"
         },
         {
          "font": {
           "color": "#000000"
          },
          "showarrow": false,
          "text": "0",
          "x": "rap",
          "xref": "x",
          "y": "rap",
          "yref": "y"
         },
         {
          "font": {
           "color": "#000000"
          },
          "showarrow": false,
          "text": "0",
          "x": "reggaeton",
          "xref": "x",
          "y": "rap",
          "yref": "y"
         },
         {
          "font": {
           "color": "#000000"
          },
          "showarrow": false,
          "text": "0",
          "x": "soft pop",
          "xref": "x",
          "y": "rap",
          "yref": "y"
         },
         {
          "font": {
           "color": "#000000"
          },
          "showarrow": false,
          "text": "0",
          "x": "traditional music",
          "xref": "x",
          "y": "rap",
          "yref": "y"
         },
         {
          "font": {
           "color": "#000000"
          },
          "showarrow": false,
          "text": "0",
          "x": "uk drill",
          "xref": "x",
          "y": "rap",
          "yref": "y"
         },
         {
          "font": {
           "color": "#000000"
          },
          "showarrow": false,
          "text": "0",
          "x": "worship",
          "xref": "x",
          "y": "rap",
          "yref": "y"
         },
         {
          "font": {
           "color": "#000000"
          },
          "showarrow": false,
          "text": "1",
          "x": "Unknown",
          "xref": "x",
          "y": "reggaeton",
          "yref": "y"
         },
         {
          "font": {
           "color": "#000000"
          },
          "showarrow": false,
          "text": "0",
          "x": "african gospel",
          "xref": "x",
          "y": "reggaeton",
          "yref": "y"
         },
         {
          "font": {
           "color": "#000000"
          },
          "showarrow": false,
          "text": "0",
          "x": "afro adura",
          "xref": "x",
          "y": "reggaeton",
          "yref": "y"
         },
         {
          "font": {
           "color": "#000000"
          },
          "showarrow": false,
          "text": "0",
          "x": "afrobeats",
          "xref": "x",
          "y": "reggaeton",
          "yref": "y"
         },
         {
          "font": {
           "color": "#000000"
          },
          "showarrow": false,
          "text": "0",
          "x": "amapiano",
          "xref": "x",
          "y": "reggaeton",
          "yref": "y"
         },
         {
          "font": {
           "color": "#000000"
          },
          "showarrow": false,
          "text": "0",
          "x": "christian",
          "xref": "x",
          "y": "reggaeton",
          "yref": "y"
         },
         {
          "font": {
           "color": "#000000"
          },
          "showarrow": false,
          "text": "0",
          "x": "country",
          "xref": "x",
          "y": "reggaeton",
          "yref": "y"
         },
         {
          "font": {
           "color": "#000000"
          },
          "showarrow": false,
          "text": "0",
          "x": "edm",
          "xref": "x",
          "y": "reggaeton",
          "yref": "y"
         },
         {
          "font": {
           "color": "#000000"
          },
          "showarrow": false,
          "text": "0",
          "x": "egyptian pop",
          "xref": "x",
          "y": "reggaeton",
          "yref": "y"
         },
         {
          "font": {
           "color": "#000000"
          },
          "showarrow": false,
          "text": "0",
          "x": "gospel",
          "xref": "x",
          "y": "reggaeton",
          "yref": "y"
         },
         {
          "font": {
           "color": "#000000"
          },
          "showarrow": false,
          "text": "0",
          "x": "lo-fi",
          "xref": "x",
          "y": "reggaeton",
          "yref": "y"
         },
         {
          "font": {
           "color": "#000000"
          },
          "showarrow": false,
          "text": "0",
          "x": "lo-fi beats",
          "xref": "x",
          "y": "reggaeton",
          "yref": "y"
         },
         {
          "font": {
           "color": "#000000"
          },
          "showarrow": false,
          "text": "0",
          "x": "lo-fi hip hop",
          "xref": "x",
          "y": "reggaeton",
          "yref": "y"
         },
         {
          "font": {
           "color": "#000000"
          },
          "showarrow": false,
          "text": "0",
          "x": "new age",
          "xref": "x",
          "y": "reggaeton",
          "yref": "y"
         },
         {
          "font": {
           "color": "#000000"
          },
          "showarrow": false,
          "text": "0",
          "x": "rap",
          "xref": "x",
          "y": "reggaeton",
          "yref": "y"
         },
         {
          "font": {
           "color": "#000000"
          },
          "showarrow": false,
          "text": "0",
          "x": "reggaeton",
          "xref": "x",
          "y": "reggaeton",
          "yref": "y"
         },
         {
          "font": {
           "color": "#000000"
          },
          "showarrow": false,
          "text": "0",
          "x": "soft pop",
          "xref": "x",
          "y": "reggaeton",
          "yref": "y"
         },
         {
          "font": {
           "color": "#000000"
          },
          "showarrow": false,
          "text": "0",
          "x": "traditional music",
          "xref": "x",
          "y": "reggaeton",
          "yref": "y"
         },
         {
          "font": {
           "color": "#000000"
          },
          "showarrow": false,
          "text": "1",
          "x": "uk drill",
          "xref": "x",
          "y": "reggaeton",
          "yref": "y"
         },
         {
          "font": {
           "color": "#000000"
          },
          "showarrow": false,
          "text": "0",
          "x": "worship",
          "xref": "x",
          "y": "reggaeton",
          "yref": "y"
         },
         {
          "font": {
           "color": "#000000"
          },
          "showarrow": false,
          "text": "1",
          "x": "Unknown",
          "xref": "x",
          "y": "soft pop",
          "yref": "y"
         },
         {
          "font": {
           "color": "#000000"
          },
          "showarrow": false,
          "text": "0",
          "x": "african gospel",
          "xref": "x",
          "y": "soft pop",
          "yref": "y"
         },
         {
          "font": {
           "color": "#000000"
          },
          "showarrow": false,
          "text": "0",
          "x": "afro adura",
          "xref": "x",
          "y": "soft pop",
          "yref": "y"
         },
         {
          "font": {
           "color": "#000000"
          },
          "showarrow": false,
          "text": "0",
          "x": "afrobeats",
          "xref": "x",
          "y": "soft pop",
          "yref": "y"
         },
         {
          "font": {
           "color": "#000000"
          },
          "showarrow": false,
          "text": "0",
          "x": "amapiano",
          "xref": "x",
          "y": "soft pop",
          "yref": "y"
         },
         {
          "font": {
           "color": "#000000"
          },
          "showarrow": false,
          "text": "0",
          "x": "christian",
          "xref": "x",
          "y": "soft pop",
          "yref": "y"
         },
         {
          "font": {
           "color": "#000000"
          },
          "showarrow": false,
          "text": "0",
          "x": "country",
          "xref": "x",
          "y": "soft pop",
          "yref": "y"
         },
         {
          "font": {
           "color": "#000000"
          },
          "showarrow": false,
          "text": "0",
          "x": "edm",
          "xref": "x",
          "y": "soft pop",
          "yref": "y"
         },
         {
          "font": {
           "color": "#000000"
          },
          "showarrow": false,
          "text": "0",
          "x": "egyptian pop",
          "xref": "x",
          "y": "soft pop",
          "yref": "y"
         },
         {
          "font": {
           "color": "#000000"
          },
          "showarrow": false,
          "text": "0",
          "x": "gospel",
          "xref": "x",
          "y": "soft pop",
          "yref": "y"
         },
         {
          "font": {
           "color": "#000000"
          },
          "showarrow": false,
          "text": "0",
          "x": "lo-fi",
          "xref": "x",
          "y": "soft pop",
          "yref": "y"
         },
         {
          "font": {
           "color": "#000000"
          },
          "showarrow": false,
          "text": "0",
          "x": "lo-fi beats",
          "xref": "x",
          "y": "soft pop",
          "yref": "y"
         },
         {
          "font": {
           "color": "#000000"
          },
          "showarrow": false,
          "text": "0",
          "x": "lo-fi hip hop",
          "xref": "x",
          "y": "soft pop",
          "yref": "y"
         },
         {
          "font": {
           "color": "#000000"
          },
          "showarrow": false,
          "text": "0",
          "x": "new age",
          "xref": "x",
          "y": "soft pop",
          "yref": "y"
         },
         {
          "font": {
           "color": "#000000"
          },
          "showarrow": false,
          "text": "0",
          "x": "rap",
          "xref": "x",
          "y": "soft pop",
          "yref": "y"
         },
         {
          "font": {
           "color": "#000000"
          },
          "showarrow": false,
          "text": "0",
          "x": "reggaeton",
          "xref": "x",
          "y": "soft pop",
          "yref": "y"
         },
         {
          "font": {
           "color": "#000000"
          },
          "showarrow": false,
          "text": "3",
          "x": "soft pop",
          "xref": "x",
          "y": "soft pop",
          "yref": "y"
         },
         {
          "font": {
           "color": "#000000"
          },
          "showarrow": false,
          "text": "0",
          "x": "traditional music",
          "xref": "x",
          "y": "soft pop",
          "yref": "y"
         },
         {
          "font": {
           "color": "#000000"
          },
          "showarrow": false,
          "text": "0",
          "x": "uk drill",
          "xref": "x",
          "y": "soft pop",
          "yref": "y"
         },
         {
          "font": {
           "color": "#000000"
          },
          "showarrow": false,
          "text": "1",
          "x": "worship",
          "xref": "x",
          "y": "soft pop",
          "yref": "y"
         },
         {
          "font": {
           "color": "#000000"
          },
          "showarrow": false,
          "text": "0",
          "x": "Unknown",
          "xref": "x",
          "y": "traditional music",
          "yref": "y"
         },
         {
          "font": {
           "color": "#000000"
          },
          "showarrow": false,
          "text": "0",
          "x": "african gospel",
          "xref": "x",
          "y": "traditional music",
          "yref": "y"
         },
         {
          "font": {
           "color": "#000000"
          },
          "showarrow": false,
          "text": "0",
          "x": "afro adura",
          "xref": "x",
          "y": "traditional music",
          "yref": "y"
         },
         {
          "font": {
           "color": "#000000"
          },
          "showarrow": false,
          "text": "2",
          "x": "afrobeats",
          "xref": "x",
          "y": "traditional music",
          "yref": "y"
         },
         {
          "font": {
           "color": "#000000"
          },
          "showarrow": false,
          "text": "0",
          "x": "amapiano",
          "xref": "x",
          "y": "traditional music",
          "yref": "y"
         },
         {
          "font": {
           "color": "#000000"
          },
          "showarrow": false,
          "text": "0",
          "x": "christian",
          "xref": "x",
          "y": "traditional music",
          "yref": "y"
         },
         {
          "font": {
           "color": "#000000"
          },
          "showarrow": false,
          "text": "0",
          "x": "country",
          "xref": "x",
          "y": "traditional music",
          "yref": "y"
         },
         {
          "font": {
           "color": "#000000"
          },
          "showarrow": false,
          "text": "0",
          "x": "edm",
          "xref": "x",
          "y": "traditional music",
          "yref": "y"
         },
         {
          "font": {
           "color": "#000000"
          },
          "showarrow": false,
          "text": "0",
          "x": "egyptian pop",
          "xref": "x",
          "y": "traditional music",
          "yref": "y"
         },
         {
          "font": {
           "color": "#000000"
          },
          "showarrow": false,
          "text": "0",
          "x": "gospel",
          "xref": "x",
          "y": "traditional music",
          "yref": "y"
         },
         {
          "font": {
           "color": "#000000"
          },
          "showarrow": false,
          "text": "0",
          "x": "lo-fi",
          "xref": "x",
          "y": "traditional music",
          "yref": "y"
         },
         {
          "font": {
           "color": "#000000"
          },
          "showarrow": false,
          "text": "0",
          "x": "lo-fi beats",
          "xref": "x",
          "y": "traditional music",
          "yref": "y"
         },
         {
          "font": {
           "color": "#000000"
          },
          "showarrow": false,
          "text": "0",
          "x": "lo-fi hip hop",
          "xref": "x",
          "y": "traditional music",
          "yref": "y"
         },
         {
          "font": {
           "color": "#000000"
          },
          "showarrow": false,
          "text": "0",
          "x": "new age",
          "xref": "x",
          "y": "traditional music",
          "yref": "y"
         },
         {
          "font": {
           "color": "#000000"
          },
          "showarrow": false,
          "text": "0",
          "x": "rap",
          "xref": "x",
          "y": "traditional music",
          "yref": "y"
         },
         {
          "font": {
           "color": "#000000"
          },
          "showarrow": false,
          "text": "0",
          "x": "reggaeton",
          "xref": "x",
          "y": "traditional music",
          "yref": "y"
         },
         {
          "font": {
           "color": "#000000"
          },
          "showarrow": false,
          "text": "0",
          "x": "soft pop",
          "xref": "x",
          "y": "traditional music",
          "yref": "y"
         },
         {
          "font": {
           "color": "#000000"
          },
          "showarrow": false,
          "text": "1",
          "x": "traditional music",
          "xref": "x",
          "y": "traditional music",
          "yref": "y"
         },
         {
          "font": {
           "color": "#000000"
          },
          "showarrow": false,
          "text": "0",
          "x": "uk drill",
          "xref": "x",
          "y": "traditional music",
          "yref": "y"
         },
         {
          "font": {
           "color": "#000000"
          },
          "showarrow": false,
          "text": "0",
          "x": "worship",
          "xref": "x",
          "y": "traditional music",
          "yref": "y"
         },
         {
          "font": {
           "color": "#000000"
          },
          "showarrow": false,
          "text": "1",
          "x": "Unknown",
          "xref": "x",
          "y": "uk drill",
          "yref": "y"
         },
         {
          "font": {
           "color": "#000000"
          },
          "showarrow": false,
          "text": "0",
          "x": "african gospel",
          "xref": "x",
          "y": "uk drill",
          "yref": "y"
         },
         {
          "font": {
           "color": "#000000"
          },
          "showarrow": false,
          "text": "0",
          "x": "afro adura",
          "xref": "x",
          "y": "uk drill",
          "yref": "y"
         },
         {
          "font": {
           "color": "#000000"
          },
          "showarrow": false,
          "text": "1",
          "x": "afrobeats",
          "xref": "x",
          "y": "uk drill",
          "yref": "y"
         },
         {
          "font": {
           "color": "#000000"
          },
          "showarrow": false,
          "text": "0",
          "x": "amapiano",
          "xref": "x",
          "y": "uk drill",
          "yref": "y"
         },
         {
          "font": {
           "color": "#000000"
          },
          "showarrow": false,
          "text": "0",
          "x": "christian",
          "xref": "x",
          "y": "uk drill",
          "yref": "y"
         },
         {
          "font": {
           "color": "#000000"
          },
          "showarrow": false,
          "text": "0",
          "x": "country",
          "xref": "x",
          "y": "uk drill",
          "yref": "y"
         },
         {
          "font": {
           "color": "#000000"
          },
          "showarrow": false,
          "text": "1",
          "x": "edm",
          "xref": "x",
          "y": "uk drill",
          "yref": "y"
         },
         {
          "font": {
           "color": "#000000"
          },
          "showarrow": false,
          "text": "0",
          "x": "egyptian pop",
          "xref": "x",
          "y": "uk drill",
          "yref": "y"
         },
         {
          "font": {
           "color": "#000000"
          },
          "showarrow": false,
          "text": "0",
          "x": "gospel",
          "xref": "x",
          "y": "uk drill",
          "yref": "y"
         },
         {
          "font": {
           "color": "#000000"
          },
          "showarrow": false,
          "text": "0",
          "x": "lo-fi",
          "xref": "x",
          "y": "uk drill",
          "yref": "y"
         },
         {
          "font": {
           "color": "#000000"
          },
          "showarrow": false,
          "text": "0",
          "x": "lo-fi beats",
          "xref": "x",
          "y": "uk drill",
          "yref": "y"
         },
         {
          "font": {
           "color": "#000000"
          },
          "showarrow": false,
          "text": "0",
          "x": "lo-fi hip hop",
          "xref": "x",
          "y": "uk drill",
          "yref": "y"
         },
         {
          "font": {
           "color": "#000000"
          },
          "showarrow": false,
          "text": "0",
          "x": "new age",
          "xref": "x",
          "y": "uk drill",
          "yref": "y"
         },
         {
          "font": {
           "color": "#000000"
          },
          "showarrow": false,
          "text": "0",
          "x": "rap",
          "xref": "x",
          "y": "uk drill",
          "yref": "y"
         },
         {
          "font": {
           "color": "#000000"
          },
          "showarrow": false,
          "text": "0",
          "x": "reggaeton",
          "xref": "x",
          "y": "uk drill",
          "yref": "y"
         },
         {
          "font": {
           "color": "#000000"
          },
          "showarrow": false,
          "text": "0",
          "x": "soft pop",
          "xref": "x",
          "y": "uk drill",
          "yref": "y"
         },
         {
          "font": {
           "color": "#000000"
          },
          "showarrow": false,
          "text": "0",
          "x": "traditional music",
          "xref": "x",
          "y": "uk drill",
          "yref": "y"
         },
         {
          "font": {
           "color": "#000000"
          },
          "showarrow": false,
          "text": "6",
          "x": "uk drill",
          "xref": "x",
          "y": "uk drill",
          "yref": "y"
         },
         {
          "font": {
           "color": "#000000"
          },
          "showarrow": false,
          "text": "0",
          "x": "worship",
          "xref": "x",
          "y": "uk drill",
          "yref": "y"
         },
         {
          "font": {
           "color": "#000000"
          },
          "showarrow": false,
          "text": "7",
          "x": "Unknown",
          "xref": "x",
          "y": "worship",
          "yref": "y"
         },
         {
          "font": {
           "color": "#000000"
          },
          "showarrow": false,
          "text": "0",
          "x": "african gospel",
          "xref": "x",
          "y": "worship",
          "yref": "y"
         },
         {
          "font": {
           "color": "#000000"
          },
          "showarrow": false,
          "text": "0",
          "x": "afro adura",
          "xref": "x",
          "y": "worship",
          "yref": "y"
         },
         {
          "font": {
           "color": "#000000"
          },
          "showarrow": false,
          "text": "0",
          "x": "afrobeats",
          "xref": "x",
          "y": "worship",
          "yref": "y"
         },
         {
          "font": {
           "color": "#000000"
          },
          "showarrow": false,
          "text": "0",
          "x": "amapiano",
          "xref": "x",
          "y": "worship",
          "yref": "y"
         },
         {
          "font": {
           "color": "#000000"
          },
          "showarrow": false,
          "text": "2",
          "x": "christian",
          "xref": "x",
          "y": "worship",
          "yref": "y"
         },
         {
          "font": {
           "color": "#000000"
          },
          "showarrow": false,
          "text": "0",
          "x": "country",
          "xref": "x",
          "y": "worship",
          "yref": "y"
         },
         {
          "font": {
           "color": "#000000"
          },
          "showarrow": false,
          "text": "0",
          "x": "edm",
          "xref": "x",
          "y": "worship",
          "yref": "y"
         },
         {
          "font": {
           "color": "#000000"
          },
          "showarrow": false,
          "text": "0",
          "x": "egyptian pop",
          "xref": "x",
          "y": "worship",
          "yref": "y"
         },
         {
          "font": {
           "color": "#000000"
          },
          "showarrow": false,
          "text": "0",
          "x": "gospel",
          "xref": "x",
          "y": "worship",
          "yref": "y"
         },
         {
          "font": {
           "color": "#000000"
          },
          "showarrow": false,
          "text": "1",
          "x": "lo-fi",
          "xref": "x",
          "y": "worship",
          "yref": "y"
         },
         {
          "font": {
           "color": "#000000"
          },
          "showarrow": false,
          "text": "0",
          "x": "lo-fi beats",
          "xref": "x",
          "y": "worship",
          "yref": "y"
         },
         {
          "font": {
           "color": "#000000"
          },
          "showarrow": false,
          "text": "0",
          "x": "lo-fi hip hop",
          "xref": "x",
          "y": "worship",
          "yref": "y"
         },
         {
          "font": {
           "color": "#000000"
          },
          "showarrow": false,
          "text": "0",
          "x": "new age",
          "xref": "x",
          "y": "worship",
          "yref": "y"
         },
         {
          "font": {
           "color": "#000000"
          },
          "showarrow": false,
          "text": "0",
          "x": "rap",
          "xref": "x",
          "y": "worship",
          "yref": "y"
         },
         {
          "font": {
           "color": "#000000"
          },
          "showarrow": false,
          "text": "0",
          "x": "reggaeton",
          "xref": "x",
          "y": "worship",
          "yref": "y"
         },
         {
          "font": {
           "color": "#000000"
          },
          "showarrow": false,
          "text": "0",
          "x": "soft pop",
          "xref": "x",
          "y": "worship",
          "yref": "y"
         },
         {
          "font": {
           "color": "#000000"
          },
          "showarrow": false,
          "text": "0",
          "x": "traditional music",
          "xref": "x",
          "y": "worship",
          "yref": "y"
         },
         {
          "font": {
           "color": "#000000"
          },
          "showarrow": false,
          "text": "0",
          "x": "uk drill",
          "xref": "x",
          "y": "worship",
          "yref": "y"
         },
         {
          "font": {
           "color": "#FFFFFF"
          },
          "showarrow": false,
          "text": "45",
          "x": "worship",
          "xref": "x",
          "y": "worship",
          "yref": "y"
         }
        ],
        "height": 800,
        "template": {
         "data": {
          "bar": [
           {
            "error_x": {
             "color": "#2a3f5f"
            },
            "error_y": {
             "color": "#2a3f5f"
            },
            "marker": {
             "line": {
              "color": "#E5ECF6",
              "width": 0.5
             },
             "pattern": {
              "fillmode": "overlay",
              "size": 10,
              "solidity": 0.2
             }
            },
            "type": "bar"
           }
          ],
          "barpolar": [
           {
            "marker": {
             "line": {
              "color": "#E5ECF6",
              "width": 0.5
             },
             "pattern": {
              "fillmode": "overlay",
              "size": 10,
              "solidity": 0.2
             }
            },
            "type": "barpolar"
           }
          ],
          "carpet": [
           {
            "aaxis": {
             "endlinecolor": "#2a3f5f",
             "gridcolor": "white",
             "linecolor": "white",
             "minorgridcolor": "white",
             "startlinecolor": "#2a3f5f"
            },
            "baxis": {
             "endlinecolor": "#2a3f5f",
             "gridcolor": "white",
             "linecolor": "white",
             "minorgridcolor": "white",
             "startlinecolor": "#2a3f5f"
            },
            "type": "carpet"
           }
          ],
          "choropleth": [
           {
            "colorbar": {
             "outlinewidth": 0,
             "ticks": ""
            },
            "type": "choropleth"
           }
          ],
          "contour": [
           {
            "colorbar": {
             "outlinewidth": 0,
             "ticks": ""
            },
            "colorscale": [
             [
              0,
              "#0d0887"
             ],
             [
              0.1111111111111111,
              "#46039f"
             ],
             [
              0.2222222222222222,
              "#7201a8"
             ],
             [
              0.3333333333333333,
              "#9c179e"
             ],
             [
              0.4444444444444444,
              "#bd3786"
             ],
             [
              0.5555555555555556,
              "#d8576b"
             ],
             [
              0.6666666666666666,
              "#ed7953"
             ],
             [
              0.7777777777777778,
              "#fb9f3a"
             ],
             [
              0.8888888888888888,
              "#fdca26"
             ],
             [
              1,
              "#f0f921"
             ]
            ],
            "type": "contour"
           }
          ],
          "contourcarpet": [
           {
            "colorbar": {
             "outlinewidth": 0,
             "ticks": ""
            },
            "type": "contourcarpet"
           }
          ],
          "heatmap": [
           {
            "colorbar": {
             "outlinewidth": 0,
             "ticks": ""
            },
            "colorscale": [
             [
              0,
              "#0d0887"
             ],
             [
              0.1111111111111111,
              "#46039f"
             ],
             [
              0.2222222222222222,
              "#7201a8"
             ],
             [
              0.3333333333333333,
              "#9c179e"
             ],
             [
              0.4444444444444444,
              "#bd3786"
             ],
             [
              0.5555555555555556,
              "#d8576b"
             ],
             [
              0.6666666666666666,
              "#ed7953"
             ],
             [
              0.7777777777777778,
              "#fb9f3a"
             ],
             [
              0.8888888888888888,
              "#fdca26"
             ],
             [
              1,
              "#f0f921"
             ]
            ],
            "type": "heatmap"
           }
          ],
          "histogram": [
           {
            "marker": {
             "pattern": {
              "fillmode": "overlay",
              "size": 10,
              "solidity": 0.2
             }
            },
            "type": "histogram"
           }
          ],
          "histogram2d": [
           {
            "colorbar": {
             "outlinewidth": 0,
             "ticks": ""
            },
            "colorscale": [
             [
              0,
              "#0d0887"
             ],
             [
              0.1111111111111111,
              "#46039f"
             ],
             [
              0.2222222222222222,
              "#7201a8"
             ],
             [
              0.3333333333333333,
              "#9c179e"
             ],
             [
              0.4444444444444444,
              "#bd3786"
             ],
             [
              0.5555555555555556,
              "#d8576b"
             ],
             [
              0.6666666666666666,
              "#ed7953"
             ],
             [
              0.7777777777777778,
              "#fb9f3a"
             ],
             [
              0.8888888888888888,
              "#fdca26"
             ],
             [
              1,
              "#f0f921"
             ]
            ],
            "type": "histogram2d"
           }
          ],
          "histogram2dcontour": [
           {
            "colorbar": {
             "outlinewidth": 0,
             "ticks": ""
            },
            "colorscale": [
             [
              0,
              "#0d0887"
             ],
             [
              0.1111111111111111,
              "#46039f"
             ],
             [
              0.2222222222222222,
              "#7201a8"
             ],
             [
              0.3333333333333333,
              "#9c179e"
             ],
             [
              0.4444444444444444,
              "#bd3786"
             ],
             [
              0.5555555555555556,
              "#d8576b"
             ],
             [
              0.6666666666666666,
              "#ed7953"
             ],
             [
              0.7777777777777778,
              "#fb9f3a"
             ],
             [
              0.8888888888888888,
              "#fdca26"
             ],
             [
              1,
              "#f0f921"
             ]
            ],
            "type": "histogram2dcontour"
           }
          ],
          "mesh3d": [
           {
            "colorbar": {
             "outlinewidth": 0,
             "ticks": ""
            },
            "type": "mesh3d"
           }
          ],
          "parcoords": [
           {
            "line": {
             "colorbar": {
              "outlinewidth": 0,
              "ticks": ""
             }
            },
            "type": "parcoords"
           }
          ],
          "pie": [
           {
            "automargin": true,
            "type": "pie"
           }
          ],
          "scatter": [
           {
            "fillpattern": {
             "fillmode": "overlay",
             "size": 10,
             "solidity": 0.2
            },
            "type": "scatter"
           }
          ],
          "scatter3d": [
           {
            "line": {
             "colorbar": {
              "outlinewidth": 0,
              "ticks": ""
             }
            },
            "marker": {
             "colorbar": {
              "outlinewidth": 0,
              "ticks": ""
             }
            },
            "type": "scatter3d"
           }
          ],
          "scattercarpet": [
           {
            "marker": {
             "colorbar": {
              "outlinewidth": 0,
              "ticks": ""
             }
            },
            "type": "scattercarpet"
           }
          ],
          "scattergeo": [
           {
            "marker": {
             "colorbar": {
              "outlinewidth": 0,
              "ticks": ""
             }
            },
            "type": "scattergeo"
           }
          ],
          "scattergl": [
           {
            "marker": {
             "colorbar": {
              "outlinewidth": 0,
              "ticks": ""
             }
            },
            "type": "scattergl"
           }
          ],
          "scattermap": [
           {
            "marker": {
             "colorbar": {
              "outlinewidth": 0,
              "ticks": ""
             }
            },
            "type": "scattermap"
           }
          ],
          "scattermapbox": [
           {
            "marker": {
             "colorbar": {
              "outlinewidth": 0,
              "ticks": ""
             }
            },
            "type": "scattermapbox"
           }
          ],
          "scatterpolar": [
           {
            "marker": {
             "colorbar": {
              "outlinewidth": 0,
              "ticks": ""
             }
            },
            "type": "scatterpolar"
           }
          ],
          "scatterpolargl": [
           {
            "marker": {
             "colorbar": {
              "outlinewidth": 0,
              "ticks": ""
             }
            },
            "type": "scatterpolargl"
           }
          ],
          "scatterternary": [
           {
            "marker": {
             "colorbar": {
              "outlinewidth": 0,
              "ticks": ""
             }
            },
            "type": "scatterternary"
           }
          ],
          "surface": [
           {
            "colorbar": {
             "outlinewidth": 0,
             "ticks": ""
            },
            "colorscale": [
             [
              0,
              "#0d0887"
             ],
             [
              0.1111111111111111,
              "#46039f"
             ],
             [
              0.2222222222222222,
              "#7201a8"
             ],
             [
              0.3333333333333333,
              "#9c179e"
             ],
             [
              0.4444444444444444,
              "#bd3786"
             ],
             [
              0.5555555555555556,
              "#d8576b"
             ],
             [
              0.6666666666666666,
              "#ed7953"
             ],
             [
              0.7777777777777778,
              "#fb9f3a"
             ],
             [
              0.8888888888888888,
              "#fdca26"
             ],
             [
              1,
              "#f0f921"
             ]
            ],
            "type": "surface"
           }
          ],
          "table": [
           {
            "cells": {
             "fill": {
              "color": "#EBF0F8"
             },
             "line": {
              "color": "white"
             }
            },
            "header": {
             "fill": {
              "color": "#C8D4E3"
             },
             "line": {
              "color": "white"
             }
            },
            "type": "table"
           }
          ]
         },
         "layout": {
          "annotationdefaults": {
           "arrowcolor": "#2a3f5f",
           "arrowhead": 0,
           "arrowwidth": 1
          },
          "autotypenumbers": "strict",
          "coloraxis": {
           "colorbar": {
            "outlinewidth": 0,
            "ticks": ""
           }
          },
          "colorscale": {
           "diverging": [
            [
             0,
             "#8e0152"
            ],
            [
             0.1,
             "#c51b7d"
            ],
            [
             0.2,
             "#de77ae"
            ],
            [
             0.3,
             "#f1b6da"
            ],
            [
             0.4,
             "#fde0ef"
            ],
            [
             0.5,
             "#f7f7f7"
            ],
            [
             0.6,
             "#e6f5d0"
            ],
            [
             0.7,
             "#b8e186"
            ],
            [
             0.8,
             "#7fbc41"
            ],
            [
             0.9,
             "#4d9221"
            ],
            [
             1,
             "#276419"
            ]
           ],
           "sequential": [
            [
             0,
             "#0d0887"
            ],
            [
             0.1111111111111111,
             "#46039f"
            ],
            [
             0.2222222222222222,
             "#7201a8"
            ],
            [
             0.3333333333333333,
             "#9c179e"
            ],
            [
             0.4444444444444444,
             "#bd3786"
            ],
            [
             0.5555555555555556,
             "#d8576b"
            ],
            [
             0.6666666666666666,
             "#ed7953"
            ],
            [
             0.7777777777777778,
             "#fb9f3a"
            ],
            [
             0.8888888888888888,
             "#fdca26"
            ],
            [
             1,
             "#f0f921"
            ]
           ],
           "sequentialminus": [
            [
             0,
             "#0d0887"
            ],
            [
             0.1111111111111111,
             "#46039f"
            ],
            [
             0.2222222222222222,
             "#7201a8"
            ],
            [
             0.3333333333333333,
             "#9c179e"
            ],
            [
             0.4444444444444444,
             "#bd3786"
            ],
            [
             0.5555555555555556,
             "#d8576b"
            ],
            [
             0.6666666666666666,
             "#ed7953"
            ],
            [
             0.7777777777777778,
             "#fb9f3a"
            ],
            [
             0.8888888888888888,
             "#fdca26"
            ],
            [
             1,
             "#f0f921"
            ]
           ]
          },
          "colorway": [
           "#636efa",
           "#EF553B",
           "#00cc96",
           "#ab63fa",
           "#FFA15A",
           "#19d3f3",
           "#FF6692",
           "#B6E880",
           "#FF97FF",
           "#FECB52"
          ],
          "font": {
           "color": "#2a3f5f"
          },
          "geo": {
           "bgcolor": "white",
           "lakecolor": "white",
           "landcolor": "#E5ECF6",
           "showlakes": true,
           "showland": true,
           "subunitcolor": "white"
          },
          "hoverlabel": {
           "align": "left"
          },
          "hovermode": "closest",
          "mapbox": {
           "style": "light"
          },
          "paper_bgcolor": "white",
          "plot_bgcolor": "#E5ECF6",
          "polar": {
           "angularaxis": {
            "gridcolor": "white",
            "linecolor": "white",
            "ticks": ""
           },
           "bgcolor": "#E5ECF6",
           "radialaxis": {
            "gridcolor": "white",
            "linecolor": "white",
            "ticks": ""
           }
          },
          "scene": {
           "xaxis": {
            "backgroundcolor": "#E5ECF6",
            "gridcolor": "white",
            "gridwidth": 2,
            "linecolor": "white",
            "showbackground": true,
            "ticks": "",
            "zerolinecolor": "white"
           },
           "yaxis": {
            "backgroundcolor": "#E5ECF6",
            "gridcolor": "white",
            "gridwidth": 2,
            "linecolor": "white",
            "showbackground": true,
            "ticks": "",
            "zerolinecolor": "white"
           },
           "zaxis": {
            "backgroundcolor": "#E5ECF6",
            "gridcolor": "white",
            "gridwidth": 2,
            "linecolor": "white",
            "showbackground": true,
            "ticks": "",
            "zerolinecolor": "white"
           }
          },
          "shapedefaults": {
           "line": {
            "color": "#2a3f5f"
           }
          },
          "ternary": {
           "aaxis": {
            "gridcolor": "white",
            "linecolor": "white",
            "ticks": ""
           },
           "baxis": {
            "gridcolor": "white",
            "linecolor": "white",
            "ticks": ""
           },
           "bgcolor": "#E5ECF6",
           "caxis": {
            "gridcolor": "white",
            "linecolor": "white",
            "ticks": ""
           }
          },
          "title": {
           "x": 0.05
          },
          "xaxis": {
           "automargin": true,
           "gridcolor": "white",
           "linecolor": "white",
           "ticks": "",
           "title": {
            "standoff": 15
           },
           "zerolinecolor": "white",
           "zerolinewidth": 2
          },
          "yaxis": {
           "automargin": true,
           "gridcolor": "white",
           "linecolor": "white",
           "ticks": "",
           "title": {
            "standoff": 15
           },
           "zerolinecolor": "white",
           "zerolinewidth": 2
          }
         }
        },
        "title": {
         "text": "<b>Confusion Matrix</b><br><i>Predicted vs. Actual Genre</i>"
        },
        "width": 800,
        "xaxis": {
         "dtick": 1,
         "gridcolor": "rgb(0, 0, 0)",
         "side": "top",
         "tickangle": -45,
         "ticks": "",
         "title": {
          "text": "Predicted Label"
         }
        },
        "yaxis": {
         "dtick": 1,
         "ticks": "",
         "ticksuffix": "  ",
         "title": {
          "text": "Actual Label"
         }
        }
       }
      }
     },
     "metadata": {},
     "output_type": "display_data"
    }
   ],
   "source": [
    "from sklearn.metrics import classification_report, confusion_matrix\n",
    "import plotly.figure_factory as ff\n",
    "\n",
    "# Initialize and train the final model on the entire training set\n",
    "final_model = LogisticRegression(max_iter=1000, random_state=42)\n",
    "print(\"Training the final Logistic Regression model on the full training dataset...\")\n",
    "final_model.fit(X_train_scaled, y_train)\n",
    "print(\"✓ Model training complete.\")\n",
    "\n",
    "# Make predictions on the test set\n",
    "print(\"\\nMaking predictions on the unseen test set...\")\n",
    "y_pred = final_model.predict(X_test_scaled)\n",
    "print(\"✓ Predictions complete.\")\n",
    "\n",
    "# Get the original genre names for the report\n",
    "target_names = label_encoder.classes_\n",
    "\n",
    "# Generate and print the classification report\n",
    "print(\"\\n======================================================================\")\n",
    "print(\"FINAL MODEL EVALUATION: CLASSIFICATION REPORT\")\n",
    "print(\"======================================================================\")\n",
    "report = classification_report(y_test, y_pred, target_names=target_names, zero_division=0)\n",
    "print(report)\n",
    "\n",
    "\n",
    "# Generate and display the confusion matrix\n",
    "print(\"\\n======================================================================\")\n",
    "print(\"FINAL MODEL EVALUATION: CONFUSION MATRIX\")\n",
    "print(\"======================================================================\")\n",
    "\n",
    "# Create the matrix\n",
    "cm = confusion_matrix(y_test, y_pred)\n",
    "\n",
    "# The label encoder gives us the original string labels in order\n",
    "x_labels = target_names\n",
    "y_labels = target_names\n",
    "\n",
    "# Create the heatmap figure\n",
    "fig = ff.create_annotated_heatmap(\n",
    "    z=cm,\n",
    "    x=list(x_labels),\n",
    "    y=list(y_labels),\n",
    "    colorscale='Blues',\n",
    "    showscale=True\n",
    ")\n",
    "\n",
    "# Add titles and labels\n",
    "fig.update_layout(\n",
    "    title_text='<b>Confusion Matrix</b><br><i>Predicted vs. Actual Genre</i>',\n",
    "    xaxis_title='Predicted Label',\n",
    "    yaxis_title='Actual Label',\n",
    "    xaxis=dict(tickangle=-45),\n",
    "    width=800,\n",
    "    height=800\n",
    ")\n",
    "\n",
    "fig.show()"
   ]
  },
  {
   "cell_type": "markdown",
   "id": "d018fed9",
   "metadata": {},
   "source": [
    "---\n",
    "## Section 7: Conclusion and Interpretation"
   ]
  },
  {
   "cell_type": "markdown",
   "id": "b35ad6bb",
   "metadata": {},
   "source": [
    "This final section summarizes the project's findings, interprets the performance of our final model, and discusses potential avenues for future work.\n",
    "\n",
    "### 7.1 Interpretation of Results\n",
    "\n",
    "The final evaluation of our chosen model, **Logistic Regression**, provides several key insights:\n",
    "\n",
    "-   **Overall Performance**: The model achieved an **accuracy of 63%** and a **weighted average F1-score of 0.61** on the unseen test set. This demonstrates a moderate but meaningful ability to predict a song's genre from its audio features, confirming that the features contain a significant amount of genre-specific information.\n",
    "\n",
    "-   **Performance on Well-Represented Genres**: The model performed exceptionally well for genres with a large number of samples. For instance:\n",
    "    -   `worship`: F1-score of 0.80\n",
    "    -   `afrobeats`: F1-score of 0.71\n",
    "    -   `soft pop`: F1-score of 0.75\n",
    "    -   `new age`: F1-score of 1.00 (perfectly classified)\n",
    "    This indicates that with sufficient data, the model can effectively learn the distinct audio signatures of different genres.\n",
    "\n",
    "-   **Challenges with Imbalanced Data**: The model's primary weakness was its performance on genres with very few samples (e.g., `country`, `edm`, `rap`, `reggaeton`), where it scored an F1-score of 0.00. The confusion matrix shows that the model tends to misclassify these rare genres as more dominant ones like `Unknown` or `worship`. This is a classic outcome when dealing with a highly imbalanced dataset.\n",
    "\n",
    "### 7.2 Project Conclusion\n",
    "\n",
    "This project successfully built an end-to-end machine learning pipeline to classify music genres. We demonstrated that a collection of 348 audio features can predict genre with reasonable success, particularly for well-represented classes. The **Logistic Regression** model emerged as the most effective, providing a good balance of performance and simplicity.\n",
    "\n",
    "The most significant limitation identified was the **severe class imbalance** in the dataset, which hindered the model's ability to learn the patterns of rare genres.\n",
    "\n",
    "### 7.3 Future Work\n",
    "\n",
    "To build upon this project, the following steps could be taken:\n",
    "\n",
    "1.  **Address Class Imbalance**:\n",
    "    *   **Collect More Data**: The most effective solution would be to gather more song samples for the under-represented genres.\n",
    "    *   **Use Advanced Sampling Techniques**: Implement methods like **SMOTE (Synthetic Minority Over-sampling Technique)** to generate synthetic samples for the minority classes, helping the model learn their characteristics better.\n",
    "\n",
    "2.  **Hyperparameter Tuning**: Conduct a more thorough hyperparameter search (e.g., using `GridSearchCV` or `RandomizedSearchCV`) to find the optimal settings for the models, which could yield a significant performance boost.\n",
    "\n",
    "3.  **Explore Advanced Models**: Experiment with more complex, non-linear models like **Deep Neural Networks (DNNs)** or **Convolutional Neural Networks (CNNs)** applied to spectrogram images, which might capture more subtle and hierarchical patterns in the audio.\n",
    "\n",
    "4.  **Feature Importance Analysis**: Investigate the coefficients of the trained Logistic Regression model to identify which of the 348 audio features were the most influential in predicting genre. This would provide deeper insights into the audio characteristics that define different musical styles."
   ]
  }
 ],
 "metadata": {
  "kernelspec": {
   "display_name": ".venv",
   "language": "python",
   "name": "python3"
  },
  "language_info": {
   "codemirror_mode": {
    "name": "ipython",
    "version": 3
   },
   "file_extension": ".py",
   "mimetype": "text/x-python",
   "name": "python",
   "nbconvert_exporter": "python",
   "pygments_lexer": "ipython3",
   "version": "3.9.6"
  }
 },
 "nbformat": 4,
 "nbformat_minor": 5
}
