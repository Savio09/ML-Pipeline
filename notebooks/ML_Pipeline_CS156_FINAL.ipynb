{
 "cells": [
  {
   "cell_type": "markdown",
   "id": "21847d2f",
   "metadata": {},
   "source": [
    "# Machine Learning Pipeline: Personal Spotify Streaming History Analysis\n",
    "\n",
    "**Student:** F. Declan  \n",
    "**Course:** CS156 - Machine Learning  \n",
    "**Date:** October 19, 2025  \n",
    "**Institution:** Harvey Mudd College"
   ]
  },
  {
   "cell_type": "markdown",
   "id": "b37df3e5",
   "metadata": {},
   "source": [
    "---\n",
    "\n",
    "## Section 1: Data Explanation\n",
    "\n",
    "### 1.1 Dataset Overview\n",
    "\n",
    "This project analyzes my personal Spotify streaming history spanning from 2023 to early 2025. The dataset represents a comprehensive digital archive of my music listening behavior, obtained directly from Spotify through their GDPR-compliant data download feature available in user privacy settings.\n",
    "\n",
    "### 1.2 Data Collection Process\n",
    "\n",
    "The data was acquired by:\n",
    "1. Requesting my extended streaming history from Spotify's privacy dashboard\n",
    "2. Waiting approximately 30 days for Spotify to compile the complete dataset\n",
    "3. Downloading the data package, which arrived as multiple JSON files\n",
    "\n",
    "### 1.3 Raw Data Structure\n",
    "\n",
    "The raw dataset consists of several JSON files with names following the pattern `Streaming_History_Audio_2023-2025_*.json`. Each file contains an array of listening event objects with the following key attributes:\n",
    "\n",
    "- **`ts`** (timestamp): The exact date and time when the stream occurred, in ISO 8601 format\n",
    "- **`ms_played`** (milliseconds played): Duration for which the track was played, recorded in milliseconds\n",
    "- **`master_metadata_track_name`**: The official name of the song as it appears in Spotify's catalog\n",
    "- **`master_metadata_album_artist_name`**: The primary artist credited for the track\n",
    "- **`master_metadata_album_album_name`**: The album or single from which the track originates\n",
    "- **`spotify_track_uri`**: A unique identifier (URI) for each track in Spotify's system, following the format `spotify:track:<id>`\n",
    "- **`reason_start`** and **`reason_end`**: Metadata about how the stream was initiated and terminated\n",
    "- **`shuffle`**, **`skipped`**, **`offline`**: Boolean flags indicating playback context\n",
    "\n",
    "### 1.4 Dataset Scope and Characteristics\n",
    "\n",
    "The dataset encompasses approximately two years of listening activity, providing a rich temporal view of my music preferences. It includes:\n",
    "- Thousands of individual streaming events\n",
    "- Multiple genres and artists reflecting diverse musical tastes\n",
    "- Temporal patterns across different times of day, days of week, and seasons\n",
    "- Both complete listens and partial plays (skips)\n",
    "\n",
    "### 1.5 Research Objective\n",
    "\n",
    "The primary goal of this machine learning pipeline is to develop a **genre classification model** capable of predicting a song's genre based solely on its audio characteristics. By extracting quantitative features from audio samples and training a supervised learning model, we aim to understand:\n",
    "\n",
    "1. Which audio features are most predictive of genre classification\n",
    "2. How well machine learning algorithms can distinguish between different musical genres\n",
    "3. What patterns in my listening history reveal about genre preferences\n",
    "\n",
    "This analysis bridges signal processing, machine learning, and personal data analysis, offering insights into both the technical characteristics of music and my listening behavior."
   ]
  },
  {
   "cell_type": "markdown",
   "id": "a37ad117",
   "metadata": {},
   "source": [
    "---\n",
    "\n",
    "## Section 2: Data Loading and Format Conversion\n",
    "\n",
    "### 2.1 Import Required Libraries\n",
    "\n",
    "We begin by importing the necessary Python libraries for data manipulation, visualization, and scientific computing."
   ]
  },
  {
   "cell_type": "code",
   "execution_count": 3,
   "id": "d2617f4c",
   "metadata": {},
   "outputs": [
    {
     "name": "stdout",
     "output_type": "stream",
     "text": [
      "\u2713 All libraries imported successfully\n"
     ]
    }
   ],
   "source": [
    "# Data manipulation and analysis\n",
    "import pandas as pd\n",
    "import numpy as np\n",
    "\n",
    "# File system operations\n",
    "import os\n",
    "import json\n",
    "import glob\n",
    "\n",
    "# Data visualization\n",
    "import plotly.express as px\n",
    "import plotly.graph_objects as go\n",
    "from plotly.subplots import make_subplots\n",
    "\n",
    "# Suppress warnings for cleaner output\n",
    "import warnings\n",
    "warnings.filterwarnings('ignore')\n",
    "\n",
    "print(\"\u2713 All libraries imported successfully\")"
   ]
  },
  {
   "cell_type": "markdown",
   "id": "d065966c",
   "metadata": {},
   "source": [
    "### 2.2 Load and Combine JSON Files\n",
    "\n",
    "The Spotify data arrives as multiple JSON files that must be combined into a single dataset. We'll:\n",
    "1. Use glob patterns to identify all relevant JSON files\n",
    "2. Parse each JSON file and extract the streaming records\n",
    "3. Concatenate all records into a single pandas DataFrame\n",
    "4. Save the combined dataset as a CSV for easier subsequent access"
   ]
  },
  {
   "cell_type": "code",
   "execution_count": 4,
   "id": "7d933e6b",
   "metadata": {},
   "outputs": [
    {
     "name": "stdout",
     "output_type": "stream",
     "text": [
      "\u2713 Found existing combined dataset at '../Ingested_Data/combined_streaming_history.csv'\n",
      "  Loading from CSV...\n",
      "\n",
      "======================================================================\n",
      "COMBINED DATASET SUMMARY\n",
      "======================================================================\n",
      "Total streaming events: 16,053\n",
      "Dataset shape: 16,053 rows \u00d7 23 columns\n",
      "\n",
      "First 5 records:\n"
     ]
    },
    {
     "data": {
      "text/html": [
       "<div>\n",
       "<style scoped>\n",
       "    .dataframe tbody tr th:only-of-type {\n",
       "        vertical-align: middle;\n",
       "    }\n",
       "\n",
       "    .dataframe tbody tr th {\n",
       "        vertical-align: top;\n",
       "    }\n",
       "\n",
       "    .dataframe thead th {\n",
       "        text-align: right;\n",
       "    }\n",
       "</style>\n",
       "<table border=\"1\" class=\"dataframe\">\n",
       "  <thead>\n",
       "    <tr style=\"text-align: right;\">\n",
       "      <th></th>\n",
       "      <th>ts</th>\n",
       "      <th>platform</th>\n",
       "      <th>ms_played</th>\n",
       "      <th>conn_country</th>\n",
       "      <th>ip_addr</th>\n",
       "      <th>master_metadata_track_name</th>\n",
       "      <th>master_metadata_album_artist_name</th>\n",
       "      <th>master_metadata_album_album_name</th>\n",
       "      <th>spotify_track_uri</th>\n",
       "      <th>episode_name</th>\n",
       "      <th>...</th>\n",
       "      <th>audiobook_uri</th>\n",
       "      <th>audiobook_chapter_uri</th>\n",
       "      <th>audiobook_chapter_title</th>\n",
       "      <th>reason_start</th>\n",
       "      <th>reason_end</th>\n",
       "      <th>shuffle</th>\n",
       "      <th>skipped</th>\n",
       "      <th>offline</th>\n",
       "      <th>offline_timestamp</th>\n",
       "      <th>incognito_mode</th>\n",
       "    </tr>\n",
       "  </thead>\n",
       "  <tbody>\n",
       "    <tr>\n",
       "      <th>0</th>\n",
       "      <td>2023-08-27T01:02:32Z</td>\n",
       "      <td>windows</td>\n",
       "      <td>1265604</td>\n",
       "      <td>US</td>\n",
       "      <td>136.24.106.5</td>\n",
       "      <td>NaN</td>\n",
       "      <td>NaN</td>\n",
       "      <td>NaN</td>\n",
       "      <td>NaN</td>\n",
       "      <td>This Conversation About the 'Reading Mind' Is ...</td>\n",
       "      <td>...</td>\n",
       "      <td>NaN</td>\n",
       "      <td>NaN</td>\n",
       "      <td>NaN</td>\n",
       "      <td>remote</td>\n",
       "      <td>logout</td>\n",
       "      <td>False</td>\n",
       "      <td>False</td>\n",
       "      <td>False</td>\n",
       "      <td>NaN</td>\n",
       "      <td>False</td>\n",
       "    </tr>\n",
       "    <tr>\n",
       "      <th>1</th>\n",
       "      <td>2023-08-27T06:39:41Z</td>\n",
       "      <td>windows</td>\n",
       "      <td>1164082</td>\n",
       "      <td>US</td>\n",
       "      <td>12.13.248.226</td>\n",
       "      <td>NaN</td>\n",
       "      <td>NaN</td>\n",
       "      <td>NaN</td>\n",
       "      <td>NaN</td>\n",
       "      <td>This Conversation About the 'Reading Mind' Is ...</td>\n",
       "      <td>...</td>\n",
       "      <td>NaN</td>\n",
       "      <td>NaN</td>\n",
       "      <td>NaN</td>\n",
       "      <td>clickrow</td>\n",
       "      <td>endplay</td>\n",
       "      <td>False</td>\n",
       "      <td>True</td>\n",
       "      <td>False</td>\n",
       "      <td>1.693102e+09</td>\n",
       "      <td>False</td>\n",
       "    </tr>\n",
       "    <tr>\n",
       "      <th>2</th>\n",
       "      <td>2023-09-03T05:26:16Z</td>\n",
       "      <td>windows</td>\n",
       "      <td>3810</td>\n",
       "      <td>US</td>\n",
       "      <td>136.24.106.5</td>\n",
       "      <td>NaN</td>\n",
       "      <td>NaN</td>\n",
       "      <td>NaN</td>\n",
       "      <td>NaN</td>\n",
       "      <td>This Conversation About the 'Reading Mind' Is ...</td>\n",
       "      <td>...</td>\n",
       "      <td>NaN</td>\n",
       "      <td>NaN</td>\n",
       "      <td>NaN</td>\n",
       "      <td>playbtn</td>\n",
       "      <td>logout</td>\n",
       "      <td>False</td>\n",
       "      <td>False</td>\n",
       "      <td>False</td>\n",
       "      <td>1.693719e+09</td>\n",
       "      <td>False</td>\n",
       "    </tr>\n",
       "    <tr>\n",
       "      <th>3</th>\n",
       "      <td>2023-09-03T12:46:29Z</td>\n",
       "      <td>windows</td>\n",
       "      <td>4592540</td>\n",
       "      <td>US</td>\n",
       "      <td>136.24.106.5</td>\n",
       "      <td>NaN</td>\n",
       "      <td>NaN</td>\n",
       "      <td>NaN</td>\n",
       "      <td>NaN</td>\n",
       "      <td>This Conversation About the 'Reading Mind' Is ...</td>\n",
       "      <td>...</td>\n",
       "      <td>NaN</td>\n",
       "      <td>NaN</td>\n",
       "      <td>NaN</td>\n",
       "      <td>appload</td>\n",
       "      <td>logout</td>\n",
       "      <td>False</td>\n",
       "      <td>False</td>\n",
       "      <td>False</td>\n",
       "      <td>1.693740e+09</td>\n",
       "      <td>False</td>\n",
       "    </tr>\n",
       "    <tr>\n",
       "      <th>4</th>\n",
       "      <td>2023-09-04T00:29:31Z</td>\n",
       "      <td>ios</td>\n",
       "      <td>393360</td>\n",
       "      <td>US</td>\n",
       "      <td>172.56.209.239</td>\n",
       "      <td>Another In The Fire - Live</td>\n",
       "      <td>Hillsong UNITED</td>\n",
       "      <td>People</td>\n",
       "      <td>spotify:track:5PmHmU5AaBy9ld3bdQkD96</td>\n",
       "      <td>NaN</td>\n",
       "      <td>...</td>\n",
       "      <td>NaN</td>\n",
       "      <td>NaN</td>\n",
       "      <td>NaN</td>\n",
       "      <td>playbtn</td>\n",
       "      <td>trackdone</td>\n",
       "      <td>True</td>\n",
       "      <td>False</td>\n",
       "      <td>False</td>\n",
       "      <td>1.693787e+09</td>\n",
       "      <td>False</td>\n",
       "    </tr>\n",
       "  </tbody>\n",
       "</table>\n",
       "<p>5 rows \u00d7 23 columns</p>\n",
       "</div>"
      ],
      "text/plain": [
       "                     ts platform  ms_played conn_country         ip_addr  \\\n",
       "0  2023-08-27T01:02:32Z  windows    1265604           US    136.24.106.5   \n",
       "1  2023-08-27T06:39:41Z  windows    1164082           US   12.13.248.226   \n",
       "2  2023-09-03T05:26:16Z  windows       3810           US    136.24.106.5   \n",
       "3  2023-09-03T12:46:29Z  windows    4592540           US    136.24.106.5   \n",
       "4  2023-09-04T00:29:31Z      ios     393360           US  172.56.209.239   \n",
       "\n",
       "   master_metadata_track_name master_metadata_album_artist_name  \\\n",
       "0                         NaN                               NaN   \n",
       "1                         NaN                               NaN   \n",
       "2                         NaN                               NaN   \n",
       "3                         NaN                               NaN   \n",
       "4  Another In The Fire - Live                   Hillsong UNITED   \n",
       "\n",
       "  master_metadata_album_album_name                     spotify_track_uri  \\\n",
       "0                              NaN                                   NaN   \n",
       "1                              NaN                                   NaN   \n",
       "2                              NaN                                   NaN   \n",
       "3                              NaN                                   NaN   \n",
       "4                           People  spotify:track:5PmHmU5AaBy9ld3bdQkD96   \n",
       "\n",
       "                                        episode_name  ... audiobook_uri  \\\n",
       "0  This Conversation About the 'Reading Mind' Is ...  ...           NaN   \n",
       "1  This Conversation About the 'Reading Mind' Is ...  ...           NaN   \n",
       "2  This Conversation About the 'Reading Mind' Is ...  ...           NaN   \n",
       "3  This Conversation About the 'Reading Mind' Is ...  ...           NaN   \n",
       "4                                                NaN  ...           NaN   \n",
       "\n",
       "  audiobook_chapter_uri audiobook_chapter_title reason_start reason_end  \\\n",
       "0                   NaN                     NaN       remote     logout   \n",
       "1                   NaN                     NaN     clickrow    endplay   \n",
       "2                   NaN                     NaN      playbtn     logout   \n",
       "3                   NaN                     NaN      appload     logout   \n",
       "4                   NaN                     NaN      playbtn  trackdone   \n",
       "\n",
       "  shuffle skipped offline  offline_timestamp  incognito_mode  \n",
       "0   False   False   False                NaN           False  \n",
       "1   False    True   False       1.693102e+09           False  \n",
       "2   False   False   False       1.693719e+09           False  \n",
       "3   False   False   False       1.693740e+09           False  \n",
       "4    True   False   False       1.693787e+09           False  \n",
       "\n",
       "[5 rows x 23 columns]"
      ]
     },
     "execution_count": 4,
     "metadata": {},
     "output_type": "execute_result"
    }
   ],
   "source": [
    "# Define file paths\n",
    "raw_data_pattern = '../Streaming_History_Audio_*.json'\n",
    "ingested_data_dir = '../Ingested_Data'\n",
    "combined_csv_path = os.path.join(ingested_data_dir, 'combined_streaming_history.csv')\n",
    "\n",
    "# Create output directory if it doesn't exist\n",
    "os.makedirs(ingested_data_dir, exist_ok=True)\n",
    "\n",
    "# Check if combined CSV already exists\n",
    "if os.path.exists(combined_csv_path):\n",
    "    print(f\"\u2713 Found existing combined dataset at '{combined_csv_path}'\")\n",
    "    print(\"  Loading from CSV...\")\n",
    "    df_combined = pd.read_csv(combined_csv_path)\n",
    "else:\n",
    "    print(\"\u2717 Combined dataset not found. Creating from raw JSON files...\")\n",
    "    \n",
    "    # Find all JSON files matching the pattern\n",
    "    json_files = glob.glob(raw_data_pattern)\n",
    "    \n",
    "    if not json_files:\n",
    "        raise FileNotFoundError(f\"No JSON files found matching pattern: {raw_data_pattern}\")\n",
    "    \n",
    "    print(f\"  Found {len(json_files)} JSON file(s) to process\")\n",
    "    \n",
    "    # Load and combine all JSON data\n",
    "    all_streaming_data = []\n",
    "    for json_file in json_files:\n",
    "        with open(json_file, 'r', encoding='utf-8') as f:\n",
    "            file_data = json.load(f)\n",
    "            all_streaming_data.extend(file_data)\n",
    "            print(f\"  \u2192 Loaded {len(file_data):,} records from {os.path.basename(json_file)}\")\n",
    "    \n",
    "    # Convert to DataFrame\n",
    "    df_combined = pd.DataFrame(all_streaming_data)\n",
    "    \n",
    "    # Save combined dataset\n",
    "    df_combined.to_csv(combined_csv_path, index=False)\n",
    "    print(f\"\\n\u2713 Combined dataset saved to '{combined_csv_path}'\")\n",
    "\n",
    "# Display dataset information\n",
    "print(f\"\\n{'='*70}\")\n",
    "print(f\"COMBINED DATASET SUMMARY\")\n",
    "print(f\"{'='*70}\")\n",
    "print(f\"Total streaming events: {len(df_combined):,}\")\n",
    "print(f\"Dataset shape: {df_combined.shape[0]:,} rows \u00d7 {df_combined.shape[1]} columns\")\n",
    "print(f\"\\nFirst 5 records:\")\n",
    "df_combined.head()"
   ]
  },
  {
   "cell_type": "markdown",
   "id": "0902306b",
   "metadata": {},
   "source": [
    "### 2.3 Initial Data Inspection\n",
    "\n",
    "Let's examine the structure and content of our combined dataset to understand what we're working with."
   ]
  },
  {
   "cell_type": "code",
   "execution_count": 5,
   "id": "95c842af",
   "metadata": {},
   "outputs": [
    {
     "name": "stdout",
     "output_type": "stream",
     "text": [
      "Column Information:\n",
      "ts                                    object\n",
      "platform                              object\n",
      "ms_played                              int64\n",
      "conn_country                          object\n",
      "ip_addr                               object\n",
      "master_metadata_track_name            object\n",
      "master_metadata_album_artist_name     object\n",
      "master_metadata_album_album_name      object\n",
      "spotify_track_uri                     object\n",
      "episode_name                          object\n",
      "episode_show_name                     object\n",
      "spotify_episode_uri                   object\n",
      "audiobook_title                       object\n",
      "audiobook_uri                         object\n",
      "audiobook_chapter_uri                 object\n",
      "audiobook_chapter_title               object\n",
      "reason_start                          object\n",
      "reason_end                            object\n",
      "shuffle                                 bool\n",
      "skipped                                 bool\n",
      "offline                                 bool\n",
      "offline_timestamp                    float64\n",
      "incognito_mode                          bool\n",
      "dtype: object\n",
      "\n",
      "Memory usage: 14.57 MB\n",
      "\n",
      "Missing Values:\n",
      "  episode_name: 16,043 (99.94%)\n",
      "  episode_show_name: 16,043 (99.94%)\n",
      "  spotify_episode_uri: 16,043 (99.94%)\n",
      "  audiobook_title: 15,995 (99.64%)\n",
      "  audiobook_uri: 15,995 (99.64%)\n",
      "  audiobook_chapter_uri: 15,995 (99.64%)\n",
      "  audiobook_chapter_title: 15,995 (99.64%)\n",
      "  master_metadata_track_name: 68 (0.42%)\n",
      "  master_metadata_album_artist_name: 68 (0.42%)\n",
      "  master_metadata_album_album_name: 68 (0.42%)\n",
      "  spotify_track_uri: 68 (0.42%)\n",
      "  offline_timestamp: 3 (0.02%)\n"
     ]
    }
   ],
   "source": [
    "# Display column names and data types\n",
    "print(\"Column Information:\")\n",
    "print(df_combined.dtypes)\n",
    "print(f\"\\nMemory usage: {df_combined.memory_usage(deep=True).sum() / 1024**2:.2f} MB\")\n",
    "\n",
    "# Check for missing values\n",
    "print(f\"\\nMissing Values:\")\n",
    "missing_summary = df_combined.isnull().sum()\n",
    "missing_summary = missing_summary[missing_summary > 0].sort_values(ascending=False)\n",
    "if len(missing_summary) > 0:\n",
    "    for col, count in missing_summary.items():\n",
    "        pct = (count / len(df_combined)) * 100\n",
    "        print(f\"  {col}: {count:,} ({pct:.2f}%)\")\n",
    "else:\n",
    "    print(\"  No missing values detected\")"
   ]
  },
  {
   "cell_type": "markdown",
   "id": "f8ec48a9",
   "metadata": {},
   "source": [
    "---\n",
    "\n",
    "## Section 3: Data Cleaning, Pre-processing, and Exploratory Data Analysis\n",
    "\n",
    "### 3.1 Data Cleaning Strategy\n",
    "\n",
    "Raw streaming data requires significant cleaning and transformation before it can be used for machine learning. Our cleaning pipeline addresses several key issues:\n",
    "\n",
    "1. **Missing Critical Fields**: Some streaming events lack essential metadata like track name or URI\n",
    "2. **Timestamp Conversion**: The timestamp field needs to be converted from string to datetime format\n",
    "3. **Unit Conversions**: Milliseconds should be converted to more interpretable units (seconds, minutes)\n",
    "4. **Feature Engineering**: Extracting temporal components (hour, day of week, month) from timestamps\n",
    "5. **Column Rationalization**: Selecting and renaming columns for clarity\n",
    "\n",
    "### 3.2 Cleaning Implementation"
   ]
  },
  {
   "cell_type": "code",
   "execution_count": 7,
   "id": "4ba977c7",
   "metadata": {},
   "outputs": [
    {
     "name": "stdout",
     "output_type": "stream",
     "text": [
      "\u2713 Found existing cleaned dataset at '../Ingested_Data/cleaned_streaming_history.csv'\n",
      "  Loading from CSV...\n",
      "\n",
      "======================================================================\n",
      "CLEANED DATASET SUMMARY\n",
      "======================================================================\n",
      "Total cleaned records: 12,727\n",
      "Dataset shape: 12,727 rows \u00d7 34 columns\n",
      "\n",
      "First 5 cleaned records:\n"
     ]
    },
    {
     "data": {
      "text/html": [
       "<div>\n",
       "<style scoped>\n",
       "    .dataframe tbody tr th:only-of-type {\n",
       "        vertical-align: middle;\n",
       "    }\n",
       "\n",
       "    .dataframe tbody tr th {\n",
       "        vertical-align: top;\n",
       "    }\n",
       "\n",
       "    .dataframe thead th {\n",
       "        text-align: right;\n",
       "    }\n",
       "</style>\n",
       "<table border=\"1\" class=\"dataframe\">\n",
       "  <thead>\n",
       "    <tr style=\"text-align: right;\">\n",
       "      <th></th>\n",
       "      <th>ts</th>\n",
       "      <th>platform</th>\n",
       "      <th>ms_played</th>\n",
       "      <th>conn_country</th>\n",
       "      <th>ip_addr</th>\n",
       "      <th>master_metadata_track_name</th>\n",
       "      <th>master_metadata_album_artist_name</th>\n",
       "      <th>master_metadata_album_album_name</th>\n",
       "      <th>spotify_track_uri</th>\n",
       "      <th>episode_name</th>\n",
       "      <th>...</th>\n",
       "      <th>date</th>\n",
       "      <th>hour</th>\n",
       "      <th>day_of_week</th>\n",
       "      <th>month</th>\n",
       "      <th>year</th>\n",
       "      <th>seconds_played</th>\n",
       "      <th>minutes_played</th>\n",
       "      <th>artist_name</th>\n",
       "      <th>track_name</th>\n",
       "      <th>album_name</th>\n",
       "    </tr>\n",
       "  </thead>\n",
       "  <tbody>\n",
       "    <tr>\n",
       "      <th>0</th>\n",
       "      <td>2023-09-04T00:29:31Z</td>\n",
       "      <td>ios</td>\n",
       "      <td>393360</td>\n",
       "      <td>US</td>\n",
       "      <td>172.56.209.239</td>\n",
       "      <td>Another In The Fire - Live</td>\n",
       "      <td>Hillsong UNITED</td>\n",
       "      <td>People</td>\n",
       "      <td>spotify:track:5PmHmU5AaBy9ld3bdQkD96</td>\n",
       "      <td>NaN</td>\n",
       "      <td>...</td>\n",
       "      <td>2023-09-04</td>\n",
       "      <td>0</td>\n",
       "      <td>Monday</td>\n",
       "      <td>9</td>\n",
       "      <td>2023</td>\n",
       "      <td>393.360</td>\n",
       "      <td>6.556000</td>\n",
       "      <td>Hillsong UNITED</td>\n",
       "      <td>Another In The Fire - Live</td>\n",
       "      <td>People</td>\n",
       "    </tr>\n",
       "    <tr>\n",
       "      <th>1</th>\n",
       "      <td>2023-09-04T00:36:52Z</td>\n",
       "      <td>ios</td>\n",
       "      <td>353546</td>\n",
       "      <td>US</td>\n",
       "      <td>172.56.209.239</td>\n",
       "      <td>Good Grace - Live</td>\n",
       "      <td>Hillsong UNITED</td>\n",
       "      <td>People</td>\n",
       "      <td>spotify:track:7nzmXUrZwSOJPNmV0mOmEn</td>\n",
       "      <td>NaN</td>\n",
       "      <td>...</td>\n",
       "      <td>2023-09-04</td>\n",
       "      <td>0</td>\n",
       "      <td>Monday</td>\n",
       "      <td>9</td>\n",
       "      <td>2023</td>\n",
       "      <td>353.546</td>\n",
       "      <td>5.892433</td>\n",
       "      <td>Hillsong UNITED</td>\n",
       "      <td>Good Grace - Live</td>\n",
       "      <td>People</td>\n",
       "    </tr>\n",
       "    <tr>\n",
       "      <th>2</th>\n",
       "      <td>2023-09-04T00:40:11Z</td>\n",
       "      <td>ios</td>\n",
       "      <td>197657</td>\n",
       "      <td>US</td>\n",
       "      <td>172.56.209.239</td>\n",
       "      <td>Echoes (Till We See The Other Side) - Live</td>\n",
       "      <td>Hillsong UNITED</td>\n",
       "      <td>People</td>\n",
       "      <td>spotify:track:0oHYnQXUrFoIm0xraAmdNG</td>\n",
       "      <td>NaN</td>\n",
       "      <td>...</td>\n",
       "      <td>2023-09-04</td>\n",
       "      <td>0</td>\n",
       "      <td>Monday</td>\n",
       "      <td>9</td>\n",
       "      <td>2023</td>\n",
       "      <td>197.657</td>\n",
       "      <td>3.294283</td>\n",
       "      <td>Hillsong UNITED</td>\n",
       "      <td>Echoes (Till We See The Other Side) - Live</td>\n",
       "      <td>People</td>\n",
       "    </tr>\n",
       "    <tr>\n",
       "      <th>3</th>\n",
       "      <td>2023-09-04T00:41:55Z</td>\n",
       "      <td>ios</td>\n",
       "      <td>55170</td>\n",
       "      <td>US</td>\n",
       "      <td>172.56.209.239</td>\n",
       "      <td>Not Today</td>\n",
       "      <td>Hillsong UNITED</td>\n",
       "      <td>Wonder</td>\n",
       "      <td>spotify:track:33Nyq9QfKCXEQtzeg22vg7</td>\n",
       "      <td>NaN</td>\n",
       "      <td>...</td>\n",
       "      <td>2023-09-04</td>\n",
       "      <td>0</td>\n",
       "      <td>Monday</td>\n",
       "      <td>9</td>\n",
       "      <td>2023</td>\n",
       "      <td>55.170</td>\n",
       "      <td>0.919500</td>\n",
       "      <td>Hillsong UNITED</td>\n",
       "      <td>Not Today</td>\n",
       "      <td>Wonder</td>\n",
       "    </tr>\n",
       "    <tr>\n",
       "      <th>4</th>\n",
       "      <td>2023-09-04T00:43:46Z</td>\n",
       "      <td>ios</td>\n",
       "      <td>48599</td>\n",
       "      <td>US</td>\n",
       "      <td>172.56.209.239</td>\n",
       "      <td>Glory and Majesty</td>\n",
       "      <td>Jon Reddick</td>\n",
       "      <td>God, Turn It Around</td>\n",
       "      <td>spotify:track:5lvrYFNaUV2eib9Tas1gZK</td>\n",
       "      <td>NaN</td>\n",
       "      <td>...</td>\n",
       "      <td>2023-09-04</td>\n",
       "      <td>0</td>\n",
       "      <td>Monday</td>\n",
       "      <td>9</td>\n",
       "      <td>2023</td>\n",
       "      <td>48.599</td>\n",
       "      <td>0.809983</td>\n",
       "      <td>Jon Reddick</td>\n",
       "      <td>Glory and Majesty</td>\n",
       "      <td>God, Turn It Around</td>\n",
       "    </tr>\n",
       "  </tbody>\n",
       "</table>\n",
       "<p>5 rows \u00d7 34 columns</p>\n",
       "</div>"
      ],
      "text/plain": [
       "                     ts platform  ms_played conn_country         ip_addr  \\\n",
       "0  2023-09-04T00:29:31Z      ios     393360           US  172.56.209.239   \n",
       "1  2023-09-04T00:36:52Z      ios     353546           US  172.56.209.239   \n",
       "2  2023-09-04T00:40:11Z      ios     197657           US  172.56.209.239   \n",
       "3  2023-09-04T00:41:55Z      ios      55170           US  172.56.209.239   \n",
       "4  2023-09-04T00:43:46Z      ios      48599           US  172.56.209.239   \n",
       "\n",
       "                   master_metadata_track_name  \\\n",
       "0                  Another In The Fire - Live   \n",
       "1                           Good Grace - Live   \n",
       "2  Echoes (Till We See The Other Side) - Live   \n",
       "3                                   Not Today   \n",
       "4                           Glory and Majesty   \n",
       "\n",
       "  master_metadata_album_artist_name master_metadata_album_album_name  \\\n",
       "0                   Hillsong UNITED                           People   \n",
       "1                   Hillsong UNITED                           People   \n",
       "2                   Hillsong UNITED                           People   \n",
       "3                   Hillsong UNITED                           Wonder   \n",
       "4                       Jon Reddick              God, Turn It Around   \n",
       "\n",
       "                      spotify_track_uri  episode_name  ...        date  hour  \\\n",
       "0  spotify:track:5PmHmU5AaBy9ld3bdQkD96           NaN  ...  2023-09-04     0   \n",
       "1  spotify:track:7nzmXUrZwSOJPNmV0mOmEn           NaN  ...  2023-09-04     0   \n",
       "2  spotify:track:0oHYnQXUrFoIm0xraAmdNG           NaN  ...  2023-09-04     0   \n",
       "3  spotify:track:33Nyq9QfKCXEQtzeg22vg7           NaN  ...  2023-09-04     0   \n",
       "4  spotify:track:5lvrYFNaUV2eib9Tas1gZK           NaN  ...  2023-09-04     0   \n",
       "\n",
       "   day_of_week  month  year  seconds_played minutes_played      artist_name  \\\n",
       "0       Monday      9  2023         393.360       6.556000  Hillsong UNITED   \n",
       "1       Monday      9  2023         353.546       5.892433  Hillsong UNITED   \n",
       "2       Monday      9  2023         197.657       3.294283  Hillsong UNITED   \n",
       "3       Monday      9  2023          55.170       0.919500  Hillsong UNITED   \n",
       "4       Monday      9  2023          48.599       0.809983      Jon Reddick   \n",
       "\n",
       "                                   track_name           album_name  \n",
       "0                  Another In The Fire - Live               People  \n",
       "1                           Good Grace - Live               People  \n",
       "2  Echoes (Till We See The Other Side) - Live               People  \n",
       "3                                   Not Today               Wonder  \n",
       "4                           Glory and Majesty  God, Turn It Around  \n",
       "\n",
       "[5 rows x 34 columns]"
      ]
     },
     "execution_count": 7,
     "metadata": {},
     "output_type": "execute_result"
    }
   ],
   "source": [
    "# Define path for cleaned dataset\n",
    "cleaned_csv_path = os.path.join(ingested_data_dir, 'cleaned_streaming_history.csv')\n",
    "\n",
    "# Check if cleaned dataset already exists\n",
    "if os.path.exists(cleaned_csv_path):\n",
    "    print(f\"\u2713 Found existing cleaned dataset at '{cleaned_csv_path}'\")\n",
    "    print(\"  Loading from CSV...\")\n",
    "    df_cleaned = pd.read_csv(cleaned_csv_path)\n",
    "    # Convert timestamp column back to datetime\n",
    "    df_cleaned['timestamp'] = pd.to_datetime(df_cleaned['timestamp'])\n",
    "else:\n",
    "    print(\"\u2717 Cleaned dataset not found. Performing data cleaning...\")\n",
    "    \n",
    "    # Create a copy to avoid modifying the original\n",
    "    df_cleaned = df_combined.copy()\n",
    "    \n",
    "    # Step 1: Remove rows with missing essential metadata\n",
    "    initial_count = len(df_cleaned)\n",
    "    df_cleaned = df_cleaned.dropna(subset=['master_metadata_track_name', 'spotify_track_uri'])\n",
    "    removed_count = initial_count - len(df_cleaned)\n",
    "    print(f\"  \u2192 Removed {removed_count:,} rows with missing track name or URI ({removed_count/initial_count*100:.2f}%)\")\n",
    "    \n",
    "    # Step 2: Convert timestamp to datetime and extract temporal features\n",
    "    print(\"  \u2192 Converting timestamps and extracting temporal features...\")\n",
    "    df_cleaned['timestamp'] = pd.to_datetime(df_cleaned['ts'])\n",
    "    df_cleaned['date'] = df_cleaned['timestamp'].dt.date\n",
    "    df_cleaned['hour'] = df_cleaned['timestamp'].dt.hour\n",
    "    df_cleaned['day_of_week'] = df_cleaned['timestamp'].dt.day_name()\n",
    "    df_cleaned['month'] = df_cleaned['timestamp'].dt.month\n",
    "    df_cleaned['year'] = df_cleaned['timestamp'].dt.year\n",
    "    \n",
    "    # Step 3: Convert milliseconds to seconds and minutes\n",
    "    print(\"  \u2192 Converting time units...\")\n",
    "    df_cleaned['seconds_played'] = df_cleaned['ms_played'] / 1000\n",
    "    df_cleaned['minutes_played'] = df_cleaned['seconds_played'] / 60\n",
    "    \n",
    "    # Step 4: Create cleaner column names\n",
    "    df_cleaned['artist_name'] = df_cleaned['master_metadata_album_artist_name']\n",
    "    df_cleaned['track_name'] = df_cleaned['master_metadata_track_name']\n",
    "    df_cleaned['album_name'] = df_cleaned['master_metadata_album_album_name']\n",
    "    \n",
    "    # Step 5: Select relevant columns in logical order\n",
    "    columns_to_keep = [\n",
    "        # Identifiers\n",
    "        'spotify_track_uri', 'track_name', 'artist_name', 'album_name',\n",
    "        # Temporal data\n",
    "        'timestamp', 'date', 'year', 'month', 'day_of_week', 'hour',\n",
    "        # Playback metrics\n",
    "        'ms_played', 'seconds_played', 'minutes_played',\n",
    "        # Context flags\n",
    "        'reason_start', 'reason_end', 'shuffle', 'skipped', 'offline',\n",
    "        # Original timestamp\n",
    "        'ts'\n",
    "    ]\n",
    "    \n",
    "    # Keep only columns that exist in the dataset\n",
    "    columns_to_keep = [col for col in columns_to_keep if col in df_cleaned.columns]\n",
    "    df_cleaned = df_cleaned[columns_to_keep]\n",
    "    \n",
    "    # Save cleaned dataset\n",
    "    df_cleaned.to_csv(cleaned_csv_path, index=False)\n",
    "    print(f\"\\n\u2713 Cleaned dataset saved to '{cleaned_csv_path}'\")\n",
    "\n",
    "# Display cleaning results\n",
    "print(f\"\\n{'='*70}\")\n",
    "print(f\"CLEANED DATASET SUMMARY\")\n",
    "print(f\"{'='*70}\")\n",
    "print(f\"Total cleaned records: {len(df_cleaned):,}\")\n",
    "print(f\"Dataset shape: {df_cleaned.shape[0]:,} rows \u00d7 {df_cleaned.shape[1]} columns\")\n",
    "print(f\"\\nFirst 5 cleaned records:\")\n",
    "df_cleaned.head()"
   ]
  },
  {
   "cell_type": "markdown",
   "id": "f3015bf9",
   "metadata": {},
   "source": [
    "### 3.3 Exploratory Data Analysis: Basic Statistics\n",
    "\n",
    "Now that our data is cleaned, we can begin exploring it to understand patterns and characteristics. We'll start with summary statistics and then create visualizations."
   ]
  },
  {
   "cell_type": "code",
   "execution_count": 8,
   "id": "c78f382c",
   "metadata": {},
   "outputs": [
    {
     "name": "stdout",
     "output_type": "stream",
     "text": [
      "Descriptive Statistics (Numerical Columns):\n",
      "          ms_played  seconds_played  minutes_played\n",
      "count  1.272700e+04    12727.000000    12727.000000\n",
      "mean   2.193484e+05      219.348441        3.655807\n",
      "std    1.109287e+05      110.928706        1.848812\n",
      "min    3.000000e+04       30.000000        0.500000\n",
      "25%    1.572000e+05      157.200000        2.620000\n",
      "50%    1.960000e+05      196.000000        3.266667\n",
      "75%    2.459200e+05      245.920000        4.098667\n",
      "max    1.748934e+06     1748.934000       29.148900\n",
      "\n",
      "Additional Metrics:\n",
      "  Total listening time: 46,527.46 minutes (775.46 hours)\n",
      "  Unique tracks: 1,829\n",
      "  Unique artists: 721\n",
      "  Unique albums: 1,306\n",
      "  Date range: 2023-09-04 to 2025-03-15\n",
      "  Tracks skipped: 1,682 (13.22%)\n"
     ]
    }
   ],
   "source": [
    "# Generate descriptive statistics for numerical columns\n",
    "print(\"Descriptive Statistics (Numerical Columns):\")\n",
    "print(df_cleaned[['ms_played', 'seconds_played', 'minutes_played']].describe())\n",
    "\n",
    "# Calculate additional summary statistics\n",
    "print(f\"\\nAdditional Metrics:\")\n",
    "print(f\"  Total listening time: {df_cleaned['minutes_played'].sum():,.2f} minutes ({df_cleaned['minutes_played'].sum()/60:,.2f} hours)\")\n",
    "print(f\"  Unique tracks: {df_cleaned['track_name'].nunique():,}\")\n",
    "print(f\"  Unique artists: {df_cleaned['artist_name'].nunique():,}\")\n",
    "print(f\"  Unique albums: {df_cleaned['album_name'].nunique():,}\")\n",
    "print(f\"  Date range: {df_cleaned['date'].min()} to {df_cleaned['date'].max()}\")\n",
    "print(f\"  Tracks skipped: {df_cleaned['skipped'].sum():,} ({df_cleaned['skipped'].sum()/len(df_cleaned)*100:.2f}%)\")"
   ]
  },
  {
   "cell_type": "markdown",
   "id": "064b7cae",
   "metadata": {},
   "source": [
    "### 3.4 EDA Visualization 1: Top 10 Most Played Songs\n",
    "\n",
    "One of the most straightforward questions we can ask of our listening history is: **Which songs have I played the most?** This gives us a sense of my most frequent listens.\n",
    "\n",
    "To answer this, we'll count the number of times each track appears in our dataset and visualize the top 10 results as a bar chart."
   ]
  },
  {
   "cell_type": "code",
   "execution_count": 9,
   "id": "71c9fafe",
   "metadata": {},
   "outputs": [
    {
     "data": {
      "application/vnd.plotly.v1+json": {
       "config": {
        "plotlyServerURL": "https://plot.ly"
       },
       "data": [
        {
         "hovertemplate": "Track Name=%{x}<br>Number of Plays=%{y}<br>color=%{marker.color}<extra></extra>",
         "legendgroup": "",
         "marker": {
          "color": {
           "bdata": "FQHWANEAygC9AKMAkwCGAIIAdAA=",
           "dtype": "i2"
          },
          "coloraxis": "coloraxis",
          "pattern": {
           "shape": ""
          }
         },
         "name": "",
         "orientation": "v",
         "showlegend": false,
         "textposition": "auto",
         "type": "bar",
         "x": [
          "Commas",
          "Hide & Seek - Rema Remix",
          "BM - London View",
          "Beautiful Things",
          "Terminator",
          "Sunny Ade",
          "Been So Good (feat. Tiffany Hudson)",
          "Great Things",
          "Sprinter",
          "Sure Been Good (feat. Tiffany Hudson)"
         ],
         "xaxis": "x",
         "y": {
          "bdata": "FQHWANEAygC9AKMAkwCGAIIAdAA=",
          "dtype": "i2"
         },
         "yaxis": "y"
        }
       ],
       "layout": {
        "barmode": "relative",
        "coloraxis": {
         "colorbar": {
          "title": {
           "text": "color"
          }
         },
         "colorscale": [
          [
           0,
           "rgb(247,251,255)"
          ],
          [
           0.125,
           "rgb(222,235,247)"
          ],
          [
           0.25,
           "rgb(198,219,239)"
          ],
          [
           0.375,
           "rgb(158,202,225)"
          ],
          [
           0.5,
           "rgb(107,174,214)"
          ],
          [
           0.625,
           "rgb(66,146,198)"
          ],
          [
           0.75,
           "rgb(33,113,181)"
          ],
          [
           0.875,
           "rgb(8,81,156)"
          ],
          [
           1,
           "rgb(8,48,107)"
          ]
         ]
        },
        "height": 500,
        "legend": {
         "tracegroupgap": 0
        },
        "showlegend": false,
        "template": {
         "data": {
          "bar": [
           {
            "error_x": {
             "color": "#2a3f5f"
            },
            "error_y": {
             "color": "#2a3f5f"
            },
            "marker": {
             "line": {
              "color": "#E5ECF6",
              "width": 0.5
             },
             "pattern": {
              "fillmode": "overlay",
              "size": 10,
              "solidity": 0.2
             }
            },
            "type": "bar"
           }
          ],
          "barpolar": [
           {
            "marker": {
             "line": {
              "color": "#E5ECF6",
              "width": 0.5
             },
             "pattern": {
              "fillmode": "overlay",
              "size": 10,
              "solidity": 0.2
             }
            },
            "type": "barpolar"
           }
          ],
          "carpet": [
           {
            "aaxis": {
             "endlinecolor": "#2a3f5f",
             "gridcolor": "white",
             "linecolor": "white",
             "minorgridcolor": "white",
             "startlinecolor": "#2a3f5f"
            },
            "baxis": {
             "endlinecolor": "#2a3f5f",
             "gridcolor": "white",
             "linecolor": "white",
             "minorgridcolor": "white",
             "startlinecolor": "#2a3f5f"
            },
            "type": "carpet"
           }
          ],
          "choropleth": [
           {
            "colorbar": {
             "outlinewidth": 0,
             "ticks": ""
            },
            "type": "choropleth"
           }
          ],
          "contour": [
           {
            "colorbar": {
             "outlinewidth": 0,
             "ticks": ""
            },
            "colorscale": [
             [
              0,
              "#0d0887"
             ],
             [
              0.1111111111111111,
              "#46039f"
             ],
             [
              0.2222222222222222,
              "#7201a8"
             ],
             [
              0.3333333333333333,
              "#9c179e"
             ],
             [
              0.4444444444444444,
              "#bd3786"
             ],
             [
              0.5555555555555556,
              "#d8576b"
             ],
             [
              0.6666666666666666,
              "#ed7953"
             ],
             [
              0.7777777777777778,
              "#fb9f3a"
             ],
             [
              0.8888888888888888,
              "#fdca26"
             ],
             [
              1,
              "#f0f921"
             ]
            ],
            "type": "contour"
           }
          ],
          "contourcarpet": [
           {
            "colorbar": {
             "outlinewidth": 0,
             "ticks": ""
            },
            "type": "contourcarpet"
           }
          ],
          "heatmap": [
           {
            "colorbar": {
             "outlinewidth": 0,
             "ticks": ""
            },
            "colorscale": [
             [
              0,
              "#0d0887"
             ],
             [
              0.1111111111111111,
              "#46039f"
             ],
             [
              0.2222222222222222,
              "#7201a8"
             ],
             [
              0.3333333333333333,
              "#9c179e"
             ],
             [
              0.4444444444444444,
              "#bd3786"
             ],
             [
              0.5555555555555556,
              "#d8576b"
             ],
             [
              0.6666666666666666,
              "#ed7953"
             ],
             [
              0.7777777777777778,
              "#fb9f3a"
             ],
             [
              0.8888888888888888,
              "#fdca26"
             ],
             [
              1,
              "#f0f921"
             ]
            ],
            "type": "heatmap"
           }
          ],
          "histogram": [
           {
            "marker": {
             "pattern": {
              "fillmode": "overlay",
              "size": 10,
              "solidity": 0.2
             }
            },
            "type": "histogram"
           }
          ],
          "histogram2d": [
           {
            "colorbar": {
             "outlinewidth": 0,
             "ticks": ""
            },
            "colorscale": [
             [
              0,
              "#0d0887"
             ],
             [
              0.1111111111111111,
              "#46039f"
             ],
             [
              0.2222222222222222,
              "#7201a8"
             ],
             [
              0.3333333333333333,
              "#9c179e"
             ],
             [
              0.4444444444444444,
              "#bd3786"
             ],
             [
              0.5555555555555556,
              "#d8576b"
             ],
             [
              0.6666666666666666,
              "#ed7953"
             ],
             [
              0.7777777777777778,
              "#fb9f3a"
             ],
             [
              0.8888888888888888,
              "#fdca26"
             ],
             [
              1,
              "#f0f921"
             ]
            ],
            "type": "histogram2d"
           }
          ],
          "histogram2dcontour": [
           {
            "colorbar": {
             "outlinewidth": 0,
             "ticks": ""
            },
            "colorscale": [
             [
              0,
              "#0d0887"
             ],
             [
              0.1111111111111111,
              "#46039f"
             ],
             [
              0.2222222222222222,
              "#7201a8"
             ],
             [
              0.3333333333333333,
              "#9c179e"
             ],
             [
              0.4444444444444444,
              "#bd3786"
             ],
             [
              0.5555555555555556,
              "#d8576b"
             ],
             [
              0.6666666666666666,
              "#ed7953"
             ],
             [
              0.7777777777777778,
              "#fb9f3a"
             ],
             [
              0.8888888888888888,
              "#fdca26"
             ],
             [
              1,
              "#f0f921"
             ]
            ],
            "type": "histogram2dcontour"
           }
          ],
          "mesh3d": [
           {
            "colorbar": {
             "outlinewidth": 0,
             "ticks": ""
            },
            "type": "mesh3d"
           }
          ],
          "parcoords": [
           {
            "line": {
             "colorbar": {
              "outlinewidth": 0,
              "ticks": ""
             }
            },
            "type": "parcoords"
           }
          ],
          "pie": [
           {
            "automargin": true,
            "type": "pie"
           }
          ],
          "scatter": [
           {
            "fillpattern": {
             "fillmode": "overlay",
             "size": 10,
             "solidity": 0.2
            },
            "type": "scatter"
           }
          ],
          "scatter3d": [
           {
            "line": {
             "colorbar": {
              "outlinewidth": 0,
              "ticks": ""
             }
            },
            "marker": {
             "colorbar": {
              "outlinewidth": 0,
              "ticks": ""
             }
            },
            "type": "scatter3d"
           }
          ],
          "scattercarpet": [
           {
            "marker": {
             "colorbar": {
              "outlinewidth": 0,
              "ticks": ""
             }
            },
            "type": "scattercarpet"
           }
          ],
          "scattergeo": [
           {
            "marker": {
             "colorbar": {
              "outlinewidth": 0,
              "ticks": ""
             }
            },
            "type": "scattergeo"
           }
          ],
          "scattergl": [
           {
            "marker": {
             "colorbar": {
              "outlinewidth": 0,
              "ticks": ""
             }
            },
            "type": "scattergl"
           }
          ],
          "scattermap": [
           {
            "marker": {
             "colorbar": {
              "outlinewidth": 0,
              "ticks": ""
             }
            },
            "type": "scattermap"
           }
          ],
          "scattermapbox": [
           {
            "marker": {
             "colorbar": {
              "outlinewidth": 0,
              "ticks": ""
             }
            },
            "type": "scattermapbox"
           }
          ],
          "scatterpolar": [
           {
            "marker": {
             "colorbar": {
              "outlinewidth": 0,
              "ticks": ""
             }
            },
            "type": "scatterpolar"
           }
          ],
          "scatterpolargl": [
           {
            "marker": {
             "colorbar": {
              "outlinewidth": 0,
              "ticks": ""
             }
            },
            "type": "scatterpolargl"
           }
          ],
          "scatterternary": [
           {
            "marker": {
             "colorbar": {
              "outlinewidth": 0,
              "ticks": ""
             }
            },
            "type": "scatterternary"
           }
          ],
          "surface": [
           {
            "colorbar": {
             "outlinewidth": 0,
             "ticks": ""
            },
            "colorscale": [
             [
              0,
              "#0d0887"
             ],
             [
              0.1111111111111111,
              "#46039f"
             ],
             [
              0.2222222222222222,
              "#7201a8"
             ],
             [
              0.3333333333333333,
              "#9c179e"
             ],
             [
              0.4444444444444444,
              "#bd3786"
             ],
             [
              0.5555555555555556,
              "#d8576b"
             ],
             [
              0.6666666666666666,
              "#ed7953"
             ],
             [
              0.7777777777777778,
              "#fb9f3a"
             ],
             [
              0.8888888888888888,
              "#fdca26"
             ],
             [
              1,
              "#f0f921"
             ]
            ],
            "type": "surface"
           }
          ],
          "table": [
           {
            "cells": {
             "fill": {
              "color": "#EBF0F8"
             },
             "line": {
              "color": "white"
             }
            },
            "header": {
             "fill": {
              "color": "#C8D4E3"
             },
             "line": {
              "color": "white"
             }
            },
            "type": "table"
           }
          ]
         },
         "layout": {
          "annotationdefaults": {
           "arrowcolor": "#2a3f5f",
           "arrowhead": 0,
           "arrowwidth": 1
          },
          "autotypenumbers": "strict",
          "coloraxis": {
           "colorbar": {
            "outlinewidth": 0,
            "ticks": ""
           }
          },
          "colorscale": {
           "diverging": [
            [
             0,
             "#8e0152"
            ],
            [
             0.1,
             "#c51b7d"
            ],
            [
             0.2,
             "#de77ae"
            ],
            [
             0.3,
             "#f1b6da"
            ],
            [
             0.4,
             "#fde0ef"
            ],
            [
             0.5,
             "#f7f7f7"
            ],
            [
             0.6,
             "#e6f5d0"
            ],
            [
             0.7,
             "#b8e186"
            ],
            [
             0.8,
             "#7fbc41"
            ],
            [
             0.9,
             "#4d9221"
            ],
            [
             1,
             "#276419"
            ]
           ],
           "sequential": [
            [
             0,
             "#0d0887"
            ],
            [
             0.1111111111111111,
             "#46039f"
            ],
            [
             0.2222222222222222,
             "#7201a8"
            ],
            [
             0.3333333333333333,
             "#9c179e"
            ],
            [
             0.4444444444444444,
             "#bd3786"
            ],
            [
             0.5555555555555556,
             "#d8576b"
            ],
            [
             0.6666666666666666,
             "#ed7953"
            ],
            [
             0.7777777777777778,
             "#fb9f3a"
            ],
            [
             0.8888888888888888,
             "#fdca26"
            ],
            [
             1,
             "#f0f921"
            ]
           ],
           "sequentialminus": [
            [
             0,
             "#0d0887"
            ],
            [
             0.1111111111111111,
             "#46039f"
            ],
            [
             0.2222222222222222,
             "#7201a8"
            ],
            [
             0.3333333333333333,
             "#9c179e"
            ],
            [
             0.4444444444444444,
             "#bd3786"
            ],
            [
             0.5555555555555556,
             "#d8576b"
            ],
            [
             0.6666666666666666,
             "#ed7953"
            ],
            [
             0.7777777777777778,
             "#fb9f3a"
            ],
            [
             0.8888888888888888,
             "#fdca26"
            ],
            [
             1,
             "#f0f921"
            ]
           ]
          },
          "colorway": [
           "#636efa",
           "#EF553B",
           "#00cc96",
           "#ab63fa",
           "#FFA15A",
           "#19d3f3",
           "#FF6692",
           "#B6E880",
           "#FF97FF",
           "#FECB52"
          ],
          "font": {
           "color": "#2a3f5f"
          },
          "geo": {
           "bgcolor": "white",
           "lakecolor": "white",
           "landcolor": "#E5ECF6",
           "showlakes": true,
           "showland": true,
           "subunitcolor": "white"
          },
          "hoverlabel": {
           "align": "left"
          },
          "hovermode": "closest",
          "mapbox": {
           "style": "light"
          },
          "paper_bgcolor": "white",
          "plot_bgcolor": "#E5ECF6",
          "polar": {
           "angularaxis": {
            "gridcolor": "white",
            "linecolor": "white",
            "ticks": ""
           },
           "bgcolor": "#E5ECF6",
           "radialaxis": {
            "gridcolor": "white",
            "linecolor": "white",
            "ticks": ""
           }
          },
          "scene": {
           "xaxis": {
            "backgroundcolor": "#E5ECF6",
            "gridcolor": "white",
            "gridwidth": 2,
            "linecolor": "white",
            "showbackground": true,
            "ticks": "",
            "zerolinecolor": "white"
           },
           "yaxis": {
            "backgroundcolor": "#E5ECF6",
            "gridcolor": "white",
            "gridwidth": 2,
            "linecolor": "white",
            "showbackground": true,
            "ticks": "",
            "zerolinecolor": "white"
           },
           "zaxis": {
            "backgroundcolor": "#E5ECF6",
            "gridcolor": "white",
            "gridwidth": 2,
            "linecolor": "white",
            "showbackground": true,
            "ticks": "",
            "zerolinecolor": "white"
           }
          },
          "shapedefaults": {
           "line": {
            "color": "#2a3f5f"
           }
          },
          "ternary": {
           "aaxis": {
            "gridcolor": "white",
            "linecolor": "white",
            "ticks": ""
           },
           "baxis": {
            "gridcolor": "white",
            "linecolor": "white",
            "ticks": ""
           },
           "bgcolor": "#E5ECF6",
           "caxis": {
            "gridcolor": "white",
            "linecolor": "white",
            "ticks": ""
           }
          },
          "title": {
           "x": 0.05
          },
          "xaxis": {
           "automargin": true,
           "gridcolor": "white",
           "linecolor": "white",
           "ticks": "",
           "title": {
            "standoff": 15
           },
           "zerolinecolor": "white",
           "zerolinewidth": 2
          },
          "yaxis": {
           "automargin": true,
           "gridcolor": "white",
           "linecolor": "white",
           "ticks": "",
           "title": {
            "standoff": 15
           },
           "zerolinecolor": "white",
           "zerolinewidth": 2
          }
         }
        },
        "title": {
         "text": "Top 10 Most Frequently Played Songs"
        },
        "xaxis": {
         "anchor": "y",
         "domain": [
          0,
          1
         ],
         "tickangle": -45,
         "title": {
          "text": "Track Name"
         }
        },
        "yaxis": {
         "anchor": "x",
         "domain": [
          0,
          1
         ],
         "title": {
          "text": "Number of Plays"
         }
        }
       }
      }
     },
     "metadata": {},
     "output_type": "display_data"
    },
    {
     "name": "stdout",
     "output_type": "stream",
     "text": [
      "\n",
      "Top 10 Songs by Play Count:\n",
      "   1. Commas: 277 plays\n",
      "   2. Hide & Seek - Rema Remix: 214 plays\n",
      "   3. BM - London View: 209 plays\n",
      "   4. Beautiful Things: 202 plays\n",
      "   5. Terminator: 189 plays\n",
      "   6. Sunny Ade: 163 plays\n",
      "   7. Been So Good (feat. Tiffany Hudson): 147 plays\n",
      "   8. Great Things: 134 plays\n",
      "   9. Sprinter: 130 plays\n",
      "  10. Sure Been Good (feat. Tiffany Hudson): 116 plays\n"
     ]
    }
   ],
   "source": [
    "# Count play frequency for each track\n",
    "track_play_counts = df_cleaned['track_name'].value_counts().nlargest(10)\n",
    "\n",
    "# Create bar chart\n",
    "fig_top_songs = px.bar(\n",
    "    x=track_play_counts.index,\n",
    "    y=track_play_counts.values,\n",
    "    labels={'x': 'Track Name', 'y': 'Number of Plays'},\n",
    "    title='Top 10 Most Frequently Played Songs',\n",
    "    color=track_play_counts.values,\n",
    "    color_continuous_scale='Blues'\n",
    ")\n",
    "\n",
    "fig_top_songs.update_layout(\n",
    "    xaxis_tickangle=-45,\n",
    "    height=500,\n",
    "    showlegend=False\n",
    ")\n",
    "\n",
    "fig_top_songs.show()\n",
    "\n",
    "print(\"\\nTop 10 Songs by Play Count:\")\n",
    "for i, (track, count) in enumerate(track_play_counts.items(), 1):\n",
    "    print(f\"  {i:2d}. {track}: {count} plays\")"
   ]
  },
  {
   "cell_type": "markdown",
   "id": "20171a99",
   "metadata": {},
   "source": [
    "**Interpretation:** The bar chart above reveals which songs dominated my listening history in terms of raw play count. Repeated plays of the same song might indicate personal favorites, songs that were on heavy rotation during a particular period, or tracks that I frequently return to."
   ]
  },
  {
   "cell_type": "markdown",
   "id": "5fcc929b",
   "metadata": {},
   "source": [
    "### 3.5 EDA Visualization 2: Top 10 Artists by Total Listening Time\n",
    "\n",
    "While play count tells us about frequency, **total listening time** provides a different perspective: which artists have I actually spent the most time listening to? This accounts for both the number of plays and the length of songs.\n",
    "\n",
    "We'll group our data by artist, sum up the total minutes played for each, and visualize the top 10."
   ]
  },
  {
   "cell_type": "code",
   "execution_count": 10,
   "id": "9f484a00",
   "metadata": {},
   "outputs": [
    {
     "data": {
      "application/vnd.plotly.v1+json": {
       "config": {
        "plotlyServerURL": "https://plot.ly"
       },
       "data": [
        {
         "hovertemplate": "Total Minutes Played=%{x}<br>Artist Name=%{y}<br>color=%{marker.color}<extra></extra>",
         "legendgroup": "",
         "marker": {
          "color": {
           "bdata": "6ylfvfcGh0A7vVKWoXOJQLlrCfkgk41AVE/56v3Aj0AIPZtVf62VQIR5ov5tXJhAcBjfKuI8mkCCThvotJCeQNbqmODRqKhABoGVQwvMtEA=",
           "dtype": "f8"
          },
          "coloraxis": "coloraxis",
          "pattern": {
           "shape": ""
          }
         },
         "name": "",
         "orientation": "h",
         "showlegend": false,
         "textposition": "auto",
         "type": "bar",
         "x": {
          "bdata": "6ylfvfcGh0A7vVKWoXOJQLlrCfkgk41AVE/56v3Aj0AIPZtVf62VQIR5ov5tXJhAcBjfKuI8mkCCThvotJCeQNbqmODRqKhABoGVQwvMtEA=",
          "dtype": "f8"
         },
         "xaxis": "x",
         "y": [
          "King Promise",
          "Ayra Starr",
          "Asake",
          "Stormzy",
          "Adele",
          "Dave",
          "SYML",
          "Hillsong Worship",
          "Hillsong UNITED",
          "Elevation Worship"
         ],
         "yaxis": "y"
        }
       ],
       "layout": {
        "barmode": "relative",
        "coloraxis": {
         "colorbar": {
          "title": {
           "text": "color"
          }
         },
         "colorscale": [
          [
           0,
           "#440154"
          ],
          [
           0.1111111111111111,
           "#482878"
          ],
          [
           0.2222222222222222,
           "#3e4989"
          ],
          [
           0.3333333333333333,
           "#31688e"
          ],
          [
           0.4444444444444444,
           "#26828e"
          ],
          [
           0.5555555555555556,
           "#1f9e89"
          ],
          [
           0.6666666666666666,
           "#35b779"
          ],
          [
           0.7777777777777778,
           "#6ece58"
          ],
          [
           0.8888888888888888,
           "#b5de2b"
          ],
          [
           1,
           "#fde725"
          ]
         ]
        },
        "height": 500,
        "legend": {
         "tracegroupgap": 0
        },
        "showlegend": false,
        "template": {
         "data": {
          "bar": [
           {
            "error_x": {
             "color": "#2a3f5f"
            },
            "error_y": {
             "color": "#2a3f5f"
            },
            "marker": {
             "line": {
              "color": "#E5ECF6",
              "width": 0.5
             },
             "pattern": {
              "fillmode": "overlay",
              "size": 10,
              "solidity": 0.2
             }
            },
            "type": "bar"
           }
          ],
          "barpolar": [
           {
            "marker": {
             "line": {
              "color": "#E5ECF6",
              "width": 0.5
             },
             "pattern": {
              "fillmode": "overlay",
              "size": 10,
              "solidity": 0.2
             }
            },
            "type": "barpolar"
           }
          ],
          "carpet": [
           {
            "aaxis": {
             "endlinecolor": "#2a3f5f",
             "gridcolor": "white",
             "linecolor": "white",
             "minorgridcolor": "white",
             "startlinecolor": "#2a3f5f"
            },
            "baxis": {
             "endlinecolor": "#2a3f5f",
             "gridcolor": "white",
             "linecolor": "white",
             "minorgridcolor": "white",
             "startlinecolor": "#2a3f5f"
            },
            "type": "carpet"
           }
          ],
          "choropleth": [
           {
            "colorbar": {
             "outlinewidth": 0,
             "ticks": ""
            },
            "type": "choropleth"
           }
          ],
          "contour": [
           {
            "colorbar": {
             "outlinewidth": 0,
             "ticks": ""
            },
            "colorscale": [
             [
              0,
              "#0d0887"
             ],
             [
              0.1111111111111111,
              "#46039f"
             ],
             [
              0.2222222222222222,
              "#7201a8"
             ],
             [
              0.3333333333333333,
              "#9c179e"
             ],
             [
              0.4444444444444444,
              "#bd3786"
             ],
             [
              0.5555555555555556,
              "#d8576b"
             ],
             [
              0.6666666666666666,
              "#ed7953"
             ],
             [
              0.7777777777777778,
              "#fb9f3a"
             ],
             [
              0.8888888888888888,
              "#fdca26"
             ],
             [
              1,
              "#f0f921"
             ]
            ],
            "type": "contour"
           }
          ],
          "contourcarpet": [
           {
            "colorbar": {
             "outlinewidth": 0,
             "ticks": ""
            },
            "type": "contourcarpet"
           }
          ],
          "heatmap": [
           {
            "colorbar": {
             "outlinewidth": 0,
             "ticks": ""
            },
            "colorscale": [
             [
              0,
              "#0d0887"
             ],
             [
              0.1111111111111111,
              "#46039f"
             ],
             [
              0.2222222222222222,
              "#7201a8"
             ],
             [
              0.3333333333333333,
              "#9c179e"
             ],
             [
              0.4444444444444444,
              "#bd3786"
             ],
             [
              0.5555555555555556,
              "#d8576b"
             ],
             [
              0.6666666666666666,
              "#ed7953"
             ],
             [
              0.7777777777777778,
              "#fb9f3a"
             ],
             [
              0.8888888888888888,
              "#fdca26"
             ],
             [
              1,
              "#f0f921"
             ]
            ],
            "type": "heatmap"
           }
          ],
          "histogram": [
           {
            "marker": {
             "pattern": {
              "fillmode": "overlay",
              "size": 10,
              "solidity": 0.2
             }
            },
            "type": "histogram"
           }
          ],
          "histogram2d": [
           {
            "colorbar": {
             "outlinewidth": 0,
             "ticks": ""
            },
            "colorscale": [
             [
              0,
              "#0d0887"
             ],
             [
              0.1111111111111111,
              "#46039f"
             ],
             [
              0.2222222222222222,
              "#7201a8"
             ],
             [
              0.3333333333333333,
              "#9c179e"
             ],
             [
              0.4444444444444444,
              "#bd3786"
             ],
             [
              0.5555555555555556,
              "#d8576b"
             ],
             [
              0.6666666666666666,
              "#ed7953"
             ],
             [
              0.7777777777777778,
              "#fb9f3a"
             ],
             [
              0.8888888888888888,
              "#fdca26"
             ],
             [
              1,
              "#f0f921"
             ]
            ],
            "type": "histogram2d"
           }
          ],
          "histogram2dcontour": [
           {
            "colorbar": {
             "outlinewidth": 0,
             "ticks": ""
            },
            "colorscale": [
             [
              0,
              "#0d0887"
             ],
             [
              0.1111111111111111,
              "#46039f"
             ],
             [
              0.2222222222222222,
              "#7201a8"
             ],
             [
              0.3333333333333333,
              "#9c179e"
             ],
             [
              0.4444444444444444,
              "#bd3786"
             ],
             [
              0.5555555555555556,
              "#d8576b"
             ],
             [
              0.6666666666666666,
              "#ed7953"
             ],
             [
              0.7777777777777778,
              "#fb9f3a"
             ],
             [
              0.8888888888888888,
              "#fdca26"
             ],
             [
              1,
              "#f0f921"
             ]
            ],
            "type": "histogram2dcontour"
           }
          ],
          "mesh3d": [
           {
            "colorbar": {
             "outlinewidth": 0,
             "ticks": ""
            },
            "type": "mesh3d"
           }
          ],
          "parcoords": [
           {
            "line": {
             "colorbar": {
              "outlinewidth": 0,
              "ticks": ""
             }
            },
            "type": "parcoords"
           }
          ],
          "pie": [
           {
            "automargin": true,
            "type": "pie"
           }
          ],
          "scatter": [
           {
            "fillpattern": {
             "fillmode": "overlay",
             "size": 10,
             "solidity": 0.2
            },
            "type": "scatter"
           }
          ],
          "scatter3d": [
           {
            "line": {
             "colorbar": {
              "outlinewidth": 0,
              "ticks": ""
             }
            },
            "marker": {
             "colorbar": {
              "outlinewidth": 0,
              "ticks": ""
             }
            },
            "type": "scatter3d"
           }
          ],
          "scattercarpet": [
           {
            "marker": {
             "colorbar": {
              "outlinewidth": 0,
              "ticks": ""
             }
            },
            "type": "scattercarpet"
           }
          ],
          "scattergeo": [
           {
            "marker": {
             "colorbar": {
              "outlinewidth": 0,
              "ticks": ""
             }
            },
            "type": "scattergeo"
           }
          ],
          "scattergl": [
           {
            "marker": {
             "colorbar": {
              "outlinewidth": 0,
              "ticks": ""
             }
            },
            "type": "scattergl"
           }
          ],
          "scattermap": [
           {
            "marker": {
             "colorbar": {
              "outlinewidth": 0,
              "ticks": ""
             }
            },
            "type": "scattermap"
           }
          ],
          "scattermapbox": [
           {
            "marker": {
             "colorbar": {
              "outlinewidth": 0,
              "ticks": ""
             }
            },
            "type": "scattermapbox"
           }
          ],
          "scatterpolar": [
           {
            "marker": {
             "colorbar": {
              "outlinewidth": 0,
              "ticks": ""
             }
            },
            "type": "scatterpolar"
           }
          ],
          "scatterpolargl": [
           {
            "marker": {
             "colorbar": {
              "outlinewidth": 0,
              "ticks": ""
             }
            },
            "type": "scatterpolargl"
           }
          ],
          "scatterternary": [
           {
            "marker": {
             "colorbar": {
              "outlinewidth": 0,
              "ticks": ""
             }
            },
            "type": "scatterternary"
           }
          ],
          "surface": [
           {
            "colorbar": {
             "outlinewidth": 0,
             "ticks": ""
            },
            "colorscale": [
             [
              0,
              "#0d0887"
             ],
             [
              0.1111111111111111,
              "#46039f"
             ],
             [
              0.2222222222222222,
              "#7201a8"
             ],
             [
              0.3333333333333333,
              "#9c179e"
             ],
             [
              0.4444444444444444,
              "#bd3786"
             ],
             [
              0.5555555555555556,
              "#d8576b"
             ],
             [
              0.6666666666666666,
              "#ed7953"
             ],
             [
              0.7777777777777778,
              "#fb9f3a"
             ],
             [
              0.8888888888888888,
              "#fdca26"
             ],
             [
              1,
              "#f0f921"
             ]
            ],
            "type": "surface"
           }
          ],
          "table": [
           {
            "cells": {
             "fill": {
              "color": "#EBF0F8"
             },
             "line": {
              "color": "white"
             }
            },
            "header": {
             "fill": {
              "color": "#C8D4E3"
             },
             "line": {
              "color": "white"
             }
            },
            "type": "table"
           }
          ]
         },
         "layout": {
          "annotationdefaults": {
           "arrowcolor": "#2a3f5f",
           "arrowhead": 0,
           "arrowwidth": 1
          },
          "autotypenumbers": "strict",
          "coloraxis": {
           "colorbar": {
            "outlinewidth": 0,
            "ticks": ""
           }
          },
          "colorscale": {
           "diverging": [
            [
             0,
             "#8e0152"
            ],
            [
             0.1,
             "#c51b7d"
            ],
            [
             0.2,
             "#de77ae"
            ],
            [
             0.3,
             "#f1b6da"
            ],
            [
             0.4,
             "#fde0ef"
            ],
            [
             0.5,
             "#f7f7f7"
            ],
            [
             0.6,
             "#e6f5d0"
            ],
            [
             0.7,
             "#b8e186"
            ],
            [
             0.8,
             "#7fbc41"
            ],
            [
             0.9,
             "#4d9221"
            ],
            [
             1,
             "#276419"
            ]
           ],
           "sequential": [
            [
             0,
             "#0d0887"
            ],
            [
             0.1111111111111111,
             "#46039f"
            ],
            [
             0.2222222222222222,
             "#7201a8"
            ],
            [
             0.3333333333333333,
             "#9c179e"
            ],
            [
             0.4444444444444444,
             "#bd3786"
            ],
            [
             0.5555555555555556,
             "#d8576b"
            ],
            [
             0.6666666666666666,
             "#ed7953"
            ],
            [
             0.7777777777777778,
             "#fb9f3a"
            ],
            [
             0.8888888888888888,
             "#fdca26"
            ],
            [
             1,
             "#f0f921"
            ]
           ],
           "sequentialminus": [
            [
             0,
             "#0d0887"
            ],
            [
             0.1111111111111111,
             "#46039f"
            ],
            [
             0.2222222222222222,
             "#7201a8"
            ],
            [
             0.3333333333333333,
             "#9c179e"
            ],
            [
             0.4444444444444444,
             "#bd3786"
            ],
            [
             0.5555555555555556,
             "#d8576b"
            ],
            [
             0.6666666666666666,
             "#ed7953"
            ],
            [
             0.7777777777777778,
             "#fb9f3a"
            ],
            [
             0.8888888888888888,
             "#fdca26"
            ],
            [
             1,
             "#f0f921"
            ]
           ]
          },
          "colorway": [
           "#636efa",
           "#EF553B",
           "#00cc96",
           "#ab63fa",
           "#FFA15A",
           "#19d3f3",
           "#FF6692",
           "#B6E880",
           "#FF97FF",
           "#FECB52"
          ],
          "font": {
           "color": "#2a3f5f"
          },
          "geo": {
           "bgcolor": "white",
           "lakecolor": "white",
           "landcolor": "#E5ECF6",
           "showlakes": true,
           "showland": true,
           "subunitcolor": "white"
          },
          "hoverlabel": {
           "align": "left"
          },
          "hovermode": "closest",
          "mapbox": {
           "style": "light"
          },
          "paper_bgcolor": "white",
          "plot_bgcolor": "#E5ECF6",
          "polar": {
           "angularaxis": {
            "gridcolor": "white",
            "linecolor": "white",
            "ticks": ""
           },
           "bgcolor": "#E5ECF6",
           "radialaxis": {
            "gridcolor": "white",
            "linecolor": "white",
            "ticks": ""
           }
          },
          "scene": {
           "xaxis": {
            "backgroundcolor": "#E5ECF6",
            "gridcolor": "white",
            "gridwidth": 2,
            "linecolor": "white",
            "showbackground": true,
            "ticks": "",
            "zerolinecolor": "white"
           },
           "yaxis": {
            "backgroundcolor": "#E5ECF6",
            "gridcolor": "white",
            "gridwidth": 2,
            "linecolor": "white",
            "showbackground": true,
            "ticks": "",
            "zerolinecolor": "white"
           },
           "zaxis": {
            "backgroundcolor": "#E5ECF6",
            "gridcolor": "white",
            "gridwidth": 2,
            "linecolor": "white",
            "showbackground": true,
            "ticks": "",
            "zerolinecolor": "white"
           }
          },
          "shapedefaults": {
           "line": {
            "color": "#2a3f5f"
           }
          },
          "ternary": {
           "aaxis": {
            "gridcolor": "white",
            "linecolor": "white",
            "ticks": ""
           },
           "baxis": {
            "gridcolor": "white",
            "linecolor": "white",
            "ticks": ""
           },
           "bgcolor": "#E5ECF6",
           "caxis": {
            "gridcolor": "white",
            "linecolor": "white",
            "ticks": ""
           }
          },
          "title": {
           "x": 0.05
          },
          "xaxis": {
           "automargin": true,
           "gridcolor": "white",
           "linecolor": "white",
           "ticks": "",
           "title": {
            "standoff": 15
           },
           "zerolinecolor": "white",
           "zerolinewidth": 2
          },
          "yaxis": {
           "automargin": true,
           "gridcolor": "white",
           "linecolor": "white",
           "ticks": "",
           "title": {
            "standoff": 15
           },
           "zerolinecolor": "white",
           "zerolinewidth": 2
          }
         }
        },
        "title": {
         "text": "Top 10 Artists by Total Listening Time"
        },
        "xaxis": {
         "anchor": "y",
         "domain": [
          0,
          1
         ],
         "title": {
          "text": "Total Minutes Played"
         }
        },
        "yaxis": {
         "anchor": "x",
         "domain": [
          0,
          1
         ],
         "title": {
          "text": "Artist Name"
         }
        }
       }
      }
     },
     "metadata": {},
     "output_type": "display_data"
    },
    {
     "name": "stdout",
     "output_type": "stream",
     "text": [
      "\n",
      "Top 10 Artists by Total Listening Time:\n",
      "   1. Elevation Worship: 5324.04 minutes (88.73 hours)\n",
      "   2. Hillsong UNITED: 3156.41 minutes (52.61 hours)\n",
      "   3. Hillsong Worship: 1956.18 minutes (32.60 hours)\n",
      "   4. SYML: 1679.22 minutes (27.99 hours)\n",
      "   5. Dave: 1559.11 minutes (25.99 hours)\n",
      "   6. Adele: 1387.37 minutes (23.12 hours)\n",
      "   7. Stormzy: 1016.12 minutes (16.94 hours)\n",
      "   8. Asake: 946.39 minutes (15.77 hours)\n",
      "   9. Ayra Starr: 814.45 minutes (13.57 hours)\n",
      "  10. King Promise: 736.87 minutes (12.28 hours)\n"
     ]
    }
   ],
   "source": [
    "# Calculate total listening time per artist\n",
    "artist_listening_time = df_cleaned.groupby('artist_name')['minutes_played'].sum().nlargest(10).sort_values()\n",
    "\n",
    "# Create horizontal bar chart (better for long artist names)\n",
    "fig_top_artists = px.bar(\n",
    "    x=artist_listening_time.values,\n",
    "    y=artist_listening_time.index,\n",
    "    labels={'x': 'Total Minutes Played', 'y': 'Artist Name'},\n",
    "    title='Top 10 Artists by Total Listening Time',\n",
    "    orientation='h',\n",
    "    color=artist_listening_time.values,\n",
    "    color_continuous_scale='Viridis'\n",
    ")\n",
    "\n",
    "fig_top_artists.update_layout(\n",
    "    height=500,\n",
    "    showlegend=False\n",
    ")\n",
    "\n",
    "fig_top_artists.show()\n",
    "\n",
    "print(\"\\nTop 10 Artists by Total Listening Time:\")\n",
    "for i, (artist, minutes) in enumerate(artist_listening_time.sort_values(ascending=False).items(), 1):\n",
    "    hours = minutes / 60\n",
    "    print(f\"  {i:2d}. {artist}: {minutes:.2f} minutes ({hours:.2f} hours)\")"
   ]
  },
  {
   "cell_type": "markdown",
   "id": "d05fc763",
   "metadata": {},
   "source": [
    "**Interpretation:** This visualization highlights the artists who have commanded the most of my listening attention. Unlike play count, this metric weights longer songs and albums more heavily, potentially revealing different patterns. An artist with many short songs might have a high play count but lower total listening time compared to an artist with epic, lengthy tracks."
   ]
  },
  {
   "cell_type": "markdown",
   "id": "0b11712a",
   "metadata": {},
   "source": [
    "### 3.6 EDA Visualization 3: Listening Activity Over Time\n",
    "\n",
    "To understand temporal patterns in my listening behavior, we'll analyze how my streaming activity varies over time. This can reveal seasonal trends, busy periods, or changes in listening habits."
   ]
  },
  {
   "cell_type": "code",
   "execution_count": 11,
   "id": "aa96fd96",
   "metadata": {},
   "outputs": [
    {
     "data": {
      "application/vnd.plotly.v1+json": {
       "config": {
        "plotlyServerURL": "https://plot.ly"
       },
       "data": [
        {
         "hovertemplate": "Date=%{x}<br>Minutes Played=%{y}<extra></extra>",
         "legendgroup": "",
         "line": {
          "color": "#1DB954",
          "dash": "solid"
         },
         "marker": {
          "symbol": "circle"
         },
         "mode": "lines",
         "name": "",
         "orientation": "v",
         "showlegend": false,
         "type": "scatter",
         "x": [
          "2023-09-04T00:00:00.000000000",
          "2023-09-05T00:00:00.000000000",
          "2023-09-06T00:00:00.000000000",
          "2023-09-07T00:00:00.000000000",
          "2023-09-08T00:00:00.000000000",
          "2023-09-09T00:00:00.000000000",
          "2023-09-10T00:00:00.000000000",
          "2023-09-11T00:00:00.000000000",
          "2023-09-15T00:00:00.000000000",
          "2023-09-16T00:00:00.000000000",
          "2023-09-17T00:00:00.000000000",
          "2023-09-19T00:00:00.000000000",
          "2023-10-28T00:00:00.000000000",
          "2023-10-29T00:00:00.000000000",
          "2023-11-09T00:00:00.000000000",
          "2023-11-15T00:00:00.000000000",
          "2023-11-18T00:00:00.000000000",
          "2023-11-23T00:00:00.000000000",
          "2023-12-01T00:00:00.000000000",
          "2023-12-06T00:00:00.000000000",
          "2023-12-08T00:00:00.000000000",
          "2023-12-09T00:00:00.000000000",
          "2023-12-10T00:00:00.000000000",
          "2023-12-11T00:00:00.000000000",
          "2023-12-12T00:00:00.000000000",
          "2023-12-13T00:00:00.000000000",
          "2023-12-14T00:00:00.000000000",
          "2023-12-15T00:00:00.000000000",
          "2023-12-17T00:00:00.000000000",
          "2023-12-18T00:00:00.000000000",
          "2023-12-20T00:00:00.000000000",
          "2023-12-21T00:00:00.000000000",
          "2023-12-23T00:00:00.000000000",
          "2023-12-24T00:00:00.000000000",
          "2023-12-25T00:00:00.000000000",
          "2023-12-29T00:00:00.000000000",
          "2023-12-31T00:00:00.000000000",
          "2024-01-01T00:00:00.000000000",
          "2024-01-02T00:00:00.000000000",
          "2024-01-03T00:00:00.000000000",
          "2024-01-04T00:00:00.000000000",
          "2024-01-05T00:00:00.000000000",
          "2024-01-06T00:00:00.000000000",
          "2024-01-10T00:00:00.000000000",
          "2024-01-11T00:00:00.000000000",
          "2024-01-12T00:00:00.000000000",
          "2024-01-14T00:00:00.000000000",
          "2024-01-18T00:00:00.000000000",
          "2024-01-22T00:00:00.000000000",
          "2024-01-23T00:00:00.000000000",
          "2024-01-26T00:00:00.000000000",
          "2024-01-27T00:00:00.000000000",
          "2024-01-28T00:00:00.000000000",
          "2024-01-29T00:00:00.000000000",
          "2024-01-30T00:00:00.000000000",
          "2024-02-02T00:00:00.000000000",
          "2024-02-03T00:00:00.000000000",
          "2024-02-16T00:00:00.000000000",
          "2024-02-17T00:00:00.000000000",
          "2024-03-01T00:00:00.000000000",
          "2024-03-02T00:00:00.000000000",
          "2024-03-04T00:00:00.000000000",
          "2024-03-07T00:00:00.000000000",
          "2024-03-13T00:00:00.000000000",
          "2024-03-14T00:00:00.000000000",
          "2024-03-17T00:00:00.000000000",
          "2024-03-18T00:00:00.000000000",
          "2024-03-24T00:00:00.000000000",
          "2024-03-27T00:00:00.000000000",
          "2024-03-29T00:00:00.000000000",
          "2024-03-31T00:00:00.000000000",
          "2024-04-06T00:00:00.000000000",
          "2024-04-07T00:00:00.000000000",
          "2024-04-10T00:00:00.000000000",
          "2024-04-11T00:00:00.000000000",
          "2024-04-13T00:00:00.000000000",
          "2024-04-14T00:00:00.000000000",
          "2024-04-15T00:00:00.000000000",
          "2024-04-17T00:00:00.000000000",
          "2024-04-18T00:00:00.000000000",
          "2024-04-19T00:00:00.000000000",
          "2024-04-20T00:00:00.000000000",
          "2024-04-21T00:00:00.000000000",
          "2024-04-22T00:00:00.000000000",
          "2024-04-23T00:00:00.000000000",
          "2024-04-24T00:00:00.000000000",
          "2024-04-25T00:00:00.000000000",
          "2024-04-28T00:00:00.000000000",
          "2024-04-29T00:00:00.000000000",
          "2024-04-30T00:00:00.000000000",
          "2024-05-01T00:00:00.000000000",
          "2024-05-03T00:00:00.000000000",
          "2024-05-04T00:00:00.000000000",
          "2024-05-06T00:00:00.000000000",
          "2024-05-07T00:00:00.000000000",
          "2024-05-08T00:00:00.000000000",
          "2024-05-09T00:00:00.000000000",
          "2024-05-10T00:00:00.000000000",
          "2024-05-11T00:00:00.000000000",
          "2024-05-12T00:00:00.000000000",
          "2024-05-13T00:00:00.000000000",
          "2024-05-14T00:00:00.000000000",
          "2024-05-15T00:00:00.000000000",
          "2024-05-16T00:00:00.000000000",
          "2024-05-17T00:00:00.000000000",
          "2024-05-18T00:00:00.000000000",
          "2024-05-19T00:00:00.000000000",
          "2024-05-20T00:00:00.000000000",
          "2024-05-21T00:00:00.000000000",
          "2024-05-22T00:00:00.000000000",
          "2024-05-23T00:00:00.000000000",
          "2024-05-24T00:00:00.000000000",
          "2024-05-25T00:00:00.000000000",
          "2024-05-26T00:00:00.000000000",
          "2024-05-27T00:00:00.000000000",
          "2024-05-28T00:00:00.000000000",
          "2024-05-29T00:00:00.000000000",
          "2024-05-30T00:00:00.000000000",
          "2024-05-31T00:00:00.000000000",
          "2024-06-01T00:00:00.000000000",
          "2024-06-02T00:00:00.000000000",
          "2024-06-03T00:00:00.000000000",
          "2024-06-04T00:00:00.000000000",
          "2024-06-05T00:00:00.000000000",
          "2024-06-06T00:00:00.000000000",
          "2024-06-07T00:00:00.000000000",
          "2024-06-08T00:00:00.000000000",
          "2024-06-09T00:00:00.000000000",
          "2024-06-10T00:00:00.000000000",
          "2024-06-11T00:00:00.000000000",
          "2024-06-12T00:00:00.000000000",
          "2024-06-13T00:00:00.000000000",
          "2024-06-14T00:00:00.000000000",
          "2024-06-15T00:00:00.000000000",
          "2024-06-16T00:00:00.000000000",
          "2024-06-17T00:00:00.000000000",
          "2024-06-18T00:00:00.000000000",
          "2024-06-19T00:00:00.000000000",
          "2024-06-20T00:00:00.000000000",
          "2024-06-21T00:00:00.000000000",
          "2024-06-22T00:00:00.000000000",
          "2024-06-23T00:00:00.000000000",
          "2024-06-24T00:00:00.000000000",
          "2024-06-25T00:00:00.000000000",
          "2024-06-26T00:00:00.000000000",
          "2024-06-27T00:00:00.000000000",
          "2024-06-28T00:00:00.000000000",
          "2024-06-29T00:00:00.000000000",
          "2024-06-30T00:00:00.000000000",
          "2024-07-01T00:00:00.000000000",
          "2024-07-02T00:00:00.000000000",
          "2024-07-03T00:00:00.000000000",
          "2024-07-04T00:00:00.000000000",
          "2024-07-05T00:00:00.000000000",
          "2024-07-06T00:00:00.000000000",
          "2024-07-07T00:00:00.000000000",
          "2024-07-08T00:00:00.000000000",
          "2024-07-09T00:00:00.000000000",
          "2024-07-10T00:00:00.000000000",
          "2024-07-11T00:00:00.000000000",
          "2024-07-12T00:00:00.000000000",
          "2024-07-13T00:00:00.000000000",
          "2024-07-14T00:00:00.000000000",
          "2024-07-15T00:00:00.000000000",
          "2024-07-16T00:00:00.000000000",
          "2024-07-17T00:00:00.000000000",
          "2024-07-18T00:00:00.000000000",
          "2024-07-19T00:00:00.000000000",
          "2024-07-20T00:00:00.000000000",
          "2024-07-21T00:00:00.000000000",
          "2024-07-22T00:00:00.000000000",
          "2024-07-23T00:00:00.000000000",
          "2024-07-24T00:00:00.000000000",
          "2024-07-25T00:00:00.000000000",
          "2024-07-26T00:00:00.000000000",
          "2024-07-27T00:00:00.000000000",
          "2024-07-28T00:00:00.000000000",
          "2024-07-29T00:00:00.000000000",
          "2024-07-30T00:00:00.000000000",
          "2024-07-31T00:00:00.000000000",
          "2024-08-01T00:00:00.000000000",
          "2024-08-02T00:00:00.000000000",
          "2024-08-03T00:00:00.000000000",
          "2024-08-04T00:00:00.000000000",
          "2024-08-05T00:00:00.000000000",
          "2024-08-06T00:00:00.000000000",
          "2024-08-07T00:00:00.000000000",
          "2024-08-08T00:00:00.000000000",
          "2024-08-09T00:00:00.000000000",
          "2024-08-10T00:00:00.000000000",
          "2024-08-11T00:00:00.000000000",
          "2024-08-12T00:00:00.000000000",
          "2024-08-13T00:00:00.000000000",
          "2024-08-14T00:00:00.000000000",
          "2024-08-15T00:00:00.000000000",
          "2024-08-16T00:00:00.000000000",
          "2024-08-17T00:00:00.000000000",
          "2024-08-18T00:00:00.000000000",
          "2024-08-19T00:00:00.000000000",
          "2024-08-20T00:00:00.000000000",
          "2024-08-21T00:00:00.000000000",
          "2024-08-22T00:00:00.000000000",
          "2024-08-23T00:00:00.000000000",
          "2024-08-24T00:00:00.000000000",
          "2024-08-25T00:00:00.000000000",
          "2024-08-26T00:00:00.000000000",
          "2024-08-28T00:00:00.000000000",
          "2024-08-31T00:00:00.000000000",
          "2024-09-01T00:00:00.000000000",
          "2024-09-02T00:00:00.000000000",
          "2024-09-05T00:00:00.000000000",
          "2024-09-06T00:00:00.000000000",
          "2024-09-07T00:00:00.000000000",
          "2024-09-08T00:00:00.000000000",
          "2024-09-11T00:00:00.000000000",
          "2024-09-12T00:00:00.000000000",
          "2024-09-13T00:00:00.000000000",
          "2024-09-15T00:00:00.000000000",
          "2024-09-16T00:00:00.000000000",
          "2024-09-17T00:00:00.000000000",
          "2024-09-18T00:00:00.000000000",
          "2024-09-20T00:00:00.000000000",
          "2024-09-21T00:00:00.000000000",
          "2024-09-22T00:00:00.000000000",
          "2024-09-23T00:00:00.000000000",
          "2024-09-25T00:00:00.000000000",
          "2024-09-26T00:00:00.000000000",
          "2024-09-27T00:00:00.000000000",
          "2024-09-29T00:00:00.000000000",
          "2024-09-30T00:00:00.000000000",
          "2024-10-01T00:00:00.000000000",
          "2024-10-02T00:00:00.000000000",
          "2024-10-03T00:00:00.000000000",
          "2024-10-04T00:00:00.000000000",
          "2024-10-05T00:00:00.000000000",
          "2024-10-06T00:00:00.000000000",
          "2024-10-07T00:00:00.000000000",
          "2024-10-08T00:00:00.000000000",
          "2024-10-09T00:00:00.000000000",
          "2024-10-10T00:00:00.000000000",
          "2024-10-11T00:00:00.000000000",
          "2024-10-12T00:00:00.000000000",
          "2024-10-13T00:00:00.000000000",
          "2024-10-14T00:00:00.000000000",
          "2024-10-15T00:00:00.000000000",
          "2024-10-17T00:00:00.000000000",
          "2024-10-18T00:00:00.000000000",
          "2024-10-19T00:00:00.000000000",
          "2024-10-20T00:00:00.000000000",
          "2024-10-21T00:00:00.000000000",
          "2024-10-22T00:00:00.000000000",
          "2024-10-23T00:00:00.000000000",
          "2024-10-24T00:00:00.000000000",
          "2024-10-25T00:00:00.000000000",
          "2024-10-26T00:00:00.000000000",
          "2024-10-27T00:00:00.000000000",
          "2024-10-28T00:00:00.000000000",
          "2024-10-29T00:00:00.000000000",
          "2024-10-30T00:00:00.000000000",
          "2024-10-31T00:00:00.000000000",
          "2024-11-01T00:00:00.000000000",
          "2024-11-02T00:00:00.000000000",
          "2024-11-03T00:00:00.000000000",
          "2024-11-04T00:00:00.000000000",
          "2024-11-05T00:00:00.000000000",
          "2024-11-06T00:00:00.000000000",
          "2024-11-07T00:00:00.000000000",
          "2024-11-08T00:00:00.000000000",
          "2024-11-09T00:00:00.000000000",
          "2024-11-10T00:00:00.000000000",
          "2024-11-11T00:00:00.000000000",
          "2024-11-13T00:00:00.000000000",
          "2024-11-14T00:00:00.000000000",
          "2024-11-15T00:00:00.000000000",
          "2024-11-16T00:00:00.000000000",
          "2024-11-17T00:00:00.000000000",
          "2024-11-18T00:00:00.000000000",
          "2024-11-19T00:00:00.000000000",
          "2024-11-20T00:00:00.000000000",
          "2024-11-21T00:00:00.000000000",
          "2024-11-22T00:00:00.000000000",
          "2024-11-23T00:00:00.000000000",
          "2024-11-24T00:00:00.000000000",
          "2024-11-25T00:00:00.000000000",
          "2024-11-26T00:00:00.000000000",
          "2024-11-27T00:00:00.000000000",
          "2024-11-28T00:00:00.000000000",
          "2024-11-29T00:00:00.000000000",
          "2024-11-30T00:00:00.000000000",
          "2024-12-01T00:00:00.000000000",
          "2024-12-02T00:00:00.000000000",
          "2024-12-03T00:00:00.000000000",
          "2024-12-04T00:00:00.000000000",
          "2024-12-05T00:00:00.000000000",
          "2024-12-06T00:00:00.000000000",
          "2024-12-07T00:00:00.000000000",
          "2024-12-08T00:00:00.000000000",
          "2024-12-09T00:00:00.000000000",
          "2024-12-10T00:00:00.000000000",
          "2024-12-11T00:00:00.000000000",
          "2024-12-12T00:00:00.000000000",
          "2024-12-13T00:00:00.000000000",
          "2024-12-15T00:00:00.000000000",
          "2024-12-16T00:00:00.000000000",
          "2024-12-17T00:00:00.000000000",
          "2024-12-18T00:00:00.000000000",
          "2024-12-19T00:00:00.000000000",
          "2024-12-20T00:00:00.000000000",
          "2024-12-21T00:00:00.000000000",
          "2024-12-22T00:00:00.000000000",
          "2024-12-23T00:00:00.000000000",
          "2024-12-24T00:00:00.000000000",
          "2024-12-25T00:00:00.000000000",
          "2024-12-26T00:00:00.000000000",
          "2024-12-27T00:00:00.000000000",
          "2024-12-28T00:00:00.000000000",
          "2024-12-29T00:00:00.000000000",
          "2024-12-30T00:00:00.000000000",
          "2024-12-31T00:00:00.000000000",
          "2025-01-01T00:00:00.000000000",
          "2025-01-02T00:00:00.000000000",
          "2025-01-03T00:00:00.000000000",
          "2025-01-04T00:00:00.000000000",
          "2025-01-05T00:00:00.000000000",
          "2025-01-06T00:00:00.000000000",
          "2025-01-07T00:00:00.000000000",
          "2025-01-08T00:00:00.000000000",
          "2025-01-09T00:00:00.000000000",
          "2025-01-10T00:00:00.000000000",
          "2025-01-11T00:00:00.000000000",
          "2025-01-12T00:00:00.000000000",
          "2025-01-13T00:00:00.000000000",
          "2025-01-14T00:00:00.000000000",
          "2025-01-15T00:00:00.000000000",
          "2025-01-16T00:00:00.000000000",
          "2025-01-17T00:00:00.000000000",
          "2025-01-18T00:00:00.000000000",
          "2025-01-19T00:00:00.000000000",
          "2025-01-20T00:00:00.000000000",
          "2025-01-21T00:00:00.000000000",
          "2025-01-22T00:00:00.000000000",
          "2025-01-23T00:00:00.000000000",
          "2025-01-24T00:00:00.000000000",
          "2025-01-25T00:00:00.000000000",
          "2025-01-26T00:00:00.000000000",
          "2025-01-27T00:00:00.000000000",
          "2025-01-28T00:00:00.000000000",
          "2025-01-29T00:00:00.000000000",
          "2025-01-30T00:00:00.000000000",
          "2025-01-31T00:00:00.000000000",
          "2025-02-01T00:00:00.000000000",
          "2025-02-02T00:00:00.000000000",
          "2025-02-03T00:00:00.000000000",
          "2025-02-04T00:00:00.000000000",
          "2025-02-05T00:00:00.000000000",
          "2025-02-06T00:00:00.000000000",
          "2025-02-07T00:00:00.000000000",
          "2025-02-08T00:00:00.000000000",
          "2025-02-09T00:00:00.000000000",
          "2025-02-10T00:00:00.000000000",
          "2025-02-11T00:00:00.000000000",
          "2025-02-12T00:00:00.000000000",
          "2025-02-13T00:00:00.000000000",
          "2025-02-14T00:00:00.000000000",
          "2025-02-15T00:00:00.000000000",
          "2025-02-16T00:00:00.000000000",
          "2025-02-17T00:00:00.000000000",
          "2025-02-18T00:00:00.000000000",
          "2025-02-19T00:00:00.000000000",
          "2025-02-20T00:00:00.000000000",
          "2025-02-21T00:00:00.000000000",
          "2025-02-22T00:00:00.000000000",
          "2025-02-23T00:00:00.000000000",
          "2025-02-24T00:00:00.000000000",
          "2025-02-25T00:00:00.000000000",
          "2025-02-26T00:00:00.000000000",
          "2025-02-27T00:00:00.000000000",
          "2025-02-28T00:00:00.000000000",
          "2025-03-01T00:00:00.000000000",
          "2025-03-02T00:00:00.000000000",
          "2025-03-03T00:00:00.000000000",
          "2025-03-04T00:00:00.000000000",
          "2025-03-05T00:00:00.000000000",
          "2025-03-06T00:00:00.000000000",
          "2025-03-07T00:00:00.000000000",
          "2025-03-08T00:00:00.000000000",
          "2025-03-09T00:00:00.000000000",
          "2025-03-10T00:00:00.000000000",
          "2025-03-11T00:00:00.000000000",
          "2025-03-12T00:00:00.000000000",
          "2025-03-13T00:00:00.000000000",
          "2025-03-14T00:00:00.000000000",
          "2025-03-15T00:00:00.000000000"
         ],
         "xaxis": "x",
         "y": {
          "bdata": "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",
          "dtype": "f8"
         },
         "yaxis": "y"
        }
       ],
       "layout": {
        "height": 400,
        "legend": {
         "tracegroupgap": 0
        },
        "template": {
         "data": {
          "bar": [
           {
            "error_x": {
             "color": "#2a3f5f"
            },
            "error_y": {
             "color": "#2a3f5f"
            },
            "marker": {
             "line": {
              "color": "#E5ECF6",
              "width": 0.5
             },
             "pattern": {
              "fillmode": "overlay",
              "size": 10,
              "solidity": 0.2
             }
            },
            "type": "bar"
           }
          ],
          "barpolar": [
           {
            "marker": {
             "line": {
              "color": "#E5ECF6",
              "width": 0.5
             },
             "pattern": {
              "fillmode": "overlay",
              "size": 10,
              "solidity": 0.2
             }
            },
            "type": "barpolar"
           }
          ],
          "carpet": [
           {
            "aaxis": {
             "endlinecolor": "#2a3f5f",
             "gridcolor": "white",
             "linecolor": "white",
             "minorgridcolor": "white",
             "startlinecolor": "#2a3f5f"
            },
            "baxis": {
             "endlinecolor": "#2a3f5f",
             "gridcolor": "white",
             "linecolor": "white",
             "minorgridcolor": "white",
             "startlinecolor": "#2a3f5f"
            },
            "type": "carpet"
           }
          ],
          "choropleth": [
           {
            "colorbar": {
             "outlinewidth": 0,
             "ticks": ""
            },
            "type": "choropleth"
           }
          ],
          "contour": [
           {
            "colorbar": {
             "outlinewidth": 0,
             "ticks": ""
            },
            "colorscale": [
             [
              0,
              "#0d0887"
             ],
             [
              0.1111111111111111,
              "#46039f"
             ],
             [
              0.2222222222222222,
              "#7201a8"
             ],
             [
              0.3333333333333333,
              "#9c179e"
             ],
             [
              0.4444444444444444,
              "#bd3786"
             ],
             [
              0.5555555555555556,
              "#d8576b"
             ],
             [
              0.6666666666666666,
              "#ed7953"
             ],
             [
              0.7777777777777778,
              "#fb9f3a"
             ],
             [
              0.8888888888888888,
              "#fdca26"
             ],
             [
              1,
              "#f0f921"
             ]
            ],
            "type": "contour"
           }
          ],
          "contourcarpet": [
           {
            "colorbar": {
             "outlinewidth": 0,
             "ticks": ""
            },
            "type": "contourcarpet"
           }
          ],
          "heatmap": [
           {
            "colorbar": {
             "outlinewidth": 0,
             "ticks": ""
            },
            "colorscale": [
             [
              0,
              "#0d0887"
             ],
             [
              0.1111111111111111,
              "#46039f"
             ],
             [
              0.2222222222222222,
              "#7201a8"
             ],
             [
              0.3333333333333333,
              "#9c179e"
             ],
             [
              0.4444444444444444,
              "#bd3786"
             ],
             [
              0.5555555555555556,
              "#d8576b"
             ],
             [
              0.6666666666666666,
              "#ed7953"
             ],
             [
              0.7777777777777778,
              "#fb9f3a"
             ],
             [
              0.8888888888888888,
              "#fdca26"
             ],
             [
              1,
              "#f0f921"
             ]
            ],
            "type": "heatmap"
           }
          ],
          "histogram": [
           {
            "marker": {
             "pattern": {
              "fillmode": "overlay",
              "size": 10,
              "solidity": 0.2
             }
            },
            "type": "histogram"
           }
          ],
          "histogram2d": [
           {
            "colorbar": {
             "outlinewidth": 0,
             "ticks": ""
            },
            "colorscale": [
             [
              0,
              "#0d0887"
             ],
             [
              0.1111111111111111,
              "#46039f"
             ],
             [
              0.2222222222222222,
              "#7201a8"
             ],
             [
              0.3333333333333333,
              "#9c179e"
             ],
             [
              0.4444444444444444,
              "#bd3786"
             ],
             [
              0.5555555555555556,
              "#d8576b"
             ],
             [
              0.6666666666666666,
              "#ed7953"
             ],
             [
              0.7777777777777778,
              "#fb9f3a"
             ],
             [
              0.8888888888888888,
              "#fdca26"
             ],
             [
              1,
              "#f0f921"
             ]
            ],
            "type": "histogram2d"
           }
          ],
          "histogram2dcontour": [
           {
            "colorbar": {
             "outlinewidth": 0,
             "ticks": ""
            },
            "colorscale": [
             [
              0,
              "#0d0887"
             ],
             [
              0.1111111111111111,
              "#46039f"
             ],
             [
              0.2222222222222222,
              "#7201a8"
             ],
             [
              0.3333333333333333,
              "#9c179e"
             ],
             [
              0.4444444444444444,
              "#bd3786"
             ],
             [
              0.5555555555555556,
              "#d8576b"
             ],
             [
              0.6666666666666666,
              "#ed7953"
             ],
             [
              0.7777777777777778,
              "#fb9f3a"
             ],
             [
              0.8888888888888888,
              "#fdca26"
             ],
             [
              1,
              "#f0f921"
             ]
            ],
            "type": "histogram2dcontour"
           }
          ],
          "mesh3d": [
           {
            "colorbar": {
             "outlinewidth": 0,
             "ticks": ""
            },
            "type": "mesh3d"
           }
          ],
          "parcoords": [
           {
            "line": {
             "colorbar": {
              "outlinewidth": 0,
              "ticks": ""
             }
            },
            "type": "parcoords"
           }
          ],
          "pie": [
           {
            "automargin": true,
            "type": "pie"
           }
          ],
          "scatter": [
           {
            "fillpattern": {
             "fillmode": "overlay",
             "size": 10,
             "solidity": 0.2
            },
            "type": "scatter"
           }
          ],
          "scatter3d": [
           {
            "line": {
             "colorbar": {
              "outlinewidth": 0,
              "ticks": ""
             }
            },
            "marker": {
             "colorbar": {
              "outlinewidth": 0,
              "ticks": ""
             }
            },
            "type": "scatter3d"
           }
          ],
          "scattercarpet": [
           {
            "marker": {
             "colorbar": {
              "outlinewidth": 0,
              "ticks": ""
             }
            },
            "type": "scattercarpet"
           }
          ],
          "scattergeo": [
           {
            "marker": {
             "colorbar": {
              "outlinewidth": 0,
              "ticks": ""
             }
            },
            "type": "scattergeo"
           }
          ],
          "scattergl": [
           {
            "marker": {
             "colorbar": {
              "outlinewidth": 0,
              "ticks": ""
             }
            },
            "type": "scattergl"
           }
          ],
          "scattermap": [
           {
            "marker": {
             "colorbar": {
              "outlinewidth": 0,
              "ticks": ""
             }
            },
            "type": "scattermap"
           }
          ],
          "scattermapbox": [
           {
            "marker": {
             "colorbar": {
              "outlinewidth": 0,
              "ticks": ""
             }
            },
            "type": "scattermapbox"
           }
          ],
          "scatterpolar": [
           {
            "marker": {
             "colorbar": {
              "outlinewidth": 0,
              "ticks": ""
             }
            },
            "type": "scatterpolar"
           }
          ],
          "scatterpolargl": [
           {
            "marker": {
             "colorbar": {
              "outlinewidth": 0,
              "ticks": ""
             }
            },
            "type": "scatterpolargl"
           }
          ],
          "scatterternary": [
           {
            "marker": {
             "colorbar": {
              "outlinewidth": 0,
              "ticks": ""
             }
            },
            "type": "scatterternary"
           }
          ],
          "surface": [
           {
            "colorbar": {
             "outlinewidth": 0,
             "ticks": ""
            },
            "colorscale": [
             [
              0,
              "#0d0887"
             ],
             [
              0.1111111111111111,
              "#46039f"
             ],
             [
              0.2222222222222222,
              "#7201a8"
             ],
             [
              0.3333333333333333,
              "#9c179e"
             ],
             [
              0.4444444444444444,
              "#bd3786"
             ],
             [
              0.5555555555555556,
              "#d8576b"
             ],
             [
              0.6666666666666666,
              "#ed7953"
             ],
             [
              0.7777777777777778,
              "#fb9f3a"
             ],
             [
              0.8888888888888888,
              "#fdca26"
             ],
             [
              1,
              "#f0f921"
             ]
            ],
            "type": "surface"
           }
          ],
          "table": [
           {
            "cells": {
             "fill": {
              "color": "#EBF0F8"
             },
             "line": {
              "color": "white"
             }
            },
            "header": {
             "fill": {
              "color": "#C8D4E3"
             },
             "line": {
              "color": "white"
             }
            },
            "type": "table"
           }
          ]
         },
         "layout": {
          "annotationdefaults": {
           "arrowcolor": "#2a3f5f",
           "arrowhead": 0,
           "arrowwidth": 1
          },
          "autotypenumbers": "strict",
          "coloraxis": {
           "colorbar": {
            "outlinewidth": 0,
            "ticks": ""
           }
          },
          "colorscale": {
           "diverging": [
            [
             0,
             "#8e0152"
            ],
            [
             0.1,
             "#c51b7d"
            ],
            [
             0.2,
             "#de77ae"
            ],
            [
             0.3,
             "#f1b6da"
            ],
            [
             0.4,
             "#fde0ef"
            ],
            [
             0.5,
             "#f7f7f7"
            ],
            [
             0.6,
             "#e6f5d0"
            ],
            [
             0.7,
             "#b8e186"
            ],
            [
             0.8,
             "#7fbc41"
            ],
            [
             0.9,
             "#4d9221"
            ],
            [
             1,
             "#276419"
            ]
           ],
           "sequential": [
            [
             0,
             "#0d0887"
            ],
            [
             0.1111111111111111,
             "#46039f"
            ],
            [
             0.2222222222222222,
             "#7201a8"
            ],
            [
             0.3333333333333333,
             "#9c179e"
            ],
            [
             0.4444444444444444,
             "#bd3786"
            ],
            [
             0.5555555555555556,
             "#d8576b"
            ],
            [
             0.6666666666666666,
             "#ed7953"
            ],
            [
             0.7777777777777778,
             "#fb9f3a"
            ],
            [
             0.8888888888888888,
             "#fdca26"
            ],
            [
             1,
             "#f0f921"
            ]
           ],
           "sequentialminus": [
            [
             0,
             "#0d0887"
            ],
            [
             0.1111111111111111,
             "#46039f"
            ],
            [
             0.2222222222222222,
             "#7201a8"
            ],
            [
             0.3333333333333333,
             "#9c179e"
            ],
            [
             0.4444444444444444,
             "#bd3786"
            ],
            [
             0.5555555555555556,
             "#d8576b"
            ],
            [
             0.6666666666666666,
             "#ed7953"
            ],
            [
             0.7777777777777778,
             "#fb9f3a"
            ],
            [
             0.8888888888888888,
             "#fdca26"
            ],
            [
             1,
             "#f0f921"
            ]
           ]
          },
          "colorway": [
           "#636efa",
           "#EF553B",
           "#00cc96",
           "#ab63fa",
           "#FFA15A",
           "#19d3f3",
           "#FF6692",
           "#B6E880",
           "#FF97FF",
           "#FECB52"
          ],
          "font": {
           "color": "#2a3f5f"
          },
          "geo": {
           "bgcolor": "white",
           "lakecolor": "white",
           "landcolor": "#E5ECF6",
           "showlakes": true,
           "showland": true,
           "subunitcolor": "white"
          },
          "hoverlabel": {
           "align": "left"
          },
          "hovermode": "closest",
          "mapbox": {
           "style": "light"
          },
          "paper_bgcolor": "white",
          "plot_bgcolor": "#E5ECF6",
          "polar": {
           "angularaxis": {
            "gridcolor": "white",
            "linecolor": "white",
            "ticks": ""
           },
           "bgcolor": "#E5ECF6",
           "radialaxis": {
            "gridcolor": "white",
            "linecolor": "white",
            "ticks": ""
           }
          },
          "scene": {
           "xaxis": {
            "backgroundcolor": "#E5ECF6",
            "gridcolor": "white",
            "gridwidth": 2,
            "linecolor": "white",
            "showbackground": true,
            "ticks": "",
            "zerolinecolor": "white"
           },
           "yaxis": {
            "backgroundcolor": "#E5ECF6",
            "gridcolor": "white",
            "gridwidth": 2,
            "linecolor": "white",
            "showbackground": true,
            "ticks": "",
            "zerolinecolor": "white"
           },
           "zaxis": {
            "backgroundcolor": "#E5ECF6",
            "gridcolor": "white",
            "gridwidth": 2,
            "linecolor": "white",
            "showbackground": true,
            "ticks": "",
            "zerolinecolor": "white"
           }
          },
          "shapedefaults": {
           "line": {
            "color": "#2a3f5f"
           }
          },
          "ternary": {
           "aaxis": {
            "gridcolor": "white",
            "linecolor": "white",
            "ticks": ""
           },
           "baxis": {
            "gridcolor": "white",
            "linecolor": "white",
            "ticks": ""
           },
           "bgcolor": "#E5ECF6",
           "caxis": {
            "gridcolor": "white",
            "linecolor": "white",
            "ticks": ""
           }
          },
          "title": {
           "x": 0.05
          },
          "xaxis": {
           "automargin": true,
           "gridcolor": "white",
           "linecolor": "white",
           "ticks": "",
           "title": {
            "standoff": 15
           },
           "zerolinecolor": "white",
           "zerolinewidth": 2
          },
          "yaxis": {
           "automargin": true,
           "gridcolor": "white",
           "linecolor": "white",
           "ticks": "",
           "title": {
            "standoff": 15
           },
           "zerolinecolor": "white",
           "zerolinewidth": 2
          }
         }
        },
        "title": {
         "text": "Daily Listening Activity Over Time"
        },
        "xaxis": {
         "anchor": "y",
         "domain": [
          0,
          1
         ],
         "title": {
          "text": "Date"
         }
        },
        "yaxis": {
         "anchor": "x",
         "domain": [
          0,
          1
         ],
         "title": {
          "text": "Minutes Played"
         }
        }
       }
      }
     },
     "metadata": {},
     "output_type": "display_data"
    },
    {
     "data": {
      "application/vnd.plotly.v1+json": {
       "config": {
        "plotlyServerURL": "https://plot.ly"
       },
       "data": [
        {
         "hovertemplate": "Date=%{x}<br>7-Day Moving Average (Minutes)=%{y}<extra></extra>",
         "legendgroup": "",
         "line": {
          "color": "#FF6B6B",
          "dash": "solid"
         },
         "marker": {
          "symbol": "circle"
         },
         "mode": "lines",
         "name": "",
         "orientation": "v",
         "showlegend": false,
         "type": "scatter",
         "x": [
          "2023-09-04T00:00:00.000000000",
          "2023-09-05T00:00:00.000000000",
          "2023-09-06T00:00:00.000000000",
          "2023-09-07T00:00:00.000000000",
          "2023-09-08T00:00:00.000000000",
          "2023-09-09T00:00:00.000000000",
          "2023-09-10T00:00:00.000000000",
          "2023-09-11T00:00:00.000000000",
          "2023-09-15T00:00:00.000000000",
          "2023-09-16T00:00:00.000000000",
          "2023-09-17T00:00:00.000000000",
          "2023-09-19T00:00:00.000000000",
          "2023-10-28T00:00:00.000000000",
          "2023-10-29T00:00:00.000000000",
          "2023-11-09T00:00:00.000000000",
          "2023-11-15T00:00:00.000000000",
          "2023-11-18T00:00:00.000000000",
          "2023-11-23T00:00:00.000000000",
          "2023-12-01T00:00:00.000000000",
          "2023-12-06T00:00:00.000000000",
          "2023-12-08T00:00:00.000000000",
          "2023-12-09T00:00:00.000000000",
          "2023-12-10T00:00:00.000000000",
          "2023-12-11T00:00:00.000000000",
          "2023-12-12T00:00:00.000000000",
          "2023-12-13T00:00:00.000000000",
          "2023-12-14T00:00:00.000000000",
          "2023-12-15T00:00:00.000000000",
          "2023-12-17T00:00:00.000000000",
          "2023-12-18T00:00:00.000000000",
          "2023-12-20T00:00:00.000000000",
          "2023-12-21T00:00:00.000000000",
          "2023-12-23T00:00:00.000000000",
          "2023-12-24T00:00:00.000000000",
          "2023-12-25T00:00:00.000000000",
          "2023-12-29T00:00:00.000000000",
          "2023-12-31T00:00:00.000000000",
          "2024-01-01T00:00:00.000000000",
          "2024-01-02T00:00:00.000000000",
          "2024-01-03T00:00:00.000000000",
          "2024-01-04T00:00:00.000000000",
          "2024-01-05T00:00:00.000000000",
          "2024-01-06T00:00:00.000000000",
          "2024-01-10T00:00:00.000000000",
          "2024-01-11T00:00:00.000000000",
          "2024-01-12T00:00:00.000000000",
          "2024-01-14T00:00:00.000000000",
          "2024-01-18T00:00:00.000000000",
          "2024-01-22T00:00:00.000000000",
          "2024-01-23T00:00:00.000000000",
          "2024-01-26T00:00:00.000000000",
          "2024-01-27T00:00:00.000000000",
          "2024-01-28T00:00:00.000000000",
          "2024-01-29T00:00:00.000000000",
          "2024-01-30T00:00:00.000000000",
          "2024-02-02T00:00:00.000000000",
          "2024-02-03T00:00:00.000000000",
          "2024-02-16T00:00:00.000000000",
          "2024-02-17T00:00:00.000000000",
          "2024-03-01T00:00:00.000000000",
          "2024-03-02T00:00:00.000000000",
          "2024-03-04T00:00:00.000000000",
          "2024-03-07T00:00:00.000000000",
          "2024-03-13T00:00:00.000000000",
          "2024-03-14T00:00:00.000000000",
          "2024-03-17T00:00:00.000000000",
          "2024-03-18T00:00:00.000000000",
          "2024-03-24T00:00:00.000000000",
          "2024-03-27T00:00:00.000000000",
          "2024-03-29T00:00:00.000000000",
          "2024-03-31T00:00:00.000000000",
          "2024-04-06T00:00:00.000000000",
          "2024-04-07T00:00:00.000000000",
          "2024-04-10T00:00:00.000000000",
          "2024-04-11T00:00:00.000000000",
          "2024-04-13T00:00:00.000000000",
          "2024-04-14T00:00:00.000000000",
          "2024-04-15T00:00:00.000000000",
          "2024-04-17T00:00:00.000000000",
          "2024-04-18T00:00:00.000000000",
          "2024-04-19T00:00:00.000000000",
          "2024-04-20T00:00:00.000000000",
          "2024-04-21T00:00:00.000000000",
          "2024-04-22T00:00:00.000000000",
          "2024-04-23T00:00:00.000000000",
          "2024-04-24T00:00:00.000000000",
          "2024-04-25T00:00:00.000000000",
          "2024-04-28T00:00:00.000000000",
          "2024-04-29T00:00:00.000000000",
          "2024-04-30T00:00:00.000000000",
          "2024-05-01T00:00:00.000000000",
          "2024-05-03T00:00:00.000000000",
          "2024-05-04T00:00:00.000000000",
          "2024-05-06T00:00:00.000000000",
          "2024-05-07T00:00:00.000000000",
          "2024-05-08T00:00:00.000000000",
          "2024-05-09T00:00:00.000000000",
          "2024-05-10T00:00:00.000000000",
          "2024-05-11T00:00:00.000000000",
          "2024-05-12T00:00:00.000000000",
          "2024-05-13T00:00:00.000000000",
          "2024-05-14T00:00:00.000000000",
          "2024-05-15T00:00:00.000000000",
          "2024-05-16T00:00:00.000000000",
          "2024-05-17T00:00:00.000000000",
          "2024-05-18T00:00:00.000000000",
          "2024-05-19T00:00:00.000000000",
          "2024-05-20T00:00:00.000000000",
          "2024-05-21T00:00:00.000000000",
          "2024-05-22T00:00:00.000000000",
          "2024-05-23T00:00:00.000000000",
          "2024-05-24T00:00:00.000000000",
          "2024-05-25T00:00:00.000000000",
          "2024-05-26T00:00:00.000000000",
          "2024-05-27T00:00:00.000000000",
          "2024-05-28T00:00:00.000000000",
          "2024-05-29T00:00:00.000000000",
          "2024-05-30T00:00:00.000000000",
          "2024-05-31T00:00:00.000000000",
          "2024-06-01T00:00:00.000000000",
          "2024-06-02T00:00:00.000000000",
          "2024-06-03T00:00:00.000000000",
          "2024-06-04T00:00:00.000000000",
          "2024-06-05T00:00:00.000000000",
          "2024-06-06T00:00:00.000000000",
          "2024-06-07T00:00:00.000000000",
          "2024-06-08T00:00:00.000000000",
          "2024-06-09T00:00:00.000000000",
          "2024-06-10T00:00:00.000000000",
          "2024-06-11T00:00:00.000000000",
          "2024-06-12T00:00:00.000000000",
          "2024-06-13T00:00:00.000000000",
          "2024-06-14T00:00:00.000000000",
          "2024-06-15T00:00:00.000000000",
          "2024-06-16T00:00:00.000000000",
          "2024-06-17T00:00:00.000000000",
          "2024-06-18T00:00:00.000000000",
          "2024-06-19T00:00:00.000000000",
          "2024-06-20T00:00:00.000000000",
          "2024-06-21T00:00:00.000000000",
          "2024-06-22T00:00:00.000000000",
          "2024-06-23T00:00:00.000000000",
          "2024-06-24T00:00:00.000000000",
          "2024-06-25T00:00:00.000000000",
          "2024-06-26T00:00:00.000000000",
          "2024-06-27T00:00:00.000000000",
          "2024-06-28T00:00:00.000000000",
          "2024-06-29T00:00:00.000000000",
          "2024-06-30T00:00:00.000000000",
          "2024-07-01T00:00:00.000000000",
          "2024-07-02T00:00:00.000000000",
          "2024-07-03T00:00:00.000000000",
          "2024-07-04T00:00:00.000000000",
          "2024-07-05T00:00:00.000000000",
          "2024-07-06T00:00:00.000000000",
          "2024-07-07T00:00:00.000000000",
          "2024-07-08T00:00:00.000000000",
          "2024-07-09T00:00:00.000000000",
          "2024-07-10T00:00:00.000000000",
          "2024-07-11T00:00:00.000000000",
          "2024-07-12T00:00:00.000000000",
          "2024-07-13T00:00:00.000000000",
          "2024-07-14T00:00:00.000000000",
          "2024-07-15T00:00:00.000000000",
          "2024-07-16T00:00:00.000000000",
          "2024-07-17T00:00:00.000000000",
          "2024-07-18T00:00:00.000000000",
          "2024-07-19T00:00:00.000000000",
          "2024-07-20T00:00:00.000000000",
          "2024-07-21T00:00:00.000000000",
          "2024-07-22T00:00:00.000000000",
          "2024-07-23T00:00:00.000000000",
          "2024-07-24T00:00:00.000000000",
          "2024-07-25T00:00:00.000000000",
          "2024-07-26T00:00:00.000000000",
          "2024-07-27T00:00:00.000000000",
          "2024-07-28T00:00:00.000000000",
          "2024-07-29T00:00:00.000000000",
          "2024-07-30T00:00:00.000000000",
          "2024-07-31T00:00:00.000000000",
          "2024-08-01T00:00:00.000000000",
          "2024-08-02T00:00:00.000000000",
          "2024-08-03T00:00:00.000000000",
          "2024-08-04T00:00:00.000000000",
          "2024-08-05T00:00:00.000000000",
          "2024-08-06T00:00:00.000000000",
          "2024-08-07T00:00:00.000000000",
          "2024-08-08T00:00:00.000000000",
          "2024-08-09T00:00:00.000000000",
          "2024-08-10T00:00:00.000000000",
          "2024-08-11T00:00:00.000000000",
          "2024-08-12T00:00:00.000000000",
          "2024-08-13T00:00:00.000000000",
          "2024-08-14T00:00:00.000000000",
          "2024-08-15T00:00:00.000000000",
          "2024-08-16T00:00:00.000000000",
          "2024-08-17T00:00:00.000000000",
          "2024-08-18T00:00:00.000000000",
          "2024-08-19T00:00:00.000000000",
          "2024-08-20T00:00:00.000000000",
          "2024-08-21T00:00:00.000000000",
          "2024-08-22T00:00:00.000000000",
          "2024-08-23T00:00:00.000000000",
          "2024-08-24T00:00:00.000000000",
          "2024-08-25T00:00:00.000000000",
          "2024-08-26T00:00:00.000000000",
          "2024-08-28T00:00:00.000000000",
          "2024-08-31T00:00:00.000000000",
          "2024-09-01T00:00:00.000000000",
          "2024-09-02T00:00:00.000000000",
          "2024-09-05T00:00:00.000000000",
          "2024-09-06T00:00:00.000000000",
          "2024-09-07T00:00:00.000000000",
          "2024-09-08T00:00:00.000000000",
          "2024-09-11T00:00:00.000000000",
          "2024-09-12T00:00:00.000000000",
          "2024-09-13T00:00:00.000000000",
          "2024-09-15T00:00:00.000000000",
          "2024-09-16T00:00:00.000000000",
          "2024-09-17T00:00:00.000000000",
          "2024-09-18T00:00:00.000000000",
          "2024-09-20T00:00:00.000000000",
          "2024-09-21T00:00:00.000000000",
          "2024-09-22T00:00:00.000000000",
          "2024-09-23T00:00:00.000000000",
          "2024-09-25T00:00:00.000000000",
          "2024-09-26T00:00:00.000000000",
          "2024-09-27T00:00:00.000000000",
          "2024-09-29T00:00:00.000000000",
          "2024-09-30T00:00:00.000000000",
          "2024-10-01T00:00:00.000000000",
          "2024-10-02T00:00:00.000000000",
          "2024-10-03T00:00:00.000000000",
          "2024-10-04T00:00:00.000000000",
          "2024-10-05T00:00:00.000000000",
          "2024-10-06T00:00:00.000000000",
          "2024-10-07T00:00:00.000000000",
          "2024-10-08T00:00:00.000000000",
          "2024-10-09T00:00:00.000000000",
          "2024-10-10T00:00:00.000000000",
          "2024-10-11T00:00:00.000000000",
          "2024-10-12T00:00:00.000000000",
          "2024-10-13T00:00:00.000000000",
          "2024-10-14T00:00:00.000000000",
          "2024-10-15T00:00:00.000000000",
          "2024-10-17T00:00:00.000000000",
          "2024-10-18T00:00:00.000000000",
          "2024-10-19T00:00:00.000000000",
          "2024-10-20T00:00:00.000000000",
          "2024-10-21T00:00:00.000000000",
          "2024-10-22T00:00:00.000000000",
          "2024-10-23T00:00:00.000000000",
          "2024-10-24T00:00:00.000000000",
          "2024-10-25T00:00:00.000000000",
          "2024-10-26T00:00:00.000000000",
          "2024-10-27T00:00:00.000000000",
          "2024-10-28T00:00:00.000000000",
          "2024-10-29T00:00:00.000000000",
          "2024-10-30T00:00:00.000000000",
          "2024-10-31T00:00:00.000000000",
          "2024-11-01T00:00:00.000000000",
          "2024-11-02T00:00:00.000000000",
          "2024-11-03T00:00:00.000000000",
          "2024-11-04T00:00:00.000000000",
          "2024-11-05T00:00:00.000000000",
          "2024-11-06T00:00:00.000000000",
          "2024-11-07T00:00:00.000000000",
          "2024-11-08T00:00:00.000000000",
          "2024-11-09T00:00:00.000000000",
          "2024-11-10T00:00:00.000000000",
          "2024-11-11T00:00:00.000000000",
          "2024-11-13T00:00:00.000000000",
          "2024-11-14T00:00:00.000000000",
          "2024-11-15T00:00:00.000000000",
          "2024-11-16T00:00:00.000000000",
          "2024-11-17T00:00:00.000000000",
          "2024-11-18T00:00:00.000000000",
          "2024-11-19T00:00:00.000000000",
          "2024-11-20T00:00:00.000000000",
          "2024-11-21T00:00:00.000000000",
          "2024-11-22T00:00:00.000000000",
          "2024-11-23T00:00:00.000000000",
          "2024-11-24T00:00:00.000000000",
          "2024-11-25T00:00:00.000000000",
          "2024-11-26T00:00:00.000000000",
          "2024-11-27T00:00:00.000000000",
          "2024-11-28T00:00:00.000000000",
          "2024-11-29T00:00:00.000000000",
          "2024-11-30T00:00:00.000000000",
          "2024-12-01T00:00:00.000000000",
          "2024-12-02T00:00:00.000000000",
          "2024-12-03T00:00:00.000000000",
          "2024-12-04T00:00:00.000000000",
          "2024-12-05T00:00:00.000000000",
          "2024-12-06T00:00:00.000000000",
          "2024-12-07T00:00:00.000000000",
          "2024-12-08T00:00:00.000000000",
          "2024-12-09T00:00:00.000000000",
          "2024-12-10T00:00:00.000000000",
          "2024-12-11T00:00:00.000000000",
          "2024-12-12T00:00:00.000000000",
          "2024-12-13T00:00:00.000000000",
          "2024-12-15T00:00:00.000000000",
          "2024-12-16T00:00:00.000000000",
          "2024-12-17T00:00:00.000000000",
          "2024-12-18T00:00:00.000000000",
          "2024-12-19T00:00:00.000000000",
          "2024-12-20T00:00:00.000000000",
          "2024-12-21T00:00:00.000000000",
          "2024-12-22T00:00:00.000000000",
          "2024-12-23T00:00:00.000000000",
          "2024-12-24T00:00:00.000000000",
          "2024-12-25T00:00:00.000000000",
          "2024-12-26T00:00:00.000000000",
          "2024-12-27T00:00:00.000000000",
          "2024-12-28T00:00:00.000000000",
          "2024-12-29T00:00:00.000000000",
          "2024-12-30T00:00:00.000000000",
          "2024-12-31T00:00:00.000000000",
          "2025-01-01T00:00:00.000000000",
          "2025-01-02T00:00:00.000000000",
          "2025-01-03T00:00:00.000000000",
          "2025-01-04T00:00:00.000000000",
          "2025-01-05T00:00:00.000000000",
          "2025-01-06T00:00:00.000000000",
          "2025-01-07T00:00:00.000000000",
          "2025-01-08T00:00:00.000000000",
          "2025-01-09T00:00:00.000000000",
          "2025-01-10T00:00:00.000000000",
          "2025-01-11T00:00:00.000000000",
          "2025-01-12T00:00:00.000000000",
          "2025-01-13T00:00:00.000000000",
          "2025-01-14T00:00:00.000000000",
          "2025-01-15T00:00:00.000000000",
          "2025-01-16T00:00:00.000000000",
          "2025-01-17T00:00:00.000000000",
          "2025-01-18T00:00:00.000000000",
          "2025-01-19T00:00:00.000000000",
          "2025-01-20T00:00:00.000000000",
          "2025-01-21T00:00:00.000000000",
          "2025-01-22T00:00:00.000000000",
          "2025-01-23T00:00:00.000000000",
          "2025-01-24T00:00:00.000000000",
          "2025-01-25T00:00:00.000000000",
          "2025-01-26T00:00:00.000000000",
          "2025-01-27T00:00:00.000000000",
          "2025-01-28T00:00:00.000000000",
          "2025-01-29T00:00:00.000000000",
          "2025-01-30T00:00:00.000000000",
          "2025-01-31T00:00:00.000000000",
          "2025-02-01T00:00:00.000000000",
          "2025-02-02T00:00:00.000000000",
          "2025-02-03T00:00:00.000000000",
          "2025-02-04T00:00:00.000000000",
          "2025-02-05T00:00:00.000000000",
          "2025-02-06T00:00:00.000000000",
          "2025-02-07T00:00:00.000000000",
          "2025-02-08T00:00:00.000000000",
          "2025-02-09T00:00:00.000000000",
          "2025-02-10T00:00:00.000000000",
          "2025-02-11T00:00:00.000000000",
          "2025-02-12T00:00:00.000000000",
          "2025-02-13T00:00:00.000000000",
          "2025-02-14T00:00:00.000000000",
          "2025-02-15T00:00:00.000000000",
          "2025-02-16T00:00:00.000000000",
          "2025-02-17T00:00:00.000000000",
          "2025-02-18T00:00:00.000000000",
          "2025-02-19T00:00:00.000000000",
          "2025-02-20T00:00:00.000000000",
          "2025-02-21T00:00:00.000000000",
          "2025-02-22T00:00:00.000000000",
          "2025-02-23T00:00:00.000000000",
          "2025-02-24T00:00:00.000000000",
          "2025-02-25T00:00:00.000000000",
          "2025-02-26T00:00:00.000000000",
          "2025-02-27T00:00:00.000000000",
          "2025-02-28T00:00:00.000000000",
          "2025-03-01T00:00:00.000000000",
          "2025-03-02T00:00:00.000000000",
          "2025-03-03T00:00:00.000000000",
          "2025-03-04T00:00:00.000000000",
          "2025-03-05T00:00:00.000000000",
          "2025-03-06T00:00:00.000000000",
          "2025-03-07T00:00:00.000000000",
          "2025-03-08T00:00:00.000000000",
          "2025-03-09T00:00:00.000000000",
          "2025-03-10T00:00:00.000000000",
          "2025-03-11T00:00:00.000000000",
          "2025-03-12T00:00:00.000000000",
          "2025-03-13T00:00:00.000000000",
          "2025-03-14T00:00:00.000000000",
          "2025-03-15T00:00:00.000000000"
         ],
         "xaxis": "x",
         "y": {
          "bdata": "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",
          "dtype": "f8"
         },
         "yaxis": "y"
        }
       ],
       "layout": {
        "height": 400,
        "legend": {
         "tracegroupgap": 0
        },
        "template": {
         "data": {
          "bar": [
           {
            "error_x": {
             "color": "#2a3f5f"
            },
            "error_y": {
             "color": "#2a3f5f"
            },
            "marker": {
             "line": {
              "color": "#E5ECF6",
              "width": 0.5
             },
             "pattern": {
              "fillmode": "overlay",
              "size": 10,
              "solidity": 0.2
             }
            },
            "type": "bar"
           }
          ],
          "barpolar": [
           {
            "marker": {
             "line": {
              "color": "#E5ECF6",
              "width": 0.5
             },
             "pattern": {
              "fillmode": "overlay",
              "size": 10,
              "solidity": 0.2
             }
            },
            "type": "barpolar"
           }
          ],
          "carpet": [
           {
            "aaxis": {
             "endlinecolor": "#2a3f5f",
             "gridcolor": "white",
             "linecolor": "white",
             "minorgridcolor": "white",
             "startlinecolor": "#2a3f5f"
            },
            "baxis": {
             "endlinecolor": "#2a3f5f",
             "gridcolor": "white",
             "linecolor": "white",
             "minorgridcolor": "white",
             "startlinecolor": "#2a3f5f"
            },
            "type": "carpet"
           }
          ],
          "choropleth": [
           {
            "colorbar": {
             "outlinewidth": 0,
             "ticks": ""
            },
            "type": "choropleth"
           }
          ],
          "contour": [
           {
            "colorbar": {
             "outlinewidth": 0,
             "ticks": ""
            },
            "colorscale": [
             [
              0,
              "#0d0887"
             ],
             [
              0.1111111111111111,
              "#46039f"
             ],
             [
              0.2222222222222222,
              "#7201a8"
             ],
             [
              0.3333333333333333,
              "#9c179e"
             ],
             [
              0.4444444444444444,
              "#bd3786"
             ],
             [
              0.5555555555555556,
              "#d8576b"
             ],
             [
              0.6666666666666666,
              "#ed7953"
             ],
             [
              0.7777777777777778,
              "#fb9f3a"
             ],
             [
              0.8888888888888888,
              "#fdca26"
             ],
             [
              1,
              "#f0f921"
             ]
            ],
            "type": "contour"
           }
          ],
          "contourcarpet": [
           {
            "colorbar": {
             "outlinewidth": 0,
             "ticks": ""
            },
            "type": "contourcarpet"
           }
          ],
          "heatmap": [
           {
            "colorbar": {
             "outlinewidth": 0,
             "ticks": ""
            },
            "colorscale": [
             [
              0,
              "#0d0887"
             ],
             [
              0.1111111111111111,
              "#46039f"
             ],
             [
              0.2222222222222222,
              "#7201a8"
             ],
             [
              0.3333333333333333,
              "#9c179e"
             ],
             [
              0.4444444444444444,
              "#bd3786"
             ],
             [
              0.5555555555555556,
              "#d8576b"
             ],
             [
              0.6666666666666666,
              "#ed7953"
             ],
             [
              0.7777777777777778,
              "#fb9f3a"
             ],
             [
              0.8888888888888888,
              "#fdca26"
             ],
             [
              1,
              "#f0f921"
             ]
            ],
            "type": "heatmap"
           }
          ],
          "histogram": [
           {
            "marker": {
             "pattern": {
              "fillmode": "overlay",
              "size": 10,
              "solidity": 0.2
             }
            },
            "type": "histogram"
           }
          ],
          "histogram2d": [
           {
            "colorbar": {
             "outlinewidth": 0,
             "ticks": ""
            },
            "colorscale": [
             [
              0,
              "#0d0887"
             ],
             [
              0.1111111111111111,
              "#46039f"
             ],
             [
              0.2222222222222222,
              "#7201a8"
             ],
             [
              0.3333333333333333,
              "#9c179e"
             ],
             [
              0.4444444444444444,
              "#bd3786"
             ],
             [
              0.5555555555555556,
              "#d8576b"
             ],
             [
              0.6666666666666666,
              "#ed7953"
             ],
             [
              0.7777777777777778,
              "#fb9f3a"
             ],
             [
              0.8888888888888888,
              "#fdca26"
             ],
             [
              1,
              "#f0f921"
             ]
            ],
            "type": "histogram2d"
           }
          ],
          "histogram2dcontour": [
           {
            "colorbar": {
             "outlinewidth": 0,
             "ticks": ""
            },
            "colorscale": [
             [
              0,
              "#0d0887"
             ],
             [
              0.1111111111111111,
              "#46039f"
             ],
             [
              0.2222222222222222,
              "#7201a8"
             ],
             [
              0.3333333333333333,
              "#9c179e"
             ],
             [
              0.4444444444444444,
              "#bd3786"
             ],
             [
              0.5555555555555556,
              "#d8576b"
             ],
             [
              0.6666666666666666,
              "#ed7953"
             ],
             [
              0.7777777777777778,
              "#fb9f3a"
             ],
             [
              0.8888888888888888,
              "#fdca26"
             ],
             [
              1,
              "#f0f921"
             ]
            ],
            "type": "histogram2dcontour"
           }
          ],
          "mesh3d": [
           {
            "colorbar": {
             "outlinewidth": 0,
             "ticks": ""
            },
            "type": "mesh3d"
           }
          ],
          "parcoords": [
           {
            "line": {
             "colorbar": {
              "outlinewidth": 0,
              "ticks": ""
             }
            },
            "type": "parcoords"
           }
          ],
          "pie": [
           {
            "automargin": true,
            "type": "pie"
           }
          ],
          "scatter": [
           {
            "fillpattern": {
             "fillmode": "overlay",
             "size": 10,
             "solidity": 0.2
            },
            "type": "scatter"
           }
          ],
          "scatter3d": [
           {
            "line": {
             "colorbar": {
              "outlinewidth": 0,
              "ticks": ""
             }
            },
            "marker": {
             "colorbar": {
              "outlinewidth": 0,
              "ticks": ""
             }
            },
            "type": "scatter3d"
           }
          ],
          "scattercarpet": [
           {
            "marker": {
             "colorbar": {
              "outlinewidth": 0,
              "ticks": ""
             }
            },
            "type": "scattercarpet"
           }
          ],
          "scattergeo": [
           {
            "marker": {
             "colorbar": {
              "outlinewidth": 0,
              "ticks": ""
             }
            },
            "type": "scattergeo"
           }
          ],
          "scattergl": [
           {
            "marker": {
             "colorbar": {
              "outlinewidth": 0,
              "ticks": ""
             }
            },
            "type": "scattergl"
           }
          ],
          "scattermap": [
           {
            "marker": {
             "colorbar": {
              "outlinewidth": 0,
              "ticks": ""
             }
            },
            "type": "scattermap"
           }
          ],
          "scattermapbox": [
           {
            "marker": {
             "colorbar": {
              "outlinewidth": 0,
              "ticks": ""
             }
            },
            "type": "scattermapbox"
           }
          ],
          "scatterpolar": [
           {
            "marker": {
             "colorbar": {
              "outlinewidth": 0,
              "ticks": ""
             }
            },
            "type": "scatterpolar"
           }
          ],
          "scatterpolargl": [
           {
            "marker": {
             "colorbar": {
              "outlinewidth": 0,
              "ticks": ""
             }
            },
            "type": "scatterpolargl"
           }
          ],
          "scatterternary": [
           {
            "marker": {
             "colorbar": {
              "outlinewidth": 0,
              "ticks": ""
             }
            },
            "type": "scatterternary"
           }
          ],
          "surface": [
           {
            "colorbar": {
             "outlinewidth": 0,
             "ticks": ""
            },
            "colorscale": [
             [
              0,
              "#0d0887"
             ],
             [
              0.1111111111111111,
              "#46039f"
             ],
             [
              0.2222222222222222,
              "#7201a8"
             ],
             [
              0.3333333333333333,
              "#9c179e"
             ],
             [
              0.4444444444444444,
              "#bd3786"
             ],
             [
              0.5555555555555556,
              "#d8576b"
             ],
             [
              0.6666666666666666,
              "#ed7953"
             ],
             [
              0.7777777777777778,
              "#fb9f3a"
             ],
             [
              0.8888888888888888,
              "#fdca26"
             ],
             [
              1,
              "#f0f921"
             ]
            ],
            "type": "surface"
           }
          ],
          "table": [
           {
            "cells": {
             "fill": {
              "color": "#EBF0F8"
             },
             "line": {
              "color": "white"
             }
            },
            "header": {
             "fill": {
              "color": "#C8D4E3"
             },
             "line": {
              "color": "white"
             }
            },
            "type": "table"
           }
          ]
         },
         "layout": {
          "annotationdefaults": {
           "arrowcolor": "#2a3f5f",
           "arrowhead": 0,
           "arrowwidth": 1
          },
          "autotypenumbers": "strict",
          "coloraxis": {
           "colorbar": {
            "outlinewidth": 0,
            "ticks": ""
           }
          },
          "colorscale": {
           "diverging": [
            [
             0,
             "#8e0152"
            ],
            [
             0.1,
             "#c51b7d"
            ],
            [
             0.2,
             "#de77ae"
            ],
            [
             0.3,
             "#f1b6da"
            ],
            [
             0.4,
             "#fde0ef"
            ],
            [
             0.5,
             "#f7f7f7"
            ],
            [
             0.6,
             "#e6f5d0"
            ],
            [
             0.7,
             "#b8e186"
            ],
            [
             0.8,
             "#7fbc41"
            ],
            [
             0.9,
             "#4d9221"
            ],
            [
             1,
             "#276419"
            ]
           ],
           "sequential": [
            [
             0,
             "#0d0887"
            ],
            [
             0.1111111111111111,
             "#46039f"
            ],
            [
             0.2222222222222222,
             "#7201a8"
            ],
            [
             0.3333333333333333,
             "#9c179e"
            ],
            [
             0.4444444444444444,
             "#bd3786"
            ],
            [
             0.5555555555555556,
             "#d8576b"
            ],
            [
             0.6666666666666666,
             "#ed7953"
            ],
            [
             0.7777777777777778,
             "#fb9f3a"
            ],
            [
             0.8888888888888888,
             "#fdca26"
            ],
            [
             1,
             "#f0f921"
            ]
           ],
           "sequentialminus": [
            [
             0,
             "#0d0887"
            ],
            [
             0.1111111111111111,
             "#46039f"
            ],
            [
             0.2222222222222222,
             "#7201a8"
            ],
            [
             0.3333333333333333,
             "#9c179e"
            ],
            [
             0.4444444444444444,
             "#bd3786"
            ],
            [
             0.5555555555555556,
             "#d8576b"
            ],
            [
             0.6666666666666666,
             "#ed7953"
            ],
            [
             0.7777777777777778,
             "#fb9f3a"
            ],
            [
             0.8888888888888888,
             "#fdca26"
            ],
            [
             1,
             "#f0f921"
            ]
           ]
          },
          "colorway": [
           "#636efa",
           "#EF553B",
           "#00cc96",
           "#ab63fa",
           "#FFA15A",
           "#19d3f3",
           "#FF6692",
           "#B6E880",
           "#FF97FF",
           "#FECB52"
          ],
          "font": {
           "color": "#2a3f5f"
          },
          "geo": {
           "bgcolor": "white",
           "lakecolor": "white",
           "landcolor": "#E5ECF6",
           "showlakes": true,
           "showland": true,
           "subunitcolor": "white"
          },
          "hoverlabel": {
           "align": "left"
          },
          "hovermode": "closest",
          "mapbox": {
           "style": "light"
          },
          "paper_bgcolor": "white",
          "plot_bgcolor": "#E5ECF6",
          "polar": {
           "angularaxis": {
            "gridcolor": "white",
            "linecolor": "white",
            "ticks": ""
           },
           "bgcolor": "#E5ECF6",
           "radialaxis": {
            "gridcolor": "white",
            "linecolor": "white",
            "ticks": ""
           }
          },
          "scene": {
           "xaxis": {
            "backgroundcolor": "#E5ECF6",
            "gridcolor": "white",
            "gridwidth": 2,
            "linecolor": "white",
            "showbackground": true,
            "ticks": "",
            "zerolinecolor": "white"
           },
           "yaxis": {
            "backgroundcolor": "#E5ECF6",
            "gridcolor": "white",
            "gridwidth": 2,
            "linecolor": "white",
            "showbackground": true,
            "ticks": "",
            "zerolinecolor": "white"
           },
           "zaxis": {
            "backgroundcolor": "#E5ECF6",
            "gridcolor": "white",
            "gridwidth": 2,
            "linecolor": "white",
            "showbackground": true,
            "ticks": "",
            "zerolinecolor": "white"
           }
          },
          "shapedefaults": {
           "line": {
            "color": "#2a3f5f"
           }
          },
          "ternary": {
           "aaxis": {
            "gridcolor": "white",
            "linecolor": "white",
            "ticks": ""
           },
           "baxis": {
            "gridcolor": "white",
            "linecolor": "white",
            "ticks": ""
           },
           "bgcolor": "#E5ECF6",
           "caxis": {
            "gridcolor": "white",
            "linecolor": "white",
            "ticks": ""
           }
          },
          "title": {
           "x": 0.05
          },
          "xaxis": {
           "automargin": true,
           "gridcolor": "white",
           "linecolor": "white",
           "ticks": "",
           "title": {
            "standoff": 15
           },
           "zerolinecolor": "white",
           "zerolinewidth": 2
          },
          "yaxis": {
           "automargin": true,
           "gridcolor": "white",
           "linecolor": "white",
           "ticks": "",
           "title": {
            "standoff": 15
           },
           "zerolinecolor": "white",
           "zerolinewidth": 2
          }
         }
        },
        "title": {
         "text": "Listening Activity: 7-Day Moving Average"
        },
        "xaxis": {
         "anchor": "y",
         "domain": [
          0,
          1
         ],
         "title": {
          "text": "Date"
         }
        },
        "yaxis": {
         "anchor": "x",
         "domain": [
          0,
          1
         ],
         "title": {
          "text": "7-Day Moving Average (Minutes)"
         }
        }
       }
      }
     },
     "metadata": {},
     "output_type": "display_data"
    }
   ],
   "source": [
    "# Aggregate listening time by date\n",
    "daily_listening = df_cleaned.groupby('date')['minutes_played'].sum().reset_index()\n",
    "daily_listening['date'] = pd.to_datetime(daily_listening['date'])\n",
    "\n",
    "# Create time series plot\n",
    "fig_timeline = px.line(\n",
    "    daily_listening,\n",
    "    x='date',\n",
    "    y='minutes_played',\n",
    "    labels={'date': 'Date', 'minutes_played': 'Minutes Played'},\n",
    "    title='Daily Listening Activity Over Time'\n",
    ")\n",
    "\n",
    "fig_timeline.update_traces(line_color='#1DB954')  # Spotify green\n",
    "fig_timeline.update_layout(height=400)\n",
    "\n",
    "fig_timeline.show()\n",
    "\n",
    "# Calculate moving average for smoother trend visualization\n",
    "daily_listening['7day_avg'] = daily_listening['minutes_played'].rolling(window=7, center=True).mean()\n",
    "\n",
    "fig_trend = px.line(\n",
    "    daily_listening,\n",
    "    x='date',\n",
    "    y='7day_avg',\n",
    "    labels={'date': 'Date', '7day_avg': '7-Day Moving Average (Minutes)'},\n",
    "    title='Listening Activity: 7-Day Moving Average'\n",
    ")\n",
    "\n",
    "fig_trend.update_traces(line_color='#FF6B6B')\n",
    "fig_trend.update_layout(height=400)\n",
    "\n",
    "fig_trend.show()"
   ]
  },
  {
   "cell_type": "markdown",
   "id": "512f7ff5",
   "metadata": {},
   "source": [
    "**Interpretation:** The time series visualization shows the day-to-day variation in my listening activity, while the 7-day moving average smooths out daily fluctuations to reveal longer-term trends. Spikes might correspond to days off, long commutes, or focused listening sessions, while dips might indicate busy periods or time away from music."
   ]
  },
  {
   "cell_type": "markdown",
   "id": "e7c7cbf5",
   "metadata": {},
   "source": [
    "### 3.7 EDA Visualization 4: Listening Patterns by Hour of Day\n",
    "\n",
    "When during the day do I listen to music the most? Analyzing listening activity by hour can reveal circadian patterns in my music consumption."
   ]
  },
  {
   "cell_type": "code",
   "execution_count": 12,
   "id": "c5912a05",
   "metadata": {},
   "outputs": [
    {
     "data": {
      "application/vnd.plotly.v1+json": {
       "config": {
        "plotlyServerURL": "https://plot.ly"
       },
       "data": [
        {
         "hovertemplate": "Hour of Day=%{x}<br>Total Minutes Played=%{marker.color}<extra></extra>",
         "legendgroup": "",
         "marker": {
          "color": {
           "bdata": "7Q2+MFnjrkB6xyk6MpmnQAXqut2o+ahAe8pX711nqEAiIiIisg+mQJKBKfALDaFAQoUQfeRrnEAwuycPa16RQNiBc0bUHoxARERERKR9kEDwp8ZLl7eRQL9Y8ouFh5BAtfDPH+1LhkD5ezwHac6PQJNfLPklGKNA3NeBc8bTmEDBqKRO4DiSQEbbHqrWN51A845TdDTaoEDcslbHpCmYQEiaUnEW9plAEezlZC9XoUCV1Alowq+iQG+BBMVfh6JA",
           "dtype": "f8"
          },
          "coloraxis": "coloraxis",
          "pattern": {
           "shape": ""
          }
         },
         "name": "",
         "orientation": "v",
         "showlegend": false,
         "textposition": "auto",
         "type": "bar",
         "x": {
          "bdata": "AAECAwQFBgcICQoLDA0ODxAREhMUFRYX",
          "dtype": "i1"
         },
         "xaxis": "x",
         "y": {
          "bdata": "7Q2+MFnjrkB6xyk6MpmnQAXqut2o+ahAe8pX711nqEAiIiIisg+mQJKBKfALDaFAQoUQfeRrnEAwuycPa16RQNiBc0bUHoxARERERKR9kEDwp8ZLl7eRQL9Y8ouFh5BAtfDPH+1LhkD5ezwHac6PQJNfLPklGKNA3NeBc8bTmEDBqKRO4DiSQEbbHqrWN51A845TdDTaoEDcslbHpCmYQEiaUnEW9plAEezlZC9XoUCV1Alowq+iQG+BBMVfh6JA",
          "dtype": "f8"
         },
         "yaxis": "y"
        }
       ],
       "layout": {
        "barmode": "relative",
        "coloraxis": {
         "colorbar": {
          "title": {
           "text": "Total Minutes Played"
          }
         },
         "colorscale": [
          [
           0,
           "rgb(243, 231, 155)"
          ],
          [
           0.16666666666666666,
           "rgb(250, 196, 132)"
          ],
          [
           0.3333333333333333,
           "rgb(248, 160, 126)"
          ],
          [
           0.5,
           "rgb(235, 127, 134)"
          ],
          [
           0.6666666666666666,
           "rgb(206, 102, 147)"
          ],
          [
           0.8333333333333334,
           "rgb(160, 89, 160)"
          ],
          [
           1,
           "rgb(92, 83, 165)"
          ]
         ]
        },
        "height": 400,
        "legend": {
         "tracegroupgap": 0
        },
        "showlegend": false,
        "template": {
         "data": {
          "bar": [
           {
            "error_x": {
             "color": "#2a3f5f"
            },
            "error_y": {
             "color": "#2a3f5f"
            },
            "marker": {
             "line": {
              "color": "#E5ECF6",
              "width": 0.5
             },
             "pattern": {
              "fillmode": "overlay",
              "size": 10,
              "solidity": 0.2
             }
            },
            "type": "bar"
           }
          ],
          "barpolar": [
           {
            "marker": {
             "line": {
              "color": "#E5ECF6",
              "width": 0.5
             },
             "pattern": {
              "fillmode": "overlay",
              "size": 10,
              "solidity": 0.2
             }
            },
            "type": "barpolar"
           }
          ],
          "carpet": [
           {
            "aaxis": {
             "endlinecolor": "#2a3f5f",
             "gridcolor": "white",
             "linecolor": "white",
             "minorgridcolor": "white",
             "startlinecolor": "#2a3f5f"
            },
            "baxis": {
             "endlinecolor": "#2a3f5f",
             "gridcolor": "white",
             "linecolor": "white",
             "minorgridcolor": "white",
             "startlinecolor": "#2a3f5f"
            },
            "type": "carpet"
           }
          ],
          "choropleth": [
           {
            "colorbar": {
             "outlinewidth": 0,
             "ticks": ""
            },
            "type": "choropleth"
           }
          ],
          "contour": [
           {
            "colorbar": {
             "outlinewidth": 0,
             "ticks": ""
            },
            "colorscale": [
             [
              0,
              "#0d0887"
             ],
             [
              0.1111111111111111,
              "#46039f"
             ],
             [
              0.2222222222222222,
              "#7201a8"
             ],
             [
              0.3333333333333333,
              "#9c179e"
             ],
             [
              0.4444444444444444,
              "#bd3786"
             ],
             [
              0.5555555555555556,
              "#d8576b"
             ],
             [
              0.6666666666666666,
              "#ed7953"
             ],
             [
              0.7777777777777778,
              "#fb9f3a"
             ],
             [
              0.8888888888888888,
              "#fdca26"
             ],
             [
              1,
              "#f0f921"
             ]
            ],
            "type": "contour"
           }
          ],
          "contourcarpet": [
           {
            "colorbar": {
             "outlinewidth": 0,
             "ticks": ""
            },
            "type": "contourcarpet"
           }
          ],
          "heatmap": [
           {
            "colorbar": {
             "outlinewidth": 0,
             "ticks": ""
            },
            "colorscale": [
             [
              0,
              "#0d0887"
             ],
             [
              0.1111111111111111,
              "#46039f"
             ],
             [
              0.2222222222222222,
              "#7201a8"
             ],
             [
              0.3333333333333333,
              "#9c179e"
             ],
             [
              0.4444444444444444,
              "#bd3786"
             ],
             [
              0.5555555555555556,
              "#d8576b"
             ],
             [
              0.6666666666666666,
              "#ed7953"
             ],
             [
              0.7777777777777778,
              "#fb9f3a"
             ],
             [
              0.8888888888888888,
              "#fdca26"
             ],
             [
              1,
              "#f0f921"
             ]
            ],
            "type": "heatmap"
           }
          ],
          "histogram": [
           {
            "marker": {
             "pattern": {
              "fillmode": "overlay",
              "size": 10,
              "solidity": 0.2
             }
            },
            "type": "histogram"
           }
          ],
          "histogram2d": [
           {
            "colorbar": {
             "outlinewidth": 0,
             "ticks": ""
            },
            "colorscale": [
             [
              0,
              "#0d0887"
             ],
             [
              0.1111111111111111,
              "#46039f"
             ],
             [
              0.2222222222222222,
              "#7201a8"
             ],
             [
              0.3333333333333333,
              "#9c179e"
             ],
             [
              0.4444444444444444,
              "#bd3786"
             ],
             [
              0.5555555555555556,
              "#d8576b"
             ],
             [
              0.6666666666666666,
              "#ed7953"
             ],
             [
              0.7777777777777778,
              "#fb9f3a"
             ],
             [
              0.8888888888888888,
              "#fdca26"
             ],
             [
              1,
              "#f0f921"
             ]
            ],
            "type": "histogram2d"
           }
          ],
          "histogram2dcontour": [
           {
            "colorbar": {
             "outlinewidth": 0,
             "ticks": ""
            },
            "colorscale": [
             [
              0,
              "#0d0887"
             ],
             [
              0.1111111111111111,
              "#46039f"
             ],
             [
              0.2222222222222222,
              "#7201a8"
             ],
             [
              0.3333333333333333,
              "#9c179e"
             ],
             [
              0.4444444444444444,
              "#bd3786"
             ],
             [
              0.5555555555555556,
              "#d8576b"
             ],
             [
              0.6666666666666666,
              "#ed7953"
             ],
             [
              0.7777777777777778,
              "#fb9f3a"
             ],
             [
              0.8888888888888888,
              "#fdca26"
             ],
             [
              1,
              "#f0f921"
             ]
            ],
            "type": "histogram2dcontour"
           }
          ],
          "mesh3d": [
           {
            "colorbar": {
             "outlinewidth": 0,
             "ticks": ""
            },
            "type": "mesh3d"
           }
          ],
          "parcoords": [
           {
            "line": {
             "colorbar": {
              "outlinewidth": 0,
              "ticks": ""
             }
            },
            "type": "parcoords"
           }
          ],
          "pie": [
           {
            "automargin": true,
            "type": "pie"
           }
          ],
          "scatter": [
           {
            "fillpattern": {
             "fillmode": "overlay",
             "size": 10,
             "solidity": 0.2
            },
            "type": "scatter"
           }
          ],
          "scatter3d": [
           {
            "line": {
             "colorbar": {
              "outlinewidth": 0,
              "ticks": ""
             }
            },
            "marker": {
             "colorbar": {
              "outlinewidth": 0,
              "ticks": ""
             }
            },
            "type": "scatter3d"
           }
          ],
          "scattercarpet": [
           {
            "marker": {
             "colorbar": {
              "outlinewidth": 0,
              "ticks": ""
             }
            },
            "type": "scattercarpet"
           }
          ],
          "scattergeo": [
           {
            "marker": {
             "colorbar": {
              "outlinewidth": 0,
              "ticks": ""
             }
            },
            "type": "scattergeo"
           }
          ],
          "scattergl": [
           {
            "marker": {
             "colorbar": {
              "outlinewidth": 0,
              "ticks": ""
             }
            },
            "type": "scattergl"
           }
          ],
          "scattermap": [
           {
            "marker": {
             "colorbar": {
              "outlinewidth": 0,
              "ticks": ""
             }
            },
            "type": "scattermap"
           }
          ],
          "scattermapbox": [
           {
            "marker": {
             "colorbar": {
              "outlinewidth": 0,
              "ticks": ""
             }
            },
            "type": "scattermapbox"
           }
          ],
          "scatterpolar": [
           {
            "marker": {
             "colorbar": {
              "outlinewidth": 0,
              "ticks": ""
             }
            },
            "type": "scatterpolar"
           }
          ],
          "scatterpolargl": [
           {
            "marker": {
             "colorbar": {
              "outlinewidth": 0,
              "ticks": ""
             }
            },
            "type": "scatterpolargl"
           }
          ],
          "scatterternary": [
           {
            "marker": {
             "colorbar": {
              "outlinewidth": 0,
              "ticks": ""
             }
            },
            "type": "scatterternary"
           }
          ],
          "surface": [
           {
            "colorbar": {
             "outlinewidth": 0,
             "ticks": ""
            },
            "colorscale": [
             [
              0,
              "#0d0887"
             ],
             [
              0.1111111111111111,
              "#46039f"
             ],
             [
              0.2222222222222222,
              "#7201a8"
             ],
             [
              0.3333333333333333,
              "#9c179e"
             ],
             [
              0.4444444444444444,
              "#bd3786"
             ],
             [
              0.5555555555555556,
              "#d8576b"
             ],
             [
              0.6666666666666666,
              "#ed7953"
             ],
             [
              0.7777777777777778,
              "#fb9f3a"
             ],
             [
              0.8888888888888888,
              "#fdca26"
             ],
             [
              1,
              "#f0f921"
             ]
            ],
            "type": "surface"
           }
          ],
          "table": [
           {
            "cells": {
             "fill": {
              "color": "#EBF0F8"
             },
             "line": {
              "color": "white"
             }
            },
            "header": {
             "fill": {
              "color": "#C8D4E3"
             },
             "line": {
              "color": "white"
             }
            },
            "type": "table"
           }
          ]
         },
         "layout": {
          "annotationdefaults": {
           "arrowcolor": "#2a3f5f",
           "arrowhead": 0,
           "arrowwidth": 1
          },
          "autotypenumbers": "strict",
          "coloraxis": {
           "colorbar": {
            "outlinewidth": 0,
            "ticks": ""
           }
          },
          "colorscale": {
           "diverging": [
            [
             0,
             "#8e0152"
            ],
            [
             0.1,
             "#c51b7d"
            ],
            [
             0.2,
             "#de77ae"
            ],
            [
             0.3,
             "#f1b6da"
            ],
            [
             0.4,
             "#fde0ef"
            ],
            [
             0.5,
             "#f7f7f7"
            ],
            [
             0.6,
             "#e6f5d0"
            ],
            [
             0.7,
             "#b8e186"
            ],
            [
             0.8,
             "#7fbc41"
            ],
            [
             0.9,
             "#4d9221"
            ],
            [
             1,
             "#276419"
            ]
           ],
           "sequential": [
            [
             0,
             "#0d0887"
            ],
            [
             0.1111111111111111,
             "#46039f"
            ],
            [
             0.2222222222222222,
             "#7201a8"
            ],
            [
             0.3333333333333333,
             "#9c179e"
            ],
            [
             0.4444444444444444,
             "#bd3786"
            ],
            [
             0.5555555555555556,
             "#d8576b"
            ],
            [
             0.6666666666666666,
             "#ed7953"
            ],
            [
             0.7777777777777778,
             "#fb9f3a"
            ],
            [
             0.8888888888888888,
             "#fdca26"
            ],
            [
             1,
             "#f0f921"
            ]
           ],
           "sequentialminus": [
            [
             0,
             "#0d0887"
            ],
            [
             0.1111111111111111,
             "#46039f"
            ],
            [
             0.2222222222222222,
             "#7201a8"
            ],
            [
             0.3333333333333333,
             "#9c179e"
            ],
            [
             0.4444444444444444,
             "#bd3786"
            ],
            [
             0.5555555555555556,
             "#d8576b"
            ],
            [
             0.6666666666666666,
             "#ed7953"
            ],
            [
             0.7777777777777778,
             "#fb9f3a"
            ],
            [
             0.8888888888888888,
             "#fdca26"
            ],
            [
             1,
             "#f0f921"
            ]
           ]
          },
          "colorway": [
           "#636efa",
           "#EF553B",
           "#00cc96",
           "#ab63fa",
           "#FFA15A",
           "#19d3f3",
           "#FF6692",
           "#B6E880",
           "#FF97FF",
           "#FECB52"
          ],
          "font": {
           "color": "#2a3f5f"
          },
          "geo": {
           "bgcolor": "white",
           "lakecolor": "white",
           "landcolor": "#E5ECF6",
           "showlakes": true,
           "showland": true,
           "subunitcolor": "white"
          },
          "hoverlabel": {
           "align": "left"
          },
          "hovermode": "closest",
          "mapbox": {
           "style": "light"
          },
          "paper_bgcolor": "white",
          "plot_bgcolor": "#E5ECF6",
          "polar": {
           "angularaxis": {
            "gridcolor": "white",
            "linecolor": "white",
            "ticks": ""
           },
           "bgcolor": "#E5ECF6",
           "radialaxis": {
            "gridcolor": "white",
            "linecolor": "white",
            "ticks": ""
           }
          },
          "scene": {
           "xaxis": {
            "backgroundcolor": "#E5ECF6",
            "gridcolor": "white",
            "gridwidth": 2,
            "linecolor": "white",
            "showbackground": true,
            "ticks": "",
            "zerolinecolor": "white"
           },
           "yaxis": {
            "backgroundcolor": "#E5ECF6",
            "gridcolor": "white",
            "gridwidth": 2,
            "linecolor": "white",
            "showbackground": true,
            "ticks": "",
            "zerolinecolor": "white"
           },
           "zaxis": {
            "backgroundcolor": "#E5ECF6",
            "gridcolor": "white",
            "gridwidth": 2,
            "linecolor": "white",
            "showbackground": true,
            "ticks": "",
            "zerolinecolor": "white"
           }
          },
          "shapedefaults": {
           "line": {
            "color": "#2a3f5f"
           }
          },
          "ternary": {
           "aaxis": {
            "gridcolor": "white",
            "linecolor": "white",
            "ticks": ""
           },
           "baxis": {
            "gridcolor": "white",
            "linecolor": "white",
            "ticks": ""
           },
           "bgcolor": "#E5ECF6",
           "caxis": {
            "gridcolor": "white",
            "linecolor": "white",
            "ticks": ""
           }
          },
          "title": {
           "x": 0.05
          },
          "xaxis": {
           "automargin": true,
           "gridcolor": "white",
           "linecolor": "white",
           "ticks": "",
           "title": {
            "standoff": 15
           },
           "zerolinecolor": "white",
           "zerolinewidth": 2
          },
          "yaxis": {
           "automargin": true,
           "gridcolor": "white",
           "linecolor": "white",
           "ticks": "",
           "title": {
            "standoff": 15
           },
           "zerolinecolor": "white",
           "zerolinewidth": 2
          }
         }
        },
        "title": {
         "text": "Listening Activity by Hour of Day"
        },
        "xaxis": {
         "anchor": "y",
         "domain": [
          0,
          1
         ],
         "dtick": 1,
         "tickmode": "linear",
         "title": {
          "text": "Hour of Day"
         }
        },
        "yaxis": {
         "anchor": "x",
         "domain": [
          0,
          1
         ],
         "title": {
          "text": "Total Minutes Played"
         }
        }
       }
      }
     },
     "metadata": {},
     "output_type": "display_data"
    },
    {
     "name": "stdout",
     "output_type": "stream",
     "text": [
      "\n",
      "Peak Listening Hours:\n",
      "  00:00 - 01:00: 3953.67 minutes\n",
      "  02:00 - 03:00: 3196.83 minutes\n",
      "  03:00 - 04:00: 3123.68 minutes\n"
     ]
    }
   ],
   "source": [
    "# Aggregate by hour of day\n",
    "hourly_listening = df_cleaned.groupby('hour')['minutes_played'].sum().reset_index()\n",
    "\n",
    "# Create bar chart\n",
    "fig_hourly = px.bar(\n",
    "    hourly_listening,\n",
    "    x='hour',\n",
    "    y='minutes_played',\n",
    "    labels={'hour': 'Hour of Day', 'minutes_played': 'Total Minutes Played'},\n",
    "    title='Listening Activity by Hour of Day',\n",
    "    color='minutes_played',\n",
    "    color_continuous_scale='Sunset'\n",
    ")\n",
    "\n",
    "fig_hourly.update_layout(\n",
    "    xaxis=dict(tickmode='linear', dtick=1),\n",
    "    height=400,\n",
    "    showlegend=False\n",
    ")\n",
    "\n",
    "fig_hourly.show()\n",
    "\n",
    "print(\"\\nPeak Listening Hours:\")\n",
    "top_hours = hourly_listening.nlargest(3, 'minutes_played')\n",
    "for _, row in top_hours.iterrows():\n",
    "    print(f\"  {int(row['hour']):02d}:00 - {int(row['hour'])+1:02d}:00: {row['minutes_played']:.2f} minutes\")"
   ]
  },
  {
   "cell_type": "markdown",
   "id": "9053142b",
   "metadata": {},
   "source": [
    "**Interpretation:** This distribution shows when I'm most likely to be listening to music throughout the day. Peak hours might align with commute times, work sessions, or evening relaxation, while quiet hours could correspond to sleep or focused work without music."
   ]
  },
  {
   "cell_type": "markdown",
   "id": "6732cd1f",
   "metadata": {},
   "source": [
    "### 3.8 Preliminary EDA Summary\n",
    "\n",
    "From our initial exploratory analysis of the cleaned streaming history, we've learned:\n",
    "\n",
    "1. **Volume of Data**: Our dataset contains thousands of streaming events spanning multiple years\n",
    "2. **Top Content**: We've identified the most-played songs and most-listened-to artists\n",
    "3. **Temporal Patterns**: We've observed how listening behavior varies over time and throughout the day\n",
    "4. **Data Quality**: The cleaning process successfully addressed missing values and standardized our data format\n",
    "\n",
    "**Next Steps**: While these insights are valuable, they only scratch the surface. To perform genre classification, we need to go deeper and extract quantitative audio features from the actual audio signals of these tracks. This will transform our metadata-based analysis into a true machine learning problem rooted in signal processing and pattern recognition."
   ]
  },
  {
   "cell_type": "markdown",
   "id": "333871dc",
   "metadata": {},
   "source": [
    "---\n",
    "\n",
    "## Section 4: Analysis Setup and Data Splits\n",
    "\n",
    "### 4.1 Classification Task Overview\n",
    "\n",
    "Having explored the basic patterns in our streaming history, we now transition to the core machine learning objective: **genre classification**. This is a **supervised multi-class classification problem** where:\n",
    "\n",
    "- **Input (Features)**: Quantitative audio characteristics extracted from music tracks (e.g., tempo, spectral features, MFCCs, chroma features)\n",
    "- **Output (Target)**: The genre label assigned to each track (e.g., \"pop\", \"rock\", \"hip-hop\", \"worship\", etc.)\n",
    "- **Goal**: Train a model that can predict a song's genre based solely on its audio features\n",
    "\n",
    "This type of problem is fundamental in music information retrieval (MIR) and has practical applications in:\n",
    "- **Automatic music tagging** for streaming services\n",
    "- **Music recommendation systems** that suggest songs based on genre preferences\n",
    "- **Playlist generation** that maintains genre consistency\n",
    "- **Music discovery** helping listeners explore new genres\n",
    "\n",
    "### 4.2 Critical Data Distinction: Streaming Events vs. Unique Tracks\n",
    "\n",
    "Before proceeding, we must understand a **crucial distinction** in our dataset:\n",
    "\n",
    "**Two Different Perspectives**:\n",
    "\n",
    "1. **Streaming History** (`cleaned_streaming_history.csv`): ~12,700 rows\n",
    "   - Each row represents a **listening event** (when I played a song)\n",
    "   - The same track appears multiple times if I listened to it repeatedly\n",
    "   - Useful for analyzing: listening patterns, temporal trends, play counts\n",
    "   - Example: If I played \"Oceans\" by Hillsong 50 times, there are 50 rows\n",
    "\n",
    "2. **Unique Tracks** (`audio_features_with_genres.csv`): ~1,850 rows\n",
    "   - Each row represents a **unique track** with its audio features\n",
    "   - Each track appears exactly once, regardless of how many times I played it\n",
    "   - Useful for: genre classification, audio analysis, model training\n",
    "   - Example: \"Oceans\" by Hillsong appears once with all its audio features\n",
    "\n",
    "**Why This Matters for Machine Learning**:\n",
    "\n",
    "For genre classification, we must train on **unique tracks**, not streaming events. Here's why:\n",
    "\n",
    "\u274c **WRONG Approach** (what we must avoid):\n",
    "- Use `unified_streaming_features.csv` (12,700 rows)\n",
    "- Problem: The same track with identical features appears many times\n",
    "- Consequence: The model sees duplicate data, leading to:\n",
    "  - **Data leakage**: The exact same track could appear in both training and test sets\n",
    "  - **Biased evaluation**: High accuracy comes from memorizing frequently played songs\n",
    "  - **Unrealistic performance**: Model hasn't truly learned to generalize\n",
    "\n",
    "\u2705 **CORRECT Approach** (what we will do):\n",
    "- Use `audio_features_with_genres.csv` (1,850 unique tracks)\n",
    "- Benefit: Each track appears once\n",
    "- Consequence:\n",
    "  - **No data leakage**: Clean separation between train/validation/test\n",
    "  - **Honest evaluation**: Performance reflects true generalization\n",
    "  - **Realistic model**: Learns genre patterns from audio features, not memorization\n",
    "\n",
    "**Analogy**: Imagine teaching a student to identify dog breeds. Would you show them the same 5 photos of Golden Retrievers 100 times each, or 100 different photos of various breeds? The latter teaches real pattern recognition; the former just teaches memorization.\n",
    "\n",
    "### 4.3 Loading Unique Track Features\n",
    "\n",
    "Now we'll load the proper dataset for machine learning: the unique tracks with their audio features and genre labels."
   ]
  },
  {
   "cell_type": "code",
   "execution_count": 13,
   "id": "5d6aac97",
   "metadata": {},
   "outputs": [
    {
     "name": "stdout",
     "output_type": "stream",
     "text": [
      "Loading unique tracks from: ../Extracted_Features/audio_features_with_genres.csv\n",
      "\n",
      "======================================================================\n",
      "UNIQUE TRACKS DATASET\n",
      "======================================================================\n",
      "Total unique tracks: 1,853\n",
      "Total columns: 33\n",
      "\n",
      "Dataset structure:\n",
      "  Each row = one unique track\n",
      "  Columns include:\n",
      "    - Track metadata (track_name, artist_name, etc.)\n",
      "    - Audio features (MFCC, chroma, spectral, etc.)\n",
      "    - Genre label (our target variable)\n",
      "\n",
      "======================================================================\n",
      "GENRE DISTRIBUTION\n",
      "======================================================================\n",
      "Number of unique genres: 118\n",
      "\n",
      "Top 15 genres:\n",
      "  Unknown                  :  422 tracks (22.77%)\n",
      "  worship                  :  366 tracks (19.75%)\n",
      "  afrobeats                :  259 tracks (13.98%)\n",
      "  lo-fi                    :  112 tracks ( 6.04%)\n",
      "  african gospel           :   67 tracks ( 3.62%)\n",
      "  gospel                   :   56 tracks ( 3.02%)\n",
      "  uk drill                 :   56 tracks ( 3.02%)\n",
      "  christian                :   41 tracks ( 2.21%)\n",
      "  soft pop                 :   34 tracks ( 1.83%)\n",
      "  new age                  :   33 tracks ( 1.78%)\n",
      "  rap                      :   22 tracks ( 1.19%)\n",
      "  traditional music        :   19 tracks ( 1.03%)\n",
      "  lo-fi beats              :   19 tracks ( 1.03%)\n",
      "  egyptian pop             :   18 tracks ( 0.97%)\n",
      "  reggaeton                :   18 tracks ( 0.97%)\n",
      "  ... and 103 more genres with 311 tracks total\n",
      "\n",
      "======================================================================\n",
      "SAMPLE DATA (first 3 tracks)\n",
      "======================================================================\n"
     ]
    },
    {
     "data": {
      "text/html": [
       "<div>\n",
       "<style scoped>\n",
       "    .dataframe tbody tr th:only-of-type {\n",
       "        vertical-align: middle;\n",
       "    }\n",
       "\n",
       "    .dataframe tbody tr th {\n",
       "        vertical-align: top;\n",
       "    }\n",
       "\n",
       "    .dataframe thead th {\n",
       "        text-align: right;\n",
       "    }\n",
       "</style>\n",
       "<table border=\"1\" class=\"dataframe\">\n",
       "  <thead>\n",
       "    <tr style=\"text-align: right;\">\n",
       "      <th></th>\n",
       "      <th>track_name</th>\n",
       "      <th>artist_name</th>\n",
       "      <th>genre</th>\n",
       "      <th>duration</th>\n",
       "      <th>tempo</th>\n",
       "    </tr>\n",
       "  </thead>\n",
       "  <tbody>\n",
       "    <tr>\n",
       "      <th>0</th>\n",
       "      <td>SNAP</td>\n",
       "      <td>Rosa Linn</td>\n",
       "      <td>Unknown</td>\n",
       "      <td>29.712653</td>\n",
       "      <td>172.265625</td>\n",
       "    </tr>\n",
       "    <tr>\n",
       "      <th>1</th>\n",
       "      <td>Lord Send Revival - Live</td>\n",
       "      <td>Hillsong Young &amp; Free</td>\n",
       "      <td>worship</td>\n",
       "      <td>29.712653</td>\n",
       "      <td>99.384014</td>\n",
       "    </tr>\n",
       "    <tr>\n",
       "      <th>2</th>\n",
       "      <td>Somewhere Only We Know</td>\n",
       "      <td>Gustixa</td>\n",
       "      <td>Unknown</td>\n",
       "      <td>22.328027</td>\n",
       "      <td>86.132812</td>\n",
       "    </tr>\n",
       "    <tr>\n",
       "      <th>3</th>\n",
       "      <td>Happier</td>\n",
       "      <td>Marshmello</td>\n",
       "      <td>edm</td>\n",
       "      <td>29.712653</td>\n",
       "      <td>89.102909</td>\n",
       "    </tr>\n",
       "    <tr>\n",
       "      <th>4</th>\n",
       "      <td>Firm Foundation (He Won't) [feat. Cody Carnes]</td>\n",
       "      <td>Maverick City Music</td>\n",
       "      <td>worship</td>\n",
       "      <td>29.712653</td>\n",
       "      <td>161.499023</td>\n",
       "    </tr>\n",
       "    <tr>\n",
       "      <th>5</th>\n",
       "      <td>Revival\u2019s In The Air (Live)</td>\n",
       "      <td>Bethel Music</td>\n",
       "      <td>worship</td>\n",
       "      <td>29.712653</td>\n",
       "      <td>129.199219</td>\n",
       "    </tr>\n",
       "    <tr>\n",
       "      <th>6</th>\n",
       "      <td>Vibration</td>\n",
       "      <td>Fireboy DML</td>\n",
       "      <td>afrobeats</td>\n",
       "      <td>29.712653</td>\n",
       "      <td>103.359375</td>\n",
       "    </tr>\n",
       "    <tr>\n",
       "      <th>7</th>\n",
       "      <td>Miracle No Dey Tire Jesus</td>\n",
       "      <td>Moses Bliss</td>\n",
       "      <td>african gospel</td>\n",
       "      <td>29.712653</td>\n",
       "      <td>117.453835</td>\n",
       "    </tr>\n",
       "    <tr>\n",
       "      <th>8</th>\n",
       "      <td>In Between</td>\n",
       "      <td>Shawn Mendes</td>\n",
       "      <td>Unknown</td>\n",
       "      <td>25.098005</td>\n",
       "      <td>151.999081</td>\n",
       "    </tr>\n",
       "    <tr>\n",
       "      <th>9</th>\n",
       "      <td>OHEMA (with Crayon &amp; Bella Shmurda)</td>\n",
       "      <td>Victony</td>\n",
       "      <td>afrobeats</td>\n",
       "      <td>17.136009</td>\n",
       "      <td>112.347147</td>\n",
       "    </tr>\n",
       "  </tbody>\n",
       "</table>\n",
       "</div>"
      ],
      "text/plain": [
       "                                       track_name            artist_name  \\\n",
       "0                                            SNAP              Rosa Linn   \n",
       "1                        Lord Send Revival - Live  Hillsong Young & Free   \n",
       "2                          Somewhere Only We Know                Gustixa   \n",
       "3                                         Happier             Marshmello   \n",
       "4  Firm Foundation (He Won't) [feat. Cody Carnes]    Maverick City Music   \n",
       "5                     Revival\u2019s In The Air (Live)           Bethel Music   \n",
       "6                                       Vibration            Fireboy DML   \n",
       "7                       Miracle No Dey Tire Jesus            Moses Bliss   \n",
       "8                                      In Between           Shawn Mendes   \n",
       "9             OHEMA (with Crayon & Bella Shmurda)                Victony   \n",
       "\n",
       "            genre   duration       tempo  \n",
       "0         Unknown  29.712653  172.265625  \n",
       "1         worship  29.712653   99.384014  \n",
       "2         Unknown  22.328027   86.132812  \n",
       "3             edm  29.712653   89.102909  \n",
       "4         worship  29.712653  161.499023  \n",
       "5         worship  29.712653  129.199219  \n",
       "6       afrobeats  29.712653  103.359375  \n",
       "7  african gospel  29.712653  117.453835  \n",
       "8         Unknown  25.098005  151.999081  \n",
       "9       afrobeats  17.136009  112.347147  "
      ]
     },
     "execution_count": 13,
     "metadata": {},
     "output_type": "execute_result"
    }
   ],
   "source": [
    "# Load the UNIQUE TRACKS dataset with audio features and genres\n",
    "# This is the correct dataset for machine learning - each track appears once\n",
    "unique_tracks_path = '../Extracted_Features/audio_features_with_genres.csv'\n",
    "\n",
    "print(f\"Loading unique tracks from: {unique_tracks_path}\")\n",
    "df_tracks = pd.read_csv(unique_tracks_path)\n",
    "\n",
    "print(f\"\\n{'='*70}\")\n",
    "print(f\"UNIQUE TRACKS DATASET\")\n",
    "print(f\"{'='*70}\")\n",
    "print(f\"Total unique tracks: {len(df_tracks):,}\")\n",
    "print(f\"Total columns: {len(df_tracks.columns)}\")\n",
    "\n",
    "# Display basic info\n",
    "print(f\"\\nDataset structure:\")\n",
    "print(f\"  Each row = one unique track\")\n",
    "print(f\"  Columns include:\")\n",
    "print(f\"    - Track metadata (track_name, artist_name, etc.)\")\n",
    "print(f\"    - Audio features (MFCC, chroma, spectral, etc.)\")\n",
    "print(f\"    - Genre label (our target variable)\")\n",
    "\n",
    "# Check genre distribution\n",
    "if 'genre' in df_tracks.columns:\n",
    "    print(f\"\\n{'='*70}\")\n",
    "    print(f\"GENRE DISTRIBUTION\")\n",
    "    print(f\"{'='*70}\")\n",
    "    genre_counts = df_tracks['genre'].value_counts()\n",
    "    print(f\"Number of unique genres: {len(genre_counts)}\")\n",
    "    print(f\"\\nTop 15 genres:\")\n",
    "    for genre, count in genre_counts.head(15).items():\n",
    "        pct = (count / len(df_tracks)) * 100\n",
    "        print(f\"  {genre:25s}: {count:4d} tracks ({pct:5.2f}%)\")\n",
    "    \n",
    "    # Show distribution of remaining genres\n",
    "    if len(genre_counts) > 15:\n",
    "        remaining = len(genre_counts) - 15\n",
    "        remaining_tracks = genre_counts.iloc[15:].sum()\n",
    "        print(f\"  ... and {remaining} more genres with {remaining_tracks} tracks total\")\n",
    "else:\n",
    "    print(\"\\n\u26a0 Warning: 'genre' column not found in dataset\")\n",
    "\n",
    "# Display first few rows (excluding long array columns for readability)\n",
    "print(f\"\\n{'='*70}\")\n",
    "print(f\"SAMPLE DATA (first 3 tracks)\")\n",
    "print(f\"{'='*70}\")\n",
    "display_cols = ['track_name', 'artist_name', 'genre', 'duration', 'tempo']\n",
    "df_tracks[display_cols].head(10)"
   ]
  },
  {
   "cell_type": "markdown",
   "id": "77422ca9",
   "metadata": {},
   "source": [
    "### 4.5 Data Splitting Strategy\n",
    "\n",
    "To properly evaluate our machine learning models, we must split our **unique tracks** into three distinct sets:\n",
    "\n",
    "1. **Training Set (70%)**: Used to train the model parameters. The model learns patterns and relationships from this data.\n",
    "\n",
    "2. **Validation Set (15%)**: Used during model development to:\n",
    "   - Tune hyperparameters (e.g., number of trees, learning rate)\n",
    "   - Perform early stopping to prevent overfitting\n",
    "   - Compare different model architectures\n",
    "\n",
    "3. **Test Set (15%)**: A completely held-out set used **only** for final evaluation. This simulates real-world performance on unseen data.\n",
    "\n",
    "**Critical Principles**:\n",
    "- The test set must remain untouched until final evaluation to provide an unbiased estimate of model performance\n",
    "- We're splitting **unique tracks**, not listening events - this ensures no track appears in multiple sets\n",
    "- Each set will have different songs, ensuring the model truly learns to generalize\n",
    "\n",
    "**Stratified Splitting**: Because genres may be imbalanced (some genres have more tracks than others), we'll use **stratified sampling** to ensure each split contains the same proportion of each genre as the original dataset. This prevents the model from being trained on an unrepresentative sample.\n",
    "\n",
    "**Genre Filtering**: Some genres may have very few tracks (e.g., only 1-2 samples). These cannot be reliably split across train/validation/test sets, so we'll filter to genres with at least 10 tracks. This is a standard practice in machine learning to ensure statistical validity."
   ]
  },
  {
   "cell_type": "markdown",
   "id": "72b1caa0",
   "metadata": {},
   "source": [
    "### 4.4 The Minimum Sample Size Requirement: Why 10 Tracks Per Genre?\n",
    "\n",
    "Before we can split our data for training, we must address a critical statistical constraint: **minimum sample size per class**.\n",
    "\n",
    "#### 4.4.1 The Problem: Long-Tail Genre Distribution\n",
    "\n",
    "Our dataset exhibits what's known as a **long-tail distribution**. Looking at our genre counts:\n",
    "- A few genres dominate: \"Unknown\" (422 tracks), \"worship\" (366 tracks), \"afrobeats\" (259 tracks)\n",
    "- Many genres are rare: 103 genres have fewer than 10 tracks each\n",
    "- Some genres have only 1-2 samples\n",
    "\n",
    "This creates a fundamental problem for machine learning: **How can we reliably train, validate, and test a model on genres with insufficient data?**\n",
    "\n",
    "#### 4.4.2 Statistical Requirements for Stratified Splitting\n",
    "\n",
    "Recall our planned data split:\n",
    "- Training: 70%\n",
    "- Validation: 15%\n",
    "- Test: 15%\n",
    "\n",
    "For **stratified splitting** (maintaining genre proportions across splits), we need each genre to have enough samples to be distributed across all three sets while maintaining statistical validity.\n",
    "\n",
    "**Mathematical Constraint**:\n",
    "\n",
    "For a genre with $n$ samples and a split of proportions $(p_{train}, p_{val}, p_{test})$:\n",
    "\n",
    "$$\n",
    "n_{train} = \\lfloor n \\cdot p_{train} \\rfloor, \\quad n_{val} = \\lfloor n \\cdot p_{val} \\rfloor, \\quad n_{test} = \\lfloor n \\cdot p_{test} \\rfloor\n",
    "$$\n",
    "\n",
    "where $\\lfloor \\cdot \\rfloor$ denotes rounding down (floor function).\n",
    "\n",
    "**Problem Cases**:\n",
    "\n",
    "| Genre Samples | Train (70%) | Val (15%) | Test (15%) | Issue |\n",
    "|---------------|-------------|-----------|------------|-------|\n",
    "| $n = 1$ | 0-1 | 0 | 0 | Cannot split at all |\n",
    "| $n = 2$ | 1 | 0 | 0-1 | No validation/test data |\n",
    "| $n = 5$ | 3 | 0-1 | 0-1 | Validation/test too small |\n",
    "| $n = 10$ | 7 | 1-2 | 1-2 | Minimum viable split |\n",
    "| $n = 20$ | 14 | 3 | 3 | Comfortable split |\n",
    "\n",
    "With $n < 10$, we cannot guarantee that each split receives at least one sample, making stratified splitting impossible or statistically meaningless.\n",
    "\n",
    "#### 4.4.3 Why We Can't Train on Single-Sample Classes\n",
    "\n",
    "**Theoretical Issues**:\n",
    "\n",
    "1. **No Generalization**: With only 1-2 samples of a genre in training, the model can't learn generalizable patterns. It will either:\n",
    "   - Memorize those specific tracks (overfitting)\n",
    "   - Ignore the genre entirely (underfitting)\n",
    "\n",
    "2. **Unreliable Validation**: With 0-1 samples in validation, we can't assess:\n",
    "   - Whether the model learned meaningful patterns\n",
    "   - How well it generalizes to unseen data of that genre\n",
    "   - What the true error rate is\n",
    "\n",
    "3. **Meaningless Test Performance**: With 0-1 samples in test, we get:\n",
    "   - High variance in performance metrics\n",
    "   - Unreliable estimates of real-world accuracy\n",
    "   - Either 0% or 100% accuracy\u2014neither is informative\n",
    "\n",
    "**Practical Example**:\n",
    "\n",
    "Suppose we have a genre \"jazz\" with only 2 tracks. After splitting:\n",
    "- Training: 1 track (track A)\n",
    "- Validation: 0-1 tracks (track B or nothing)\n",
    "- Test: 0-1 tracks (track B or nothing)\n",
    "\n",
    "The model trained on track A cannot possibly learn what makes jazz \"jazz\" from a single example. It might learn that track A specifically is jazz, but this doesn't generalize.\n",
    "\n",
    "#### 4.4.4 Statistical Validity and Confidence\n",
    "\n",
    "In statistics, we need sufficient sample size to make reliable inferences. For classification:\n",
    "\n",
    "**Rule of Thumb**: Each class should have at least 10-30 samples for basic statistical validity.\n",
    "\n",
    "With our 70/15/15 split on $n=10$ samples:\n",
    "- Train: 7 samples \u2192 Model can begin to identify patterns\n",
    "- Val: 1-2 samples \u2192 Minimal feedback for hyperparameter tuning\n",
    "- Test: 1-2 samples \u2192 Very rough performance estimate\n",
    "\n",
    "This is the **absolute minimum**. Ideally, we'd want $n \\geq 30$ per genre, but we're working with real-world constraints.\n",
    "\n",
    "**Confidence Intervals**:\n",
    "\n",
    "For a test set with $n_{test}$ samples per class, the standard error of the accuracy estimate is:\n",
    "\n",
    "$$\n",
    "SE = \\sqrt{\\frac{p(1-p)}{n_{test}}}\n",
    "$$\n",
    "\n",
    "where $p$ is the true accuracy. With $n_{test} = 1$:\n",
    "\n",
    "$$\n",
    "SE = \\sqrt{\\frac{0.5(0.5)}{1}} = 0.5 \n",
    "\n",
    "\\text{ (50\\% uncertainty!)}\n",
    "$$\n",
    "\n",
    "With $n_{test} = 2$:\n",
    "\n",
    "$$\n",
    "SE = \\sqrt{\\frac{0.5(0.5)}{2}} \\approx 0.35 \\text{ (35\\% uncertainty)}\n",
    "$$\n",
    "\n",
    "With $n_{test} = 15$ (from a genre with 100 samples):\n",
    "\n",
    "$$\n",
    "SE = \\sqrt{\\frac{0.5(0.5)}{15}} \\approx 0.13 \\text{ (13\\% uncertainty)}\n",
    "$$\n",
    "\n",
    "**This illustrates why small sample sizes yield unreliable performance estimates.**\n",
    "\n",
    "#### 4.4.5 The Tradeoff: Coverage vs. Quality\n",
    "\n",
    "By filtering to genres with \u226510 samples, we face a tradeoff:\n",
    "\n",
    "**What We Lose**:\n",
    "- 103 rare genres (e.g., \"classical\", \"jazz\", \"salsa\" with 1 track each)\n",
    "- 241 tracks (13% of dataset)\n",
    "- Diversity in genre representation\n",
    "\n",
    "**What We Gain**:\n",
    "- Statistically valid train/val/test splits\n",
    "- Reliable performance metrics\n",
    "- Honest evaluation of model generalization\n",
    "- Ability to use stratified sampling\n",
    "- Confidence in our results\n",
    "\n",
    "**Alternative Approaches (and why we reject them)**:\n",
    "\n",
    "1. **Keep all genres, don't stratify**: \n",
    "   - Problem: Rare genres might appear only in one split\n",
    "   - Result: Can't evaluate performance on those genres at all\n",
    "\n",
    "2. **Combine rare genres into \"Other\"**:\n",
    "   - Problem: \"Other\" becomes incoherent (mixing jazz, classical, metal, etc.)\n",
    "   - Result: Model learns nothing meaningful about \"Other\" category\n",
    "\n",
    "3. **Use only training set for rare genres**:\n",
    "   - Problem: No validation or test data for those genres\n",
    "   - Result: Can't evaluate model on them anyway\u2014same as excluding\n",
    "\n",
    "**Our choice (filter to \u226510)** is the principled approach that ensures every genre in our final dataset can be properly evaluated.\n",
    "\n",
    "#### 4.4.6 Final Dataset Composition\n",
    "\n",
    "After filtering:\n",
    "- **20 genres** (down from 118)\n",
    "- **1,612 tracks** (87% of original 1,853)\n",
    "- **Minimum 10 tracks per genre**, maximum 422 tracks\n",
    "- **Average ~80 tracks per genre**\n",
    "\n",
    "Each genre now has sufficient data for:\n",
    "- Learning patterns in training (7+ samples)\n",
    "- Tuning hyperparameters in validation (1-2+ samples)\n",
    "- Evaluating performance in test (1-2+ samples)\n",
    "\n",
    "This is a **realistic, honest dataset** for machine learning, even if it means excluding rare genres we don't have enough data to properly classify."
   ]
  },
  {
   "cell_type": "code",
   "execution_count": 14,
   "id": "fe865740",
   "metadata": {},
   "outputs": [
    {
     "name": "stdout",
     "output_type": "stream",
     "text": [
      "======================================================================\n",
      "STEP 1: FILTER GENRES\n",
      "======================================================================\n",
      "Minimum samples per genre: 10\n",
      "Genres before filtering: 118\n",
      "Genres after filtering:  20\n",
      "Tracks retained: 1,612 / 1,853 (87.0%)\n",
      "\n",
      "Filtered genres (20 total):\n",
      "  Unknown                       :  422 tracks\n",
      "  african gospel                :   67 tracks\n",
      "  afro adura                    :   11 tracks\n",
      "  afrobeats                     :  259 tracks\n",
      "  amapiano                      :   11 tracks\n",
      "  christian                     :   41 tracks\n",
      "  country                       :   16 tracks\n",
      "  edm                           :   17 tracks\n",
      "  egyptian pop                  :   18 tracks\n",
      "  gospel                        :   56 tracks\n",
      "  lo-fi                         :  112 tracks\n",
      "  lo-fi beats                   :   19 tracks\n",
      "  lo-fi hip hop                 :   15 tracks\n",
      "  new age                       :   33 tracks\n",
      "  rap                           :   22 tracks\n",
      "  reggaeton                     :   18 tracks\n",
      "  soft pop                      :   34 tracks\n",
      "  traditional music             :   19 tracks\n",
      "  uk drill                      :   56 tracks\n",
      "  worship                       :  366 tracks\n",
      "\n",
      "======================================================================\n",
      "STEP 2: EXTRACT NUMERICAL FEATURES\n",
      "======================================================================\n",
      "Simple numerical features: 14\n",
      "  - duration\n",
      "  - tempo\n",
      "  - spec_centroid_mean\n",
      "  - spec_centroid_std\n",
      "  - spec_bandwidth_mean\n",
      "  - spec_bandwidth_std\n",
      "  - spec_rolloff_mean\n",
      "  - spec_rolloff_std\n",
      "  - zero_crossing_mean\n",
      "  - zero_crossing_std\n",
      "  - rms_mean\n",
      "  - rms_std\n",
      "  - beat_count\n",
      "  - beat_tempo\n",
      "\n",
      "Numerical feature matrix shape: (1612, 14)\n",
      "\n",
      "======================================================================\n",
      "STEP 3: PARSE ARRAY-BASED FEATURES\n",
      "======================================================================\n",
      "Parsing mfcc_mean... \u2713 (20 dimensions)\n",
      "Parsing mfcc_std... \u2713 (20 dimensions)\n",
      "Parsing chroma_mean... \u2713 (12 dimensions)\n",
      "Parsing chroma_std... \u2713 (12 dimensions)\n",
      "Parsing mel_spec_mean... \u2713 (128 dimensions)\n",
      "Parsing mel_spec_std... \u2713 (128 dimensions)\n",
      "Parsing spec_contrast_mean... \u2713 (7 dimensions)\n",
      "Parsing spec_contrast_std... \u2713 (7 dimensions)\n",
      "\n",
      "======================================================================\n",
      "COMBINED FEATURE MATRIX\n",
      "======================================================================\n",
      "Total features: 348\n",
      "Total tracks: 1612\n",
      "Feature matrix shape: (1612, 348)\n",
      "\n",
      "======================================================================\n",
      "STEP 4: ENCODE GENRE LABELS\n",
      "======================================================================\n",
      "Number of genre classes: 20\n",
      "Target vector shape: (1612,)\n",
      "\n",
      "Genre encoding:\n",
      "   0 \u2192 Unknown                        ( 422 tracks)\n",
      "   1 \u2192 african gospel                 (  67 tracks)\n",
      "   2 \u2192 afro adura                     (  11 tracks)\n",
      "   3 \u2192 afrobeats                      ( 259 tracks)\n",
      "   4 \u2192 amapiano                       (  11 tracks)\n",
      "   5 \u2192 christian                      (  41 tracks)\n",
      "   6 \u2192 country                        (  16 tracks)\n",
      "   7 \u2192 edm                            (  17 tracks)\n",
      "   8 \u2192 egyptian pop                   (  18 tracks)\n",
      "   9 \u2192 gospel                         (  56 tracks)\n",
      "  10 \u2192 lo-fi                          ( 112 tracks)\n",
      "  11 \u2192 lo-fi beats                    (  19 tracks)\n",
      "  12 \u2192 lo-fi hip hop                  (  15 tracks)\n",
      "  13 \u2192 new age                        (  33 tracks)\n",
      "  14 \u2192 rap                            (  22 tracks)\n",
      "  15 \u2192 reggaeton                      (  18 tracks)\n",
      "  16 \u2192 soft pop                       (  34 tracks)\n",
      "  17 \u2192 traditional music              (  19 tracks)\n",
      "  18 \u2192 uk drill                       (  56 tracks)\n",
      "  19 \u2192 worship                        ( 366 tracks)\n",
      "\n",
      "======================================================================\n",
      "STEP 5: SPLIT DATA\n",
      "======================================================================\n",
      "Training set:    1128 tracks ( 70.0%)\n",
      "Validation set:   242 tracks ( 15.0%)\n",
      "Test set:         242 tracks ( 15.0%)\n",
      "               \u2500\u2500\u2500\u2500\u2500          \u2500\u2500\u2500\u2500\u2500\u2500\n",
      "Total:           1612 tracks\n",
      "\n",
      "======================================================================\n",
      "STRATIFICATION VERIFICATION\n",
      "======================================================================\n",
      "Verifying that each split has the same genre proportions...\n",
      "\n",
      "Genre                           Train %    Val %   Test %\n",
      "------------------------------ -------- -------- --------\n",
      "Unknown                          26.24%   26.03%   26.03%\n",
      "african gospel                    4.17%    4.13%    4.13%\n",
      "afro adura                        0.62%    0.83%    0.83%\n",
      "afrobeats                        16.05%   16.12%   16.12%\n",
      "amapiano                          0.62%    0.83%    0.83%\n",
      "christian                         2.57%    2.48%    2.48%\n",
      "country                           1.06%    0.83%    0.83%\n",
      "edm                               1.06%    0.83%    1.24%\n",
      "egyptian pop                      1.06%    1.24%    1.24%\n",
      "gospel                            3.55%    3.31%    3.31%\n",
      "lo-fi                             6.91%    7.02%    7.02%\n",
      "lo-fi beats                       1.15%    1.24%    1.24%\n",
      "lo-fi hip hop                     0.98%    0.83%    0.83%\n",
      "new age                           2.04%    2.07%    2.07%\n",
      "rap                               1.42%    1.24%    1.24%\n",
      "reggaeton                         1.06%    1.24%    1.24%\n",
      "soft pop                          2.13%    2.07%    2.07%\n",
      "traditional music                 1.15%    1.24%    1.24%\n",
      "uk drill                          3.46%    3.72%    3.31%\n",
      "worship                          22.70%   22.73%   22.73%\n",
      "\n",
      "\u2713 Data preparation complete!\n",
      "  Feature matrix: 1,612 unique tracks \u00d7 348 features\n",
      "  Target labels: 20 genre classes\n",
      "  Ready for model training\n"
     ]
    }
   ],
   "source": [
    "# Import machine learning libraries\n",
    "from sklearn.model_selection import train_test_split\n",
    "from sklearn.preprocessing import LabelEncoder, StandardScaler\n",
    "\n",
    "# Step 1: Filter genres with sufficient samples\n",
    "print(f\"{'='*70}\")\n",
    "print(f\"STEP 1: FILTER GENRES\")\n",
    "print(f\"{'='*70}\")\n",
    "\n",
    "MIN_SAMPLES_PER_GENRE = 10\n",
    "genre_counts = df_tracks['genre'].value_counts()\n",
    "valid_genres = genre_counts[genre_counts >= MIN_SAMPLES_PER_GENRE].index\n",
    "\n",
    "print(f\"Minimum samples per genre: {MIN_SAMPLES_PER_GENRE}\")\n",
    "print(f\"Genres before filtering: {len(genre_counts)}\")\n",
    "print(f\"Genres after filtering:  {len(valid_genres)}\")\n",
    "print(f\"Tracks retained: {genre_counts[valid_genres].sum():,} / {len(df_tracks):,} \" +\n",
    "      f\"({genre_counts[valid_genres].sum()/len(df_tracks)*100:.1f}%)\")\n",
    "\n",
    "# Create filtered dataset\n",
    "df_tracks_filtered = df_tracks[df_tracks['genre'].isin(valid_genres)].copy().reset_index(drop=True)\n",
    "\n",
    "print(f\"\\nFiltered genres ({len(valid_genres)} total):\")\n",
    "for genre in sorted(valid_genres):\n",
    "    count = (df_tracks_filtered['genre'] == genre).sum()\n",
    "    print(f\"  {genre:30s}: {count:4d} tracks\")\n",
    "\n",
    "# Step 2: Prepare feature matrix\n",
    "print(f\"\\n{'='*70}\")\n",
    "print(f\"STEP 2: EXTRACT NUMERICAL FEATURES\")\n",
    "print(f\"{'='*70}\")\n",
    "\n",
    "# Identify simple numerical feature columns\n",
    "numerical_feature_cols = [\n",
    "    'duration', 'tempo', \n",
    "    'spec_centroid_mean', 'spec_centroid_std',\n",
    "    'spec_bandwidth_mean', 'spec_bandwidth_std',\n",
    "    'spec_rolloff_mean', 'spec_rolloff_std',\n",
    "    'zero_crossing_mean', 'zero_crossing_std',\n",
    "    'rms_mean', 'rms_std',\n",
    "    'beat_count', 'beat_tempo'\n",
    "]\n",
    "\n",
    "# Verify all columns exist\n",
    "numerical_feature_cols = [col for col in numerical_feature_cols if col in df_tracks_filtered.columns]\n",
    "print(f\"Simple numerical features: {len(numerical_feature_cols)}\")\n",
    "for col in numerical_feature_cols:\n",
    "    print(f\"  - {col}\")\n",
    "\n",
    "# Extract numerical features\n",
    "X_numerical = df_tracks_filtered[numerical_feature_cols].fillna(0).values\n",
    "print(f\"\\nNumerical feature matrix shape: {X_numerical.shape}\")\n",
    "\n",
    "# Step 3: Parse and flatten array-based features (MFCC, chroma, etc.)\n",
    "print(f\"\\n{'='*70}\")\n",
    "print(f\"STEP 3: PARSE ARRAY-BASED FEATURES\")\n",
    "print(f\"{'='*70}\")\n",
    "\n",
    "# These features are stored as string representations of arrays\n",
    "# e.g., \"[1.2, 3.4, 5.6]\" needs to become actual numbers\n",
    "import ast\n",
    "\n",
    "def parse_array_column(series):\n",
    "    \"\"\"Convert string representation of arrays to actual arrays\"\"\"\n",
    "    result = []\n",
    "    for val in series:\n",
    "        if isinstance(val, str) and val.startswith('['):\n",
    "            try:\n",
    "                result.append(np.array(ast.literal_eval(val)))\n",
    "            except:\n",
    "                result.append(np.zeros(20))  # Default if parsing fails\n",
    "        else:\n",
    "            result.append(np.zeros(20))\n",
    "    return result\n",
    "\n",
    "# Array-based feature columns\n",
    "array_feature_cols = {\n",
    "    'mfcc_mean': 20,         # 20 MFCC coefficients\n",
    "    'mfcc_std': 20,\n",
    "    'chroma_mean': 12,       # 12 pitch classes\n",
    "    'chroma_std': 12,\n",
    "    'mel_spec_mean': 128,    # 128 mel frequency bins\n",
    "    'mel_spec_std': 128,\n",
    "    'spec_contrast_mean': 7, # 7 frequency bands\n",
    "    'spec_contrast_std': 7\n",
    "}\n",
    "\n",
    "feature_parts = [X_numerical]\n",
    "feature_names = numerical_feature_cols.copy()\n",
    "\n",
    "for col_name, expected_dim in array_feature_cols.items():\n",
    "    if col_name in df_tracks_filtered.columns:\n",
    "        print(f\"Parsing {col_name}... \", end='')\n",
    "        parsed_arrays = parse_array_column(df_tracks_filtered[col_name])\n",
    "        \n",
    "        try:\n",
    "            # Stack into matrix\n",
    "            arr_matrix = np.vstack(parsed_arrays)\n",
    "            actual_dim = arr_matrix.shape[1]\n",
    "            \n",
    "            # Handle dimension mismatches\n",
    "            if actual_dim != expected_dim:\n",
    "                print(f\"dimension mismatch ({actual_dim} vs {expected_dim}), taking first {min(actual_dim, expected_dim)}\")\n",
    "                arr_matrix = arr_matrix[:, :min(actual_dim, expected_dim)]\n",
    "                actual_dim = min(actual_dim, expected_dim)\n",
    "            else:\n",
    "                print(f\"\u2713 ({actual_dim} dimensions)\")\n",
    "            \n",
    "            feature_parts.append(arr_matrix)\n",
    "            \n",
    "            # Create feature names for each dimension\n",
    "            for i in range(actual_dim):\n",
    "                feature_names.append(f\"{col_name}_{i}\")\n",
    "        except Exception as e:\n",
    "            print(f\"\u2717 failed ({e})\")\n",
    "\n",
    "# Combine all features\n",
    "X = np.hstack(feature_parts)\n",
    "\n",
    "print(f\"\\n{'='*70}\")\n",
    "print(f\"COMBINED FEATURE MATRIX\")\n",
    "print(f\"{'='*70}\")\n",
    "print(f\"Total features: {X.shape[1]}\")\n",
    "print(f\"Total tracks: {X.shape[0]}\")\n",
    "print(f\"Feature matrix shape: {X.shape}\")\n",
    "\n",
    "# Step 4: Encode target labels\n",
    "print(f\"\\n{'='*70}\")\n",
    "print(f\"STEP 4: ENCODE GENRE LABELS\")\n",
    "print(f\"{'='*70}\")\n",
    "\n",
    "le = LabelEncoder()\n",
    "y = le.fit_transform(df_tracks_filtered['genre'])\n",
    "\n",
    "print(f\"Number of genre classes: {len(le.classes_)}\")\n",
    "print(f\"Target vector shape: {y.shape}\")\n",
    "print(f\"\\nGenre encoding:\")\n",
    "for idx, genre in enumerate(le.classes_):\n",
    "    count = (y == idx).sum()\n",
    "    print(f\"  {idx:2d} \u2192 {genre:30s} ({count:4d} tracks)\")\n",
    "\n",
    "# Step 5: Perform stratified train/validation/test split\n",
    "print(f\"\\n{'='*70}\")\n",
    "print(f\"STEP 5: SPLIT DATA\")\n",
    "print(f\"{'='*70}\")\n",
    "\n",
    "# First split: separate test set (15%)\n",
    "X_temp, X_test, y_temp, y_test = train_test_split(\n",
    "    X, y, test_size=0.15, random_state=42, stratify=y\n",
    ")\n",
    "\n",
    "# Second split: separate training and validation from remaining data\n",
    "# 70% train, 15% validation of original data \u2192 70/85 \u2248 0.8235 of temp for training\n",
    "X_train, X_val, y_train, y_val = train_test_split(\n",
    "    X_temp, y_temp, test_size=0.15/0.85, random_state=42, stratify=y_temp\n",
    ")\n",
    "\n",
    "print(f\"Training set:   {X_train.shape[0]:5d} tracks ({X_train.shape[0]/len(X)*100:5.1f}%)\")\n",
    "print(f\"Validation set: {X_val.shape[0]:5d} tracks ({X_val.shape[0]/len(X)*100:5.1f}%)\")\n",
    "print(f\"Test set:       {X_test.shape[0]:5d} tracks ({X_test.shape[0]/len(X)*100:5.1f}%)\")\n",
    "print(f\"{'':14s} {'\u2500'*5}          {'\u2500'*6}\")\n",
    "print(f\"Total:          {len(X):5d} tracks\")\n",
    "\n",
    "# Verify stratification\n",
    "print(f\"\\n{'='*70}\")\n",
    "print(f\"STRATIFICATION VERIFICATION\")\n",
    "print(f\"{'='*70}\")\n",
    "print(f\"Verifying that each split has the same genre proportions...\\n\")\n",
    "print(f\"{'Genre':<30s} {'Train %':>8s} {'Val %':>8s} {'Test %':>8s}\")\n",
    "print(f\"{'-'*30} {'-'*8} {'-'*8} {'-'*8}\")\n",
    "\n",
    "for i, genre in enumerate(le.classes_):\n",
    "    train_pct = (y_train == i).sum() / len(y_train) * 100\n",
    "    val_pct = (y_val == i).sum() / len(y_val) * 100\n",
    "    test_pct = (y_test == i).sum() / len(y_test) * 100\n",
    "    print(f\"{genre:<30s} {train_pct:7.2f}% {val_pct:7.2f}% {test_pct:7.2f}%\")\n",
    "\n",
    "print(f\"\\n\u2713 Data preparation complete!\")\n",
    "print(f\"  Feature matrix: {X.shape[0]:,} unique tracks \u00d7 {X.shape[1]} features\")\n",
    "print(f\"  Target labels: {len(le.classes_)} genre classes\")\n",
    "print(f\"  Ready for model training\")"
   ]
  },
  {
   "cell_type": "markdown",
   "id": "309ac086",
   "metadata": {},
   "source": [
    "### 4.6 Feature Analysis and Visualization\n",
    "\n",
    "Before training our models, it's essential to understand the structure and relationships within our features. This exploratory analysis will help us:\n",
    "\n",
    "1. **Understand class balance** - Are some genres overrepresented?\n",
    "2. **Identify feature correlations** - Do certain features move together?\n",
    "3. **Detect potential issues** - Are features on vastly different scales?\n",
    "4. **Gain intuition** - What do the features tell us about music?\n",
    "\n",
    "#### 4.6.1 Genre Distribution Analysis\n",
    "\n",
    "First, let's visualize the distribution of our 20 filtered genres to understand class balance."
   ]
  },
  {
   "cell_type": "code",
   "execution_count": 17,
   "id": "e59ceb88",
   "metadata": {},
   "outputs": [
    {
     "name": "stdout",
     "output_type": "stream",
     "text": [
      "======================================================================\n",
      "VISUALIZATION 1: GENRE DISTRIBUTION\n",
      "======================================================================\n",
      "\n"
     ]
    },
    {
     "data": {
      "application/vnd.plotly.v1+json": {
       "config": {
        "plotlyServerURL": "https://plot.ly"
       },
       "data": [
        {
         "hovertemplate": "Number of Tracks=%{x}<br>Genre=%{y}<br>text=%{text}<br>color=%{marker.color}<extra></extra>",
         "legendgroup": "",
         "marker": {
          "color": {
           "bdata": "CwALAA8AEAARABIAEgATABMAFgAhACIAKQA4ADgAQwBwAAMBbgGmAQ==",
           "dtype": "i2"
          },
          "coloraxis": "coloraxis",
          "pattern": {
           "shape": ""
          }
         },
         "name": "",
         "orientation": "h",
         "showlegend": false,
         "text": {
          "bdata": "AAAAAAAAJkAAAAAAAAAmQAAAAAAAAC5AAAAAAAAAMEAAAAAAAAAxQAAAAAAAADJAAAAAAAAAMkAAAAAAAAAzQAAAAAAAADNAAAAAAAAANkAAAAAAAIBAQAAAAAAAAEFAAAAAAACAREAAAAAAAABMQAAAAAAAAExAAAAAAADAUEAAAAAAAABcQAAAAAAAMHBAAAAAAADgdkAAAAAAAGB6QA==",
          "dtype": "f8"
         },
         "textposition": "outside",
         "texttemplate": "%{text}",
         "type": "bar",
         "x": {
          "bdata": "CwALAA8AEAARABIAEgATABMAFgAhACIAKQA4ADgAQwBwAAMBbgGmAQ==",
          "dtype": "i2"
         },
         "xaxis": "x",
         "y": [
          "amapiano",
          "afro adura",
          "lo-fi hip hop",
          "country",
          "edm",
          "reggaeton",
          "egyptian pop",
          "lo-fi beats",
          "traditional music",
          "rap",
          "new age",
          "soft pop",
          "christian",
          "gospel",
          "uk drill",
          "african gospel",
          "lo-fi",
          "afrobeats",
          "worship",
          "Unknown"
         ],
         "yaxis": "y"
        }
       ],
       "layout": {
        "barmode": "relative",
        "coloraxis": {
         "colorbar": {
          "title": {
           "text": "color"
          }
         },
         "colorscale": [
          [
           0,
           "#440154"
          ],
          [
           0.1111111111111111,
           "#482878"
          ],
          [
           0.2222222222222222,
           "#3e4989"
          ],
          [
           0.3333333333333333,
           "#31688e"
          ],
          [
           0.4444444444444444,
           "#26828e"
          ],
          [
           0.5555555555555556,
           "#1f9e89"
          ],
          [
           0.6666666666666666,
           "#35b779"
          ],
          [
           0.7777777777777778,
           "#6ece58"
          ],
          [
           0.8888888888888888,
           "#b5de2b"
          ],
          [
           1,
           "#fde725"
          ]
         ]
        },
        "height": 600,
        "legend": {
         "tracegroupgap": 0
        },
        "showlegend": false,
        "template": {
         "data": {
          "bar": [
           {
            "error_x": {
             "color": "#2a3f5f"
            },
            "error_y": {
             "color": "#2a3f5f"
            },
            "marker": {
             "line": {
              "color": "#E5ECF6",
              "width": 0.5
             },
             "pattern": {
              "fillmode": "overlay",
              "size": 10,
              "solidity": 0.2
             }
            },
            "type": "bar"
           }
          ],
          "barpolar": [
           {
            "marker": {
             "line": {
              "color": "#E5ECF6",
              "width": 0.5
             },
             "pattern": {
              "fillmode": "overlay",
              "size": 10,
              "solidity": 0.2
             }
            },
            "type": "barpolar"
           }
          ],
          "carpet": [
           {
            "aaxis": {
             "endlinecolor": "#2a3f5f",
             "gridcolor": "white",
             "linecolor": "white",
             "minorgridcolor": "white",
             "startlinecolor": "#2a3f5f"
            },
            "baxis": {
             "endlinecolor": "#2a3f5f",
             "gridcolor": "white",
             "linecolor": "white",
             "minorgridcolor": "white",
             "startlinecolor": "#2a3f5f"
            },
            "type": "carpet"
           }
          ],
          "choropleth": [
           {
            "colorbar": {
             "outlinewidth": 0,
             "ticks": ""
            },
            "type": "choropleth"
           }
          ],
          "contour": [
           {
            "colorbar": {
             "outlinewidth": 0,
             "ticks": ""
            },
            "colorscale": [
             [
              0,
              "#0d0887"
             ],
             [
              0.1111111111111111,
              "#46039f"
             ],
             [
              0.2222222222222222,
              "#7201a8"
             ],
             [
              0.3333333333333333,
              "#9c179e"
             ],
             [
              0.4444444444444444,
              "#bd3786"
             ],
             [
              0.5555555555555556,
              "#d8576b"
             ],
             [
              0.6666666666666666,
              "#ed7953"
             ],
             [
              0.7777777777777778,
              "#fb9f3a"
             ],
             [
              0.8888888888888888,
              "#fdca26"
             ],
             [
              1,
              "#f0f921"
             ]
            ],
            "type": "contour"
           }
          ],
          "contourcarpet": [
           {
            "colorbar": {
             "outlinewidth": 0,
             "ticks": ""
            },
            "type": "contourcarpet"
           }
          ],
          "heatmap": [
           {
            "colorbar": {
             "outlinewidth": 0,
             "ticks": ""
            },
            "colorscale": [
             [
              0,
              "#0d0887"
             ],
             [
              0.1111111111111111,
              "#46039f"
             ],
             [
              0.2222222222222222,
              "#7201a8"
             ],
             [
              0.3333333333333333,
              "#9c179e"
             ],
             [
              0.4444444444444444,
              "#bd3786"
             ],
             [
              0.5555555555555556,
              "#d8576b"
             ],
             [
              0.6666666666666666,
              "#ed7953"
             ],
             [
              0.7777777777777778,
              "#fb9f3a"
             ],
             [
              0.8888888888888888,
              "#fdca26"
             ],
             [
              1,
              "#f0f921"
             ]
            ],
            "type": "heatmap"
           }
          ],
          "histogram": [
           {
            "marker": {
             "pattern": {
              "fillmode": "overlay",
              "size": 10,
              "solidity": 0.2
             }
            },
            "type": "histogram"
           }
          ],
          "histogram2d": [
           {
            "colorbar": {
             "outlinewidth": 0,
             "ticks": ""
            },
            "colorscale": [
             [
              0,
              "#0d0887"
             ],
             [
              0.1111111111111111,
              "#46039f"
             ],
             [
              0.2222222222222222,
              "#7201a8"
             ],
             [
              0.3333333333333333,
              "#9c179e"
             ],
             [
              0.4444444444444444,
              "#bd3786"
             ],
             [
              0.5555555555555556,
              "#d8576b"
             ],
             [
              0.6666666666666666,
              "#ed7953"
             ],
             [
              0.7777777777777778,
              "#fb9f3a"
             ],
             [
              0.8888888888888888,
              "#fdca26"
             ],
             [
              1,
              "#f0f921"
             ]
            ],
            "type": "histogram2d"
           }
          ],
          "histogram2dcontour": [
           {
            "colorbar": {
             "outlinewidth": 0,
             "ticks": ""
            },
            "colorscale": [
             [
              0,
              "#0d0887"
             ],
             [
              0.1111111111111111,
              "#46039f"
             ],
             [
              0.2222222222222222,
              "#7201a8"
             ],
             [
              0.3333333333333333,
              "#9c179e"
             ],
             [
              0.4444444444444444,
              "#bd3786"
             ],
             [
              0.5555555555555556,
              "#d8576b"
             ],
             [
              0.6666666666666666,
              "#ed7953"
             ],
             [
              0.7777777777777778,
              "#fb9f3a"
             ],
             [
              0.8888888888888888,
              "#fdca26"
             ],
             [
              1,
              "#f0f921"
             ]
            ],
            "type": "histogram2dcontour"
           }
          ],
          "mesh3d": [
           {
            "colorbar": {
             "outlinewidth": 0,
             "ticks": ""
            },
            "type": "mesh3d"
           }
          ],
          "parcoords": [
           {
            "line": {
             "colorbar": {
              "outlinewidth": 0,
              "ticks": ""
             }
            },
            "type": "parcoords"
           }
          ],
          "pie": [
           {
            "automargin": true,
            "type": "pie"
           }
          ],
          "scatter": [
           {
            "fillpattern": {
             "fillmode": "overlay",
             "size": 10,
             "solidity": 0.2
            },
            "type": "scatter"
           }
          ],
          "scatter3d": [
           {
            "line": {
             "colorbar": {
              "outlinewidth": 0,
              "ticks": ""
             }
            },
            "marker": {
             "colorbar": {
              "outlinewidth": 0,
              "ticks": ""
             }
            },
            "type": "scatter3d"
           }
          ],
          "scattercarpet": [
           {
            "marker": {
             "colorbar": {
              "outlinewidth": 0,
              "ticks": ""
             }
            },
            "type": "scattercarpet"
           }
          ],
          "scattergeo": [
           {
            "marker": {
             "colorbar": {
              "outlinewidth": 0,
              "ticks": ""
             }
            },
            "type": "scattergeo"
           }
          ],
          "scattergl": [
           {
            "marker": {
             "colorbar": {
              "outlinewidth": 0,
              "ticks": ""
             }
            },
            "type": "scattergl"
           }
          ],
          "scattermap": [
           {
            "marker": {
             "colorbar": {
              "outlinewidth": 0,
              "ticks": ""
             }
            },
            "type": "scattermap"
           }
          ],
          "scattermapbox": [
           {
            "marker": {
             "colorbar": {
              "outlinewidth": 0,
              "ticks": ""
             }
            },
            "type": "scattermapbox"
           }
          ],
          "scatterpolar": [
           {
            "marker": {
             "colorbar": {
              "outlinewidth": 0,
              "ticks": ""
             }
            },
            "type": "scatterpolar"
           }
          ],
          "scatterpolargl": [
           {
            "marker": {
             "colorbar": {
              "outlinewidth": 0,
              "ticks": ""
             }
            },
            "type": "scatterpolargl"
           }
          ],
          "scatterternary": [
           {
            "marker": {
             "colorbar": {
              "outlinewidth": 0,
              "ticks": ""
             }
            },
            "type": "scatterternary"
           }
          ],
          "surface": [
           {
            "colorbar": {
             "outlinewidth": 0,
             "ticks": ""
            },
            "colorscale": [
             [
              0,
              "#0d0887"
             ],
             [
              0.1111111111111111,
              "#46039f"
             ],
             [
              0.2222222222222222,
              "#7201a8"
             ],
             [
              0.3333333333333333,
              "#9c179e"
             ],
             [
              0.4444444444444444,
              "#bd3786"
             ],
             [
              0.5555555555555556,
              "#d8576b"
             ],
             [
              0.6666666666666666,
              "#ed7953"
             ],
             [
              0.7777777777777778,
              "#fb9f3a"
             ],
             [
              0.8888888888888888,
              "#fdca26"
             ],
             [
              1,
              "#f0f921"
             ]
            ],
            "type": "surface"
           }
          ],
          "table": [
           {
            "cells": {
             "fill": {
              "color": "#EBF0F8"
             },
             "line": {
              "color": "white"
             }
            },
            "header": {
             "fill": {
              "color": "#C8D4E3"
             },
             "line": {
              "color": "white"
             }
            },
            "type": "table"
           }
          ]
         },
         "layout": {
          "annotationdefaults": {
           "arrowcolor": "#2a3f5f",
           "arrowhead": 0,
           "arrowwidth": 1
          },
          "autotypenumbers": "strict",
          "coloraxis": {
           "colorbar": {
            "outlinewidth": 0,
            "ticks": ""
           }
          },
          "colorscale": {
           "diverging": [
            [
             0,
             "#8e0152"
            ],
            [
             0.1,
             "#c51b7d"
            ],
            [
             0.2,
             "#de77ae"
            ],
            [
             0.3,
             "#f1b6da"
            ],
            [
             0.4,
             "#fde0ef"
            ],
            [
             0.5,
             "#f7f7f7"
            ],
            [
             0.6,
             "#e6f5d0"
            ],
            [
             0.7,
             "#b8e186"
            ],
            [
             0.8,
             "#7fbc41"
            ],
            [
             0.9,
             "#4d9221"
            ],
            [
             1,
             "#276419"
            ]
           ],
           "sequential": [
            [
             0,
             "#0d0887"
            ],
            [
             0.1111111111111111,
             "#46039f"
            ],
            [
             0.2222222222222222,
             "#7201a8"
            ],
            [
             0.3333333333333333,
             "#9c179e"
            ],
            [
             0.4444444444444444,
             "#bd3786"
            ],
            [
             0.5555555555555556,
             "#d8576b"
            ],
            [
             0.6666666666666666,
             "#ed7953"
            ],
            [
             0.7777777777777778,
             "#fb9f3a"
            ],
            [
             0.8888888888888888,
             "#fdca26"
            ],
            [
             1,
             "#f0f921"
            ]
           ],
           "sequentialminus": [
            [
             0,
             "#0d0887"
            ],
            [
             0.1111111111111111,
             "#46039f"
            ],
            [
             0.2222222222222222,
             "#7201a8"
            ],
            [
             0.3333333333333333,
             "#9c179e"
            ],
            [
             0.4444444444444444,
             "#bd3786"
            ],
            [
             0.5555555555555556,
             "#d8576b"
            ],
            [
             0.6666666666666666,
             "#ed7953"
            ],
            [
             0.7777777777777778,
             "#fb9f3a"
            ],
            [
             0.8888888888888888,
             "#fdca26"
            ],
            [
             1,
             "#f0f921"
            ]
           ]
          },
          "colorway": [
           "#636efa",
           "#EF553B",
           "#00cc96",
           "#ab63fa",
           "#FFA15A",
           "#19d3f3",
           "#FF6692",
           "#B6E880",
           "#FF97FF",
           "#FECB52"
          ],
          "font": {
           "color": "#2a3f5f"
          },
          "geo": {
           "bgcolor": "white",
           "lakecolor": "white",
           "landcolor": "#E5ECF6",
           "showlakes": true,
           "showland": true,
           "subunitcolor": "white"
          },
          "hoverlabel": {
           "align": "left"
          },
          "hovermode": "closest",
          "mapbox": {
           "style": "light"
          },
          "paper_bgcolor": "white",
          "plot_bgcolor": "#E5ECF6",
          "polar": {
           "angularaxis": {
            "gridcolor": "white",
            "linecolor": "white",
            "ticks": ""
           },
           "bgcolor": "#E5ECF6",
           "radialaxis": {
            "gridcolor": "white",
            "linecolor": "white",
            "ticks": ""
           }
          },
          "scene": {
           "xaxis": {
            "backgroundcolor": "#E5ECF6",
            "gridcolor": "white",
            "gridwidth": 2,
            "linecolor": "white",
            "showbackground": true,
            "ticks": "",
            "zerolinecolor": "white"
           },
           "yaxis": {
            "backgroundcolor": "#E5ECF6",
            "gridcolor": "white",
            "gridwidth": 2,
            "linecolor": "white",
            "showbackground": true,
            "ticks": "",
            "zerolinecolor": "white"
           },
           "zaxis": {
            "backgroundcolor": "#E5ECF6",
            "gridcolor": "white",
            "gridwidth": 2,
            "linecolor": "white",
            "showbackground": true,
            "ticks": "",
            "zerolinecolor": "white"
           }
          },
          "shapedefaults": {
           "line": {
            "color": "#2a3f5f"
           }
          },
          "ternary": {
           "aaxis": {
            "gridcolor": "white",
            "linecolor": "white",
            "ticks": ""
           },
           "baxis": {
            "gridcolor": "white",
            "linecolor": "white",
            "ticks": ""
           },
           "bgcolor": "#E5ECF6",
           "caxis": {
            "gridcolor": "white",
            "linecolor": "white",
            "ticks": ""
           }
          },
          "title": {
           "x": 0.05
          },
          "xaxis": {
           "automargin": true,
           "gridcolor": "white",
           "linecolor": "white",
           "ticks": "",
           "title": {
            "standoff": 15
           },
           "zerolinecolor": "white",
           "zerolinewidth": 2
          },
          "yaxis": {
           "automargin": true,
           "gridcolor": "white",
           "linecolor": "white",
           "ticks": "",
           "title": {
            "standoff": 15
           },
           "zerolinecolor": "white",
           "zerolinewidth": 2
          }
         }
        },
        "title": {
         "text": "Distribution of Genres in Training Dataset (After Filtering)"
        },
        "xaxis": {
         "anchor": "y",
         "domain": [
          0,
          1
         ],
         "title": {
          "text": "Number of Tracks"
         }
        },
        "yaxis": {
         "anchor": "x",
         "domain": [
          0,
          1
         ],
         "title": {
          "text": "Genre"
         }
        }
       }
      }
     },
     "metadata": {},
     "output_type": "display_data"
    },
    {
     "name": "stdout",
     "output_type": "stream",
     "text": [
      "\n",
      "Class Balance Analysis:\n",
      "  Most common genre:  Unknown (422 tracks)\n",
      "  Least common genre: amapiano (11 tracks)\n",
      "  Imbalance ratio:    38.36:1\n",
      "  Mean tracks/genre:  80.6\n",
      "  Median tracks/genre: 27.5\n",
      "\n",
      "\u26a0 Warning: Dataset is imbalanced (ratio > 10:1)\n",
      "  The model may be biased toward majority classes.\n"
     ]
    }
   ],
   "source": [
    "# Visualization 1: Genre Distribution\n",
    "print(f\"{'='*70}\")\n",
    "print(f\"VISUALIZATION 1: GENRE DISTRIBUTION\")\n",
    "print(f\"{'='*70}\\n\")\n",
    "\n",
    "# Prepare data for visualization\n",
    "genre_dist = df_tracks_filtered['genre'].value_counts().sort_values(ascending=True)\n",
    "\n",
    "# Create horizontal bar chart for better label readability\n",
    "fig_genre_dist = px.bar(\n",
    "    x=genre_dist.values,\n",
    "    y=genre_dist.index,\n",
    "    orientation='h',\n",
    "    labels={'x': 'Number of Tracks', 'y': 'Genre'},\n",
    "    title='Distribution of Genres in Training Dataset (After Filtering)',\n",
    "    color=genre_dist.values,\n",
    "    color_continuous_scale='Viridis',\n",
    "    text=genre_dist.values\n",
    ")\n",
    "\n",
    "fig_genre_dist.update_traces(texttemplate='%{text}', textposition='outside')\n",
    "fig_genre_dist.update_layout(\n",
    "    height=600,\n",
    "    showlegend=False,\n",
    "    xaxis_title='Number of Tracks',\n",
    "    yaxis_title='Genre'\n",
    ")\n",
    "\n",
    "fig_genre_dist.show()\n",
    "\n",
    "# Calculate imbalance metrics\n",
    "max_count = genre_dist.max()\n",
    "min_count = genre_dist.min()\n",
    "imbalance_ratio = max_count / min_count\n",
    "\n",
    "print(f\"\\nClass Balance Analysis:\")\n",
    "print(f\"  Most common genre:  {genre_dist.index[-1]} ({max_count} tracks)\")\n",
    "print(f\"  Least common genre: {genre_dist.index[0]} ({min_count} tracks)\")\n",
    "print(f\"  Imbalance ratio:    {imbalance_ratio:.2f}:1\")\n",
    "print(f\"  Mean tracks/genre:  {genre_dist.mean():.1f}\")\n",
    "print(f\"  Median tracks/genre: {genre_dist.median():.1f}\")\n",
    "\n",
    "if imbalance_ratio > 10:\n",
    "    print(f\"\\n\u26a0 Warning: Dataset is imbalanced (ratio > 10:1)\")\n",
    "    print(f\"  The model may be biased toward majority classes.\")\n",
    "else:\n",
    "    print(f\"\\n\u2713 Dataset has moderate imbalance (ratio < 10:1)\")"
   ]
  },
  {
   "cell_type": "markdown",
   "id": "1fc85d9a",
   "metadata": {},
   "source": [
    "**Interpretation**: This visualization reveals the class imbalance in our dataset. \"Unknown\" and \"worship\" dominate with 422 and 366 tracks respectively, while genres like \"afro adura\" and \"amapiano\" have only 11 tracks each. This imbalance means:\n",
    "\n",
    "- The model will see many more examples of majority classes during training\n",
    "- Accuracy on rare genres may be lower due to limited training data\n",
    "- We should pay attention to **per-class metrics** (precision, recall, F1) rather than just overall accuracy\n",
    "- Class imbalance is common in real-world datasets and must be acknowledged\n",
    "\n",
    "#### 4.6.2 Feature Correlation Analysis\n",
    "\n",
    "Next, we'll examine correlations between our numerical audio features. High correlations might indicate:\n",
    "- **Redundant features** that provide similar information\n",
    "- **Feature engineering opportunities** for combining correlated features\n",
    "- **Multicollinearity concerns** for linear models like Logistic Regression"
   ]
  },
  {
   "cell_type": "code",
   "execution_count": 18,
   "id": "c293d85b",
   "metadata": {},
   "outputs": [
    {
     "name": "stdout",
     "output_type": "stream",
     "text": [
      "\n",
      "======================================================================\n",
      "VISUALIZATION 2: FEATURE CORRELATION MATRIX\n",
      "======================================================================\n",
      "\n"
     ]
    },
    {
     "data": {
      "application/vnd.plotly.v1+json": {
       "config": {
        "plotlyServerURL": "https://plot.ly"
       },
       "data": [
        {
         "colorbar": {
          "title": {
           "text": "Correlation"
          }
         },
         "colorscale": [
          [
           0,
           "rgb(103,0,31)"
          ],
          [
           0.1,
           "rgb(178,24,43)"
          ],
          [
           0.2,
           "rgb(214,96,77)"
          ],
          [
           0.3,
           "rgb(244,165,130)"
          ],
          [
           0.4,
           "rgb(253,219,199)"
          ],
          [
           0.5,
           "rgb(247,247,247)"
          ],
          [
           0.6,
           "rgb(209,229,240)"
          ],
          [
           0.7,
           "rgb(146,197,222)"
          ],
          [
           0.8,
           "rgb(67,147,195)"
          ],
          [
           0.9,
           "rgb(33,102,172)"
          ],
          [
           1,
           "rgb(5,48,97)"
          ]
         ],
         "text": {
          "bdata": "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",
          "dtype": "f8",
          "shape": "14, 14"
         },
         "textfont": {
          "size": 8
         },
         "texttemplate": "%{text}",
         "type": "heatmap",
         "x": [
          "duration",
          "tempo",
          "spec_centroid_mean",
          "spec_centroid_std",
          "spec_bandwidth_mean",
          "spec_bandwidth_std",
          "spec_rolloff_mean",
          "spec_rolloff_std",
          "zero_crossing_mean",
          "zero_crossing_std",
          "rms_mean",
          "rms_std",
          "beat_count",
          "beat_tempo"
         ],
         "y": [
          "duration",
          "tempo",
          "spec_centroid_mean",
          "spec_centroid_std",
          "spec_bandwidth_mean",
          "spec_bandwidth_std",
          "spec_rolloff_mean",
          "spec_rolloff_std",
          "zero_crossing_mean",
          "zero_crossing_std",
          "rms_mean",
          "rms_std",
          "beat_count",
          "beat_tempo"
         ],
         "z": {
          "bdata": "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",
          "dtype": "f8",
          "shape": "14, 14"
         },
         "zmid": 0
        }
       ],
       "layout": {
        "height": 800,
        "template": {
         "data": {
          "bar": [
           {
            "error_x": {
             "color": "#2a3f5f"
            },
            "error_y": {
             "color": "#2a3f5f"
            },
            "marker": {
             "line": {
              "color": "#E5ECF6",
              "width": 0.5
             },
             "pattern": {
              "fillmode": "overlay",
              "size": 10,
              "solidity": 0.2
             }
            },
            "type": "bar"
           }
          ],
          "barpolar": [
           {
            "marker": {
             "line": {
              "color": "#E5ECF6",
              "width": 0.5
             },
             "pattern": {
              "fillmode": "overlay",
              "size": 10,
              "solidity": 0.2
             }
            },
            "type": "barpolar"
           }
          ],
          "carpet": [
           {
            "aaxis": {
             "endlinecolor": "#2a3f5f",
             "gridcolor": "white",
             "linecolor": "white",
             "minorgridcolor": "white",
             "startlinecolor": "#2a3f5f"
            },
            "baxis": {
             "endlinecolor": "#2a3f5f",
             "gridcolor": "white",
             "linecolor": "white",
             "minorgridcolor": "white",
             "startlinecolor": "#2a3f5f"
            },
            "type": "carpet"
           }
          ],
          "choropleth": [
           {
            "colorbar": {
             "outlinewidth": 0,
             "ticks": ""
            },
            "type": "choropleth"
           }
          ],
          "contour": [
           {
            "colorbar": {
             "outlinewidth": 0,
             "ticks": ""
            },
            "colorscale": [
             [
              0,
              "#0d0887"
             ],
             [
              0.1111111111111111,
              "#46039f"
             ],
             [
              0.2222222222222222,
              "#7201a8"
             ],
             [
              0.3333333333333333,
              "#9c179e"
             ],
             [
              0.4444444444444444,
              "#bd3786"
             ],
             [
              0.5555555555555556,
              "#d8576b"
             ],
             [
              0.6666666666666666,
              "#ed7953"
             ],
             [
              0.7777777777777778,
              "#fb9f3a"
             ],
             [
              0.8888888888888888,
              "#fdca26"
             ],
             [
              1,
              "#f0f921"
             ]
            ],
            "type": "contour"
           }
          ],
          "contourcarpet": [
           {
            "colorbar": {
             "outlinewidth": 0,
             "ticks": ""
            },
            "type": "contourcarpet"
           }
          ],
          "heatmap": [
           {
            "colorbar": {
             "outlinewidth": 0,
             "ticks": ""
            },
            "colorscale": [
             [
              0,
              "#0d0887"
             ],
             [
              0.1111111111111111,
              "#46039f"
             ],
             [
              0.2222222222222222,
              "#7201a8"
             ],
             [
              0.3333333333333333,
              "#9c179e"
             ],
             [
              0.4444444444444444,
              "#bd3786"
             ],
             [
              0.5555555555555556,
              "#d8576b"
             ],
             [
              0.6666666666666666,
              "#ed7953"
             ],
             [
              0.7777777777777778,
              "#fb9f3a"
             ],
             [
              0.8888888888888888,
              "#fdca26"
             ],
             [
              1,
              "#f0f921"
             ]
            ],
            "type": "heatmap"
           }
          ],
          "histogram": [
           {
            "marker": {
             "pattern": {
              "fillmode": "overlay",
              "size": 10,
              "solidity": 0.2
             }
            },
            "type": "histogram"
           }
          ],
          "histogram2d": [
           {
            "colorbar": {
             "outlinewidth": 0,
             "ticks": ""
            },
            "colorscale": [
             [
              0,
              "#0d0887"
             ],
             [
              0.1111111111111111,
              "#46039f"
             ],
             [
              0.2222222222222222,
              "#7201a8"
             ],
             [
              0.3333333333333333,
              "#9c179e"
             ],
             [
              0.4444444444444444,
              "#bd3786"
             ],
             [
              0.5555555555555556,
              "#d8576b"
             ],
             [
              0.6666666666666666,
              "#ed7953"
             ],
             [
              0.7777777777777778,
              "#fb9f3a"
             ],
             [
              0.8888888888888888,
              "#fdca26"
             ],
             [
              1,
              "#f0f921"
             ]
            ],
            "type": "histogram2d"
           }
          ],
          "histogram2dcontour": [
           {
            "colorbar": {
             "outlinewidth": 0,
             "ticks": ""
            },
            "colorscale": [
             [
              0,
              "#0d0887"
             ],
             [
              0.1111111111111111,
              "#46039f"
             ],
             [
              0.2222222222222222,
              "#7201a8"
             ],
             [
              0.3333333333333333,
              "#9c179e"
             ],
             [
              0.4444444444444444,
              "#bd3786"
             ],
             [
              0.5555555555555556,
              "#d8576b"
             ],
             [
              0.6666666666666666,
              "#ed7953"
             ],
             [
              0.7777777777777778,
              "#fb9f3a"
             ],
             [
              0.8888888888888888,
              "#fdca26"
             ],
             [
              1,
              "#f0f921"
             ]
            ],
            "type": "histogram2dcontour"
           }
          ],
          "mesh3d": [
           {
            "colorbar": {
             "outlinewidth": 0,
             "ticks": ""
            },
            "type": "mesh3d"
           }
          ],
          "parcoords": [
           {
            "line": {
             "colorbar": {
              "outlinewidth": 0,
              "ticks": ""
             }
            },
            "type": "parcoords"
           }
          ],
          "pie": [
           {
            "automargin": true,
            "type": "pie"
           }
          ],
          "scatter": [
           {
            "fillpattern": {
             "fillmode": "overlay",
             "size": 10,
             "solidity": 0.2
            },
            "type": "scatter"
           }
          ],
          "scatter3d": [
           {
            "line": {
             "colorbar": {
              "outlinewidth": 0,
              "ticks": ""
             }
            },
            "marker": {
             "colorbar": {
              "outlinewidth": 0,
              "ticks": ""
             }
            },
            "type": "scatter3d"
           }
          ],
          "scattercarpet": [
           {
            "marker": {
             "colorbar": {
              "outlinewidth": 0,
              "ticks": ""
             }
            },
            "type": "scattercarpet"
           }
          ],
          "scattergeo": [
           {
            "marker": {
             "colorbar": {
              "outlinewidth": 0,
              "ticks": ""
             }
            },
            "type": "scattergeo"
           }
          ],
          "scattergl": [
           {
            "marker": {
             "colorbar": {
              "outlinewidth": 0,
              "ticks": ""
             }
            },
            "type": "scattergl"
           }
          ],
          "scattermap": [
           {
            "marker": {
             "colorbar": {
              "outlinewidth": 0,
              "ticks": ""
             }
            },
            "type": "scattermap"
           }
          ],
          "scattermapbox": [
           {
            "marker": {
             "colorbar": {
              "outlinewidth": 0,
              "ticks": ""
             }
            },
            "type": "scattermapbox"
           }
          ],
          "scatterpolar": [
           {
            "marker": {
             "colorbar": {
              "outlinewidth": 0,
              "ticks": ""
             }
            },
            "type": "scatterpolar"
           }
          ],
          "scatterpolargl": [
           {
            "marker": {
             "colorbar": {
              "outlinewidth": 0,
              "ticks": ""
             }
            },
            "type": "scatterpolargl"
           }
          ],
          "scatterternary": [
           {
            "marker": {
             "colorbar": {
              "outlinewidth": 0,
              "ticks": ""
             }
            },
            "type": "scatterternary"
           }
          ],
          "surface": [
           {
            "colorbar": {
             "outlinewidth": 0,
             "ticks": ""
            },
            "colorscale": [
             [
              0,
              "#0d0887"
             ],
             [
              0.1111111111111111,
              "#46039f"
             ],
             [
              0.2222222222222222,
              "#7201a8"
             ],
             [
              0.3333333333333333,
              "#9c179e"
             ],
             [
              0.4444444444444444,
              "#bd3786"
             ],
             [
              0.5555555555555556,
              "#d8576b"
             ],
             [
              0.6666666666666666,
              "#ed7953"
             ],
             [
              0.7777777777777778,
              "#fb9f3a"
             ],
             [
              0.8888888888888888,
              "#fdca26"
             ],
             [
              1,
              "#f0f921"
             ]
            ],
            "type": "surface"
           }
          ],
          "table": [
           {
            "cells": {
             "fill": {
              "color": "#EBF0F8"
             },
             "line": {
              "color": "white"
             }
            },
            "header": {
             "fill": {
              "color": "#C8D4E3"
             },
             "line": {
              "color": "white"
             }
            },
            "type": "table"
           }
          ]
         },
         "layout": {
          "annotationdefaults": {
           "arrowcolor": "#2a3f5f",
           "arrowhead": 0,
           "arrowwidth": 1
          },
          "autotypenumbers": "strict",
          "coloraxis": {
           "colorbar": {
            "outlinewidth": 0,
            "ticks": ""
           }
          },
          "colorscale": {
           "diverging": [
            [
             0,
             "#8e0152"
            ],
            [
             0.1,
             "#c51b7d"
            ],
            [
             0.2,
             "#de77ae"
            ],
            [
             0.3,
             "#f1b6da"
            ],
            [
             0.4,
             "#fde0ef"
            ],
            [
             0.5,
             "#f7f7f7"
            ],
            [
             0.6,
             "#e6f5d0"
            ],
            [
             0.7,
             "#b8e186"
            ],
            [
             0.8,
             "#7fbc41"
            ],
            [
             0.9,
             "#4d9221"
            ],
            [
             1,
             "#276419"
            ]
           ],
           "sequential": [
            [
             0,
             "#0d0887"
            ],
            [
             0.1111111111111111,
             "#46039f"
            ],
            [
             0.2222222222222222,
             "#7201a8"
            ],
            [
             0.3333333333333333,
             "#9c179e"
            ],
            [
             0.4444444444444444,
             "#bd3786"
            ],
            [
             0.5555555555555556,
             "#d8576b"
            ],
            [
             0.6666666666666666,
             "#ed7953"
            ],
            [
             0.7777777777777778,
             "#fb9f3a"
            ],
            [
             0.8888888888888888,
             "#fdca26"
            ],
            [
             1,
             "#f0f921"
            ]
           ],
           "sequentialminus": [
            [
             0,
             "#0d0887"
            ],
            [
             0.1111111111111111,
             "#46039f"
            ],
            [
             0.2222222222222222,
             "#7201a8"
            ],
            [
             0.3333333333333333,
             "#9c179e"
            ],
            [
             0.4444444444444444,
             "#bd3786"
            ],
            [
             0.5555555555555556,
             "#d8576b"
            ],
            [
             0.6666666666666666,
             "#ed7953"
            ],
            [
             0.7777777777777778,
             "#fb9f3a"
            ],
            [
             0.8888888888888888,
             "#fdca26"
            ],
            [
             1,
             "#f0f921"
            ]
           ]
          },
          "colorway": [
           "#636efa",
           "#EF553B",
           "#00cc96",
           "#ab63fa",
           "#FFA15A",
           "#19d3f3",
           "#FF6692",
           "#B6E880",
           "#FF97FF",
           "#FECB52"
          ],
          "font": {
           "color": "#2a3f5f"
          },
          "geo": {
           "bgcolor": "white",
           "lakecolor": "white",
           "landcolor": "#E5ECF6",
           "showlakes": true,
           "showland": true,
           "subunitcolor": "white"
          },
          "hoverlabel": {
           "align": "left"
          },
          "hovermode": "closest",
          "mapbox": {
           "style": "light"
          },
          "paper_bgcolor": "white",
          "plot_bgcolor": "#E5ECF6",
          "polar": {
           "angularaxis": {
            "gridcolor": "white",
            "linecolor": "white",
            "ticks": ""
           },
           "bgcolor": "#E5ECF6",
           "radialaxis": {
            "gridcolor": "white",
            "linecolor": "white",
            "ticks": ""
           }
          },
          "scene": {
           "xaxis": {
            "backgroundcolor": "#E5ECF6",
            "gridcolor": "white",
            "gridwidth": 2,
            "linecolor": "white",
            "showbackground": true,
            "ticks": "",
            "zerolinecolor": "white"
           },
           "yaxis": {
            "backgroundcolor": "#E5ECF6",
            "gridcolor": "white",
            "gridwidth": 2,
            "linecolor": "white",
            "showbackground": true,
            "ticks": "",
            "zerolinecolor": "white"
           },
           "zaxis": {
            "backgroundcolor": "#E5ECF6",
            "gridcolor": "white",
            "gridwidth": 2,
            "linecolor": "white",
            "showbackground": true,
            "ticks": "",
            "zerolinecolor": "white"
           }
          },
          "shapedefaults": {
           "line": {
            "color": "#2a3f5f"
           }
          },
          "ternary": {
           "aaxis": {
            "gridcolor": "white",
            "linecolor": "white",
            "ticks": ""
           },
           "baxis": {
            "gridcolor": "white",
            "linecolor": "white",
            "ticks": ""
           },
           "bgcolor": "#E5ECF6",
           "caxis": {
            "gridcolor": "white",
            "linecolor": "white",
            "ticks": ""
           }
          },
          "title": {
           "x": 0.05
          },
          "xaxis": {
           "automargin": true,
           "gridcolor": "white",
           "linecolor": "white",
           "ticks": "",
           "title": {
            "standoff": 15
           },
           "zerolinecolor": "white",
           "zerolinewidth": 2
          },
          "yaxis": {
           "automargin": true,
           "gridcolor": "white",
           "linecolor": "white",
           "ticks": "",
           "title": {
            "standoff": 15
           },
           "zerolinecolor": "white",
           "zerolinewidth": 2
          }
         }
        },
        "title": {
         "text": "Correlation Matrix of Numerical Audio Features"
        },
        "width": 900,
        "xaxis": {
         "tickangle": -45
        },
        "yaxis": {
         "tickangle": 0
        }
       }
      }
     },
     "metadata": {},
     "output_type": "display_data"
    },
    {
     "name": "stdout",
     "output_type": "stream",
     "text": [
      "\n",
      "Highly Correlated Feature Pairs (|r| > 0.7):\n",
      "  tempo                     \u2194 beat_count               : r = +0.879\n",
      "  tempo                     \u2194 beat_tempo               : r = +1.000\n",
      "  spec_centroid_mean        \u2194 spec_bandwidth_mean      : r = +0.944\n",
      "  spec_centroid_mean        \u2194 spec_rolloff_mean        : r = +0.985\n",
      "  spec_centroid_mean        \u2194 zero_crossing_mean       : r = +0.897\n",
      "  spec_centroid_std         \u2194 spec_bandwidth_std       : r = +0.743\n",
      "  spec_centroid_std         \u2194 spec_rolloff_std         : r = +0.916\n",
      "  spec_centroid_std         \u2194 zero_crossing_std        : r = +0.877\n",
      "  spec_bandwidth_mean       \u2194 spec_rolloff_mean        : r = +0.968\n",
      "  spec_bandwidth_mean       \u2194 zero_crossing_mean       : r = +0.742\n",
      "  spec_bandwidth_std        \u2194 spec_rolloff_std         : r = +0.874\n",
      "  spec_rolloff_mean         \u2194 zero_crossing_mean       : r = +0.833\n",
      "  beat_count                \u2194 beat_tempo               : r = +0.879\n",
      "\n",
      "Feature Variance Analysis:\n",
      "  Lowest variance features:\n",
      "    zero_crossing_std        : \u03c3\u00b2 = 0.000451\n",
      "    zero_crossing_mean       : \u03c3\u00b2 = 0.000947\n",
      "    rms_std                  : \u03c3\u00b2 = 0.001047\n"
     ]
    }
   ],
   "source": [
    "# Visualization 2: Feature Correlation Matrix\n",
    "print(f\"\\n{'='*70}\")\n",
    "print(f\"VISUALIZATION 2: FEATURE CORRELATION MATRIX\")\n",
    "print(f\"{'='*70}\\n\")\n",
    "\n",
    "# Use the simple numerical features for clearer interpretation\n",
    "# (MFCC and other array features would create a 348\u00d7348 matrix - too large to visualize)\n",
    "features_for_corr = df_tracks_filtered[numerical_feature_cols].fillna(0)\n",
    "\n",
    "# Compute correlation matrix\n",
    "corr_matrix = features_for_corr.corr()\n",
    "\n",
    "# Create heatmap using plotly\n",
    "fig_corr = go.Figure(data=go.Heatmap(\n",
    "    z=corr_matrix.values,\n",
    "    x=corr_matrix.columns,\n",
    "    y=corr_matrix.columns,\n",
    "    colorscale='RdBu',\n",
    "    zmid=0,\n",
    "    text=np.round(corr_matrix.values, 2),\n",
    "    texttemplate='%{text}',\n",
    "    textfont={\"size\": 8},\n",
    "    colorbar=dict(title=\"Correlation\")\n",
    "))\n",
    "\n",
    "fig_corr.update_layout(\n",
    "    title='Correlation Matrix of Numerical Audio Features',\n",
    "    width=900,\n",
    "    height=800,\n",
    "    xaxis=dict(tickangle=-45),\n",
    "    yaxis=dict(tickangle=0)\n",
    ")\n",
    "\n",
    "fig_corr.show()\n",
    "\n",
    "# Identify highly correlated pairs (|r| > 0.7, excluding diagonal)\n",
    "print(\"\\nHighly Correlated Feature Pairs (|r| > 0.7):\")\n",
    "high_corr_pairs = []\n",
    "for i in range(len(corr_matrix.columns)):\n",
    "    for j in range(i+1, len(corr_matrix.columns)):\n",
    "        corr_value = corr_matrix.iloc[i, j]\n",
    "        if abs(corr_value) > 0.7:\n",
    "            feat1 = corr_matrix.columns[i]\n",
    "            feat2 = corr_matrix.columns[j]\n",
    "            high_corr_pairs.append((feat1, feat2, corr_value))\n",
    "            print(f\"  {feat1:25s} \u2194 {feat2:25s}: r = {corr_value:+.3f}\")\n",
    "\n",
    "if not high_corr_pairs:\n",
    "    print(\"  No pairs with |r| > 0.7 found (features are relatively independent)\")\n",
    "\n",
    "# Identify features with low variance (might not be informative)\n",
    "print(f\"\\nFeature Variance Analysis:\")\n",
    "feature_variances = features_for_corr.var().sort_values()\n",
    "print(f\"  Lowest variance features:\")\n",
    "for feat, var in feature_variances.head(3).items():\n",
    "    print(f\"    {feat:25s}: \u03c3\u00b2 = {var:.6f}\")"
   ]
  },
  {
   "cell_type": "markdown",
   "id": "3b201028",
   "metadata": {},
   "source": [
    "**Interpretation**: The correlation matrix shows how audio features relate to each other:\n",
    "\n",
    "- **Red cells (positive correlation)**: Features that increase together\n",
    "  - Example: `spec_rolloff_mean` and `spec_centroid_mean` (both measure high-frequency content)\n",
    "  - Example: `tempo` and `beat_tempo` (both measure rhythm)\n",
    "\n",
    "- **Blue cells (negative correlation)**: Features that move in opposite directions\n",
    "  - Less common in audio features, but indicates inverse relationships\n",
    "\n",
    "- **White cells (no correlation)**: Features that vary independently\n",
    "  - Most desirable for machine learning - each feature provides unique information\n",
    "\n",
    "**Key Findings**:\n",
    "- Spectral features (`spec_centroid`, `spec_bandwidth`, `spec_rolloff`) often correlate - they all describe frequency distribution\n",
    "- Tempo-related features naturally correlate strongly\n",
    "- RMS energy features are relatively independent - they capture loudness/dynamics\n",
    "- Duration shows little correlation with other features - track length is independent of sonic characteristics\n",
    "\n",
    "**Implications for Modeling**:\n",
    "- High correlations aren't necessarily bad - models can handle some redundancy\n",
    "- Tree-based models (Random Forest, Gradient Boosting) handle correlated features well\n",
    "- Logistic Regression might be affected by multicollinearity if correlations are very strong\n",
    "\n",
    "#### 4.6.3 Feature Distributions by Genre\n",
    "\n",
    "Let's examine how key features vary across genres to understand if they're discriminative."
   ]
  },
  {
   "cell_type": "code",
   "execution_count": 19,
   "id": "4b09395d",
   "metadata": {},
   "outputs": [
    {
     "name": "stdout",
     "output_type": "stream",
     "text": [
      "\n",
      "======================================================================\n",
      "VISUALIZATION 3: FEATURE DISTRIBUTIONS BY GENRE\n",
      "======================================================================\n",
      "\n"
     ]
    },
    {
     "data": {
      "application/vnd.plotly.v1+json": {
       "config": {
        "plotlyServerURL": "https://plot.ly"
       },
       "data": [
        {
         "name": "Unknown",
         "showlegend": true,
         "type": "box",
         "xaxis": "x",
         "y": {
          "bdata": "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",
          "dtype": "f8"
         },
         "yaxis": "y"
        },
        {
         "name": "worship",
         "showlegend": true,
         "type": "box",
         "xaxis": "x",
         "y": {
          "bdata": "sRM7sZPYWEAAAAAA+C9kQAAAAABgJmBA2FBeQ/n/YEAuuuiiC11dQAAAAAAA7VdAAAAAAMDxYUAAAAAAAMNeQHh4eHj4/2JAAAAAAEASV0AAAAAAAHVSQAAAAAAA11lAAAAAAADtV0DYUF5D+f9gQLETO7GT2FhAAAAAAICIVUDYUF5D+f9gQLETO7GT2FhAAAAAAICIZUAAAAAAQBJXQAAAAAD4L2RAAAAAAGAmYEDYUF5D+f9gQAAAAACAiFVAsRM7sZPYWEDYUF5D+f9gQAAAAABgJmBAeHh4ePj/YkAAAAAAwPFhQAAAAAAAw15A2FBeQ/n/YEB4eHh4+P9iQHZiJ3ZikFBA2FBeQ/n/YEAAAAAAwPFhQAAAAADA8WFAYbmnEZZGVkAAAAAAANdZQAAAAAD4L2RAAAAAAMDxUUCc3vSmNxZcQAAAAAAA11lAAAAAAMDxYUAAAAAAwPFhQAAAAACAiGVAAAAAAAB1UkAAAAAAAHVSQHh4eHj4/2JAAAAAAGAmYEAAAAAAANdZQAAAAACAiFVAAAAAAMDxUUAAAAAAwPFRQAAAAABAEldAAAAAAMDxUUCc3vSmNxZcQAAAAAAA11lAAAAAAMDxYUAAAAAAwPFhQNhQXkP5/2BAAAAAAPgvZEBhuacRlkZWQNhQXkP5/2BAAAAAAMDxYUAAAAAAwPFhQLETO7GT2FhAAAAAAGAmYEAAAAAAwPFhQNhQXkP5/2BAAAAAAADDXkAAAAAAwPFhQAAAAABgJmBAAAAAAEASZ0B4eHh4+P9SQAAAAADA8WFAAAAAAMDxYUB4eHh4+P9SQNhQXkP5/2BAsRM7sZPYWEDYUF5D+f9gQAAAAAD4L2RAKvJZN5h1UUAAAAAAQBJnQAAAAAAAdVJAAAAAAMDxYUDYUF5D+f9gQAAAAAAAw15AAAAAAMDxYUAAAAAAgIhVQAAAAACAiGVAAAAAAMDxYUAAAAAAwPFhQAAAAAAA11lAAAAAAKDqWkDYUF5D+f9gQAAAAAD4L2RAAAAAAEASZ0AAAAAAwPFhQNhQXkP5/2BAAAAAAMDxYUB4eHh4+P9iQAAAAAAA11lAsRM7sZPYWEAAAAAAwPFRQAAAAADA8WFAAAAAAMDxYUB4eHh4+P9iQHh4eHj4/2JAAAAAAICIVUCc3vSmNxZcQAAAAAD4L2RAAAAAAMDxYUAAAAAAAMNeQNhQXkP5/2BAAAAAAMDxYUCxEzuxk9hYQHh4eHj4/2JAAAAAAGAmYEAAAAAAwPFhQAAAAABgJmBAdNFFF12TU0AAAAAAwPFhQAAAAADA8WFAKvJZN5h1UUAq8lk3mHVRQNhQXkP5/2BAAAAAAGAmYEAAAAAAwPFhQC666KILXV1AAAAAAADDXkAAAAAAwPFhQNhQXkP5/2BA2FBeQ/n/YEDYUF5D+f9gQAAAAAAAw15AAAAAAGAmYEDYUF5D+f9gQNhQXkP5/2BAAAAAAPgvZEDYUF5D+f9gQAAAAABgJmBAAAAAAGAmYEAAAAAAwPFhQAAAAADA8WFA2FBeQ/n/YEAuuuiiC11dQAAAAABgJmBAAAAAAMDxYUAAAAAAAMNOQAAAAAD4L1RAAAAAAADDXkAAAAAAoOpaQAAAAADA8WFAKvJZN5h1UUAAAAAAwPFhQAAAAABAEldAeHh4ePj/YkB2Yid2YpBQQAAAAADA8WFA2FBeQ/n/YEDYUF5D+f9gQHh4eHj4/2JALrroogtdXUCc3vSmNxZcQLETO7GT2FhAAAAAAADDXkAuuuiiC11dQCryWTeYdVFAAAAAAEASV0DYUF5D+f9gQHh4eHj4/2JAYbmnEZZGVkDYUF5D+f9gQAAAAABgJmBAAAAAAMDxYUC1K1G7EoNPQAAAAADA8WFAAAAAAMDxYUAAAAAA+C9UQAAAAABgJmBAAAAAAGAmYEAAAAAAwPFhQNhQXkP5/2BAnN70pjcWXECxEzuxk9hYQAAAAABgJmBAAAAAAMDxYUAAAAAA+C9kQC666KILXV1AsRM7sZPYWEAq8lk3mHVRQJze9KY3FlxAAAAAAGAmYEAAAAAAwPFhQAAAAADA8WFAttZaa63WVEAAAAAAYCZgQNhQXkP5/2BAttZaa63WVEAAAAAA+C9kQAAAAABAEldAAAAAAICIZUAuuuiiC11dQAAAAABgJmBAAAAAAKDqWkAAAAAAYCZgQAAAAAAAdVJAAAAAAMDxYUAAAAAAAMNeQAAAAADA8WFAAAAAAGAmYEAAAAAA+C9kQHh4eHj4/2JAAAAAAMDxYUAAAAAA+C9kQAAAAADA8WFAAAAAAPgvZECc3vSmNxZcQAAAAAAA11lAAAAAAMDxUUAAAAAAANdZQNhQXkP5/2BA2FBeQ/n/YEDYUF5D+f9gQHTRRRddk1NAAAAAAADDXkBhuacRlkZWQAAAAAAA11lAAAAAAADDXkAAAAAAQBJXQAAAAAD4L2RAYbmnEZZGVkAAAAAAYCZgQAAAAADA8WFAAAAAAICIVUAAAAAAAMNeQNhQXkP5/2BAAAAAAGAmYECxEzuxk9hYQAAAAADA8WFAAAAAAMDxYUAAAAAAoOpaQCryWTeYdVFAYbmnEZZGVkAAAAAAwPFhQLETO7GT2FhAAAAAAGAmYEAAAAAAANdZQAAAAAAAdVJAeHh4ePj/YkDYUF5D+f9gQAAAAAAAw15ALrroogtdXUB4eHh4+P9iQGG5pxGWRlZA2FBeQ/n/YEAAAAAAgIhlQAAAAADA8WFAAAAAAICIZUB4eHh4+P9SQAAAAADA8WFAAAAAAMDxYUAAAAAAwPFhQAAAAAAAw15AAAAAAKDqWkAAAAAAANdZQHh4eHj4/2JAAAAAAGAmYEAAAAAAwPFhQAAAAADA8WFAAAAAAPgvVEAAAAAAAMNeQAAAAADA8WFAeHh4ePj/YkAAAAAAAO1XQAAAAAAAw15AAAAAAMDxYUAAAAAAYCZgQJze9KY3FlxAAAAAAPgvZEAAAAAAwPFhQAAAAADA8WFAAAAAAADDXkAAAAAAAO1XQAAAAADA8VFAxB1xR9wLTkAAAAAAAMNeQAAAAADA8VFAeHh4ePj/YkAuuuiiC11dQNhQXkP5/2BAAAAAAAB1UkBhuacRlkZWQAAAAAD4L2RALrroogtdXUB4eHh4+P9iQAAAAAAAw15AAAAAAPgvZEAAAAAAYCZgQNhQXkP5/2BAAAAAAADtV0Aq8lk3mHVRQAAAAAD4L1RA2FBeQ/n/YEDYUF5D+f9gQAAAAADA8WFAAAAAAAB1UkDYUF5D+f9gQAAAAADA8WFAeHh4ePj/YkCc3vSmNxZcQHh4eHj4/2JAeHh4ePj/YkC21lprrdZUQHh4eHj4/2JAAAAAAMDxYUDYUF5D+f9gQAAAAAAA7VdAAAAAAADtV0AAAAAAQBJnQAAAAADA8WFAAAAAAPgvZEDYUF5D+f9gQAAAAAAAdVJAnN70pjcWXEDYUF5D+f9gQAAAAABgJmBAAAAAAICIZUAuuuiiC11dQAAAAAAAw15AAAAAAGAmYECxEzuxk9hYQCryWTeYdVFAeHh4ePj/YkAAAAAAQBJXQAAAAAAA11lAAAAAAMDxYUDYUF5D+f9gQNhQXkP5/2BAAAAAAMDxYUCxEzuxk9hYQC666KILXV1AAAAAAMDxYUAAAAAAwPFRQAAAAAD4L2RAAAAAAGAmYEB4eHh4+P9iQAAAAADA8WFAAAAAAMDxYUAAAAAA+C9kQAAAAADA8WFAnN70pjcWXECc3vSmNxZcQJze9KY3FlxAAAAAAADDXkAAAAAAgIhVQJze9KY3FlxAAAAAAICIZUB4eHh4+P9iQLbWWmut1lRAeHh4ePj/YkAAAAAAQBJXQAAAAABgJmBAeHh4ePj/YkAuuuiiC11dQLETO7GT2GhA",
          "dtype": "f8"
         },
         "yaxis": "y"
        },
        {
         "name": "afrobeats",
         "showlegend": true,
         "type": "box",
         "xaxis": "x",
         "y": {
          "bdata": "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",
          "dtype": "f8"
         },
         "yaxis": "y"
        },
        {
         "name": "lo-fi",
         "showlegend": true,
         "type": "box",
         "xaxis": "x",
         "y": {
          "bdata": "AAAAAMDxYUAAAAAAANdZQAAAAADA8WFAeHh4ePj/UkCc3vSmNxZcQAAAAAAAw15A2FBeQ/n/YECc3vSmNxZcQMQdcUfcC05AAAAAAGAmYEAAAAAAAHVSQNhQXkP5/2BAAAAAAMDxYUAAAAAAYCZgQAAAAACg6lpAtStRuxKDT0AAAAAAYCZgQGG5pxGWRlZAAAAAAADDXkCc3vSmNxZcQAAAAACg6lpAnN70pjcWXECxEzuxk9hYQAAAAABgJmBAeHh4ePj/UkAAAAAAgIhlQAAAAAAA7VdAAAAAAGAmYEDYUF5D+f9gQAAAAACg6lpAAAAAAKDqWkDYUF5D+f9gQAAAAAAA7VdAAAAAAKDqWkC21lprrdZUQAAAAAD4L1RA1Hc26jt9S0Aq8lk3mHVRQAAAAACg6kpAAAAAAMDxYUAAAAAA+C9UQAAAAAD4L1RAYbmnEZZGVkAAAAAAwPFhQNhQXkP5/2BAAAAAAKDqWkAAAAAAAMNeQAAAAAAA11lAtStRuxKDT0AAAAAAwPFhQCryWTeYdVFAAAAAAPgvVEAAAAAAYCZgQAAAAADA8WFALrroogtdXUAAAAAAAMNeQAAAAABgJlBA2FBeQ/n/YEAAAAAAwPFhQC666KILXV1AAAAAAGAmYEAuuuiiC11dQHh4eHj4/2JAxB1xR9wLTkAq8lk3mHVRQHh4eHj4/2JAsRM7sZPYWECc3vSmNxZcQHTRRRddk1NAAAAAAADtV0AAAAAAAMNOQCryWTeYdVFAAAAAAMDxYUAAAAAAQBJXQAAAAAAAdVJAAAAAAKDqWkB4eHh4+P9iQJze9KY3FlxAAAAAAADDTkAAAAAAANdZQAAAAABgJmBAAAAAAGAmYEAAAAAAwPFhQLETO7GT2FhAdmIndmKQUEDYUF5D+f9gQNhQXkP5/2BAAAAAAADDTkDYUF5D+f9QQLETO7GT2FhAAAAAAADXWUAq8lk3mHVRQGG5pxGWRlZAAAAAAMDxYUCxEzuxk9hYQAAAAAAAXkpAAAAAAICIVUAAAAAAwPFhQAAAAAAAw15AsRM7sZPYaEAAAAAAANdZQHh4eHj4/2JAAAAAAADXWUCc3vSmNxZcQAAAAAAAw15AAAAAAMDxUUAvuuiiC11NQNhQXkP5/2BAAAAAAKDqWkCc3vSmNxZcQLETO7GT2FhAAAAAAICIZUA=",
          "dtype": "f8"
         },
         "yaxis": "y"
        },
        {
         "name": "african gospel",
         "showlegend": true,
         "type": "box",
         "xaxis": "x",
         "y": {
          "bdata": "LrroogtdXUDYUF5D+f9gQAAAAABgJmBAAAAAAADDXkAAAAAAoOpaQNhQXkP5/2BALrroogtdXUCc3vSmNxZcQAAAAAAAw15A2FBeQ/n/YEAAAAAAAMNeQAAAAAAA7VdAAAAAAKDqWkAAAAAAwPFhQJze9KY3FlxAAAAAAADXWUB4eHh4+P9iQAAAAAAA7VdAAAAAAADDXkDYUF5D+f9QQC666KILXV1AAAAAAKDqWkAAAAAAoOpaQHh4eHj4/2JAAAAAAPgvVEAAAAAAQBJXQJze9KY3FlxAnN70pjcWXEAAAAAAAO1XQC666KILXV1AsRM7sZPYWEAAAAAAAMNeQAAAAABgJmBAAAAAAKDqWkAAAAAA+C9kQC666KILXV1AnN70pjcWXECc3vSmNxZcQAAAAABgJmBAAAAAAMDxYUAAAAAAAO1XQHh4eHj4/2JAttZaa63WVEAAAAAAAMNeQAAAAAAA7VdAAAAAAGAmYEB4eHh4+P9iQLbWWmut1lRAAAAAAADtV0CxEzuxk9hYQAAAAAAAw15AAAAAAGAmYEAAAAAAAMNeQLETO7GT2FhAAAAAAADtV0AAAAAAwPFhQAAAAAD4L2RAAAAAAADDXkAAAAAAANdZQAAAAACg6lpAAAAAAEASZ0AAAAAAANdZQAAAAAD4L2RAnN70pjcWXEAAAAAAAMNeQNhQXkP5/2BAAAAAAEASV0A=",
          "dtype": "f8"
         },
         "yaxis": "y"
        },
        {
         "name": "uk drill",
         "showlegend": true,
         "type": "box",
         "xaxis": "x",
         "y": {
          "bdata": "AAAAAMDxYUCxEzuxk9hYQAAAAADA8WFAsRM7sZPYWEAAAAAAwPFhQAAAAADA8VFAAAAAAEASV0AAAAAAwPFhQAAAAAAAw15AAAAAAMDxYUDYUF5D+f9gQCryWTeYdVFAKvJZN5h1UUAAAAAAAHVSQCryWTeYdVFA2FBeQ/n/YEAAAAAAwPFhQAAAAADA8WFAAAAAAMDxYUAAAAAAQBJXQAAAAADA8WFAdmIndmKQUEAq8lk3mHVRQAAAAABgJmBAAAAAAMDxYUAAAAAAwPFRQCryWTeYdVFALrroogtdXUAAAAAAwPFRQAAAAADA8VFA2FBeQ/n/YEAAAAAAwPFhQAAAAAAAdVJAAAAAAMDxYUAAAAAAwPFRQAAAAAAA11lAKvJZN5h1UUAAAAAAQBJXQCryWTeYdVFAAAAAAMDxUUAAAAAAAO1XQAAAAAAA7VdAAAAAAMDxUUAq8lk3mHVRQAAAAABAEldAAAAAAMDxYUAq8lk3mHVRQAAAAADA8WFAAAAAAMDxUUAAAAAAAO1XQNhQXkP5/2BA2FBeQ/n/YEAAAAAAwPFhQAAAAADA8VFAnN70pjcWXEAAAAAAwPFhQA==",
          "dtype": "f8"
         },
         "yaxis": "y"
        },
        {
         "name": "gospel",
         "showlegend": true,
         "type": "box",
         "xaxis": "x",
         "y": {
          "bdata": "nN70pjcWXEAuuuiiC11dQAAAAADA8WFAeHh4ePj/YkB00UUXXZNTQNhQXkP5/2BAAAAAAGAmYEAAAAAAwPFRQAAAAAD4L2RAAAAAAKDqWkAAAAAAYCZgQC666KILXV1AAAAAAAB1UkC21lprrdZUQGG5pxGWRlZALrroogtdXUAAAAAAAMNeQAAAAADA8WFAKvJZN5h1UUB4eHh4+P9iQAAAAAD4L2RAAAAAAADtV0AAAAAAANdZQLETO7GT2FhAAAAAAGAmYEAAAAAA+C9kQHh4eHj4/2JAAAAAAPgvZEAAAAAA+C9kQNhQXkP5/2BAAAAAAKDqWkAAAAAAAMNeQAAAAABgJmBAsRM7sZPYWEDYUF5D+f9gQAAAAAAAw15AAAAAAKDqWkAAAAAAoOpaQAAAAAAAw15AAAAAAADDXkAAAAAA+C9kQC666KILXV1AAAAAAADXWUAAAAAAAMNeQHh4eHj4/2JAAAAAAADtV0Cc3vSmNxZcQC666KILXV1AAAAAAEASV0Cc3vSmNxZcQAAAAACg6lpALrroogtdXUAAAAAA+C9kQAAAAAAA7VdAnN70pjcWXEAAAAAAAMNeQA==",
          "dtype": "f8"
         },
         "yaxis": "y"
        },
        {
         "name": "christian",
         "showlegend": true,
         "type": "box",
         "xaxis": "x",
         "y": {
          "bdata": "AAAAAGAmYEB4eHh4+P9iQLETO7GT2FhAYbmnEZZGVkAAAAAAAO1XQLETO7GT2FhAYbmnEZZGVkB4eHh4+P9iQC666KILXV1ALrroogtdXUAAAAAAwPFhQHh4eHj4/2JAAAAAAICIVUAAAAAAgIhlQAAAAACg6lpAAAAAAICIVUB4eHh4+P9iQNhQXkP5/2BAeHh4ePj/YkBhuacRlkZWQAAAAAAA11lA2FBeQ/n/YEAAAAAAAHVSQC+66KILXU1AAAAAAPgvVEAAAAAAwPFhQAAAAADA8WFAeHh4ePj/YkBhuacRlkZWQAAAAAAAdVJAAAAAAPgvVEB00UUXXZNTQAAAAAAAw15AAAAAAPgvZEAAAAAAwPFhQJze9KY3FlxAsRM7sZPYWEAAAAAAgIhlQAAAAABAEmdAAAAAAGAmYEAAAAAAAO1XQA==",
          "dtype": "f8"
         },
         "yaxis": "y"
        },
        {
         "name": "soft pop",
         "showlegend": true,
         "type": "box",
         "xaxis": "x",
         "y": {
          "bdata": "AAAAAICIZUAAAAAAwPFhQAAAAAAA11lAxB1xR9wLTkCxEzuxk9hYQAAAAACAiFVAnN70pjcWXEAAAAAA+C9kQAAAAAAAw15AAAAAAADtV0AAAAAAgIhVQNhQXkP5/2BAAAAAAGAmYECc3vSmNxZcQJze9KY3FlxAnN70pjcWXEAAAAAAQBJXQC666KILXV1ALrroogtdXUAAAAAAwPFhQAAAAACg6lpAAAAAAADDXkAAAAAAYCZgQAAAAAAAw15AttZaa63WVEAAAAAAAMNeQAAAAAAAw15AAAAAAADXWUAAAAAAAO1XQC666KILXV1AnN70pjcWXEAAAAAAoOpaQAAAAACg6lpAAAAAAADXWUA=",
          "dtype": "f8"
         },
         "yaxis": "y"
        },
        {
         "name": "new age",
         "showlegend": true,
         "type": "box",
         "xaxis": "x",
         "y": {
          "bdata": "dNFFF12TU0AAAAAA+C9kQAAAAABAEldAAAAAAPgvZEAAAAAAYCZgQGG5pxGWRlZAAAAAAADXWUAAAAAAwPFhQHh4eHj4/1JALrroogtdXUDYUF5D+f9gQAAAAABgJmBAYbmnEZZGVkAAAAAAwPFhQAAAAAD4L2RAAAAAAEASV0AAAAAA+C9kQC666KILXV1ALrroogtdXUAAAAAAAO1XQC666KILXV1AAAAAAADtV0AAAAAA+C9kQJze9KY3FlxAAAAAAPgvZEAAAAAAAO1XQGG5pxGWRlZAAAAAAKDqWkAAAAAAQBJnQHh4eHj4/2JAeHh4ePj/YkAAAAAAAMNeQAAAAAAA7VdA",
          "dtype": "f8"
         },
         "yaxis": "y"
        },
        {
         "name": "Unknown",
         "showlegend": false,
         "type": "box",
         "xaxis": "x2",
         "y": {
          "bdata": "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",
          "dtype": "f8"
         },
         "yaxis": "y2"
        },
        {
         "name": "worship",
         "showlegend": false,
         "type": "box",
         "xaxis": "x2",
         "y": {
          "bdata": "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",
          "dtype": "f8"
         },
         "yaxis": "y2"
        },
        {
         "name": "afrobeats",
         "showlegend": false,
         "type": "box",
         "xaxis": "x2",
         "y": {
          "bdata": "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",
          "dtype": "f8"
         },
         "yaxis": "y2"
        },
        {
         "name": "lo-fi",
         "showlegend": false,
         "type": "box",
         "xaxis": "x2",
         "y": {
          "bdata": "/v//P2QfxD8AAABAAgbHP//////rF9M/AAAAwPGozj////+/im/TP/7//39cksI//f//P+w1yj8AAABgmE3MP/f//1+hSaw//f//X7sRyz8AAACgWdrJP/7////LWMs/////HzhIxD/+//+/PW/PP////7+LC8g/////f/nVxj/+//8/0AfMP/z//5+wy7c/////XzBmwT////+f2PrEPwAAAECMxsU//v///8eJxD/+//8/JVfJP////5+JO8w//f//X/yxyD/+//+fLzLPP/3///9prco/////Xzzsxj/8//+//UW/P////7+LscE/AAAAIBAIwj/9//+fyyHOPwAAAMCyVME/AAAAwKJPyD/+////hqzFP////99QGcY//v//n/JVwT////9/0q3FP/7///9PK7g/AAAAoKw1wz/9////4XnJPwAAAEDFtMk//f///9nnyT8AAABAAqvMP////x91TsU/////v5xw0D////+fAoHSP/7//1/iv8I//v//H0yKxT8AAADgQjHQP////z/jVLM/////X8LCyj8AAABAnrLIP/7//19gN80//P///05Htj////8/aw7KP/z//58+d7k/AAAAYJ7eyT//////2IXKP/3////5fbs/AAAAAP6wxT/9//9fxXXJPwAAAKDnO70/AAAAAEGFyj8AAACAYanIP////3/7qsc/AAAAoO1txj/9//9fMT3AP/7///98OMM/+///v27DvD/+//+fNwzAPwAAAGBdx8Y/////n8gLwT8AAABAiiHOP/7//z8heco//v//nzePzz////8/qOXHP/3///9jkMI//v///8nIxz/9////rH/HP/3//1908cY//f//Xwr9vD/9//9/hIXPPwAAAIAmY8M/AAAAQMOhwT////8/7QPLP////79S68M/+///XzoYvD/9//8/vaTCP/////8fO8Y/+f//X4JUvT8AAABgS1THP/7///9P9so//f//Pyvmyj/6//8f3C64PwAAAIBZbcc//v///9WRwT8AAAAADyjSP////9+cG9U//v//n/yIwj8AAAAglEXFP/////+fz8c/////H90FwT/6//+ffsi5P/////9a4cQ//v//P5GAxj8AAADAX6nRP/7//78ArMk//////3RVyz/9//+/z1jAP/7//9/wYMk//f//P3QbyT8=",
          "dtype": "f8"
         },
         "yaxis": "y2"
        },
        {
         "name": "african gospel",
         "showlegend": false,
         "type": "box",
         "xaxis": "x2",
         "y": {
          "bdata": "AAAAIPyW0z8AAADA5a7JP////5/OsNA//v///9MPyz8AAABgZWnAP/////8zAL0/AAAAYFHI0T8AAADAHmTXPwAAAGAefcM/AAAAYCJA0D8AAABADvrPP////1/tBs4/AAAAwCV+0z/+////gErJPwAAAMD0SdU/AAAA4AKR0j8AAADAwT3XP//////Sm9A/AAAAQCBE0D8AAACgY2DPPwAAAOBwvtI/////PzHy0z////8f59vYP////z89MtA/AAAAoJdG0j//////ahTUPwAAAMBtxdA//v//34BKwT////+fmVjPP////5+LbtA/////n4PhyT8AAACgm7vVPwAAAGBZu9A//////5mz0D////8/e6/PPwAAAOAGwNQ/////v1Z6wT////9/EzXIPwAAAGAHF9E/AAAAwGPO1z/+//+/fKLKP////79ic8E/////X7jtzj/9//8f8CTCP/7//59uL8Q/AAAAYBRN0j////+/BRXSP////5+CS9I//////5pr0D////9fguXSP////5+6GNE/////v0dr0T8AAAAANrbRPwAAACBP+9A/AAAAQJoB0T8AAADAY87XP////3/BO9g/AAAAYEaD0T8AAAAAejbSP////1/KHcs/AAAAwDS60D////+/ZNXPP/7//59e4MI//v///73Rzj8AAABAm3zSP////58Z1co/////n5PS1j8=",
          "dtype": "f8"
         },
         "yaxis": "y2"
        },
        {
         "name": "uk drill",
         "showlegend": false,
         "type": "box",
         "xaxis": "x2",
         "y": {
          "bdata": "/f///9tEzT8AAADgONTCPwAAACCRy9Q//////16b0D8AAAAAcLjLPwAAAKAsbtA/AAAAoDJhyz8AAADA6ZHXPwAAAIDvyNE/AAAAQNJH1D8AAACgqp/OP/7//5/2yMY/////H5wU0j8AAAAAQeXLP////z/pBsg/AAAAwGsl1D/9////HNLHPwAAAKBwf9A/AAAAYFBm0z//////GC3SP////z/iLdE/AAAAwPb70T/9//8/MWbOPwAAAKDZ2dM/AAAAoLn81T/+//8/0n/HPwAAAIBWMNQ/AAAAYE4A1T/+////dl3PPwAAAAA/XsY/////P7aM0z8AAAAALy7QPwAAAIAqStA/////H7FW0T////9/ATrGPwAAAKCyhNA/AAAAIE4K0D8AAADAZ5PRP/3///9r08g/AAAAAMK10T/9//8/OUTEPwAAAAB4FMk/AAAAoBl40T////+/0kTMP////5+Fas4//////59hzD////+/FabKP////79N4tY/AAAAwAHh0T/+//8/DY3HP////59aJM8/////nwslzj8AAADAPrfOP/////+UA9I/AAAAAAwo0T8AAACgl7bUPw==",
          "dtype": "f8"
         },
         "yaxis": "y2"
        },
        {
         "name": "gospel",
         "showlegend": false,
         "type": "box",
         "xaxis": "x2",
         "y": {
          "bdata": "////vxLZ0D////9/SO/UPwAAAGAHvNA/AAAAoFe/0T/5//+fUWC4P/3//5/V78Y/AAAAoLmX0T//////6XLQP////z+nV9M/AAAAwKBZ0z//////F2/XPwAAAEBdXM0/AAAAYKRryj////+fyqPYPwAAACBSFNY//v//30O+wz/////fJW/BPwAAACBKktA//////6Gk0T////9fK2HXP////1/8C9A//v//P0gzxD8AAAAAygLRPwAAAKBd884//f//vxgLwT////9fsP3DP/3//z+zw8Y//////ycgyz/+//9fWLjEP/7//z8b18k/////nwyL0j/+//+fN4DPP//////oONA/////Pyy+yj/+//8/E+TOP////z86d8U/AAAAQNPP0z8AAADAKyDUPwAAAEAdjNA/////v0Iezz//////pbjWPwAAACC5WdI/AAAAAMdR0z8AAABglrHPPwAAAABD1Mc/////f80o0D////+/247RPwAAAEBN+tE/AAAAIDei0D8AAADg8oLXP/7//z/kx80/AAAAoCsT0D8AAADAsLfTP/////8nDdI/////3+RLxT////8/sVTQPw==",
          "dtype": "f8"
         },
         "yaxis": "y2"
        },
        {
         "name": "christian",
         "showlegend": false,
         "type": "box",
         "xaxis": "x2",
         "y": {
          "bdata": "/////+S9xz8AAABAlkDVP/3//189/s8/////P+sz0j////9/tYjTPwAAAOD0LdI/AAAAYNAH1D8AAAAAAZ3VPwAAAEAR5NE/////P61Y0j////+/FlzXPwAAAACIW9M/AAAAQEml0D//////8LbPPwAAAMCpQ9A//////98L0D8AAAAAtvHRPwAAAAD1idM/AAAAwD2l0D////9fLRzUPwAAAECG4NI//v//v/LXyD8AAADg/T/TPwAAAACM284/AAAAQF0t0z////8/OynQP////9/gm9Q/////n4t8yj8AAABgC1bTP////9+LjNQ/AAAAADAy0D////8/r4DTP////7/OyNM//f//P62dyT8AAACgnazYP////z+w1tQ/AAAAwOMy0T////+/mx7RP////7/JMtE//f//f8cVxD/+//8/I+zPPw==",
          "dtype": "f8"
         },
         "yaxis": "y2"
        },
        {
         "name": "soft pop",
         "showlegend": false,
         "type": "box",
         "xaxis": "x2",
         "y": {
          "bdata": "AAAAQP4P0T////9f8gjVPwAAAMCAyNE//v//f5UowD8AAACgZNbWPwAAAEAcVtQ/////f4Mz0z8AAAAAenDFP/7//z+nOM0/////f4Vy0D8AAAAAALDVPwAAAAA3S9I/AAAAoJ3h0z8AAADAPi3QP////7+ch9E/AAAAABC3uz////9fLmLWP////7/NBdM/////PzkB0T/+//8/WGbPP////7/TMNQ//f///+dbzj8AAACgneHTP/7//z+nOM0/AAAAAH5Myj8AAABAGqXKPwAAAEASONA/AAAAQH6Kyj8AAACgH9vSP////78J+c4/////X4MM2D////9fvP7TP////99attA/AAAAALZg1j8=",
          "dtype": "f8"
         },
         "yaxis": "y2"
        },
        {
         "name": "new age",
         "showlegend": false,
         "type": "box",
         "xaxis": "x2",
         "y": {
          "bdata": "AAAAAPyfyT/9//9f9ti/P/7//z+VT8c//v//vzG2yz8AAABAU1zJPwAAAECcUcE/////v9a+wD////+/TnvLPwAAAGBHUMc//v//P2iEwj/+//+ftb60P/7//3+Ztsc/AAAAALXqxD/+//+fcMPAPwAAACBRGMc/////X67szT/9//9fv7nFP/7//1+Xi8E/AAAAoKT+xz//////p7bFP/7//z9ohMI///////RyyT8AAACgZ7vJP/7//39iXMk//////9osvD//////la/LP/3//99d/8U/+v//n6/Cuj//////XgbEP////7+LcMU/////v1rrxT////+/RiPIP////z/rtck/",
          "dtype": "f8"
         },
         "yaxis": "y2"
        },
        {
         "name": "Unknown",
         "showlegend": false,
         "type": "box",
         "xaxis": "x3",
         "y": {
          "bdata": "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",
          "dtype": "f8"
         },
         "yaxis": "y3"
        },
        {
         "name": "worship",
         "showlegend": false,
         "type": "box",
         "xaxis": "x3",
         "y": {
          "bdata": "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",
          "dtype": "f8"
         },
         "yaxis": "y3"
        },
        {
         "name": "afrobeats",
         "showlegend": false,
         "type": "box",
         "xaxis": "x3",
         "y": {
          "bdata": "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",
          "dtype": "f8"
         },
         "yaxis": "y3"
        },
        {
         "name": "lo-fi",
         "showlegend": false,
         "type": "box",
         "xaxis": "x3",
         "y": {
          "bdata": "DiBllbl2kUAAgCQBEsaCQPMhWDI1QohAYE5diQuEh0AHA9AWZyiOQICo/KJ9bIVAwOIoiClZiUAkAzG5YYiKQAwMvrqM8JVAC01L3CEAhUCA88tPLneMQHjMV15zHZFA8/lb7ZYMjEC7CSlI49eFQMeNjcD9a4dA4CiKySjvh0AKMyuEJSaFQGNd7qreW4ZAwTXTyf6ZkkDtOVUgMFCDQN0l4x4pHJFAkPcYhJIPdkCGCmVdlvODQErFMecZ7pBAhJsi93rDiEBgB75LyTqLQJdl1a8n24lAtEGxbYTwjEDrnBbHKeyJQMYcH5FfB4FAauFAumXXhUBZiU7nyE6OQCDHNa/a3YBAtrB5ZGfCfUCwQEjefMuEQMXWLUpnF3xAeo47VSN0g0DCuLx8iM+QQHqGniZ0pHlAFULe4/YIi0D/mFBSQraJQINh2GzVBH1AGzjTyJNbj0BiKA2wyrKDQAsi/pO9RJRAtEB/uzgohEAyeQyd8BGRQLVAA1EIGYBA5k9RjHVHkkCh2Wshu0KMQHRIBygAI4NAN/uqmAU0hUCOTMHs7jmQQALBAySFZZFAAt9P2bZjgkAjUgOxBGOGQEd7mbH/pYBA6WKTaVjWlUA60IERXZ2KQBslS8F3T4ZA9kv6OwWmjUCiIMEHmGiNQDvz5ebBYoNAK1HhTNOLikArgRk4iTOVQCUEfSC7oZJAJXImwU7wgEDD+Z0qdHWNQP6NnejBVoRApRSY8AmBfkADjH0nmjGDQA/IRoAgHIpAsN4em+gji0D4q2NPhB2IQGr89tSCZ5JA/dpyeKrqekCao6EKd/aAQLW9tQR7NoxAn7BznEEegEC5sFuOEsCTQAlirT8fM5FARqcZnX2bgUDFUYgmjDCOQN2VkBIQE4JA83gMHBeujUDqMmMqAwWQQBI5h5vXwJBAHzBh4YTvgUCLj0sS8eiOQFBtFSCU3ZBAceNq6BS/g0BKKUQ8YxqKQOMTUstScpBAIA6RPtJ3kUAu6+FAIKGHQCIFXFPZGHlA8e3nlsKoj0ApL2L0Z/6RQIXAHQQl2YNAFpfhUC2ygEDzI6yQGlKQQBNETf90AIpA0BPNlaHrfkAKpPvvoceHQApcbqKgvItAAPTl7cA+hkA2/BIsekd5QHIkwj65YZJAUX/kar5hj0C6QTqzrUaAQMrBKSyeK5BAASCUDKSAlEA=",
          "dtype": "f8"
         },
         "yaxis": "y3"
        },
        {
         "name": "african gospel",
         "showlegend": false,
         "type": "box",
         "xaxis": "x3",
         "y": {
          "bdata": "PUInizhNnkD4lJJGoKqmQKWdS9Km9aJAMIlYqrU2kUBwKG73TDKnQBvCrnDVJqJAQvamx1pIokATLyttZrqfQHnccZmDQaNAoE2Kr32YpECydqKAkoCgQMB3Qe9SrKJAJdzTPb8anUD46w6jr8SgQKAEaCDmzKNAbxx3bfS3o0CupF8qHECnQKg5BZNRbaBAEUCO5RXso0Cws9/yLD+gQPu7ExfKCqJA01yJ6isAm0A1KMzKS5CfQFjDIMj8O6ZA459iJJFenECyzYej2P6fQDPlps2QNaFAf5OFMnWZpEDjRV444NSeQE11+NvemaRAEr05CPReoUD6DzsrTiajQGZfYV/ZLaJAYo6uJEHHoUAOYPydxhydQK62aBLpAaFAavnaidXQm0A0mbsFBdOgQGxSjzNQmKFAdJG5hszonEBON9Ya47WjQIwFm6Tx1qNApuOjpUmjoUDLKjgxsB+jQOAvVcZslJ9AxsXhYtgwpkCuxNGflk2jQKCgHTYibaFAtXHwi0rimEACHUAaesyhQCbj3q1NIaJAmxBlNEuXoECPWGnov02jQM6GWj93qqFAnYx80smpokB0kbmGzOicQDrvvft1hZ1ADq3xXLAZokDvmNkuxaGcQF6Clcx8TKZAbG9D3cmtnEAaKaeAYw6jQCqZi/U4QqNAg/Mq1IJvoUDKnHTN6KGgQNYFFRGx1J1Afn25tMjCokA=",
          "dtype": "f8"
         },
         "yaxis": "y3"
        },
        {
         "name": "uk drill",
         "showlegend": false,
         "type": "box",
         "xaxis": "x3",
         "y": {
          "bdata": "Le9t4VkPo0BDQt7DtHipQAsyQWtrVKNAaGaNa4e9o0AT9ROOxLmjQJ8eLytN3aRAZm1kqKJ+pEA2z37cncejQGZyWIbwyKFApbnbjz/no0B6xoQbqCemQITnWv+zhqNA+jd6omYPp0DR4yDsvh2jQKD+tZpafaRARy0TGhzNpED5OwHeBt+lQGKnyWNXs6dA0jfYCUsep0Dwi/427V+oQCfOfsKbuqBApPcxooGOnkBKV5X/zR+jQOswEpGlyqNA3NwprKdopEDdxG8oY5qkQLiuKGtFTqVATFlBftX0pEBe9cAc+TWlQEHJV2zMCKlAn7SnNdUroEDrJMLFrvajQOiUXaAUWadAzo4HsufjpEDy5vi1m5miQFgrGEhZpaVAPlRueROlpkAGWdvTnFSlQP0IG9vY16RALKMFVTe7o0C272hayqSlQFttA96qVaNAZ2UKQfbMo0A3zgXn6K+iQK1ugWn84aVApP5XGVQ2okD7+MDG22anQP30epkGFZxA1nz1hPNwp0CbDK1OITWmQEItOQhexaBAa3pbEEzOqEATNEZSj8umQHURbqIrKqZAuHOR1T1AoUBaN/0PORaiQA==",
          "dtype": "f8"
         },
         "yaxis": "y3"
        },
        {
         "name": "gospel",
         "showlegend": false,
         "type": "box",
         "xaxis": "x3",
         "y": {
          "bdata": "Egy9iYP2pEDqsZqYDHCkQJhwHeqTYaBAUh28PU2voEA7qcGOV/+RQDO0HArnkKBAdY36csR1oEAWePAEDUybQLk0iCqE7Z9A3MbZhCBepEDO6pw22beiQHRPqAZXMaJAfkcw56oAo0DZDtLypnOfQPpI+2DOn6VAXvEsX4VwoUBjJEPqoqCYQHrr1N9SyKJABlQ0rN6nokB6xKzZ71udQBLihJTn06NAcrAC2UzjokCJqI7rIR2gQDIG/K0u46NAjqcqH4gLpkCj/3tmjpCiQEogQRb3DaNAW0T4OdG2nkAe8FyXnxKpQGlXd8/jRaFA1Ybz+OWnlkCgvWjQbkSkQNIJcnPxXZ5Ari5b4yRLmUDF/sC11aOkQBUarbyvEKNAaqqNRaiEnECOPW1RGiuhQCVlh0JClKRAfSr+vdiRoUAoBeWayxalQKJYFdButaNAImQZkpFzokCzDJXYbAOeQLGiz2UAjqFAhg1CB1GookB+HSuqNJShQLSJq9E0XaFAdoZ0IlKvpUDVaPDIE+ygQF7ONsroUp5A7X6p9Mz2mUDux5Pxb7KgQEIII53hwaBA4QSBFEWLnkCEWoQClpyhQA==",
          "dtype": "f8"
         },
         "yaxis": "y3"
        },
        {
         "name": "christian",
         "showlegend": false,
         "type": "box",
         "xaxis": "x3",
         "y": {
          "bdata": "6EkGCp5NmEAsdEuG+i+kQGMa7WjkWJhAbr2hF7rKoUDqxpGF59CaQEOjtwzwD51AGSvkPCpjpEDohNfqoaejQHBx/kGl8aBAuOVUERVLpkDTzQuKLBChQA3XaG0XXZ5A8JbLa+rkoECbh1wzfrWgQBMu19Ru+KJAxrkxgOMGpEBEndWxXPOjQCd9lQ/7h6BA0D+7apMmoEAWLlsm8iOhQBakwHvhlKFAr5Swoof9nkDqWr2LwuGaQJXyn4G36JpA4hbPY26aqEANElGpy/OjQPI6p0UqDaJAi8H16pqTnUA4++tIvgKjQFBArsMvO55Ac65vJ6LyoUAWKAMtzO+gQJaDHPmisZhAiLETkeu0okD58kxpTqijQINQzBqiIqBAbEhwQouMoECCws0/YXikQJSCgW5MPJ9AnMBasMBBpEC2y8eLrZ2iQA==",
          "dtype": "f8"
         },
         "yaxis": "y3"
        },
        {
         "name": "soft pop",
         "showlegend": false,
         "type": "box",
         "xaxis": "x3",
         "y": {
          "bdata": "KE9h3d/foUAl3CILaKWsQCvTUOp3k6BAZum71lzwjUDTdIj5o9edQGadE4Jp9ZhA78L+ior/okDiwlZyT++SQEZ7b+N26KFA/smd4IN7nUAS4g2qcxWXQKVWTCkx26BAxiybw+WkpEBSbokhzBaeQC46QhIlbaFA1GLkzGgPmECKuV9sCUOmQCWUNX/Aq6BAa2gpAXwRpUDOKfVnTI2nQGs3Fd81CJxAgkcrUOFfokDGLJvD5aSkQEZ7b+N26KFAsW1VATFhn0BGCXMg7wKhQBPPMk/hmaZAmZB2rx6DnEA/m2Ik4mqhQD0B3S620plAvSWyQBQuokB5htbSqb+nQJ6LESlReppA6LQzf9VQp0A=",
          "dtype": "f8"
         },
         "yaxis": "y3"
        },
        {
         "name": "new age",
         "showlegend": false,
         "type": "box",
         "xaxis": "x3",
         "y": {
          "bdata": "/pCEARgUlEAdzLcQvrSSQFUvZFXfXZBAmGh89ofRm0DDY22lC4eVQKyJtrarYodA7Y6DHX3IkUDmz3NK78aVQMPiLYmvwp5A+EZgc6jWmEDB7+1cJv+PQLYC0o6Ol5FAtsidTFrAkUA6JrA8AYCRQID8hNgzpIpAel/PPfmsmUDY4UckV2eVQIE0jY8IyZ1ADbTFiX0lnUAuZ+QIfr+UQPhGYHOo1phAy/6iBJwZlECTKvWwERGVQCDnmjzrIZRAjC+DVqu4kkB57it0jmuXQEIkouCVD5NA+H3o9onDlEAPrhJ+UkGSQDh01RukQ4tA0KMXIhIAi0BZp9Ooo4mTQMITv/PLppZA",
          "dtype": "f8"
         },
         "yaxis": "y3"
        },
        {
         "name": "Unknown",
         "showlegend": false,
         "type": "box",
         "xaxis": "x4",
         "y": {
          "bdata": "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",
          "dtype": "f8"
         },
         "yaxis": "y4"
        },
        {
         "name": "worship",
         "showlegend": false,
         "type": "box",
         "xaxis": "x4",
         "y": {
          "bdata": "YmZmZgYttD9lZmZmpta2P2BmZmZGWLY/YWZmZiZ3uz9gZmZmRqSxP5OZmZl5CLY/lZmZmTkZuD+ZmZmZueu8P/////8fxLg/MDMzM7Pnuz99phBoCoG8P/mWSMp+arU//////x+ovz/IzMzMbIS6P8fMzMyMS7o/IHvliuHruz+MGJnNTwy9P8fMzMyMfbk/w2XAJ4drtD/8////f0S+P8bMzMysars/zMzMzOyLuD/9////X528P8fMzMyMIrU/lZmZmTlVvT8zMzMzM7W9P8fMzMyMebM/zMzMzOyCuD80YALEKni/P8jMzMxsn7g/zMzMzOyytz/HzMzMjPq8P83MzMzMMbc/MjMzM1OXtz8uMzMz8/qwP4SVk+q8Kbs/MDMzM5NAtD+amZmZmfa5P+ef6TmI3a8/yszMzCyLvD8yMzMzU6C+P5OZmZl54Lc/DQ4gEd+MvT/7////n0q6P/f///8/M6s/AAAAAABevD8AAAAAkCPAP83MzMzMR7c/RVjRJ4o5tT/+////PzC2P/r////f/7E/HIynUM6Klj/FEUFPoJi4P8jMzMxs57Q/LTMzMxPRuD+0zMzMTAScPzEzMzNzCcA/lZmZmTlfuT+TmZmZeSu4P/r////fgrI/mZmZmTlTwD/GzMzMrPSzP6jOSMXcqrw/3Z4hw6igtz86sN0hiAG/P8bMzMysqr4/AAAAAAAAuj+gkUGPVqDCP1xDeQ1lOsE/yszMzCxKsj8yMzMzY1rEP2FmZmYmdrY/lZmZmTlctz/7////v466P82k2tGZdL8/ZGZmZsZztz+YmZmZ2Qi9PzAzMzOzt74/l5mZmfm/tD9kZmZmxnm3P5OZmZl5pro/l5mZmfn9uT+amZmZmc+0PzAzMzOzVrw/lJmZmVmjtz8zMzMzM62pP9nOf8mJm7Y/MDMzM7P9tD+XmZmZ+TPAP2NmZmZWpcE/cACVJXnavT9jZmZm5p+6P/////8vHcE/y8zMzAxqsT+WmZmZGdisP3o30zzbAMA/lZmZmTnLuT/7////n0q6P/7///8/ZbM//////x9Wsj/JzMzMTLu6P8nMzMxMc7I/ozZUuL+YuT9hZmZmJiK7PywtLS0t3b0/LzMzM9Oyuz+WmZmZGQezP0MHC1vUfbo/ZWZmZoaIvj9gZmZmRq+2P83MzMzMSbc/LjMzM/P6sD+YmZmZ2cK/PyozMzNzDq8/+////78ctz8keplGbT6xPy4zMzPzJbc/mZmZmblsvj+ZmZmZuXe9P0PxoQqLXrY/mpmZmYlywz/6////38q4P83MzMzM/rs/LzMzM9Nitj/uRjbnVeG3P2JmZmYG6LY//P///39gsj9hZmZmJk27P/z///9/Z7c/MDMzM7OFuz9kZmZmxnG6Py8zMzPTebc/KjMzM3MOrz+UmZmZWWiyPzAzMzOzyrg/xszMzKzctT/krFp3O325P+rq6urqYsE/AAAAAACtvD+vxHXu4We4P2VmZmamn7Y/j5mZmRlFrz//////H32/P4Xzl46AK7c/AAAAAAAytz/KzMzMLEi4PzIzMzNTZrI//////x/ctz+UmZmZWXK7PwwODg4O3rM/+////7/jvz9yDMJwSE+9P/42L31xtr0/QXZhMRL6sj9lZmZmhk66P/////8fxLQ/AAAAAABRwj/KzMzMLNmxP8jMzMxs4ro/sCte3JfMuT8YymsoL4S4P5qZmZmZu64/lJmZmVkYqz/LzMzMDKy6P5iZmZnZ+b8/y8zMzIwCwD+TmZmZeRe9P/v///+fT7s/yczMzExDuz/7////n0S4PzIzMzNTKrw/MDMzM5O+wT+XmZmZ+dm7P2ZmZmZm+7w/Owg3fWYEuz+VmZmZOT23P5aZmZkZZ7M/MTMzM3OWuD9iZmZmBtC6P5KZmZmZ0KU/yszMzCyztT/+////P9C9P2BmZmZGZLk/yMzMzGzwtT8uMzMz846wPzAzMzOj1ME/MzMzMzPevT+UmZmZWUuwP73SjU3osb4/+v///99uuT/KzMzMLLe7P2JmZmYGFL0/+////7/IsT/DSegZk8e6P4SVk+q8Kbs/k5mZmXkYvj/DZcAnhzu+P6C8hvIaEsA/MjMzM1MQwD8D3TejUNbBP8rMzMysKcA/MDMzM7OTsT9lZmZmhj+yP485XFe/EME/y8zMzAzCuj8wMzMzkzOzPytXSaPaksA/MzMzM8N3wT9lZmZmphm4PxxREsLpqLo/yszMzCyHtD9mZmZmZnC1P9l77733Lrg/ZWZmZgbGwD/kYn9D//C7P/z///9/dr4//v///z8huj/IzMzMbPC1P8jMzMxs270/MjMzM1M2tz9T1FCdZPO3P/////+fjcA//////x+5vj9jZmZm5lm4Pwg4FuEfF7k//v///z8etj8vMzMz0ye6P8rMzMwsG7g/x8zMzIymvT/B5S7B5S7CPzIzMzNTc70/l5mZmekKwz/8////f2CyPwAAAAAA4rU/xszMzKwXuj/IzMzMbL62P8vMzMwMq7k/zMzMzOyNuT+ZmZmZuXyxP7fcx+jYkrk/2O4QxNCDvj8zMzMzM1m2PwAAAAAAArc/ZWZmZqbpsj+XmZmZ+XC/P2JmZmYGlbc/XIQz1ZEwwT/JzMzMTEu6P5qZmZmZ17w/ZmZmZmazvj9lZmZmptq4P2VmZmam3bQ/MDMzM7Mouz/JzMzMTFW2P2ZmZmZmgLk/xqil8r8Yvz8zMzMzM9a3P5OZmZl5prg//////x9vuD+m3RhPQrjAP8zMzMxcH8A//f///1+Qtz+SmZmZmbynPzAzMzOzZrM/7NNEsVLVwT+UmZmZWSS/PwAAAAAAEbw/mpmZmZlftT/9////3y3DP/r////fmrg/qsFzBIqmwD/7////n4++P5mZmZkpl8A/MDMzM5NgtT+WmZmZGcS8P34yd3UfJb4/MzMzMzOQvT8yMzMzUyu5P2ZmZmZmAL8/ZmZmZmZDvj9jZmZm5k23PzIzMzNTerY/MDMzM7OFuz/7////v1S1P5WZmZk5bbc//////x/Iuj9iIQtZyMKmPwxu+syIgr0/MTMzM3MTtz/MzMzM7LqyP9VEYluea7k/+v///99ivT+UmZmZWa65P8jMzMxsUrY/+////79Kuz/9////XymyP8nMzMxM4rQ/+v///9+huT9gZmZmRhS1P5ck0lmVGr0/zczMzMwXuD/ZXON2MW3AP6rBcwSKpsA/x8zMzIzysj9iZmZmBn61PwAAAAAAtbc/+////5+ttz9jZmZm5uKsP4C6nE1K078//////x/Lsj8wMzMzkzi4P/7///8/lcA/W0vXf1aQuz/ucOME7/W4P5qZmZkJMcE//f///18jsD+WmZmZGbq6P2VmZmYGFsA/DNvN8iSatT+YmZmZ2Sy3PzAzMzOTE7k/lZmZmTmkvT8yMzMzUx++P2UplQzXbLc/LTMzMxMouD/MzMzM7J29P2FmZmYmNbY/xszMzKwHuj/GzMzMrK25P0sLMy3MlLs/tJ3TZz+Qvz8vMzMz0yO+Py8zMzPTXLw//f///18ctz+ZmZmZuWm+P2bJIa4yvbg/+////5++uT8wMzMzk2a4P5mZmZm5GrA/MDMzM5NTvj/KzMzMLLS+P8rMzMwsrbY/mpmZmZnCvj+TmZmZeeuxP5qZmZmZc8A/w08EaG1fuz//////n8XAP5qZmZmZyrs/ZmZmZmZKwD+amZmZmR+0P/v///+fwb4/8mHcr0tKuD+TmZmZedS5P2RmZmbGDLU/FPmsG0whtD+rt3VK/wjBPy4zMzPzz7Q/lZmZmTncuz+woaI9Gua6P8zMzMzsS7o/GZFiqL/cvz/0XZKqYza2P2VmZmaGLLg/k5mZmXnfuT8xMzMzc4G7P+t9ZHSqCLc/",
          "dtype": "f8"
         },
         "yaxis": "y4"
        },
        {
         "name": "afrobeats",
         "showlegend": false,
         "type": "box",
         "xaxis": "x4",
         "y": {
          "bdata": "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",
          "dtype": "f8"
         },
         "yaxis": "y4"
        },
        {
         "name": "lo-fi",
         "showlegend": false,
         "type": "box",
         "xaxis": "x4",
         "y": {
          "bdata": "MzMzMzPlpj+LmZmZmf+TP/n/////oJ4/u8zMzEzHmD9RZmZmZn2ZP8nMzMxMLZk/y8zMzAzppj93kfQqrOWVP7gZXA7HNqA/LDMzMzN8nT/CzMzMTJahP5jk63o1iqE/PCfp6hMGoD9RZmZmZtWYP11mZmamg6A/j5mZmRl/nT9UZmZm5pCeP8fMzMyMT6Q/wszMzEzOqj/GzMzMzDGYP5iZmZnZyaY/mpmZmZnxij8lMzMzM7WYP2NmZmbm8qY/i5mZmZlfnj/5/////+SZPxcLb1ZgA6E/9MRFlghwnj+LmZmZmSeYP7fMzMzMt5I//P///39gmj+3zMzMzNOfPzAzMzOzX5c/MzMzMzNznD9jZmZm5jigPwAAAAAAhJg/vszMzMwmlT8oMzMzsyyoPyEzMzOzzZA/ITMzM7ONmT/pnvME/lOiP+r/////9pI/zczMzMxeoT+amZmZmQ2ePwAAAAAAZKU/X2ZmZmb/kT/AzMzMjESnP1FmZmZmNZI/5wqkK5Buqj+RmZmZ2RKhP5KZmZmZ+pY/8v////8hkj/NzMzMzHyiP5iZmZnZSaQ/JzMzM/PSoD+RmZmZ2U6gP83MzMzMDJE/MDMzM7PBqD9mZmZmZm6gP1FmZmZm+Zg/ZWZmZqZ0pj/EzMzMDEKiP/X///9/RZw/8oqqxayfoj9REajEphGsP/P///+/KaQ/SmZmZmbCiD8zMzMzMxuXP1hmZmZm4J0/iJmZmRkAmT8lMzMzM+WZP9HTub2WfKQ/X2ZmZmZPoj9jZmZm5s6VP5aZmZkZcqU/iJmZmRlQkj/u////f/6RP/z///9/9KI/Y2ZmZuailz+UmZmZWcqpPysb3wytHak/XGZmZuYLnj/TbgBRKySXPyUzMzMz4Zo/gJmZmRmdmj/+////P7agPzAzMzOzz6Y/Y2ZmZuZmkz/8////f5SXPy4zMzPzEaQ/Y2ZmZuZGmz/HzMzMjG+iP08NniNQLKQ/u8zMzEwTnj+3zMzMzKOdP/L/////WYw/9f///3+nrj/8////f9inPyUzMzMzLYo/RkVuplTDkz/JzMzMTHmuP2NmZmbm6p0/XGZmZubfmT8oMzMzs8SXPzMzMzMzQ6Q/lpmZmRlamj9KZmZmZkqGP/P///+/taM/xMzMzAxaoz9mZmZmZp6TP83MzMzMtqE/LDMzMzOsoz8=",
          "dtype": "f8"
         },
         "yaxis": "y4"
        },
        {
         "name": "african gospel",
         "showlegend": false,
         "type": "box",
         "xaxis": "x4",
         "y": {
          "bdata": "lJmZmVngrz8yMzMz0yDBP5SZmZlZSLs/TWZmZuZNnT/+////T/PBP83MzMzMVr8/+////5+ktz+SqF2J2gWxPyJw7UcJvLo/Q0LFgyS0vj/HzMzMjNu3PzIzMzNTIbw//v///z+8sD9lZmZmhl68P2RmZmbG4rk/Y2ZmZlb+wD+ZmZmZud/CPwAAAAAAK7Y//////x/cuD+XmZmZ+X+9P5WZmZk5Hbc//v///z/Crj8AAAAAAJm1P8vMzMyc9cQ/mZmZmbmasD847ZBeWu+uP2JmZmYG6bU/zuZ9ikt+vz8yMzMzUye3P2FmZmYmSb4/+////5/ZtT/HzMzMjPi6P5WZmZk5nLk/LTMzMxOIvD/MzMzM7JWyP8Q0haUb27U/MjMzM1Pltz9kZmZmxuC1P5mZmZm5srM/Kd13ecbWtT+WmZmZGSq3PxVvZZ9DCrw/mZmZmbkGuT84R6Boq3m9P/G6173uNbc/MDMzM5M5uT/+////PwO4PzIzMzNTgbo/XWZmZqY3qz/7////vym1PzAzMzOTHrk/y8zMzAyftj+TmZmZefu5P/z///9/67U/l5mZmfl3uT8p3Xd5xta1P4V2PuLovac/ZWZmZqbjuz+YmZmZ2R+1PzEzMzODVsA/x8zMzIyQsT8wMzMzs569P5ChA3Z76Lo/lJmZmVkXtz8AAAAAAAS0Py8zMzPTtbc/YmZmZgbLuT8=",
          "dtype": "f8"
         },
         "yaxis": "y4"
        },
        {
         "name": "uk drill",
         "showlegend": false,
         "type": "box",
         "xaxis": "x4",
         "y": {
          "bdata": "YmZmZgaGuz9mZmZm9tLGP5qZmZmZfrc/l5mZmfkcuz+YmZmZ2fi7P2VmZmaGiLw//f///18Dvz/HzMzMjPu1P/3///9fMbU/k5mZmXkAuD/7////nya/PzAzMzOT3L8/zMzMzOz8vz/7////v4y4P2VmZmamOLk/ZWZmZqYAuD9kZmZmxgrAPzEzMzNzQMA/MDMzM5NowT9mZmZmdnrDP5mZmZm50rM/+////7+lsD/NzMzMzHO5P3ugEerKArk/lJmZmVkhtj+XmZmZ+eW4P5qZmZmZ970/AAAAAAAFvD9mZmZm5hvBPzAzMzOjpcI/ZWZmZqaosD+amZmZmT68P8vMzMycNcE/+v///9/GvT8AlhK8VvizPzIzMzPTnsA/MjMzM2OZwT9iZmZmBs+6P1MS/Em5070/MDMzM7NpuD9hZmZmJgK/P5eZmZn5Tbk/MzMzMzPCtz+WmZmZGfq5P5SZmZlZwrs//P///38YuD//////H8bBP19mZmZme6U/ZWZmZgZjwT/+////PyTBP+Zv6VWbu6Y/ZWZmZpbWwT8xMzMzg6bAPzMzMzMznbw/YmZmZgaqsj8yMzMzU/KxPw==",
          "dtype": "f8"
         },
         "yaxis": "y4"
        },
        {
         "name": "gospel",
         "showlegend": false,
         "type": "box",
         "xaxis": "x4",
         "y": {
          "bdata": "MjMzM1O7uz/HzMzMjBS/P5aZmZkZ6Lg/MDMzM5M6uT/BqFZDtz+sP8rMzMwsFro/yczMzEzJtj+UmZmZWSC2PwAAAAAAlbc/LjMzM/OdvD/GzMzMrEyzP5SZmZlZ1bc/MDMzM7NjuD8uMzMz832zP2RmZmbGsbo/pYM6qIMquT8AknWuPEC0P/v///+fOLQ//P///38juj8wMzMzk8WzP/7///8/Pbs/nTGyO103tT//////H7m4P2ZmZmZmq7w/mQGs5JOgwD/Es3QGasO3P8rMzMwsr7s/YGZmZkZBtD/gCvwvepbFPwAAAAAAerw/Y2ZmZuY0sT9hZmZmJl+6P/n/////zKw/+////7+4qD/8////f/K+P5mZmZm5/bc/+////5/esz/+////P16xP5WZmZk5n7w/MjMzM1PMtz/+////z7LAPy8zMzPTJbk/Y2ZmZuaTtz8yMzMzU6+2P2VmZmaGa7Y/yMzMzGyRtj/7////nyWzP5SZmZlZn7Y/MzMzMzPpvT9gZmZmRmy4P/////8fW7Q/mZmZmbmTsD/8////f5eyP2VmZmaGprU/S15DeQ0psz+XmZmZ+fOwPw==",
          "dtype": "f8"
         },
         "yaxis": "y4"
        },
        {
         "name": "christian",
         "showlegend": false,
         "type": "box",
         "xaxis": "x4",
         "y": {
          "bdata": "/P///39OsT9iZmZmBsi8P8bMzMysQbA/ZmZmZmaduT//////H2KzP/7///8//rQ/+////7/juz/LzMzMDNS6PwAAAAAAxrc/4gONUFdWvj8wMzMzsxS5P5OZmZl5cbY//P///3/Puz/6////39m1P5aZmZkZUbs/mpmZmZlVvD/LzMzMDDK9PzAzMzOz+7M/yszMzCxKsz/MzMzM7Bi4P8bMzMysEbg/+////59gsz//////H0y0Py8zMzPTXLI/zMzMzNwLxT+TmZmZeVa6P/r////f47k/AAAAAAAhtz9lZmZmhvC5P8jMzMxsArQ/MDMzM5N4uD/HzMzMjEu3P2FmZmYmba4/MDMzM7P1uD/IzMzMbN+7PwAAAAAABLU/LTMzMxORtj9iZmZmBrq5P/3///9fr7M/4xzPGiuSvz/GzMzMrIC7Pw==",
          "dtype": "f8"
         },
         "yaxis": "y4"
        },
        {
         "name": "soft pop",
         "showlegend": false,
         "type": "box",
         "xaxis": "x4",
         "y": {
          "bdata": "ZmZmZmbHvz//////r8fJPy4zMzPzk7M/mpmZmZkXqz8xMzMzc/a0PzMzMzMzha8/+////5+evT9mZmZmZoqoPy0zMzMTRrg/k5mZmXk+tD/+////P3CtP2BmZmZGKrc/ZGZmZsbluj//////Hyu0P8rMzMwsmro/+////59nsD9lZmZmFknAP8fMzMyMoLQ/LzMzM9ObvD8zMzMzQ7LBP5OZmZl5ZLI/k5mZmXknuj9kZmZmxuW6Py0zMzMTRrg/MjMzM1M4tj+amZmZmUK7P/7///+/dsE/l5mZmfkxtT/MzMzM7NyzPzAzMzOTZrE/YWZmZiYrtT9lZmZmlpbBPywzMzMzlKg/MDMzM7P0vj8=",
          "dtype": "f8"
         },
         "yaxis": "y4"
        },
        {
         "name": "new age",
         "showlegend": false,
         "type": "box",
         "xaxis": "x4",
         "y": {
          "bdata": "Y2ZmZua8sD8AAAAAANqoP5KZmZmZLqQ/x8zMzIxxrT8AAAAAAA6oPy4zMzPz26k/x8zMzIyvrD+YmZmZ2RmmP5mZmZm5yLI/xMzMzAxWqj8zMzMzMyeoP/X///9/zao/kpmZmZk6pT/+////P4CrP/v///+/WqM/YWZmZiZlrD+UmZmZWXapP/z///9/kqk/lpmZmRlWrz+RmZmZ2cStP8TMzMwMVqo/lJmZmVliqz/NzMzMzISsP8nMzMxMZag/iJmZmRm4nz/7////v0auP19mZmZm+6o/ZmZmZmaMrj8sMzMzM3amP5qZmZmZW6M/Y2ZmZuZwpD/LzMzMDCGpP2FmZmYmS60/",
          "dtype": "f8"
         },
         "yaxis": "y4"
        }
       ],
       "layout": {
        "annotations": [
         {
          "font": {
           "size": 16
          },
          "showarrow": false,
          "text": "Tempo",
          "x": 0.225,
          "xanchor": "center",
          "xref": "paper",
          "y": 1,
          "yanchor": "bottom",
          "yref": "paper"
         },
         {
          "font": {
           "size": 16
          },
          "showarrow": false,
          "text": "Rms Mean",
          "x": 0.775,
          "xanchor": "center",
          "xref": "paper",
          "y": 1,
          "yanchor": "bottom",
          "yref": "paper"
         },
         {
          "font": {
           "size": 16
          },
          "showarrow": false,
          "text": "Spec Centroid Mean",
          "x": 0.225,
          "xanchor": "center",
          "xref": "paper",
          "y": 0.44,
          "yanchor": "bottom",
          "yref": "paper"
         },
         {
          "font": {
           "size": 16
          },
          "showarrow": false,
          "text": "Zero Crossing Mean",
          "x": 0.775,
          "xanchor": "center",
          "xref": "paper",
          "y": 0.44,
          "yanchor": "bottom",
          "yref": "paper"
         }
        ],
        "height": 800,
        "showlegend": true,
        "template": {
         "data": {
          "bar": [
           {
            "error_x": {
             "color": "#2a3f5f"
            },
            "error_y": {
             "color": "#2a3f5f"
            },
            "marker": {
             "line": {
              "color": "#E5ECF6",
              "width": 0.5
             },
             "pattern": {
              "fillmode": "overlay",
              "size": 10,
              "solidity": 0.2
             }
            },
            "type": "bar"
           }
          ],
          "barpolar": [
           {
            "marker": {
             "line": {
              "color": "#E5ECF6",
              "width": 0.5
             },
             "pattern": {
              "fillmode": "overlay",
              "size": 10,
              "solidity": 0.2
             }
            },
            "type": "barpolar"
           }
          ],
          "carpet": [
           {
            "aaxis": {
             "endlinecolor": "#2a3f5f",
             "gridcolor": "white",
             "linecolor": "white",
             "minorgridcolor": "white",
             "startlinecolor": "#2a3f5f"
            },
            "baxis": {
             "endlinecolor": "#2a3f5f",
             "gridcolor": "white",
             "linecolor": "white",
             "minorgridcolor": "white",
             "startlinecolor": "#2a3f5f"
            },
            "type": "carpet"
           }
          ],
          "choropleth": [
           {
            "colorbar": {
             "outlinewidth": 0,
             "ticks": ""
            },
            "type": "choropleth"
           }
          ],
          "contour": [
           {
            "colorbar": {
             "outlinewidth": 0,
             "ticks": ""
            },
            "colorscale": [
             [
              0,
              "#0d0887"
             ],
             [
              0.1111111111111111,
              "#46039f"
             ],
             [
              0.2222222222222222,
              "#7201a8"
             ],
             [
              0.3333333333333333,
              "#9c179e"
             ],
             [
              0.4444444444444444,
              "#bd3786"
             ],
             [
              0.5555555555555556,
              "#d8576b"
             ],
             [
              0.6666666666666666,
              "#ed7953"
             ],
             [
              0.7777777777777778,
              "#fb9f3a"
             ],
             [
              0.8888888888888888,
              "#fdca26"
             ],
             [
              1,
              "#f0f921"
             ]
            ],
            "type": "contour"
           }
          ],
          "contourcarpet": [
           {
            "colorbar": {
             "outlinewidth": 0,
             "ticks": ""
            },
            "type": "contourcarpet"
           }
          ],
          "heatmap": [
           {
            "colorbar": {
             "outlinewidth": 0,
             "ticks": ""
            },
            "colorscale": [
             [
              0,
              "#0d0887"
             ],
             [
              0.1111111111111111,
              "#46039f"
             ],
             [
              0.2222222222222222,
              "#7201a8"
             ],
             [
              0.3333333333333333,
              "#9c179e"
             ],
             [
              0.4444444444444444,
              "#bd3786"
             ],
             [
              0.5555555555555556,
              "#d8576b"
             ],
             [
              0.6666666666666666,
              "#ed7953"
             ],
             [
              0.7777777777777778,
              "#fb9f3a"
             ],
             [
              0.8888888888888888,
              "#fdca26"
             ],
             [
              1,
              "#f0f921"
             ]
            ],
            "type": "heatmap"
           }
          ],
          "histogram": [
           {
            "marker": {
             "pattern": {
              "fillmode": "overlay",
              "size": 10,
              "solidity": 0.2
             }
            },
            "type": "histogram"
           }
          ],
          "histogram2d": [
           {
            "colorbar": {
             "outlinewidth": 0,
             "ticks": ""
            },
            "colorscale": [
             [
              0,
              "#0d0887"
             ],
             [
              0.1111111111111111,
              "#46039f"
             ],
             [
              0.2222222222222222,
              "#7201a8"
             ],
             [
              0.3333333333333333,
              "#9c179e"
             ],
             [
              0.4444444444444444,
              "#bd3786"
             ],
             [
              0.5555555555555556,
              "#d8576b"
             ],
             [
              0.6666666666666666,
              "#ed7953"
             ],
             [
              0.7777777777777778,
              "#fb9f3a"
             ],
             [
              0.8888888888888888,
              "#fdca26"
             ],
             [
              1,
              "#f0f921"
             ]
            ],
            "type": "histogram2d"
           }
          ],
          "histogram2dcontour": [
           {
            "colorbar": {
             "outlinewidth": 0,
             "ticks": ""
            },
            "colorscale": [
             [
              0,
              "#0d0887"
             ],
             [
              0.1111111111111111,
              "#46039f"
             ],
             [
              0.2222222222222222,
              "#7201a8"
             ],
             [
              0.3333333333333333,
              "#9c179e"
             ],
             [
              0.4444444444444444,
              "#bd3786"
             ],
             [
              0.5555555555555556,
              "#d8576b"
             ],
             [
              0.6666666666666666,
              "#ed7953"
             ],
             [
              0.7777777777777778,
              "#fb9f3a"
             ],
             [
              0.8888888888888888,
              "#fdca26"
             ],
             [
              1,
              "#f0f921"
             ]
            ],
            "type": "histogram2dcontour"
           }
          ],
          "mesh3d": [
           {
            "colorbar": {
             "outlinewidth": 0,
             "ticks": ""
            },
            "type": "mesh3d"
           }
          ],
          "parcoords": [
           {
            "line": {
             "colorbar": {
              "outlinewidth": 0,
              "ticks": ""
             }
            },
            "type": "parcoords"
           }
          ],
          "pie": [
           {
            "automargin": true,
            "type": "pie"
           }
          ],
          "scatter": [
           {
            "fillpattern": {
             "fillmode": "overlay",
             "size": 10,
             "solidity": 0.2
            },
            "type": "scatter"
           }
          ],
          "scatter3d": [
           {
            "line": {
             "colorbar": {
              "outlinewidth": 0,
              "ticks": ""
             }
            },
            "marker": {
             "colorbar": {
              "outlinewidth": 0,
              "ticks": ""
             }
            },
            "type": "scatter3d"
           }
          ],
          "scattercarpet": [
           {
            "marker": {
             "colorbar": {
              "outlinewidth": 0,
              "ticks": ""
             }
            },
            "type": "scattercarpet"
           }
          ],
          "scattergeo": [
           {
            "marker": {
             "colorbar": {
              "outlinewidth": 0,
              "ticks": ""
             }
            },
            "type": "scattergeo"
           }
          ],
          "scattergl": [
           {
            "marker": {
             "colorbar": {
              "outlinewidth": 0,
              "ticks": ""
             }
            },
            "type": "scattergl"
           }
          ],
          "scattermap": [
           {
            "marker": {
             "colorbar": {
              "outlinewidth": 0,
              "ticks": ""
             }
            },
            "type": "scattermap"
           }
          ],
          "scattermapbox": [
           {
            "marker": {
             "colorbar": {
              "outlinewidth": 0,
              "ticks": ""
             }
            },
            "type": "scattermapbox"
           }
          ],
          "scatterpolar": [
           {
            "marker": {
             "colorbar": {
              "outlinewidth": 0,
              "ticks": ""
             }
            },
            "type": "scatterpolar"
           }
          ],
          "scatterpolargl": [
           {
            "marker": {
             "colorbar": {
              "outlinewidth": 0,
              "ticks": ""
             }
            },
            "type": "scatterpolargl"
           }
          ],
          "scatterternary": [
           {
            "marker": {
             "colorbar": {
              "outlinewidth": 0,
              "ticks": ""
             }
            },
            "type": "scatterternary"
           }
          ],
          "surface": [
           {
            "colorbar": {
             "outlinewidth": 0,
             "ticks": ""
            },
            "colorscale": [
             [
              0,
              "#0d0887"
             ],
             [
              0.1111111111111111,
              "#46039f"
             ],
             [
              0.2222222222222222,
              "#7201a8"
             ],
             [
              0.3333333333333333,
              "#9c179e"
             ],
             [
              0.4444444444444444,
              "#bd3786"
             ],
             [
              0.5555555555555556,
              "#d8576b"
             ],
             [
              0.6666666666666666,
              "#ed7953"
             ],
             [
              0.7777777777777778,
              "#fb9f3a"
             ],
             [
              0.8888888888888888,
              "#fdca26"
             ],
             [
              1,
              "#f0f921"
             ]
            ],
            "type": "surface"
           }
          ],
          "table": [
           {
            "cells": {
             "fill": {
              "color": "#EBF0F8"
             },
             "line": {
              "color": "white"
             }
            },
            "header": {
             "fill": {
              "color": "#C8D4E3"
             },
             "line": {
              "color": "white"
             }
            },
            "type": "table"
           }
          ]
         },
         "layout": {
          "annotationdefaults": {
           "arrowcolor": "#2a3f5f",
           "arrowhead": 0,
           "arrowwidth": 1
          },
          "autotypenumbers": "strict",
          "coloraxis": {
           "colorbar": {
            "outlinewidth": 0,
            "ticks": ""
           }
          },
          "colorscale": {
           "diverging": [
            [
             0,
             "#8e0152"
            ],
            [
             0.1,
             "#c51b7d"
            ],
            [
             0.2,
             "#de77ae"
            ],
            [
             0.3,
             "#f1b6da"
            ],
            [
             0.4,
             "#fde0ef"
            ],
            [
             0.5,
             "#f7f7f7"
            ],
            [
             0.6,
             "#e6f5d0"
            ],
            [
             0.7,
             "#b8e186"
            ],
            [
             0.8,
             "#7fbc41"
            ],
            [
             0.9,
             "#4d9221"
            ],
            [
             1,
             "#276419"
            ]
           ],
           "sequential": [
            [
             0,
             "#0d0887"
            ],
            [
             0.1111111111111111,
             "#46039f"
            ],
            [
             0.2222222222222222,
             "#7201a8"
            ],
            [
             0.3333333333333333,
             "#9c179e"
            ],
            [
             0.4444444444444444,
             "#bd3786"
            ],
            [
             0.5555555555555556,
             "#d8576b"
            ],
            [
             0.6666666666666666,
             "#ed7953"
            ],
            [
             0.7777777777777778,
             "#fb9f3a"
            ],
            [
             0.8888888888888888,
             "#fdca26"
            ],
            [
             1,
             "#f0f921"
            ]
           ],
           "sequentialminus": [
            [
             0,
             "#0d0887"
            ],
            [
             0.1111111111111111,
             "#46039f"
            ],
            [
             0.2222222222222222,
             "#7201a8"
            ],
            [
             0.3333333333333333,
             "#9c179e"
            ],
            [
             0.4444444444444444,
             "#bd3786"
            ],
            [
             0.5555555555555556,
             "#d8576b"
            ],
            [
             0.6666666666666666,
             "#ed7953"
            ],
            [
             0.7777777777777778,
             "#fb9f3a"
            ],
            [
             0.8888888888888888,
             "#fdca26"
            ],
            [
             1,
             "#f0f921"
            ]
           ]
          },
          "colorway": [
           "#636efa",
           "#EF553B",
           "#00cc96",
           "#ab63fa",
           "#FFA15A",
           "#19d3f3",
           "#FF6692",
           "#B6E880",
           "#FF97FF",
           "#FECB52"
          ],
          "font": {
           "color": "#2a3f5f"
          },
          "geo": {
           "bgcolor": "white",
           "lakecolor": "white",
           "landcolor": "#E5ECF6",
           "showlakes": true,
           "showland": true,
           "subunitcolor": "white"
          },
          "hoverlabel": {
           "align": "left"
          },
          "hovermode": "closest",
          "mapbox": {
           "style": "light"
          },
          "paper_bgcolor": "white",
          "plot_bgcolor": "#E5ECF6",
          "polar": {
           "angularaxis": {
            "gridcolor": "white",
            "linecolor": "white",
            "ticks": ""
           },
           "bgcolor": "#E5ECF6",
           "radialaxis": {
            "gridcolor": "white",
            "linecolor": "white",
            "ticks": ""
           }
          },
          "scene": {
           "xaxis": {
            "backgroundcolor": "#E5ECF6",
            "gridcolor": "white",
            "gridwidth": 2,
            "linecolor": "white",
            "showbackground": true,
            "ticks": "",
            "zerolinecolor": "white"
           },
           "yaxis": {
            "backgroundcolor": "#E5ECF6",
            "gridcolor": "white",
            "gridwidth": 2,
            "linecolor": "white",
            "showbackground": true,
            "ticks": "",
            "zerolinecolor": "white"
           },
           "zaxis": {
            "backgroundcolor": "#E5ECF6",
            "gridcolor": "white",
            "gridwidth": 2,
            "linecolor": "white",
            "showbackground": true,
            "ticks": "",
            "zerolinecolor": "white"
           }
          },
          "shapedefaults": {
           "line": {
            "color": "#2a3f5f"
           }
          },
          "ternary": {
           "aaxis": {
            "gridcolor": "white",
            "linecolor": "white",
            "ticks": ""
           },
           "baxis": {
            "gridcolor": "white",
            "linecolor": "white",
            "ticks": ""
           },
           "bgcolor": "#E5ECF6",
           "caxis": {
            "gridcolor": "white",
            "linecolor": "white",
            "ticks": ""
           }
          },
          "title": {
           "x": 0.05
          },
          "xaxis": {
           "automargin": true,
           "gridcolor": "white",
           "linecolor": "white",
           "ticks": "",
           "title": {
            "standoff": 15
           },
           "zerolinecolor": "white",
           "zerolinewidth": 2
          },
          "yaxis": {
           "automargin": true,
           "gridcolor": "white",
           "linecolor": "white",
           "ticks": "",
           "title": {
            "standoff": 15
           },
           "zerolinecolor": "white",
           "zerolinewidth": 2
          }
         }
        },
        "title": {
         "text": "Distribution of Key Audio Features Across Top 10 Genres"
        },
        "xaxis": {
         "anchor": "y",
         "domain": [
          0,
          0.45
         ]
        },
        "xaxis2": {
         "anchor": "y2",
         "domain": [
          0.55,
          1
         ]
        },
        "xaxis3": {
         "anchor": "y3",
         "domain": [
          0,
          0.45
         ]
        },
        "xaxis4": {
         "anchor": "y4",
         "domain": [
          0.55,
          1
         ]
        },
        "yaxis": {
         "anchor": "x",
         "domain": [
          0.56,
          1
         ]
        },
        "yaxis2": {
         "anchor": "x2",
         "domain": [
          0.56,
          1
         ]
        },
        "yaxis3": {
         "anchor": "x3",
         "domain": [
          0,
          0.44
         ]
        },
        "yaxis4": {
         "anchor": "x4",
         "domain": [
          0,
          0.44
         ]
        }
       }
      }
     },
     "metadata": {},
     "output_type": "display_data"
    },
    {
     "name": "stdout",
     "output_type": "stream",
     "text": [
      "\n",
      "Statistical Significance Tests (ANOVA):\n",
      "Testing if feature means differ significantly across genres\n",
      "\n",
      "  tempo                    : F =     5.10, p = 5.18e-12 ***\n",
      "  rms_mean                 : F =    21.88, p = 3.88e-67 ***\n",
      "  spec_centroid_mean       : F =    96.85, p = 5.45e-249 ***\n",
      "  zero_crossing_mean       : F =    60.53, p = 2.71e-172 ***\n",
      "\n",
      "  Significance codes: *** p<0.001, ** p<0.01, * p<0.05, n.s. = not significant\n",
      "  \u2192 All features with p < 0.05 are discriminative for genre classification\n"
     ]
    }
   ],
   "source": [
    "# Visualization 3: Feature Distributions by Genre\n",
    "print(f\"\\n{'='*70}\")\n",
    "print(f\"VISUALIZATION 3: FEATURE DISTRIBUTIONS BY GENRE\")\n",
    "print(f\"{'='*70}\\n\")\n",
    "\n",
    "# Select a few key features that are likely to differ by genre\n",
    "key_features = ['tempo', 'rms_mean', 'spec_centroid_mean', 'zero_crossing_mean']\n",
    "\n",
    "# Create subplots\n",
    "fig_features = make_subplots(\n",
    "    rows=2, cols=2,\n",
    "    subplot_titles=[f'{feat.replace(\"_\", \" \").title()}' for feat in key_features],\n",
    "    vertical_spacing=0.12,\n",
    "    horizontal_spacing=0.10\n",
    ")\n",
    "\n",
    "# Add box plots for each feature\n",
    "for idx, feature in enumerate(key_features):\n",
    "    row = idx // 2 + 1\n",
    "    col = idx % 2 + 1\n",
    "    \n",
    "    # Get top 10 genres by count for cleaner visualization\n",
    "    top_genres = df_tracks_filtered['genre'].value_counts().head(10).index\n",
    "    df_plot = df_tracks_filtered[df_tracks_filtered['genre'].isin(top_genres)]\n",
    "    \n",
    "    for genre in top_genres:\n",
    "        genre_data = df_plot[df_plot['genre'] == genre][feature]\n",
    "        fig_features.add_trace(\n",
    "            go.Box(y=genre_data, name=genre, showlegend=(idx == 0)),\n",
    "            row=row, col=col\n",
    "        )\n",
    "\n",
    "fig_features.update_layout(\n",
    "    height=800,\n",
    "    title_text=\"Distribution of Key Audio Features Across Top 10 Genres\",\n",
    "    showlegend=True\n",
    ")\n",
    "\n",
    "fig_features.show()\n",
    "\n",
    "# Statistical comparison: ANOVA to test if features differ significantly across genres\n",
    "from scipy import stats\n",
    "\n",
    "print(f\"\\nStatistical Significance Tests (ANOVA):\")\n",
    "print(f\"Testing if feature means differ significantly across genres\\n\")\n",
    "\n",
    "for feature in key_features:\n",
    "    # Get data for each genre\n",
    "    genre_groups = [df_tracks_filtered[df_tracks_filtered['genre'] == g][feature].values \n",
    "                   for g in df_tracks_filtered['genre'].unique()]\n",
    "    \n",
    "    # Perform one-way ANOVA\n",
    "    f_stat, p_value = stats.f_oneway(*genre_groups)\n",
    "    \n",
    "    significance = \"***\" if p_value < 0.001 else \"**\" if p_value < 0.01 else \"*\" if p_value < 0.05 else \"n.s.\"\n",
    "    \n",
    "    print(f\"  {feature:25s}: F = {f_stat:8.2f}, p = {p_value:.2e} {significance}\")\n",
    "\n",
    "print(f\"\\n  Significance codes: *** p<0.001, ** p<0.01, * p<0.05, n.s. = not significant\")\n",
    "print(f\"  \u2192 All features with p < 0.05 are discriminative for genre classification\")"
   ]
  },
  {
   "cell_type": "markdown",
   "id": "3b1a6f6a",
   "metadata": {},
   "source": [
    "**Interpretation**: The box plots reveal how different genres exhibit distinct audio characteristics:\n",
    "\n",
    "- **Tempo**: Shows variation across genres\n",
    "  - Electronic genres (EDM, lo-fi) may cluster at different tempos\n",
    "  - Worship music might have slower, more consistent tempos\n",
    "  - Rap/hip-hop might show distinctive rhythm patterns\n",
    "\n",
    "- **RMS Mean (Loudness)**: Indicates average energy\n",
    "  - Aggressive genres (rap, drill) typically have higher RMS\n",
    "  - Ambient genres (lo-fi, new age) tend to be quieter\n",
    "  - Compressed modern pop has high, consistent RMS\n",
    "\n",
    "- **Spectral Centroid (Brightness)**: Measures frequency content\n",
    "  - Genres with more high-frequency content have higher centroids\n",
    "  - Traditional music with acoustic instruments differs from electronic genres\n",
    "  - Can distinguish \"bright\" vs. \"dark\" sounding music\n",
    "\n",
    "- **Zero Crossing Rate (Noisiness)**: Indicates percussive/noisy content\n",
    "  - Genres with more percussion show higher rates\n",
    "  - Smooth, melodic genres have lower rates\n",
    "\n",
    "**ANOVA Results**: The F-statistic and p-values tell us whether feature means differ significantly across genres. Low p-values (< 0.05) indicate that the feature is **discriminative** - it helps distinguish genres. This validates that our audio features contain genre-relevant information.\n",
    "\n",
    "#### 4.6.4 Feature Scale Comparison"
   ]
  },
  {
   "cell_type": "code",
   "execution_count": 20,
   "id": "a3d68d85",
   "metadata": {},
   "outputs": [
    {
     "name": "stdout",
     "output_type": "stream",
     "text": [
      "\n",
      "======================================================================\n",
      "VISUALIZATION 4: FEATURE SCALE COMPARISON\n",
      "======================================================================\n",
      "\n",
      "Feature Scale Statistics (sorted by range):\n",
      "\n",
      "                            mean          std         min          max        range\n",
      "spec_rolloff_mean    4580.772533  1496.424815  414.270229  8490.920506  8076.650276\n",
      "spec_centroid_mean   2109.960969   623.431686  331.677720  3862.020786  3530.343066\n",
      "spec_bandwidth_mean  2367.141892   497.285480  461.619620  3395.134303  2933.514683\n",
      "spec_rolloff_std     1444.565732   534.822360  167.355840  2960.593704  2793.237865\n",
      "spec_centroid_std     652.977055   273.894725   98.575667  1862.849870  1764.274203\n",
      "spec_bandwidth_std    403.509735   141.639877   76.803617   994.057131   917.253514\n",
      "tempo                 119.211348    27.635939   33.558239   234.907670   201.349432\n",
      "beat_tempo            119.211348    27.635939   33.558239   234.907670   201.349432\n",
      "beat_count             55.178660    14.945308   11.000000   115.000000   104.000000\n",
      "duration               28.691234     3.116774   14.788027    29.713016    14.924989\n",
      "rms_mean                0.254632     0.067894    0.036279     0.543253     0.506974\n",
      "rms_std                 0.077285     0.032351    0.017982     0.216880     0.198898\n",
      "zero_crossing_mean      0.084554     0.030771    0.007801     0.201406     0.193606\n",
      "zero_crossing_std       0.041977     0.021246    0.004415     0.140390     0.135975\n"
     ]
    },
    {
     "data": {
      "application/vnd.plotly.v1+json": {
       "config": {
        "plotlyServerURL": "https://plot.ly"
       },
       "data": [
        {
         "marker": {
          "color": "indianred"
         },
         "name": "Range (max - min)",
         "type": "bar",
         "x": [
          "spec_rolloff_mean",
          "spec_centroid_mean",
          "spec_bandwidth_mean",
          "spec_rolloff_std",
          "spec_centroid_std",
          "spec_bandwidth_std",
          "tempo",
          "beat_tempo",
          "beat_count",
          "duration",
          "rms_mean",
          "rms_std",
          "zero_crossing_mean",
          "zero_crossing_std"
         ],
         "y": {
          "bdata": "AACAeKaMv0Dy61emr5SrQMZejYQH66ZAMyFhyXnSpUDCmprIGJGbQJFGPzIHqoxAu+iiiy4raUC76KKLLitpQAAAAAAAAFpAJg0qHZjZLUAAAAD0IDngPwAAAPB7dck/NDMzMxPIyD/TQW0LnWfBPw==",
          "dtype": "f8"
         }
        }
       ],
       "layout": {
        "height": 500,
        "template": {
         "data": {
          "bar": [
           {
            "error_x": {
             "color": "#2a3f5f"
            },
            "error_y": {
             "color": "#2a3f5f"
            },
            "marker": {
             "line": {
              "color": "#E5ECF6",
              "width": 0.5
             },
             "pattern": {
              "fillmode": "overlay",
              "size": 10,
              "solidity": 0.2
             }
            },
            "type": "bar"
           }
          ],
          "barpolar": [
           {
            "marker": {
             "line": {
              "color": "#E5ECF6",
              "width": 0.5
             },
             "pattern": {
              "fillmode": "overlay",
              "size": 10,
              "solidity": 0.2
             }
            },
            "type": "barpolar"
           }
          ],
          "carpet": [
           {
            "aaxis": {
             "endlinecolor": "#2a3f5f",
             "gridcolor": "white",
             "linecolor": "white",
             "minorgridcolor": "white",
             "startlinecolor": "#2a3f5f"
            },
            "baxis": {
             "endlinecolor": "#2a3f5f",
             "gridcolor": "white",
             "linecolor": "white",
             "minorgridcolor": "white",
             "startlinecolor": "#2a3f5f"
            },
            "type": "carpet"
           }
          ],
          "choropleth": [
           {
            "colorbar": {
             "outlinewidth": 0,
             "ticks": ""
            },
            "type": "choropleth"
           }
          ],
          "contour": [
           {
            "colorbar": {
             "outlinewidth": 0,
             "ticks": ""
            },
            "colorscale": [
             [
              0,
              "#0d0887"
             ],
             [
              0.1111111111111111,
              "#46039f"
             ],
             [
              0.2222222222222222,
              "#7201a8"
             ],
             [
              0.3333333333333333,
              "#9c179e"
             ],
             [
              0.4444444444444444,
              "#bd3786"
             ],
             [
              0.5555555555555556,
              "#d8576b"
             ],
             [
              0.6666666666666666,
              "#ed7953"
             ],
             [
              0.7777777777777778,
              "#fb9f3a"
             ],
             [
              0.8888888888888888,
              "#fdca26"
             ],
             [
              1,
              "#f0f921"
             ]
            ],
            "type": "contour"
           }
          ],
          "contourcarpet": [
           {
            "colorbar": {
             "outlinewidth": 0,
             "ticks": ""
            },
            "type": "contourcarpet"
           }
          ],
          "heatmap": [
           {
            "colorbar": {
             "outlinewidth": 0,
             "ticks": ""
            },
            "colorscale": [
             [
              0,
              "#0d0887"
             ],
             [
              0.1111111111111111,
              "#46039f"
             ],
             [
              0.2222222222222222,
              "#7201a8"
             ],
             [
              0.3333333333333333,
              "#9c179e"
             ],
             [
              0.4444444444444444,
              "#bd3786"
             ],
             [
              0.5555555555555556,
              "#d8576b"
             ],
             [
              0.6666666666666666,
              "#ed7953"
             ],
             [
              0.7777777777777778,
              "#fb9f3a"
             ],
             [
              0.8888888888888888,
              "#fdca26"
             ],
             [
              1,
              "#f0f921"
             ]
            ],
            "type": "heatmap"
           }
          ],
          "histogram": [
           {
            "marker": {
             "pattern": {
              "fillmode": "overlay",
              "size": 10,
              "solidity": 0.2
             }
            },
            "type": "histogram"
           }
          ],
          "histogram2d": [
           {
            "colorbar": {
             "outlinewidth": 0,
             "ticks": ""
            },
            "colorscale": [
             [
              0,
              "#0d0887"
             ],
             [
              0.1111111111111111,
              "#46039f"
             ],
             [
              0.2222222222222222,
              "#7201a8"
             ],
             [
              0.3333333333333333,
              "#9c179e"
             ],
             [
              0.4444444444444444,
              "#bd3786"
             ],
             [
              0.5555555555555556,
              "#d8576b"
             ],
             [
              0.6666666666666666,
              "#ed7953"
             ],
             [
              0.7777777777777778,
              "#fb9f3a"
             ],
             [
              0.8888888888888888,
              "#fdca26"
             ],
             [
              1,
              "#f0f921"
             ]
            ],
            "type": "histogram2d"
           }
          ],
          "histogram2dcontour": [
           {
            "colorbar": {
             "outlinewidth": 0,
             "ticks": ""
            },
            "colorscale": [
             [
              0,
              "#0d0887"
             ],
             [
              0.1111111111111111,
              "#46039f"
             ],
             [
              0.2222222222222222,
              "#7201a8"
             ],
             [
              0.3333333333333333,
              "#9c179e"
             ],
             [
              0.4444444444444444,
              "#bd3786"
             ],
             [
              0.5555555555555556,
              "#d8576b"
             ],
             [
              0.6666666666666666,
              "#ed7953"
             ],
             [
              0.7777777777777778,
              "#fb9f3a"
             ],
             [
              0.8888888888888888,
              "#fdca26"
             ],
             [
              1,
              "#f0f921"
             ]
            ],
            "type": "histogram2dcontour"
           }
          ],
          "mesh3d": [
           {
            "colorbar": {
             "outlinewidth": 0,
             "ticks": ""
            },
            "type": "mesh3d"
           }
          ],
          "parcoords": [
           {
            "line": {
             "colorbar": {
              "outlinewidth": 0,
              "ticks": ""
             }
            },
            "type": "parcoords"
           }
          ],
          "pie": [
           {
            "automargin": true,
            "type": "pie"
           }
          ],
          "scatter": [
           {
            "fillpattern": {
             "fillmode": "overlay",
             "size": 10,
             "solidity": 0.2
            },
            "type": "scatter"
           }
          ],
          "scatter3d": [
           {
            "line": {
             "colorbar": {
              "outlinewidth": 0,
              "ticks": ""
             }
            },
            "marker": {
             "colorbar": {
              "outlinewidth": 0,
              "ticks": ""
             }
            },
            "type": "scatter3d"
           }
          ],
          "scattercarpet": [
           {
            "marker": {
             "colorbar": {
              "outlinewidth": 0,
              "ticks": ""
             }
            },
            "type": "scattercarpet"
           }
          ],
          "scattergeo": [
           {
            "marker": {
             "colorbar": {
              "outlinewidth": 0,
              "ticks": ""
             }
            },
            "type": "scattergeo"
           }
          ],
          "scattergl": [
           {
            "marker": {
             "colorbar": {
              "outlinewidth": 0,
              "ticks": ""
             }
            },
            "type": "scattergl"
           }
          ],
          "scattermap": [
           {
            "marker": {
             "colorbar": {
              "outlinewidth": 0,
              "ticks": ""
             }
            },
            "type": "scattermap"
           }
          ],
          "scattermapbox": [
           {
            "marker": {
             "colorbar": {
              "outlinewidth": 0,
              "ticks": ""
             }
            },
            "type": "scattermapbox"
           }
          ],
          "scatterpolar": [
           {
            "marker": {
             "colorbar": {
              "outlinewidth": 0,
              "ticks": ""
             }
            },
            "type": "scatterpolar"
           }
          ],
          "scatterpolargl": [
           {
            "marker": {
             "colorbar": {
              "outlinewidth": 0,
              "ticks": ""
             }
            },
            "type": "scatterpolargl"
           }
          ],
          "scatterternary": [
           {
            "marker": {
             "colorbar": {
              "outlinewidth": 0,
              "ticks": ""
             }
            },
            "type": "scatterternary"
           }
          ],
          "surface": [
           {
            "colorbar": {
             "outlinewidth": 0,
             "ticks": ""
            },
            "colorscale": [
             [
              0,
              "#0d0887"
             ],
             [
              0.1111111111111111,
              "#46039f"
             ],
             [
              0.2222222222222222,
              "#7201a8"
             ],
             [
              0.3333333333333333,
              "#9c179e"
             ],
             [
              0.4444444444444444,
              "#bd3786"
             ],
             [
              0.5555555555555556,
              "#d8576b"
             ],
             [
              0.6666666666666666,
              "#ed7953"
             ],
             [
              0.7777777777777778,
              "#fb9f3a"
             ],
             [
              0.8888888888888888,
              "#fdca26"
             ],
             [
              1,
              "#f0f921"
             ]
            ],
            "type": "surface"
           }
          ],
          "table": [
           {
            "cells": {
             "fill": {
              "color": "#EBF0F8"
             },
             "line": {
              "color": "white"
             }
            },
            "header": {
             "fill": {
              "color": "#C8D4E3"
             },
             "line": {
              "color": "white"
             }
            },
            "type": "table"
           }
          ]
         },
         "layout": {
          "annotationdefaults": {
           "arrowcolor": "#2a3f5f",
           "arrowhead": 0,
           "arrowwidth": 1
          },
          "autotypenumbers": "strict",
          "coloraxis": {
           "colorbar": {
            "outlinewidth": 0,
            "ticks": ""
           }
          },
          "colorscale": {
           "diverging": [
            [
             0,
             "#8e0152"
            ],
            [
             0.1,
             "#c51b7d"
            ],
            [
             0.2,
             "#de77ae"
            ],
            [
             0.3,
             "#f1b6da"
            ],
            [
             0.4,
             "#fde0ef"
            ],
            [
             0.5,
             "#f7f7f7"
            ],
            [
             0.6,
             "#e6f5d0"
            ],
            [
             0.7,
             "#b8e186"
            ],
            [
             0.8,
             "#7fbc41"
            ],
            [
             0.9,
             "#4d9221"
            ],
            [
             1,
             "#276419"
            ]
           ],
           "sequential": [
            [
             0,
             "#0d0887"
            ],
            [
             0.1111111111111111,
             "#46039f"
            ],
            [
             0.2222222222222222,
             "#7201a8"
            ],
            [
             0.3333333333333333,
             "#9c179e"
            ],
            [
             0.4444444444444444,
             "#bd3786"
            ],
            [
             0.5555555555555556,
             "#d8576b"
            ],
            [
             0.6666666666666666,
             "#ed7953"
            ],
            [
             0.7777777777777778,
             "#fb9f3a"
            ],
            [
             0.8888888888888888,
             "#fdca26"
            ],
            [
             1,
             "#f0f921"
            ]
           ],
           "sequentialminus": [
            [
             0,
             "#0d0887"
            ],
            [
             0.1111111111111111,
             "#46039f"
            ],
            [
             0.2222222222222222,
             "#7201a8"
            ],
            [
             0.3333333333333333,
             "#9c179e"
            ],
            [
             0.4444444444444444,
             "#bd3786"
            ],
            [
             0.5555555555555556,
             "#d8576b"
            ],
            [
             0.6666666666666666,
             "#ed7953"
            ],
            [
             0.7777777777777778,
             "#fb9f3a"
            ],
            [
             0.8888888888888888,
             "#fdca26"
            ],
            [
             1,
             "#f0f921"
            ]
           ]
          },
          "colorway": [
           "#636efa",
           "#EF553B",
           "#00cc96",
           "#ab63fa",
           "#FFA15A",
           "#19d3f3",
           "#FF6692",
           "#B6E880",
           "#FF97FF",
           "#FECB52"
          ],
          "font": {
           "color": "#2a3f5f"
          },
          "geo": {
           "bgcolor": "white",
           "lakecolor": "white",
           "landcolor": "#E5ECF6",
           "showlakes": true,
           "showland": true,
           "subunitcolor": "white"
          },
          "hoverlabel": {
           "align": "left"
          },
          "hovermode": "closest",
          "mapbox": {
           "style": "light"
          },
          "paper_bgcolor": "white",
          "plot_bgcolor": "#E5ECF6",
          "polar": {
           "angularaxis": {
            "gridcolor": "white",
            "linecolor": "white",
            "ticks": ""
           },
           "bgcolor": "#E5ECF6",
           "radialaxis": {
            "gridcolor": "white",
            "linecolor": "white",
            "ticks": ""
           }
          },
          "scene": {
           "xaxis": {
            "backgroundcolor": "#E5ECF6",
            "gridcolor": "white",
            "gridwidth": 2,
            "linecolor": "white",
            "showbackground": true,
            "ticks": "",
            "zerolinecolor": "white"
           },
           "yaxis": {
            "backgroundcolor": "#E5ECF6",
            "gridcolor": "white",
            "gridwidth": 2,
            "linecolor": "white",
            "showbackground": true,
            "ticks": "",
            "zerolinecolor": "white"
           },
           "zaxis": {
            "backgroundcolor": "#E5ECF6",
            "gridcolor": "white",
            "gridwidth": 2,
            "linecolor": "white",
            "showbackground": true,
            "ticks": "",
            "zerolinecolor": "white"
           }
          },
          "shapedefaults": {
           "line": {
            "color": "#2a3f5f"
           }
          },
          "ternary": {
           "aaxis": {
            "gridcolor": "white",
            "linecolor": "white",
            "ticks": ""
           },
           "baxis": {
            "gridcolor": "white",
            "linecolor": "white",
            "ticks": ""
           },
           "bgcolor": "#E5ECF6",
           "caxis": {
            "gridcolor": "white",
            "linecolor": "white",
            "ticks": ""
           }
          },
          "title": {
           "x": 0.05
          },
          "xaxis": {
           "automargin": true,
           "gridcolor": "white",
           "linecolor": "white",
           "ticks": "",
           "title": {
            "standoff": 15
           },
           "zerolinecolor": "white",
           "zerolinewidth": 2
          },
          "yaxis": {
           "automargin": true,
           "gridcolor": "white",
           "linecolor": "white",
           "ticks": "",
           "title": {
            "standoff": 15
           },
           "zerolinecolor": "white",
           "zerolinewidth": 2
          }
         }
        },
        "title": {
         "text": "Feature Scale Ranges (Unnormalized)"
        },
        "xaxis": {
         "tickangle": -45,
         "title": {
          "text": "Feature"
         }
        },
        "yaxis": {
         "title": {
          "text": "Range"
         },
         "type": "log"
        }
       }
      }
     },
     "metadata": {},
     "output_type": "display_data"
    },
    {
     "name": "stdout",
     "output_type": "stream",
     "text": [
      "\n",
      "======================================================================\n",
      "SCALE ANALYSIS\n",
      "======================================================================\n",
      "Largest range:  spec_rolloff_mean         = 8,076.65\n",
      "Smallest range: zero_crossing_std         = 0.135975\n",
      "Scale ratio:    59,398.26:1\n",
      "\n",
      "\u26a0 Features span 59,398\u00d7 different scales!\n",
      "   \u2192 Standardization is ESSENTIAL for Logistic Regression\n",
      "   \u2192 Less critical for tree-based models, but still recommended\n"
     ]
    }
   ],
   "source": [
    "# Visualization 4: Feature Scale Comparison\n",
    "print(f\"\\n{'='*70}\")\n",
    "print(f\"VISUALIZATION 4: FEATURE SCALE COMPARISON\")\n",
    "print(f\"{'='*70}\\n\")\n",
    "\n",
    "# Compute statistics for each feature\n",
    "feature_stats = pd.DataFrame({\n",
    "    'mean': features_for_corr.mean(),\n",
    "    'std': features_for_corr.std(),\n",
    "    'min': features_for_corr.min(),\n",
    "    'max': features_for_corr.max(),\n",
    "    'range': features_for_corr.max() - features_for_corr.min()\n",
    "}).sort_values('range', ascending=False)\n",
    "\n",
    "print(\"Feature Scale Statistics (sorted by range):\\n\")\n",
    "print(feature_stats.to_string())\n",
    "\n",
    "# Visualize the scale differences\n",
    "fig_scales = go.Figure()\n",
    "\n",
    "# Add bars for range\n",
    "fig_scales.add_trace(go.Bar(\n",
    "    name='Range (max - min)',\n",
    "    x=feature_stats.index,\n",
    "    y=feature_stats['range'],\n",
    "    marker_color='indianred'\n",
    "))\n",
    "\n",
    "fig_scales.update_layout(\n",
    "    title='Feature Scale Ranges (Unnormalized)',\n",
    "    xaxis_title='Feature',\n",
    "    yaxis_title='Range',\n",
    "    xaxis_tickangle=-45,\n",
    "    height=500,\n",
    "    yaxis_type='log'  # Log scale to show vast differences\n",
    ")\n",
    "\n",
    "fig_scales.show()\n",
    "\n",
    "# Calculate scale ratios\n",
    "max_range = feature_stats['range'].max()\n",
    "min_range = feature_stats['range'].min()\n",
    "scale_ratio = max_range / min_range\n",
    "\n",
    "print(f\"\\n{'='*70}\")\n",
    "print(f\"SCALE ANALYSIS\")\n",
    "print(f\"{'='*70}\")\n",
    "print(f\"Largest range:  {feature_stats.index[0]:<25s} = {max_range:,.2f}\")\n",
    "print(f\"Smallest range: {feature_stats.index[-1]:<25s} = {min_range:,.6f}\")\n",
    "print(f\"Scale ratio:    {scale_ratio:,.2f}:1\")\n",
    "print(f\"\\n\u26a0 Features span {scale_ratio:,.0f}\u00d7 different scales!\")\n",
    "print(f\"   \u2192 Standardization is ESSENTIAL for Logistic Regression\")\n",
    "print(f\"   \u2192 Less critical for tree-based models, but still recommended\")"
   ]
  },
  {
   "cell_type": "markdown",
   "id": "7bd0145f",
   "metadata": {},
   "source": [
    "**Interpretation**: This visualization starkly illustrates why feature scaling is critical:\n",
    "\n",
    "**The Scale Problem**:\n",
    "- Some features like `spec_bandwidth_mean` span ranges of ~2,500\n",
    "- Others like `zero_crossing_mean` span ranges of ~0.15\n",
    "- This creates a scale difference of potentially 10,000\u00d7 or more!\n",
    "\n",
    "**Why This Matters**:\n",
    "\n",
    "1. **For Distance-Based Models** (k-NN, SVM, etc.):\n",
    "   - Distance calculations are dominated by large-scale features\n",
    "   - Small-scale features become effectively invisible\n",
    "   - Model performance degrades significantly\n",
    "\n",
    "2. **For Regularized Linear Models** (Logistic Regression with L2):\n",
    "   - Regularization penalty $\\lambda \\|\\mathbf{w}\\|^2$ penalizes all weights equally\n",
    "   - But to fit large-scale features, weights must be small\n",
    "   - To fit small-scale features, weights must be large\n",
    "   - Uneven penalties lead to poor regularization\n",
    "\n",
    "3. **For Gradient Descent Optimization**:\n",
    "   - Learning rate must accommodate the largest-scale features\n",
    "   - Small-scale features update too slowly\n",
    "   - Training becomes inefficient and convergence is poor\n",
    "\n",
    "**Standardization Solution**:\n",
    "\n",
    "The StandardScaler transforms each feature to have:\n",
    "$$\n",
    "x'_j = \\frac{x_j - \\mu_j}{\\sigma_j}\n",
    "$$\n",
    "\n",
    "After standardization:\n",
    "- All features have mean $\\mu = 0$\n",
    "- All features have standard deviation $\\sigma = 1$\n",
    "- Scale differences are eliminated\n",
    "- Optimization and modeling become fair and efficient\n",
    "\n",
    "#### 4.6.5 Summary of Feature Analysis\n",
    "\n",
    "**Key Takeaways**:\n",
    "\n",
    "1. \u2713 **Dataset Balance**: Moderate imbalance (38:1 ratio) - manageable but should monitor per-class performance\n",
    "\n",
    "2. \u2713 **Feature Correlations**: Some expected correlations (spectral features, tempo features) but overall features are reasonably independent\n",
    "\n",
    "3. \u2713 **Discriminative Power**: ANOVA confirms features differ significantly across genres - they contain genre-relevant information\n",
    "\n",
    "4. \u2713 **Scale Differences**: Vast scale differences (10,000\u00d7+) confirm the absolute necessity of standardization\n",
    "\n",
    "5. \u2713 **Data Quality**: Features are well-extracted, show expected patterns, and are ready for modeling\n",
    "\n",
    "**We are now confident that**:\n",
    "- Our features are informative for genre classification\n",
    "- Standardization is essential and will be applied\n",
    "- The dataset has sufficient quality and structure for machine learning\n",
    "- We understand potential challenges (class imbalance) and can address them in evaluation"
   ]
  },
  {
   "cell_type": "markdown",
   "id": "a7cabe6f",
   "metadata": {},
   "source": [
    "---\n\n## Section 5: Model Selection and Mathematical Foundations\n\n### 5.1 Overview: Supervised Multi-Class Classification\n\nThis analysis addresses a **supervised multi-class classification** problem where the goal is to predict which of **20 genre families** a music track belongs to, based solely on its **348 audio features** extracted from 30-second preview clips.\n\n#### 5.1.1 Problem Formulation\n\nGiven:\n- **Training data**: $\\mathcal{D} = \\{(\\mathbf{x}_i, y_i)\\}_{i=1}^{N}$ where $N = 1{,}128$ training samples\n- **Feature vectors**: $\\mathbf{x}_i \\in \\mathbb{R}^{348}$ (audio features: MFCC [40], chroma [24], mel spectrogram [256], spectral contrast [14], rhythmic/spectral [14])\n- **Labels**: $y_i \\in \\{0, 1, ..., 19\\}$ (20 genre classes)\n\nObjective:\n- Learn a function $f: \\mathbb{R}^{348} \\rightarrow \\{0, 1, ..., 19\\}$ that accurately predicts genre labels for unseen tracks\n\n#### 5.1.2 Model Selection Strategy\n\nI will train and compare **three different architectures**, each representing distinct approaches to supervised learning:\n\n1. **Logistic Regression** - Linear probabilistic baseline (multinomial extension)\n2. **Random Forest** - Ensemble method using bagging (bootstrap aggregation)\n3. **Gradient Boosting** - Ensemble method using sequential boosting\n\nThese models progress from simple linear assumptions to complex non-linear transformations, allowing systematic comparison of model sophistication versus performance on high-dimensional audio data.\n\n#### 5.1.3 Evaluation Strategy\n\nAll models will be evaluated using:\n- **K-Fold Cross-Validation** (5-fold stratified) on training set for robust performance estimation\n- **Hold-out test set** (15% of data) for final unbiased evaluation\n- **Multiple metrics**: Accuracy, Precision, Recall, F1-Score (macro and weighted averages)\n- **Confusion matrices**: To understand per-genre performance and misclassification patterns\n\nThe **best-performing model** will be selected for deployment in a web application that predicts genres from user-provided song titles.\n\n---\n\n### 5.2 Model 1: Logistic Regression (Multinomial Extension)\n\n#### 5.2.1 Mathematical Foundation\n\n**Logistic Regression** generalizes binary classification to handle multi-class problems using the **softmax function**. For $K = 20$ genre classes, the model learns:\n- Weight matrix: $\\mathbf{W} \\in \\mathbb{R}^{K \\times d}$ where $d = 348$ features\n- Bias vector: $\\mathbf{b} \\in \\mathbb{R}^{K}$\n\n**Probability distribution** over classes given input $\\mathbf{x}$:\n\n$$\nP(y = k | \\mathbf{x}; \\mathbf{W}, \\mathbf{b}) = \\frac{\\exp(\\mathbf{w}_k^T \\mathbf{x} + b_k)}{\\sum_{j=1}^{K} \\exp(\\mathbf{w}_j^T \\mathbf{x} + b_j)} = \\text{softmax}(\\mathbf{W}\\mathbf{x} + \\mathbf{b})_k\n$$\n\nwhere $\\mathbf{w}_k$ is the $k$-th row of $\\mathbf{W}$ (weight vector for class $k$).\n\n**Prediction**: Choose the class with maximum probability:\n\n$$\n\\hat{y} = \\arg\\max_{k} P(y = k | \\mathbf{x})\n$$\n\n#### 5.2.2 Loss Function: Cross-Entropy\n\nThe model is trained by minimizing the **categorical cross-entropy loss**:\n\n$$\n\\mathcal{L}(\\mathbf{W}, \\mathbf{b}) = -\\frac{1}{N} \\sum_{i=1}^{N} \\sum_{k=1}^{K} \\mathbb{1}\\{y_i = k\\} \\log P(y = k | \\mathbf{x}_i; \\mathbf{W}, \\mathbf{b})\n$$\n\nwhere $\\mathbb{1}\\{\\cdot\\}$ is the indicator function (1 if true, 0 if false).\n\n**With L2 regularization** to prevent overfitting:\n\n$$\n\\mathcal{L}_{reg}(\\mathbf{W}, \\mathbf{b}) = \\mathcal{L}(\\mathbf{W}, \\mathbf{b}) + \\lambda \\|\\mathbf{W}\\|_F^2\n$$\n\nwhere $\\|\\mathbf{W}\\|_F$ is the Frobenius norm and $\\lambda$ controls regularization strength.\n\n#### 5.2.3 Optimization\n\nThe model is trained using **gradient descent** or variants (e.g., L-BFGS):\n\n$$\n\\mathbf{W} \\leftarrow \\mathbf{W} - \\eta \\nabla_{\\mathbf{W}} \\mathcal{L}_{reg}\n$$\n\nwhere $\\eta$ is the learning rate.\n\n**Gradient with respect to $\\mathbf{w}_k$**:\n\n$$\n\\nabla_{\\mathbf{w}_k} \\mathcal{L} = \\frac{1}{N} \\sum_{i=1}^{N} \\left( P(y = k | \\mathbf{x}_i) - \\mathbb{1}\\{y_i = k\\} \\right) \\mathbf{x}_i\n$$\n\n#### 5.2.4 Why Logistic Regression?\n\n**Advantages**:\n- Fast training and prediction (linear complexity in features)\n- Provides calibrated probability estimates\n- Interpretable: weights indicate feature importance for each genre\n- Baseline for comparison with non-linear models\n\n**Limitations**:\n- Assumes linear decision boundaries (may underfit complex patterns)\n- Cannot capture feature interactions automatically\n- Sensitive to class imbalance (38:1 ratio in our data)\n- Requires feature scaling (our features span 60,000:1 scale differences)\n\n**Expected Performance**: Will serve as a fast baseline, likely achieving moderate accuracy but may struggle with genres that require non-linear feature combinations.\n\n---\n\n### 5.3 Model 2: Random Forest\n\n#### 5.3.1 Decision Tree Foundation\n\nA **decision tree** recursively partitions the feature space by selecting optimal splits:\n\nAt each node, choose feature $j$ and threshold $t$ to maximize **information gain**:\n\n$$\n\\text{InfoGain}(j, t) = \\text{Impurity}(S) - \\sum_{v \\in \\{L, R\\}} \\frac{|S_v|}{|S|} \\text{Impurity}(S_v)\n$$\n\nwhere $S$ is the current node's samples, $S_L$ and $S_R$ are left and right children after splitting on feature $j$ at threshold $t$.\n\n**Gini Impurity** measures node purity:\n\n$$\n\\text{Gini}(S) = 1 - \\sum_{k=1}^{K} p_k^2\n$$\n\nwhere $p_k = \\frac{1}{|S|}\\sum_{i \\in S} \\mathbb{1}\\{y_i = k\\}$ is the proportion of class $k$ in node $S$.\n\n- Gini = 0: All samples in $S$ belong to one class (pure)\n- Gini = $1 - \\frac{1}{K}$: Classes uniformly distributed (maximum impurity for $K$ classes)\n\n#### 5.3.2 Random Forest Algorithm\n\n**Random Forest** is an ensemble of $T$ decision trees trained with **bagging** (bootstrap aggregation) and **feature randomization**:\n\n**Training** (for each tree $t = 1, ..., T$):\n1. **Bootstrap sample**: Randomly sample $N$ training examples with replacement from $\\mathcal{D}$\n2. **Grow tree**: At each split, randomly select $m = \\sqrt{d} \\approx \\sqrt{348} \\approx 19$ features and find the best split among them\n3. **No pruning**: Grow trees until leaves are pure or contain $< n_{min}$ samples\n\n**Prediction** (majority vote):\n\n$$\n\\hat{y} = \\text{mode}\\{h_1(\\mathbf{x}), h_2(\\mathbf{x}), ..., h_T(\\mathbf{x})\\}\n$$\n\nwhere $h_t(\\mathbf{x})$ is the prediction of tree $t$.\n\n#### 5.3.3 Why Randomness Reduces Overfitting\n\nTwo sources of randomness ensure **diversity** among trees:\n\n1. **Bagging**: Each tree trained on different bootstrap sample (~63% of data, some samples repeated)\n2. **Feature randomization**: Each split considers only $m \\ll d$ random features\n\n**Bias-Variance Tradeoff**:\n- Individual deep trees: Low bias (flexible), high variance (overfit to training data)\n- Averaging predictions: Reduces variance without increasing bias\n- Decorrelated trees via randomness: Maximizes variance reduction\n\n#### 5.3.4 Why Random Forest?\n\n**Advantages**:\n- Captures non-linear patterns and feature interactions naturally\n- Robust to outliers and noise\n- Handles high-dimensional data ($d = 348$) without explicit feature selection\n- Provides feature importance measures (mean decrease in Gini impurity)\n- Little hyperparameter tuning needed\n- Parallel training (trees independent)\n\n**Limitations**:\n- Less interpretable than linear models (black box)\n- Can be slow on very large datasets\n- Still affected by severe class imbalance (38:1 ratio)\n- May require many trees for stable predictions\n\n**Expected Performance**: Should outperform Logistic Regression by capturing non-linear relationships between MFCC, chroma, and spectral features.\n\n---\n\n### 5.4 Model 3: Gradient Boosting\n\n#### 5.4.1 Sequential Ensemble Learning\n\n**Gradient Boosting** builds an ensemble of trees **sequentially**, where each new tree corrects errors of the previous ensemble:\n\n$$\nF_M(\\mathbf{x}) = F_0(\\mathbf{x}) + \\sum_{m=1}^{M} \\nu \\cdot h_m(\\mathbf{x})\n$$\n\nwhere:\n- $M$ = number of boosting stages (trees)\n- $h_m(\\mathbf{x})$ = $m$-th tree (weak learner, typically shallow with depth 3-8)\n- $\\nu \\in (0, 1]$ = learning rate (shrinkage factor to prevent overfitting)\n- $F_0(\\mathbf{x})$ = initial constant prediction\n\n#### 5.4.2 Training Algorithm (Gradient Descent in Function Space)\n\n**Initialize**: Start with constant prediction (e.g., log-odds of most frequent class):\n\n$$\nF_0(\\mathbf{x}) = \\arg\\min_{\\gamma} \\sum_{i=1}^{N} \\mathcal{L}(y_i, \\gamma)\n$$\n\n**For $m = 1$ to $M$**:\n\n1. **Compute pseudo-residuals** (negative gradient of loss w.r.t. current predictions):\n\n$$\nr_{im} = -\\left[\\frac{\\partial \\mathcal{L}(y_i, F(\\mathbf{x}_i))}{\\partial F(\\mathbf{x}_i)}\\right]_{F = F_{m-1}}\n$$\n\nFor multi-class cross-entropy loss, this simplifies to:\n\n$$\nr_{ikm} = \\mathbb{1}\\{y_i = k\\} - P(y = k | \\mathbf{x}_i; F_{m-1})\n$$\n\n(residual = true label - predicted probability for class $k$)\n\n2. **Fit weak learner**: Train a shallow regression tree $h_m$ to predict pseudo-residuals:\n\n$$\nh_m = \\arg\\min_{h} \\sum_{i=1}^{N} (r_{im} - h(\\mathbf{x}_i))^2\n$$\n\n3. **Update ensemble** with learning rate $\\nu$:\n\n$$\nF_m(\\mathbf{x}) = F_{m-1}(\\mathbf{x}) + \\nu \\cdot h_m(\\mathbf{x})\n$$\n\n**Final prediction**: Convert ensemble output to probabilities via softmax:\n\n$$\nP(y = k | \\mathbf{x}) = \\frac{\\exp(F_M^{(k)}(\\mathbf{x}))}{\\sum_{j=1}^{K} \\exp(F_M^{(j)}(\\mathbf{x}))}\n$$\n\n#### 5.4.3 Key Hyperparameters\n\n- `n_estimators`: Number of boosting stages $M$ (more trees = better fit, but risk overfitting)\n- `learning_rate`: $\\nu$ (smaller = more conservative, needs more trees)\n- `max_depth`: Tree depth (3-8 typical; shallow trees prevent overfitting)\n- `subsample`: Fraction of samples per tree (stochastic gradient boosting)\n\n#### 5.4.4 Why Gradient Boosting?\n\n**Advantages**:\n- Often achieves state-of-the-art accuracy on tabular data\n- Adaptive learning: focuses on difficult examples (misclassified tracks)\n- Captures complex interactions and non-linear patterns\n- Efficient with proper regularization (learning rate, tree depth)\n\n**Limitations**:\n- Sensitive to hyperparameters (requires careful tuning)\n- Sequential training (cannot parallelize across trees)\n- Risk of overfitting if $M$ too large or trees too deep\n- Sensitive to class imbalance (may overfit to majority class)\n- Slower training than Random Forest\n\n**Expected Performance**: Likely highest accuracy among the three models if properly tuned, but may struggle with rare genres (e.g., \"amapiano\" with 11 samples).\n\n---\n\n### 5.5 Model Comparison Summary\n\nThe table below summarizes the key differences between our three models:\n\n| Aspect | Logistic Regression | Random Forest | Gradient Boosting |\n|--------|---------------------|---------------|-------------------|\n| **Type** | Discriminative | Discriminative | Discriminative |\n| **Complexity** | Linear | Nonlinear | Nonlinear |\n| **Parameters** | $348 \\times 20 = 6{,}960$ | $T$ trees (100) | $M$ trees (100) |\n| **Training Speed** | Fast | Medium | Slow (sequential) |\n| **Prediction Speed** | Very Fast | Fast | Fast |\n| **Interpretability** | High (weights) | Medium (feature importance) | Low |\n| **Overfitting Risk** | Low (L2 reg) | Medium | High (if not tuned) |\n| **Feature Interactions** | No | Yes (tree splits) | Yes (tree splits) |\n| **Probability Calibration** | Excellent | Good | Good |\n| **Class Imbalance Handling** | Poor | Moderate | Moderate |\n| **Best For** | Fast baseline | General purpose | Maximum accuracy |\n\n**Expected Performance Ranking** (on our 348-feature, 20-genre, 1,612-sample dataset):\n\n1. **Gradient Boosting** (likely highest accuracy if tuned, but risk of overfitting to \"Unknown\")\n2. **Random Forest** (solid performance, robust to overfitting)\n3. **Logistic Regression** (fast baseline, linear limitations)\n\n**Actual performance** will be determined empirically in Section 6 (cross-validation) and Section 7 (test set evaluation).\n\n---\n\n### 5.6 Feature Scaling: Critical Preprocessing\n\nBefore training any model, we **must** standardize our 348 features using z-score normalization:\n\n$$\n\\mathbf{x}'_j = \\frac{\\mathbf{x}_j - \\mu_j}{\\sigma_j}\n$$\n\nwhere $\\mu_j$ and $\\sigma_j$ are the mean and standard deviation of feature $j$ computed **only from the training set** (to prevent data leakage).\n\n**Why This is Essential** (from Section 4.6.4):\n\nOur features span **60,000:1 scale differences**:\n- `spec_rolloff_mean`: 414 to 8,491 Hz (range = 8,077)\n- `zero_crossing_mean`: 0.008 to 0.201 (range = 0.193)\n- Scale ratio: $8{,}077 / 0.193 \\approx 41{,}865:1$\n\n**Without standardization**:\n- **Logistic Regression**: Gradient descent would be dominated by large-scale features, converge slowly, and produce biased weight magnitudes\n- L2 regularization would unfairly penalize weights for small-scale features\n- Distance-based computations would be distorted\n\n**Implementation**:\n```python\nfrom sklearn.preprocessing import StandardScaler\n\nscaler = StandardScaler()\nX_train_scaled = scaler.fit_transform(X_train)      # Fit on training data only\nX_val_scaled = scaler.transform(X_val)              # Apply transformation\nX_test_scaled = scaler.transform(X_test)            # Apply transformation\n```\n\n**Tree-based models** (Random Forest, Gradient Boosting) are **scale-invariant** (use rank-based splits), but we'll standardize for consistency.\n\n---\n\n**Summary of Section 5**: We have defined three models with distinct mathematical foundations:\n\n1. \u2713 **Logistic Regression**: Linear, interpretable, fast baseline\n2. \u2713 **Random Forest**: Nonlinear ensemble, robust, feature importance\n3. \u2713 **Gradient Boosting**: Sequential boosting, highest accuracy potential\n\n**Next Steps** (Section 6): Train all three models using 5-Fold Stratified Cross-Validation, tune hyperparameters, and select the best model for final evaluation."
   ]
  },
  {
   "cell_type": "markdown",
   "id": "6eee5e1a",
   "metadata": {},
   "source": [
    "---\n",
    "\n",
    "## Section 6: Model Training and Cross-Validation\n",
    "\n",
    "### 6.1 Training Strategy Overview\n",
    "\n",
    "In this section, I will train all three models (Logistic Regression, Random Forest, Gradient Boosting) and evaluate their performance using **5-Fold Stratified Cross-Validation** on the training set.\n",
    "\n",
    "**Training Pipeline**:\n",
    "1. **Feature Standardization**: Apply z-score normalization to all 348 features\n",
    "2. **Model Initialization**: Configure each model with appropriate hyperparameters\n",
    "3. **Cross-Validation**: 5-fold stratified CV to estimate generalization performance\n",
    "4. **Validation Set Evaluation**: Assess performance on held-out validation set\n",
    "5. **Best Model Selection**: Choose model with highest validation accuracy for deployment\n",
    "\n",
    "**Why 5-Fold Stratified Cross-Validation?**\n",
    "- **Stratification**: Ensures each fold maintains the same class distribution as the full training set (critical given our 38:1 class imbalance)\n",
    "- **5 folds**: Balances variance reduction (more folds = better estimate) vs. computational cost\n",
    "- **Robust evaluation**: Reduces risk of overfitting to a single validation split\n",
    "\n",
    "### 6.2 Data Preparation: Feature Standardization\n",
    "\n",
    "Before training, we must standardize our 348 features to put them on equal footing (recall from Section 5.6: features span 60,000:1 scale differences)."
   ]
  },
  {
   "cell_type": "code",
   "execution_count": 21,
   "id": "bfb72bae",
   "metadata": {},
   "outputs": [
    {
     "name": "stdout",
     "output_type": "stream",
     "text": [
      "======================================================================\n",
      "SECTION 6.2: FEATURE STANDARDIZATION\n",
      "======================================================================\n",
      "\n",
      "\u2713 Feature standardization complete\n",
      "  Training set:   1,128 samples \u00d7 348 features\n",
      "  Validation set: 242 samples \u00d7 348 features\n",
      "  Test set:       242 samples \u00d7 348 features\n",
      "\n",
      "Standardization verification (training set):\n",
      "  Mean:  min=-0.000000, max=0.000000, avg=-0.000000\n",
      "  Std:   min=1.000000, max=1.000000, avg=1.000000\n",
      "  \u2192 All features now have mean \u2248 0 and std \u2248 1 \u2713\n"
     ]
    }
   ],
   "source": [
    "# ======================================================================\n",
    "# SECTION 6: MODEL TRAINING AND CROSS-VALIDATION\n",
    "# ======================================================================\n",
    "\n",
    "from sklearn.preprocessing import StandardScaler\n",
    "from sklearn.linear_model import LogisticRegression\n",
    "from sklearn.ensemble import RandomForestClassifier, GradientBoostingClassifier\n",
    "from sklearn.model_selection import cross_val_score, StratifiedKFold\n",
    "from sklearn.metrics import accuracy_score, classification_report, confusion_matrix\n",
    "import time\n",
    "\n",
    "print(f\"{'='*70}\")\n",
    "print(f\"SECTION 6.2: FEATURE STANDARDIZATION\")\n",
    "print(f\"{'='*70}\\n\")\n",
    "\n",
    "# Standardize features (fit on training data only to prevent data leakage)\n",
    "scaler = StandardScaler()\n",
    "X_train_scaled = scaler.fit_transform(X_train)\n",
    "X_val_scaled = scaler.transform(X_val)\n",
    "X_test_scaled = scaler.transform(X_test)\n",
    "\n",
    "print(f\"\u2713 Feature standardization complete\")\n",
    "print(f\"  Training set:   {X_train_scaled.shape[0]:,} samples \u00d7 {X_train_scaled.shape[1]} features\")\n",
    "print(f\"  Validation set: {X_val_scaled.shape[0]:,} samples \u00d7 {X_val_scaled.shape[1]} features\")\n",
    "print(f\"  Test set:       {X_test_scaled.shape[0]:,} samples \u00d7 {X_test_scaled.shape[1]} features\")\n",
    "\n",
    "# Verify standardization (mean \u2248 0, std \u2248 1)\n",
    "train_means = X_train_scaled.mean(axis=0)\n",
    "train_stds = X_train_scaled.std(axis=0)\n",
    "\n",
    "print(f\"\\nStandardization verification (training set):\")\n",
    "print(f\"  Mean:  min={train_means.min():.6f}, max={train_means.max():.6f}, avg={train_means.mean():.6f}\")\n",
    "print(f\"  Std:   min={train_stds.min():.6f}, max={train_stds.max():.6f}, avg={train_stds.mean():.6f}\")\n",
    "print(f\"  \u2192 All features now have mean \u2248 0 and std \u2248 1 \u2713\")"
   ]
  },
  {
   "cell_type": "markdown",
   "id": "08f8ef54",
   "metadata": {},
   "source": [
    "### 6.3 Model Initialization\n",
    "\n",
    "I will now initialize all three models with carefully chosen hyperparameters:\n",
    "\n",
    "**1. Logistic Regression**:\n",
    "- `max_iter=1000`: Maximum iterations for convergence\n",
    "- `C=1.0`: Inverse regularization strength (smaller = stronger regularization)\n",
    "- `multi_class='multinomial'`: Use softmax for multi-class classification\n",
    "- `solver='lbfgs'`: Optimization algorithm (efficient for small-medium datasets)\n",
    "- `random_state=42`: For reproducibility\n",
    "\n",
    "**2. Random Forest**:\n",
    "- `n_estimators=100`: Number of trees in the forest\n",
    "- `max_depth=20`: Maximum depth of each tree (prevents overfitting)\n",
    "- `min_samples_split=10`: Minimum samples required to split a node\n",
    "- `max_features='sqrt'`: Number of features to consider at each split (\u221a348 \u2248 19)\n",
    "- `random_state=42`: For reproducibility\n",
    "- `n_jobs=-1`: Use all available CPU cores\n",
    "\n",
    "**3. Gradient Boosting**:\n",
    "- `n_estimators=100`: Number of boosting stages\n",
    "- `learning_rate=0.1`: Shrinkage parameter (smaller = more conservative)\n",
    "- `max_depth=5`: Maximum depth of weak learners (shallow trees prevent overfitting)\n",
    "- `subsample=0.8`: Fraction of samples for each tree (stochastic boosting)\n",
    "- `random_state=42`: For reproducibility\n",
    "\n",
    "### 6.4 5-Fold Stratified Cross-Validation\n",
    "\n",
    "Cross-validation provides a robust estimate of each model's generalization performance by training and evaluating on multiple train/validation splits."
   ]
  },
  {
   "cell_type": "code",
   "execution_count": 22,
   "id": "6977b15b",
   "metadata": {},
   "outputs": [
    {
     "name": "stdout",
     "output_type": "stream",
     "text": [
      "\n",
      "======================================================================\n",
      "SECTION 6.3: MODEL INITIALIZATION\n",
      "======================================================================\n",
      "\n",
      "\u2713 Models initialized:\n",
      "  \u2022 Logistic Regression\n",
      "  \u2022 Random Forest\n",
      "  \u2022 Gradient Boosting\n",
      "\n",
      "======================================================================\n",
      "SECTION 6.4: 5-FOLD STRATIFIED CROSS-VALIDATION\n",
      "======================================================================\n",
      "\n",
      "Running cross-validation for each model...\n",
      "\n",
      "Training Logistic Regression...\n"
     ]
    },
    {
     "name": "stderr",
     "output_type": "stream",
     "text": [
      "/Users/fdeclan/Public/ml_pipeline/.venv/lib/python3.9/site-packages/sklearn/linear_model/_logistic.py:1247: FutureWarning: 'multi_class' was deprecated in version 1.5 and will be removed in 1.7. From then on, it will always use 'multinomial'. Leave it to its default value to avoid this warning.\n",
      "  warnings.warn(\n",
      "/Users/fdeclan/Public/ml_pipeline/.venv/lib/python3.9/site-packages/sklearn/linear_model/_logistic.py:1247: FutureWarning: 'multi_class' was deprecated in version 1.5 and will be removed in 1.7. From then on, it will always use 'multinomial'. Leave it to its default value to avoid this warning.\n",
      "  warnings.warn(\n",
      "/Users/fdeclan/Public/ml_pipeline/.venv/lib/python3.9/site-packages/sklearn/linear_model/_logistic.py:1247: FutureWarning: 'multi_class' was deprecated in version 1.5 and will be removed in 1.7. From then on, it will always use 'multinomial'. Leave it to its default value to avoid this warning.\n",
      "  warnings.warn(\n",
      "/Users/fdeclan/Public/ml_pipeline/.venv/lib/python3.9/site-packages/sklearn/linear_model/_logistic.py:1247: FutureWarning: 'multi_class' was deprecated in version 1.5 and will be removed in 1.7. From then on, it will always use 'multinomial'. Leave it to its default value to avoid this warning.\n",
      "  warnings.warn(\n",
      "/Users/fdeclan/Public/ml_pipeline/.venv/lib/python3.9/site-packages/sklearn/linear_model/_logistic.py:1247: FutureWarning: 'multi_class' was deprecated in version 1.5 and will be removed in 1.7. From then on, it will always use 'multinomial'. Leave it to its default value to avoid this warning.\n",
      "  warnings.warn(\n",
      "/Users/fdeclan/Public/ml_pipeline/.venv/lib/python3.9/site-packages/sklearn/linear_model/_linear_loss.py:203: RuntimeWarning: divide by zero encountered in matmul\n",
      "  raw_prediction = X @ weights.T + intercept  # ndarray, likely C-contiguous\n",
      "/Users/fdeclan/Public/ml_pipeline/.venv/lib/python3.9/site-packages/sklearn/linear_model/_linear_loss.py:203: RuntimeWarning: divide by zero encountered in matmul\n",
      "  raw_prediction = X @ weights.T + intercept  # ndarray, likely C-contiguous\n",
      "/Users/fdeclan/Public/ml_pipeline/.venv/lib/python3.9/site-packages/sklearn/linear_model/_linear_loss.py:203: RuntimeWarning: divide by zero encountered in matmul\n",
      "  raw_prediction = X @ weights.T + intercept  # ndarray, likely C-contiguous\n",
      "/Users/fdeclan/Public/ml_pipeline/.venv/lib/python3.9/site-packages/sklearn/linear_model/_linear_loss.py:203: RuntimeWarning: divide by zero encountered in matmul\n",
      "  raw_prediction = X @ weights.T + intercept  # ndarray, likely C-contiguous\n",
      "/Users/fdeclan/Public/ml_pipeline/.venv/lib/python3.9/site-packages/sklearn/linear_model/_linear_loss.py:203: RuntimeWarning: overflow encountered in matmul\n",
      "  raw_prediction = X @ weights.T + intercept  # ndarray, likely C-contiguous\n",
      "/Users/fdeclan/Public/ml_pipeline/.venv/lib/python3.9/site-packages/sklearn/linear_model/_linear_loss.py:203: RuntimeWarning: overflow encountered in matmul\n",
      "  raw_prediction = X @ weights.T + intercept  # ndarray, likely C-contiguous\n",
      "/Users/fdeclan/Public/ml_pipeline/.venv/lib/python3.9/site-packages/sklearn/linear_model/_linear_loss.py:203: RuntimeWarning: overflow encountered in matmul\n",
      "  raw_prediction = X @ weights.T + intercept  # ndarray, likely C-contiguous\n",
      "/Users/fdeclan/Public/ml_pipeline/.venv/lib/python3.9/site-packages/sklearn/linear_model/_linear_loss.py:203: RuntimeWarning: invalid value encountered in matmul\n",
      "  raw_prediction = X @ weights.T + intercept  # ndarray, likely C-contiguous\n",
      "/Users/fdeclan/Public/ml_pipeline/.venv/lib/python3.9/site-packages/sklearn/linear_model/_linear_loss.py:203: RuntimeWarning: invalid value encountered in matmul\n",
      "  raw_prediction = X @ weights.T + intercept  # ndarray, likely C-contiguous\n",
      "/Users/fdeclan/Public/ml_pipeline/.venv/lib/python3.9/site-packages/sklearn/linear_model/_linear_loss.py:203: RuntimeWarning: divide by zero encountered in matmul\n",
      "  raw_prediction = X @ weights.T + intercept  # ndarray, likely C-contiguous\n",
      "/Users/fdeclan/Public/ml_pipeline/.venv/lib/python3.9/site-packages/sklearn/linear_model/_linear_loss.py:203: RuntimeWarning: invalid value encountered in matmul\n",
      "  raw_prediction = X @ weights.T + intercept  # ndarray, likely C-contiguous\n",
      "/Users/fdeclan/Public/ml_pipeline/.venv/lib/python3.9/site-packages/sklearn/linear_model/_linear_loss.py:203: RuntimeWarning: overflow encountered in matmul\n",
      "  raw_prediction = X @ weights.T + intercept  # ndarray, likely C-contiguous\n",
      "/Users/fdeclan/Public/ml_pipeline/.venv/lib/python3.9/site-packages/sklearn/linear_model/_linear_loss.py:203: RuntimeWarning: overflow encountered in matmul\n",
      "  raw_prediction = X @ weights.T + intercept  # ndarray, likely C-contiguous\n",
      "/Users/fdeclan/Public/ml_pipeline/.venv/lib/python3.9/site-packages/sklearn/linear_model/_linear_loss.py:203: RuntimeWarning: invalid value encountered in matmul\n",
      "  raw_prediction = X @ weights.T + intercept  # ndarray, likely C-contiguous\n",
      "/Users/fdeclan/Public/ml_pipeline/.venv/lib/python3.9/site-packages/sklearn/linear_model/_linear_loss.py:203: RuntimeWarning: invalid value encountered in matmul\n",
      "  raw_prediction = X @ weights.T + intercept  # ndarray, likely C-contiguous\n",
      "/Users/fdeclan/Public/ml_pipeline/.venv/lib/python3.9/site-packages/sklearn/linear_model/_linear_loss.py:336: RuntimeWarning: divide by zero encountered in matmul\n",
      "  grad[:, :n_features] = grad_pointwise.T @ X + l2_reg_strength * weights\n",
      "/Users/fdeclan/Public/ml_pipeline/.venv/lib/python3.9/site-packages/sklearn/linear_model/_linear_loss.py:336: RuntimeWarning: overflow encountered in matmul\n",
      "  grad[:, :n_features] = grad_pointwise.T @ X + l2_reg_strength * weights\n",
      "/Users/fdeclan/Public/ml_pipeline/.venv/lib/python3.9/site-packages/sklearn/linear_model/_linear_loss.py:336: RuntimeWarning: invalid value encountered in matmul\n",
      "  grad[:, :n_features] = grad_pointwise.T @ X + l2_reg_strength * weights\n",
      "/Users/fdeclan/Public/ml_pipeline/.venv/lib/python3.9/site-packages/sklearn/linear_model/_linear_loss.py:336: RuntimeWarning: divide by zero encountered in matmul\n",
      "  grad[:, :n_features] = grad_pointwise.T @ X + l2_reg_strength * weights\n",
      "/Users/fdeclan/Public/ml_pipeline/.venv/lib/python3.9/site-packages/sklearn/linear_model/_linear_loss.py:336: RuntimeWarning: divide by zero encountered in matmul\n",
      "  grad[:, :n_features] = grad_pointwise.T @ X + l2_reg_strength * weights\n",
      "/Users/fdeclan/Public/ml_pipeline/.venv/lib/python3.9/site-packages/sklearn/linear_model/_linear_loss.py:336: RuntimeWarning: overflow encountered in matmul\n",
      "  grad[:, :n_features] = grad_pointwise.T @ X + l2_reg_strength * weights\n",
      "/Users/fdeclan/Public/ml_pipeline/.venv/lib/python3.9/site-packages/sklearn/linear_model/_linear_loss.py:336: RuntimeWarning: overflow encountered in matmul\n",
      "  grad[:, :n_features] = grad_pointwise.T @ X + l2_reg_strength * weights\n",
      "/Users/fdeclan/Public/ml_pipeline/.venv/lib/python3.9/site-packages/sklearn/linear_model/_linear_loss.py:336: RuntimeWarning: divide by zero encountered in matmul\n",
      "  grad[:, :n_features] = grad_pointwise.T @ X + l2_reg_strength * weights\n",
      "/Users/fdeclan/Public/ml_pipeline/.venv/lib/python3.9/site-packages/sklearn/linear_model/_linear_loss.py:336: RuntimeWarning: invalid value encountered in matmul\n",
      "  grad[:, :n_features] = grad_pointwise.T @ X + l2_reg_strength * weights\n",
      "/Users/fdeclan/Public/ml_pipeline/.venv/lib/python3.9/site-packages/sklearn/linear_model/_linear_loss.py:336: RuntimeWarning: invalid value encountered in matmul\n",
      "  grad[:, :n_features] = grad_pointwise.T @ X + l2_reg_strength * weights\n",
      "/Users/fdeclan/Public/ml_pipeline/.venv/lib/python3.9/site-packages/sklearn/linear_model/_linear_loss.py:336: RuntimeWarning: divide by zero encountered in matmul\n",
      "  grad[:, :n_features] = grad_pointwise.T @ X + l2_reg_strength * weights\n",
      "/Users/fdeclan/Public/ml_pipeline/.venv/lib/python3.9/site-packages/sklearn/linear_model/_linear_loss.py:336: RuntimeWarning: overflow encountered in matmul\n",
      "  grad[:, :n_features] = grad_pointwise.T @ X + l2_reg_strength * weights\n",
      "/Users/fdeclan/Public/ml_pipeline/.venv/lib/python3.9/site-packages/sklearn/linear_model/_linear_loss.py:336: RuntimeWarning: invalid value encountered in matmul\n",
      "  grad[:, :n_features] = grad_pointwise.T @ X + l2_reg_strength * weights\n",
      "/Users/fdeclan/Public/ml_pipeline/.venv/lib/python3.9/site-packages/sklearn/linear_model/_linear_loss.py:336: RuntimeWarning: overflow encountered in matmul\n",
      "  grad[:, :n_features] = grad_pointwise.T @ X + l2_reg_strength * weights\n",
      "/Users/fdeclan/Public/ml_pipeline/.venv/lib/python3.9/site-packages/sklearn/linear_model/_linear_loss.py:336: RuntimeWarning: invalid value encountered in matmul\n",
      "  grad[:, :n_features] = grad_pointwise.T @ X + l2_reg_strength * weights\n",
      "/Users/fdeclan/Public/ml_pipeline/.venv/lib/python3.9/site-packages/sklearn/utils/extmath.py:203: RuntimeWarning: divide by zero encountered in matmul\n",
      "  ret = a @ b\n",
      "/Users/fdeclan/Public/ml_pipeline/.venv/lib/python3.9/site-packages/sklearn/utils/extmath.py:203: RuntimeWarning: overflow encountered in matmul\n",
      "  ret = a @ b\n",
      "/Users/fdeclan/Public/ml_pipeline/.venv/lib/python3.9/site-packages/sklearn/utils/extmath.py:203: RuntimeWarning: invalid value encountered in matmul\n",
      "  ret = a @ b\n",
      "/Users/fdeclan/Public/ml_pipeline/.venv/lib/python3.9/site-packages/sklearn/utils/extmath.py:203: RuntimeWarning: divide by zero encountered in matmul\n",
      "  ret = a @ b\n",
      "/Users/fdeclan/Public/ml_pipeline/.venv/lib/python3.9/site-packages/sklearn/utils/extmath.py:203: RuntimeWarning: overflow encountered in matmul\n",
      "  ret = a @ b\n",
      "/Users/fdeclan/Public/ml_pipeline/.venv/lib/python3.9/site-packages/sklearn/utils/extmath.py:203: RuntimeWarning: invalid value encountered in matmul\n",
      "  ret = a @ b\n",
      "/Users/fdeclan/Public/ml_pipeline/.venv/lib/python3.9/site-packages/sklearn/utils/extmath.py:203: RuntimeWarning: divide by zero encountered in matmul\n",
      "  ret = a @ b\n",
      "/Users/fdeclan/Public/ml_pipeline/.venv/lib/python3.9/site-packages/sklearn/utils/extmath.py:203: RuntimeWarning: overflow encountered in matmul\n",
      "  ret = a @ b\n",
      "/Users/fdeclan/Public/ml_pipeline/.venv/lib/python3.9/site-packages/sklearn/utils/extmath.py:203: RuntimeWarning: invalid value encountered in matmul\n",
      "  ret = a @ b\n",
      "/Users/fdeclan/Public/ml_pipeline/.venv/lib/python3.9/site-packages/sklearn/utils/extmath.py:203: RuntimeWarning: divide by zero encountered in matmul\n",
      "  ret = a @ b\n",
      "/Users/fdeclan/Public/ml_pipeline/.venv/lib/python3.9/site-packages/sklearn/utils/extmath.py:203: RuntimeWarning: overflow encountered in matmul\n",
      "  ret = a @ b\n",
      "/Users/fdeclan/Public/ml_pipeline/.venv/lib/python3.9/site-packages/sklearn/utils/extmath.py:203: RuntimeWarning: invalid value encountered in matmul\n",
      "  ret = a @ b\n",
      "/Users/fdeclan/Public/ml_pipeline/.venv/lib/python3.9/site-packages/sklearn/utils/extmath.py:203: RuntimeWarning: divide by zero encountered in matmul\n",
      "  ret = a @ b\n",
      "/Users/fdeclan/Public/ml_pipeline/.venv/lib/python3.9/site-packages/sklearn/utils/extmath.py:203: RuntimeWarning: overflow encountered in matmul\n",
      "  ret = a @ b\n",
      "/Users/fdeclan/Public/ml_pipeline/.venv/lib/python3.9/site-packages/sklearn/utils/extmath.py:203: RuntimeWarning: invalid value encountered in matmul\n",
      "  ret = a @ b\n"
     ]
    },
    {
     "name": "stdout",
     "output_type": "stream",
     "text": [
      "  \u2713 Logistic Regression\n",
      "    CV Accuracy: 0.5895 \u00b1 0.0073\n",
      "    Fold scores: ['0.5752', '0.5929', '0.5929', '0.5911', '0.5956']\n",
      "    Training time: 1.36s\n",
      "\n",
      "Training Random Forest...\n",
      "  \u2713 Random Forest\n",
      "    CV Accuracy: 0.5701 \u00b1 0.0185\n",
      "    Fold scores: ['0.5885', '0.5487', '0.5487', '0.5911', '0.5733']\n",
      "    Training time: 1.15s\n",
      "\n",
      "Training Gradient Boosting...\n",
      "  \u2713 Gradient Boosting\n",
      "    CV Accuracy: 0.5567 \u00b1 0.0317\n",
      "    Fold scores: ['0.5796', '0.5487', '0.5354', '0.6044', '0.5156']\n",
      "    Training time: 129.24s\n",
      "\n",
      "======================================================================\n",
      "CROSS-VALIDATION RESULTS SUMMARY\n",
      "======================================================================\n",
      "\n",
      "Model                     Mean Accuracy   Std Dev      Time (s)  \n",
      "----------------------------------------------------------------------\n",
      "Logistic Regression       0.5895          0.0073          1.36\n",
      "Random Forest             0.5701          0.0185          1.15\n",
      "Gradient Boosting         0.5567          0.0317        129.24\n",
      "\n",
      "\u2713 Best model (cross-validation): Logistic Regression (0.5895 \u00b1 0.0073)\n"
     ]
    }
   ],
   "source": [
    "print(f\"\\n{'='*70}\")\n",
    "print(f\"SECTION 6.3: MODEL INITIALIZATION\")\n",
    "print(f\"{'='*70}\\n\")\n",
    "\n",
    "# Initialize models with chosen hyperparameters\n",
    "models = {\n",
    "    'Logistic Regression': LogisticRegression(\n",
    "        max_iter=1000,\n",
    "        C=1.0,\n",
    "        multi_class='multinomial',\n",
    "        solver='lbfgs',\n",
    "        random_state=42\n",
    "    ),\n",
    "    'Random Forest': RandomForestClassifier(\n",
    "        n_estimators=100,\n",
    "        max_depth=20,\n",
    "        min_samples_split=10,\n",
    "        max_features='sqrt',\n",
    "        random_state=42,\n",
    "        n_jobs=-1\n",
    "    ),\n",
    "    'Gradient Boosting': GradientBoostingClassifier(\n",
    "        n_estimators=100,\n",
    "        learning_rate=0.1,\n",
    "        max_depth=5,\n",
    "        subsample=0.8,\n",
    "        random_state=42\n",
    "    )\n",
    "}\n",
    "\n",
    "print(\"\u2713 Models initialized:\")\n",
    "for model_name, model in models.items():\n",
    "    print(f\"  \u2022 {model_name}\")\n",
    "\n",
    "print(f\"\\n{'='*70}\")\n",
    "print(f\"SECTION 6.4: 5-FOLD STRATIFIED CROSS-VALIDATION\")\n",
    "print(f\"{'='*70}\\n\")\n",
    "\n",
    "# Configure 5-fold stratified cross-validation\n",
    "cv_splitter = StratifiedKFold(n_splits=5, shuffle=True, random_state=42)\n",
    "\n",
    "# Store cross-validation results\n",
    "cv_results = {}\n",
    "\n",
    "print(\"Running cross-validation for each model...\\n\")\n",
    "\n",
    "for model_name, model in models.items():\n",
    "    print(f\"Training {model_name}...\")\n",
    "    start_time = time.time()\n",
    "    \n",
    "    # Perform 5-fold cross-validation\n",
    "    scores = cross_val_score(\n",
    "        model, \n",
    "        X_train_scaled, \n",
    "        y_train,\n",
    "        cv=cv_splitter,\n",
    "        scoring='accuracy',\n",
    "        n_jobs=-1\n",
    "    )\n",
    "    \n",
    "    elapsed_time = time.time() - start_time\n",
    "    \n",
    "    # Store results\n",
    "    cv_results[model_name] = {\n",
    "        'scores': scores,\n",
    "        'mean': scores.mean(),\n",
    "        'std': scores.std(),\n",
    "        'time': elapsed_time\n",
    "    }\n",
    "    \n",
    "    print(f\"  \u2713 {model_name}\")\n",
    "    print(f\"    CV Accuracy: {scores.mean():.4f} \u00b1 {scores.std():.4f}\")\n",
    "    print(f\"    Fold scores: {[f'{s:.4f}' for s in scores]}\")\n",
    "    print(f\"    Training time: {elapsed_time:.2f}s\\n\")\n",
    "\n",
    "# Summary table\n",
    "print(f\"{'='*70}\")\n",
    "print(f\"CROSS-VALIDATION RESULTS SUMMARY\")\n",
    "print(f\"{'='*70}\\n\")\n",
    "\n",
    "print(f\"{'Model':<25s} {'Mean Accuracy':<15s} {'Std Dev':<12s} {'Time (s)':<10s}\")\n",
    "print(f\"{'-'*70}\")\n",
    "\n",
    "for model_name, results in cv_results.items():\n",
    "    print(f\"{model_name:<25s} {results['mean']:.4f}          \"\n",
    "          f\"{results['std']:.4f}       {results['time']:>7.2f}\")\n",
    "\n",
    "# Identify best model from CV\n",
    "best_model_cv = max(cv_results.items(), key=lambda x: x[1]['mean'])\n",
    "print(f\"\\n\u2713 Best model (cross-validation): {best_model_cv[0]} \"\n",
    "      f\"({best_model_cv[1]['mean']:.4f} \u00b1 {best_model_cv[1]['std']:.4f})\")"
   ]
  },
  {
   "cell_type": "markdown",
   "id": "928d3646",
   "metadata": {},
   "source": [
    "### 6.5 Final Training on Full Training Set\n",
    "\n",
    "Now that we've estimated generalization performance via cross-validation, I'll train each model on the **entire training set** (1,128 samples) and evaluate on the **held-out validation set** (242 samples).\n",
    "\n",
    "This gives us:\n",
    "1. **Training accuracy**: How well the model fits the training data (checks for underfitting)\n",
    "2. **Validation accuracy**: How well the model generalizes to unseen data (checks for overfitting)\n",
    "3. **Final model selection**: Choose the best model for deployment based on validation performance"
   ]
  },
  {
   "cell_type": "code",
   "execution_count": 23,
   "id": "7230dc78",
   "metadata": {},
   "outputs": [
    {
     "name": "stdout",
     "output_type": "stream",
     "text": [
      "\n",
      "======================================================================\n",
      "SECTION 6.5: FINAL TRAINING ON FULL TRAINING SET\n",
      "======================================================================\n",
      "\n",
      "Training Logistic Regression on full training set...\n",
      "  \u2713 Training complete\n",
      "    Training accuracy:   0.9885\n",
      "    Validation accuracy: 0.6240\n",
      "    Overfit gap:         0.3645\n",
      "    Training time:       0.17s\n",
      "\n",
      "Training Random Forest on full training set...\n",
      "  \u2713 Training complete\n",
      "    Training accuracy:   0.9566\n",
      "    Validation accuracy: 0.5702\n",
      "    Overfit gap:         0.3863\n",
      "    Training time:       0.16s\n",
      "\n",
      "Training Gradient Boosting on full training set...\n",
      "  \u2713 Training complete\n",
      "    Training accuracy:   0.9982\n",
      "    Validation accuracy: 0.5661\n",
      "    Overfit gap:         0.4321\n",
      "    Training time:       157.32s\n",
      "\n",
      "======================================================================\n",
      "TRAINING VS VALIDATION PERFORMANCE\n",
      "======================================================================\n",
      "\n",
      "Model                     Train Acc    Val Acc      Overfit Gap  Time (s)\n",
      "----------------------------------------------------------------------\n",
      "Logistic Regression       0.9885       0.6240       0.3645          0.17\n",
      "Random Forest             0.9566       0.5702       0.3863          0.16\n",
      "Gradient Boosting         0.9982       0.5661       0.4321        157.32\n",
      "\n",
      "======================================================================\n",
      "BEST MODEL SELECTION\n",
      "======================================================================\n",
      "\n",
      "\u2713 Selected model: Logistic Regression\n",
      "  Validation accuracy: 0.6240\n",
      "  This model will be used for final test set evaluation in Section 7.\n"
     ]
    }
   ],
   "source": [
    "print(f\"\\n{'='*70}\")\n",
    "print(f\"SECTION 6.5: FINAL TRAINING ON FULL TRAINING SET\")\n",
    "print(f\"{'='*70}\\n\")\n",
    "\n",
    "# Train each model on the full training set and evaluate on validation set\n",
    "final_models = {}\n",
    "training_metrics = {}\n",
    "\n",
    "for model_name, model in models.items():\n",
    "    print(f\"Training {model_name} on full training set...\")\n",
    "    start_time = time.time()\n",
    "    \n",
    "    # Train on full training set\n",
    "    model.fit(X_train_scaled, y_train)\n",
    "    training_time = time.time() - start_time\n",
    "    \n",
    "    # Get predictions\n",
    "    y_train_pred = model.predict(X_train_scaled)\n",
    "    y_val_pred = model.predict(X_val_scaled)\n",
    "    \n",
    "    # Calculate accuracies\n",
    "    train_acc = accuracy_score(y_train, y_train_pred)\n",
    "    val_acc = accuracy_score(y_val, y_val_pred)\n",
    "    \n",
    "    # Store model and metrics\n",
    "    final_models[model_name] = model\n",
    "    training_metrics[model_name] = {\n",
    "        'train_accuracy': train_acc,\n",
    "        'val_accuracy': val_acc,\n",
    "        'training_time': training_time,\n",
    "        'overfit_gap': train_acc - val_acc\n",
    "    }\n",
    "    \n",
    "    print(f\"  \u2713 Training complete\")\n",
    "    print(f\"    Training accuracy:   {train_acc:.4f}\")\n",
    "    print(f\"    Validation accuracy: {val_acc:.4f}\")\n",
    "    print(f\"    Overfit gap:         {train_acc - val_acc:.4f}\")\n",
    "    print(f\"    Training time:       {training_time:.2f}s\\n\")\n",
    "\n",
    "# Summary comparison table\n",
    "print(f\"{'='*70}\")\n",
    "print(f\"TRAINING VS VALIDATION PERFORMANCE\")\n",
    "print(f\"{'='*70}\\n\")\n",
    "\n",
    "print(f\"{'Model':<25s} {'Train Acc':<12s} {'Val Acc':<12s} {'Overfit Gap':<12s} {'Time (s)'}\")\n",
    "print(f\"{'-'*70}\")\n",
    "\n",
    "for model_name, metrics in training_metrics.items():\n",
    "    print(f\"{model_name:<25s} {metrics['train_accuracy']:.4f}       \"\n",
    "          f\"{metrics['val_accuracy']:.4f}       \"\n",
    "          f\"{metrics['overfit_gap']:.4f}       \"\n",
    "          f\"{metrics['training_time']:>7.2f}\")\n",
    "\n",
    "# Identify best model based on validation accuracy\n",
    "best_model_name = max(training_metrics.items(), key=lambda x: x[1]['val_accuracy'])[0]\n",
    "best_model = final_models[best_model_name]\n",
    "best_val_acc = training_metrics[best_model_name]['val_accuracy']\n",
    "\n",
    "print(f\"\\n{'='*70}\")\n",
    "print(f\"BEST MODEL SELECTION\")\n",
    "print(f\"{'='*70}\")\n",
    "print(f\"\\n\u2713 Selected model: {best_model_name}\")\n",
    "print(f\"  Validation accuracy: {best_val_acc:.4f}\")\n",
    "print(f\"  This model will be used for final test set evaluation in Section 7.\")\n",
    "\n",
    "# Store for later use\n",
    "best_model_for_testing = best_model"
   ]
  },
  {
   "cell_type": "markdown",
   "id": "e15c2708",
   "metadata": {},
   "source": [
    "### 6.6 Model Performance Comparison Visualization\n",
    "\n",
    "Let's visualize the performance comparison across all three models to better understand their relative strengths."
   ]
  },
  {
   "cell_type": "code",
   "execution_count": 54,
   "id": "0f2ec191",
   "metadata": {},
   "outputs": [
    {
     "name": "stdout",
     "output_type": "stream",
     "text": [
      "\n",
      "======================================================================\n",
      "SECTION 6.6: MODEL PERFORMANCE VISUALIZATION\n",
      "======================================================================\n",
      "\n"
     ]
    },
    {
     "data": {
      "application/vnd.plotly.v1+json": {
       "config": {
        "plotlyServerURL": "https://plot.ly"
       },
       "data": [
        {
         "error_y": {
          "array": [
           0.007301173049018955,
           0.01848555660066905,
           0.03167684549491164
          ],
          "type": "data"
         },
         "marker": {
          "color": [
           "lightblue",
           "lightgreen",
           "lightcoral"
          ]
         },
         "name": "CV Accuracy",
         "text": [
          "0.5895",
          "0.5701",
          "0.5567"
         ],
         "textposition": "outside",
         "type": "bar",
         "x": [
          "Logistic Regression",
          "Random Forest",
          "Gradient Boosting"
         ],
         "xaxis": "x",
         "y": [
          0.5895457227138643,
          0.5700570304818092,
          0.5567433628318584
         ],
         "yaxis": "y"
        },
        {
         "marker": {
          "color": "steelblue"
         },
         "name": "Training",
         "text": [
          "0.9885",
          "0.9566",
          "0.9982"
         ],
         "textposition": "outside",
         "type": "bar",
         "x": [
          "Logistic Regression",
          "Random Forest",
          "Gradient Boosting"
         ],
         "xaxis": "x2",
         "y": [
          0.9884751773049646,
          0.9565602836879432,
          0.99822695035461
         ],
         "yaxis": "y2"
        },
        {
         "marker": {
          "color": "coral"
         },
         "name": "Validation",
         "text": [
          "0.6240",
          "0.5702",
          "0.5661"
         ],
         "textposition": "outside",
         "type": "bar",
         "x": [
          "Logistic Regression",
          "Random Forest",
          "Gradient Boosting"
         ],
         "xaxis": "x2",
         "y": [
          0.6239669421487604,
          0.5702479338842975,
          0.5661157024793388
         ],
         "yaxis": "y2"
        }
       ],
       "layout": {
        "annotations": [
         {
          "font": {
           "size": 16
          },
          "showarrow": false,
          "text": "Cross-Validation Accuracy",
          "x": 0.225,
          "xanchor": "center",
          "xref": "paper",
          "y": 1,
          "yanchor": "bottom",
          "yref": "paper"
         },
         {
          "font": {
           "size": 16
          },
          "showarrow": false,
          "text": "Training vs Validation Accuracy",
          "x": 0.775,
          "xanchor": "center",
          "xref": "paper",
          "y": 1,
          "yanchor": "bottom",
          "yref": "paper"
         }
        ],
        "height": 500,
        "showlegend": true,
        "template": {
         "data": {
          "bar": [
           {
            "error_x": {
             "color": "#2a3f5f"
            },
            "error_y": {
             "color": "#2a3f5f"
            },
            "marker": {
             "line": {
              "color": "#E5ECF6",
              "width": 0.5
             },
             "pattern": {
              "fillmode": "overlay",
              "size": 10,
              "solidity": 0.2
             }
            },
            "type": "bar"
           }
          ],
          "barpolar": [
           {
            "marker": {
             "line": {
              "color": "#E5ECF6",
              "width": 0.5
             },
             "pattern": {
              "fillmode": "overlay",
              "size": 10,
              "solidity": 0.2
             }
            },
            "type": "barpolar"
           }
          ],
          "carpet": [
           {
            "aaxis": {
             "endlinecolor": "#2a3f5f",
             "gridcolor": "white",
             "linecolor": "white",
             "minorgridcolor": "white",
             "startlinecolor": "#2a3f5f"
            },
            "baxis": {
             "endlinecolor": "#2a3f5f",
             "gridcolor": "white",
             "linecolor": "white",
             "minorgridcolor": "white",
             "startlinecolor": "#2a3f5f"
            },
            "type": "carpet"
           }
          ],
          "choropleth": [
           {
            "colorbar": {
             "outlinewidth": 0,
             "ticks": ""
            },
            "type": "choropleth"
           }
          ],
          "contour": [
           {
            "colorbar": {
             "outlinewidth": 0,
             "ticks": ""
            },
            "colorscale": [
             [
              0,
              "#0d0887"
             ],
             [
              0.1111111111111111,
              "#46039f"
             ],
             [
              0.2222222222222222,
              "#7201a8"
             ],
             [
              0.3333333333333333,
              "#9c179e"
             ],
             [
              0.4444444444444444,
              "#bd3786"
             ],
             [
              0.5555555555555556,
              "#d8576b"
             ],
             [
              0.6666666666666666,
              "#ed7953"
             ],
             [
              0.7777777777777778,
              "#fb9f3a"
             ],
             [
              0.8888888888888888,
              "#fdca26"
             ],
             [
              1,
              "#f0f921"
             ]
            ],
            "type": "contour"
           }
          ],
          "contourcarpet": [
           {
            "colorbar": {
             "outlinewidth": 0,
             "ticks": ""
            },
            "type": "contourcarpet"
           }
          ],
          "heatmap": [
           {
            "colorbar": {
             "outlinewidth": 0,
             "ticks": ""
            },
            "colorscale": [
             [
              0,
              "#0d0887"
             ],
             [
              0.1111111111111111,
              "#46039f"
             ],
             [
              0.2222222222222222,
              "#7201a8"
             ],
             [
              0.3333333333333333,
              "#9c179e"
             ],
             [
              0.4444444444444444,
              "#bd3786"
             ],
             [
              0.5555555555555556,
              "#d8576b"
             ],
             [
              0.6666666666666666,
              "#ed7953"
             ],
             [
              0.7777777777777778,
              "#fb9f3a"
             ],
             [
              0.8888888888888888,
              "#fdca26"
             ],
             [
              1,
              "#f0f921"
             ]
            ],
            "type": "heatmap"
           }
          ],
          "histogram": [
           {
            "marker": {
             "pattern": {
              "fillmode": "overlay",
              "size": 10,
              "solidity": 0.2
             }
            },
            "type": "histogram"
           }
          ],
          "histogram2d": [
           {
            "colorbar": {
             "outlinewidth": 0,
             "ticks": ""
            },
            "colorscale": [
             [
              0,
              "#0d0887"
             ],
             [
              0.1111111111111111,
              "#46039f"
             ],
             [
              0.2222222222222222,
              "#7201a8"
             ],
             [
              0.3333333333333333,
              "#9c179e"
             ],
             [
              0.4444444444444444,
              "#bd3786"
             ],
             [
              0.5555555555555556,
              "#d8576b"
             ],
             [
              0.6666666666666666,
              "#ed7953"
             ],
             [
              0.7777777777777778,
              "#fb9f3a"
             ],
             [
              0.8888888888888888,
              "#fdca26"
             ],
             [
              1,
              "#f0f921"
             ]
            ],
            "type": "histogram2d"
           }
          ],
          "histogram2dcontour": [
           {
            "colorbar": {
             "outlinewidth": 0,
             "ticks": ""
            },
            "colorscale": [
             [
              0,
              "#0d0887"
             ],
             [
              0.1111111111111111,
              "#46039f"
             ],
             [
              0.2222222222222222,
              "#7201a8"
             ],
             [
              0.3333333333333333,
              "#9c179e"
             ],
             [
              0.4444444444444444,
              "#bd3786"
             ],
             [
              0.5555555555555556,
              "#d8576b"
             ],
             [
              0.6666666666666666,
              "#ed7953"
             ],
             [
              0.7777777777777778,
              "#fb9f3a"
             ],
             [
              0.8888888888888888,
              "#fdca26"
             ],
             [
              1,
              "#f0f921"
             ]
            ],
            "type": "histogram2dcontour"
           }
          ],
          "mesh3d": [
           {
            "colorbar": {
             "outlinewidth": 0,
             "ticks": ""
            },
            "type": "mesh3d"
           }
          ],
          "parcoords": [
           {
            "line": {
             "colorbar": {
              "outlinewidth": 0,
              "ticks": ""
             }
            },
            "type": "parcoords"
           }
          ],
          "pie": [
           {
            "automargin": true,
            "type": "pie"
           }
          ],
          "scatter": [
           {
            "fillpattern": {
             "fillmode": "overlay",
             "size": 10,
             "solidity": 0.2
            },
            "type": "scatter"
           }
          ],
          "scatter3d": [
           {
            "line": {
             "colorbar": {
              "outlinewidth": 0,
              "ticks": ""
             }
            },
            "marker": {
             "colorbar": {
              "outlinewidth": 0,
              "ticks": ""
             }
            },
            "type": "scatter3d"
           }
          ],
          "scattercarpet": [
           {
            "marker": {
             "colorbar": {
              "outlinewidth": 0,
              "ticks": ""
             }
            },
            "type": "scattercarpet"
           }
          ],
          "scattergeo": [
           {
            "marker": {
             "colorbar": {
              "outlinewidth": 0,
              "ticks": ""
             }
            },
            "type": "scattergeo"
           }
          ],
          "scattergl": [
           {
            "marker": {
             "colorbar": {
              "outlinewidth": 0,
              "ticks": ""
             }
            },
            "type": "scattergl"
           }
          ],
          "scattermap": [
           {
            "marker": {
             "colorbar": {
              "outlinewidth": 0,
              "ticks": ""
             }
            },
            "type": "scattermap"
           }
          ],
          "scattermapbox": [
           {
            "marker": {
             "colorbar": {
              "outlinewidth": 0,
              "ticks": ""
             }
            },
            "type": "scattermapbox"
           }
          ],
          "scatterpolar": [
           {
            "marker": {
             "colorbar": {
              "outlinewidth": 0,
              "ticks": ""
             }
            },
            "type": "scatterpolar"
           }
          ],
          "scatterpolargl": [
           {
            "marker": {
             "colorbar": {
              "outlinewidth": 0,
              "ticks": ""
             }
            },
            "type": "scatterpolargl"
           }
          ],
          "scatterternary": [
           {
            "marker": {
             "colorbar": {
              "outlinewidth": 0,
              "ticks": ""
             }
            },
            "type": "scatterternary"
           }
          ],
          "surface": [
           {
            "colorbar": {
             "outlinewidth": 0,
             "ticks": ""
            },
            "colorscale": [
             [
              0,
              "#0d0887"
             ],
             [
              0.1111111111111111,
              "#46039f"
             ],
             [
              0.2222222222222222,
              "#7201a8"
             ],
             [
              0.3333333333333333,
              "#9c179e"
             ],
             [
              0.4444444444444444,
              "#bd3786"
             ],
             [
              0.5555555555555556,
              "#d8576b"
             ],
             [
              0.6666666666666666,
              "#ed7953"
             ],
             [
              0.7777777777777778,
              "#fb9f3a"
             ],
             [
              0.8888888888888888,
              "#fdca26"
             ],
             [
              1,
              "#f0f921"
             ]
            ],
            "type": "surface"
           }
          ],
          "table": [
           {
            "cells": {
             "fill": {
              "color": "#EBF0F8"
             },
             "line": {
              "color": "white"
             }
            },
            "header": {
             "fill": {
              "color": "#C8D4E3"
             },
             "line": {
              "color": "white"
             }
            },
            "type": "table"
           }
          ]
         },
         "layout": {
          "annotationdefaults": {
           "arrowcolor": "#2a3f5f",
           "arrowhead": 0,
           "arrowwidth": 1
          },
          "autotypenumbers": "strict",
          "coloraxis": {
           "colorbar": {
            "outlinewidth": 0,
            "ticks": ""
           }
          },
          "colorscale": {
           "diverging": [
            [
             0,
             "#8e0152"
            ],
            [
             0.1,
             "#c51b7d"
            ],
            [
             0.2,
             "#de77ae"
            ],
            [
             0.3,
             "#f1b6da"
            ],
            [
             0.4,
             "#fde0ef"
            ],
            [
             0.5,
             "#f7f7f7"
            ],
            [
             0.6,
             "#e6f5d0"
            ],
            [
             0.7,
             "#b8e186"
            ],
            [
             0.8,
             "#7fbc41"
            ],
            [
             0.9,
             "#4d9221"
            ],
            [
             1,
             "#276419"
            ]
           ],
           "sequential": [
            [
             0,
             "#0d0887"
            ],
            [
             0.1111111111111111,
             "#46039f"
            ],
            [
             0.2222222222222222,
             "#7201a8"
            ],
            [
             0.3333333333333333,
             "#9c179e"
            ],
            [
             0.4444444444444444,
             "#bd3786"
            ],
            [
             0.5555555555555556,
             "#d8576b"
            ],
            [
             0.6666666666666666,
             "#ed7953"
            ],
            [
             0.7777777777777778,
             "#fb9f3a"
            ],
            [
             0.8888888888888888,
             "#fdca26"
            ],
            [
             1,
             "#f0f921"
            ]
           ],
           "sequentialminus": [
            [
             0,
             "#0d0887"
            ],
            [
             0.1111111111111111,
             "#46039f"
            ],
            [
             0.2222222222222222,
             "#7201a8"
            ],
            [
             0.3333333333333333,
             "#9c179e"
            ],
            [
             0.4444444444444444,
             "#bd3786"
            ],
            [
             0.5555555555555556,
             "#d8576b"
            ],
            [
             0.6666666666666666,
             "#ed7953"
            ],
            [
             0.7777777777777778,
             "#fb9f3a"
            ],
            [
             0.8888888888888888,
             "#fdca26"
            ],
            [
             1,
             "#f0f921"
            ]
           ]
          },
          "colorway": [
           "#636efa",
           "#EF553B",
           "#00cc96",
           "#ab63fa",
           "#FFA15A",
           "#19d3f3",
           "#FF6692",
           "#B6E880",
           "#FF97FF",
           "#FECB52"
          ],
          "font": {
           "color": "#2a3f5f"
          },
          "geo": {
           "bgcolor": "white",
           "lakecolor": "white",
           "landcolor": "#E5ECF6",
           "showlakes": true,
           "showland": true,
           "subunitcolor": "white"
          },
          "hoverlabel": {
           "align": "left"
          },
          "hovermode": "closest",
          "mapbox": {
           "style": "light"
          },
          "paper_bgcolor": "white",
          "plot_bgcolor": "#E5ECF6",
          "polar": {
           "angularaxis": {
            "gridcolor": "white",
            "linecolor": "white",
            "ticks": ""
           },
           "bgcolor": "#E5ECF6",
           "radialaxis": {
            "gridcolor": "white",
            "linecolor": "white",
            "ticks": ""
           }
          },
          "scene": {
           "xaxis": {
            "backgroundcolor": "#E5ECF6",
            "gridcolor": "white",
            "gridwidth": 2,
            "linecolor": "white",
            "showbackground": true,
            "ticks": "",
            "zerolinecolor": "white"
           },
           "yaxis": {
            "backgroundcolor": "#E5ECF6",
            "gridcolor": "white",
            "gridwidth": 2,
            "linecolor": "white",
            "showbackground": true,
            "ticks": "",
            "zerolinecolor": "white"
           },
           "zaxis": {
            "backgroundcolor": "#E5ECF6",
            "gridcolor": "white",
            "gridwidth": 2,
            "linecolor": "white",
            "showbackground": true,
            "ticks": "",
            "zerolinecolor": "white"
           }
          },
          "shapedefaults": {
           "line": {
            "color": "#2a3f5f"
           }
          },
          "ternary": {
           "aaxis": {
            "gridcolor": "white",
            "linecolor": "white",
            "ticks": ""
           },
           "baxis": {
            "gridcolor": "white",
            "linecolor": "white",
            "ticks": ""
           },
           "bgcolor": "#E5ECF6",
           "caxis": {
            "gridcolor": "white",
            "linecolor": "white",
            "ticks": ""
           }
          },
          "title": {
           "x": 0.05
          },
          "xaxis": {
           "automargin": true,
           "gridcolor": "white",
           "linecolor": "white",
           "ticks": "",
           "title": {
            "standoff": 15
           },
           "zerolinecolor": "white",
           "zerolinewidth": 2
          },
          "yaxis": {
           "automargin": true,
           "gridcolor": "white",
           "linecolor": "white",
           "ticks": "",
           "title": {
            "standoff": 15
           },
           "zerolinecolor": "white",
           "zerolinewidth": 2
          }
         }
        },
        "title": {
         "text": "Model Performance Comparison Across All Metrics"
        },
        "xaxis": {
         "anchor": "y",
         "domain": [
          0,
          0.45
         ],
         "title": {
          "text": "Model"
         }
        },
        "xaxis2": {
         "anchor": "y2",
         "domain": [
          0.55,
          1
         ],
         "title": {
          "text": "Model"
         }
        },
        "yaxis": {
         "anchor": "x",
         "domain": [
          0,
          1
         ],
         "range": [
          0,
          1.1
         ],
         "title": {
          "text": "Accuracy"
         }
        },
        "yaxis2": {
         "anchor": "x2",
         "domain": [
          0,
          1
         ],
         "range": [
          0,
          1.1
         ],
         "title": {
          "text": "Accuracy"
         }
        }
       }
      }
     },
     "metadata": {},
     "output_type": "display_data"
    },
    {
     "name": "stdout",
     "output_type": "stream",
     "text": [
      "\n",
      "\u2713 Visualization complete\n",
      "\n",
      "Key observations:\n",
      "  \u2022 Cross-validation gives robust performance estimates across 5 folds\n",
      "  \u2022 Training accuracy > Validation accuracy indicates some overfitting\n",
      "  \u2022 Best model: Logistic Regression (highest validation accuracy)\n",
      "  \u2022 Logistic Regression achieves good balance between fitting and generalization\n"
     ]
    }
   ],
   "source": [
    "print(f\"\\n{'='*70}\")\n",
    "print(f\"SECTION 6.6: MODEL PERFORMANCE VISUALIZATION\")\n",
    "print(f\"{'='*70}\\n\")\n",
    "\n",
    "import plotly.graph_objects as go\n",
    "from plotly.subplots import make_subplots\n",
    "\n",
    "# Create subplot figure\n",
    "fig = make_subplots(\n",
    "    rows=1, cols=2,\n",
    "    subplot_titles=['Cross-Validation Accuracy', 'Training vs Validation Accuracy'],\n",
    "    specs=[[{'type': 'bar'}, {'type': 'bar'}]]\n",
    ")\n",
    "\n",
    "# Subplot 1: Cross-validation results\n",
    "model_names = list(cv_results.keys())\n",
    "cv_means = [cv_results[name]['mean'] for name in model_names]\n",
    "cv_stds = [cv_results[name]['std'] for name in model_names]\n",
    "\n",
    "fig.add_trace(\n",
    "    go.Bar(\n",
    "        x=model_names,\n",
    "        y=cv_means,\n",
    "        error_y=dict(type='data', array=cv_stds),\n",
    "        name='CV Accuracy',\n",
    "        marker_color=['lightblue', 'lightgreen', 'lightcoral'],\n",
    "        text=[f'{acc:.4f}' for acc in cv_means],\n",
    "        textposition='outside'\n",
    "    ),\n",
    "    row=1, col=1\n",
    ")\n",
    "\n",
    "# Subplot 2: Train vs Validation accuracy\n",
    "train_accs = [training_metrics[name]['train_accuracy'] for name in model_names]\n",
    "val_accs = [training_metrics[name]['val_accuracy'] for name in model_names]\n",
    "\n",
    "fig.add_trace(\n",
    "    go.Bar(\n",
    "        x=model_names,\n",
    "        y=train_accs,\n",
    "        name='Training',\n",
    "        marker_color='steelblue',\n",
    "        text=[f'{acc:.4f}' for acc in train_accs],\n",
    "        textposition='outside'\n",
    "    ),\n",
    "    row=1, col=2\n",
    ")\n",
    "\n",
    "fig.add_trace(\n",
    "    go.Bar(\n",
    "        x=model_names,\n",
    "        y=val_accs,\n",
    "        name='Validation',\n",
    "        marker_color='coral',\n",
    "        text=[f'{acc:.4f}' for acc in val_accs],\n",
    "        textposition='outside'\n",
    "    ),\n",
    "    row=1, col=2\n",
    ")\n",
    "\n",
    "# Update layout\n",
    "fig.update_xaxes(title_text=\"Model\", row=1, col=1)\n",
    "fig.update_xaxes(title_text=\"Model\", row=1, col=2)\n",
    "fig.update_yaxes(title_text=\"Accuracy\", row=1, col=1, range=[0, 1.1])\n",
    "fig.update_yaxes(title_text=\"Accuracy\", row=1, col=2, range=[0, 1.1])\n",
    "\n",
    "fig.update_layout(\n",
    "    height=500,\n",
    "    showlegend=True,\n",
    "    title_text=\"Model Performance Comparison Across All Metrics\"\n",
    ")\n",
    "\n",
    "fig.show()\n",
    "\n",
    "print(\"\\n\u2713 Visualization complete\")\n",
    "print(f\"\\nKey observations:\")\n",
    "print(f\"  \u2022 Cross-validation gives robust performance estimates across 5 folds\")\n",
    "print(f\"  \u2022 Training accuracy > Validation accuracy indicates some overfitting\")\n",
    "print(f\"  \u2022 Best model: {best_model_name} (highest validation accuracy)\")\n",
    "print(f\"  \u2022 {best_model_name} achieves good balance between fitting and generalization\")"
   ]
  },
  {
   "cell_type": "markdown",
   "id": "ccccb4e5",
   "metadata": {},
   "source": [
    "### 6.7 Section 6 Summary\n",
    "\n",
    "**What we accomplished**:\n",
    "1. \u2713 **Feature standardization**: All 348 features normalized to mean=0, std=1\n",
    "2. \u2713 **Model initialization**: Three models configured with appropriate hyperparameters\n",
    "3. \u2713 **5-Fold Cross-Validation**: Robust performance estimation with stratified folds\n",
    "4. \u2713 **Final training**: All models trained on full training set (1,128 samples)\n",
    "5. \u2713 **Validation evaluation**: Performance assessed on held-out validation set (242 samples)\n",
    "6. \u2713 **Best model selection**: Chosen based on highest validation accuracy\n",
    "\n",
    "**Key findings from cross-validation and validation set**:\n",
    "\n",
    "**Cross-Validation Results** (5-fold stratified, 1,128 training samples):\n",
    "- **Logistic Regression**: 58.95% \u00b1 0.73% (most consistent, lowest variance)\n",
    "- **Random Forest**: 57.01% \u00b1 1.85% (moderate performance, moderate variance)\n",
    "- **Gradient Boosting**: 55.67% \u00b1 3.17% (highest variance, slowest training at 131s)\n",
    "\n",
    "**Validation Set Performance** (242 samples):\n",
    "- **Logistic Regression**: 62.40% validation accuracy (BEST)\n",
    "  - Training: 98.85% \u2192 Overfit gap: 36.45%\n",
    "  - Fastest training: 0.23 seconds\n",
    "- **Random Forest**: 57.02% validation accuracy\n",
    "  - Training: 95.66% \u2192 Overfit gap: 38.63%\n",
    "  - Fast training: 0.28 seconds\n",
    "- **Gradient Boosting**: 56.61% validation accuracy\n",
    "  - Training: 99.82% \u2192 Overfit gap: 43.21% (highest overfitting)\n",
    "  - Slowest training: 158.83 seconds\n",
    "\n",
    "**Key insights**:\n",
    "1. **Logistic Regression wins**: Despite being the simplest model, it generalizes best (highest validation accuracy)\n",
    "2. **Overfitting is significant**: All models memorize training data well (95-99% train accuracy) but struggle to generalize (56-62% validation)\n",
    "3. **Complexity \u2260 Better performance**: Gradient Boosting's high complexity (99.82% train accuracy) leads to worst generalization\n",
    "4. **Class imbalance challenge**: 60% accuracy on 20 classes suggests models are biased toward frequent genres\n",
    "5. **Logistic Regression advantages**: Fast (0.23s), consistent (low CV variance), and best generalization make it the clear winner\n",
    "\n",
    "**Winner: Logistic Regression** - Selected for final test set evaluation in Section 7\n",
    "\n",
    "**Next steps** (Section 7):\n",
    "- Comprehensive evaluation of all three models on the **test set** (242 samples)\n",
    "- Detailed metrics: Accuracy, Precision, Recall, F1-Score (macro/weighted)\n",
    "- Per-genre performance analysis with confusion matrices\n",
    "- Final model recommendation for web application deployment\n",
    "\n",
    "---"
   ]
  },
  {
   "cell_type": "markdown",
   "id": "dfa75d47",
   "metadata": {},
   "source": [
    "---\n",
    "\n",
    "## Section 7: Model Evaluation on Test Set\n",
    "\n",
    "### 7.1 Test Set Evaluation Overview\n",
    "\n",
    "In this section, I will evaluate all three trained models on the **held-out test set** (242 samples, 15% of data) to obtain unbiased estimates of their real-world performance.\n",
    "\n",
    "**Why Test Set Evaluation is Critical**:\n",
    "- **Training set**: Used to fit model parameters \u2192 biased (overfitting possible)\n",
    "- **Validation set**: Used to select best model \u2192 somewhat biased (indirect influence on model selection)\n",
    "- **Test set**: Never seen during training or model selection \u2192 **unbiased** performance estimate\n",
    "\n",
    "**Evaluation Metrics**:\n",
    "1. **Accuracy**: Overall correct predictions (simple but can be misleading with class imbalance)\n",
    "2. **Precision** (macro/weighted): How many predicted positives are actually positive\n",
    "3. **Recall** (macro/weighted): How many actual positives are correctly identified\n",
    "4. **F1-Score** (macro/weighted): Harmonic mean of precision and recall\n",
    "5. **Confusion Matrix**: Shows which genres are confused with each other\n",
    "6. **Per-Genre Performance**: Detailed breakdown for each of the 20 genres\n",
    "\n",
    "**Macro vs Weighted Averages**:\n",
    "- **Macro**: Simple average across all classes (treats all genres equally)\n",
    "- **Weighted**: Average weighted by class support (gives more weight to frequent genres)\n",
    "- Given our 38:1 class imbalance, macro average is more informative for rare genres"
   ]
  },
  {
   "cell_type": "code",
   "execution_count": 25,
   "id": "66da02aa",
   "metadata": {},
   "outputs": [
    {
     "name": "stdout",
     "output_type": "stream",
     "text": [
      "======================================================================\n",
      "SECTION 7.2: TEST SET PREDICTIONS\n",
      "======================================================================\n",
      "\n",
      "Logistic Regression:\n",
      "  Accuracy:           0.6240\n",
      "  Precision (macro):  0.3878\n",
      "  Precision (wtd):    0.6041\n",
      "  Recall (macro):     0.3284\n",
      "  Recall (wtd):       0.6240\n",
      "  F1-Score (macro):   0.3449\n",
      "  F1-Score (wtd):     0.6078\n",
      "\n",
      "Random Forest:\n",
      "  Accuracy:           0.6529\n",
      "  Precision (macro):  0.3712\n",
      "  Precision (wtd):    0.5964\n",
      "  Recall (macro):     0.2655\n",
      "  Recall (wtd):       0.6529\n",
      "  F1-Score (macro):   0.2785\n",
      "  F1-Score (wtd):     0.5934\n",
      "\n",
      "Gradient Boosting:\n",
      "  Accuracy:           0.6281\n",
      "  Precision (macro):  0.3022\n",
      "  Precision (wtd):    0.5673\n",
      "  Recall (macro):     0.2554\n",
      "  Recall (wtd):       0.6281\n",
      "  F1-Score (macro):   0.2588\n",
      "  F1-Score (wtd):     0.5837\n",
      "\n",
      "======================================================================\n",
      "TEST SET PERFORMANCE COMPARISON\n",
      "======================================================================\n",
      "\n",
      "                     accuracy  precision_macro  precision_weighted  recall_macro  recall_weighted  f1_macro  f1_weighted\n",
      "Logistic Regression    0.6240           0.3878              0.6041        0.3284           0.6240    0.3449       0.6078\n",
      "Random Forest          0.6529           0.3712              0.5964        0.2655           0.6529    0.2785       0.5934\n",
      "Gradient Boosting      0.6281           0.3022              0.5673        0.2554           0.6281    0.2588       0.5837\n",
      "\n",
      "======================================================================\n",
      "BEST PERFORMERS BY METRIC\n",
      "======================================================================\n",
      "\n",
      "accuracy            : Random Forest             (0.6529)\n",
      "precision_macro     : Logistic Regression       (0.3878)\n",
      "precision_weighted  : Logistic Regression       (0.6041)\n",
      "recall_macro        : Logistic Regression       (0.3284)\n",
      "recall_weighted     : Random Forest             (0.6529)\n",
      "f1_macro            : Logistic Regression       (0.3449)\n",
      "f1_weighted         : Logistic Regression       (0.6078)\n",
      "\n",
      "======================================================================\n",
      "RECOMMENDED MODEL FOR DEPLOYMENT\n",
      "======================================================================\n",
      "\n",
      "\u2713 Best model: Logistic Regression\n",
      "  F1-Score (macro): 0.3449\n",
      "  \u2192 Macro F1 is the best metric for imbalanced datasets (treats all genres equally)\n",
      "  \u2192 This model will be recommended for the web application\n"
     ]
    }
   ],
   "source": [
    "# ======================================================================\n",
    "# SECTION 7: MODEL EVALUATION ON TEST SET\n",
    "# ======================================================================\n",
    "\n",
    "from sklearn.metrics import precision_score, recall_score, f1_score\n",
    "import pandas as pd\n",
    "\n",
    "print(f\"{'='*70}\")\n",
    "print(f\"SECTION 7.2: TEST SET PREDICTIONS\")\n",
    "print(f\"{'='*70}\\n\")\n",
    "\n",
    "# Get predictions from all models on test set\n",
    "test_predictions = {}\n",
    "test_metrics = {}\n",
    "\n",
    "for model_name, model in final_models.items():\n",
    "    # Predict on test set\n",
    "    y_test_pred = model.predict(X_test_scaled)\n",
    "    test_predictions[model_name] = y_test_pred\n",
    "    \n",
    "    # Calculate comprehensive metrics\n",
    "    test_acc = accuracy_score(y_test, y_test_pred)\n",
    "    precision_macro = precision_score(y_test, y_test_pred, average='macro', zero_division=0)\n",
    "    precision_weighted = precision_score(y_test, y_test_pred, average='weighted', zero_division=0)\n",
    "    recall_macro = recall_score(y_test, y_test_pred, average='macro', zero_division=0)\n",
    "    recall_weighted = recall_score(y_test, y_test_pred, average='weighted', zero_division=0)\n",
    "    f1_macro = f1_score(y_test, y_test_pred, average='macro', zero_division=0)\n",
    "    f1_weighted = f1_score(y_test, y_test_pred, average='weighted', zero_division=0)\n",
    "    \n",
    "    # Store metrics\n",
    "    test_metrics[model_name] = {\n",
    "        'accuracy': test_acc,\n",
    "        'precision_macro': precision_macro,\n",
    "        'precision_weighted': precision_weighted,\n",
    "        'recall_macro': recall_macro,\n",
    "        'recall_weighted': recall_weighted,\n",
    "        'f1_macro': f1_macro,\n",
    "        'f1_weighted': f1_weighted\n",
    "    }\n",
    "    \n",
    "    print(f\"{model_name}:\")\n",
    "    print(f\"  Accuracy:           {test_acc:.4f}\")\n",
    "    print(f\"  Precision (macro):  {precision_macro:.4f}\")\n",
    "    print(f\"  Precision (wtd):    {precision_weighted:.4f}\")\n",
    "    print(f\"  Recall (macro):     {recall_macro:.4f}\")\n",
    "    print(f\"  Recall (wtd):       {recall_weighted:.4f}\")\n",
    "    print(f\"  F1-Score (macro):   {f1_macro:.4f}\")\n",
    "    print(f\"  F1-Score (wtd):     {f1_weighted:.4f}\\n\")\n",
    "\n",
    "# Create comprehensive metrics comparison table\n",
    "print(f\"{'='*70}\")\n",
    "print(f\"TEST SET PERFORMANCE COMPARISON\")\n",
    "print(f\"{'='*70}\\n\")\n",
    "\n",
    "metrics_df = pd.DataFrame(test_metrics).T\n",
    "metrics_df = metrics_df.round(4)\n",
    "\n",
    "print(metrics_df.to_string())\n",
    "\n",
    "# Identify best model for each metric\n",
    "print(f\"\\n{'='*70}\")\n",
    "print(f\"BEST PERFORMERS BY METRIC\")\n",
    "print(f\"{'='*70}\\n\")\n",
    "\n",
    "for metric in metrics_df.columns:\n",
    "    best_model = metrics_df[metric].idxmax()\n",
    "    best_score = metrics_df[metric].max()\n",
    "    print(f\"{metric:20s}: {best_model:<25s} ({best_score:.4f})\")\n",
    "\n",
    "# Overall best model (based on F1-macro, which handles class imbalance best)\n",
    "best_overall = metrics_df['f1_macro'].idxmax()\n",
    "best_f1 = metrics_df.loc[best_overall, 'f1_macro']\n",
    "\n",
    "print(f\"\\n{'='*70}\")\n",
    "print(f\"RECOMMENDED MODEL FOR DEPLOYMENT\")\n",
    "print(f\"{'='*70}\")\n",
    "print(f\"\\n\u2713 Best model: {best_overall}\")\n",
    "print(f\"  F1-Score (macro): {best_f1:.4f}\")\n",
    "print(f\"  \u2192 Macro F1 is the best metric for imbalanced datasets (treats all genres equally)\")\n",
    "print(f\"  \u2192 This model will be recommended for the web application\")"
   ]
  },
  {
   "cell_type": "markdown",
   "id": "cb65b64f",
   "metadata": {},
   "source": [
    "### 7.3 Confusion Matrices\n",
    "\n",
    "Confusion matrices reveal which genres are most often confused with each other, providing insights into model errors and genre similarities."
   ]
  },
  {
   "cell_type": "code",
   "execution_count": 26,
   "id": "1e257d6f",
   "metadata": {},
   "outputs": [
    {
     "name": "stdout",
     "output_type": "stream",
     "text": [
      "\n",
      "======================================================================\n",
      "SECTION 7.3: CONFUSION MATRICES\n",
      "======================================================================\n",
      "\n",
      "Logistic Regression:\n",
      "  Mean per-class accuracy: 0.3284\n",
      "  Best genre:  new age (1.0000)\n",
      "  Worst genre: afro adura (0.0000)\n",
      "  Top confusions:\n",
      "    \u2022 country \u2192 Unknown (1.00)\n",
      "    \u2022 edm \u2192 Unknown (1.00)\n",
      "    \u2022 lo-fi beats \u2192 lo-fi (1.00)\n",
      "    \u2022 lo-fi hip hop \u2192 lo-fi (1.00)\n",
      "    \u2022 reggaeton \u2192 afrobeats (1.00)\n",
      "\n",
      "Random Forest:\n",
      "  Mean per-class accuracy: 0.2655\n",
      "  Best genre:  worship (0.9273)\n",
      "  Worst genre: afro adura (0.0000)\n",
      "  Top confusions:\n",
      "    \u2022 edm \u2192 Unknown (1.00)\n",
      "    \u2022 lo-fi beats \u2192 lo-fi (1.00)\n",
      "    \u2022 lo-fi hip hop \u2192 lo-fi (1.00)\n",
      "    \u2022 traditional music \u2192 afrobeats (1.00)\n",
      "    \u2022 christian \u2192 Unknown (0.83)\n",
      "\n",
      "Gradient Boosting:\n",
      "  Mean per-class accuracy: 0.2554\n",
      "  Best genre:  lo-fi (0.8824)\n",
      "  Worst genre: afro adura (0.0000)\n",
      "  Top confusions:\n",
      "    \u2022 lo-fi beats \u2192 lo-fi (1.00)\n",
      "    \u2022 lo-fi hip hop \u2192 lo-fi (1.00)\n",
      "    \u2022 rap \u2192 afrobeats (1.00)\n",
      "    \u2022 traditional music \u2192 afrobeats (1.00)\n",
      "    \u2022 edm \u2192 Unknown (0.67)\n",
      "\n"
     ]
    },
    {
     "data": {
      "application/vnd.plotly.v1+json": {
       "config": {
        "plotlyServerURL": "https://plot.ly"
       },
       "data": [
        {
         "colorscale": [
          [
           0,
           "rgb(247,251,255)"
          ],
          [
           0.125,
           "rgb(222,235,247)"
          ],
          [
           0.25,
           "rgb(198,219,239)"
          ],
          [
           0.375,
           "rgb(158,202,225)"
          ],
          [
           0.5,
           "rgb(107,174,214)"
          ],
          [
           0.625,
           "rgb(66,146,198)"
          ],
          [
           0.75,
           "rgb(33,113,181)"
          ],
          [
           0.875,
           "rgb(8,81,156)"
          ],
          [
           1,
           "rgb(8,48,107)"
          ]
         ],
         "hovertemplate": "True: %{y}<br>Pred: %{x}<br>Rate: %{z:.2f}<extra></extra>",
         "showscale": false,
         "type": "heatmap",
         "x": [
          "Unknown",
          "african gospel",
          "afro adura",
          "afrobeats",
          "amapiano",
          "christian",
          "country",
          "edm",
          "egyptian pop",
          "gospel",
          "lo-fi",
          "lo-fi beats",
          "lo-fi hip hop",
          "new age",
          "rap",
          "reggaeton",
          "soft pop",
          "traditional music",
          "uk drill",
          "worship"
         ],
         "xaxis": "x",
         "y": [
          "Unknown",
          "african gospel",
          "afro adura",
          "afrobeats",
          "amapiano",
          "christian",
          "country",
          "edm",
          "egyptian pop",
          "gospel",
          "lo-fi",
          "lo-fi beats",
          "lo-fi hip hop",
          "new age",
          "rap",
          "reggaeton",
          "soft pop",
          "traditional music",
          "uk drill",
          "worship"
         ],
         "yaxis": "y",
         "z": {
          "bdata": "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",
          "dtype": "f8",
          "shape": "20, 20"
         }
        },
        {
         "colorscale": [
          [
           0,
           "rgb(247,251,255)"
          ],
          [
           0.125,
           "rgb(222,235,247)"
          ],
          [
           0.25,
           "rgb(198,219,239)"
          ],
          [
           0.375,
           "rgb(158,202,225)"
          ],
          [
           0.5,
           "rgb(107,174,214)"
          ],
          [
           0.625,
           "rgb(66,146,198)"
          ],
          [
           0.75,
           "rgb(33,113,181)"
          ],
          [
           0.875,
           "rgb(8,81,156)"
          ],
          [
           1,
           "rgb(8,48,107)"
          ]
         ],
         "hovertemplate": "True: %{y}<br>Pred: %{x}<br>Rate: %{z:.2f}<extra></extra>",
         "showscale": false,
         "type": "heatmap",
         "x": [
          "Unknown",
          "african gospel",
          "afro adura",
          "afrobeats",
          "amapiano",
          "christian",
          "country",
          "edm",
          "egyptian pop",
          "gospel",
          "lo-fi",
          "lo-fi beats",
          "lo-fi hip hop",
          "new age",
          "rap",
          "reggaeton",
          "soft pop",
          "traditional music",
          "uk drill",
          "worship"
         ],
         "xaxis": "x2",
         "y": [
          "Unknown",
          "african gospel",
          "afro adura",
          "afrobeats",
          "amapiano",
          "christian",
          "country",
          "edm",
          "egyptian pop",
          "gospel",
          "lo-fi",
          "lo-fi beats",
          "lo-fi hip hop",
          "new age",
          "rap",
          "reggaeton",
          "soft pop",
          "traditional music",
          "uk drill",
          "worship"
         ],
         "yaxis": "y2",
         "z": {
          "bdata": "u67ruq7r6j8AAAAAAAAAAAAAAAAAAAAAEARBEARBsD8AAAAAAAAAAAAAAAAAAAAAAAAAAAAAAAAAAAAAAAAAAAAAAAAAAAAAAAAAAAAAAAAYhmEYhmGoPwAAAAAAAAAAAAAAAAAAAAAAAAAAAAAAAAAAAAAAAAAAAAAAAAAAAAAAAAAAAAAAAAAAAAAAAAAAAAAAAAAAAAAYhmEYhmGoP5qZmZmZmdk/mpmZmZmZyT8AAAAAAAAAAJqZmZmZmbk/AAAAAAAAAAAAAAAAAAAAAAAAAAAAAAAAAAAAAAAAAAAAAAAAAAAAAAAAAAAAAAAAAAAAAAAAAAAAAAAAAAAAAAAAAAAAAAAAAAAAAAAAAAAAAAAAAAAAAAAAAAAAAAAAAAAAAAAAAAAAAAAAAAAAAAAAAAAAAAAAMzMzMzMz0z8AAAAAAADgPwAAAAAAAAAAAAAAAAAAAAAAAAAAAADgPwAAAAAAAAAAAAAAAAAAAAAAAAAAAAAAAAAAAAAAAAAAAAAAAAAAAAAAAAAAAAAAAAAAAAAAAAAAAAAAAAAAAAAAAAAAAAAAAAAAAAAAAAAAAAAAAAAAAAAAAAAAAAAAAAAAAAAAAAAAAAAAAAAAAAAAAAAAAAAAAAAAAAAAAAAAkAZpkAZp0D8AAAAAAAAAAAAAAAAAAAAAuHzLt3zL5z8AAAAAAAAAAAAAAAAAAAAAAAAAAAAAAAAAAAAAAAAAAAAAAAAAAAAAAAAAAAAAAAAAAAAAAAAAAAAAAAAAAAAAAAAAAAAAAAAAAAAAAAAAAAAAAAAAAAAAAAAAAAAAAAAAAAAAAAAAAAAAAAAAAAAAAAAAAAAAAAAAAAAAAAAAAAAAAAAAAOA/AAAAAAAAAAAAAAAAAAAAAAAAAAAAAOA/AAAAAAAAAAAAAAAAAAAAAAAAAAAAAAAAAAAAAAAAAAAAAAAAAAAAAAAAAAAAAAAAAAAAAAAAAAAAAAAAAAAAAAAAAAAAAAAAAAAAAAAAAAAAAAAAAAAAAAAAAAAAAAAAAAAAAAAAAAAAAAAAAAAAAAAAAAAAAAAAAAAAAAAAAACrqqqqqqrqPwAAAAAAAAAAAAAAAAAAAAAAAAAAAAAAAAAAAAAAAAAAAAAAAAAAAAAAAAAAAAAAAAAAAAAAAAAAAAAAAAAAAAAAAAAAAAAAAAAAAAAAAAAAAAAAAAAAAAAAAAAAAAAAAAAAAAAAAAAAAAAAAAAAAAAAAAAAAAAAAAAAAAAAAAAAAAAAAAAAAAAAAAAAAAAAAFVVVVVVVcU/AAAAAAAA4D8AAAAAAAAAAAAAAAAAAAAAAAAAAAAA4D8AAAAAAAAAAAAAAAAAAAAAAAAAAAAAAAAAAAAAAAAAAAAAAAAAAAAAAAAAAAAAAAAAAAAAAAAAAAAAAAAAAAAAAAAAAAAAAAAAAAAAAAAAAAAAAAAAAAAAAAAAAAAAAAAAAAAAAAAAAAAAAAAAAAAAAAAAAAAAAAAAAAAAAAAAAAAAAAAAAPA/AAAAAAAAAAAAAAAAAAAAAAAAAAAAAAAAAAAAAAAAAAAAAAAAAAAAAAAAAAAAAAAAAAAAAAAAAAAAAAAAAAAAAAAAAAAAAAAAAAAAAAAAAAAAAAAAAAAAAAAAAAAAAAAAAAAAAAAAAAAAAAAAAAAAAAAAAAAAAAAAAAAAAAAAAAAAAAAAAAAAAAAAAAAAAAAAAAAAAAAAAABVVVVVVVXVPwAAAAAAAAAAAAAAAAAAAABVVVVVVVXVPwAAAAAAAAAAAAAAAAAAAAAAAAAAAAAAAAAAAAAAAAAAVVVVVVVV1T8AAAAAAAAAAAAAAAAAAAAAAAAAAAAAAAAAAAAAAAAAAAAAAAAAAAAAAAAAAAAAAAAAAAAAAAAAAAAAAAAAAAAAAAAAAAAAAAAAAAAAAAAAAAAAAAAAAAAAAAAAAAAA5D8AAAAAAAAAAAAAAAAAAAAAAAAAAAAAAAAAAAAAAAAAAAAAAAAAAAAAAAAAAAAAAAAAAAAAAAAAAAAAAAAAAAAAAAAAAAAAAAAAAAAAAAAAAAAAAAAAAAAAAAAAAAAAAAAAAAAAAAAAAAAAAAAAAAAAAAAAAAAAAAAAAAAAAAAAAAAAAAAAAAAAAAAAAAAAwD8AAAAAAADQP5eWlpaWlsY/AAAAAAAAAAAAAAAAAAAAAAAAAAAAAAAAAAAAAAAAAAAAAAAAAAAAAAAAAAAAAAAAAAAAAAAAAAAAAAAAAAAAAAAAAAAAAAAAeHh4eHh46D8eHh4eHh6uPwAAAAAAAAAAAAAAAAAAAAAAAAAAAAAAAAAAAAAAAAAAAAAAAAAAAAAAAAAAAAAAAAAAAAAAAAAAAAAAAAAAAAAAAAAAAAAAAAAAAAAAAAAAAAAAAAAAAAAAAAAAAAAAAAAAAAAAAAAAAAAAAAAAAAAAAAAAAAAAAAAAAAAAAAAAAAAAAAAAAAAAAAAAAAAAAAAAAAAAAPA/AAAAAAAAAAAAAAAAAAAAAAAAAAAAAAAAAAAAAAAAAAAAAAAAAAAAAAAAAAAAAAAAAAAAAAAAAAAAAAAAAAAAAAAAAAAAAAAAAAAAAAAAAAAAAAAAAAAAAAAAAAAAAAAAAAAAAAAAAAAAAAAAAAAAAAAAAAAAAAAAAAAAAAAAAAAAAAAAAAAAAAAAAAAAAAAAAAAAAAAAAAAAAAAAAADwPwAAAAAAAAAAAAAAAAAAAAAAAAAAAAAAAAAAAAAAAAAAAAAAAAAAAAAAAAAAAAAAAAAAAAAAAAAAAAAAAAAAAAAAAAAAAAAAAJqZmZmZmck/AAAAAAAAAAAAAAAAAAAAAAAAAAAAAAAAAAAAAAAAAAAAAAAAAAAAAAAAAAAAAAAAAAAAAAAAAAAAAAAAAAAAAAAAAAAAAAAAAAAAAAAAAAAAAAAAAAAAAAAAAAAAAAAAmpmZmZmZ6T8AAAAAAAAAAAAAAAAAAAAAAAAAAAAAAAAAAAAAAAAAAAAAAAAAAAAAAAAAAAAAAABVVVVVVVXlPwAAAAAAAAAAAAAAAAAAAABVVVVVVVXVPwAAAAAAAAAAAAAAAAAAAAAAAAAAAAAAAAAAAAAAAAAAAAAAAAAAAAAAAAAAAAAAAAAAAAAAAAAAAAAAAAAAAAAAAAAAAAAAAAAAAAAAAAAAAAAAAAAAAAAAAAAAAAAAAAAAAAAAAAAAAAAAAAAAAAAAAAAAAAAAAAAAAAAAAAAAVVVVVVVV5T8AAAAAAAAAAAAAAAAAAAAAVVVVVVVV1T8AAAAAAAAAAAAAAAAAAAAAAAAAAAAAAAAAAAAAAAAAAAAAAAAAAAAAAAAAAAAAAAAAAAAAAAAAAAAAAAAAAAAAAAAAAAAAAAAAAAAAAAAAAAAAAAAAAAAAAAAAAAAAAAAAAAAAAAAAAAAAAAAAAAAAAAAAAAAAAAAAAAAAAAAAAJqZmZmZmek/AAAAAAAAAAAAAAAAAAAAAAAAAAAAAAAAAAAAAAAAAAAAAAAAAAAAAAAAAAAAAAAAAAAAAAAAAAAAAAAAAAAAAAAAAAAAAAAAAAAAAAAAAAAAAAAAAAAAAAAAAAAAAAAAAAAAAAAAAAAAAAAAAAAAAAAAAAAAAAAAmpmZmZmZyT8AAAAAAAAAAAAAAAAAAAAAAAAAAAAAAAAAAAAAAAAAAAAAAAAAAAAAAAAAAAAAAAAAAAAAAADwPwAAAAAAAAAAAAAAAAAAAAAAAAAAAAAAAAAAAAAAAAAAAAAAAAAAAAAAAAAAAAAAAAAAAAAAAAAAAAAAAAAAAAAAAAAAAAAAAAAAAAAAAAAAAAAAAAAAAAAAAAAAAAAAAAAAAAAAAAAAAAAAAAAAAAAAAAAAAAAAAAAAAAAAAAAAAAAAAAAA0D8AAAAAAAAAAAAAAAAAAAAAAAAAAAAA0D8AAAAAAAAAAAAAAAAAAAAAAAAAAAAAAAAAAAAAAAAAAAAAAAAAAAAAAAAAAAAAAAAAAAAAAAAAAAAAAAAAAAAAAAAAAAAAAAAAAAAAAAAAAAAAAAAAAAAAAAAAAAAAAAAAAAAAAAAAAAAAAAAAAAAAAAAAAAAA4D8AAAAAAAAAAO0b1r5h7as/AAAAAAAAAAAAAAAAAAAAAJ4S5ClBnpI/AAAAAAAAAAAAAAAAAAAAAAAAAAAAAAAAAAAAAAAAAAAAAAAAAAAAAAAAAAAAAAAAAAAAAAAAAAAAAAAAAAAAAAAAAAAAAAAAAAAAAAAAAAAAAAAAAAAAAAAAAAAAAAAAAAAAAAAAAAAAAAAAAAAAAAAAAAAAAAAArH3D2jes7T8=",
          "dtype": "f8",
          "shape": "20, 20"
         }
        },
        {
         "colorscale": [
          [
           0,
           "rgb(247,251,255)"
          ],
          [
           0.125,
           "rgb(222,235,247)"
          ],
          [
           0.25,
           "rgb(198,219,239)"
          ],
          [
           0.375,
           "rgb(158,202,225)"
          ],
          [
           0.5,
           "rgb(107,174,214)"
          ],
          [
           0.625,
           "rgb(66,146,198)"
          ],
          [
           0.75,
           "rgb(33,113,181)"
          ],
          [
           0.875,
           "rgb(8,81,156)"
          ],
          [
           1,
           "rgb(8,48,107)"
          ]
         ],
         "hovertemplate": "True: %{y}<br>Pred: %{x}<br>Rate: %{z:.2f}<extra></extra>",
         "showscale": true,
         "type": "heatmap",
         "x": [
          "Unknown",
          "african gospel",
          "afro adura",
          "afrobeats",
          "amapiano",
          "christian",
          "country",
          "edm",
          "egyptian pop",
          "gospel",
          "lo-fi",
          "lo-fi beats",
          "lo-fi hip hop",
          "new age",
          "rap",
          "reggaeton",
          "soft pop",
          "traditional music",
          "uk drill",
          "worship"
         ],
         "xaxis": "x3",
         "y": [
          "Unknown",
          "african gospel",
          "afro adura",
          "afrobeats",
          "amapiano",
          "christian",
          "country",
          "edm",
          "egyptian pop",
          "gospel",
          "lo-fi",
          "lo-fi beats",
          "lo-fi hip hop",
          "new age",
          "rap",
          "reggaeton",
          "soft pop",
          "traditional music",
          "uk drill",
          "worship"
         ],
         "yaxis": "y3",
         "z": {
          "bdata": "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",
          "dtype": "f8",
          "shape": "20, 20"
         }
        }
       ],
       "layout": {
        "annotations": [
         {
          "font": {
           "size": 16
          },
          "showarrow": false,
          "text": "Logistic Regression",
          "x": 0.12666666666666668,
          "xanchor": "center",
          "xref": "paper",
          "y": 1,
          "yanchor": "bottom",
          "yref": "paper"
         },
         {
          "font": {
           "size": 16
          },
          "showarrow": false,
          "text": "Random Forest",
          "x": 0.5,
          "xanchor": "center",
          "xref": "paper",
          "y": 1,
          "yanchor": "bottom",
          "yref": "paper"
         },
         {
          "font": {
           "size": 16
          },
          "showarrow": false,
          "text": "Gradient Boosting",
          "x": 0.8733333333333333,
          "xanchor": "center",
          "xref": "paper",
          "y": 1,
          "yanchor": "bottom",
          "yref": "paper"
         }
        ],
        "height": 600,
        "showlegend": false,
        "template": {
         "data": {
          "bar": [
           {
            "error_x": {
             "color": "#2a3f5f"
            },
            "error_y": {
             "color": "#2a3f5f"
            },
            "marker": {
             "line": {
              "color": "#E5ECF6",
              "width": 0.5
             },
             "pattern": {
              "fillmode": "overlay",
              "size": 10,
              "solidity": 0.2
             }
            },
            "type": "bar"
           }
          ],
          "barpolar": [
           {
            "marker": {
             "line": {
              "color": "#E5ECF6",
              "width": 0.5
             },
             "pattern": {
              "fillmode": "overlay",
              "size": 10,
              "solidity": 0.2
             }
            },
            "type": "barpolar"
           }
          ],
          "carpet": [
           {
            "aaxis": {
             "endlinecolor": "#2a3f5f",
             "gridcolor": "white",
             "linecolor": "white",
             "minorgridcolor": "white",
             "startlinecolor": "#2a3f5f"
            },
            "baxis": {
             "endlinecolor": "#2a3f5f",
             "gridcolor": "white",
             "linecolor": "white",
             "minorgridcolor": "white",
             "startlinecolor": "#2a3f5f"
            },
            "type": "carpet"
           }
          ],
          "choropleth": [
           {
            "colorbar": {
             "outlinewidth": 0,
             "ticks": ""
            },
            "type": "choropleth"
           }
          ],
          "contour": [
           {
            "colorbar": {
             "outlinewidth": 0,
             "ticks": ""
            },
            "colorscale": [
             [
              0,
              "#0d0887"
             ],
             [
              0.1111111111111111,
              "#46039f"
             ],
             [
              0.2222222222222222,
              "#7201a8"
             ],
             [
              0.3333333333333333,
              "#9c179e"
             ],
             [
              0.4444444444444444,
              "#bd3786"
             ],
             [
              0.5555555555555556,
              "#d8576b"
             ],
             [
              0.6666666666666666,
              "#ed7953"
             ],
             [
              0.7777777777777778,
              "#fb9f3a"
             ],
             [
              0.8888888888888888,
              "#fdca26"
             ],
             [
              1,
              "#f0f921"
             ]
            ],
            "type": "contour"
           }
          ],
          "contourcarpet": [
           {
            "colorbar": {
             "outlinewidth": 0,
             "ticks": ""
            },
            "type": "contourcarpet"
           }
          ],
          "heatmap": [
           {
            "colorbar": {
             "outlinewidth": 0,
             "ticks": ""
            },
            "colorscale": [
             [
              0,
              "#0d0887"
             ],
             [
              0.1111111111111111,
              "#46039f"
             ],
             [
              0.2222222222222222,
              "#7201a8"
             ],
             [
              0.3333333333333333,
              "#9c179e"
             ],
             [
              0.4444444444444444,
              "#bd3786"
             ],
             [
              0.5555555555555556,
              "#d8576b"
             ],
             [
              0.6666666666666666,
              "#ed7953"
             ],
             [
              0.7777777777777778,
              "#fb9f3a"
             ],
             [
              0.8888888888888888,
              "#fdca26"
             ],
             [
              1,
              "#f0f921"
             ]
            ],
            "type": "heatmap"
           }
          ],
          "histogram": [
           {
            "marker": {
             "pattern": {
              "fillmode": "overlay",
              "size": 10,
              "solidity": 0.2
             }
            },
            "type": "histogram"
           }
          ],
          "histogram2d": [
           {
            "colorbar": {
             "outlinewidth": 0,
             "ticks": ""
            },
            "colorscale": [
             [
              0,
              "#0d0887"
             ],
             [
              0.1111111111111111,
              "#46039f"
             ],
             [
              0.2222222222222222,
              "#7201a8"
             ],
             [
              0.3333333333333333,
              "#9c179e"
             ],
             [
              0.4444444444444444,
              "#bd3786"
             ],
             [
              0.5555555555555556,
              "#d8576b"
             ],
             [
              0.6666666666666666,
              "#ed7953"
             ],
             [
              0.7777777777777778,
              "#fb9f3a"
             ],
             [
              0.8888888888888888,
              "#fdca26"
             ],
             [
              1,
              "#f0f921"
             ]
            ],
            "type": "histogram2d"
           }
          ],
          "histogram2dcontour": [
           {
            "colorbar": {
             "outlinewidth": 0,
             "ticks": ""
            },
            "colorscale": [
             [
              0,
              "#0d0887"
             ],
             [
              0.1111111111111111,
              "#46039f"
             ],
             [
              0.2222222222222222,
              "#7201a8"
             ],
             [
              0.3333333333333333,
              "#9c179e"
             ],
             [
              0.4444444444444444,
              "#bd3786"
             ],
             [
              0.5555555555555556,
              "#d8576b"
             ],
             [
              0.6666666666666666,
              "#ed7953"
             ],
             [
              0.7777777777777778,
              "#fb9f3a"
             ],
             [
              0.8888888888888888,
              "#fdca26"
             ],
             [
              1,
              "#f0f921"
             ]
            ],
            "type": "histogram2dcontour"
           }
          ],
          "mesh3d": [
           {
            "colorbar": {
             "outlinewidth": 0,
             "ticks": ""
            },
            "type": "mesh3d"
           }
          ],
          "parcoords": [
           {
            "line": {
             "colorbar": {
              "outlinewidth": 0,
              "ticks": ""
             }
            },
            "type": "parcoords"
           }
          ],
          "pie": [
           {
            "automargin": true,
            "type": "pie"
           }
          ],
          "scatter": [
           {
            "fillpattern": {
             "fillmode": "overlay",
             "size": 10,
             "solidity": 0.2
            },
            "type": "scatter"
           }
          ],
          "scatter3d": [
           {
            "line": {
             "colorbar": {
              "outlinewidth": 0,
              "ticks": ""
             }
            },
            "marker": {
             "colorbar": {
              "outlinewidth": 0,
              "ticks": ""
             }
            },
            "type": "scatter3d"
           }
          ],
          "scattercarpet": [
           {
            "marker": {
             "colorbar": {
              "outlinewidth": 0,
              "ticks": ""
             }
            },
            "type": "scattercarpet"
           }
          ],
          "scattergeo": [
           {
            "marker": {
             "colorbar": {
              "outlinewidth": 0,
              "ticks": ""
             }
            },
            "type": "scattergeo"
           }
          ],
          "scattergl": [
           {
            "marker": {
             "colorbar": {
              "outlinewidth": 0,
              "ticks": ""
             }
            },
            "type": "scattergl"
           }
          ],
          "scattermap": [
           {
            "marker": {
             "colorbar": {
              "outlinewidth": 0,
              "ticks": ""
             }
            },
            "type": "scattermap"
           }
          ],
          "scattermapbox": [
           {
            "marker": {
             "colorbar": {
              "outlinewidth": 0,
              "ticks": ""
             }
            },
            "type": "scattermapbox"
           }
          ],
          "scatterpolar": [
           {
            "marker": {
             "colorbar": {
              "outlinewidth": 0,
              "ticks": ""
             }
            },
            "type": "scatterpolar"
           }
          ],
          "scatterpolargl": [
           {
            "marker": {
             "colorbar": {
              "outlinewidth": 0,
              "ticks": ""
             }
            },
            "type": "scatterpolargl"
           }
          ],
          "scatterternary": [
           {
            "marker": {
             "colorbar": {
              "outlinewidth": 0,
              "ticks": ""
             }
            },
            "type": "scatterternary"
           }
          ],
          "surface": [
           {
            "colorbar": {
             "outlinewidth": 0,
             "ticks": ""
            },
            "colorscale": [
             [
              0,
              "#0d0887"
             ],
             [
              0.1111111111111111,
              "#46039f"
             ],
             [
              0.2222222222222222,
              "#7201a8"
             ],
             [
              0.3333333333333333,
              "#9c179e"
             ],
             [
              0.4444444444444444,
              "#bd3786"
             ],
             [
              0.5555555555555556,
              "#d8576b"
             ],
             [
              0.6666666666666666,
              "#ed7953"
             ],
             [
              0.7777777777777778,
              "#fb9f3a"
             ],
             [
              0.8888888888888888,
              "#fdca26"
             ],
             [
              1,
              "#f0f921"
             ]
            ],
            "type": "surface"
           }
          ],
          "table": [
           {
            "cells": {
             "fill": {
              "color": "#EBF0F8"
             },
             "line": {
              "color": "white"
             }
            },
            "header": {
             "fill": {
              "color": "#C8D4E3"
             },
             "line": {
              "color": "white"
             }
            },
            "type": "table"
           }
          ]
         },
         "layout": {
          "annotationdefaults": {
           "arrowcolor": "#2a3f5f",
           "arrowhead": 0,
           "arrowwidth": 1
          },
          "autotypenumbers": "strict",
          "coloraxis": {
           "colorbar": {
            "outlinewidth": 0,
            "ticks": ""
           }
          },
          "colorscale": {
           "diverging": [
            [
             0,
             "#8e0152"
            ],
            [
             0.1,
             "#c51b7d"
            ],
            [
             0.2,
             "#de77ae"
            ],
            [
             0.3,
             "#f1b6da"
            ],
            [
             0.4,
             "#fde0ef"
            ],
            [
             0.5,
             "#f7f7f7"
            ],
            [
             0.6,
             "#e6f5d0"
            ],
            [
             0.7,
             "#b8e186"
            ],
            [
             0.8,
             "#7fbc41"
            ],
            [
             0.9,
             "#4d9221"
            ],
            [
             1,
             "#276419"
            ]
           ],
           "sequential": [
            [
             0,
             "#0d0887"
            ],
            [
             0.1111111111111111,
             "#46039f"
            ],
            [
             0.2222222222222222,
             "#7201a8"
            ],
            [
             0.3333333333333333,
             "#9c179e"
            ],
            [
             0.4444444444444444,
             "#bd3786"
            ],
            [
             0.5555555555555556,
             "#d8576b"
            ],
            [
             0.6666666666666666,
             "#ed7953"
            ],
            [
             0.7777777777777778,
             "#fb9f3a"
            ],
            [
             0.8888888888888888,
             "#fdca26"
            ],
            [
             1,
             "#f0f921"
            ]
           ],
           "sequentialminus": [
            [
             0,
             "#0d0887"
            ],
            [
             0.1111111111111111,
             "#46039f"
            ],
            [
             0.2222222222222222,
             "#7201a8"
            ],
            [
             0.3333333333333333,
             "#9c179e"
            ],
            [
             0.4444444444444444,
             "#bd3786"
            ],
            [
             0.5555555555555556,
             "#d8576b"
            ],
            [
             0.6666666666666666,
             "#ed7953"
            ],
            [
             0.7777777777777778,
             "#fb9f3a"
            ],
            [
             0.8888888888888888,
             "#fdca26"
            ],
            [
             1,
             "#f0f921"
            ]
           ]
          },
          "colorway": [
           "#636efa",
           "#EF553B",
           "#00cc96",
           "#ab63fa",
           "#FFA15A",
           "#19d3f3",
           "#FF6692",
           "#B6E880",
           "#FF97FF",
           "#FECB52"
          ],
          "font": {
           "color": "#2a3f5f"
          },
          "geo": {
           "bgcolor": "white",
           "lakecolor": "white",
           "landcolor": "#E5ECF6",
           "showlakes": true,
           "showland": true,
           "subunitcolor": "white"
          },
          "hoverlabel": {
           "align": "left"
          },
          "hovermode": "closest",
          "mapbox": {
           "style": "light"
          },
          "paper_bgcolor": "white",
          "plot_bgcolor": "#E5ECF6",
          "polar": {
           "angularaxis": {
            "gridcolor": "white",
            "linecolor": "white",
            "ticks": ""
           },
           "bgcolor": "#E5ECF6",
           "radialaxis": {
            "gridcolor": "white",
            "linecolor": "white",
            "ticks": ""
           }
          },
          "scene": {
           "xaxis": {
            "backgroundcolor": "#E5ECF6",
            "gridcolor": "white",
            "gridwidth": 2,
            "linecolor": "white",
            "showbackground": true,
            "ticks": "",
            "zerolinecolor": "white"
           },
           "yaxis": {
            "backgroundcolor": "#E5ECF6",
            "gridcolor": "white",
            "gridwidth": 2,
            "linecolor": "white",
            "showbackground": true,
            "ticks": "",
            "zerolinecolor": "white"
           },
           "zaxis": {
            "backgroundcolor": "#E5ECF6",
            "gridcolor": "white",
            "gridwidth": 2,
            "linecolor": "white",
            "showbackground": true,
            "ticks": "",
            "zerolinecolor": "white"
           }
          },
          "shapedefaults": {
           "line": {
            "color": "#2a3f5f"
           }
          },
          "ternary": {
           "aaxis": {
            "gridcolor": "white",
            "linecolor": "white",
            "ticks": ""
           },
           "baxis": {
            "gridcolor": "white",
            "linecolor": "white",
            "ticks": ""
           },
           "bgcolor": "#E5ECF6",
           "caxis": {
            "gridcolor": "white",
            "linecolor": "white",
            "ticks": ""
           }
          },
          "title": {
           "x": 0.05
          },
          "xaxis": {
           "automargin": true,
           "gridcolor": "white",
           "linecolor": "white",
           "ticks": "",
           "title": {
            "standoff": 15
           },
           "zerolinecolor": "white",
           "zerolinewidth": 2
          },
          "yaxis": {
           "automargin": true,
           "gridcolor": "white",
           "linecolor": "white",
           "ticks": "",
           "title": {
            "standoff": 15
           },
           "zerolinecolor": "white",
           "zerolinewidth": 2
          }
         }
        },
        "title": {
         "text": "Confusion Matrices (Normalized by True Label) - Test Set Performance"
        },
        "xaxis": {
         "anchor": "y",
         "domain": [
          0,
          0.25333333333333335
         ],
         "tickangle": 45,
         "title": {
          "text": "Predicted Genre"
         }
        },
        "xaxis2": {
         "anchor": "y2",
         "domain": [
          0.37333333333333335,
          0.6266666666666667
         ],
         "tickangle": 45,
         "title": {
          "text": "Predicted Genre"
         }
        },
        "xaxis3": {
         "anchor": "y3",
         "domain": [
          0.7466666666666667,
          1
         ],
         "tickangle": 45,
         "title": {
          "text": "Predicted Genre"
         }
        },
        "yaxis": {
         "anchor": "x",
         "domain": [
          0,
          1
         ],
         "title": {
          "text": "True Genre"
         }
        },
        "yaxis2": {
         "anchor": "x2",
         "domain": [
          0,
          1
         ],
         "title": {
          "text": "True Genre"
         }
        },
        "yaxis3": {
         "anchor": "x3",
         "domain": [
          0,
          1
         ],
         "title": {
          "text": "True Genre"
         }
        }
       }
      }
     },
     "metadata": {},
     "output_type": "display_data"
    },
    {
     "name": "stdout",
     "output_type": "stream",
     "text": [
      "\u2713 Confusion matrices show which genres are most frequently misclassified\n",
      "  \u2192 Diagonal elements = correct predictions (darker = better)\n",
      "  \u2192 Off-diagonal elements = misclassifications (lighter = better)\n"
     ]
    }
   ],
   "source": [
    "print(f\"\\n{'='*70}\")\n",
    "print(f\"SECTION 7.3: CONFUSION MATRICES\")\n",
    "print(f\"{'='*70}\\n\")\n",
    "\n",
    "# Get genre names (decode from label encoder)\n",
    "genre_names = le.classes_\n",
    "\n",
    "# Create confusion matrices for all models\n",
    "from plotly.subplots import make_subplots\n",
    "\n",
    "fig_cms = make_subplots(\n",
    "    rows=1, cols=3,\n",
    "    subplot_titles=[f'{name}' for name in final_models.keys()],\n",
    "    specs=[[{'type': 'heatmap'}, {'type': 'heatmap'}, {'type': 'heatmap'}]],\n",
    "    horizontal_spacing=0.12\n",
    ")\n",
    "\n",
    "# Generate confusion matrix for each model\n",
    "confusion_matrices = {}\n",
    "\n",
    "for idx, (model_name, y_pred) in enumerate(test_predictions.items()):\n",
    "    # Compute confusion matrix (normalize by true labels)\n",
    "    cm = confusion_matrix(y_test, y_pred, normalize='true')\n",
    "    confusion_matrices[model_name] = cm\n",
    "    \n",
    "    # Add heatmap to subplot\n",
    "    fig_cms.add_trace(\n",
    "        go.Heatmap(\n",
    "            z=cm,\n",
    "            x=genre_names,\n",
    "            y=genre_names,\n",
    "            colorscale='Blues',\n",
    "            showscale=(idx == 2),  # Only show colorbar for last subplot\n",
    "            hovertemplate='True: %{y}<br>Pred: %{x}<br>Rate: %{z:.2f}<extra></extra>'\n",
    "        ),\n",
    "        row=1, col=idx+1\n",
    "    )\n",
    "    \n",
    "    # Calculate and print key statistics\n",
    "    diagonal = cm.diagonal()\n",
    "    print(f\"{model_name}:\")\n",
    "    print(f\"  Mean per-class accuracy: {diagonal.mean():.4f}\")\n",
    "    print(f\"  Best genre:  {genre_names[diagonal.argmax()]} ({diagonal.max():.4f})\")\n",
    "    print(f\"  Worst genre: {genre_names[diagonal.argmin()]} ({diagonal.min():.4f})\")\n",
    "    \n",
    "    # Find top 5 misclassifications\n",
    "    cm_flat = cm.copy()\n",
    "    np.fill_diagonal(cm_flat, 0)  # Ignore diagonal\n",
    "    top_confusions = []\n",
    "    \n",
    "    for _ in range(min(5, (cm_flat > 0).sum())):\n",
    "        max_idx = np.unravel_index(cm_flat.argmax(), cm_flat.shape)\n",
    "        if cm_flat[max_idx] > 0:\n",
    "            true_genre = genre_names[max_idx[0]]\n",
    "            pred_genre = genre_names[max_idx[1]]\n",
    "            confusion_rate = cm_flat[max_idx]\n",
    "            top_confusions.append(f\"{true_genre} \u2192 {pred_genre} ({confusion_rate:.2f})\")\n",
    "            cm_flat[max_idx] = 0\n",
    "    \n",
    "    print(f\"  Top confusions:\")\n",
    "    for confusion in top_confusions:\n",
    "        print(f\"    \u2022 {confusion}\")\n",
    "    print()\n",
    "\n",
    "# Update layout\n",
    "fig_cms.update_xaxes(title_text=\"Predicted Genre\", tickangle=45)\n",
    "fig_cms.update_yaxes(title_text=\"True Genre\")\n",
    "\n",
    "fig_cms.update_layout(\n",
    "    height=600,\n",
    "    title_text=\"Confusion Matrices (Normalized by True Label) - Test Set Performance\",\n",
    "    showlegend=False\n",
    ")\n",
    "\n",
    "fig_cms.show()\n",
    "\n",
    "print(f\"\u2713 Confusion matrices show which genres are most frequently misclassified\")\n",
    "print(f\"  \u2192 Diagonal elements = correct predictions (darker = better)\")\n",
    "print(f\"  \u2192 Off-diagonal elements = misclassifications (lighter = better)\")"
   ]
  },
  {
   "cell_type": "markdown",
   "id": "5c998be9",
   "metadata": {},
   "source": [
    "### 7.4 Per-Genre Performance Analysis\n",
    "\n",
    "Let's examine how each model performs on individual genres, identifying which genres are easiest/hardest to classify."
   ]
  },
  {
   "cell_type": "code",
   "execution_count": 27,
   "id": "c5275070",
   "metadata": {},
   "outputs": [
    {
     "name": "stdout",
     "output_type": "stream",
     "text": [
      "\n",
      "======================================================================\n",
      "SECTION 7.4: PER-GENRE PERFORMANCE\n",
      "======================================================================\n",
      "\n",
      "Per-Genre F1-Scores (sorted by average performance):\n",
      "\n",
      "                   Logistic Regression  Random Forest  Gradient Boosting   average\n",
      "worship                         0.8421         0.8870             0.8276  0.852233\n",
      "new age                         1.0000         0.8889             0.4000  0.762967\n",
      "lo-fi                           0.6061         0.6842             0.7692  0.686500\n",
      "afrobeats                       0.6118         0.6824             0.7333  0.675833\n",
      "Unknown                         0.6567         0.6463             0.6241  0.642367\n",
      "uk drill                        0.6154         0.6154             0.5000  0.576933\n",
      "egyptian pop                    0.5000         0.5000             0.4000  0.466667\n",
      "african gospel                  0.4545         0.3333             0.5882  0.458667\n",
      "soft pop                        0.2500         0.3333             0.3333  0.305533\n",
      "christian                       0.6000         0.0000             0.0000  0.200000\n",
      "gospel                          0.4286         0.0000             0.0000  0.142867\n",
      "rap                             0.3333         0.0000             0.0000  0.111100\n",
      "country                         0.0000         0.0000             0.0000  0.000000\n",
      "edm                             0.0000         0.0000             0.0000  0.000000\n",
      "amapiano                        0.0000         0.0000             0.0000  0.000000\n",
      "lo-fi hip hop                   0.0000         0.0000             0.0000  0.000000\n",
      "afro adura                      0.0000         0.0000             0.0000  0.000000\n",
      "reggaeton                       0.0000         0.0000             0.0000  0.000000\n",
      "traditional music               0.0000         0.0000             0.0000  0.000000\n",
      "lo-fi beats                     0.0000         0.0000             0.0000  0.000000\n",
      "\n",
      "======================================================================\n",
      "EASIEST AND HARDEST GENRES TO CLASSIFY\n",
      "======================================================================\n",
      "\n",
      "Top 5 Easiest Genres (highest average F1):\n",
      "  1. worship                        F1 = 0.8522\n",
      "  2. new age                        F1 = 0.7630\n",
      "  3. lo-fi                          F1 = 0.6865\n",
      "  4. afrobeats                      F1 = 0.6758\n",
      "  5. Unknown                        F1 = 0.6424\n",
      "\n",
      "Top 5 Hardest Genres (lowest average F1):\n",
      "  1. afro adura                     F1 = 0.0000\n",
      "  2. amapiano                       F1 = 0.0000\n",
      "  3. country                        F1 = 0.0000\n",
      "  4. edm                            F1 = 0.0000\n",
      "  5. lo-fi beats                    F1 = 0.0000\n",
      "\n",
      "======================================================================\n",
      "VISUALIZING PER-GENRE F1-SCORES\n",
      "======================================================================\n",
      "\n"
     ]
    },
    {
     "data": {
      "application/vnd.plotly.v1+json": {
       "config": {
        "plotlyServerURL": "https://plot.ly"
       },
       "data": [
        {
         "name": "Logistic Regression",
         "text": {
          "bdata": "4XoUrkfh6j8AAAAAAADwP4XrUbgeheM/hetRuB6F4z8fhetRuB7lP9ejcD0K1+M/AAAAAAAA4D/NzMzMzMzcPwAAAAAAANA/MzMzMzMz4z+F61G4HoXbPx+F61G4HtU/AAAAAAAAAAAAAAAAAAAAAAAAAAAAAAAAAAAAAAAAAAAAAAAAAAAAAAAAAAAAAAAAAAAAAAAAAAAAAAAAAAAAAA==",
          "dtype": "f8"
         },
         "textposition": "outside",
         "type": "bar",
         "x": [
          "worship",
          "new age",
          "lo-fi",
          "afrobeats",
          "Unknown",
          "uk drill",
          "egyptian pop",
          "african gospel",
          "soft pop",
          "christian",
          "gospel",
          "rap",
          "country",
          "edm",
          "amapiano",
          "lo-fi hip hop",
          "afro adura",
          "reggaeton",
          "traditional music",
          "lo-fi beats"
         ],
         "y": {
          "bdata": "bcX+snvy6j8AAAAAAADwPxNhw9MrZeM/ayv2l92T4z/5D+m3rwPlPzarPldbseM/AAAAAAAA4D9KDAIrhxbdPwAAAAAAANA/MzMzMzMz4z/KMsSxLm7bP2lv8IXJVNU/AAAAAAAAAAAAAAAAAAAAAAAAAAAAAAAAAAAAAAAAAAAAAAAAAAAAAAAAAAAAAAAAAAAAAAAAAAAAAAAAAAAAAA==",
          "dtype": "f8"
         }
        },
        {
         "name": "Random Forest",
         "text": {
          "bdata": "exSuR+F67D97FK5H4XrsP8P1KFyPwuU/w/UoXI/C5T/NzMzMzMzkP9ejcD0K1+M/AAAAAAAA4D8fhetRuB7VPx+F61G4HtU/AAAAAAAAAAAAAAAAAAAAAAAAAAAAAAAAAAAAAAAAAAAAAAAAAAAAAAAAAAAAAAAAAAAAAAAAAAAAAAAAAAAAAAAAAAAAAAAAAAAAAAAAAAAAAAAAAAAAAA==",
          "dtype": "f8"
         },
         "textposition": "outside",
         "type": "bar",
         "x": [
          "worship",
          "new age",
          "lo-fi",
          "afrobeats",
          "Unknown",
          "uk drill",
          "egyptian pop",
          "african gospel",
          "soft pop",
          "christian",
          "gospel",
          "rap",
          "country",
          "edm",
          "amapiano",
          "lo-fi hip hop",
          "afro adura",
          "reggaeton",
          "traditional music",
          "lo-fi beats"
         ],
         "y": {
          "bdata": "/Knx0k1i7D/EQq1p3nHsP9uK/WX35OU/9UpZhjjW5T8f9GxWfa7kPzarPldbseM/AAAAAAAA4D9pb/CFyVTVP2lv8IXJVNU/AAAAAAAAAAAAAAAAAAAAAAAAAAAAAAAAAAAAAAAAAAAAAAAAAAAAAAAAAAAAAAAAAAAAAAAAAAAAAAAAAAAAAAAAAAAAAAAAAAAAAAAAAAAAAAAAAAAAAA==",
          "dtype": "f8"
         }
        },
        {
         "name": "Gradient Boosting",
         "text": {
          "bdata": "j8L1KFyP6j+amZmZmZnZP6RwPQrXo+g/XI/C9Shc5z/Xo3A9CtfjPwAAAAAAAOA/mpmZmZmZ2T/hehSuR+HiPx+F61G4HtU/AAAAAAAAAAAAAAAAAAAAAAAAAAAAAAAAAAAAAAAAAAAAAAAAAAAAAAAAAAAAAAAAAAAAAAAAAAAAAAAAAAAAAAAAAAAAAAAAAAAAAAAAAAAAAAAAAAAAAA==",
          "dtype": "f8"
         },
         "textposition": "outside",
         "type": "bar",
         "x": [
          "worship",
          "new age",
          "lo-fi",
          "afrobeats",
          "Unknown",
          "uk drill",
          "egyptian pop",
          "african gospel",
          "soft pop",
          "christian",
          "gospel",
          "rap",
          "country",
          "edm",
          "amapiano",
          "lo-fi hip hop",
          "afro adura",
          "reggaeton",
          "traditional music",
          "lo-fi beats"
         ],
         "y": {
          "bdata": "XW3F/rJ76j+amZmZmZnZP5OpglFJneg/gQTFjzF35z8N4C2QoPjjPwAAAAAAAOA/mpmZmZmZ2T/7OnDOiNLiP2lv8IXJVNU/AAAAAAAAAAAAAAAAAAAAAAAAAAAAAAAAAAAAAAAAAAAAAAAAAAAAAAAAAAAAAAAAAAAAAAAAAAAAAAAAAAAAAAAAAAAAAAAAAAAAAAAAAAAAAAAAAAAAAA==",
          "dtype": "f8"
         }
        }
       ],
       "layout": {
        "barmode": "group",
        "height": 600,
        "template": {
         "data": {
          "bar": [
           {
            "error_x": {
             "color": "#2a3f5f"
            },
            "error_y": {
             "color": "#2a3f5f"
            },
            "marker": {
             "line": {
              "color": "#E5ECF6",
              "width": 0.5
             },
             "pattern": {
              "fillmode": "overlay",
              "size": 10,
              "solidity": 0.2
             }
            },
            "type": "bar"
           }
          ],
          "barpolar": [
           {
            "marker": {
             "line": {
              "color": "#E5ECF6",
              "width": 0.5
             },
             "pattern": {
              "fillmode": "overlay",
              "size": 10,
              "solidity": 0.2
             }
            },
            "type": "barpolar"
           }
          ],
          "carpet": [
           {
            "aaxis": {
             "endlinecolor": "#2a3f5f",
             "gridcolor": "white",
             "linecolor": "white",
             "minorgridcolor": "white",
             "startlinecolor": "#2a3f5f"
            },
            "baxis": {
             "endlinecolor": "#2a3f5f",
             "gridcolor": "white",
             "linecolor": "white",
             "minorgridcolor": "white",
             "startlinecolor": "#2a3f5f"
            },
            "type": "carpet"
           }
          ],
          "choropleth": [
           {
            "colorbar": {
             "outlinewidth": 0,
             "ticks": ""
            },
            "type": "choropleth"
           }
          ],
          "contour": [
           {
            "colorbar": {
             "outlinewidth": 0,
             "ticks": ""
            },
            "colorscale": [
             [
              0,
              "#0d0887"
             ],
             [
              0.1111111111111111,
              "#46039f"
             ],
             [
              0.2222222222222222,
              "#7201a8"
             ],
             [
              0.3333333333333333,
              "#9c179e"
             ],
             [
              0.4444444444444444,
              "#bd3786"
             ],
             [
              0.5555555555555556,
              "#d8576b"
             ],
             [
              0.6666666666666666,
              "#ed7953"
             ],
             [
              0.7777777777777778,
              "#fb9f3a"
             ],
             [
              0.8888888888888888,
              "#fdca26"
             ],
             [
              1,
              "#f0f921"
             ]
            ],
            "type": "contour"
           }
          ],
          "contourcarpet": [
           {
            "colorbar": {
             "outlinewidth": 0,
             "ticks": ""
            },
            "type": "contourcarpet"
           }
          ],
          "heatmap": [
           {
            "colorbar": {
             "outlinewidth": 0,
             "ticks": ""
            },
            "colorscale": [
             [
              0,
              "#0d0887"
             ],
             [
              0.1111111111111111,
              "#46039f"
             ],
             [
              0.2222222222222222,
              "#7201a8"
             ],
             [
              0.3333333333333333,
              "#9c179e"
             ],
             [
              0.4444444444444444,
              "#bd3786"
             ],
             [
              0.5555555555555556,
              "#d8576b"
             ],
             [
              0.6666666666666666,
              "#ed7953"
             ],
             [
              0.7777777777777778,
              "#fb9f3a"
             ],
             [
              0.8888888888888888,
              "#fdca26"
             ],
             [
              1,
              "#f0f921"
             ]
            ],
            "type": "heatmap"
           }
          ],
          "histogram": [
           {
            "marker": {
             "pattern": {
              "fillmode": "overlay",
              "size": 10,
              "solidity": 0.2
             }
            },
            "type": "histogram"
           }
          ],
          "histogram2d": [
           {
            "colorbar": {
             "outlinewidth": 0,
             "ticks": ""
            },
            "colorscale": [
             [
              0,
              "#0d0887"
             ],
             [
              0.1111111111111111,
              "#46039f"
             ],
             [
              0.2222222222222222,
              "#7201a8"
             ],
             [
              0.3333333333333333,
              "#9c179e"
             ],
             [
              0.4444444444444444,
              "#bd3786"
             ],
             [
              0.5555555555555556,
              "#d8576b"
             ],
             [
              0.6666666666666666,
              "#ed7953"
             ],
             [
              0.7777777777777778,
              "#fb9f3a"
             ],
             [
              0.8888888888888888,
              "#fdca26"
             ],
             [
              1,
              "#f0f921"
             ]
            ],
            "type": "histogram2d"
           }
          ],
          "histogram2dcontour": [
           {
            "colorbar": {
             "outlinewidth": 0,
             "ticks": ""
            },
            "colorscale": [
             [
              0,
              "#0d0887"
             ],
             [
              0.1111111111111111,
              "#46039f"
             ],
             [
              0.2222222222222222,
              "#7201a8"
             ],
             [
              0.3333333333333333,
              "#9c179e"
             ],
             [
              0.4444444444444444,
              "#bd3786"
             ],
             [
              0.5555555555555556,
              "#d8576b"
             ],
             [
              0.6666666666666666,
              "#ed7953"
             ],
             [
              0.7777777777777778,
              "#fb9f3a"
             ],
             [
              0.8888888888888888,
              "#fdca26"
             ],
             [
              1,
              "#f0f921"
             ]
            ],
            "type": "histogram2dcontour"
           }
          ],
          "mesh3d": [
           {
            "colorbar": {
             "outlinewidth": 0,
             "ticks": ""
            },
            "type": "mesh3d"
           }
          ],
          "parcoords": [
           {
            "line": {
             "colorbar": {
              "outlinewidth": 0,
              "ticks": ""
             }
            },
            "type": "parcoords"
           }
          ],
          "pie": [
           {
            "automargin": true,
            "type": "pie"
           }
          ],
          "scatter": [
           {
            "fillpattern": {
             "fillmode": "overlay",
             "size": 10,
             "solidity": 0.2
            },
            "type": "scatter"
           }
          ],
          "scatter3d": [
           {
            "line": {
             "colorbar": {
              "outlinewidth": 0,
              "ticks": ""
             }
            },
            "marker": {
             "colorbar": {
              "outlinewidth": 0,
              "ticks": ""
             }
            },
            "type": "scatter3d"
           }
          ],
          "scattercarpet": [
           {
            "marker": {
             "colorbar": {
              "outlinewidth": 0,
              "ticks": ""
             }
            },
            "type": "scattercarpet"
           }
          ],
          "scattergeo": [
           {
            "marker": {
             "colorbar": {
              "outlinewidth": 0,
              "ticks": ""
             }
            },
            "type": "scattergeo"
           }
          ],
          "scattergl": [
           {
            "marker": {
             "colorbar": {
              "outlinewidth": 0,
              "ticks": ""
             }
            },
            "type": "scattergl"
           }
          ],
          "scattermap": [
           {
            "marker": {
             "colorbar": {
              "outlinewidth": 0,
              "ticks": ""
             }
            },
            "type": "scattermap"
           }
          ],
          "scattermapbox": [
           {
            "marker": {
             "colorbar": {
              "outlinewidth": 0,
              "ticks": ""
             }
            },
            "type": "scattermapbox"
           }
          ],
          "scatterpolar": [
           {
            "marker": {
             "colorbar": {
              "outlinewidth": 0,
              "ticks": ""
             }
            },
            "type": "scatterpolar"
           }
          ],
          "scatterpolargl": [
           {
            "marker": {
             "colorbar": {
              "outlinewidth": 0,
              "ticks": ""
             }
            },
            "type": "scatterpolargl"
           }
          ],
          "scatterternary": [
           {
            "marker": {
             "colorbar": {
              "outlinewidth": 0,
              "ticks": ""
             }
            },
            "type": "scatterternary"
           }
          ],
          "surface": [
           {
            "colorbar": {
             "outlinewidth": 0,
             "ticks": ""
            },
            "colorscale": [
             [
              0,
              "#0d0887"
             ],
             [
              0.1111111111111111,
              "#46039f"
             ],
             [
              0.2222222222222222,
              "#7201a8"
             ],
             [
              0.3333333333333333,
              "#9c179e"
             ],
             [
              0.4444444444444444,
              "#bd3786"
             ],
             [
              0.5555555555555556,
              "#d8576b"
             ],
             [
              0.6666666666666666,
              "#ed7953"
             ],
             [
              0.7777777777777778,
              "#fb9f3a"
             ],
             [
              0.8888888888888888,
              "#fdca26"
             ],
             [
              1,
              "#f0f921"
             ]
            ],
            "type": "surface"
           }
          ],
          "table": [
           {
            "cells": {
             "fill": {
              "color": "#EBF0F8"
             },
             "line": {
              "color": "white"
             }
            },
            "header": {
             "fill": {
              "color": "#C8D4E3"
             },
             "line": {
              "color": "white"
             }
            },
            "type": "table"
           }
          ]
         },
         "layout": {
          "annotationdefaults": {
           "arrowcolor": "#2a3f5f",
           "arrowhead": 0,
           "arrowwidth": 1
          },
          "autotypenumbers": "strict",
          "coloraxis": {
           "colorbar": {
            "outlinewidth": 0,
            "ticks": ""
           }
          },
          "colorscale": {
           "diverging": [
            [
             0,
             "#8e0152"
            ],
            [
             0.1,
             "#c51b7d"
            ],
            [
             0.2,
             "#de77ae"
            ],
            [
             0.3,
             "#f1b6da"
            ],
            [
             0.4,
             "#fde0ef"
            ],
            [
             0.5,
             "#f7f7f7"
            ],
            [
             0.6,
             "#e6f5d0"
            ],
            [
             0.7,
             "#b8e186"
            ],
            [
             0.8,
             "#7fbc41"
            ],
            [
             0.9,
             "#4d9221"
            ],
            [
             1,
             "#276419"
            ]
           ],
           "sequential": [
            [
             0,
             "#0d0887"
            ],
            [
             0.1111111111111111,
             "#46039f"
            ],
            [
             0.2222222222222222,
             "#7201a8"
            ],
            [
             0.3333333333333333,
             "#9c179e"
            ],
            [
             0.4444444444444444,
             "#bd3786"
            ],
            [
             0.5555555555555556,
             "#d8576b"
            ],
            [
             0.6666666666666666,
             "#ed7953"
            ],
            [
             0.7777777777777778,
             "#fb9f3a"
            ],
            [
             0.8888888888888888,
             "#fdca26"
            ],
            [
             1,
             "#f0f921"
            ]
           ],
           "sequentialminus": [
            [
             0,
             "#0d0887"
            ],
            [
             0.1111111111111111,
             "#46039f"
            ],
            [
             0.2222222222222222,
             "#7201a8"
            ],
            [
             0.3333333333333333,
             "#9c179e"
            ],
            [
             0.4444444444444444,
             "#bd3786"
            ],
            [
             0.5555555555555556,
             "#d8576b"
            ],
            [
             0.6666666666666666,
             "#ed7953"
            ],
            [
             0.7777777777777778,
             "#fb9f3a"
            ],
            [
             0.8888888888888888,
             "#fdca26"
            ],
            [
             1,
             "#f0f921"
            ]
           ]
          },
          "colorway": [
           "#636efa",
           "#EF553B",
           "#00cc96",
           "#ab63fa",
           "#FFA15A",
           "#19d3f3",
           "#FF6692",
           "#B6E880",
           "#FF97FF",
           "#FECB52"
          ],
          "font": {
           "color": "#2a3f5f"
          },
          "geo": {
           "bgcolor": "white",
           "lakecolor": "white",
           "landcolor": "#E5ECF6",
           "showlakes": true,
           "showland": true,
           "subunitcolor": "white"
          },
          "hoverlabel": {
           "align": "left"
          },
          "hovermode": "closest",
          "mapbox": {
           "style": "light"
          },
          "paper_bgcolor": "white",
          "plot_bgcolor": "#E5ECF6",
          "polar": {
           "angularaxis": {
            "gridcolor": "white",
            "linecolor": "white",
            "ticks": ""
           },
           "bgcolor": "#E5ECF6",
           "radialaxis": {
            "gridcolor": "white",
            "linecolor": "white",
            "ticks": ""
           }
          },
          "scene": {
           "xaxis": {
            "backgroundcolor": "#E5ECF6",
            "gridcolor": "white",
            "gridwidth": 2,
            "linecolor": "white",
            "showbackground": true,
            "ticks": "",
            "zerolinecolor": "white"
           },
           "yaxis": {
            "backgroundcolor": "#E5ECF6",
            "gridcolor": "white",
            "gridwidth": 2,
            "linecolor": "white",
            "showbackground": true,
            "ticks": "",
            "zerolinecolor": "white"
           },
           "zaxis": {
            "backgroundcolor": "#E5ECF6",
            "gridcolor": "white",
            "gridwidth": 2,
            "linecolor": "white",
            "showbackground": true,
            "ticks": "",
            "zerolinecolor": "white"
           }
          },
          "shapedefaults": {
           "line": {
            "color": "#2a3f5f"
           }
          },
          "ternary": {
           "aaxis": {
            "gridcolor": "white",
            "linecolor": "white",
            "ticks": ""
           },
           "baxis": {
            "gridcolor": "white",
            "linecolor": "white",
            "ticks": ""
           },
           "bgcolor": "#E5ECF6",
           "caxis": {
            "gridcolor": "white",
            "linecolor": "white",
            "ticks": ""
           }
          },
          "title": {
           "x": 0.05
          },
          "xaxis": {
           "automargin": true,
           "gridcolor": "white",
           "linecolor": "white",
           "ticks": "",
           "title": {
            "standoff": 15
           },
           "zerolinecolor": "white",
           "zerolinewidth": 2
          },
          "yaxis": {
           "automargin": true,
           "gridcolor": "white",
           "linecolor": "white",
           "ticks": "",
           "title": {
            "standoff": 15
           },
           "zerolinecolor": "white",
           "zerolinewidth": 2
          }
         }
        },
        "title": {
         "text": "Per-Genre F1-Score Comparison (Test Set)"
        },
        "xaxis": {
         "tickangle": -45,
         "title": {
          "text": "Genre"
         }
        },
        "yaxis": {
         "range": [
          0,
          1.1
         ],
         "title": {
          "text": "F1-Score"
         }
        }
       }
      }
     },
     "metadata": {},
     "output_type": "display_data"
    },
    {
     "name": "stdout",
     "output_type": "stream",
     "text": [
      "\u2713 Per-genre analysis reveals which genres are easiest/hardest to classify\n",
      "  \u2192 Genres with high F1-scores have distinctive audio features\n",
      "  \u2192 Genres with low F1-scores may overlap significantly with others\n"
     ]
    }
   ],
   "source": [
    "print(f\"\\n{'='*70}\")\n",
    "print(f\"SECTION 7.4: PER-GENRE PERFORMANCE\")\n",
    "print(f\"{'='*70}\\n\")\n",
    "\n",
    "# Calculate per-genre F1-scores for all models\n",
    "from sklearn.metrics import classification_report\n",
    "\n",
    "per_genre_f1 = {}\n",
    "\n",
    "for model_name, y_pred in test_predictions.items():\n",
    "    # Get detailed classification report\n",
    "    report = classification_report(\n",
    "        y_test, \n",
    "        y_pred, \n",
    "        target_names=genre_names,\n",
    "        output_dict=True,\n",
    "        zero_division=0\n",
    "    )\n",
    "    \n",
    "    # Extract F1-scores for each genre\n",
    "    genre_f1_scores = {genre: report[genre]['f1-score'] for genre in genre_names}\n",
    "    per_genre_f1[model_name] = genre_f1_scores\n",
    "\n",
    "# Create DataFrame for comparison\n",
    "per_genre_df = pd.DataFrame(per_genre_f1).round(4)\n",
    "per_genre_df['average'] = per_genre_df.mean(axis=1)\n",
    "\n",
    "# Sort by average F1-score\n",
    "per_genre_df_sorted = per_genre_df.sort_values('average', ascending=False)\n",
    "\n",
    "print(\"Per-Genre F1-Scores (sorted by average performance):\\n\")\n",
    "print(per_genre_df_sorted.to_string())\n",
    "\n",
    "# Identify best and worst genres\n",
    "print(f\"\\n{'='*70}\")\n",
    "print(f\"EASIEST AND HARDEST GENRES TO CLASSIFY\")\n",
    "print(f\"{'='*70}\\n\")\n",
    "\n",
    "avg_f1_by_genre = per_genre_df['average']\n",
    "\n",
    "print(\"Top 5 Easiest Genres (highest average F1):\")\n",
    "for idx, (genre, f1) in enumerate(avg_f1_by_genre.nlargest(5).items(), 1):\n",
    "    print(f\"  {idx}. {genre:<30s} F1 = {f1:.4f}\")\n",
    "\n",
    "print(f\"\\nTop 5 Hardest Genres (lowest average F1):\")\n",
    "for idx, (genre, f1) in enumerate(avg_f1_by_genre.nsmallest(5).items(), 1):\n",
    "    print(f\"  {idx}. {genre:<30s} F1 = {f1:.4f}\")\n",
    "\n",
    "# Visualize per-genre F1-scores\n",
    "print(f\"\\n{'='*70}\")\n",
    "print(f\"VISUALIZING PER-GENRE F1-SCORES\")\n",
    "print(f\"{'='*70}\\n\")\n",
    "\n",
    "fig_per_genre = go.Figure()\n",
    "\n",
    "for model_name in final_models.keys():\n",
    "    fig_per_genre.add_trace(go.Bar(\n",
    "        x=per_genre_df_sorted.index,\n",
    "        y=per_genre_df_sorted[model_name],\n",
    "        name=model_name,\n",
    "        text=per_genre_df_sorted[model_name].round(2),\n",
    "        textposition='outside'\n",
    "    ))\n",
    "\n",
    "fig_per_genre.update_layout(\n",
    "    title='Per-Genre F1-Score Comparison (Test Set)',\n",
    "    xaxis_title='Genre',\n",
    "    yaxis_title='F1-Score',\n",
    "    barmode='group',\n",
    "    height=600,\n",
    "    xaxis_tickangle=-45,\n",
    "    yaxis_range=[0, 1.1]\n",
    ")\n",
    "\n",
    "fig_per_genre.show()\n",
    "\n",
    "print(\"\u2713 Per-genre analysis reveals which genres are easiest/hardest to classify\")\n",
    "print(f\"  \u2192 Genres with high F1-scores have distinctive audio features\")\n",
    "print(f\"  \u2192 Genres with low F1-scores may overlap significantly with others\")"
   ]
  },
  {
   "cell_type": "markdown",
   "id": "245d09c1",
   "metadata": {},
   "source": [
    "### 7.5 Section 7 Summary and Final Recommendation\n",
    "\n",
    "**What we accomplished**:\n",
    "1. \u2713 **Test set evaluation**: Unbiased performance estimates on 242 held-out samples\n",
    "2. \u2713 **Comprehensive metrics**: Accuracy, Precision, Recall, F1-Score (macro/weighted)\n",
    "3. \u2713 **Confusion matrices**: Identified which genres are most frequently confused\n",
    "4. \u2713 **Per-genre analysis**: Found easiest and hardest genres to classify\n",
    "5. \u2713 **Model comparison**: Systematic comparison across all performance dimensions\n",
    "\n",
    "**Key findings from test set evaluation**:\n",
    "\n",
    "**Test Set Performance (242 samples, completely unseen data)**:\n",
    "\n",
    "| Model | Accuracy | Precision (macro) | Recall (macro) | F1 (macro) | F1 (weighted) |\n",
    "|-------|----------|-------------------|----------------|------------|---------------|\n",
    "| **Logistic Regression** | **62.40%** | **38.78%** | **32.84%** | **34.49%** | **60.78%** |\n",
    "| Random Forest | 65.29% | 37.12% | 26.55% | 27.85% | 59.34% |\n",
    "| Gradient Boosting | 62.81% | 30.22% | 25.54% | 25.88% | 58.37% |\n",
    "\n",
    "**Interpretation**:\n",
    "- **Random Forest** has highest accuracy (65.29%) but...\n",
    "- **Logistic Regression** dominates on macro metrics (F1: 34.49% vs 27.85% vs 25.88%)\n",
    "- Macro F1 is critical: it treats all 20 genres equally, not just the frequent ones\n",
    "- Large gap between weighted F1 (~60%) and macro F1 (~30%) reveals severe class imbalance impact\n",
    "\n",
    "**Per-Genre Performance - Easiest Genres** (High F1-Scores):\n",
    "1. **Worship**: 85.22% average F1 - Most distinctive audio signature\n",
    "2. **New Age**: 76.30% average F1 - Clear tempo/spectral characteristics\n",
    "3. **Lo-Fi**: 68.65% average F1 - Distinctive relaxed beats and texture\n",
    "4. **Afrobeats**: 67.58% average F1 - Strong rhythmic patterns\n",
    "5. **Unknown**: 64.24% average F1 - Largest class (422 samples), well-represented\n",
    "\n",
    "**Per-Genre Performance - Hardest Genres** (Zero F1-Scores):\n",
    "- **Afro Adura, Amapiano, Country, EDM, Lo-Fi Beats, Lo-Fi Hip Hop, Reggaeton, Traditional Music**: 0% F1\n",
    "- **Root cause**: Insufficient training samples (10-15 samples each) + confusion with similar genres\n",
    "- **Common confusions**:\n",
    "  - Country \u2192 Unknown (100% misclassified)\n",
    "  - EDM \u2192 Unknown (100% misclassified)\n",
    "  - Lo-Fi Beats \u2192 Lo-Fi (100% misclassified - related sub-genre)\n",
    "  - Lo-Fi Hip Hop \u2192 Lo-Fi (100% misclassified - related sub-genre)\n",
    "  - Reggaeton \u2192 Afrobeats (100% misclassified - rhythmic similarity)\n",
    "\n",
    "**Critical Insights**:\n",
    "1. **Class imbalance is severe**: 10 out of 20 genres have 0% F1-score (complete failure)\n",
    "2. **Model bias toward majority**: \"Unknown\" (422 samples) is predicted frequently, harming rare genres\n",
    "3. **Sub-genre confusion**: \"Lo-Fi Beats\" and \"Lo-Fi Hip Hop\" are indistinguishable from parent \"Lo-Fi\"\n",
    "4. **Limited samples hurt**: Genres with <20 samples are never correctly predicted\n",
    "5. **Logistic Regression's strength**: Linear simplicity prevents overfitting, leading to best macro performance\n",
    "\n",
    "---\n",
    "\n",
    "**FINAL MODEL RECOMMENDATION FOR WEB APPLICATION**:\n",
    "\n",
    "**Recommended Model**: **Logistic Regression**\n",
    "\n",
    "**Justification**:\n",
    "1. **Highest macro F1-Score (34.49%)**: Best performance across all 20 genres equally\n",
    "   - 24% better than Gradient Boosting (25.88%)\n",
    "   - 24% better than Random Forest (27.85%)\n",
    "2. **Highest macro precision (38.78%)** and **recall (32.84%)**: Most balanced predictions\n",
    "3. **Fastest inference (<0.01s)**: Perfect for real-time web application\n",
    "4. **Most interpretable**: Can examine feature weights to understand genre predictions\n",
    "5. **Lowest overfitting**: 36.45% train-val gap vs 43.21% for Gradient Boosting\n",
    "6. **Consistent across CV folds**: Lowest variance (\u00b10.73%) indicates stable performance\n",
    "\n",
    "**Performance Reality Check**:\n",
    "- Overall accuracy: **62.40%** (reasonable for 20-class problem with severe imbalance)\n",
    "- Macro F1: **34.49%** (reveals struggle with rare genres)\n",
    "- Works well on: Worship, New Age, Lo-Fi, Afrobeats, Unknown (5/20 genres)\n",
    "- Fails completely on: 10/20 genres with <20 samples\n",
    "\n",
    "**Deployment Readiness**:\n",
    "- \u2713 Model trained on full training set (1,128 samples)\n",
    "- \u2713 Validated on held-out validation set (242 samples): 62.40%\n",
    "- \u2713 Tested on completely unseen test set (242 samples): 62.40% (perfect generalization!)\n",
    "- \u2713 StandardScaler fitted and ready for production feature preprocessing\n",
    "- \u2713 Feature weights available for explainability\n",
    "\n",
    "**Limitations and Future Work**:\n",
    "1. **Collect more data**: 10 genres have <20 samples (need at least 50-100 each)\n",
    "2. **Address class imbalance**: Use SMOTE, class weights, or re-sampling\n",
    "3. **Merge similar sub-genres**: Combine \"Lo-Fi,\" \"Lo-Fi Beats,\" \"Lo-Fi Hip Hop\" into one\n",
    "4. **Feature engineering**: Try genre-specific features (rhythm patterns, cultural markers)\n",
    "5. **Ensemble methods**: Combine Logistic Regression with Random Forest for best of both\n",
    "\n",
    "**Next Steps** (Section 8): Feature importance analysis and final visualizations\n",
    "\n",
    "---"
   ]
  },
  {
   "cell_type": "markdown",
   "id": "9932bc13",
   "metadata": {},
   "source": [
    "---\n",
    "\n",
    "## Section 8: Visualizations and Conclusions\n",
    "\n",
    "This section visualizes the complete machine learning pipeline results and discusses key conclusions from our genre classification analysis."
   ]
  },
  {
   "cell_type": "markdown",
   "id": "ff27311a",
   "metadata": {},
   "source": [
    "### 8.1 Complete Model Performance Comparison\n",
    "\n",
    "Let's create a comprehensive visualization comparing all three models across all evaluation stages: Cross-Validation, Training/Validation, and Test Set."
   ]
  },
  {
   "cell_type": "code",
   "execution_count": 28,
   "id": "477836a9",
   "metadata": {},
   "outputs": [
    {
     "data": {
      "application/vnd.plotly.v1+json": {
       "config": {
        "plotlyServerURL": "https://plot.ly"
       },
       "data": [
        {
         "marker": {
          "color": [
           "#1f77b4",
           "#ff7f0e",
           "#2ca02c"
          ]
         },
         "name": "CV Accuracy",
         "text": [
          "58.95%",
          "57.01%",
          "55.67%"
         ],
         "textposition": "outside",
         "type": "bar",
         "x": [
          "Logistic Regression",
          "Random Forest",
          "Gradient Boosting"
         ],
         "xaxis": "x",
         "y": [
          0.5895,
          0.5701,
          0.5567
         ],
         "yaxis": "y"
        },
        {
         "marker": {
          "color": "lightblue"
         },
         "name": "Train Accuracy",
         "text": [
          "98.90%",
          "95.70%",
          "99.80%"
         ],
         "textposition": "outside",
         "type": "bar",
         "x": [
          "Logistic Regression",
          "Random Forest",
          "Gradient Boosting"
         ],
         "xaxis": "x2",
         "y": [
          0.989,
          0.957,
          0.998
         ],
         "yaxis": "y2"
        },
        {
         "marker": {
          "color": "darkblue"
         },
         "name": "Validation Accuracy",
         "text": [
          "62.40%",
          "57.00%",
          "56.60%"
         ],
         "textposition": "outside",
         "type": "bar",
         "x": [
          "Logistic Regression",
          "Random Forest",
          "Gradient Boosting"
         ],
         "xaxis": "x2",
         "y": [
          0.624,
          0.57,
          0.566
         ],
         "yaxis": "y2"
        },
        {
         "marker": {
          "color": [
           "#1f77b4",
           "#ff7f0e",
           "#2ca02c"
          ],
          "size": 20
         },
         "mode": "markers+text",
         "name": "Test Performance",
         "showlegend": false,
         "text": [
          "Logistic Regression",
          "Random Forest",
          "Gradient Boosting"
         ],
         "textposition": "top center",
         "type": "scatter",
         "x": [
          0.624,
          0.653,
          0.628
         ],
         "xaxis": "x3",
         "y": [
          0.345,
          0.279,
          0.259
         ],
         "yaxis": "y3"
        },
        {
         "marker": {
          "color": [
           "#1f77b4",
           "#ff7f0e",
           "#2ca02c"
          ]
         },
         "name": "Training Time (s)",
         "text": [
          "0.23s",
          "0.28s",
          "158.83s"
         ],
         "textposition": "outside",
         "type": "bar",
         "x": [
          "Logistic Regression",
          "Random Forest",
          "Gradient Boosting"
         ],
         "xaxis": "x4",
         "y": [
          0.23,
          0.28,
          158.83
         ],
         "yaxis": "y4"
        }
       ],
       "layout": {
        "annotations": [
         {
          "font": {
           "size": 16
          },
          "showarrow": false,
          "text": "Cross-Validation Accuracy (5-Fold)",
          "x": 0.225,
          "xanchor": "center",
          "xref": "paper",
          "y": 1,
          "yanchor": "bottom",
          "yref": "paper"
         },
         {
          "font": {
           "size": 16
          },
          "showarrow": false,
          "text": "Train vs Validation Accuracy",
          "x": 0.775,
          "xanchor": "center",
          "xref": "paper",
          "y": 1,
          "yanchor": "bottom",
          "yref": "paper"
         },
         {
          "font": {
           "size": 16
          },
          "showarrow": false,
          "text": "Test Set Performance: Accuracy vs Macro F1",
          "x": 0.225,
          "xanchor": "center",
          "xref": "paper",
          "y": 0.375,
          "yanchor": "bottom",
          "yref": "paper"
         },
         {
          "font": {
           "size": 16
          },
          "showarrow": false,
          "text": "Training Time Comparison",
          "x": 0.775,
          "xanchor": "center",
          "xref": "paper",
          "y": 0.375,
          "yanchor": "bottom",
          "yref": "paper"
         }
        ],
        "height": 800,
        "legend": {
         "x": 0.7,
         "y": 0.5
        },
        "showlegend": true,
        "template": {
         "data": {
          "bar": [
           {
            "error_x": {
             "color": "#2a3f5f"
            },
            "error_y": {
             "color": "#2a3f5f"
            },
            "marker": {
             "line": {
              "color": "#E5ECF6",
              "width": 0.5
             },
             "pattern": {
              "fillmode": "overlay",
              "size": 10,
              "solidity": 0.2
             }
            },
            "type": "bar"
           }
          ],
          "barpolar": [
           {
            "marker": {
             "line": {
              "color": "#E5ECF6",
              "width": 0.5
             },
             "pattern": {
              "fillmode": "overlay",
              "size": 10,
              "solidity": 0.2
             }
            },
            "type": "barpolar"
           }
          ],
          "carpet": [
           {
            "aaxis": {
             "endlinecolor": "#2a3f5f",
             "gridcolor": "white",
             "linecolor": "white",
             "minorgridcolor": "white",
             "startlinecolor": "#2a3f5f"
            },
            "baxis": {
             "endlinecolor": "#2a3f5f",
             "gridcolor": "white",
             "linecolor": "white",
             "minorgridcolor": "white",
             "startlinecolor": "#2a3f5f"
            },
            "type": "carpet"
           }
          ],
          "choropleth": [
           {
            "colorbar": {
             "outlinewidth": 0,
             "ticks": ""
            },
            "type": "choropleth"
           }
          ],
          "contour": [
           {
            "colorbar": {
             "outlinewidth": 0,
             "ticks": ""
            },
            "colorscale": [
             [
              0,
              "#0d0887"
             ],
             [
              0.1111111111111111,
              "#46039f"
             ],
             [
              0.2222222222222222,
              "#7201a8"
             ],
             [
              0.3333333333333333,
              "#9c179e"
             ],
             [
              0.4444444444444444,
              "#bd3786"
             ],
             [
              0.5555555555555556,
              "#d8576b"
             ],
             [
              0.6666666666666666,
              "#ed7953"
             ],
             [
              0.7777777777777778,
              "#fb9f3a"
             ],
             [
              0.8888888888888888,
              "#fdca26"
             ],
             [
              1,
              "#f0f921"
             ]
            ],
            "type": "contour"
           }
          ],
          "contourcarpet": [
           {
            "colorbar": {
             "outlinewidth": 0,
             "ticks": ""
            },
            "type": "contourcarpet"
           }
          ],
          "heatmap": [
           {
            "colorbar": {
             "outlinewidth": 0,
             "ticks": ""
            },
            "colorscale": [
             [
              0,
              "#0d0887"
             ],
             [
              0.1111111111111111,
              "#46039f"
             ],
             [
              0.2222222222222222,
              "#7201a8"
             ],
             [
              0.3333333333333333,
              "#9c179e"
             ],
             [
              0.4444444444444444,
              "#bd3786"
             ],
             [
              0.5555555555555556,
              "#d8576b"
             ],
             [
              0.6666666666666666,
              "#ed7953"
             ],
             [
              0.7777777777777778,
              "#fb9f3a"
             ],
             [
              0.8888888888888888,
              "#fdca26"
             ],
             [
              1,
              "#f0f921"
             ]
            ],
            "type": "heatmap"
           }
          ],
          "histogram": [
           {
            "marker": {
             "pattern": {
              "fillmode": "overlay",
              "size": 10,
              "solidity": 0.2
             }
            },
            "type": "histogram"
           }
          ],
          "histogram2d": [
           {
            "colorbar": {
             "outlinewidth": 0,
             "ticks": ""
            },
            "colorscale": [
             [
              0,
              "#0d0887"
             ],
             [
              0.1111111111111111,
              "#46039f"
             ],
             [
              0.2222222222222222,
              "#7201a8"
             ],
             [
              0.3333333333333333,
              "#9c179e"
             ],
             [
              0.4444444444444444,
              "#bd3786"
             ],
             [
              0.5555555555555556,
              "#d8576b"
             ],
             [
              0.6666666666666666,
              "#ed7953"
             ],
             [
              0.7777777777777778,
              "#fb9f3a"
             ],
             [
              0.8888888888888888,
              "#fdca26"
             ],
             [
              1,
              "#f0f921"
             ]
            ],
            "type": "histogram2d"
           }
          ],
          "histogram2dcontour": [
           {
            "colorbar": {
             "outlinewidth": 0,
             "ticks": ""
            },
            "colorscale": [
             [
              0,
              "#0d0887"
             ],
             [
              0.1111111111111111,
              "#46039f"
             ],
             [
              0.2222222222222222,
              "#7201a8"
             ],
             [
              0.3333333333333333,
              "#9c179e"
             ],
             [
              0.4444444444444444,
              "#bd3786"
             ],
             [
              0.5555555555555556,
              "#d8576b"
             ],
             [
              0.6666666666666666,
              "#ed7953"
             ],
             [
              0.7777777777777778,
              "#fb9f3a"
             ],
             [
              0.8888888888888888,
              "#fdca26"
             ],
             [
              1,
              "#f0f921"
             ]
            ],
            "type": "histogram2dcontour"
           }
          ],
          "mesh3d": [
           {
            "colorbar": {
             "outlinewidth": 0,
             "ticks": ""
            },
            "type": "mesh3d"
           }
          ],
          "parcoords": [
           {
            "line": {
             "colorbar": {
              "outlinewidth": 0,
              "ticks": ""
             }
            },
            "type": "parcoords"
           }
          ],
          "pie": [
           {
            "automargin": true,
            "type": "pie"
           }
          ],
          "scatter": [
           {
            "fillpattern": {
             "fillmode": "overlay",
             "size": 10,
             "solidity": 0.2
            },
            "type": "scatter"
           }
          ],
          "scatter3d": [
           {
            "line": {
             "colorbar": {
              "outlinewidth": 0,
              "ticks": ""
             }
            },
            "marker": {
             "colorbar": {
              "outlinewidth": 0,
              "ticks": ""
             }
            },
            "type": "scatter3d"
           }
          ],
          "scattercarpet": [
           {
            "marker": {
             "colorbar": {
              "outlinewidth": 0,
              "ticks": ""
             }
            },
            "type": "scattercarpet"
           }
          ],
          "scattergeo": [
           {
            "marker": {
             "colorbar": {
              "outlinewidth": 0,
              "ticks": ""
             }
            },
            "type": "scattergeo"
           }
          ],
          "scattergl": [
           {
            "marker": {
             "colorbar": {
              "outlinewidth": 0,
              "ticks": ""
             }
            },
            "type": "scattergl"
           }
          ],
          "scattermap": [
           {
            "marker": {
             "colorbar": {
              "outlinewidth": 0,
              "ticks": ""
             }
            },
            "type": "scattermap"
           }
          ],
          "scattermapbox": [
           {
            "marker": {
             "colorbar": {
              "outlinewidth": 0,
              "ticks": ""
             }
            },
            "type": "scattermapbox"
           }
          ],
          "scatterpolar": [
           {
            "marker": {
             "colorbar": {
              "outlinewidth": 0,
              "ticks": ""
             }
            },
            "type": "scatterpolar"
           }
          ],
          "scatterpolargl": [
           {
            "marker": {
             "colorbar": {
              "outlinewidth": 0,
              "ticks": ""
             }
            },
            "type": "scatterpolargl"
           }
          ],
          "scatterternary": [
           {
            "marker": {
             "colorbar": {
              "outlinewidth": 0,
              "ticks": ""
             }
            },
            "type": "scatterternary"
           }
          ],
          "surface": [
           {
            "colorbar": {
             "outlinewidth": 0,
             "ticks": ""
            },
            "colorscale": [
             [
              0,
              "#0d0887"
             ],
             [
              0.1111111111111111,
              "#46039f"
             ],
             [
              0.2222222222222222,
              "#7201a8"
             ],
             [
              0.3333333333333333,
              "#9c179e"
             ],
             [
              0.4444444444444444,
              "#bd3786"
             ],
             [
              0.5555555555555556,
              "#d8576b"
             ],
             [
              0.6666666666666666,
              "#ed7953"
             ],
             [
              0.7777777777777778,
              "#fb9f3a"
             ],
             [
              0.8888888888888888,
              "#fdca26"
             ],
             [
              1,
              "#f0f921"
             ]
            ],
            "type": "surface"
           }
          ],
          "table": [
           {
            "cells": {
             "fill": {
              "color": "#EBF0F8"
             },
             "line": {
              "color": "white"
             }
            },
            "header": {
             "fill": {
              "color": "#C8D4E3"
             },
             "line": {
              "color": "white"
             }
            },
            "type": "table"
           }
          ]
         },
         "layout": {
          "annotationdefaults": {
           "arrowcolor": "#2a3f5f",
           "arrowhead": 0,
           "arrowwidth": 1
          },
          "autotypenumbers": "strict",
          "coloraxis": {
           "colorbar": {
            "outlinewidth": 0,
            "ticks": ""
           }
          },
          "colorscale": {
           "diverging": [
            [
             0,
             "#8e0152"
            ],
            [
             0.1,
             "#c51b7d"
            ],
            [
             0.2,
             "#de77ae"
            ],
            [
             0.3,
             "#f1b6da"
            ],
            [
             0.4,
             "#fde0ef"
            ],
            [
             0.5,
             "#f7f7f7"
            ],
            [
             0.6,
             "#e6f5d0"
            ],
            [
             0.7,
             "#b8e186"
            ],
            [
             0.8,
             "#7fbc41"
            ],
            [
             0.9,
             "#4d9221"
            ],
            [
             1,
             "#276419"
            ]
           ],
           "sequential": [
            [
             0,
             "#0d0887"
            ],
            [
             0.1111111111111111,
             "#46039f"
            ],
            [
             0.2222222222222222,
             "#7201a8"
            ],
            [
             0.3333333333333333,
             "#9c179e"
            ],
            [
             0.4444444444444444,
             "#bd3786"
            ],
            [
             0.5555555555555556,
             "#d8576b"
            ],
            [
             0.6666666666666666,
             "#ed7953"
            ],
            [
             0.7777777777777778,
             "#fb9f3a"
            ],
            [
             0.8888888888888888,
             "#fdca26"
            ],
            [
             1,
             "#f0f921"
            ]
           ],
           "sequentialminus": [
            [
             0,
             "#0d0887"
            ],
            [
             0.1111111111111111,
             "#46039f"
            ],
            [
             0.2222222222222222,
             "#7201a8"
            ],
            [
             0.3333333333333333,
             "#9c179e"
            ],
            [
             0.4444444444444444,
             "#bd3786"
            ],
            [
             0.5555555555555556,
             "#d8576b"
            ],
            [
             0.6666666666666666,
             "#ed7953"
            ],
            [
             0.7777777777777778,
             "#fb9f3a"
            ],
            [
             0.8888888888888888,
             "#fdca26"
            ],
            [
             1,
             "#f0f921"
            ]
           ]
          },
          "colorway": [
           "#636efa",
           "#EF553B",
           "#00cc96",
           "#ab63fa",
           "#FFA15A",
           "#19d3f3",
           "#FF6692",
           "#B6E880",
           "#FF97FF",
           "#FECB52"
          ],
          "font": {
           "color": "#2a3f5f"
          },
          "geo": {
           "bgcolor": "white",
           "lakecolor": "white",
           "landcolor": "#E5ECF6",
           "showlakes": true,
           "showland": true,
           "subunitcolor": "white"
          },
          "hoverlabel": {
           "align": "left"
          },
          "hovermode": "closest",
          "mapbox": {
           "style": "light"
          },
          "paper_bgcolor": "white",
          "plot_bgcolor": "#E5ECF6",
          "polar": {
           "angularaxis": {
            "gridcolor": "white",
            "linecolor": "white",
            "ticks": ""
           },
           "bgcolor": "#E5ECF6",
           "radialaxis": {
            "gridcolor": "white",
            "linecolor": "white",
            "ticks": ""
           }
          },
          "scene": {
           "xaxis": {
            "backgroundcolor": "#E5ECF6",
            "gridcolor": "white",
            "gridwidth": 2,
            "linecolor": "white",
            "showbackground": true,
            "ticks": "",
            "zerolinecolor": "white"
           },
           "yaxis": {
            "backgroundcolor": "#E5ECF6",
            "gridcolor": "white",
            "gridwidth": 2,
            "linecolor": "white",
            "showbackground": true,
            "ticks": "",
            "zerolinecolor": "white"
           },
           "zaxis": {
            "backgroundcolor": "#E5ECF6",
            "gridcolor": "white",
            "gridwidth": 2,
            "linecolor": "white",
            "showbackground": true,
            "ticks": "",
            "zerolinecolor": "white"
           }
          },
          "shapedefaults": {
           "line": {
            "color": "#2a3f5f"
           }
          },
          "ternary": {
           "aaxis": {
            "gridcolor": "white",
            "linecolor": "white",
            "ticks": ""
           },
           "baxis": {
            "gridcolor": "white",
            "linecolor": "white",
            "ticks": ""
           },
           "bgcolor": "#E5ECF6",
           "caxis": {
            "gridcolor": "white",
            "linecolor": "white",
            "ticks": ""
           }
          },
          "title": {
           "x": 0.05
          },
          "xaxis": {
           "automargin": true,
           "gridcolor": "white",
           "linecolor": "white",
           "ticks": "",
           "title": {
            "standoff": 15
           },
           "zerolinecolor": "white",
           "zerolinewidth": 2
          },
          "yaxis": {
           "automargin": true,
           "gridcolor": "white",
           "linecolor": "white",
           "ticks": "",
           "title": {
            "standoff": 15
           },
           "zerolinecolor": "white",
           "zerolinewidth": 2
          }
         }
        },
        "title": {
         "text": "Complete Model Performance Analysis: All Evaluation Stages"
        },
        "xaxis": {
         "anchor": "y",
         "domain": [
          0,
          0.45
         ],
         "title": {
          "text": "Model"
         }
        },
        "xaxis2": {
         "anchor": "y2",
         "domain": [
          0.55,
          1
         ],
         "title": {
          "text": "Model"
         }
        },
        "xaxis3": {
         "anchor": "y3",
         "domain": [
          0,
          0.45
         ],
         "range": [
          0.5,
          0.7
         ],
         "title": {
          "text": "Test Accuracy"
         }
        },
        "xaxis4": {
         "anchor": "y4",
         "domain": [
          0.55,
          1
         ],
         "title": {
          "text": "Model"
         }
        },
        "yaxis": {
         "anchor": "x",
         "domain": [
          0.625,
          1
         ],
         "range": [
          0,
          1
         ],
         "title": {
          "text": "Accuracy"
         }
        },
        "yaxis2": {
         "anchor": "x2",
         "domain": [
          0.625,
          1
         ],
         "range": [
          0,
          1.1
         ],
         "title": {
          "text": "Accuracy"
         }
        },
        "yaxis3": {
         "anchor": "x3",
         "domain": [
          0,
          0.375
         ],
         "range": [
          0.2,
          0.4
         ],
         "title": {
          "text": "Test Macro F1-Score"
         }
        },
        "yaxis4": {
         "anchor": "x4",
         "domain": [
          0,
          0.375
         ],
         "title": {
          "text": "Time (seconds, log scale)"
         },
         "type": "log"
        }
       }
      }
     },
     "metadata": {},
     "output_type": "display_data"
    },
    {
     "name": "stdout",
     "output_type": "stream",
     "text": [
      "\n",
      "================================================================================\n",
      "KEY OBSERVATIONS FROM COMPREHENSIVE PERFORMANCE ANALYSIS\n",
      "================================================================================\n",
      "\n",
      "1. CROSS-VALIDATION STAGE:\n",
      "   - Logistic Regression: 58.95% (Winner - Most stable)\n",
      "   - Random Forest: 57.01%\n",
      "   - Gradient Boosting: 55.67%\n",
      "\n",
      "2. TRAINING VS VALIDATION:\n",
      "   - ALL models show severe overfitting (train: 95-99%, val: 57-62%)\n",
      "   - Logistic Regression has smallest gap (36.5%)\n",
      "   - Gradient Boosting has largest gap (43.2%)\n",
      "\n",
      "3. TEST SET PERFORMANCE:\n",
      "   - Logistic Regression: HIGHEST Macro F1 (34.49%)\n",
      "   - Random Forest: Highest accuracy (65.29%) but lower macro F1 (27.85%)\n",
      "   - Macro F1 is more important for imbalanced data!\n",
      "\n",
      "4. TRAINING TIME:\n",
      "   - Logistic Regression: 0.23s (FASTEST)\n",
      "   - Random Forest: 0.28s\n",
      "   - Gradient Boosting: 158.83s (690\u00d7 slower than LR!)\n",
      "\n",
      "================================================================================\n"
     ]
    }
   ],
   "source": [
    "# Create comprehensive performance comparison across all evaluation stages\n",
    "import plotly.graph_objects as go\n",
    "from plotly.subplots import make_subplots\n",
    "\n",
    "# Prepare data for visualization\n",
    "model_names = ['Logistic Regression', 'Random Forest', 'Gradient Boosting']\n",
    "cv_scores = [0.5895, 0.5701, 0.5567]\n",
    "train_scores = [0.989, 0.957, 0.998]\n",
    "val_scores = [0.624, 0.570, 0.566]\n",
    "test_scores = [0.624, 0.653, 0.628]\n",
    "test_macro_f1 = [0.345, 0.279, 0.259]\n",
    "\n",
    "# Create subplots\n",
    "fig = make_subplots(\n",
    "    rows=2, cols=2,\n",
    "    subplot_titles=(\n",
    "        'Cross-Validation Accuracy (5-Fold)',\n",
    "        'Train vs Validation Accuracy',\n",
    "        'Test Set Performance: Accuracy vs Macro F1',\n",
    "        'Training Time Comparison'\n",
    "    ),\n",
    "    specs=[[{'type': 'bar'}, {'type': 'bar'}],\n",
    "           [{'type': 'scatter'}, {'type': 'bar'}]]\n",
    ")\n",
    "\n",
    "# 1. Cross-Validation Accuracy\n",
    "fig.add_trace(\n",
    "    go.Bar(x=model_names, y=cv_scores, name='CV Accuracy',\n",
    "           marker_color=['#1f77b4', '#ff7f0e', '#2ca02c'],\n",
    "           text=[f'{s:.2%}' for s in cv_scores],\n",
    "           textposition='outside'),\n",
    "    row=1, col=1\n",
    ")\n",
    "\n",
    "# 2. Train vs Validation\n",
    "fig.add_trace(\n",
    "    go.Bar(x=model_names, y=train_scores, name='Train Accuracy',\n",
    "           marker_color='lightblue',\n",
    "           text=[f'{s:.2%}' for s in train_scores],\n",
    "           textposition='outside'),\n",
    "    row=1, col=2\n",
    ")\n",
    "fig.add_trace(\n",
    "    go.Bar(x=model_names, y=val_scores, name='Validation Accuracy',\n",
    "           marker_color='darkblue',\n",
    "           text=[f'{s:.2%}' for s in val_scores],\n",
    "           textposition='outside'),\n",
    "    row=1, col=2\n",
    ")\n",
    "\n",
    "# 3. Test Set: Accuracy vs Macro F1\n",
    "fig.add_trace(\n",
    "    go.Scatter(x=test_scores, y=test_macro_f1, mode='markers+text',\n",
    "               marker=dict(size=20, color=['#1f77b4', '#ff7f0e', '#2ca02c']),\n",
    "               text=model_names,\n",
    "               textposition='top center',\n",
    "               name='Test Performance',\n",
    "               showlegend=False),\n",
    "    row=2, col=1\n",
    ")\n",
    "\n",
    "# 4. Training Time\n",
    "training_times = [0.23, 0.28, 158.83]\n",
    "fig.add_trace(\n",
    "    go.Bar(x=model_names, y=training_times, name='Training Time (s)',\n",
    "           marker_color=['#1f77b4', '#ff7f0e', '#2ca02c'],\n",
    "           text=[f'{t:.2f}s' for t in training_times],\n",
    "           textposition='outside'),\n",
    "    row=2, col=2\n",
    ")\n",
    "\n",
    "# Update axes\n",
    "fig.update_xaxes(title_text=\"Model\", row=1, col=1)\n",
    "fig.update_yaxes(title_text=\"Accuracy\", range=[0, 1], row=1, col=1)\n",
    "\n",
    "fig.update_xaxes(title_text=\"Model\", row=1, col=2)\n",
    "fig.update_yaxes(title_text=\"Accuracy\", range=[0, 1.1], row=1, col=2)\n",
    "\n",
    "fig.update_xaxes(title_text=\"Test Accuracy\", range=[0.5, 0.7], row=2, col=1)\n",
    "fig.update_yaxes(title_text=\"Test Macro F1-Score\", range=[0.2, 0.4], row=2, col=1)\n",
    "\n",
    "fig.update_xaxes(title_text=\"Model\", row=2, col=2)\n",
    "fig.update_yaxes(title_text=\"Time (seconds, log scale)\", type='log', row=2, col=2)\n",
    "\n",
    "# Update layout\n",
    "fig.update_layout(\n",
    "    height=800,\n",
    "    title_text=\"Complete Model Performance Analysis: All Evaluation Stages\",\n",
    "    showlegend=True,\n",
    "    legend=dict(x=0.7, y=0.5)\n",
    ")\n",
    "\n",
    "fig.show()\n",
    "\n",
    "print(\"\\n\" + \"=\"*80)\n",
    "print(\"KEY OBSERVATIONS FROM COMPREHENSIVE PERFORMANCE ANALYSIS\")\n",
    "print(\"=\"*80)\n",
    "print(\"\\n1. CROSS-VALIDATION STAGE:\")\n",
    "print(\"   - Logistic Regression: 58.95% (Winner - Most stable)\")\n",
    "print(\"   - Random Forest: 57.01%\")\n",
    "print(\"   - Gradient Boosting: 55.67%\")\n",
    "print(\"\\n2. TRAINING VS VALIDATION:\")\n",
    "print(\"   - ALL models show severe overfitting (train: 95-99%, val: 57-62%)\")\n",
    "print(\"   - Logistic Regression has smallest gap (36.5%)\")\n",
    "print(\"   - Gradient Boosting has largest gap (43.2%)\")\n",
    "print(\"\\n3. TEST SET PERFORMANCE:\")\n",
    "print(\"   - Logistic Regression: HIGHEST Macro F1 (34.49%)\")\n",
    "print(\"   - Random Forest: Highest accuracy (65.29%) but lower macro F1 (27.85%)\")\n",
    "print(\"   - Macro F1 is more important for imbalanced data!\")\n",
    "print(\"\\n4. TRAINING TIME:\")\n",
    "print(\"   - Logistic Regression: 0.23s (FASTEST)\")\n",
    "print(\"   - Random Forest: 0.28s\")\n",
    "print(\"   - Gradient Boosting: 158.83s (690\u00d7 slower than LR!)\")\n",
    "print(\"\\n\" + \"=\"*80)"
   ]
  },
  {
   "cell_type": "markdown",
   "id": "c814c547",
   "metadata": {},
   "source": [
    "### 8.2 Genre-Level Success Analysis\n",
    "\n",
    "Understanding which genres are easiest and hardest to classify provides insights into the quality of our features and the inherent similarity between genres."
   ]
  },
  {
   "cell_type": "code",
   "execution_count": null,
   "id": "f0bce249",
   "metadata": {},
   "outputs": [],
   "source": [
    "# Visualize genre-level performance and sample sizes\n",
    "import plotly.graph_objects as go\n",
    "from plotly.subplots import make_subplots\n",
    "\n",
    "# Get genre sample counts from training data\n",
    "genre_sample_counts = pd.Series(y_train).value_counts().sort_index()\n",
    "genre_names_ordered = [le.inverse_transform([i])[0] for i in genre_sample_counts.index]\n",
    "\n",
    "# Get average F1 scores per genre (from previously computed per_genre_df)\n",
    "avg_f1_per_genre = per_genre_df_sorted['average'].values\n",
    "genre_names_f1_sorted = per_genre_df_sorted.index.tolist()\n",
    "\n",
    "# Create dual-axis visualization\n",
    "fig = make_subplots(\n",
    "    rows=2, cols=1,\n",
    "    subplot_titles=(\n",
    "        'Genre Classification Performance (Average F1-Score)',\n",
    "        'Training Sample Counts by Genre'\n",
    "    ),\n",
    "    row_heights=[0.6, 0.4]\n",
    ")\n",
    "\n",
    "# 1. F1-Score by genre (sorted by performance)\n",
    "colors = ['green' if f1 > 0.6 else 'orange' if f1 > 0.3 else 'red' \n",
    "          for f1 in avg_f1_per_genre]\n",
    "\n",
    "fig.add_trace(\n",
    "    go.Bar(x=genre_names_f1_sorted, y=avg_f1_per_genre,\n",
    "           marker_color=colors,\n",
    "           text=[f'{f1:.2f}' for f1 in avg_f1_per_genre],\n",
    "           textposition='outside',\n",
    "           name='Avg F1-Score',\n",
    "           showlegend=False),\n",
    "    row=1, col=1\n",
    ")\n",
    "\n",
    "# Add reference line at 0.3 (reasonable performance threshold)\n",
    "fig.add_hline(y=0.3, line_dash=\"dash\", line_color=\"gray\", \n",
    "              annotation_text=\"Reasonable threshold (0.30)\", \n",
    "              annotation_position=\"right\",\n",
    "              row=1, col=1)\n",
    "\n",
    "# 2. Sample counts by genre\n",
    "fig.add_trace(\n",
    "    go.Bar(x=genre_names_ordered, y=genre_sample_counts.values,\n",
    "           marker_color='steelblue',\n",
    "           text=genre_sample_counts.values,\n",
    "           textposition='outside',\n",
    "           name='Training Samples',\n",
    "           showlegend=False),\n",
    "    row=2, col=1\n",
    ")\n",
    "\n",
    "# Add reference line at 20 samples (minimum for reasonable classification)\n",
    "fig.add_hline(y=20, line_dash=\"dash\", line_color=\"red\",\n",
    "              annotation_text=\"Minimum threshold (20 samples)\",\n",
    "              annotation_position=\"right\",\n",
    "              row=2, col=1)\n",
    "\n",
    "# Update layout\n",
    "fig.update_xaxes(title_text=\"Genre\", tickangle=45, row=1, col=1)\n",
    "fig.update_yaxes(title_text=\"Average F1-Score\", row=1, col=1)\n",
    "\n",
    "fig.update_xaxes(title_text=\"Genre\", tickangle=45, row=2, col=1)\n",
    "fig.update_yaxes(title_text=\"Number of Training Samples\", row=2, col=1)\n",
    "\n",
    "fig.update_layout(\n",
    "    height=900,\n",
    "    title_text=\"Genre-Level Performance vs Sample Size Analysis\",\n",
    "    showlegend=False\n",
    ")\n",
    "\n",
    "fig.show()\n",
    "\n",
    "print(\"\\n\" + \"=\"*80)\n",
    "print(\"GENRE-LEVEL PERFORMANCE INSIGHTS\")\n",
    "print(\"=\"*80)\n",
    "\n",
    "# Analyze relationship between sample size and performance\n",
    "print(\"\\n1. TOP 5 BEST PERFORMING GENRES:\")\n",
    "for i in range(min(5, len(per_genre_df_sorted))):\n",
    "    genre = per_genre_df_sorted.index[i]\n",
    "    f1 = per_genre_df_sorted.iloc[i]['average']\n",
    "    # Get sample count\n",
    "    genre_idx = le.transform([genre])[0]\n",
    "    samples = genre_sample_counts.get(genre_idx, 0)\n",
    "    print(f\"   {i+1}. {genre}: F1={f1:.3f} (n={samples} samples)\")\n",
    "\n",
    "print(\"\\n2. TOP 5 WORST PERFORMING GENRES:\")\n",
    "for i in range(max(0, len(per_genre_df_sorted)-5), len(per_genre_df_sorted)):\n",
    "    genre = per_genre_df_sorted.index[i]\n",
    "    f1 = per_genre_df_sorted.iloc[i]['average']\n",
    "    genre_idx = le.transform([genre])[0]\n",
    "    samples = genre_sample_counts.get(genre_idx, 0)\n",
    "    rank = i - (len(per_genre_df_sorted) - 5) + 1\n",
    "    print(f\"   {rank}. {genre}: F1={f1:.3f} (n={samples} samples)\")\n",
    "\n",
    "print(\"\\n3. CORRELATION BETWEEN SAMPLE SIZE AND PERFORMANCE:\")\n",
    "# Calculate correlation\n",
    "sample_counts_aligned = []\n",
    "f1_scores_aligned = []\n",
    "for genre in per_genre_df_sorted.index:\n",
    "    f1 = per_genre_df_sorted.loc[genre, 'average']\n",
    "    genre_idx = le.transform([genre])[0]\n",
    "    samples = genre_sample_counts.get(genre_idx, 0)\n",
    "    sample_counts_aligned.append(samples)\n",
    "    f1_scores_aligned.append(f1)\n",
    "\n",
    "correlation = np.corrcoef(sample_counts_aligned, f1_scores_aligned)[0, 1]\n",
    "print(f\"   Pearson correlation: {correlation:.3f}\")\n",
    "if correlation > 0.5:\n",
    "    print(\"   \u2192 Strong positive correlation: More samples = Better performance\")\n",
    "elif correlation > 0.3:\n",
    "    print(\"   \u2192 Moderate positive correlation: Sample size matters\")\n",
    "else:\n",
    "    print(\"   \u2192 Weak correlation: Other factors (genre similarity) dominate\")\n",
    "\n",
    "print(\"\\n4. GENRES WITH INSUFFICIENT DATA (<20 samples):\")\n",
    "low_sample_genres = [(name, count) for name, count in zip(genre_names_ordered, genre_sample_counts.values) if count < 20]\n",
    "print(f\"   Total: {len(low_sample_genres)} out of {len(genre_names_ordered)} genres\")\n",
    "for genre, count in low_sample_genres:\n",
    "    print(f\"   - {genre}: {count} samples\")\n",
    "\n",
    "print(\"\\n\" + \"=\"*80)\n"
   ]
  },
  {
   "cell_type": "markdown",
   "id": "59606702",
   "metadata": {},
   "source": [
    "### 8.3 Key Conclusions\n\nBased on our comprehensive analysis of 1,612 personal Spotify tracks across 20 genres using 348 audio features, we can draw several important conclusions:"
   ]
  },
  {
   "cell_type": "markdown",
   "id": "1929d36f",
   "metadata": {},
   "source": [
    "#### **1. Logistic Regression Outperforms Complex Ensemble Methods**\n\n**Finding**: Despite being the simplest model, Logistic Regression achieved the best overall performance:\n- \u2713 Highest cross-validation accuracy: **58.95%** (\u00b10.73%)\n- \u2713 Highest validation accuracy: **62.40%**\n- \u2713 Highest test macro F1-score: **34.49%** (24% better than Gradient Boosting)\n- \u2713 Fastest training: **0.23 seconds** (690\u00d7 faster than Gradient Boosting)\n- \u2713 Lowest overfitting: 36.5% train-val gap (vs 43.2% for Gradient Boosting)\n\n**Why?**: \n- With limited data (1,128 training samples) and high dimensionality (348 features), simpler models with strong regularization generalize better\n- Linear models are less prone to memorizing noise in small datasets\n- L2 regularization in Logistic Regression prevents overfitting to rare genre patterns\n\n**Implication**: For web application deployment, Logistic Regression is the clear winner\u2014fast, interpretable, and most reliable.\n\n---\n\n#### **2. Severe Class Imbalance Fundamentally Limits Performance**\n\n**Finding**: Our dataset has a 38:1 imbalance ratio (422 \"Unknown\" samples vs 11 \"Afro Adura\" samples), causing:\n- 10 out of 20 genres have **0% F1-score** (complete classification failure)\n- Large gap between accuracy (62.4%) and macro F1-score (34.5%)\n- Models biased toward predicting majority class (\"Unknown\")\n\n**Evidence from confusion analysis**:\n- Country \u2192 Unknown: 100% misclassified\n- EDM \u2192 Unknown: 100% misclassified\n- Reggaeton \u2192 Afrobeats: 100% misclassified (rhythmic similarity)\n- Lo-Fi Beats/Hip Hop \u2192 Lo-Fi: 100% misclassified (sub-genre ambiguity)\n\n**Implication**: Need minimum 50-100 samples per genre for reliable classification. Current rare genres (<20 samples) are unclassifiable.\n\n---\n\n#### **3. Genre Distinctiveness Varies Dramatically**\n\n**Top 5 Most Distinctive Genres** (Well-Classified):\n1. **Worship** (F1=85.22%): Distinctive vocal patterns, slower tempo, harmonic structure\n2. **New Age** (F1=76.30%): Unique spectral characteristics, ambient textures\n3. **Lo-Fi** (F1=68.65%): Consistent relaxed beats, vinyl crackle, tape saturation\n4. **Afrobeats** (F1=67.58%): Strong rhythmic patterns, percussive elements\n5. **Unknown** (F1=64.24%): Largest class (422 samples), captures diverse \"other\" category\n\n**Insight**: Genres with distinctive tempo, rhythm, or production characteristics are easier to classify. Worship and New Age have unique audio signatures that separate them clearly in feature space.\n\n---\n\n#### **4. Overfitting is the Primary Challenge**\n\n**Finding**: All three models achieve near-perfect training accuracy (95-99%) but only 57-62% validation accuracy:\n\n| Model | Train Acc | Val Acc | Gap |\n|-------|-----------|---------|-----|\n| Logistic Regression | 98.9% | 62.4% | 36.5% |\n| Random Forest | 95.7% | 57.0% | 38.6% |\n| Gradient Boosting | 99.8% | 56.6% | 43.2% |\n\n**Why?**: \n- High-dimensional feature space (348 features) allows models to memorize training patterns\n- Limited samples per genre (especially <20) don't provide enough generalization examples\n- Complex models (Gradient Boosting) overfit more than simple models (Logistic Regression)\n\n**Implication**: Future work should focus on:\n- Feature selection to reduce dimensionality\n- Collecting more data (especially for rare genres)\n- Stronger regularization or simpler models\n\n---\n\n#### **5. Sub-Genre Merging is Essential**\n\n**Finding**: Related sub-genres are indistinguishable:\n- \"Lo-Fi Beats\" and \"Lo-Fi Hip Hop\" are 100% confused with parent genre \"Lo-Fi\"\n- Models cannot learn subtle differences with limited samples\n\n**Recommendation**: Merge related genres:\n- Combine: **Lo-Fi**, **Lo-Fi Beats**, **Lo-Fi Hip Hop** \u2192 **Lo-Fi (All)**\n- This would increase sample count from ~35 to ~80+ samples\n- Reduce classification problem from 20 to ~17-18 classes\n\n**Expected impact**: \n- Improved F1-scores for merged classes\n- Reduced confusion\n- More practical for real-world application (users don't care about fine sub-genre distinctions)\n\n---\n\n#### **6. Audio Features Capture Genre Effectively (When Data is Sufficient)**\n\n**Finding**: Despite challenges, we achieved:\n- 62.4% accuracy on 20-class problem (random baseline = 5%)\n- 85% F1-score on well-represented genres (Worship)\n- Clear separation in feature space for distinctive genres\n\n**Evidence**: \n- 348 audio features (MFCCs, spectral, rhythmic, temporal) contain discriminative information\n- Confusion primarily occurs between similar genres, not random misclassification\n- Genre relationships make sense (EDM\u2192Unknown, Lo-Fi Beats\u2192Lo-Fi, Reggaeton\u2192Afrobeats)\n\n**Implication**: Feature engineering was successful\u2014the bottleneck is **data quantity**, not data quality.\n\n---\n\n#### **7. Computational Efficiency Matters for Deployment**\n\n**Finding**: Training time varies dramatically:\n- Logistic Regression: 0.23 seconds\n- Random Forest: 0.28 seconds\n- Gradient Boosting: **158.83 seconds** (690\u00d7 slower!)\n\n**For web application deployment**:\n- \u2713 Logistic Regression enables real-time retraining as new data arrives\n- \u2713 Fast inference (<0.01s per prediction)\n- \u2713 Can update model frequently without computational burden\n- \u2717 Gradient Boosting would require expensive infrastructure for retraining\n\n**Implication**: Speed + performance make Logistic Regression the only viable choice for production deployment.\n\n---\n\n#### **8. Model Validation Strategy was Critical**\n\n**Finding**: Our rigorous evaluation (5-fold CV \u2192 train/val split \u2192 held-out test) revealed:\n- \u2713 Test accuracy (62.4%) matches validation accuracy (62.4%) perfectly\n- \u2713 Zero overfitting from validation to test set\n- \u2713 Stable cross-validation (low variance across folds)\n\n**This confirms**:\n- Stratified splitting preserved class distributions correctly\n- Model generalizes to truly unseen data\n- Results are trustworthy for deployment decisions\n\n**Best practice validated**: Always use held-out test set\u2014some models (Random Forest) had different rankings on train/val vs test!\n\n---\n\n### Summary of Conclusions\n\n| **Conclusion** | **Evidence** | **Implication** |\n|----------------|--------------|-----------------|\n| 1. Simple models win with limited data | LR: 34.5% macro F1 vs GB: 25.9% | Deploy Logistic Regression |\n| 2. Class imbalance is severe | 10/20 genres have 0% F1 | Need 50-100 samples per genre |\n| 3. Genre distinctiveness varies | Worship: 85% F1 vs Country: 0% F1 | Focus on distinctive genres |\n| 4. Overfitting is the main challenge | 99% train vs 62% val accuracy | Need regularization + more data |\n| 5. Sub-genres should be merged | Lo-Fi sub-genres 100% confused | Merge to 17-18 classes |\n| 6. Audio features work well | 62.4% on 20-class (baseline: 5%) | Feature engineering successful |\n| 7. Speed matters for production | LR 690\u00d7 faster than GB | Only LR is computationally feasible |\n| 8. Validation strategy was robust | Test = Val accuracy (62.4%) | Results are trustworthy |\n\n**Final Recommendation**: Deploy **Logistic Regression** model for web application with merged genre categories and continued data collection for rare genres.\n\n---"
   ]
  },
  {
   "cell_type": "markdown",
   "id": "613ff9a6",
   "metadata": {},
   "source": [
    "---\n",
    "\n",
    "## Section 9: Executive Summary\n",
    "\n",
    "This section provides a high-level overview of the entire machine learning pipeline, key findings, and recommendations for the web application deployment."
   ]
  },
  {
   "cell_type": "markdown",
   "id": "7eb13efe",
   "metadata": {},
   "source": [
    "### 9.1 Machine Learning Pipeline Diagram\n\n```\n\u250c\u2500\u2500\u2500\u2500\u2500\u2500\u2500\u2500\u2500\u2500\u2500\u2500\u2500\u2500\u2500\u2500\u2500\u2500\u2500\u2500\u2500\u2500\u2500\u2500\u2500\u2500\u2500\u2500\u2500\u2500\u2500\u2500\u2500\u2500\u2500\u2500\u2500\u2500\u2500\u2500\u2500\u2500\u2500\u2500\u2500\u2500\u2500\u2500\u2500\u2500\u2500\u2500\u2500\u2500\u2500\u2500\u2500\u2500\u2500\u2500\u2500\u2500\u2500\u2500\u2500\u2500\u2500\u2500\u2500\u2500\u2500\u2500\u2500\u2500\u2500\u2500\u2510\n\u2502                         SPOTIFY ML PIPELINE                                 \u2502\n\u2514\u2500\u2500\u2500\u2500\u2500\u2500\u2500\u2500\u2500\u2500\u2500\u2500\u2500\u2500\u2500\u2500\u2500\u2500\u2500\u2500\u2500\u2500\u2500\u2500\u2500\u2500\u2500\u2500\u2500\u2500\u2500\u2500\u2500\u2500\u2500\u2500\u2500\u2500\u2500\u2500\u2500\u2500\u2500\u2500\u2500\u2500\u2500\u2500\u2500\u2500\u2500\u2500\u2500\u2500\u2500\u2500\u2500\u2500\u2500\u2500\u2500\u2500\u2500\u2500\u2500\u2500\u2500\u2500\u2500\u2500\u2500\u2500\u2500\u2500\u2500\u2500\u2518\n\nStep 1: DATA COLLECTION\n\u251c\u2500 Source: Personal Spotify Streaming History (JSON files)\n\u251c\u2500 Time Period: 2023-2025 (2 years of listening data)\n\u251c\u2500 Initial Records: 14,849 streaming events\n\u2514\u2500 Unique Tracks: 1,612 songs across 20 genres\n\n              \u2193\n\nStep 2: DATA LOADING & FORMAT CONVERSION\n\u251c\u2500 Load JSON streaming history files\n\u251c\u2500 Parse timestamps, artist names, track names\n\u251c\u2500 Convert to pandas DataFrame for analysis\n\u2514\u2500 Output: Combined streaming dataset (1,612 unique tracks)\n\n              \u2193\n\nStep 3: DATA CLEANING & PREPROCESSING\n\u251c\u2500 Remove duplicates (keep unique tracks only)\n\u251c\u2500 Handle missing values (drop tracks with no genre info)\n\u251c\u2500 Filter low-frequency genres (minimum 10 samples per genre)\n\u251c\u2500 Initial genres: 31 \u2192 After filtering: 20 genres\n\u2514\u2500 Output: Clean dataset (1,612 tracks, 20 genres)\n\n              \u2193\n\nStep 4: FEATURE ENGINEERING\n\u251c\u2500 Extract 348 audio features per track:\n\u2502  \u251c\u2500 14 Simple features (tempo, key, mode, time_signature, etc.)\n\u2502  \u2514\u2500 334 Array-based features from audio analysis:\n\u2502      \u251c\u2500 7 MFCC coefficients (mean + std = 14 features)\n\u2502      \u251c\u2500 160 chroma features (20 bins \u00d7 8 stats)\n\u2502      \u251c\u2500 80 mel spectrogram features (10 bins \u00d7 8 stats)\n\u2502      \u251c\u2500 40 spectral contrast features (5 bands \u00d7 8 stats)\n\u2502      \u2514\u2500 40 tonnetz features (5 dimensions \u00d7 8 stats)\n\u2514\u2500 Output: Feature matrix (1,612 \u00d7 348)\n\n              \u2193\n\nStep 5: EXPLORATORY DATA ANALYSIS\n\u251c\u2500 Genre distribution analysis (severe 38:1 imbalance)\n\u251c\u2500 Feature correlation analysis (identify redundancy)\n\u251c\u2500 Temporal patterns (daily/hourly listening trends)\n\u2514\u2500 Top artists and tracks by play count\n\n              \u2193\n\nStep 6: DATA SPLITTING (Stratified)\n\u251c\u2500 Training Set: 1,128 tracks (70%)\n\u251c\u2500 Validation Set: 242 tracks (15%)\n\u2514\u2500 Test Set: 242 tracks (15%)\n\n              \u2193\n\nStep 7: FEATURE STANDARDIZATION\n\u251c\u2500 Apply StandardScaler (fit on training set only)\n\u251c\u2500 Transform train, validation, and test sets\n\u2514\u2500 All features: mean \u2248 0, std \u2248 1\n\n              \u2193\n\nStep 8: MODEL SELECTION & INITIALIZATION\n\u251c\u2500 Model 1: Logistic Regression (C=1.0, L2 regularization)\n\u251c\u2500 Model 2: Random Forest (100 trees, max_depth=20)\n\u2514\u2500 Model 3: Gradient Boosting (100 stages, learning_rate=0.1)\n\n              \u2193\n\nStep 9: CROSS-VALIDATION (5-Fold Stratified)\n\u251c\u2500 Logistic Regression: 58.95% \u00b1 0.73% \u2713 BEST\n\u251c\u2500 Random Forest: 57.01% \u00b1 1.85%\n\u2514\u2500 Gradient Boosting: 55.67% \u00b1 3.17%\n\n              \u2193\n\nStep 10: FINAL TRAINING (on full training set)\n\u251c\u2500 Logistic Regression: Train=98.9%, Val=62.4% \u2713 BEST\n\u251c\u2500 Random Forest: Train=95.7%, Val=57.0%\n\u2514\u2500 Gradient Boosting: Train=99.8%, Val=56.6%\n\n              \u2193\n\nStep 11: TEST SET EVALUATION (242 unseen tracks)\n\u251c\u2500 Logistic Regression: Acc=62.4%, Macro F1=34.5% \u2713 WINNER\n\u251c\u2500 Random Forest: Acc=65.3%, Macro F1=27.9%\n\u2514\u2500 Gradient Boosting: Acc=62.8%, Macro F1=25.9%\n\n              \u2193\n\nStep 12: CONFUSION MATRIX & PER-GENRE ANALYSIS\n\u251c\u2500 Top 5 genres: Worship (85%), New Age (76%), Lo-Fi (69%)\n\u251c\u2500 Bottom 10 genres: 0% F1-score (insufficient data)\n\u2514\u2500 Common confusion: Rare genres \u2192 \"Unknown\" (majority class)\n\n              \u2193\n\nStep 13: FINAL MODEL SELECTION\n\u250c\u2500\u2500\u2500\u2500\u2500\u2500\u2500\u2500\u2500\u2500\u2500\u2500\u2500\u2500\u2500\u2500\u2500\u2500\u2500\u2500\u2500\u2500\u2500\u2500\u2500\u2500\u2500\u2500\u2500\u2500\u2500\u2500\u2500\u2500\u2500\u2500\u2500\u2500\u2500\u2500\u2500\u2500\u2500\u2500\u2500\u2500\u2500\u2500\u2500\u2500\u2500\u2500\u2500\u2500\u2500\u2500\u2500\u2500\u2500\u2500\u2500\u2500\u2500\u2500\u2500\u2500\u2510\n\u2502 SELECTED MODEL: Logistic Regression                             \u2502\n\u2502 \u2500\u2500\u2500\u2500\u2500\u2500\u2500\u2500\u2500\u2500\u2500\u2500\u2500\u2500\u2500\u2500\u2500\u2500\u2500\u2500\u2500\u2500\u2500\u2500\u2500\u2500\u2500\u2500\u2500\u2500\u2500\u2500\u2500\u2500\u2500\u2500\u2500\u2500\u2500\u2500\u2500\u2500\u2500\u2500\u2500\u2500\u2500\u2500\u2500\u2500\u2500\u2500\u2500\u2500\u2500\u2500\u2500\u2500\u2500\u2500\u2500\u2500\u2500 \u2502\n\u2502 Justification:                                                   \u2502\n\u2502 \u2022 Highest macro F1-score (34.5%) - best for imbalanced data    \u2502\n\u2502 \u2022 Fastest inference (<0.01s) - suitable for web application     \u2502\n\u2502 \u2022 Most interpretable (feature weights available)                \u2502\n\u2502 \u2022 Lowest overfitting (36.5% gap vs 43.2% for GB)               \u2502\n\u2502 \u2022 Consistent across CV folds (\u00b10.73% variance)                  \u2502\n\u2514\u2500\u2500\u2500\u2500\u2500\u2500\u2500\u2500\u2500\u2500\u2500\u2500\u2500\u2500\u2500\u2500\u2500\u2500\u2500\u2500\u2500\u2500\u2500\u2500\u2500\u2500\u2500\u2500\u2500\u2500\u2500\u2500\u2500\u2500\u2500\u2500\u2500\u2500\u2500\u2500\u2500\u2500\u2500\u2500\u2500\u2500\u2500\u2500\u2500\u2500\u2500\u2500\u2500\u2500\u2500\u2500\u2500\u2500\u2500\u2500\u2500\u2500\u2500\u2500\u2500\u2500\u2518\n\n              \u2193\n\nStep 14: WEB APPLICATION DEPLOYMENT\n\u251c\u2500 Deploy Logistic Regression model\n\u251c\u2500 Provide real-time genre predictions for Spotify tracks\n\u2514\u2500 Continue collecting data for model retraining\n```"
   ]
  },
  {
   "cell_type": "markdown",
   "id": "a6b0d150",
   "metadata": {},
   "source": [
    "### 9.2 Key Findings Summary\n\n**Dataset Characteristics**:\n- **1,612 tracks** across **20 genres** from personal Spotify listening history (2023-2025)\n- **348 audio features** extracted per track (14 simple + 334 array-based features)\n- **Severe class imbalance**: 38:1 ratio (422 \"Unknown\" vs 11 \"Afro Adura\")\n- **Challenge**: 10 out of 20 genres have <20 training samples\n\n**Model Performance** (Test Set):\n\n| Model | Accuracy | Macro F1 | Weighted F1 | Training Time | Recommendation |\n|-------|----------|----------|-------------|---------------|----------------|\n| **Logistic Regression** | **62.40%** | **34.49%** \u2713 | **60.78%** \u2713 | **0.23s** \u2713 | **DEPLOY** |\n| Random Forest | 65.29% | 27.85% | 59.34% | 0.28s | \u2717 Lower F1 |\n| Gradient Boosting | 62.81% | 25.88% | 58.37% | 158.83s | \u2717 Too slow |\n\n**Why Logistic Regression Wins**:\n1. **Highest macro F1 (34.49%)**: Best performance across all 20 genres equally (crucial for imbalanced data)\n2. **690\u00d7 faster than Gradient Boosting**: Enables real-time web application inference\n3. **Most interpretable**: Can examine feature coefficients to understand predictions\n4. **Lowest overfitting**: 36.5% train-val gap vs 43.2% for Gradient Boosting\n5. **Most stable**: Lowest cross-validation variance (\u00b10.73%)\n\n**Genre-Level Performance**:\n\n**Top 5 Easiest Genres** (Well-Classified):\n1. Worship: 85.22% F1 - Distinctive vocal/harmonic patterns\n2. New Age: 76.30% F1 - Unique spectral characteristics\n3. Lo-Fi: 68.65% F1 - Consistent relaxed beats, vinyl texture\n4. Afrobeats: 67.58% F1 - Strong rhythmic patterns\n5. Unknown: 64.24% F1 - Largest class (422 samples)\n\n**Bottom 10 Genres** (Failed Classification):\n- **0% F1-score**: Afro Adura, Amapiano, Country, EDM, Lo-Fi Beats, Lo-Fi Hip Hop, Reggaeton, Traditional Music, and 2 others\n- **Root cause**: <20 training samples + confusion with similar genres\n- **Example confusions**: \n  - Country \u2192 Unknown (100%)\n  - EDM \u2192 Unknown (100%)\n  - Lo-Fi Beats/Hip Hop \u2192 Lo-Fi (100%)\n\n**Critical Insights**:\n1. **Simple beats complex**: Logistic Regression outperformed ensembles due to limited data (1,128 samples) and high dimensionality (348 features)\n2. **Data quantity > data quality**: Feature engineering was successful, but insufficient samples per genre is the bottleneck\n3. **Overfitting is universal**: All models achieved 95-99% train accuracy but only 57-62% validation/test accuracy\n4. **Sub-genre merging needed**: Related genres (Lo-Fi, Lo-Fi Beats, Lo-Fi Hip Hop) should be combined\n\n**Limitations**:\n1. **Severe class imbalance**: 38:1 ratio causes bias toward majority class\n2. **Insufficient data for rare genres**: <20 samples per genre leads to 0% classification\n3. **Sub-genre ambiguity**: Lo-Fi sub-variants are acoustically indistinguishable\n4. **Overfitting challenge**: High-dimensional feature space with limited samples\n5. **Test set size**: Only 242 samples limits statistical confidence in per-genre metrics\n\n**Recommendations for Improvement**:\n1. **Collect more data**: Target 50-100 samples per genre (currently 10 genres <20 samples)\n2. **Merge similar genres**: Combine Lo-Fi sub-genres to increase sample size\n3. **Address class imbalance**: Use SMOTE, class weights, or targeted data collection\n4. **Feature selection**: Reduce from 348 to top 50-100 most discriminative features\n5. **Ensemble voting**: Combine Logistic Regression + Random Forest for robustness\n\n**Deployment Recommendation**: \u2713 **Deploy Logistic Regression model** for web application with continuous data collection to improve rare genre performance over time."
   ]
  },
  {
   "cell_type": "markdown",
   "id": "3183a7ae",
   "metadata": {},
   "source": [
    "---\n",
    "\n",
    "## Section 10: References\n",
    "\n",
    "### Data Sources\n",
    "1. **Spotify Web API Documentation**  \n",
    "   - https://developer.spotify.com/documentation/web-api/\n",
    "   - Used for understanding streaming history JSON format and audio features\n",
    "\n",
    "2. **Personal Spotify Data Export**  \n",
    "   - https://www.spotify.com/us/account/privacy/\n",
    "   - Streaming history JSON files (2023-2025)\n",
    "\n",
    "### Python Libraries & Documentation\n",
    "\n",
    "3. **Pandas** - Data manipulation and analysis  \n",
    "   - McKinney, W. (2010). Data Structures for Statistical Computing in Python.  \n",
    "   - https://pandas.pydata.org/docs/\n",
    "\n",
    "4. **NumPy** - Numerical computing  \n",
    "   - Harris, C.R., et al. (2020). Array programming with NumPy. Nature 585, 357\u2013362.  \n",
    "   - https://numpy.org/doc/\n",
    "\n",
    "5. **Plotly** - Interactive visualizations  \n",
    "   - https://plotly.com/python/  \n",
    "   - Used for all EDA and results visualization\n",
    "\n",
    "### Machine Learning Libraries\n",
    "\n",
    "6. **Scikit-learn** - Machine learning framework  \n",
    "   - Pedregosa, F., et al. (2011). Scikit-learn: Machine Learning in Python. JMLR 12, pp. 2825-2830.  \n",
    "   - https://scikit-learn.org/stable/\n",
    "\n",
    "7. **Logistic Regression** (sklearn.linear_model.LogisticRegression)  \n",
    "   - https://scikit-learn.org/stable/modules/generated/sklearn.linear_model.LogisticRegression.html  \n",
    "   - Multinomial logistic regression with L2 regularization\n",
    "\n",
    "8. **Random Forest Classifier** (sklearn.ensemble.RandomForestClassifier)  \n",
    "   - Breiman, L. (2001). Random Forests. Machine Learning 45(1), 5-32.  \n",
    "   - https://scikit-learn.org/stable/modules/generated/sklearn.ensemble.RandomForestClassifier.html\n",
    "\n",
    "9. **Gradient Boosting Classifier** (sklearn.ensemble.GradientBoostingClassifier)  \n",
    "   - Friedman, J. H. (2001). Greedy Function Approximation: A Gradient Boosting Machine.  \n",
    "   - https://scikit-learn.org/stable/modules/generated/sklearn.ensemble.GradientBoostingClassifier.html\n",
    "\n",
    "10. **StandardScaler** (sklearn.preprocessing.StandardScaler)  \n",
    "    - https://scikit-learn.org/stable/modules/generated/sklearn.preprocessing.StandardScaler.html  \n",
    "    - Feature standardization (mean=0, std=1)\n",
    "\n",
    "11. **Stratified K-Fold Cross-Validation** (sklearn.model_selection.StratifiedKFold)  \n",
    "    - https://scikit-learn.org/stable/modules/generated/sklearn.model_selection.StratifiedKFold.html  \n",
    "    - Preserves class distribution across folds\n",
    "\n",
    "12. **Classification Metrics** (sklearn.metrics)  \n",
    "    - Accuracy, Precision, Recall, F1-Score, Confusion Matrix  \n",
    "    - https://scikit-learn.org/stable/modules/model_evaluation.html\n",
    "\n",
    "### Audio Feature Extraction (Referenced for Understanding)\n",
    "\n",
    "13. **Librosa** - Audio analysis library (reference only, not used in this project)  \n",
    "    - McFee, B., et al. (2015). librosa: Audio and Music Signal Analysis in Python.  \n",
    "    - https://librosa.org/doc/latest/index.html  \n",
    "    - Concepts: MFCC, Chroma, Spectral Contrast, Mel Spectrogram\n",
    "\n",
    "14. **Spotify Audio Analysis Endpoint**  \n",
    "    - https://developer.spotify.com/documentation/web-api/reference/get-audio-analysis  \n",
    "    - Source of array-based audio features (segments, bars, beats, tatums)\n",
    "\n",
    "### Machine Learning Methodology\n",
    "\n",
    "15. **Cross-Validation Best Practices**  \n",
    "    - Kohavi, R. (1995). A Study of Cross-Validation and Bootstrap for Accuracy Estimation and Model Selection.\n",
    "\n",
    "16. **Class Imbalance in Machine Learning**  \n",
    "    - He, H., & Garcia, E. A. (2009). Learning from Imbalanced Data. IEEE Transactions on Knowledge and Data Engineering, 21(9), 1263-1284.\n",
    "\n",
    "17. **Feature Scaling and Normalization**  \n",
    "    - Sola, J., & Sevilla, J. (1997). Importance of input data normalization for the application of neural networks to complex industrial problems.\n",
    "\n",
    "### Evaluation Metrics for Imbalanced Data\n",
    "\n",
    "18. **Macro vs Weighted F1-Score**  \n",
    "    - Sokolova, M., & Lapalme, G. (2009). A systematic analysis of performance measures for classification tasks. Information Processing & Management, 45(4), 427-437.\n",
    "\n",
    "19. **Confusion Matrix Interpretation**  \n",
    "    - Powers, D. M. (2011). Evaluation: From Precision, Recall and F-measure to ROC, Informedness, Markedness & Correlation.\n",
    "\n",
    "### Inspirational Resources (Structural Reference Only)\n",
    "\n",
    "20. **Classmate Notebook Reference** (Godson Ajodo)  \n",
    "    - Used as structural inspiration for notebook organization  \n",
    "    - NO code or analysis was copied - only section structure ideas  \n",
    "    - All code, analysis, and findings are original work\n",
    "\n",
    "### Course Materials\n",
    "\n",
    "21. **CS156: Machine Learning Fundamentals**  \n",
    "    - Course lectures on classification, cross-validation, and model evaluation  \n",
    "    - Logistic regression, decision trees, ensemble methods\n",
    "\n",
    "---\n",
    "\n",
    "**Note**: All code implementation, analysis, visualizations, and conclusions in this notebook are original work based on personal Spotify data. The classmate reference was used solely for understanding effective notebook structure and organization, not for content.\n",
    "\n",
    "---"
   ]
  },
  {
   "cell_type": "markdown",
   "id": "ed51fea9",
   "metadata": {},
   "source": [
    "**Interpretation**: The ANOVA tests assess whether features differ significantly across genres. A significant result (p < 0.05) indicates that at least one genre has a different mean for that feature, making it useful for classification.\n",
    "\n",
    "**Key findings**:\n",
    "- All tested features show **highly significant differences** (p < 0.001) across genres\n",
    "- This confirms our features have **discriminative power** for genre classification\n",
    "- The F-statistic measures the ratio of between-group variance to within-group variance:\n",
    "  - Higher F \u2192 feature varies more between genres than within genres\n",
    "  - Lower F \u2192 feature varies as much within genres as between them\n",
    "\n",
    "**Musical interpretation**:\n",
    "- **tempo**: Different genres have characteristic tempos (e.g., drum & bass is faster than ambient)\n",
    "- **rms_mean**: Loudness varies by genre (e.g., metal is louder than acoustic)\n",
    "- **spec_centroid_mean**: Timbral brightness differs (e.g., electronic music has more high frequencies)\n",
    "- **zero_crossing_mean**: Percussiveness varies (e.g., hip-hop has more transients)\n",
    "\n",
    "The box plots show:\n",
    "- **Spread**: Wide boxes indicate high within-genre variance\n",
    "- **Outliers**: Points outside whiskers represent unusual tracks\n",
    "- **Overlap**: Genres with overlapping distributions are harder to distinguish\n",
    "\n",
    "#### 4.6.4 Feature Scale Comparison\n",
    "\n",
    "Finally, let's examine the scales of our features to understand the importance of standardization."
   ]
  },
  {
   "cell_type": "markdown",
   "id": "6de5b6dc",
   "metadata": {},
   "source": [
    "**Interpretation**: The correlation analysis reveals several important patterns:\n",
    "\n",
    "1. **Perfect correlation (r = 1.0)**: `tempo` and `beat_tempo` are identical - this makes sense as they measure the same musical property. We could remove one to avoid perfect multicollinearity.\n",
    "\n",
    "2. **High spectral correlations**: Features like `spec_centroid_mean`, `spec_rolloff_mean`, and `spec_bandwidth_mean` are highly correlated (r > 0.9). This indicates they capture similar aspects of the frequency spectrum's shape. These features move together because:\n",
    "   - Higher spectral centroid \u2192 more high-frequency energy\n",
    "   - More high-frequency energy \u2192 higher spectral rolloff\n",
    "   - These are mathematically related transformations of the frequency spectrum\n",
    "\n",
    "3. **Implications for modeling**:\n",
    "   - **Logistic Regression** is sensitive to multicollinearity (can cause numerical instability)\n",
    "   - **Tree-based models** (Random Forest, Gradient Boosting) are robust to correlated features\n",
    "   - We'll proceed with all features, but acknowledge this redundancy\n",
    "\n",
    "4. **Low correlations**: Many features have weak correlations (|r| < 0.3), suggesting they capture complementary information about the audio.\n",
    "\n",
    "#### 4.6.3 Feature Distributions by Genre\n",
    "\n",
    "Let's examine how key features vary across genres to assess their discriminative power."
   ]
  },
  {
   "cell_type": "markdown",
   "id": "cbddad67",
   "metadata": {},
   "source": [
    "**Interpretation**: The genre distribution reveals a significant **class imbalance** problem. The most common genre has nearly 40\u00d7 more samples than the least common. This imbalance will affect our models:\n",
    "\n",
    "- **Logistic Regression** may be biased toward predicting common genres\n",
    "- **Random Forest** and **Gradient Boosting** handle imbalance better, but may still struggle with rare genres\n",
    "- **Evaluation metrics** must account for this - accuracy alone is misleading when classes are imbalanced\n",
    "- **Future improvement**: Could use techniques like class weights, oversampling (SMOTE), or undersampling\n",
    "\n",
    "Despite the imbalance, we retain all 20 genres because they each meet our minimum sample size threshold (\u226510 samples), which provides sufficient statistical validity for training.\n",
    "\n",
    "#### 4.6.2 Feature Correlation Analysis\n",
    "\n",
    "Next, let's examine correlations between our numerical features to identify potential redundancy."
   ]
  }
 ],
 "metadata": {
  "kernelspec": {
   "display_name": ".venv",
   "language": "python",
   "name": "python3"
  },
  "language_info": {
   "codemirror_mode": {
    "name": "ipython",
    "version": 3
   },
   "file_extension": ".py",
   "mimetype": "text/x-python",
   "name": "python",
   "nbconvert_exporter": "python",
   "pygments_lexer": "ipython3",
   "version": "3.9.6"
  }
 },
 "nbformat": 4,
 "nbformat_minor": 5
}